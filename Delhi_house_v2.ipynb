{
 "metadata": {
  "language_info": {
   "codemirror_mode": {
    "name": "ipython",
    "version": 3
   },
   "file_extension": ".py",
   "mimetype": "text/x-python",
   "name": "python",
   "nbconvert_exporter": "python",
   "pygments_lexer": "ipython3",
   "version": "3.8.5"
  },
  "orig_nbformat": 2,
  "kernelspec": {
   "name": "python385jvsc74a57bd0e155d23346b62827155103f57e5ca350ccf4337ba4320eee9d5df2ab2b3b7267",
   "display_name": "Python 3.8.5 64-bit ('base': conda)"
  }
 },
 "nbformat": 4,
 "nbformat_minor": 2,
 "cells": [
  {
   "cell_type": "code",
   "execution_count": 30,
   "metadata": {},
   "outputs": [],
   "source": [
    "import numpy as np \n",
    "import pandas as pd \n",
    "import matplotlib.pylab as plt\n",
    "import plotly.express as px \n",
    "import plotly.graph_objects as go\n",
    "%matplotlib inline\n"
   ]
  },
  {
   "cell_type": "code",
   "execution_count": 2,
   "metadata": {},
   "outputs": [],
   "source": [
    "#importing the dataset\n",
    "df =  pd.read_csv('delhi_house_price.csv' )"
   ]
  },
  {
   "cell_type": "code",
   "execution_count": 3,
   "metadata": {},
   "outputs": [
    {
     "output_type": "execute_result",
     "data": {
      "text/plain": [
       "    Area  BHK  Bathroom      Furnishing  \\\n",
       "0  800.0    3       2.0  Semi-Furnished   \n",
       "1  750.0    2       2.0  Semi-Furnished   \n",
       "2  950.0    2       2.0       Furnished   \n",
       "3  600.0    2       2.0  Semi-Furnished   \n",
       "4  650.0    2       2.0  Semi-Furnished   \n",
       "\n",
       "                                            Locality  Parking     Price  \\\n",
       "0                                   Rohini Sector 25      1.0   6500000   \n",
       "1             J R Designers Floors, Rohini Sector 24      1.0   5000000   \n",
       "2                Citizen Apartment, Rohini Sector 13      1.0  15500000   \n",
       "3                                   Rohini Sector 24      1.0   4200000   \n",
       "4  Rohini Sector 24 carpet area 650 sqft status R...      1.0   6200000   \n",
       "\n",
       "          Status   Transaction           Type  Per_Sqft  \n",
       "0  Ready_to_move  New_Property  Builder_Floor       NaN  \n",
       "1  Ready_to_move  New_Property      Apartment    6667.0  \n",
       "2  Ready_to_move        Resale      Apartment    6667.0  \n",
       "3  Ready_to_move        Resale  Builder_Floor    6667.0  \n",
       "4  Ready_to_move  New_Property  Builder_Floor    6667.0  "
      ],
      "text/html": "<div>\n<style scoped>\n    .dataframe tbody tr th:only-of-type {\n        vertical-align: middle;\n    }\n\n    .dataframe tbody tr th {\n        vertical-align: top;\n    }\n\n    .dataframe thead th {\n        text-align: right;\n    }\n</style>\n<table border=\"1\" class=\"dataframe\">\n  <thead>\n    <tr style=\"text-align: right;\">\n      <th></th>\n      <th>Area</th>\n      <th>BHK</th>\n      <th>Bathroom</th>\n      <th>Furnishing</th>\n      <th>Locality</th>\n      <th>Parking</th>\n      <th>Price</th>\n      <th>Status</th>\n      <th>Transaction</th>\n      <th>Type</th>\n      <th>Per_Sqft</th>\n    </tr>\n  </thead>\n  <tbody>\n    <tr>\n      <th>0</th>\n      <td>800.0</td>\n      <td>3</td>\n      <td>2.0</td>\n      <td>Semi-Furnished</td>\n      <td>Rohini Sector 25</td>\n      <td>1.0</td>\n      <td>6500000</td>\n      <td>Ready_to_move</td>\n      <td>New_Property</td>\n      <td>Builder_Floor</td>\n      <td>NaN</td>\n    </tr>\n    <tr>\n      <th>1</th>\n      <td>750.0</td>\n      <td>2</td>\n      <td>2.0</td>\n      <td>Semi-Furnished</td>\n      <td>J R Designers Floors, Rohini Sector 24</td>\n      <td>1.0</td>\n      <td>5000000</td>\n      <td>Ready_to_move</td>\n      <td>New_Property</td>\n      <td>Apartment</td>\n      <td>6667.0</td>\n    </tr>\n    <tr>\n      <th>2</th>\n      <td>950.0</td>\n      <td>2</td>\n      <td>2.0</td>\n      <td>Furnished</td>\n      <td>Citizen Apartment, Rohini Sector 13</td>\n      <td>1.0</td>\n      <td>15500000</td>\n      <td>Ready_to_move</td>\n      <td>Resale</td>\n      <td>Apartment</td>\n      <td>6667.0</td>\n    </tr>\n    <tr>\n      <th>3</th>\n      <td>600.0</td>\n      <td>2</td>\n      <td>2.0</td>\n      <td>Semi-Furnished</td>\n      <td>Rohini Sector 24</td>\n      <td>1.0</td>\n      <td>4200000</td>\n      <td>Ready_to_move</td>\n      <td>Resale</td>\n      <td>Builder_Floor</td>\n      <td>6667.0</td>\n    </tr>\n    <tr>\n      <th>4</th>\n      <td>650.0</td>\n      <td>2</td>\n      <td>2.0</td>\n      <td>Semi-Furnished</td>\n      <td>Rohini Sector 24 carpet area 650 sqft status R...</td>\n      <td>1.0</td>\n      <td>6200000</td>\n      <td>Ready_to_move</td>\n      <td>New_Property</td>\n      <td>Builder_Floor</td>\n      <td>6667.0</td>\n    </tr>\n  </tbody>\n</table>\n</div>"
     },
     "metadata": {},
     "execution_count": 3
    }
   ],
   "source": [
    "df.head()"
   ]
  },
  {
   "source": [
    "## Data Exploring"
   ],
   "cell_type": "markdown",
   "metadata": {}
  },
  {
   "cell_type": "code",
   "execution_count": 4,
   "metadata": {},
   "outputs": [
    {
     "output_type": "execute_result",
     "data": {
      "text/plain": [
       "(1259, 11)"
      ]
     },
     "metadata": {},
     "execution_count": 4
    }
   ],
   "source": [
    "df.shape"
   ]
  },
  {
   "cell_type": "code",
   "execution_count": 5,
   "metadata": {},
   "outputs": [
    {
     "output_type": "execute_result",
     "data": {
      "text/plain": [
       "Area             0\n",
       "BHK              0\n",
       "Bathroom         2\n",
       "Furnishing       5\n",
       "Locality         0\n",
       "Parking         33\n",
       "Price            0\n",
       "Status           0\n",
       "Transaction      0\n",
       "Type             5\n",
       "Per_Sqft       241\n",
       "dtype: int64"
      ]
     },
     "metadata": {},
     "execution_count": 5
    }
   ],
   "source": [
    "# checking Null Values\n",
    "df.isnull().sum()"
   ]
  },
  {
   "cell_type": "code",
   "execution_count": 6,
   "metadata": {},
   "outputs": [],
   "source": [
    "#creating  price_per_sqft columns to understand the data\n",
    "df['price_per_sqft'] = df['Price']/df['Area']\n",
    "df['price_per_sqft'] = df['price_per_sqft'].astype(int)"
   ]
  },
  {
   "cell_type": "code",
   "execution_count": 7,
   "metadata": {},
   "outputs": [
    {
     "output_type": "execute_result",
     "data": {
      "text/plain": [
       "    Area  BHK  Bathroom      Furnishing  \\\n",
       "0  800.0    3       2.0  Semi-Furnished   \n",
       "1  750.0    2       2.0  Semi-Furnished   \n",
       "2  950.0    2       2.0       Furnished   \n",
       "\n",
       "                                 Locality  Parking     Price         Status  \\\n",
       "0                        Rohini Sector 25      1.0   6500000  Ready_to_move   \n",
       "1  J R Designers Floors, Rohini Sector 24      1.0   5000000  Ready_to_move   \n",
       "2     Citizen Apartment, Rohini Sector 13      1.0  15500000  Ready_to_move   \n",
       "\n",
       "    Transaction           Type  Per_Sqft  price_per_sqft  \n",
       "0  New_Property  Builder_Floor       NaN            8125  \n",
       "1  New_Property      Apartment    6667.0            6666  \n",
       "2        Resale      Apartment    6667.0           16315  "
      ],
      "text/html": "<div>\n<style scoped>\n    .dataframe tbody tr th:only-of-type {\n        vertical-align: middle;\n    }\n\n    .dataframe tbody tr th {\n        vertical-align: top;\n    }\n\n    .dataframe thead th {\n        text-align: right;\n    }\n</style>\n<table border=\"1\" class=\"dataframe\">\n  <thead>\n    <tr style=\"text-align: right;\">\n      <th></th>\n      <th>Area</th>\n      <th>BHK</th>\n      <th>Bathroom</th>\n      <th>Furnishing</th>\n      <th>Locality</th>\n      <th>Parking</th>\n      <th>Price</th>\n      <th>Status</th>\n      <th>Transaction</th>\n      <th>Type</th>\n      <th>Per_Sqft</th>\n      <th>price_per_sqft</th>\n    </tr>\n  </thead>\n  <tbody>\n    <tr>\n      <th>0</th>\n      <td>800.0</td>\n      <td>3</td>\n      <td>2.0</td>\n      <td>Semi-Furnished</td>\n      <td>Rohini Sector 25</td>\n      <td>1.0</td>\n      <td>6500000</td>\n      <td>Ready_to_move</td>\n      <td>New_Property</td>\n      <td>Builder_Floor</td>\n      <td>NaN</td>\n      <td>8125</td>\n    </tr>\n    <tr>\n      <th>1</th>\n      <td>750.0</td>\n      <td>2</td>\n      <td>2.0</td>\n      <td>Semi-Furnished</td>\n      <td>J R Designers Floors, Rohini Sector 24</td>\n      <td>1.0</td>\n      <td>5000000</td>\n      <td>Ready_to_move</td>\n      <td>New_Property</td>\n      <td>Apartment</td>\n      <td>6667.0</td>\n      <td>6666</td>\n    </tr>\n    <tr>\n      <th>2</th>\n      <td>950.0</td>\n      <td>2</td>\n      <td>2.0</td>\n      <td>Furnished</td>\n      <td>Citizen Apartment, Rohini Sector 13</td>\n      <td>1.0</td>\n      <td>15500000</td>\n      <td>Ready_to_move</td>\n      <td>Resale</td>\n      <td>Apartment</td>\n      <td>6667.0</td>\n      <td>16315</td>\n    </tr>\n  </tbody>\n</table>\n</div>"
     },
     "metadata": {},
     "execution_count": 7
    }
   ],
   "source": [
    "df.head(3)"
   ]
  },
  {
   "cell_type": "code",
   "execution_count": 8,
   "metadata": {},
   "outputs": [],
   "source": [
    "# Droping null values (as we cant even out average values due to not fitting correctly)\n",
    "df = df[df['Furnishing'].notna()]\n",
    "df = df[df['Bathroom'].notna()]\n",
    "df = df[df['Parking'].notna()]\n",
    "df = df[df['Per_Sqft'].notna()]"
   ]
  },
  {
   "cell_type": "code",
   "execution_count": 9,
   "metadata": {},
   "outputs": [
    {
     "output_type": "execute_result",
     "data": {
      "text/plain": [
       "Area              0\n",
       "BHK               0\n",
       "Bathroom          0\n",
       "Furnishing        0\n",
       "Locality          0\n",
       "Parking           0\n",
       "Price             0\n",
       "Status            0\n",
       "Transaction       0\n",
       "Type              0\n",
       "Per_Sqft          0\n",
       "price_per_sqft    0\n",
       "dtype: int64"
      ]
     },
     "metadata": {},
     "execution_count": 9
    }
   ],
   "source": [
    "df.isnull().sum()"
   ]
  },
  {
   "cell_type": "code",
   "execution_count": 10,
   "metadata": {},
   "outputs": [],
   "source": [
    "# new dataframe without any null values\n",
    "df1 = df"
   ]
  },
  {
   "cell_type": "code",
   "execution_count": 11,
   "metadata": {},
   "outputs": [
    {
     "output_type": "execute_result",
     "data": {
      "text/plain": [
       "(1005, 12)"
      ]
     },
     "metadata": {},
     "execution_count": 11
    }
   ],
   "source": [
    "df1.shape"
   ]
  },
  {
   "source": [
    "## Visulizing Data's Features\n"
   ],
   "cell_type": "markdown",
   "metadata": {}
  },
  {
   "cell_type": "code",
   "execution_count": 12,
   "metadata": {},
   "outputs": [
    {
     "output_type": "execute_result",
     "data": {
      "text/plain": [
       "     Area  BHK  Bathroom      Furnishing  \\\n",
       "1   750.0    2       2.0  Semi-Furnished   \n",
       "2   950.0    2       2.0       Furnished   \n",
       "3   600.0    2       2.0  Semi-Furnished   \n",
       "4   650.0    2       2.0  Semi-Furnished   \n",
       "5  1300.0    4       3.0  Semi-Furnished   \n",
       "\n",
       "                                            Locality  Parking     Price  \\\n",
       "1             J R Designers Floors, Rohini Sector 24      1.0   5000000   \n",
       "2                Citizen Apartment, Rohini Sector 13      1.0  15500000   \n",
       "3                                   Rohini Sector 24      1.0   4200000   \n",
       "4  Rohini Sector 24 carpet area 650 sqft status R...      1.0   6200000   \n",
       "5                                   Rohini Sector 24      1.0  15500000   \n",
       "\n",
       "          Status   Transaction           Type  Per_Sqft  price_per_sqft  \n",
       "1  Ready_to_move  New_Property      Apartment    6667.0            6666  \n",
       "2  Ready_to_move        Resale      Apartment    6667.0           16315  \n",
       "3  Ready_to_move        Resale  Builder_Floor    6667.0            7000  \n",
       "4  Ready_to_move  New_Property  Builder_Floor    6667.0            9538  \n",
       "5  Ready_to_move  New_Property  Builder_Floor    6667.0           11923  "
      ],
      "text/html": "<div>\n<style scoped>\n    .dataframe tbody tr th:only-of-type {\n        vertical-align: middle;\n    }\n\n    .dataframe tbody tr th {\n        vertical-align: top;\n    }\n\n    .dataframe thead th {\n        text-align: right;\n    }\n</style>\n<table border=\"1\" class=\"dataframe\">\n  <thead>\n    <tr style=\"text-align: right;\">\n      <th></th>\n      <th>Area</th>\n      <th>BHK</th>\n      <th>Bathroom</th>\n      <th>Furnishing</th>\n      <th>Locality</th>\n      <th>Parking</th>\n      <th>Price</th>\n      <th>Status</th>\n      <th>Transaction</th>\n      <th>Type</th>\n      <th>Per_Sqft</th>\n      <th>price_per_sqft</th>\n    </tr>\n  </thead>\n  <tbody>\n    <tr>\n      <th>1</th>\n      <td>750.0</td>\n      <td>2</td>\n      <td>2.0</td>\n      <td>Semi-Furnished</td>\n      <td>J R Designers Floors, Rohini Sector 24</td>\n      <td>1.0</td>\n      <td>5000000</td>\n      <td>Ready_to_move</td>\n      <td>New_Property</td>\n      <td>Apartment</td>\n      <td>6667.0</td>\n      <td>6666</td>\n    </tr>\n    <tr>\n      <th>2</th>\n      <td>950.0</td>\n      <td>2</td>\n      <td>2.0</td>\n      <td>Furnished</td>\n      <td>Citizen Apartment, Rohini Sector 13</td>\n      <td>1.0</td>\n      <td>15500000</td>\n      <td>Ready_to_move</td>\n      <td>Resale</td>\n      <td>Apartment</td>\n      <td>6667.0</td>\n      <td>16315</td>\n    </tr>\n    <tr>\n      <th>3</th>\n      <td>600.0</td>\n      <td>2</td>\n      <td>2.0</td>\n      <td>Semi-Furnished</td>\n      <td>Rohini Sector 24</td>\n      <td>1.0</td>\n      <td>4200000</td>\n      <td>Ready_to_move</td>\n      <td>Resale</td>\n      <td>Builder_Floor</td>\n      <td>6667.0</td>\n      <td>7000</td>\n    </tr>\n    <tr>\n      <th>4</th>\n      <td>650.0</td>\n      <td>2</td>\n      <td>2.0</td>\n      <td>Semi-Furnished</td>\n      <td>Rohini Sector 24 carpet area 650 sqft status R...</td>\n      <td>1.0</td>\n      <td>6200000</td>\n      <td>Ready_to_move</td>\n      <td>New_Property</td>\n      <td>Builder_Floor</td>\n      <td>6667.0</td>\n      <td>9538</td>\n    </tr>\n    <tr>\n      <th>5</th>\n      <td>1300.0</td>\n      <td>4</td>\n      <td>3.0</td>\n      <td>Semi-Furnished</td>\n      <td>Rohini Sector 24</td>\n      <td>1.0</td>\n      <td>15500000</td>\n      <td>Ready_to_move</td>\n      <td>New_Property</td>\n      <td>Builder_Floor</td>\n      <td>6667.0</td>\n      <td>11923</td>\n    </tr>\n  </tbody>\n</table>\n</div>"
     },
     "metadata": {},
     "execution_count": 12
    }
   ],
   "source": [
    "df1.head()"
   ]
  },
  {
   "cell_type": "code",
   "execution_count": 13,
   "metadata": {},
   "outputs": [
    {
     "output_type": "execute_result",
     "data": {
      "text/plain": [
       "     Area  BHK  Bathroom      Furnishing  \\\n",
       "1   750.0    2       2.0  Semi-Furnished   \n",
       "2   950.0    2       2.0       Furnished   \n",
       "3   600.0    2       2.0  Semi-Furnished   \n",
       "4   650.0    2       2.0  Semi-Furnished   \n",
       "5  1300.0    4       3.0  Semi-Furnished   \n",
       "\n",
       "                                            Locality  Parking         Status  \\\n",
       "1             J R Designers Floors, Rohini Sector 24      1.0  Ready_to_move   \n",
       "2                Citizen Apartment, Rohini Sector 13      1.0  Ready_to_move   \n",
       "3                                   Rohini Sector 24      1.0  Ready_to_move   \n",
       "4  Rohini Sector 24 carpet area 650 sqft status R...      1.0  Ready_to_move   \n",
       "5                                   Rohini Sector 24      1.0  Ready_to_move   \n",
       "\n",
       "    Transaction           Type     Price  \n",
       "1  New_Property      Apartment   5000000  \n",
       "2        Resale      Apartment  15500000  \n",
       "3        Resale  Builder_Floor   4200000  \n",
       "4  New_Property  Builder_Floor   6200000  \n",
       "5  New_Property  Builder_Floor  15500000  "
      ],
      "text/html": "<div>\n<style scoped>\n    .dataframe tbody tr th:only-of-type {\n        vertical-align: middle;\n    }\n\n    .dataframe tbody tr th {\n        vertical-align: top;\n    }\n\n    .dataframe thead th {\n        text-align: right;\n    }\n</style>\n<table border=\"1\" class=\"dataframe\">\n  <thead>\n    <tr style=\"text-align: right;\">\n      <th></th>\n      <th>Area</th>\n      <th>BHK</th>\n      <th>Bathroom</th>\n      <th>Furnishing</th>\n      <th>Locality</th>\n      <th>Parking</th>\n      <th>Status</th>\n      <th>Transaction</th>\n      <th>Type</th>\n      <th>Price</th>\n    </tr>\n  </thead>\n  <tbody>\n    <tr>\n      <th>1</th>\n      <td>750.0</td>\n      <td>2</td>\n      <td>2.0</td>\n      <td>Semi-Furnished</td>\n      <td>J R Designers Floors, Rohini Sector 24</td>\n      <td>1.0</td>\n      <td>Ready_to_move</td>\n      <td>New_Property</td>\n      <td>Apartment</td>\n      <td>5000000</td>\n    </tr>\n    <tr>\n      <th>2</th>\n      <td>950.0</td>\n      <td>2</td>\n      <td>2.0</td>\n      <td>Furnished</td>\n      <td>Citizen Apartment, Rohini Sector 13</td>\n      <td>1.0</td>\n      <td>Ready_to_move</td>\n      <td>Resale</td>\n      <td>Apartment</td>\n      <td>15500000</td>\n    </tr>\n    <tr>\n      <th>3</th>\n      <td>600.0</td>\n      <td>2</td>\n      <td>2.0</td>\n      <td>Semi-Furnished</td>\n      <td>Rohini Sector 24</td>\n      <td>1.0</td>\n      <td>Ready_to_move</td>\n      <td>Resale</td>\n      <td>Builder_Floor</td>\n      <td>4200000</td>\n    </tr>\n    <tr>\n      <th>4</th>\n      <td>650.0</td>\n      <td>2</td>\n      <td>2.0</td>\n      <td>Semi-Furnished</td>\n      <td>Rohini Sector 24 carpet area 650 sqft status R...</td>\n      <td>1.0</td>\n      <td>Ready_to_move</td>\n      <td>New_Property</td>\n      <td>Builder_Floor</td>\n      <td>6200000</td>\n    </tr>\n    <tr>\n      <th>5</th>\n      <td>1300.0</td>\n      <td>4</td>\n      <td>3.0</td>\n      <td>Semi-Furnished</td>\n      <td>Rohini Sector 24</td>\n      <td>1.0</td>\n      <td>Ready_to_move</td>\n      <td>New_Property</td>\n      <td>Builder_Floor</td>\n      <td>15500000</td>\n    </tr>\n  </tbody>\n</table>\n</div>"
     },
     "metadata": {},
     "execution_count": 13
    }
   ],
   "source": [
    "# Removing column: per_sqft\n",
    "# Re-Shifting Price column\n",
    "df2 = df1.drop(columns=['Per_Sqft','price_per_sqft'])\n",
    "col9 = df2.pop('Price')\n",
    "df2.insert(9,'Price', col9)\n",
    "df2.head()"
   ]
  },
  {
   "cell_type": "code",
   "execution_count": 14,
   "metadata": {},
   "outputs": [
    {
     "output_type": "execute_result",
     "data": {
      "text/plain": [
       "(515, 10)"
      ]
     },
     "metadata": {},
     "execution_count": 14
    }
   ],
   "source": [
    "## removing outliers and making data frame distributed normally\n",
    "\n",
    "def remove_outliers(df):\n",
    "    df_out = pd.DataFrame()\n",
    "    for key, subdf in df2.groupby('Locality'):\n",
    "        m = np.mean(subdf.Price)\n",
    "        st = np.std(subdf.Price)\n",
    "        red_df = subdf[(subdf.Price>(m-st)) &(subdf.Price<=(m+st))]\n",
    "        df_out = pd.concat([df_out,red_df],ignore_index = True)\n",
    "    return df_out\n",
    "df3 = remove_outliers(df2)\n",
    "df3.shape"
   ]
  },
  {
   "source": [
    "## Visulising Features of Dataset "
   ],
   "cell_type": "markdown",
   "metadata": {}
  },
  {
   "cell_type": "code",
   "execution_count": 15,
   "metadata": {},
   "outputs": [
    {
     "output_type": "display_data",
     "data": {
      "application/vnd.plotly.v1+json": {
       "config": {
        "plotlyServerURL": "https://plot.ly"
       },
       "data": [
        {
         "alignmentgroup": "True",
         "bingroup": "x",
         "histfunc": "sum",
         "hovertemplate": "Area in Sqft=%{x}<br>sum of Price=%{y}<extra></extra>",
         "legendgroup": "",
         "marker": {
          "color": "indianred",
          "opacity": 0.8
         },
         "name": "",
         "offsetgroup": "",
         "orientation": "v",
         "showlegend": false,
         "type": "histogram",
         "x": [
          35,
          750,
          1400,
          1100,
          1200,
          1400,
          1320,
          1440,
          1400,
          1400,
          1100,
          1200,
          1400,
          1320,
          1440,
          1400,
          1170,
          1500,
          150,
          540,
          600,
          66,
          45,
          45,
          450,
          900,
          75,
          729,
          500,
          500,
          444,
          666,
          405,
          725,
          900,
          750,
          900,
          1300,
          700,
          1035,
          1750,
          1600,
          1116,
          1070,
          1200,
          1200,
          1450,
          1650,
          1800,
          125,
          1440,
          1900,
          1800,
          1200,
          1200,
          1050,
          875,
          11050,
          1525,
          2105,
          2090,
          2100,
          1850,
          2100,
          2105,
          2065,
          2300,
          2126,
          1500,
          2650,
          1700,
          1815,
          1700,
          1600,
          350,
          452.0838,
          1075,
          2000,
          390,
          210,
          350,
          379,
          350,
          1143,
          1646,
          1590,
          1260,
          1753,
          1150,
          530,
          720,
          900,
          400,
          1076.39,
          460,
          900,
          800,
          500,
          800,
          1000,
          1080,
          500,
          1450,
          500,
          680,
          1700,
          2070,
          1600,
          760,
          380,
          100,
          58,
          3000,
          2500,
          2200,
          2250,
          976,
          976,
          1500,
          976,
          1531,
          979.5149,
          945,
          976,
          900,
          22050,
          22050,
          270,
          2700,
          1800,
          2066,
          4500,
          1500,
          1800,
          2800,
          2050,
          4500,
          2250,
          2400,
          2100,
          2700,
          50,
          360,
          750,
          750,
          720,
          800,
          980,
          1600,
          1450,
          445,
          380,
          680,
          1600,
          630,
          1500,
          550,
          800,
          1295,
          700,
          350,
          450,
          1150,
          800,
          850,
          720,
          750,
          750,
          2200,
          2200,
          1440,
          3150,
          4500,
          2799,
          1350,
          1200,
          2177,
          1500,
          2150,
          2107,
          1150,
          1240,
          4500,
          1150,
          2000,
          810,
          1050,
          1280,
          675,
          1200,
          900,
          900,
          900,
          900,
          850,
          1350,
          850,
          1350,
          900,
          900,
          800,
          1100,
          810,
          900,
          825,
          900,
          875,
          1350,
          750,
          1600,
          1500,
          1500,
          1400,
          1800,
          1400,
          1600,
          1350,
          1700,
          1400,
          1350,
          1700,
          1600,
          800,
          990,
          450,
          1000,
          900,
          800,
          720,
          900,
          500,
          715,
          600,
          540,
          900,
          1000,
          1000,
          990,
          450,
          1000,
          1350,
          1350,
          1350,
          10350,
          4800,
          8150,
          7200,
          770,
          810,
          710,
          810,
          950,
          500,
          600,
          720,
          459,
          850,
          750,
          800,
          550,
          700,
          100,
          1500,
          1125,
          1300,
          1290,
          900,
          1000,
          1300,
          850,
          800,
          405,
          450,
          1050,
          1080,
          855,
          540,
          1044.0983,
          500,
          450,
          173,
          600,
          559.7228,
          350,
          365,
          236.8058,
          495,
          585,
          425,
          1600,
          1600,
          1425,
          1800,
          4500,
          1800,
          4500,
          2100,
          1500,
          3500,
          2000,
          2550,
          4500,
          2800,
          4500,
          700,
          1700,
          1100,
          1000,
          900,
          990,
          1457,
          1400,
          1550,
          702,
          1138,
          1400,
          1400,
          1250,
          1100,
          650,
          1800,
          900,
          1100,
          900,
          14220,
          585,
          2000,
          1530,
          100,
          1800,
          1782,
          800,
          900,
          900,
          2000,
          900,
          950,
          850,
          900,
          1500,
          990,
          2500,
          2525,
          2500,
          2552,
          2125,
          2250,
          1800,
          2340,
          1350,
          1620,
          1440,
          195,
          2572,
          2500,
          5220,
          3500,
          1700,
          900,
          1100,
          1100,
          1030,
          1300,
          1300,
          850,
          720,
          850,
          950,
          1350,
          650,
          1360,
          1550,
          1550,
          1550,
          870,
          800,
          1200,
          1250,
          1450,
          1500,
          2100,
          1800,
          2035,
          1550,
          1600,
          4000,
          4150,
          2250,
          1650,
          1700,
          2250,
          4200,
          1700,
          2100,
          2050,
          1500,
          1674,
          2025,
          1300,
          2100,
          2250,
          1500,
          2700,
          1700,
          2050,
          1800,
          2000,
          1500,
          24300,
          2475,
          2000,
          600,
          440,
          950,
          990,
          675,
          495.1394,
          700,
          900,
          1800,
          1600,
          1300,
          1350,
          850,
          1250,
          1400,
          1300,
          1100,
          1600,
          1300,
          2210,
          900,
          1000,
          750,
          1500,
          2907,
          2210,
          1100,
          810,
          2000,
          800,
          750,
          750,
          1100,
          600,
          700,
          540,
          1135,
          1135,
          1775,
          1135,
          1252,
          2000,
          1017,
          1775,
          987,
          1912,
          1775,
          1501,
          1135,
          1200,
          2200,
          3901,
          3901,
          3901,
          780,
          620,
          540,
          360,
          675,
          585,
          450,
          495,
          550,
          550,
          1100,
          1100,
          1100,
          3500,
          900,
          1100,
          1750,
          1750,
          1150,
          780,
          1460,
          1000,
          1143,
          1100,
          750,
          810,
          540,
          747,
          720,
          376.7365,
          1125,
          713,
          360,
          900,
          713,
          504,
          70,
          850,
          2430,
          2970,
          2250,
          1500,
          1512,
          630,
          324,
          720,
          675,
          700,
          675,
          720
         ],
         "xaxis": "x",
         "y": [
          4950000,
          3800000,
          19000000,
          15000000,
          17500000,
          14000000,
          15600000,
          19000000,
          19000000,
          19000000,
          15000000,
          17500000,
          14000000,
          15600000,
          19000000,
          19000000,
          7200000,
          8400000,
          2000000,
          3000000,
          4700000,
          1600000,
          5500000,
          5500000,
          1700000,
          15000000,
          3000000,
          2600000,
          1650000,
          2000000,
          2000000,
          3500000,
          6200000,
          3000000,
          4900000,
          3500000,
          3500000,
          4400000,
          3000000,
          4500000,
          6500000,
          33500000,
          14700000,
          18000000,
          22500000,
          22000000,
          22500000,
          35000000,
          40000000,
          11500000,
          22500000,
          28500000,
          29000000,
          15500000,
          16500000,
          12500000,
          17500000,
          18500000,
          14200000,
          42100000,
          44000000,
          34300000,
          37500000,
          37000000,
          36200000,
          42500000,
          58000000,
          39000000,
          35500000,
          52500000,
          40000000,
          32500000,
          17000000,
          17000000,
          3000000,
          3000000,
          12000000,
          31000000,
          2000000,
          2000000,
          1600000,
          1600000,
          1800000,
          16000000,
          20000000,
          25000000,
          25000000,
          19000000,
          16100000,
          6800000,
          7000000,
          6900000,
          3600000,
          9300000,
          3300000,
          4800000,
          7500000,
          2600000,
          6000000,
          6700000,
          7000000,
          5800000,
          7000000,
          3200000,
          3400000,
          38500000,
          37500000,
          25000000,
          6000000,
          2200000,
          5500000,
          3800000,
          67000000,
          62500000,
          65000000,
          57500000,
          24900000,
          24900000,
          24700000,
          24900000,
          25900000,
          24800000,
          24900000,
          24900000,
          6800000,
          51000000,
          51000000,
          2300000,
          42500000,
          43500000,
          60000000,
          70000000,
          45000000,
          47000000,
          70000000,
          71000000,
          85000000,
          100000000,
          65000000,
          56000000,
          100000000,
          1500000,
          1500000,
          5000000,
          5000000,
          4700000,
          5500000,
          7300000,
          13000000,
          11500000,
          2800000,
          2200000,
          4400000,
          13500000,
          4100000,
          12000000,
          3500000,
          5500000,
          10000000,
          4700000,
          2400000,
          3800000,
          10000000,
          5500000,
          7000000,
          6500000,
          5000000,
          5000000,
          47500000,
          40000000,
          26000000,
          35000000,
          47500000,
          43000000,
          26000000,
          25000000,
          51000000,
          40000000,
          45000000,
          51100000,
          25500000,
          26500000,
          55000000,
          26000000,
          38000000,
          14000000,
          9000000,
          15000000,
          10000000,
          14500000,
          6200000,
          12500000,
          10000000,
          15800000,
          14600000,
          12500000,
          14600000,
          22000000,
          13400000,
          12500000,
          14500000,
          22500000,
          15500000,
          15800000,
          15000000,
          13000000,
          15000000,
          25000000,
          16500000,
          30000000,
          31500000,
          40000000,
          24500000,
          24500000,
          32500000,
          26000000,
          21000000,
          27500000,
          32500000,
          21000000,
          28000000,
          29500000,
          5400000,
          4000000,
          3500000,
          7500000,
          7000000,
          4500000,
          5500000,
          6600000,
          3700000,
          5600000,
          7000000,
          3500000,
          6000000,
          6000000,
          7500000,
          4000000,
          3500000,
          5000000,
          5130000,
          5130000,
          5130000,
          160000000,
          85000000,
          170000000,
          120000000,
          3790000,
          4200000,
          2900000,
          3800000,
          5000000,
          3200000,
          3000000,
          4500000,
          2200000,
          8500000,
          11500000,
          12000000,
          10700000,
          9000000,
          17000000,
          13000000,
          8100000,
          10000000,
          20000000,
          9000000,
          7000000,
          11500000,
          2800000,
          4500000,
          1800000,
          1700000,
          5600000,
          6000000,
          4000000,
          1700000,
          6000000,
          2100000,
          1700000,
          3500000,
          3200000,
          2850000,
          2500000,
          3500000,
          2000000,
          1750000,
          1900000,
          2200000,
          20000000,
          20000000,
          9300000,
          26000000,
          60000000,
          65000000,
          75000000,
          56000000,
          60000000,
          58000000,
          70000000,
          60000000,
          70000000,
          75000000,
          55000000,
          3500000,
          8500000,
          6000000,
          5500000,
          8000000,
          25000000,
          23000000,
          17500000,
          19500000,
          14200000,
          13500000,
          16500000,
          16500000,
          5800000,
          6000000,
          3800000,
          5500000,
          8500000,
          13100000,
          12500000,
          27500000,
          7000000,
          37500000,
          26500000,
          16000000,
          27000000,
          15000000,
          8000000,
          9500000,
          7400000,
          15000000,
          10400000,
          8000000,
          5900000,
          12000000,
          12500000,
          28000000,
          42500000,
          43200000,
          52500000,
          42500000,
          36500000,
          37500000,
          27500000,
          26000000,
          23500000,
          29000000,
          24500000,
          28000000,
          35000000,
          80000000,
          65000000,
          75100000,
          29000000,
          6000000,
          6200000,
          6200000,
          6200000,
          15000000,
          15000000,
          6500000,
          6000000,
          7300000,
          7600000,
          10000000,
          6000000,
          13500000,
          12500000,
          13000000,
          13000000,
          7700000,
          7000000,
          6800000,
          24000000,
          45000000,
          37500000,
          55000000,
          87500000,
          65000000,
          38000000,
          22500000,
          72500000,
          82500000,
          55000000,
          35000000,
          52500000,
          80000000,
          74000000,
          29500000,
          25500000,
          47500000,
          28500000,
          45000000,
          30500000,
          22500000,
          25000000,
          33700000,
          27000000,
          43500000,
          30000000,
          52100000,
          32500000,
          25000000,
          30000000,
          51000000,
          31000000,
          37500000,
          8000000,
          2700000,
          5500000,
          4100000,
          3300000,
          1900000,
          2500000,
          15000000,
          19000000,
          18800000,
          16000000,
          20000000,
          13500000,
          17500000,
          19000000,
          15500000,
          13500000,
          21000000,
          20000000,
          41000000,
          11000000,
          11700000,
          13500000,
          16000000,
          30000000,
          41000000,
          12500000,
          14500000,
          27500000,
          5000000,
          4500000,
          4000000,
          6000000,
          4500000,
          2600000,
          2350000,
          25000000,
          25000000,
          25500000,
          25000000,
          18500000,
          39700000,
          22000000,
          25500000,
          17000000,
          27500000,
          25500000,
          20000000,
          24500000,
          20900000,
          43100000,
          93000000,
          93000000,
          93000000,
          4000000,
          3100000,
          2500000,
          2000000,
          2900000,
          3200000,
          1850000,
          2150000,
          1900000,
          2000000,
          15000000,
          15500000,
          16500000,
          22500000,
          20000000,
          15000000,
          29000000,
          29000000,
          12000000,
          7500000,
          12000000,
          22000000,
          22000000,
          22500000,
          11500000,
          6000000,
          2700000,
          6500000,
          4000000,
          3000000,
          5000000,
          6000000,
          2500000,
          6500000,
          8000000,
          2700000,
          4500000,
          5700000,
          25000000,
          26500000,
          18500000,
          30000000,
          22000000,
          22500000,
          8700000,
          22000000,
          18500000,
          16000000,
          16000000,
          9000000
         ],
         "yaxis": "y"
        }
       ],
       "layout": {
        "bargap": 0.3,
        "bargroupgap": 0,
        "barmode": "group",
        "height": 420,
        "legend": {
         "tracegroupgap": 0
        },
        "template": {
         "data": {
          "bar": [
           {
            "error_x": {
             "color": "#2a3f5f"
            },
            "error_y": {
             "color": "#2a3f5f"
            },
            "marker": {
             "line": {
              "color": "#E5ECF6",
              "width": 0.5
             }
            },
            "type": "bar"
           }
          ],
          "barpolar": [
           {
            "marker": {
             "line": {
              "color": "#E5ECF6",
              "width": 0.5
             }
            },
            "type": "barpolar"
           }
          ],
          "carpet": [
           {
            "aaxis": {
             "endlinecolor": "#2a3f5f",
             "gridcolor": "white",
             "linecolor": "white",
             "minorgridcolor": "white",
             "startlinecolor": "#2a3f5f"
            },
            "baxis": {
             "endlinecolor": "#2a3f5f",
             "gridcolor": "white",
             "linecolor": "white",
             "minorgridcolor": "white",
             "startlinecolor": "#2a3f5f"
            },
            "type": "carpet"
           }
          ],
          "choropleth": [
           {
            "colorbar": {
             "outlinewidth": 0,
             "ticks": ""
            },
            "type": "choropleth"
           }
          ],
          "contour": [
           {
            "colorbar": {
             "outlinewidth": 0,
             "ticks": ""
            },
            "colorscale": [
             [
              0,
              "#0d0887"
             ],
             [
              0.1111111111111111,
              "#46039f"
             ],
             [
              0.2222222222222222,
              "#7201a8"
             ],
             [
              0.3333333333333333,
              "#9c179e"
             ],
             [
              0.4444444444444444,
              "#bd3786"
             ],
             [
              0.5555555555555556,
              "#d8576b"
             ],
             [
              0.6666666666666666,
              "#ed7953"
             ],
             [
              0.7777777777777778,
              "#fb9f3a"
             ],
             [
              0.8888888888888888,
              "#fdca26"
             ],
             [
              1,
              "#f0f921"
             ]
            ],
            "type": "contour"
           }
          ],
          "contourcarpet": [
           {
            "colorbar": {
             "outlinewidth": 0,
             "ticks": ""
            },
            "type": "contourcarpet"
           }
          ],
          "heatmap": [
           {
            "colorbar": {
             "outlinewidth": 0,
             "ticks": ""
            },
            "colorscale": [
             [
              0,
              "#0d0887"
             ],
             [
              0.1111111111111111,
              "#46039f"
             ],
             [
              0.2222222222222222,
              "#7201a8"
             ],
             [
              0.3333333333333333,
              "#9c179e"
             ],
             [
              0.4444444444444444,
              "#bd3786"
             ],
             [
              0.5555555555555556,
              "#d8576b"
             ],
             [
              0.6666666666666666,
              "#ed7953"
             ],
             [
              0.7777777777777778,
              "#fb9f3a"
             ],
             [
              0.8888888888888888,
              "#fdca26"
             ],
             [
              1,
              "#f0f921"
             ]
            ],
            "type": "heatmap"
           }
          ],
          "heatmapgl": [
           {
            "colorbar": {
             "outlinewidth": 0,
             "ticks": ""
            },
            "colorscale": [
             [
              0,
              "#0d0887"
             ],
             [
              0.1111111111111111,
              "#46039f"
             ],
             [
              0.2222222222222222,
              "#7201a8"
             ],
             [
              0.3333333333333333,
              "#9c179e"
             ],
             [
              0.4444444444444444,
              "#bd3786"
             ],
             [
              0.5555555555555556,
              "#d8576b"
             ],
             [
              0.6666666666666666,
              "#ed7953"
             ],
             [
              0.7777777777777778,
              "#fb9f3a"
             ],
             [
              0.8888888888888888,
              "#fdca26"
             ],
             [
              1,
              "#f0f921"
             ]
            ],
            "type": "heatmapgl"
           }
          ],
          "histogram": [
           {
            "marker": {
             "colorbar": {
              "outlinewidth": 0,
              "ticks": ""
             }
            },
            "type": "histogram"
           }
          ],
          "histogram2d": [
           {
            "colorbar": {
             "outlinewidth": 0,
             "ticks": ""
            },
            "colorscale": [
             [
              0,
              "#0d0887"
             ],
             [
              0.1111111111111111,
              "#46039f"
             ],
             [
              0.2222222222222222,
              "#7201a8"
             ],
             [
              0.3333333333333333,
              "#9c179e"
             ],
             [
              0.4444444444444444,
              "#bd3786"
             ],
             [
              0.5555555555555556,
              "#d8576b"
             ],
             [
              0.6666666666666666,
              "#ed7953"
             ],
             [
              0.7777777777777778,
              "#fb9f3a"
             ],
             [
              0.8888888888888888,
              "#fdca26"
             ],
             [
              1,
              "#f0f921"
             ]
            ],
            "type": "histogram2d"
           }
          ],
          "histogram2dcontour": [
           {
            "colorbar": {
             "outlinewidth": 0,
             "ticks": ""
            },
            "colorscale": [
             [
              0,
              "#0d0887"
             ],
             [
              0.1111111111111111,
              "#46039f"
             ],
             [
              0.2222222222222222,
              "#7201a8"
             ],
             [
              0.3333333333333333,
              "#9c179e"
             ],
             [
              0.4444444444444444,
              "#bd3786"
             ],
             [
              0.5555555555555556,
              "#d8576b"
             ],
             [
              0.6666666666666666,
              "#ed7953"
             ],
             [
              0.7777777777777778,
              "#fb9f3a"
             ],
             [
              0.8888888888888888,
              "#fdca26"
             ],
             [
              1,
              "#f0f921"
             ]
            ],
            "type": "histogram2dcontour"
           }
          ],
          "mesh3d": [
           {
            "colorbar": {
             "outlinewidth": 0,
             "ticks": ""
            },
            "type": "mesh3d"
           }
          ],
          "parcoords": [
           {
            "line": {
             "colorbar": {
              "outlinewidth": 0,
              "ticks": ""
             }
            },
            "type": "parcoords"
           }
          ],
          "pie": [
           {
            "automargin": true,
            "type": "pie"
           }
          ],
          "scatter": [
           {
            "marker": {
             "colorbar": {
              "outlinewidth": 0,
              "ticks": ""
             }
            },
            "type": "scatter"
           }
          ],
          "scatter3d": [
           {
            "line": {
             "colorbar": {
              "outlinewidth": 0,
              "ticks": ""
             }
            },
            "marker": {
             "colorbar": {
              "outlinewidth": 0,
              "ticks": ""
             }
            },
            "type": "scatter3d"
           }
          ],
          "scattercarpet": [
           {
            "marker": {
             "colorbar": {
              "outlinewidth": 0,
              "ticks": ""
             }
            },
            "type": "scattercarpet"
           }
          ],
          "scattergeo": [
           {
            "marker": {
             "colorbar": {
              "outlinewidth": 0,
              "ticks": ""
             }
            },
            "type": "scattergeo"
           }
          ],
          "scattergl": [
           {
            "marker": {
             "colorbar": {
              "outlinewidth": 0,
              "ticks": ""
             }
            },
            "type": "scattergl"
           }
          ],
          "scattermapbox": [
           {
            "marker": {
             "colorbar": {
              "outlinewidth": 0,
              "ticks": ""
             }
            },
            "type": "scattermapbox"
           }
          ],
          "scatterpolar": [
           {
            "marker": {
             "colorbar": {
              "outlinewidth": 0,
              "ticks": ""
             }
            },
            "type": "scatterpolar"
           }
          ],
          "scatterpolargl": [
           {
            "marker": {
             "colorbar": {
              "outlinewidth": 0,
              "ticks": ""
             }
            },
            "type": "scatterpolargl"
           }
          ],
          "scatterternary": [
           {
            "marker": {
             "colorbar": {
              "outlinewidth": 0,
              "ticks": ""
             }
            },
            "type": "scatterternary"
           }
          ],
          "surface": [
           {
            "colorbar": {
             "outlinewidth": 0,
             "ticks": ""
            },
            "colorscale": [
             [
              0,
              "#0d0887"
             ],
             [
              0.1111111111111111,
              "#46039f"
             ],
             [
              0.2222222222222222,
              "#7201a8"
             ],
             [
              0.3333333333333333,
              "#9c179e"
             ],
             [
              0.4444444444444444,
              "#bd3786"
             ],
             [
              0.5555555555555556,
              "#d8576b"
             ],
             [
              0.6666666666666666,
              "#ed7953"
             ],
             [
              0.7777777777777778,
              "#fb9f3a"
             ],
             [
              0.8888888888888888,
              "#fdca26"
             ],
             [
              1,
              "#f0f921"
             ]
            ],
            "type": "surface"
           }
          ],
          "table": [
           {
            "cells": {
             "fill": {
              "color": "#EBF0F8"
             },
             "line": {
              "color": "white"
             }
            },
            "header": {
             "fill": {
              "color": "#C8D4E3"
             },
             "line": {
              "color": "white"
             }
            },
            "type": "table"
           }
          ]
         },
         "layout": {
          "annotationdefaults": {
           "arrowcolor": "#2a3f5f",
           "arrowhead": 0,
           "arrowwidth": 1
          },
          "autotypenumbers": "strict",
          "coloraxis": {
           "colorbar": {
            "outlinewidth": 0,
            "ticks": ""
           }
          },
          "colorscale": {
           "diverging": [
            [
             0,
             "#8e0152"
            ],
            [
             0.1,
             "#c51b7d"
            ],
            [
             0.2,
             "#de77ae"
            ],
            [
             0.3,
             "#f1b6da"
            ],
            [
             0.4,
             "#fde0ef"
            ],
            [
             0.5,
             "#f7f7f7"
            ],
            [
             0.6,
             "#e6f5d0"
            ],
            [
             0.7,
             "#b8e186"
            ],
            [
             0.8,
             "#7fbc41"
            ],
            [
             0.9,
             "#4d9221"
            ],
            [
             1,
             "#276419"
            ]
           ],
           "sequential": [
            [
             0,
             "#0d0887"
            ],
            [
             0.1111111111111111,
             "#46039f"
            ],
            [
             0.2222222222222222,
             "#7201a8"
            ],
            [
             0.3333333333333333,
             "#9c179e"
            ],
            [
             0.4444444444444444,
             "#bd3786"
            ],
            [
             0.5555555555555556,
             "#d8576b"
            ],
            [
             0.6666666666666666,
             "#ed7953"
            ],
            [
             0.7777777777777778,
             "#fb9f3a"
            ],
            [
             0.8888888888888888,
             "#fdca26"
            ],
            [
             1,
             "#f0f921"
            ]
           ],
           "sequentialminus": [
            [
             0,
             "#0d0887"
            ],
            [
             0.1111111111111111,
             "#46039f"
            ],
            [
             0.2222222222222222,
             "#7201a8"
            ],
            [
             0.3333333333333333,
             "#9c179e"
            ],
            [
             0.4444444444444444,
             "#bd3786"
            ],
            [
             0.5555555555555556,
             "#d8576b"
            ],
            [
             0.6666666666666666,
             "#ed7953"
            ],
            [
             0.7777777777777778,
             "#fb9f3a"
            ],
            [
             0.8888888888888888,
             "#fdca26"
            ],
            [
             1,
             "#f0f921"
            ]
           ]
          },
          "colorway": [
           "#636efa",
           "#EF553B",
           "#00cc96",
           "#ab63fa",
           "#FFA15A",
           "#19d3f3",
           "#FF6692",
           "#B6E880",
           "#FF97FF",
           "#FECB52"
          ],
          "font": {
           "color": "#2a3f5f"
          },
          "geo": {
           "bgcolor": "white",
           "lakecolor": "white",
           "landcolor": "#E5ECF6",
           "showlakes": true,
           "showland": true,
           "subunitcolor": "white"
          },
          "hoverlabel": {
           "align": "left"
          },
          "hovermode": "closest",
          "mapbox": {
           "style": "light"
          },
          "paper_bgcolor": "white",
          "plot_bgcolor": "#E5ECF6",
          "polar": {
           "angularaxis": {
            "gridcolor": "white",
            "linecolor": "white",
            "ticks": ""
           },
           "bgcolor": "#E5ECF6",
           "radialaxis": {
            "gridcolor": "white",
            "linecolor": "white",
            "ticks": ""
           }
          },
          "scene": {
           "xaxis": {
            "backgroundcolor": "#E5ECF6",
            "gridcolor": "white",
            "gridwidth": 2,
            "linecolor": "white",
            "showbackground": true,
            "ticks": "",
            "zerolinecolor": "white"
           },
           "yaxis": {
            "backgroundcolor": "#E5ECF6",
            "gridcolor": "white",
            "gridwidth": 2,
            "linecolor": "white",
            "showbackground": true,
            "ticks": "",
            "zerolinecolor": "white"
           },
           "zaxis": {
            "backgroundcolor": "#E5ECF6",
            "gridcolor": "white",
            "gridwidth": 2,
            "linecolor": "white",
            "showbackground": true,
            "ticks": "",
            "zerolinecolor": "white"
           }
          },
          "shapedefaults": {
           "line": {
            "color": "#2a3f5f"
           }
          },
          "ternary": {
           "aaxis": {
            "gridcolor": "white",
            "linecolor": "white",
            "ticks": ""
           },
           "baxis": {
            "gridcolor": "white",
            "linecolor": "white",
            "ticks": ""
           },
           "bgcolor": "#E5ECF6",
           "caxis": {
            "gridcolor": "white",
            "linecolor": "white",
            "ticks": ""
           }
          },
          "title": {
           "x": 0.05
          },
          "xaxis": {
           "automargin": true,
           "gridcolor": "white",
           "linecolor": "white",
           "ticks": "",
           "title": {
            "standoff": 15
           },
           "zerolinecolor": "white",
           "zerolinewidth": 2
          },
          "yaxis": {
           "automargin": true,
           "gridcolor": "white",
           "linecolor": "white",
           "ticks": "",
           "title": {
            "standoff": 15
           },
           "zerolinecolor": "white",
           "zerolinewidth": 2
          }
         }
        },
        "title": {
         "text": "Area vs Price"
        },
        "width": 1080,
        "xaxis": {
         "anchor": "y",
         "domain": [
          0,
          1
         ],
         "title": {
          "text": "Area in Sqft"
         }
        },
        "yaxis": {
         "anchor": "x",
         "domain": [
          0,
          1
         ],
         "title": {
          "text": "sum of Price"
         }
        }
       }
      }
     },
     "metadata": {}
    }
   ],
   "source": [
    "#Area and Price relation\n",
    "fig = px.histogram(df3,x='Area',y='Price',\n",
    "                    title='Area vs Price',\n",
    "                    opacity=0.8,\n",
    "                    color_discrete_sequence=['indianred'],\n",
    "                    labels={'Area':'Area in Sqft', 'Price':'Price'})\n",
    "fig.update_layout(barmode='group', bargap=0.30,bargroupgap=0.0,height=420,width=1080)\n",
    "fig.show()\n"
   ]
  },
  {
   "cell_type": "code",
   "execution_count": 16,
   "metadata": {},
   "outputs": [
    {
     "output_type": "display_data",
     "data": {
      "application/vnd.plotly.v1+json": {
       "config": {
        "plotlyServerURL": "https://plot.ly"
       },
       "data": [
        {
         "alignmentgroup": "True",
         "bingroup": "x",
         "hovertemplate": "Type of House=%{x}<br>count=%{y}<extra></extra>",
         "legendgroup": "Apartment",
         "marker": {
          "color": "#636efa",
          "opacity": 0.8
         },
         "name": "Apartment",
         "offsetgroup": "Apartment",
         "orientation": "v",
         "showlegend": true,
         "type": "histogram",
         "x": [
          "Apartment",
          "Apartment",
          "Apartment",
          "Apartment",
          "Apartment",
          "Apartment",
          "Apartment",
          "Apartment",
          "Apartment",
          "Apartment",
          "Apartment",
          "Apartment",
          "Apartment",
          "Apartment",
          "Apartment",
          "Apartment",
          "Apartment",
          "Apartment",
          "Apartment",
          "Apartment",
          "Apartment",
          "Apartment",
          "Apartment",
          "Apartment",
          "Apartment",
          "Apartment",
          "Apartment",
          "Apartment",
          "Apartment",
          "Apartment",
          "Apartment",
          "Apartment",
          "Apartment",
          "Apartment",
          "Apartment",
          "Apartment",
          "Apartment",
          "Apartment",
          "Apartment",
          "Apartment",
          "Apartment",
          "Apartment",
          "Apartment",
          "Apartment",
          "Apartment",
          "Apartment",
          "Apartment",
          "Apartment",
          "Apartment",
          "Apartment",
          "Apartment",
          "Apartment",
          "Apartment",
          "Apartment",
          "Apartment",
          "Apartment",
          "Apartment",
          "Apartment",
          "Apartment",
          "Apartment",
          "Apartment",
          "Apartment",
          "Apartment",
          "Apartment",
          "Apartment",
          "Apartment",
          "Apartment",
          "Apartment",
          "Apartment",
          "Apartment",
          "Apartment",
          "Apartment",
          "Apartment",
          "Apartment",
          "Apartment",
          "Apartment",
          "Apartment",
          "Apartment",
          "Apartment",
          "Apartment",
          "Apartment",
          "Apartment",
          "Apartment",
          "Apartment",
          "Apartment",
          "Apartment",
          "Apartment",
          "Apartment",
          "Apartment",
          "Apartment",
          "Apartment",
          "Apartment",
          "Apartment",
          "Apartment",
          "Apartment",
          "Apartment",
          "Apartment",
          "Apartment",
          "Apartment",
          "Apartment",
          "Apartment",
          "Apartment",
          "Apartment",
          "Apartment",
          "Apartment",
          "Apartment",
          "Apartment",
          "Apartment",
          "Apartment",
          "Apartment",
          "Apartment",
          "Apartment",
          "Apartment",
          "Apartment",
          "Apartment",
          "Apartment",
          "Apartment",
          "Apartment",
          "Apartment",
          "Apartment",
          "Apartment",
          "Apartment",
          "Apartment",
          "Apartment",
          "Apartment",
          "Apartment",
          "Apartment",
          "Apartment",
          "Apartment",
          "Apartment",
          "Apartment",
          "Apartment",
          "Apartment",
          "Apartment",
          "Apartment",
          "Apartment",
          "Apartment",
          "Apartment",
          "Apartment",
          "Apartment",
          "Apartment",
          "Apartment",
          "Apartment",
          "Apartment",
          "Apartment",
          "Apartment",
          "Apartment",
          "Apartment",
          "Apartment",
          "Apartment",
          "Apartment",
          "Apartment",
          "Apartment",
          "Apartment",
          "Apartment",
          "Apartment",
          "Apartment",
          "Apartment",
          "Apartment",
          "Apartment",
          "Apartment",
          "Apartment",
          "Apartment",
          "Apartment",
          "Apartment",
          "Apartment",
          "Apartment",
          "Apartment",
          "Apartment",
          "Apartment",
          "Apartment",
          "Apartment",
          "Apartment",
          "Apartment",
          "Apartment",
          "Apartment",
          "Apartment",
          "Apartment",
          "Apartment",
          "Apartment",
          "Apartment",
          "Apartment",
          "Apartment",
          "Apartment",
          "Apartment",
          "Apartment",
          "Apartment",
          "Apartment",
          "Apartment",
          "Apartment",
          "Apartment",
          "Apartment",
          "Apartment",
          "Apartment",
          "Apartment",
          "Apartment",
          "Apartment",
          "Apartment",
          "Apartment",
          "Apartment",
          "Apartment",
          "Apartment",
          "Apartment",
          "Apartment",
          "Apartment"
         ],
         "xaxis": "x",
         "yaxis": "y"
        },
        {
         "alignmentgroup": "True",
         "bingroup": "x",
         "hovertemplate": "Type of House=%{x}<br>count=%{y}<extra></extra>",
         "legendgroup": "Builder_Floor",
         "marker": {
          "color": "#EF553B",
          "opacity": 0.8
         },
         "name": "Builder_Floor",
         "offsetgroup": "Builder_Floor",
         "orientation": "v",
         "showlegend": true,
         "type": "histogram",
         "x": [
          "Builder_Floor",
          "Builder_Floor",
          "Builder_Floor",
          "Builder_Floor",
          "Builder_Floor",
          "Builder_Floor",
          "Builder_Floor",
          "Builder_Floor",
          "Builder_Floor",
          "Builder_Floor",
          "Builder_Floor",
          "Builder_Floor",
          "Builder_Floor",
          "Builder_Floor",
          "Builder_Floor",
          "Builder_Floor",
          "Builder_Floor",
          "Builder_Floor",
          "Builder_Floor",
          "Builder_Floor",
          "Builder_Floor",
          "Builder_Floor",
          "Builder_Floor",
          "Builder_Floor",
          "Builder_Floor",
          "Builder_Floor",
          "Builder_Floor",
          "Builder_Floor",
          "Builder_Floor",
          "Builder_Floor",
          "Builder_Floor",
          "Builder_Floor",
          "Builder_Floor",
          "Builder_Floor",
          "Builder_Floor",
          "Builder_Floor",
          "Builder_Floor",
          "Builder_Floor",
          "Builder_Floor",
          "Builder_Floor",
          "Builder_Floor",
          "Builder_Floor",
          "Builder_Floor",
          "Builder_Floor",
          "Builder_Floor",
          "Builder_Floor",
          "Builder_Floor",
          "Builder_Floor",
          "Builder_Floor",
          "Builder_Floor",
          "Builder_Floor",
          "Builder_Floor",
          "Builder_Floor",
          "Builder_Floor",
          "Builder_Floor",
          "Builder_Floor",
          "Builder_Floor",
          "Builder_Floor",
          "Builder_Floor",
          "Builder_Floor",
          "Builder_Floor",
          "Builder_Floor",
          "Builder_Floor",
          "Builder_Floor",
          "Builder_Floor",
          "Builder_Floor",
          "Builder_Floor",
          "Builder_Floor",
          "Builder_Floor",
          "Builder_Floor",
          "Builder_Floor",
          "Builder_Floor",
          "Builder_Floor",
          "Builder_Floor",
          "Builder_Floor",
          "Builder_Floor",
          "Builder_Floor",
          "Builder_Floor",
          "Builder_Floor",
          "Builder_Floor",
          "Builder_Floor",
          "Builder_Floor",
          "Builder_Floor",
          "Builder_Floor",
          "Builder_Floor",
          "Builder_Floor",
          "Builder_Floor",
          "Builder_Floor",
          "Builder_Floor",
          "Builder_Floor",
          "Builder_Floor",
          "Builder_Floor",
          "Builder_Floor",
          "Builder_Floor",
          "Builder_Floor",
          "Builder_Floor",
          "Builder_Floor",
          "Builder_Floor",
          "Builder_Floor",
          "Builder_Floor",
          "Builder_Floor",
          "Builder_Floor",
          "Builder_Floor",
          "Builder_Floor",
          "Builder_Floor",
          "Builder_Floor",
          "Builder_Floor",
          "Builder_Floor",
          "Builder_Floor",
          "Builder_Floor",
          "Builder_Floor",
          "Builder_Floor",
          "Builder_Floor",
          "Builder_Floor",
          "Builder_Floor",
          "Builder_Floor",
          "Builder_Floor",
          "Builder_Floor",
          "Builder_Floor",
          "Builder_Floor",
          "Builder_Floor",
          "Builder_Floor",
          "Builder_Floor",
          "Builder_Floor",
          "Builder_Floor",
          "Builder_Floor",
          "Builder_Floor",
          "Builder_Floor",
          "Builder_Floor",
          "Builder_Floor",
          "Builder_Floor",
          "Builder_Floor",
          "Builder_Floor",
          "Builder_Floor",
          "Builder_Floor",
          "Builder_Floor",
          "Builder_Floor",
          "Builder_Floor",
          "Builder_Floor",
          "Builder_Floor",
          "Builder_Floor",
          "Builder_Floor",
          "Builder_Floor",
          "Builder_Floor",
          "Builder_Floor",
          "Builder_Floor",
          "Builder_Floor",
          "Builder_Floor",
          "Builder_Floor",
          "Builder_Floor",
          "Builder_Floor",
          "Builder_Floor",
          "Builder_Floor",
          "Builder_Floor",
          "Builder_Floor",
          "Builder_Floor",
          "Builder_Floor",
          "Builder_Floor",
          "Builder_Floor",
          "Builder_Floor",
          "Builder_Floor",
          "Builder_Floor",
          "Builder_Floor",
          "Builder_Floor",
          "Builder_Floor",
          "Builder_Floor",
          "Builder_Floor",
          "Builder_Floor",
          "Builder_Floor",
          "Builder_Floor",
          "Builder_Floor",
          "Builder_Floor",
          "Builder_Floor",
          "Builder_Floor",
          "Builder_Floor",
          "Builder_Floor",
          "Builder_Floor",
          "Builder_Floor",
          "Builder_Floor",
          "Builder_Floor",
          "Builder_Floor",
          "Builder_Floor",
          "Builder_Floor",
          "Builder_Floor",
          "Builder_Floor",
          "Builder_Floor",
          "Builder_Floor",
          "Builder_Floor",
          "Builder_Floor",
          "Builder_Floor",
          "Builder_Floor",
          "Builder_Floor",
          "Builder_Floor",
          "Builder_Floor",
          "Builder_Floor",
          "Builder_Floor",
          "Builder_Floor",
          "Builder_Floor",
          "Builder_Floor",
          "Builder_Floor",
          "Builder_Floor",
          "Builder_Floor",
          "Builder_Floor",
          "Builder_Floor",
          "Builder_Floor",
          "Builder_Floor",
          "Builder_Floor",
          "Builder_Floor",
          "Builder_Floor",
          "Builder_Floor",
          "Builder_Floor",
          "Builder_Floor",
          "Builder_Floor",
          "Builder_Floor",
          "Builder_Floor",
          "Builder_Floor",
          "Builder_Floor",
          "Builder_Floor",
          "Builder_Floor",
          "Builder_Floor",
          "Builder_Floor",
          "Builder_Floor",
          "Builder_Floor",
          "Builder_Floor",
          "Builder_Floor",
          "Builder_Floor",
          "Builder_Floor",
          "Builder_Floor",
          "Builder_Floor",
          "Builder_Floor",
          "Builder_Floor",
          "Builder_Floor",
          "Builder_Floor",
          "Builder_Floor",
          "Builder_Floor",
          "Builder_Floor",
          "Builder_Floor",
          "Builder_Floor",
          "Builder_Floor",
          "Builder_Floor",
          "Builder_Floor",
          "Builder_Floor",
          "Builder_Floor",
          "Builder_Floor",
          "Builder_Floor",
          "Builder_Floor",
          "Builder_Floor",
          "Builder_Floor",
          "Builder_Floor",
          "Builder_Floor",
          "Builder_Floor",
          "Builder_Floor",
          "Builder_Floor",
          "Builder_Floor",
          "Builder_Floor",
          "Builder_Floor",
          "Builder_Floor",
          "Builder_Floor",
          "Builder_Floor",
          "Builder_Floor",
          "Builder_Floor",
          "Builder_Floor",
          "Builder_Floor",
          "Builder_Floor",
          "Builder_Floor",
          "Builder_Floor",
          "Builder_Floor",
          "Builder_Floor",
          "Builder_Floor",
          "Builder_Floor",
          "Builder_Floor",
          "Builder_Floor",
          "Builder_Floor",
          "Builder_Floor",
          "Builder_Floor",
          "Builder_Floor",
          "Builder_Floor",
          "Builder_Floor",
          "Builder_Floor",
          "Builder_Floor",
          "Builder_Floor",
          "Builder_Floor",
          "Builder_Floor",
          "Builder_Floor",
          "Builder_Floor",
          "Builder_Floor",
          "Builder_Floor",
          "Builder_Floor",
          "Builder_Floor",
          "Builder_Floor",
          "Builder_Floor",
          "Builder_Floor",
          "Builder_Floor",
          "Builder_Floor",
          "Builder_Floor",
          "Builder_Floor",
          "Builder_Floor",
          "Builder_Floor",
          "Builder_Floor",
          "Builder_Floor",
          "Builder_Floor",
          "Builder_Floor",
          "Builder_Floor",
          "Builder_Floor",
          "Builder_Floor",
          "Builder_Floor",
          "Builder_Floor",
          "Builder_Floor",
          "Builder_Floor",
          "Builder_Floor"
         ],
         "xaxis": "x",
         "yaxis": "y"
        }
       ],
       "layout": {
        "bargap": 0.1,
        "bargroupgap": 0,
        "barmode": "group",
        "height": 520,
        "legend": {
         "title": {
          "text": "Type of House"
         },
         "tracegroupgap": 0
        },
        "template": {
         "data": {
          "bar": [
           {
            "error_x": {
             "color": "#2a3f5f"
            },
            "error_y": {
             "color": "#2a3f5f"
            },
            "marker": {
             "line": {
              "color": "#E5ECF6",
              "width": 0.5
             }
            },
            "type": "bar"
           }
          ],
          "barpolar": [
           {
            "marker": {
             "line": {
              "color": "#E5ECF6",
              "width": 0.5
             }
            },
            "type": "barpolar"
           }
          ],
          "carpet": [
           {
            "aaxis": {
             "endlinecolor": "#2a3f5f",
             "gridcolor": "white",
             "linecolor": "white",
             "minorgridcolor": "white",
             "startlinecolor": "#2a3f5f"
            },
            "baxis": {
             "endlinecolor": "#2a3f5f",
             "gridcolor": "white",
             "linecolor": "white",
             "minorgridcolor": "white",
             "startlinecolor": "#2a3f5f"
            },
            "type": "carpet"
           }
          ],
          "choropleth": [
           {
            "colorbar": {
             "outlinewidth": 0,
             "ticks": ""
            },
            "type": "choropleth"
           }
          ],
          "contour": [
           {
            "colorbar": {
             "outlinewidth": 0,
             "ticks": ""
            },
            "colorscale": [
             [
              0,
              "#0d0887"
             ],
             [
              0.1111111111111111,
              "#46039f"
             ],
             [
              0.2222222222222222,
              "#7201a8"
             ],
             [
              0.3333333333333333,
              "#9c179e"
             ],
             [
              0.4444444444444444,
              "#bd3786"
             ],
             [
              0.5555555555555556,
              "#d8576b"
             ],
             [
              0.6666666666666666,
              "#ed7953"
             ],
             [
              0.7777777777777778,
              "#fb9f3a"
             ],
             [
              0.8888888888888888,
              "#fdca26"
             ],
             [
              1,
              "#f0f921"
             ]
            ],
            "type": "contour"
           }
          ],
          "contourcarpet": [
           {
            "colorbar": {
             "outlinewidth": 0,
             "ticks": ""
            },
            "type": "contourcarpet"
           }
          ],
          "heatmap": [
           {
            "colorbar": {
             "outlinewidth": 0,
             "ticks": ""
            },
            "colorscale": [
             [
              0,
              "#0d0887"
             ],
             [
              0.1111111111111111,
              "#46039f"
             ],
             [
              0.2222222222222222,
              "#7201a8"
             ],
             [
              0.3333333333333333,
              "#9c179e"
             ],
             [
              0.4444444444444444,
              "#bd3786"
             ],
             [
              0.5555555555555556,
              "#d8576b"
             ],
             [
              0.6666666666666666,
              "#ed7953"
             ],
             [
              0.7777777777777778,
              "#fb9f3a"
             ],
             [
              0.8888888888888888,
              "#fdca26"
             ],
             [
              1,
              "#f0f921"
             ]
            ],
            "type": "heatmap"
           }
          ],
          "heatmapgl": [
           {
            "colorbar": {
             "outlinewidth": 0,
             "ticks": ""
            },
            "colorscale": [
             [
              0,
              "#0d0887"
             ],
             [
              0.1111111111111111,
              "#46039f"
             ],
             [
              0.2222222222222222,
              "#7201a8"
             ],
             [
              0.3333333333333333,
              "#9c179e"
             ],
             [
              0.4444444444444444,
              "#bd3786"
             ],
             [
              0.5555555555555556,
              "#d8576b"
             ],
             [
              0.6666666666666666,
              "#ed7953"
             ],
             [
              0.7777777777777778,
              "#fb9f3a"
             ],
             [
              0.8888888888888888,
              "#fdca26"
             ],
             [
              1,
              "#f0f921"
             ]
            ],
            "type": "heatmapgl"
           }
          ],
          "histogram": [
           {
            "marker": {
             "colorbar": {
              "outlinewidth": 0,
              "ticks": ""
             }
            },
            "type": "histogram"
           }
          ],
          "histogram2d": [
           {
            "colorbar": {
             "outlinewidth": 0,
             "ticks": ""
            },
            "colorscale": [
             [
              0,
              "#0d0887"
             ],
             [
              0.1111111111111111,
              "#46039f"
             ],
             [
              0.2222222222222222,
              "#7201a8"
             ],
             [
              0.3333333333333333,
              "#9c179e"
             ],
             [
              0.4444444444444444,
              "#bd3786"
             ],
             [
              0.5555555555555556,
              "#d8576b"
             ],
             [
              0.6666666666666666,
              "#ed7953"
             ],
             [
              0.7777777777777778,
              "#fb9f3a"
             ],
             [
              0.8888888888888888,
              "#fdca26"
             ],
             [
              1,
              "#f0f921"
             ]
            ],
            "type": "histogram2d"
           }
          ],
          "histogram2dcontour": [
           {
            "colorbar": {
             "outlinewidth": 0,
             "ticks": ""
            },
            "colorscale": [
             [
              0,
              "#0d0887"
             ],
             [
              0.1111111111111111,
              "#46039f"
             ],
             [
              0.2222222222222222,
              "#7201a8"
             ],
             [
              0.3333333333333333,
              "#9c179e"
             ],
             [
              0.4444444444444444,
              "#bd3786"
             ],
             [
              0.5555555555555556,
              "#d8576b"
             ],
             [
              0.6666666666666666,
              "#ed7953"
             ],
             [
              0.7777777777777778,
              "#fb9f3a"
             ],
             [
              0.8888888888888888,
              "#fdca26"
             ],
             [
              1,
              "#f0f921"
             ]
            ],
            "type": "histogram2dcontour"
           }
          ],
          "mesh3d": [
           {
            "colorbar": {
             "outlinewidth": 0,
             "ticks": ""
            },
            "type": "mesh3d"
           }
          ],
          "parcoords": [
           {
            "line": {
             "colorbar": {
              "outlinewidth": 0,
              "ticks": ""
             }
            },
            "type": "parcoords"
           }
          ],
          "pie": [
           {
            "automargin": true,
            "type": "pie"
           }
          ],
          "scatter": [
           {
            "marker": {
             "colorbar": {
              "outlinewidth": 0,
              "ticks": ""
             }
            },
            "type": "scatter"
           }
          ],
          "scatter3d": [
           {
            "line": {
             "colorbar": {
              "outlinewidth": 0,
              "ticks": ""
             }
            },
            "marker": {
             "colorbar": {
              "outlinewidth": 0,
              "ticks": ""
             }
            },
            "type": "scatter3d"
           }
          ],
          "scattercarpet": [
           {
            "marker": {
             "colorbar": {
              "outlinewidth": 0,
              "ticks": ""
             }
            },
            "type": "scattercarpet"
           }
          ],
          "scattergeo": [
           {
            "marker": {
             "colorbar": {
              "outlinewidth": 0,
              "ticks": ""
             }
            },
            "type": "scattergeo"
           }
          ],
          "scattergl": [
           {
            "marker": {
             "colorbar": {
              "outlinewidth": 0,
              "ticks": ""
             }
            },
            "type": "scattergl"
           }
          ],
          "scattermapbox": [
           {
            "marker": {
             "colorbar": {
              "outlinewidth": 0,
              "ticks": ""
             }
            },
            "type": "scattermapbox"
           }
          ],
          "scatterpolar": [
           {
            "marker": {
             "colorbar": {
              "outlinewidth": 0,
              "ticks": ""
             }
            },
            "type": "scatterpolar"
           }
          ],
          "scatterpolargl": [
           {
            "marker": {
             "colorbar": {
              "outlinewidth": 0,
              "ticks": ""
             }
            },
            "type": "scatterpolargl"
           }
          ],
          "scatterternary": [
           {
            "marker": {
             "colorbar": {
              "outlinewidth": 0,
              "ticks": ""
             }
            },
            "type": "scatterternary"
           }
          ],
          "surface": [
           {
            "colorbar": {
             "outlinewidth": 0,
             "ticks": ""
            },
            "colorscale": [
             [
              0,
              "#0d0887"
             ],
             [
              0.1111111111111111,
              "#46039f"
             ],
             [
              0.2222222222222222,
              "#7201a8"
             ],
             [
              0.3333333333333333,
              "#9c179e"
             ],
             [
              0.4444444444444444,
              "#bd3786"
             ],
             [
              0.5555555555555556,
              "#d8576b"
             ],
             [
              0.6666666666666666,
              "#ed7953"
             ],
             [
              0.7777777777777778,
              "#fb9f3a"
             ],
             [
              0.8888888888888888,
              "#fdca26"
             ],
             [
              1,
              "#f0f921"
             ]
            ],
            "type": "surface"
           }
          ],
          "table": [
           {
            "cells": {
             "fill": {
              "color": "#EBF0F8"
             },
             "line": {
              "color": "white"
             }
            },
            "header": {
             "fill": {
              "color": "#C8D4E3"
             },
             "line": {
              "color": "white"
             }
            },
            "type": "table"
           }
          ]
         },
         "layout": {
          "annotationdefaults": {
           "arrowcolor": "#2a3f5f",
           "arrowhead": 0,
           "arrowwidth": 1
          },
          "autotypenumbers": "strict",
          "coloraxis": {
           "colorbar": {
            "outlinewidth": 0,
            "ticks": ""
           }
          },
          "colorscale": {
           "diverging": [
            [
             0,
             "#8e0152"
            ],
            [
             0.1,
             "#c51b7d"
            ],
            [
             0.2,
             "#de77ae"
            ],
            [
             0.3,
             "#f1b6da"
            ],
            [
             0.4,
             "#fde0ef"
            ],
            [
             0.5,
             "#f7f7f7"
            ],
            [
             0.6,
             "#e6f5d0"
            ],
            [
             0.7,
             "#b8e186"
            ],
            [
             0.8,
             "#7fbc41"
            ],
            [
             0.9,
             "#4d9221"
            ],
            [
             1,
             "#276419"
            ]
           ],
           "sequential": [
            [
             0,
             "#0d0887"
            ],
            [
             0.1111111111111111,
             "#46039f"
            ],
            [
             0.2222222222222222,
             "#7201a8"
            ],
            [
             0.3333333333333333,
             "#9c179e"
            ],
            [
             0.4444444444444444,
             "#bd3786"
            ],
            [
             0.5555555555555556,
             "#d8576b"
            ],
            [
             0.6666666666666666,
             "#ed7953"
            ],
            [
             0.7777777777777778,
             "#fb9f3a"
            ],
            [
             0.8888888888888888,
             "#fdca26"
            ],
            [
             1,
             "#f0f921"
            ]
           ],
           "sequentialminus": [
            [
             0,
             "#0d0887"
            ],
            [
             0.1111111111111111,
             "#46039f"
            ],
            [
             0.2222222222222222,
             "#7201a8"
            ],
            [
             0.3333333333333333,
             "#9c179e"
            ],
            [
             0.4444444444444444,
             "#bd3786"
            ],
            [
             0.5555555555555556,
             "#d8576b"
            ],
            [
             0.6666666666666666,
             "#ed7953"
            ],
            [
             0.7777777777777778,
             "#fb9f3a"
            ],
            [
             0.8888888888888888,
             "#fdca26"
            ],
            [
             1,
             "#f0f921"
            ]
           ]
          },
          "colorway": [
           "#636efa",
           "#EF553B",
           "#00cc96",
           "#ab63fa",
           "#FFA15A",
           "#19d3f3",
           "#FF6692",
           "#B6E880",
           "#FF97FF",
           "#FECB52"
          ],
          "font": {
           "color": "#2a3f5f"
          },
          "geo": {
           "bgcolor": "white",
           "lakecolor": "white",
           "landcolor": "#E5ECF6",
           "showlakes": true,
           "showland": true,
           "subunitcolor": "white"
          },
          "hoverlabel": {
           "align": "left"
          },
          "hovermode": "closest",
          "mapbox": {
           "style": "light"
          },
          "paper_bgcolor": "white",
          "plot_bgcolor": "#E5ECF6",
          "polar": {
           "angularaxis": {
            "gridcolor": "white",
            "linecolor": "white",
            "ticks": ""
           },
           "bgcolor": "#E5ECF6",
           "radialaxis": {
            "gridcolor": "white",
            "linecolor": "white",
            "ticks": ""
           }
          },
          "scene": {
           "xaxis": {
            "backgroundcolor": "#E5ECF6",
            "gridcolor": "white",
            "gridwidth": 2,
            "linecolor": "white",
            "showbackground": true,
            "ticks": "",
            "zerolinecolor": "white"
           },
           "yaxis": {
            "backgroundcolor": "#E5ECF6",
            "gridcolor": "white",
            "gridwidth": 2,
            "linecolor": "white",
            "showbackground": true,
            "ticks": "",
            "zerolinecolor": "white"
           },
           "zaxis": {
            "backgroundcolor": "#E5ECF6",
            "gridcolor": "white",
            "gridwidth": 2,
            "linecolor": "white",
            "showbackground": true,
            "ticks": "",
            "zerolinecolor": "white"
           }
          },
          "shapedefaults": {
           "line": {
            "color": "#2a3f5f"
           }
          },
          "ternary": {
           "aaxis": {
            "gridcolor": "white",
            "linecolor": "white",
            "ticks": ""
           },
           "baxis": {
            "gridcolor": "white",
            "linecolor": "white",
            "ticks": ""
           },
           "bgcolor": "#E5ECF6",
           "caxis": {
            "gridcolor": "white",
            "linecolor": "white",
            "ticks": ""
           }
          },
          "title": {
           "x": 0.05
          },
          "xaxis": {
           "automargin": true,
           "gridcolor": "white",
           "linecolor": "white",
           "ticks": "",
           "title": {
            "standoff": 15
           },
           "zerolinecolor": "white",
           "zerolinewidth": 2
          },
          "yaxis": {
           "automargin": true,
           "gridcolor": "white",
           "linecolor": "white",
           "ticks": "",
           "title": {
            "standoff": 15
           },
           "zerolinecolor": "white",
           "zerolinewidth": 2
          }
         }
        },
        "title": {
         "text": "Different House Types"
        },
        "width": 600,
        "xaxis": {
         "anchor": "y",
         "categoryarray": [
          "Apartment",
          "Builder_Floor"
         ],
         "categoryorder": "array",
         "domain": [
          0,
          1
         ],
         "title": {
          "text": "Type of House"
         }
        },
        "yaxis": {
         "anchor": "x",
         "domain": [
          0,
          1
         ],
         "title": {
          "text": "count"
         }
        }
       }
      }
     },
     "metadata": {}
    }
   ],
   "source": [
    "# House Types\n",
    "fig = px.histogram(df3,x='Type',\n",
    "                    title='Different House Types',\n",
    "                    opacity=0.8,\n",
    "                    color = 'Type',\n",
    "                    #color_discrete_sequence=['indianred'],\n",
    "                    labels={'Type':'Type of House'})\n",
    "fig.update_layout(barmode='group', bargap=0.10,bargroupgap=0.0,height=520,width=600)\n",
    "fig.show()"
   ]
  },
  {
   "cell_type": "code",
   "execution_count": 17,
   "metadata": {},
   "outputs": [
    {
     "output_type": "display_data",
     "data": {
      "application/vnd.plotly.v1+json": {
       "config": {
        "plotlyServerURL": "https://plot.ly"
       },
       "data": [
        {
         "alignmentgroup": "True",
         "bingroup": "x",
         "hovertemplate": "Furnishing=%{x}<br>count=%{y}<extra></extra>",
         "legendgroup": "Semi-Furnished",
         "marker": {
          "color": "#636efa",
          "opacity": 0.8
         },
         "name": "Semi-Furnished",
         "offsetgroup": "Semi-Furnished",
         "orientation": "v",
         "showlegend": true,
         "type": "histogram",
         "x": [
          "Semi-Furnished",
          "Semi-Furnished",
          "Semi-Furnished",
          "Semi-Furnished",
          "Semi-Furnished",
          "Semi-Furnished",
          "Semi-Furnished",
          "Semi-Furnished",
          "Semi-Furnished",
          "Semi-Furnished",
          "Semi-Furnished",
          "Semi-Furnished",
          "Semi-Furnished",
          "Semi-Furnished",
          "Semi-Furnished",
          "Semi-Furnished",
          "Semi-Furnished",
          "Semi-Furnished",
          "Semi-Furnished",
          "Semi-Furnished",
          "Semi-Furnished",
          "Semi-Furnished",
          "Semi-Furnished",
          "Semi-Furnished",
          "Semi-Furnished",
          "Semi-Furnished",
          "Semi-Furnished",
          "Semi-Furnished",
          "Semi-Furnished",
          "Semi-Furnished",
          "Semi-Furnished",
          "Semi-Furnished",
          "Semi-Furnished",
          "Semi-Furnished",
          "Semi-Furnished",
          "Semi-Furnished",
          "Semi-Furnished",
          "Semi-Furnished",
          "Semi-Furnished",
          "Semi-Furnished",
          "Semi-Furnished",
          "Semi-Furnished",
          "Semi-Furnished",
          "Semi-Furnished",
          "Semi-Furnished",
          "Semi-Furnished",
          "Semi-Furnished",
          "Semi-Furnished",
          "Semi-Furnished",
          "Semi-Furnished",
          "Semi-Furnished",
          "Semi-Furnished",
          "Semi-Furnished",
          "Semi-Furnished",
          "Semi-Furnished",
          "Semi-Furnished",
          "Semi-Furnished",
          "Semi-Furnished",
          "Semi-Furnished",
          "Semi-Furnished",
          "Semi-Furnished",
          "Semi-Furnished",
          "Semi-Furnished",
          "Semi-Furnished",
          "Semi-Furnished",
          "Semi-Furnished",
          "Semi-Furnished",
          "Semi-Furnished",
          "Semi-Furnished",
          "Semi-Furnished",
          "Semi-Furnished",
          "Semi-Furnished",
          "Semi-Furnished",
          "Semi-Furnished",
          "Semi-Furnished",
          "Semi-Furnished",
          "Semi-Furnished",
          "Semi-Furnished",
          "Semi-Furnished",
          "Semi-Furnished",
          "Semi-Furnished",
          "Semi-Furnished",
          "Semi-Furnished",
          "Semi-Furnished",
          "Semi-Furnished",
          "Semi-Furnished",
          "Semi-Furnished",
          "Semi-Furnished",
          "Semi-Furnished",
          "Semi-Furnished",
          "Semi-Furnished",
          "Semi-Furnished",
          "Semi-Furnished",
          "Semi-Furnished",
          "Semi-Furnished",
          "Semi-Furnished",
          "Semi-Furnished",
          "Semi-Furnished",
          "Semi-Furnished",
          "Semi-Furnished",
          "Semi-Furnished",
          "Semi-Furnished",
          "Semi-Furnished",
          "Semi-Furnished",
          "Semi-Furnished",
          "Semi-Furnished",
          "Semi-Furnished",
          "Semi-Furnished",
          "Semi-Furnished",
          "Semi-Furnished",
          "Semi-Furnished",
          "Semi-Furnished",
          "Semi-Furnished",
          "Semi-Furnished",
          "Semi-Furnished",
          "Semi-Furnished",
          "Semi-Furnished",
          "Semi-Furnished",
          "Semi-Furnished",
          "Semi-Furnished",
          "Semi-Furnished",
          "Semi-Furnished",
          "Semi-Furnished",
          "Semi-Furnished",
          "Semi-Furnished",
          "Semi-Furnished",
          "Semi-Furnished",
          "Semi-Furnished",
          "Semi-Furnished",
          "Semi-Furnished",
          "Semi-Furnished",
          "Semi-Furnished",
          "Semi-Furnished",
          "Semi-Furnished",
          "Semi-Furnished",
          "Semi-Furnished",
          "Semi-Furnished",
          "Semi-Furnished",
          "Semi-Furnished",
          "Semi-Furnished",
          "Semi-Furnished",
          "Semi-Furnished",
          "Semi-Furnished",
          "Semi-Furnished",
          "Semi-Furnished",
          "Semi-Furnished",
          "Semi-Furnished",
          "Semi-Furnished",
          "Semi-Furnished",
          "Semi-Furnished",
          "Semi-Furnished",
          "Semi-Furnished",
          "Semi-Furnished",
          "Semi-Furnished",
          "Semi-Furnished",
          "Semi-Furnished",
          "Semi-Furnished",
          "Semi-Furnished",
          "Semi-Furnished",
          "Semi-Furnished",
          "Semi-Furnished",
          "Semi-Furnished",
          "Semi-Furnished",
          "Semi-Furnished",
          "Semi-Furnished",
          "Semi-Furnished",
          "Semi-Furnished",
          "Semi-Furnished",
          "Semi-Furnished",
          "Semi-Furnished",
          "Semi-Furnished",
          "Semi-Furnished",
          "Semi-Furnished",
          "Semi-Furnished",
          "Semi-Furnished",
          "Semi-Furnished",
          "Semi-Furnished",
          "Semi-Furnished",
          "Semi-Furnished",
          "Semi-Furnished",
          "Semi-Furnished",
          "Semi-Furnished",
          "Semi-Furnished",
          "Semi-Furnished",
          "Semi-Furnished",
          "Semi-Furnished",
          "Semi-Furnished",
          "Semi-Furnished",
          "Semi-Furnished",
          "Semi-Furnished",
          "Semi-Furnished",
          "Semi-Furnished",
          "Semi-Furnished",
          "Semi-Furnished",
          "Semi-Furnished",
          "Semi-Furnished",
          "Semi-Furnished",
          "Semi-Furnished",
          "Semi-Furnished",
          "Semi-Furnished",
          "Semi-Furnished",
          "Semi-Furnished",
          "Semi-Furnished",
          "Semi-Furnished",
          "Semi-Furnished",
          "Semi-Furnished",
          "Semi-Furnished",
          "Semi-Furnished",
          "Semi-Furnished",
          "Semi-Furnished",
          "Semi-Furnished",
          "Semi-Furnished",
          "Semi-Furnished",
          "Semi-Furnished",
          "Semi-Furnished",
          "Semi-Furnished",
          "Semi-Furnished",
          "Semi-Furnished",
          "Semi-Furnished",
          "Semi-Furnished",
          "Semi-Furnished",
          "Semi-Furnished",
          "Semi-Furnished",
          "Semi-Furnished",
          "Semi-Furnished",
          "Semi-Furnished",
          "Semi-Furnished",
          "Semi-Furnished",
          "Semi-Furnished",
          "Semi-Furnished",
          "Semi-Furnished",
          "Semi-Furnished",
          "Semi-Furnished",
          "Semi-Furnished",
          "Semi-Furnished",
          "Semi-Furnished",
          "Semi-Furnished",
          "Semi-Furnished",
          "Semi-Furnished",
          "Semi-Furnished",
          "Semi-Furnished",
          "Semi-Furnished",
          "Semi-Furnished",
          "Semi-Furnished",
          "Semi-Furnished",
          "Semi-Furnished",
          "Semi-Furnished",
          "Semi-Furnished",
          "Semi-Furnished",
          "Semi-Furnished",
          "Semi-Furnished",
          "Semi-Furnished",
          "Semi-Furnished",
          "Semi-Furnished",
          "Semi-Furnished",
          "Semi-Furnished",
          "Semi-Furnished",
          "Semi-Furnished",
          "Semi-Furnished",
          "Semi-Furnished",
          "Semi-Furnished",
          "Semi-Furnished",
          "Semi-Furnished",
          "Semi-Furnished",
          "Semi-Furnished",
          "Semi-Furnished",
          "Semi-Furnished",
          "Semi-Furnished",
          "Semi-Furnished",
          "Semi-Furnished",
          "Semi-Furnished",
          "Semi-Furnished",
          "Semi-Furnished",
          "Semi-Furnished",
          "Semi-Furnished",
          "Semi-Furnished",
          "Semi-Furnished",
          "Semi-Furnished",
          "Semi-Furnished",
          "Semi-Furnished",
          "Semi-Furnished",
          "Semi-Furnished",
          "Semi-Furnished",
          "Semi-Furnished",
          "Semi-Furnished",
          "Semi-Furnished",
          "Semi-Furnished",
          "Semi-Furnished",
          "Semi-Furnished",
          "Semi-Furnished",
          "Semi-Furnished",
          "Semi-Furnished",
          "Semi-Furnished",
          "Semi-Furnished",
          "Semi-Furnished",
          "Semi-Furnished",
          "Semi-Furnished",
          "Semi-Furnished",
          "Semi-Furnished",
          "Semi-Furnished",
          "Semi-Furnished",
          "Semi-Furnished",
          "Semi-Furnished",
          "Semi-Furnished",
          "Semi-Furnished",
          "Semi-Furnished",
          "Semi-Furnished",
          "Semi-Furnished",
          "Semi-Furnished"
         ],
         "xaxis": "x",
         "yaxis": "y"
        },
        {
         "alignmentgroup": "True",
         "bingroup": "x",
         "hovertemplate": "Furnishing=%{x}<br>count=%{y}<extra></extra>",
         "legendgroup": "Unfurnished",
         "marker": {
          "color": "#EF553B",
          "opacity": 0.8
         },
         "name": "Unfurnished",
         "offsetgroup": "Unfurnished",
         "orientation": "v",
         "showlegend": true,
         "type": "histogram",
         "x": [
          "Unfurnished",
          "Unfurnished",
          "Unfurnished",
          "Unfurnished",
          "Unfurnished",
          "Unfurnished",
          "Unfurnished",
          "Unfurnished",
          "Unfurnished",
          "Unfurnished",
          "Unfurnished",
          "Unfurnished",
          "Unfurnished",
          "Unfurnished",
          "Unfurnished",
          "Unfurnished",
          "Unfurnished",
          "Unfurnished",
          "Unfurnished",
          "Unfurnished",
          "Unfurnished",
          "Unfurnished",
          "Unfurnished",
          "Unfurnished",
          "Unfurnished",
          "Unfurnished",
          "Unfurnished",
          "Unfurnished",
          "Unfurnished",
          "Unfurnished",
          "Unfurnished",
          "Unfurnished",
          "Unfurnished",
          "Unfurnished",
          "Unfurnished",
          "Unfurnished",
          "Unfurnished",
          "Unfurnished",
          "Unfurnished",
          "Unfurnished",
          "Unfurnished",
          "Unfurnished",
          "Unfurnished",
          "Unfurnished",
          "Unfurnished",
          "Unfurnished",
          "Unfurnished",
          "Unfurnished",
          "Unfurnished",
          "Unfurnished",
          "Unfurnished",
          "Unfurnished",
          "Unfurnished",
          "Unfurnished",
          "Unfurnished",
          "Unfurnished",
          "Unfurnished",
          "Unfurnished",
          "Unfurnished",
          "Unfurnished",
          "Unfurnished",
          "Unfurnished",
          "Unfurnished",
          "Unfurnished",
          "Unfurnished",
          "Unfurnished",
          "Unfurnished",
          "Unfurnished",
          "Unfurnished",
          "Unfurnished",
          "Unfurnished",
          "Unfurnished",
          "Unfurnished",
          "Unfurnished",
          "Unfurnished",
          "Unfurnished",
          "Unfurnished",
          "Unfurnished",
          "Unfurnished",
          "Unfurnished",
          "Unfurnished",
          "Unfurnished",
          "Unfurnished",
          "Unfurnished",
          "Unfurnished",
          "Unfurnished",
          "Unfurnished",
          "Unfurnished",
          "Unfurnished",
          "Unfurnished",
          "Unfurnished",
          "Unfurnished",
          "Unfurnished",
          "Unfurnished",
          "Unfurnished",
          "Unfurnished",
          "Unfurnished",
          "Unfurnished",
          "Unfurnished",
          "Unfurnished",
          "Unfurnished",
          "Unfurnished",
          "Unfurnished",
          "Unfurnished",
          "Unfurnished",
          "Unfurnished",
          "Unfurnished",
          "Unfurnished",
          "Unfurnished",
          "Unfurnished",
          "Unfurnished",
          "Unfurnished",
          "Unfurnished",
          "Unfurnished",
          "Unfurnished",
          "Unfurnished",
          "Unfurnished",
          "Unfurnished",
          "Unfurnished",
          "Unfurnished",
          "Unfurnished",
          "Unfurnished",
          "Unfurnished",
          "Unfurnished",
          "Unfurnished",
          "Unfurnished",
          "Unfurnished",
          "Unfurnished",
          "Unfurnished",
          "Unfurnished",
          "Unfurnished",
          "Unfurnished",
          "Unfurnished",
          "Unfurnished",
          "Unfurnished",
          "Unfurnished",
          "Unfurnished",
          "Unfurnished",
          "Unfurnished",
          "Unfurnished",
          "Unfurnished",
          "Unfurnished",
          "Unfurnished",
          "Unfurnished",
          "Unfurnished"
         ],
         "xaxis": "x",
         "yaxis": "y"
        },
        {
         "alignmentgroup": "True",
         "bingroup": "x",
         "hovertemplate": "Furnishing=%{x}<br>count=%{y}<extra></extra>",
         "legendgroup": "Furnished",
         "marker": {
          "color": "#00cc96",
          "opacity": 0.8
         },
         "name": "Furnished",
         "offsetgroup": "Furnished",
         "orientation": "v",
         "showlegend": true,
         "type": "histogram",
         "x": [
          "Furnished",
          "Furnished",
          "Furnished",
          "Furnished",
          "Furnished",
          "Furnished",
          "Furnished",
          "Furnished",
          "Furnished",
          "Furnished",
          "Furnished",
          "Furnished",
          "Furnished",
          "Furnished",
          "Furnished",
          "Furnished",
          "Furnished",
          "Furnished",
          "Furnished",
          "Furnished",
          "Furnished",
          "Furnished",
          "Furnished",
          "Furnished",
          "Furnished",
          "Furnished",
          "Furnished",
          "Furnished",
          "Furnished",
          "Furnished",
          "Furnished",
          "Furnished",
          "Furnished",
          "Furnished",
          "Furnished",
          "Furnished",
          "Furnished",
          "Furnished",
          "Furnished",
          "Furnished",
          "Furnished",
          "Furnished",
          "Furnished",
          "Furnished",
          "Furnished",
          "Furnished",
          "Furnished",
          "Furnished",
          "Furnished",
          "Furnished",
          "Furnished",
          "Furnished",
          "Furnished",
          "Furnished",
          "Furnished",
          "Furnished",
          "Furnished",
          "Furnished",
          "Furnished",
          "Furnished",
          "Furnished"
         ],
         "xaxis": "x",
         "yaxis": "y"
        }
       ],
       "layout": {
        "bargap": 0.1,
        "bargroupgap": 0.2,
        "barmode": "group",
        "height": 520,
        "legend": {
         "title": {
          "text": "Furnishing"
         },
         "tracegroupgap": 0
        },
        "template": {
         "data": {
          "bar": [
           {
            "error_x": {
             "color": "#2a3f5f"
            },
            "error_y": {
             "color": "#2a3f5f"
            },
            "marker": {
             "line": {
              "color": "#E5ECF6",
              "width": 0.5
             }
            },
            "type": "bar"
           }
          ],
          "barpolar": [
           {
            "marker": {
             "line": {
              "color": "#E5ECF6",
              "width": 0.5
             }
            },
            "type": "barpolar"
           }
          ],
          "carpet": [
           {
            "aaxis": {
             "endlinecolor": "#2a3f5f",
             "gridcolor": "white",
             "linecolor": "white",
             "minorgridcolor": "white",
             "startlinecolor": "#2a3f5f"
            },
            "baxis": {
             "endlinecolor": "#2a3f5f",
             "gridcolor": "white",
             "linecolor": "white",
             "minorgridcolor": "white",
             "startlinecolor": "#2a3f5f"
            },
            "type": "carpet"
           }
          ],
          "choropleth": [
           {
            "colorbar": {
             "outlinewidth": 0,
             "ticks": ""
            },
            "type": "choropleth"
           }
          ],
          "contour": [
           {
            "colorbar": {
             "outlinewidth": 0,
             "ticks": ""
            },
            "colorscale": [
             [
              0,
              "#0d0887"
             ],
             [
              0.1111111111111111,
              "#46039f"
             ],
             [
              0.2222222222222222,
              "#7201a8"
             ],
             [
              0.3333333333333333,
              "#9c179e"
             ],
             [
              0.4444444444444444,
              "#bd3786"
             ],
             [
              0.5555555555555556,
              "#d8576b"
             ],
             [
              0.6666666666666666,
              "#ed7953"
             ],
             [
              0.7777777777777778,
              "#fb9f3a"
             ],
             [
              0.8888888888888888,
              "#fdca26"
             ],
             [
              1,
              "#f0f921"
             ]
            ],
            "type": "contour"
           }
          ],
          "contourcarpet": [
           {
            "colorbar": {
             "outlinewidth": 0,
             "ticks": ""
            },
            "type": "contourcarpet"
           }
          ],
          "heatmap": [
           {
            "colorbar": {
             "outlinewidth": 0,
             "ticks": ""
            },
            "colorscale": [
             [
              0,
              "#0d0887"
             ],
             [
              0.1111111111111111,
              "#46039f"
             ],
             [
              0.2222222222222222,
              "#7201a8"
             ],
             [
              0.3333333333333333,
              "#9c179e"
             ],
             [
              0.4444444444444444,
              "#bd3786"
             ],
             [
              0.5555555555555556,
              "#d8576b"
             ],
             [
              0.6666666666666666,
              "#ed7953"
             ],
             [
              0.7777777777777778,
              "#fb9f3a"
             ],
             [
              0.8888888888888888,
              "#fdca26"
             ],
             [
              1,
              "#f0f921"
             ]
            ],
            "type": "heatmap"
           }
          ],
          "heatmapgl": [
           {
            "colorbar": {
             "outlinewidth": 0,
             "ticks": ""
            },
            "colorscale": [
             [
              0,
              "#0d0887"
             ],
             [
              0.1111111111111111,
              "#46039f"
             ],
             [
              0.2222222222222222,
              "#7201a8"
             ],
             [
              0.3333333333333333,
              "#9c179e"
             ],
             [
              0.4444444444444444,
              "#bd3786"
             ],
             [
              0.5555555555555556,
              "#d8576b"
             ],
             [
              0.6666666666666666,
              "#ed7953"
             ],
             [
              0.7777777777777778,
              "#fb9f3a"
             ],
             [
              0.8888888888888888,
              "#fdca26"
             ],
             [
              1,
              "#f0f921"
             ]
            ],
            "type": "heatmapgl"
           }
          ],
          "histogram": [
           {
            "marker": {
             "colorbar": {
              "outlinewidth": 0,
              "ticks": ""
             }
            },
            "type": "histogram"
           }
          ],
          "histogram2d": [
           {
            "colorbar": {
             "outlinewidth": 0,
             "ticks": ""
            },
            "colorscale": [
             [
              0,
              "#0d0887"
             ],
             [
              0.1111111111111111,
              "#46039f"
             ],
             [
              0.2222222222222222,
              "#7201a8"
             ],
             [
              0.3333333333333333,
              "#9c179e"
             ],
             [
              0.4444444444444444,
              "#bd3786"
             ],
             [
              0.5555555555555556,
              "#d8576b"
             ],
             [
              0.6666666666666666,
              "#ed7953"
             ],
             [
              0.7777777777777778,
              "#fb9f3a"
             ],
             [
              0.8888888888888888,
              "#fdca26"
             ],
             [
              1,
              "#f0f921"
             ]
            ],
            "type": "histogram2d"
           }
          ],
          "histogram2dcontour": [
           {
            "colorbar": {
             "outlinewidth": 0,
             "ticks": ""
            },
            "colorscale": [
             [
              0,
              "#0d0887"
             ],
             [
              0.1111111111111111,
              "#46039f"
             ],
             [
              0.2222222222222222,
              "#7201a8"
             ],
             [
              0.3333333333333333,
              "#9c179e"
             ],
             [
              0.4444444444444444,
              "#bd3786"
             ],
             [
              0.5555555555555556,
              "#d8576b"
             ],
             [
              0.6666666666666666,
              "#ed7953"
             ],
             [
              0.7777777777777778,
              "#fb9f3a"
             ],
             [
              0.8888888888888888,
              "#fdca26"
             ],
             [
              1,
              "#f0f921"
             ]
            ],
            "type": "histogram2dcontour"
           }
          ],
          "mesh3d": [
           {
            "colorbar": {
             "outlinewidth": 0,
             "ticks": ""
            },
            "type": "mesh3d"
           }
          ],
          "parcoords": [
           {
            "line": {
             "colorbar": {
              "outlinewidth": 0,
              "ticks": ""
             }
            },
            "type": "parcoords"
           }
          ],
          "pie": [
           {
            "automargin": true,
            "type": "pie"
           }
          ],
          "scatter": [
           {
            "marker": {
             "colorbar": {
              "outlinewidth": 0,
              "ticks": ""
             }
            },
            "type": "scatter"
           }
          ],
          "scatter3d": [
           {
            "line": {
             "colorbar": {
              "outlinewidth": 0,
              "ticks": ""
             }
            },
            "marker": {
             "colorbar": {
              "outlinewidth": 0,
              "ticks": ""
             }
            },
            "type": "scatter3d"
           }
          ],
          "scattercarpet": [
           {
            "marker": {
             "colorbar": {
              "outlinewidth": 0,
              "ticks": ""
             }
            },
            "type": "scattercarpet"
           }
          ],
          "scattergeo": [
           {
            "marker": {
             "colorbar": {
              "outlinewidth": 0,
              "ticks": ""
             }
            },
            "type": "scattergeo"
           }
          ],
          "scattergl": [
           {
            "marker": {
             "colorbar": {
              "outlinewidth": 0,
              "ticks": ""
             }
            },
            "type": "scattergl"
           }
          ],
          "scattermapbox": [
           {
            "marker": {
             "colorbar": {
              "outlinewidth": 0,
              "ticks": ""
             }
            },
            "type": "scattermapbox"
           }
          ],
          "scatterpolar": [
           {
            "marker": {
             "colorbar": {
              "outlinewidth": 0,
              "ticks": ""
             }
            },
            "type": "scatterpolar"
           }
          ],
          "scatterpolargl": [
           {
            "marker": {
             "colorbar": {
              "outlinewidth": 0,
              "ticks": ""
             }
            },
            "type": "scatterpolargl"
           }
          ],
          "scatterternary": [
           {
            "marker": {
             "colorbar": {
              "outlinewidth": 0,
              "ticks": ""
             }
            },
            "type": "scatterternary"
           }
          ],
          "surface": [
           {
            "colorbar": {
             "outlinewidth": 0,
             "ticks": ""
            },
            "colorscale": [
             [
              0,
              "#0d0887"
             ],
             [
              0.1111111111111111,
              "#46039f"
             ],
             [
              0.2222222222222222,
              "#7201a8"
             ],
             [
              0.3333333333333333,
              "#9c179e"
             ],
             [
              0.4444444444444444,
              "#bd3786"
             ],
             [
              0.5555555555555556,
              "#d8576b"
             ],
             [
              0.6666666666666666,
              "#ed7953"
             ],
             [
              0.7777777777777778,
              "#fb9f3a"
             ],
             [
              0.8888888888888888,
              "#fdca26"
             ],
             [
              1,
              "#f0f921"
             ]
            ],
            "type": "surface"
           }
          ],
          "table": [
           {
            "cells": {
             "fill": {
              "color": "#EBF0F8"
             },
             "line": {
              "color": "white"
             }
            },
            "header": {
             "fill": {
              "color": "#C8D4E3"
             },
             "line": {
              "color": "white"
             }
            },
            "type": "table"
           }
          ]
         },
         "layout": {
          "annotationdefaults": {
           "arrowcolor": "#2a3f5f",
           "arrowhead": 0,
           "arrowwidth": 1
          },
          "autotypenumbers": "strict",
          "coloraxis": {
           "colorbar": {
            "outlinewidth": 0,
            "ticks": ""
           }
          },
          "colorscale": {
           "diverging": [
            [
             0,
             "#8e0152"
            ],
            [
             0.1,
             "#c51b7d"
            ],
            [
             0.2,
             "#de77ae"
            ],
            [
             0.3,
             "#f1b6da"
            ],
            [
             0.4,
             "#fde0ef"
            ],
            [
             0.5,
             "#f7f7f7"
            ],
            [
             0.6,
             "#e6f5d0"
            ],
            [
             0.7,
             "#b8e186"
            ],
            [
             0.8,
             "#7fbc41"
            ],
            [
             0.9,
             "#4d9221"
            ],
            [
             1,
             "#276419"
            ]
           ],
           "sequential": [
            [
             0,
             "#0d0887"
            ],
            [
             0.1111111111111111,
             "#46039f"
            ],
            [
             0.2222222222222222,
             "#7201a8"
            ],
            [
             0.3333333333333333,
             "#9c179e"
            ],
            [
             0.4444444444444444,
             "#bd3786"
            ],
            [
             0.5555555555555556,
             "#d8576b"
            ],
            [
             0.6666666666666666,
             "#ed7953"
            ],
            [
             0.7777777777777778,
             "#fb9f3a"
            ],
            [
             0.8888888888888888,
             "#fdca26"
            ],
            [
             1,
             "#f0f921"
            ]
           ],
           "sequentialminus": [
            [
             0,
             "#0d0887"
            ],
            [
             0.1111111111111111,
             "#46039f"
            ],
            [
             0.2222222222222222,
             "#7201a8"
            ],
            [
             0.3333333333333333,
             "#9c179e"
            ],
            [
             0.4444444444444444,
             "#bd3786"
            ],
            [
             0.5555555555555556,
             "#d8576b"
            ],
            [
             0.6666666666666666,
             "#ed7953"
            ],
            [
             0.7777777777777778,
             "#fb9f3a"
            ],
            [
             0.8888888888888888,
             "#fdca26"
            ],
            [
             1,
             "#f0f921"
            ]
           ]
          },
          "colorway": [
           "#636efa",
           "#EF553B",
           "#00cc96",
           "#ab63fa",
           "#FFA15A",
           "#19d3f3",
           "#FF6692",
           "#B6E880",
           "#FF97FF",
           "#FECB52"
          ],
          "font": {
           "color": "#2a3f5f"
          },
          "geo": {
           "bgcolor": "white",
           "lakecolor": "white",
           "landcolor": "#E5ECF6",
           "showlakes": true,
           "showland": true,
           "subunitcolor": "white"
          },
          "hoverlabel": {
           "align": "left"
          },
          "hovermode": "closest",
          "mapbox": {
           "style": "light"
          },
          "paper_bgcolor": "white",
          "plot_bgcolor": "#E5ECF6",
          "polar": {
           "angularaxis": {
            "gridcolor": "white",
            "linecolor": "white",
            "ticks": ""
           },
           "bgcolor": "#E5ECF6",
           "radialaxis": {
            "gridcolor": "white",
            "linecolor": "white",
            "ticks": ""
           }
          },
          "scene": {
           "xaxis": {
            "backgroundcolor": "#E5ECF6",
            "gridcolor": "white",
            "gridwidth": 2,
            "linecolor": "white",
            "showbackground": true,
            "ticks": "",
            "zerolinecolor": "white"
           },
           "yaxis": {
            "backgroundcolor": "#E5ECF6",
            "gridcolor": "white",
            "gridwidth": 2,
            "linecolor": "white",
            "showbackground": true,
            "ticks": "",
            "zerolinecolor": "white"
           },
           "zaxis": {
            "backgroundcolor": "#E5ECF6",
            "gridcolor": "white",
            "gridwidth": 2,
            "linecolor": "white",
            "showbackground": true,
            "ticks": "",
            "zerolinecolor": "white"
           }
          },
          "shapedefaults": {
           "line": {
            "color": "#2a3f5f"
           }
          },
          "ternary": {
           "aaxis": {
            "gridcolor": "white",
            "linecolor": "white",
            "ticks": ""
           },
           "baxis": {
            "gridcolor": "white",
            "linecolor": "white",
            "ticks": ""
           },
           "bgcolor": "#E5ECF6",
           "caxis": {
            "gridcolor": "white",
            "linecolor": "white",
            "ticks": ""
           }
          },
          "title": {
           "x": 0.05
          },
          "xaxis": {
           "automargin": true,
           "gridcolor": "white",
           "linecolor": "white",
           "ticks": "",
           "title": {
            "standoff": 15
           },
           "zerolinecolor": "white",
           "zerolinewidth": 2
          },
          "yaxis": {
           "automargin": true,
           "gridcolor": "white",
           "linecolor": "white",
           "ticks": "",
           "title": {
            "standoff": 15
           },
           "zerolinecolor": "white",
           "zerolinewidth": 2
          }
         }
        },
        "title": {
         "text": "House condition"
        },
        "width": 600,
        "xaxis": {
         "anchor": "y",
         "categoryarray": [
          "Semi-Furnished",
          "Unfurnished",
          "Furnished"
         ],
         "categoryorder": "array",
         "domain": [
          0,
          1
         ],
         "title": {
          "text": "Furnishing"
         }
        },
        "yaxis": {
         "anchor": "x",
         "domain": [
          0,
          1
         ],
         "title": {
          "text": "count"
         }
        }
       }
      }
     },
     "metadata": {}
    }
   ],
   "source": [
    "# House condition\n",
    "fig = px.histogram(df3,x='Furnishing',\n",
    "                    title='House condition',\n",
    "                    opacity=0.8,\n",
    "                    color = 'Furnishing')\n",
    "                    #color_discrete_sequence=['indianred']\n",
    "fig.update_layout(barmode='group', bargap=0.10,bargroupgap=0.2,height=520,width=600)\n",
    "fig.show()"
   ]
  },
  {
   "cell_type": "code",
   "execution_count": 18,
   "metadata": {},
   "outputs": [
    {
     "output_type": "display_data",
     "data": {
      "application/vnd.plotly.v1+json": {
       "config": {
        "plotlyServerURL": "https://plot.ly"
       },
       "data": [
        {
         "domain": {
          "x": [
           0,
           1
          ],
          "y": [
           0,
           1
          ]
         },
         "hovertemplate": "Furnishing=%{label}<br>Price=%{value}<extra></extra>",
         "labels": [
          "Semi-Furnished",
          "Semi-Furnished",
          "Unfurnished",
          "Unfurnished",
          "Semi-Furnished",
          "Semi-Furnished",
          "Unfurnished",
          "Unfurnished",
          "Semi-Furnished",
          "Unfurnished",
          "Unfurnished",
          "Semi-Furnished",
          "Semi-Furnished",
          "Unfurnished",
          "Unfurnished",
          "Semi-Furnished",
          "Unfurnished",
          "Semi-Furnished",
          "Semi-Furnished",
          "Unfurnished",
          "Semi-Furnished",
          "Unfurnished",
          "Unfurnished",
          "Unfurnished",
          "Semi-Furnished",
          "Semi-Furnished",
          "Semi-Furnished",
          "Furnished",
          "Semi-Furnished",
          "Semi-Furnished",
          "Unfurnished",
          "Furnished",
          "Furnished",
          "Furnished",
          "Semi-Furnished",
          "Unfurnished",
          "Semi-Furnished",
          "Semi-Furnished",
          "Semi-Furnished",
          "Semi-Furnished",
          "Semi-Furnished",
          "Semi-Furnished",
          "Semi-Furnished",
          "Semi-Furnished",
          "Semi-Furnished",
          "Unfurnished",
          "Semi-Furnished",
          "Unfurnished",
          "Semi-Furnished",
          "Semi-Furnished",
          "Semi-Furnished",
          "Semi-Furnished",
          "Semi-Furnished",
          "Semi-Furnished",
          "Semi-Furnished",
          "Semi-Furnished",
          "Semi-Furnished",
          "Unfurnished",
          "Semi-Furnished",
          "Unfurnished",
          "Semi-Furnished",
          "Furnished",
          "Unfurnished",
          "Semi-Furnished",
          "Semi-Furnished",
          "Semi-Furnished",
          "Semi-Furnished",
          "Semi-Furnished",
          "Semi-Furnished",
          "Furnished",
          "Semi-Furnished",
          "Semi-Furnished",
          "Furnished",
          "Semi-Furnished",
          "Unfurnished",
          "Furnished",
          "Semi-Furnished",
          "Unfurnished",
          "Unfurnished",
          "Semi-Furnished",
          "Unfurnished",
          "Unfurnished",
          "Semi-Furnished",
          "Unfurnished",
          "Unfurnished",
          "Unfurnished",
          "Semi-Furnished",
          "Unfurnished",
          "Semi-Furnished",
          "Semi-Furnished",
          "Semi-Furnished",
          "Furnished",
          "Unfurnished",
          "Unfurnished",
          "Unfurnished",
          "Semi-Furnished",
          "Semi-Furnished",
          "Semi-Furnished",
          "Unfurnished",
          "Semi-Furnished",
          "Unfurnished",
          "Furnished",
          "Unfurnished",
          "Semi-Furnished",
          "Semi-Furnished",
          "Semi-Furnished",
          "Semi-Furnished",
          "Semi-Furnished",
          "Furnished",
          "Unfurnished",
          "Unfurnished",
          "Unfurnished",
          "Unfurnished",
          "Unfurnished",
          "Semi-Furnished",
          "Semi-Furnished",
          "Furnished",
          "Furnished",
          "Furnished",
          "Furnished",
          "Unfurnished",
          "Unfurnished",
          "Semi-Furnished",
          "Unfurnished",
          "Semi-Furnished",
          "Semi-Furnished",
          "Semi-Furnished",
          "Semi-Furnished",
          "Semi-Furnished",
          "Semi-Furnished",
          "Unfurnished",
          "Semi-Furnished",
          "Unfurnished",
          "Semi-Furnished",
          "Semi-Furnished",
          "Semi-Furnished",
          "Semi-Furnished",
          "Unfurnished",
          "Unfurnished",
          "Semi-Furnished",
          "Semi-Furnished",
          "Unfurnished",
          "Semi-Furnished",
          "Semi-Furnished",
          "Semi-Furnished",
          "Semi-Furnished",
          "Semi-Furnished",
          "Semi-Furnished",
          "Semi-Furnished",
          "Semi-Furnished",
          "Semi-Furnished",
          "Semi-Furnished",
          "Semi-Furnished",
          "Semi-Furnished",
          "Semi-Furnished",
          "Semi-Furnished",
          "Semi-Furnished",
          "Semi-Furnished",
          "Semi-Furnished",
          "Semi-Furnished",
          "Semi-Furnished",
          "Semi-Furnished",
          "Semi-Furnished",
          "Semi-Furnished",
          "Semi-Furnished",
          "Semi-Furnished",
          "Semi-Furnished",
          "Semi-Furnished",
          "Semi-Furnished",
          "Semi-Furnished",
          "Semi-Furnished",
          "Semi-Furnished",
          "Semi-Furnished",
          "Semi-Furnished",
          "Unfurnished",
          "Unfurnished",
          "Semi-Furnished",
          "Semi-Furnished",
          "Unfurnished",
          "Semi-Furnished",
          "Semi-Furnished",
          "Unfurnished",
          "Semi-Furnished",
          "Semi-Furnished",
          "Semi-Furnished",
          "Semi-Furnished",
          "Unfurnished",
          "Furnished",
          "Semi-Furnished",
          "Semi-Furnished",
          "Semi-Furnished",
          "Semi-Furnished",
          "Unfurnished",
          "Semi-Furnished",
          "Semi-Furnished",
          "Furnished",
          "Semi-Furnished",
          "Semi-Furnished",
          "Semi-Furnished",
          "Furnished",
          "Unfurnished",
          "Semi-Furnished",
          "Semi-Furnished",
          "Semi-Furnished",
          "Unfurnished",
          "Unfurnished",
          "Unfurnished",
          "Semi-Furnished",
          "Semi-Furnished",
          "Unfurnished",
          "Semi-Furnished",
          "Semi-Furnished",
          "Unfurnished",
          "Unfurnished",
          "Semi-Furnished",
          "Unfurnished",
          "Unfurnished",
          "Semi-Furnished",
          "Semi-Furnished",
          "Semi-Furnished",
          "Unfurnished",
          "Unfurnished",
          "Semi-Furnished",
          "Unfurnished",
          "Semi-Furnished",
          "Unfurnished",
          "Semi-Furnished",
          "Semi-Furnished",
          "Semi-Furnished",
          "Furnished",
          "Semi-Furnished",
          "Unfurnished",
          "Unfurnished",
          "Unfurnished",
          "Semi-Furnished",
          "Unfurnished",
          "Unfurnished",
          "Unfurnished",
          "Semi-Furnished",
          "Unfurnished",
          "Unfurnished",
          "Unfurnished",
          "Unfurnished",
          "Semi-Furnished",
          "Semi-Furnished",
          "Unfurnished",
          "Semi-Furnished",
          "Semi-Furnished",
          "Semi-Furnished",
          "Unfurnished",
          "Furnished",
          "Unfurnished",
          "Semi-Furnished",
          "Semi-Furnished",
          "Semi-Furnished",
          "Semi-Furnished",
          "Unfurnished",
          "Unfurnished",
          "Semi-Furnished",
          "Semi-Furnished",
          "Semi-Furnished",
          "Semi-Furnished",
          "Semi-Furnished",
          "Unfurnished",
          "Semi-Furnished",
          "Semi-Furnished",
          "Semi-Furnished",
          "Semi-Furnished",
          "Furnished",
          "Semi-Furnished",
          "Semi-Furnished",
          "Furnished",
          "Unfurnished",
          "Unfurnished",
          "Unfurnished",
          "Semi-Furnished",
          "Unfurnished",
          "Unfurnished",
          "Semi-Furnished",
          "Furnished",
          "Unfurnished",
          "Unfurnished",
          "Furnished",
          "Unfurnished",
          "Unfurnished",
          "Unfurnished",
          "Unfurnished",
          "Unfurnished",
          "Unfurnished",
          "Semi-Furnished",
          "Semi-Furnished",
          "Semi-Furnished",
          "Semi-Furnished",
          "Semi-Furnished",
          "Semi-Furnished",
          "Semi-Furnished",
          "Semi-Furnished",
          "Semi-Furnished",
          "Semi-Furnished",
          "Semi-Furnished",
          "Unfurnished",
          "Semi-Furnished",
          "Semi-Furnished",
          "Semi-Furnished",
          "Semi-Furnished",
          "Semi-Furnished",
          "Semi-Furnished",
          "Semi-Furnished",
          "Unfurnished",
          "Unfurnished",
          "Unfurnished",
          "Semi-Furnished",
          "Unfurnished",
          "Semi-Furnished",
          "Semi-Furnished",
          "Unfurnished",
          "Unfurnished",
          "Unfurnished",
          "Semi-Furnished",
          "Unfurnished",
          "Furnished",
          "Semi-Furnished",
          "Semi-Furnished",
          "Unfurnished",
          "Semi-Furnished",
          "Unfurnished",
          "Semi-Furnished",
          "Semi-Furnished",
          "Semi-Furnished",
          "Semi-Furnished",
          "Semi-Furnished",
          "Unfurnished",
          "Semi-Furnished",
          "Furnished",
          "Semi-Furnished",
          "Furnished",
          "Semi-Furnished",
          "Semi-Furnished",
          "Unfurnished",
          "Unfurnished",
          "Furnished",
          "Semi-Furnished",
          "Semi-Furnished",
          "Semi-Furnished",
          "Furnished",
          "Semi-Furnished",
          "Unfurnished",
          "Furnished",
          "Semi-Furnished",
          "Unfurnished",
          "Semi-Furnished",
          "Unfurnished",
          "Semi-Furnished",
          "Furnished",
          "Semi-Furnished",
          "Unfurnished",
          "Furnished",
          "Semi-Furnished",
          "Semi-Furnished",
          "Semi-Furnished",
          "Semi-Furnished",
          "Furnished",
          "Semi-Furnished",
          "Semi-Furnished",
          "Semi-Furnished",
          "Semi-Furnished",
          "Semi-Furnished",
          "Semi-Furnished",
          "Semi-Furnished",
          "Semi-Furnished",
          "Semi-Furnished",
          "Semi-Furnished",
          "Semi-Furnished",
          "Semi-Furnished",
          "Semi-Furnished",
          "Semi-Furnished",
          "Semi-Furnished",
          "Semi-Furnished",
          "Semi-Furnished",
          "Semi-Furnished",
          "Semi-Furnished",
          "Semi-Furnished",
          "Unfurnished",
          "Semi-Furnished",
          "Semi-Furnished",
          "Semi-Furnished",
          "Unfurnished",
          "Semi-Furnished",
          "Semi-Furnished",
          "Unfurnished",
          "Semi-Furnished",
          "Semi-Furnished",
          "Semi-Furnished",
          "Furnished",
          "Semi-Furnished",
          "Semi-Furnished",
          "Unfurnished",
          "Furnished",
          "Semi-Furnished",
          "Semi-Furnished",
          "Semi-Furnished",
          "Semi-Furnished",
          "Semi-Furnished",
          "Semi-Furnished",
          "Semi-Furnished",
          "Unfurnished",
          "Semi-Furnished",
          "Semi-Furnished",
          "Semi-Furnished",
          "Semi-Furnished",
          "Unfurnished",
          "Semi-Furnished",
          "Unfurnished",
          "Semi-Furnished",
          "Semi-Furnished",
          "Unfurnished",
          "Furnished",
          "Semi-Furnished",
          "Furnished",
          "Semi-Furnished",
          "Unfurnished",
          "Semi-Furnished",
          "Unfurnished",
          "Semi-Furnished",
          "Semi-Furnished",
          "Semi-Furnished",
          "Semi-Furnished",
          "Semi-Furnished",
          "Semi-Furnished",
          "Furnished",
          "Semi-Furnished",
          "Unfurnished",
          "Unfurnished",
          "Furnished",
          "Semi-Furnished",
          "Semi-Furnished",
          "Semi-Furnished",
          "Semi-Furnished",
          "Semi-Furnished",
          "Semi-Furnished",
          "Semi-Furnished",
          "Semi-Furnished",
          "Unfurnished",
          "Furnished",
          "Unfurnished",
          "Semi-Furnished",
          "Unfurnished",
          "Furnished",
          "Furnished",
          "Semi-Furnished",
          "Furnished",
          "Semi-Furnished",
          "Semi-Furnished",
          "Semi-Furnished",
          "Semi-Furnished",
          "Semi-Furnished",
          "Semi-Furnished",
          "Semi-Furnished",
          "Semi-Furnished",
          "Furnished",
          "Semi-Furnished",
          "Semi-Furnished",
          "Unfurnished",
          "Unfurnished",
          "Unfurnished",
          "Semi-Furnished",
          "Semi-Furnished",
          "Semi-Furnished",
          "Semi-Furnished",
          "Unfurnished",
          "Unfurnished",
          "Semi-Furnished",
          "Semi-Furnished",
          "Semi-Furnished",
          "Semi-Furnished",
          "Semi-Furnished",
          "Unfurnished",
          "Semi-Furnished",
          "Semi-Furnished",
          "Furnished",
          "Semi-Furnished",
          "Unfurnished",
          "Unfurnished",
          "Semi-Furnished",
          "Semi-Furnished",
          "Unfurnished",
          "Semi-Furnished",
          "Unfurnished",
          "Unfurnished",
          "Semi-Furnished",
          "Semi-Furnished",
          "Furnished",
          "Furnished",
          "Unfurnished",
          "Semi-Furnished",
          "Unfurnished",
          "Semi-Furnished",
          "Unfurnished",
          "Semi-Furnished",
          "Unfurnished",
          "Furnished",
          "Unfurnished",
          "Furnished",
          "Furnished",
          "Furnished",
          "Furnished",
          "Furnished",
          "Furnished",
          "Furnished",
          "Furnished",
          "Furnished",
          "Furnished",
          "Furnished",
          "Furnished",
          "Furnished"
         ],
         "legendgroup": "",
         "name": "",
         "showlegend": true,
         "textinfo": "percent+label",
         "textposition": "inside",
         "type": "pie",
         "values": [
          4950000,
          3800000,
          19000000,
          15000000,
          17500000,
          14000000,
          15600000,
          19000000,
          19000000,
          19000000,
          15000000,
          17500000,
          14000000,
          15600000,
          19000000,
          19000000,
          7200000,
          8400000,
          2000000,
          3000000,
          4700000,
          1600000,
          5500000,
          5500000,
          1700000,
          15000000,
          3000000,
          2600000,
          1650000,
          2000000,
          2000000,
          3500000,
          6200000,
          3000000,
          4900000,
          3500000,
          3500000,
          4400000,
          3000000,
          4500000,
          6500000,
          33500000,
          14700000,
          18000000,
          22500000,
          22000000,
          22500000,
          35000000,
          40000000,
          11500000,
          22500000,
          28500000,
          29000000,
          15500000,
          16500000,
          12500000,
          17500000,
          18500000,
          14200000,
          42100000,
          44000000,
          34300000,
          37500000,
          37000000,
          36200000,
          42500000,
          58000000,
          39000000,
          35500000,
          52500000,
          40000000,
          32500000,
          17000000,
          17000000,
          3000000,
          3000000,
          12000000,
          31000000,
          2000000,
          2000000,
          1600000,
          1600000,
          1800000,
          16000000,
          20000000,
          25000000,
          25000000,
          19000000,
          16100000,
          6800000,
          7000000,
          6900000,
          3600000,
          9300000,
          3300000,
          4800000,
          7500000,
          2600000,
          6000000,
          6700000,
          7000000,
          5800000,
          7000000,
          3200000,
          3400000,
          38500000,
          37500000,
          25000000,
          6000000,
          2200000,
          5500000,
          3800000,
          67000000,
          62500000,
          65000000,
          57500000,
          24900000,
          24900000,
          24700000,
          24900000,
          25900000,
          24800000,
          24900000,
          24900000,
          6800000,
          51000000,
          51000000,
          2300000,
          42500000,
          43500000,
          60000000,
          70000000,
          45000000,
          47000000,
          70000000,
          71000000,
          85000000,
          100000000,
          65000000,
          56000000,
          100000000,
          1500000,
          1500000,
          5000000,
          5000000,
          4700000,
          5500000,
          7300000,
          13000000,
          11500000,
          2800000,
          2200000,
          4400000,
          13500000,
          4100000,
          12000000,
          3500000,
          5500000,
          10000000,
          4700000,
          2400000,
          3800000,
          10000000,
          5500000,
          7000000,
          6500000,
          5000000,
          5000000,
          47500000,
          40000000,
          26000000,
          35000000,
          47500000,
          43000000,
          26000000,
          25000000,
          51000000,
          40000000,
          45000000,
          51100000,
          25500000,
          26500000,
          55000000,
          26000000,
          38000000,
          14000000,
          9000000,
          15000000,
          10000000,
          14500000,
          6200000,
          12500000,
          10000000,
          15800000,
          14600000,
          12500000,
          14600000,
          22000000,
          13400000,
          12500000,
          14500000,
          22500000,
          15500000,
          15800000,
          15000000,
          13000000,
          15000000,
          25000000,
          16500000,
          30000000,
          31500000,
          40000000,
          24500000,
          24500000,
          32500000,
          26000000,
          21000000,
          27500000,
          32500000,
          21000000,
          28000000,
          29500000,
          5400000,
          4000000,
          3500000,
          7500000,
          7000000,
          4500000,
          5500000,
          6600000,
          3700000,
          5600000,
          7000000,
          3500000,
          6000000,
          6000000,
          7500000,
          4000000,
          3500000,
          5000000,
          5130000,
          5130000,
          5130000,
          160000000,
          85000000,
          170000000,
          120000000,
          3790000,
          4200000,
          2900000,
          3800000,
          5000000,
          3200000,
          3000000,
          4500000,
          2200000,
          8500000,
          11500000,
          12000000,
          10700000,
          9000000,
          17000000,
          13000000,
          8100000,
          10000000,
          20000000,
          9000000,
          7000000,
          11500000,
          2800000,
          4500000,
          1800000,
          1700000,
          5600000,
          6000000,
          4000000,
          1700000,
          6000000,
          2100000,
          1700000,
          3500000,
          3200000,
          2850000,
          2500000,
          3500000,
          2000000,
          1750000,
          1900000,
          2200000,
          20000000,
          20000000,
          9300000,
          26000000,
          60000000,
          65000000,
          75000000,
          56000000,
          60000000,
          58000000,
          70000000,
          60000000,
          70000000,
          75000000,
          55000000,
          3500000,
          8500000,
          6000000,
          5500000,
          8000000,
          25000000,
          23000000,
          17500000,
          19500000,
          14200000,
          13500000,
          16500000,
          16500000,
          5800000,
          6000000,
          3800000,
          5500000,
          8500000,
          13100000,
          12500000,
          27500000,
          7000000,
          37500000,
          26500000,
          16000000,
          27000000,
          15000000,
          8000000,
          9500000,
          7400000,
          15000000,
          10400000,
          8000000,
          5900000,
          12000000,
          12500000,
          28000000,
          42500000,
          43200000,
          52500000,
          42500000,
          36500000,
          37500000,
          27500000,
          26000000,
          23500000,
          29000000,
          24500000,
          28000000,
          35000000,
          80000000,
          65000000,
          75100000,
          29000000,
          6000000,
          6200000,
          6200000,
          6200000,
          15000000,
          15000000,
          6500000,
          6000000,
          7300000,
          7600000,
          10000000,
          6000000,
          13500000,
          12500000,
          13000000,
          13000000,
          7700000,
          7000000,
          6800000,
          24000000,
          45000000,
          37500000,
          55000000,
          87500000,
          65000000,
          38000000,
          22500000,
          72500000,
          82500000,
          55000000,
          35000000,
          52500000,
          80000000,
          74000000,
          29500000,
          25500000,
          47500000,
          28500000,
          45000000,
          30500000,
          22500000,
          25000000,
          33700000,
          27000000,
          43500000,
          30000000,
          52100000,
          32500000,
          25000000,
          30000000,
          51000000,
          31000000,
          37500000,
          8000000,
          2700000,
          5500000,
          4100000,
          3300000,
          1900000,
          2500000,
          15000000,
          19000000,
          18800000,
          16000000,
          20000000,
          13500000,
          17500000,
          19000000,
          15500000,
          13500000,
          21000000,
          20000000,
          41000000,
          11000000,
          11700000,
          13500000,
          16000000,
          30000000,
          41000000,
          12500000,
          14500000,
          27500000,
          5000000,
          4500000,
          4000000,
          6000000,
          4500000,
          2600000,
          2350000,
          25000000,
          25000000,
          25500000,
          25000000,
          18500000,
          39700000,
          22000000,
          25500000,
          17000000,
          27500000,
          25500000,
          20000000,
          24500000,
          20900000,
          43100000,
          93000000,
          93000000,
          93000000,
          4000000,
          3100000,
          2500000,
          2000000,
          2900000,
          3200000,
          1850000,
          2150000,
          1900000,
          2000000,
          15000000,
          15500000,
          16500000,
          22500000,
          20000000,
          15000000,
          29000000,
          29000000,
          12000000,
          7500000,
          12000000,
          22000000,
          22000000,
          22500000,
          11500000,
          6000000,
          2700000,
          6500000,
          4000000,
          3000000,
          5000000,
          6000000,
          2500000,
          6500000,
          8000000,
          2700000,
          4500000,
          5700000,
          25000000,
          26500000,
          18500000,
          30000000,
          22000000,
          22500000,
          8700000,
          22000000,
          18500000,
          16000000,
          16000000,
          9000000
         ]
        }
       ],
       "layout": {
        "height": 420,
        "legend": {
         "tracegroupgap": 0
        },
        "template": {
         "data": {
          "bar": [
           {
            "error_x": {
             "color": "#2a3f5f"
            },
            "error_y": {
             "color": "#2a3f5f"
            },
            "marker": {
             "line": {
              "color": "#E5ECF6",
              "width": 0.5
             }
            },
            "type": "bar"
           }
          ],
          "barpolar": [
           {
            "marker": {
             "line": {
              "color": "#E5ECF6",
              "width": 0.5
             }
            },
            "type": "barpolar"
           }
          ],
          "carpet": [
           {
            "aaxis": {
             "endlinecolor": "#2a3f5f",
             "gridcolor": "white",
             "linecolor": "white",
             "minorgridcolor": "white",
             "startlinecolor": "#2a3f5f"
            },
            "baxis": {
             "endlinecolor": "#2a3f5f",
             "gridcolor": "white",
             "linecolor": "white",
             "minorgridcolor": "white",
             "startlinecolor": "#2a3f5f"
            },
            "type": "carpet"
           }
          ],
          "choropleth": [
           {
            "colorbar": {
             "outlinewidth": 0,
             "ticks": ""
            },
            "type": "choropleth"
           }
          ],
          "contour": [
           {
            "colorbar": {
             "outlinewidth": 0,
             "ticks": ""
            },
            "colorscale": [
             [
              0,
              "#0d0887"
             ],
             [
              0.1111111111111111,
              "#46039f"
             ],
             [
              0.2222222222222222,
              "#7201a8"
             ],
             [
              0.3333333333333333,
              "#9c179e"
             ],
             [
              0.4444444444444444,
              "#bd3786"
             ],
             [
              0.5555555555555556,
              "#d8576b"
             ],
             [
              0.6666666666666666,
              "#ed7953"
             ],
             [
              0.7777777777777778,
              "#fb9f3a"
             ],
             [
              0.8888888888888888,
              "#fdca26"
             ],
             [
              1,
              "#f0f921"
             ]
            ],
            "type": "contour"
           }
          ],
          "contourcarpet": [
           {
            "colorbar": {
             "outlinewidth": 0,
             "ticks": ""
            },
            "type": "contourcarpet"
           }
          ],
          "heatmap": [
           {
            "colorbar": {
             "outlinewidth": 0,
             "ticks": ""
            },
            "colorscale": [
             [
              0,
              "#0d0887"
             ],
             [
              0.1111111111111111,
              "#46039f"
             ],
             [
              0.2222222222222222,
              "#7201a8"
             ],
             [
              0.3333333333333333,
              "#9c179e"
             ],
             [
              0.4444444444444444,
              "#bd3786"
             ],
             [
              0.5555555555555556,
              "#d8576b"
             ],
             [
              0.6666666666666666,
              "#ed7953"
             ],
             [
              0.7777777777777778,
              "#fb9f3a"
             ],
             [
              0.8888888888888888,
              "#fdca26"
             ],
             [
              1,
              "#f0f921"
             ]
            ],
            "type": "heatmap"
           }
          ],
          "heatmapgl": [
           {
            "colorbar": {
             "outlinewidth": 0,
             "ticks": ""
            },
            "colorscale": [
             [
              0,
              "#0d0887"
             ],
             [
              0.1111111111111111,
              "#46039f"
             ],
             [
              0.2222222222222222,
              "#7201a8"
             ],
             [
              0.3333333333333333,
              "#9c179e"
             ],
             [
              0.4444444444444444,
              "#bd3786"
             ],
             [
              0.5555555555555556,
              "#d8576b"
             ],
             [
              0.6666666666666666,
              "#ed7953"
             ],
             [
              0.7777777777777778,
              "#fb9f3a"
             ],
             [
              0.8888888888888888,
              "#fdca26"
             ],
             [
              1,
              "#f0f921"
             ]
            ],
            "type": "heatmapgl"
           }
          ],
          "histogram": [
           {
            "marker": {
             "colorbar": {
              "outlinewidth": 0,
              "ticks": ""
             }
            },
            "type": "histogram"
           }
          ],
          "histogram2d": [
           {
            "colorbar": {
             "outlinewidth": 0,
             "ticks": ""
            },
            "colorscale": [
             [
              0,
              "#0d0887"
             ],
             [
              0.1111111111111111,
              "#46039f"
             ],
             [
              0.2222222222222222,
              "#7201a8"
             ],
             [
              0.3333333333333333,
              "#9c179e"
             ],
             [
              0.4444444444444444,
              "#bd3786"
             ],
             [
              0.5555555555555556,
              "#d8576b"
             ],
             [
              0.6666666666666666,
              "#ed7953"
             ],
             [
              0.7777777777777778,
              "#fb9f3a"
             ],
             [
              0.8888888888888888,
              "#fdca26"
             ],
             [
              1,
              "#f0f921"
             ]
            ],
            "type": "histogram2d"
           }
          ],
          "histogram2dcontour": [
           {
            "colorbar": {
             "outlinewidth": 0,
             "ticks": ""
            },
            "colorscale": [
             [
              0,
              "#0d0887"
             ],
             [
              0.1111111111111111,
              "#46039f"
             ],
             [
              0.2222222222222222,
              "#7201a8"
             ],
             [
              0.3333333333333333,
              "#9c179e"
             ],
             [
              0.4444444444444444,
              "#bd3786"
             ],
             [
              0.5555555555555556,
              "#d8576b"
             ],
             [
              0.6666666666666666,
              "#ed7953"
             ],
             [
              0.7777777777777778,
              "#fb9f3a"
             ],
             [
              0.8888888888888888,
              "#fdca26"
             ],
             [
              1,
              "#f0f921"
             ]
            ],
            "type": "histogram2dcontour"
           }
          ],
          "mesh3d": [
           {
            "colorbar": {
             "outlinewidth": 0,
             "ticks": ""
            },
            "type": "mesh3d"
           }
          ],
          "parcoords": [
           {
            "line": {
             "colorbar": {
              "outlinewidth": 0,
              "ticks": ""
             }
            },
            "type": "parcoords"
           }
          ],
          "pie": [
           {
            "automargin": true,
            "type": "pie"
           }
          ],
          "scatter": [
           {
            "marker": {
             "colorbar": {
              "outlinewidth": 0,
              "ticks": ""
             }
            },
            "type": "scatter"
           }
          ],
          "scatter3d": [
           {
            "line": {
             "colorbar": {
              "outlinewidth": 0,
              "ticks": ""
             }
            },
            "marker": {
             "colorbar": {
              "outlinewidth": 0,
              "ticks": ""
             }
            },
            "type": "scatter3d"
           }
          ],
          "scattercarpet": [
           {
            "marker": {
             "colorbar": {
              "outlinewidth": 0,
              "ticks": ""
             }
            },
            "type": "scattercarpet"
           }
          ],
          "scattergeo": [
           {
            "marker": {
             "colorbar": {
              "outlinewidth": 0,
              "ticks": ""
             }
            },
            "type": "scattergeo"
           }
          ],
          "scattergl": [
           {
            "marker": {
             "colorbar": {
              "outlinewidth": 0,
              "ticks": ""
             }
            },
            "type": "scattergl"
           }
          ],
          "scattermapbox": [
           {
            "marker": {
             "colorbar": {
              "outlinewidth": 0,
              "ticks": ""
             }
            },
            "type": "scattermapbox"
           }
          ],
          "scatterpolar": [
           {
            "marker": {
             "colorbar": {
              "outlinewidth": 0,
              "ticks": ""
             }
            },
            "type": "scatterpolar"
           }
          ],
          "scatterpolargl": [
           {
            "marker": {
             "colorbar": {
              "outlinewidth": 0,
              "ticks": ""
             }
            },
            "type": "scatterpolargl"
           }
          ],
          "scatterternary": [
           {
            "marker": {
             "colorbar": {
              "outlinewidth": 0,
              "ticks": ""
             }
            },
            "type": "scatterternary"
           }
          ],
          "surface": [
           {
            "colorbar": {
             "outlinewidth": 0,
             "ticks": ""
            },
            "colorscale": [
             [
              0,
              "#0d0887"
             ],
             [
              0.1111111111111111,
              "#46039f"
             ],
             [
              0.2222222222222222,
              "#7201a8"
             ],
             [
              0.3333333333333333,
              "#9c179e"
             ],
             [
              0.4444444444444444,
              "#bd3786"
             ],
             [
              0.5555555555555556,
              "#d8576b"
             ],
             [
              0.6666666666666666,
              "#ed7953"
             ],
             [
              0.7777777777777778,
              "#fb9f3a"
             ],
             [
              0.8888888888888888,
              "#fdca26"
             ],
             [
              1,
              "#f0f921"
             ]
            ],
            "type": "surface"
           }
          ],
          "table": [
           {
            "cells": {
             "fill": {
              "color": "#EBF0F8"
             },
             "line": {
              "color": "white"
             }
            },
            "header": {
             "fill": {
              "color": "#C8D4E3"
             },
             "line": {
              "color": "white"
             }
            },
            "type": "table"
           }
          ]
         },
         "layout": {
          "annotationdefaults": {
           "arrowcolor": "#2a3f5f",
           "arrowhead": 0,
           "arrowwidth": 1
          },
          "autotypenumbers": "strict",
          "coloraxis": {
           "colorbar": {
            "outlinewidth": 0,
            "ticks": ""
           }
          },
          "colorscale": {
           "diverging": [
            [
             0,
             "#8e0152"
            ],
            [
             0.1,
             "#c51b7d"
            ],
            [
             0.2,
             "#de77ae"
            ],
            [
             0.3,
             "#f1b6da"
            ],
            [
             0.4,
             "#fde0ef"
            ],
            [
             0.5,
             "#f7f7f7"
            ],
            [
             0.6,
             "#e6f5d0"
            ],
            [
             0.7,
             "#b8e186"
            ],
            [
             0.8,
             "#7fbc41"
            ],
            [
             0.9,
             "#4d9221"
            ],
            [
             1,
             "#276419"
            ]
           ],
           "sequential": [
            [
             0,
             "#0d0887"
            ],
            [
             0.1111111111111111,
             "#46039f"
            ],
            [
             0.2222222222222222,
             "#7201a8"
            ],
            [
             0.3333333333333333,
             "#9c179e"
            ],
            [
             0.4444444444444444,
             "#bd3786"
            ],
            [
             0.5555555555555556,
             "#d8576b"
            ],
            [
             0.6666666666666666,
             "#ed7953"
            ],
            [
             0.7777777777777778,
             "#fb9f3a"
            ],
            [
             0.8888888888888888,
             "#fdca26"
            ],
            [
             1,
             "#f0f921"
            ]
           ],
           "sequentialminus": [
            [
             0,
             "#0d0887"
            ],
            [
             0.1111111111111111,
             "#46039f"
            ],
            [
             0.2222222222222222,
             "#7201a8"
            ],
            [
             0.3333333333333333,
             "#9c179e"
            ],
            [
             0.4444444444444444,
             "#bd3786"
            ],
            [
             0.5555555555555556,
             "#d8576b"
            ],
            [
             0.6666666666666666,
             "#ed7953"
            ],
            [
             0.7777777777777778,
             "#fb9f3a"
            ],
            [
             0.8888888888888888,
             "#fdca26"
            ],
            [
             1,
             "#f0f921"
            ]
           ]
          },
          "colorway": [
           "#636efa",
           "#EF553B",
           "#00cc96",
           "#ab63fa",
           "#FFA15A",
           "#19d3f3",
           "#FF6692",
           "#B6E880",
           "#FF97FF",
           "#FECB52"
          ],
          "font": {
           "color": "#2a3f5f"
          },
          "geo": {
           "bgcolor": "white",
           "lakecolor": "white",
           "landcolor": "#E5ECF6",
           "showlakes": true,
           "showland": true,
           "subunitcolor": "white"
          },
          "hoverlabel": {
           "align": "left"
          },
          "hovermode": "closest",
          "mapbox": {
           "style": "light"
          },
          "paper_bgcolor": "white",
          "plot_bgcolor": "#E5ECF6",
          "polar": {
           "angularaxis": {
            "gridcolor": "white",
            "linecolor": "white",
            "ticks": ""
           },
           "bgcolor": "#E5ECF6",
           "radialaxis": {
            "gridcolor": "white",
            "linecolor": "white",
            "ticks": ""
           }
          },
          "scene": {
           "xaxis": {
            "backgroundcolor": "#E5ECF6",
            "gridcolor": "white",
            "gridwidth": 2,
            "linecolor": "white",
            "showbackground": true,
            "ticks": "",
            "zerolinecolor": "white"
           },
           "yaxis": {
            "backgroundcolor": "#E5ECF6",
            "gridcolor": "white",
            "gridwidth": 2,
            "linecolor": "white",
            "showbackground": true,
            "ticks": "",
            "zerolinecolor": "white"
           },
           "zaxis": {
            "backgroundcolor": "#E5ECF6",
            "gridcolor": "white",
            "gridwidth": 2,
            "linecolor": "white",
            "showbackground": true,
            "ticks": "",
            "zerolinecolor": "white"
           }
          },
          "shapedefaults": {
           "line": {
            "color": "#2a3f5f"
           }
          },
          "ternary": {
           "aaxis": {
            "gridcolor": "white",
            "linecolor": "white",
            "ticks": ""
           },
           "baxis": {
            "gridcolor": "white",
            "linecolor": "white",
            "ticks": ""
           },
           "bgcolor": "#E5ECF6",
           "caxis": {
            "gridcolor": "white",
            "linecolor": "white",
            "ticks": ""
           }
          },
          "title": {
           "x": 0.05
          },
          "xaxis": {
           "automargin": true,
           "gridcolor": "white",
           "linecolor": "white",
           "ticks": "",
           "title": {
            "standoff": 15
           },
           "zerolinecolor": "white",
           "zerolinewidth": 2
          },
          "yaxis": {
           "automargin": true,
           "gridcolor": "white",
           "linecolor": "white",
           "ticks": "",
           "title": {
            "standoff": 15
           },
           "zerolinecolor": "white",
           "zerolinewidth": 2
          }
         }
        },
        "title": {
         "text": "House Condition vs Price Share"
        },
        "width": 600
       }
      }
     },
     "metadata": {}
    }
   ],
   "source": [
    "# Price Share of House types\n",
    "fig = px.pie(df3, values='Price', names='Furnishing',\n",
    "                title='House Condition vs Price Share')\n",
    "fig.update_traces(textposition='inside', textinfo='percent+label')\n",
    "fig.update_layout(height=420,width=600)\n",
    "fig.show()"
   ]
  },
  {
   "cell_type": "code",
   "execution_count": 19,
   "metadata": {},
   "outputs": [
    {
     "output_type": "display_data",
     "data": {
      "application/vnd.plotly.v1+json": {
       "config": {
        "plotlyServerURL": "https://plot.ly"
       },
       "data": [
        {
         "alignmentgroup": "True",
         "bingroup": "x",
         "hovertemplate": "Type=%{x}<br>count=%{y}<extra></extra>",
         "legendgroup": "Apartment",
         "marker": {
          "color": "#636efa",
          "opacity": 0.7
         },
         "name": "Apartment",
         "offsetgroup": "Apartment",
         "orientation": "v",
         "showlegend": true,
         "type": "histogram",
         "x": [
          "Apartment",
          "Apartment",
          "Apartment",
          "Apartment",
          "Apartment",
          "Apartment",
          "Apartment",
          "Apartment",
          "Apartment",
          "Apartment",
          "Apartment",
          "Apartment",
          "Apartment",
          "Apartment",
          "Apartment",
          "Apartment",
          "Apartment",
          "Apartment",
          "Apartment",
          "Apartment",
          "Apartment",
          "Apartment",
          "Apartment",
          "Apartment",
          "Apartment",
          "Apartment",
          "Apartment",
          "Apartment",
          "Apartment",
          "Apartment",
          "Apartment",
          "Apartment",
          "Apartment",
          "Apartment",
          "Apartment",
          "Apartment",
          "Apartment",
          "Apartment",
          "Apartment",
          "Apartment",
          "Apartment",
          "Apartment",
          "Apartment",
          "Apartment",
          "Apartment",
          "Apartment",
          "Apartment",
          "Apartment",
          "Apartment",
          "Apartment",
          "Apartment",
          "Apartment",
          "Apartment",
          "Apartment",
          "Apartment",
          "Apartment",
          "Apartment",
          "Apartment",
          "Apartment",
          "Apartment",
          "Apartment",
          "Apartment",
          "Apartment",
          "Apartment",
          "Apartment",
          "Apartment",
          "Apartment",
          "Apartment",
          "Apartment",
          "Apartment",
          "Apartment",
          "Apartment",
          "Apartment",
          "Apartment",
          "Apartment",
          "Apartment",
          "Apartment",
          "Apartment",
          "Apartment",
          "Apartment",
          "Apartment",
          "Apartment",
          "Apartment",
          "Apartment",
          "Apartment",
          "Apartment",
          "Apartment",
          "Apartment",
          "Apartment",
          "Apartment",
          "Apartment",
          "Apartment",
          "Apartment",
          "Apartment",
          "Apartment",
          "Apartment",
          "Apartment",
          "Apartment",
          "Apartment",
          "Apartment",
          "Apartment",
          "Apartment",
          "Apartment",
          "Apartment",
          "Apartment",
          "Apartment",
          "Apartment",
          "Apartment",
          "Apartment",
          "Apartment",
          "Apartment",
          "Apartment",
          "Apartment",
          "Apartment",
          "Apartment",
          "Apartment",
          "Apartment",
          "Apartment",
          "Apartment",
          "Apartment",
          "Apartment",
          "Apartment",
          "Apartment",
          "Apartment",
          "Apartment",
          "Apartment",
          "Apartment",
          "Apartment",
          "Apartment",
          "Apartment",
          "Apartment",
          "Apartment",
          "Apartment",
          "Apartment",
          "Apartment",
          "Apartment",
          "Apartment",
          "Apartment",
          "Apartment",
          "Apartment",
          "Apartment",
          "Apartment",
          "Apartment",
          "Apartment",
          "Apartment",
          "Apartment",
          "Apartment",
          "Apartment",
          "Apartment",
          "Apartment",
          "Apartment",
          "Apartment",
          "Apartment",
          "Apartment",
          "Apartment",
          "Apartment",
          "Apartment",
          "Apartment",
          "Apartment",
          "Apartment",
          "Apartment",
          "Apartment",
          "Apartment",
          "Apartment",
          "Apartment",
          "Apartment",
          "Apartment",
          "Apartment",
          "Apartment",
          "Apartment",
          "Apartment",
          "Apartment",
          "Apartment",
          "Apartment",
          "Apartment",
          "Apartment",
          "Apartment",
          "Apartment",
          "Apartment",
          "Apartment",
          "Apartment",
          "Apartment",
          "Apartment",
          "Apartment",
          "Apartment",
          "Apartment",
          "Apartment",
          "Apartment",
          "Apartment",
          "Apartment",
          "Apartment",
          "Apartment",
          "Apartment",
          "Apartment",
          "Apartment",
          "Apartment",
          "Apartment",
          "Apartment",
          "Apartment",
          "Apartment",
          "Apartment",
          "Apartment",
          "Apartment",
          "Apartment",
          "Apartment"
         ],
         "xaxis": "x",
         "yaxis": "y"
        },
        {
         "alignmentgroup": "True",
         "bingroup": "x",
         "hovertemplate": "Type=%{x}<br>count=%{y}<extra></extra>",
         "legendgroup": "Builder_Floor",
         "marker": {
          "color": "#EF553B",
          "opacity": 0.7
         },
         "name": "Builder_Floor",
         "offsetgroup": "Builder_Floor",
         "orientation": "v",
         "showlegend": true,
         "type": "histogram",
         "x": [
          "Builder_Floor",
          "Builder_Floor",
          "Builder_Floor",
          "Builder_Floor",
          "Builder_Floor",
          "Builder_Floor",
          "Builder_Floor",
          "Builder_Floor",
          "Builder_Floor",
          "Builder_Floor",
          "Builder_Floor",
          "Builder_Floor",
          "Builder_Floor",
          "Builder_Floor",
          "Builder_Floor",
          "Builder_Floor",
          "Builder_Floor",
          "Builder_Floor",
          "Builder_Floor",
          "Builder_Floor",
          "Builder_Floor",
          "Builder_Floor",
          "Builder_Floor",
          "Builder_Floor",
          "Builder_Floor",
          "Builder_Floor",
          "Builder_Floor",
          "Builder_Floor",
          "Builder_Floor",
          "Builder_Floor",
          "Builder_Floor",
          "Builder_Floor",
          "Builder_Floor",
          "Builder_Floor",
          "Builder_Floor",
          "Builder_Floor",
          "Builder_Floor",
          "Builder_Floor",
          "Builder_Floor",
          "Builder_Floor",
          "Builder_Floor",
          "Builder_Floor",
          "Builder_Floor",
          "Builder_Floor",
          "Builder_Floor",
          "Builder_Floor",
          "Builder_Floor",
          "Builder_Floor",
          "Builder_Floor",
          "Builder_Floor",
          "Builder_Floor",
          "Builder_Floor",
          "Builder_Floor",
          "Builder_Floor",
          "Builder_Floor",
          "Builder_Floor",
          "Builder_Floor",
          "Builder_Floor",
          "Builder_Floor",
          "Builder_Floor",
          "Builder_Floor",
          "Builder_Floor",
          "Builder_Floor",
          "Builder_Floor",
          "Builder_Floor",
          "Builder_Floor",
          "Builder_Floor",
          "Builder_Floor",
          "Builder_Floor",
          "Builder_Floor",
          "Builder_Floor",
          "Builder_Floor",
          "Builder_Floor",
          "Builder_Floor",
          "Builder_Floor",
          "Builder_Floor",
          "Builder_Floor",
          "Builder_Floor",
          "Builder_Floor",
          "Builder_Floor",
          "Builder_Floor",
          "Builder_Floor",
          "Builder_Floor",
          "Builder_Floor",
          "Builder_Floor",
          "Builder_Floor",
          "Builder_Floor",
          "Builder_Floor",
          "Builder_Floor",
          "Builder_Floor",
          "Builder_Floor",
          "Builder_Floor",
          "Builder_Floor",
          "Builder_Floor",
          "Builder_Floor",
          "Builder_Floor",
          "Builder_Floor",
          "Builder_Floor",
          "Builder_Floor",
          "Builder_Floor",
          "Builder_Floor",
          "Builder_Floor",
          "Builder_Floor",
          "Builder_Floor",
          "Builder_Floor",
          "Builder_Floor",
          "Builder_Floor",
          "Builder_Floor",
          "Builder_Floor",
          "Builder_Floor",
          "Builder_Floor",
          "Builder_Floor",
          "Builder_Floor",
          "Builder_Floor",
          "Builder_Floor",
          "Builder_Floor",
          "Builder_Floor",
          "Builder_Floor",
          "Builder_Floor",
          "Builder_Floor",
          "Builder_Floor",
          "Builder_Floor",
          "Builder_Floor",
          "Builder_Floor",
          "Builder_Floor",
          "Builder_Floor",
          "Builder_Floor",
          "Builder_Floor",
          "Builder_Floor",
          "Builder_Floor",
          "Builder_Floor",
          "Builder_Floor",
          "Builder_Floor",
          "Builder_Floor",
          "Builder_Floor",
          "Builder_Floor",
          "Builder_Floor",
          "Builder_Floor",
          "Builder_Floor",
          "Builder_Floor",
          "Builder_Floor",
          "Builder_Floor",
          "Builder_Floor",
          "Builder_Floor",
          "Builder_Floor",
          "Builder_Floor",
          "Builder_Floor",
          "Builder_Floor",
          "Builder_Floor",
          "Builder_Floor",
          "Builder_Floor",
          "Builder_Floor",
          "Builder_Floor",
          "Builder_Floor",
          "Builder_Floor",
          "Builder_Floor",
          "Builder_Floor",
          "Builder_Floor",
          "Builder_Floor",
          "Builder_Floor",
          "Builder_Floor",
          "Builder_Floor",
          "Builder_Floor",
          "Builder_Floor",
          "Builder_Floor",
          "Builder_Floor",
          "Builder_Floor",
          "Builder_Floor",
          "Builder_Floor",
          "Builder_Floor",
          "Builder_Floor",
          "Builder_Floor",
          "Builder_Floor",
          "Builder_Floor",
          "Builder_Floor",
          "Builder_Floor",
          "Builder_Floor",
          "Builder_Floor",
          "Builder_Floor",
          "Builder_Floor",
          "Builder_Floor",
          "Builder_Floor",
          "Builder_Floor",
          "Builder_Floor",
          "Builder_Floor",
          "Builder_Floor",
          "Builder_Floor",
          "Builder_Floor",
          "Builder_Floor",
          "Builder_Floor",
          "Builder_Floor",
          "Builder_Floor",
          "Builder_Floor",
          "Builder_Floor",
          "Builder_Floor",
          "Builder_Floor",
          "Builder_Floor",
          "Builder_Floor",
          "Builder_Floor",
          "Builder_Floor",
          "Builder_Floor",
          "Builder_Floor",
          "Builder_Floor",
          "Builder_Floor",
          "Builder_Floor",
          "Builder_Floor",
          "Builder_Floor",
          "Builder_Floor",
          "Builder_Floor",
          "Builder_Floor",
          "Builder_Floor",
          "Builder_Floor",
          "Builder_Floor",
          "Builder_Floor",
          "Builder_Floor",
          "Builder_Floor",
          "Builder_Floor",
          "Builder_Floor",
          "Builder_Floor",
          "Builder_Floor",
          "Builder_Floor",
          "Builder_Floor",
          "Builder_Floor",
          "Builder_Floor",
          "Builder_Floor",
          "Builder_Floor",
          "Builder_Floor",
          "Builder_Floor",
          "Builder_Floor",
          "Builder_Floor",
          "Builder_Floor",
          "Builder_Floor",
          "Builder_Floor",
          "Builder_Floor",
          "Builder_Floor",
          "Builder_Floor",
          "Builder_Floor",
          "Builder_Floor",
          "Builder_Floor",
          "Builder_Floor",
          "Builder_Floor",
          "Builder_Floor",
          "Builder_Floor",
          "Builder_Floor",
          "Builder_Floor",
          "Builder_Floor",
          "Builder_Floor",
          "Builder_Floor",
          "Builder_Floor",
          "Builder_Floor",
          "Builder_Floor",
          "Builder_Floor",
          "Builder_Floor",
          "Builder_Floor",
          "Builder_Floor",
          "Builder_Floor",
          "Builder_Floor",
          "Builder_Floor",
          "Builder_Floor",
          "Builder_Floor",
          "Builder_Floor",
          "Builder_Floor",
          "Builder_Floor",
          "Builder_Floor",
          "Builder_Floor",
          "Builder_Floor",
          "Builder_Floor",
          "Builder_Floor",
          "Builder_Floor",
          "Builder_Floor",
          "Builder_Floor",
          "Builder_Floor",
          "Builder_Floor",
          "Builder_Floor",
          "Builder_Floor",
          "Builder_Floor",
          "Builder_Floor",
          "Builder_Floor",
          "Builder_Floor",
          "Builder_Floor",
          "Builder_Floor",
          "Builder_Floor",
          "Builder_Floor",
          "Builder_Floor",
          "Builder_Floor",
          "Builder_Floor",
          "Builder_Floor",
          "Builder_Floor",
          "Builder_Floor",
          "Builder_Floor",
          "Builder_Floor",
          "Builder_Floor",
          "Builder_Floor",
          "Builder_Floor",
          "Builder_Floor",
          "Builder_Floor",
          "Builder_Floor",
          "Builder_Floor",
          "Builder_Floor",
          "Builder_Floor",
          "Builder_Floor",
          "Builder_Floor",
          "Builder_Floor",
          "Builder_Floor",
          "Builder_Floor",
          "Builder_Floor",
          "Builder_Floor",
          "Builder_Floor",
          "Builder_Floor",
          "Builder_Floor"
         ],
         "xaxis": "x",
         "yaxis": "y"
        }
       ],
       "layout": {
        "bargap": 0.1,
        "bargroupgap": 0.2,
        "barmode": "group",
        "height": 520,
        "legend": {
         "title": {
          "text": "Type"
         },
         "tracegroupgap": 0
        },
        "template": {
         "data": {
          "bar": [
           {
            "error_x": {
             "color": "#2a3f5f"
            },
            "error_y": {
             "color": "#2a3f5f"
            },
            "marker": {
             "line": {
              "color": "#E5ECF6",
              "width": 0.5
             }
            },
            "type": "bar"
           }
          ],
          "barpolar": [
           {
            "marker": {
             "line": {
              "color": "#E5ECF6",
              "width": 0.5
             }
            },
            "type": "barpolar"
           }
          ],
          "carpet": [
           {
            "aaxis": {
             "endlinecolor": "#2a3f5f",
             "gridcolor": "white",
             "linecolor": "white",
             "minorgridcolor": "white",
             "startlinecolor": "#2a3f5f"
            },
            "baxis": {
             "endlinecolor": "#2a3f5f",
             "gridcolor": "white",
             "linecolor": "white",
             "minorgridcolor": "white",
             "startlinecolor": "#2a3f5f"
            },
            "type": "carpet"
           }
          ],
          "choropleth": [
           {
            "colorbar": {
             "outlinewidth": 0,
             "ticks": ""
            },
            "type": "choropleth"
           }
          ],
          "contour": [
           {
            "colorbar": {
             "outlinewidth": 0,
             "ticks": ""
            },
            "colorscale": [
             [
              0,
              "#0d0887"
             ],
             [
              0.1111111111111111,
              "#46039f"
             ],
             [
              0.2222222222222222,
              "#7201a8"
             ],
             [
              0.3333333333333333,
              "#9c179e"
             ],
             [
              0.4444444444444444,
              "#bd3786"
             ],
             [
              0.5555555555555556,
              "#d8576b"
             ],
             [
              0.6666666666666666,
              "#ed7953"
             ],
             [
              0.7777777777777778,
              "#fb9f3a"
             ],
             [
              0.8888888888888888,
              "#fdca26"
             ],
             [
              1,
              "#f0f921"
             ]
            ],
            "type": "contour"
           }
          ],
          "contourcarpet": [
           {
            "colorbar": {
             "outlinewidth": 0,
             "ticks": ""
            },
            "type": "contourcarpet"
           }
          ],
          "heatmap": [
           {
            "colorbar": {
             "outlinewidth": 0,
             "ticks": ""
            },
            "colorscale": [
             [
              0,
              "#0d0887"
             ],
             [
              0.1111111111111111,
              "#46039f"
             ],
             [
              0.2222222222222222,
              "#7201a8"
             ],
             [
              0.3333333333333333,
              "#9c179e"
             ],
             [
              0.4444444444444444,
              "#bd3786"
             ],
             [
              0.5555555555555556,
              "#d8576b"
             ],
             [
              0.6666666666666666,
              "#ed7953"
             ],
             [
              0.7777777777777778,
              "#fb9f3a"
             ],
             [
              0.8888888888888888,
              "#fdca26"
             ],
             [
              1,
              "#f0f921"
             ]
            ],
            "type": "heatmap"
           }
          ],
          "heatmapgl": [
           {
            "colorbar": {
             "outlinewidth": 0,
             "ticks": ""
            },
            "colorscale": [
             [
              0,
              "#0d0887"
             ],
             [
              0.1111111111111111,
              "#46039f"
             ],
             [
              0.2222222222222222,
              "#7201a8"
             ],
             [
              0.3333333333333333,
              "#9c179e"
             ],
             [
              0.4444444444444444,
              "#bd3786"
             ],
             [
              0.5555555555555556,
              "#d8576b"
             ],
             [
              0.6666666666666666,
              "#ed7953"
             ],
             [
              0.7777777777777778,
              "#fb9f3a"
             ],
             [
              0.8888888888888888,
              "#fdca26"
             ],
             [
              1,
              "#f0f921"
             ]
            ],
            "type": "heatmapgl"
           }
          ],
          "histogram": [
           {
            "marker": {
             "colorbar": {
              "outlinewidth": 0,
              "ticks": ""
             }
            },
            "type": "histogram"
           }
          ],
          "histogram2d": [
           {
            "colorbar": {
             "outlinewidth": 0,
             "ticks": ""
            },
            "colorscale": [
             [
              0,
              "#0d0887"
             ],
             [
              0.1111111111111111,
              "#46039f"
             ],
             [
              0.2222222222222222,
              "#7201a8"
             ],
             [
              0.3333333333333333,
              "#9c179e"
             ],
             [
              0.4444444444444444,
              "#bd3786"
             ],
             [
              0.5555555555555556,
              "#d8576b"
             ],
             [
              0.6666666666666666,
              "#ed7953"
             ],
             [
              0.7777777777777778,
              "#fb9f3a"
             ],
             [
              0.8888888888888888,
              "#fdca26"
             ],
             [
              1,
              "#f0f921"
             ]
            ],
            "type": "histogram2d"
           }
          ],
          "histogram2dcontour": [
           {
            "colorbar": {
             "outlinewidth": 0,
             "ticks": ""
            },
            "colorscale": [
             [
              0,
              "#0d0887"
             ],
             [
              0.1111111111111111,
              "#46039f"
             ],
             [
              0.2222222222222222,
              "#7201a8"
             ],
             [
              0.3333333333333333,
              "#9c179e"
             ],
             [
              0.4444444444444444,
              "#bd3786"
             ],
             [
              0.5555555555555556,
              "#d8576b"
             ],
             [
              0.6666666666666666,
              "#ed7953"
             ],
             [
              0.7777777777777778,
              "#fb9f3a"
             ],
             [
              0.8888888888888888,
              "#fdca26"
             ],
             [
              1,
              "#f0f921"
             ]
            ],
            "type": "histogram2dcontour"
           }
          ],
          "mesh3d": [
           {
            "colorbar": {
             "outlinewidth": 0,
             "ticks": ""
            },
            "type": "mesh3d"
           }
          ],
          "parcoords": [
           {
            "line": {
             "colorbar": {
              "outlinewidth": 0,
              "ticks": ""
             }
            },
            "type": "parcoords"
           }
          ],
          "pie": [
           {
            "automargin": true,
            "type": "pie"
           }
          ],
          "scatter": [
           {
            "marker": {
             "colorbar": {
              "outlinewidth": 0,
              "ticks": ""
             }
            },
            "type": "scatter"
           }
          ],
          "scatter3d": [
           {
            "line": {
             "colorbar": {
              "outlinewidth": 0,
              "ticks": ""
             }
            },
            "marker": {
             "colorbar": {
              "outlinewidth": 0,
              "ticks": ""
             }
            },
            "type": "scatter3d"
           }
          ],
          "scattercarpet": [
           {
            "marker": {
             "colorbar": {
              "outlinewidth": 0,
              "ticks": ""
             }
            },
            "type": "scattercarpet"
           }
          ],
          "scattergeo": [
           {
            "marker": {
             "colorbar": {
              "outlinewidth": 0,
              "ticks": ""
             }
            },
            "type": "scattergeo"
           }
          ],
          "scattergl": [
           {
            "marker": {
             "colorbar": {
              "outlinewidth": 0,
              "ticks": ""
             }
            },
            "type": "scattergl"
           }
          ],
          "scattermapbox": [
           {
            "marker": {
             "colorbar": {
              "outlinewidth": 0,
              "ticks": ""
             }
            },
            "type": "scattermapbox"
           }
          ],
          "scatterpolar": [
           {
            "marker": {
             "colorbar": {
              "outlinewidth": 0,
              "ticks": ""
             }
            },
            "type": "scatterpolar"
           }
          ],
          "scatterpolargl": [
           {
            "marker": {
             "colorbar": {
              "outlinewidth": 0,
              "ticks": ""
             }
            },
            "type": "scatterpolargl"
           }
          ],
          "scatterternary": [
           {
            "marker": {
             "colorbar": {
              "outlinewidth": 0,
              "ticks": ""
             }
            },
            "type": "scatterternary"
           }
          ],
          "surface": [
           {
            "colorbar": {
             "outlinewidth": 0,
             "ticks": ""
            },
            "colorscale": [
             [
              0,
              "#0d0887"
             ],
             [
              0.1111111111111111,
              "#46039f"
             ],
             [
              0.2222222222222222,
              "#7201a8"
             ],
             [
              0.3333333333333333,
              "#9c179e"
             ],
             [
              0.4444444444444444,
              "#bd3786"
             ],
             [
              0.5555555555555556,
              "#d8576b"
             ],
             [
              0.6666666666666666,
              "#ed7953"
             ],
             [
              0.7777777777777778,
              "#fb9f3a"
             ],
             [
              0.8888888888888888,
              "#fdca26"
             ],
             [
              1,
              "#f0f921"
             ]
            ],
            "type": "surface"
           }
          ],
          "table": [
           {
            "cells": {
             "fill": {
              "color": "#EBF0F8"
             },
             "line": {
              "color": "white"
             }
            },
            "header": {
             "fill": {
              "color": "#C8D4E3"
             },
             "line": {
              "color": "white"
             }
            },
            "type": "table"
           }
          ]
         },
         "layout": {
          "annotationdefaults": {
           "arrowcolor": "#2a3f5f",
           "arrowhead": 0,
           "arrowwidth": 1
          },
          "autotypenumbers": "strict",
          "coloraxis": {
           "colorbar": {
            "outlinewidth": 0,
            "ticks": ""
           }
          },
          "colorscale": {
           "diverging": [
            [
             0,
             "#8e0152"
            ],
            [
             0.1,
             "#c51b7d"
            ],
            [
             0.2,
             "#de77ae"
            ],
            [
             0.3,
             "#f1b6da"
            ],
            [
             0.4,
             "#fde0ef"
            ],
            [
             0.5,
             "#f7f7f7"
            ],
            [
             0.6,
             "#e6f5d0"
            ],
            [
             0.7,
             "#b8e186"
            ],
            [
             0.8,
             "#7fbc41"
            ],
            [
             0.9,
             "#4d9221"
            ],
            [
             1,
             "#276419"
            ]
           ],
           "sequential": [
            [
             0,
             "#0d0887"
            ],
            [
             0.1111111111111111,
             "#46039f"
            ],
            [
             0.2222222222222222,
             "#7201a8"
            ],
            [
             0.3333333333333333,
             "#9c179e"
            ],
            [
             0.4444444444444444,
             "#bd3786"
            ],
            [
             0.5555555555555556,
             "#d8576b"
            ],
            [
             0.6666666666666666,
             "#ed7953"
            ],
            [
             0.7777777777777778,
             "#fb9f3a"
            ],
            [
             0.8888888888888888,
             "#fdca26"
            ],
            [
             1,
             "#f0f921"
            ]
           ],
           "sequentialminus": [
            [
             0,
             "#0d0887"
            ],
            [
             0.1111111111111111,
             "#46039f"
            ],
            [
             0.2222222222222222,
             "#7201a8"
            ],
            [
             0.3333333333333333,
             "#9c179e"
            ],
            [
             0.4444444444444444,
             "#bd3786"
            ],
            [
             0.5555555555555556,
             "#d8576b"
            ],
            [
             0.6666666666666666,
             "#ed7953"
            ],
            [
             0.7777777777777778,
             "#fb9f3a"
            ],
            [
             0.8888888888888888,
             "#fdca26"
            ],
            [
             1,
             "#f0f921"
            ]
           ]
          },
          "colorway": [
           "#636efa",
           "#EF553B",
           "#00cc96",
           "#ab63fa",
           "#FFA15A",
           "#19d3f3",
           "#FF6692",
           "#B6E880",
           "#FF97FF",
           "#FECB52"
          ],
          "font": {
           "color": "#2a3f5f"
          },
          "geo": {
           "bgcolor": "white",
           "lakecolor": "white",
           "landcolor": "#E5ECF6",
           "showlakes": true,
           "showland": true,
           "subunitcolor": "white"
          },
          "hoverlabel": {
           "align": "left"
          },
          "hovermode": "closest",
          "mapbox": {
           "style": "light"
          },
          "paper_bgcolor": "white",
          "plot_bgcolor": "#E5ECF6",
          "polar": {
           "angularaxis": {
            "gridcolor": "white",
            "linecolor": "white",
            "ticks": ""
           },
           "bgcolor": "#E5ECF6",
           "radialaxis": {
            "gridcolor": "white",
            "linecolor": "white",
            "ticks": ""
           }
          },
          "scene": {
           "xaxis": {
            "backgroundcolor": "#E5ECF6",
            "gridcolor": "white",
            "gridwidth": 2,
            "linecolor": "white",
            "showbackground": true,
            "ticks": "",
            "zerolinecolor": "white"
           },
           "yaxis": {
            "backgroundcolor": "#E5ECF6",
            "gridcolor": "white",
            "gridwidth": 2,
            "linecolor": "white",
            "showbackground": true,
            "ticks": "",
            "zerolinecolor": "white"
           },
           "zaxis": {
            "backgroundcolor": "#E5ECF6",
            "gridcolor": "white",
            "gridwidth": 2,
            "linecolor": "white",
            "showbackground": true,
            "ticks": "",
            "zerolinecolor": "white"
           }
          },
          "shapedefaults": {
           "line": {
            "color": "#2a3f5f"
           }
          },
          "ternary": {
           "aaxis": {
            "gridcolor": "white",
            "linecolor": "white",
            "ticks": ""
           },
           "baxis": {
            "gridcolor": "white",
            "linecolor": "white",
            "ticks": ""
           },
           "bgcolor": "#E5ECF6",
           "caxis": {
            "gridcolor": "white",
            "linecolor": "white",
            "ticks": ""
           }
          },
          "title": {
           "x": 0.05
          },
          "xaxis": {
           "automargin": true,
           "gridcolor": "white",
           "linecolor": "white",
           "ticks": "",
           "title": {
            "standoff": 15
           },
           "zerolinecolor": "white",
           "zerolinewidth": 2
          },
          "yaxis": {
           "automargin": true,
           "gridcolor": "white",
           "linecolor": "white",
           "ticks": "",
           "title": {
            "standoff": 15
           },
           "zerolinecolor": "white",
           "zerolinewidth": 2
          }
         }
        },
        "title": {
         "text": "House Type"
        },
        "width": 600,
        "xaxis": {
         "anchor": "y",
         "categoryarray": [
          "Apartment",
          "Builder_Floor"
         ],
         "categoryorder": "array",
         "domain": [
          0,
          1
         ],
         "title": {
          "text": "Type"
         }
        },
        "yaxis": {
         "anchor": "x",
         "domain": [
          0,
          1
         ],
         "title": {
          "text": "count"
         }
        }
       }
      }
     },
     "metadata": {}
    }
   ],
   "source": [
    "# Different house types\n",
    "fig = px.histogram(df3,x='Type',\n",
    "                    title='House Type',\n",
    "                    opacity=0.7,\n",
    "                    color = 'Type')\n",
    "                    #color_discrete_sequence=['indianred']\n",
    "fig.update_layout(barmode='group', bargap=0.10,bargroupgap=0.2,height=520,width=600)\n",
    "fig.show()"
   ]
  },
  {
   "cell_type": "code",
   "execution_count": 20,
   "metadata": {},
   "outputs": [
    {
     "output_type": "display_data",
     "data": {
      "application/vnd.plotly.v1+json": {
       "config": {
        "plotlyServerURL": "https://plot.ly"
       },
       "data": [
        {
         "domain": {
          "x": [
           0,
           1
          ],
          "y": [
           0,
           1
          ]
         },
         "hovertemplate": "Type=%{label}<br>Price=%{value}<extra></extra>",
         "labels": [
          "Apartment",
          "Builder_Floor",
          "Apartment",
          "Apartment",
          "Apartment",
          "Apartment",
          "Apartment",
          "Apartment",
          "Apartment",
          "Apartment",
          "Apartment",
          "Apartment",
          "Apartment",
          "Apartment",
          "Apartment",
          "Apartment",
          "Builder_Floor",
          "Apartment",
          "Apartment",
          "Builder_Floor",
          "Builder_Floor",
          "Apartment",
          "Builder_Floor",
          "Builder_Floor",
          "Builder_Floor",
          "Builder_Floor",
          "Builder_Floor",
          "Builder_Floor",
          "Apartment",
          "Builder_Floor",
          "Apartment",
          "Builder_Floor",
          "Builder_Floor",
          "Apartment",
          "Builder_Floor",
          "Builder_Floor",
          "Builder_Floor",
          "Builder_Floor",
          "Builder_Floor",
          "Builder_Floor",
          "Builder_Floor",
          "Builder_Floor",
          "Builder_Floor",
          "Builder_Floor",
          "Builder_Floor",
          "Builder_Floor",
          "Builder_Floor",
          "Builder_Floor",
          "Builder_Floor",
          "Builder_Floor",
          "Builder_Floor",
          "Builder_Floor",
          "Builder_Floor",
          "Builder_Floor",
          "Builder_Floor",
          "Builder_Floor",
          "Builder_Floor",
          "Builder_Floor",
          "Apartment",
          "Apartment",
          "Apartment",
          "Apartment",
          "Apartment",
          "Apartment",
          "Apartment",
          "Apartment",
          "Apartment",
          "Apartment",
          "Apartment",
          "Apartment",
          "Apartment",
          "Apartment",
          "Apartment",
          "Apartment",
          "Apartment",
          "Apartment",
          "Apartment",
          "Apartment",
          "Apartment",
          "Apartment",
          "Apartment",
          "Builder_Floor",
          "Builder_Floor",
          "Apartment",
          "Apartment",
          "Apartment",
          "Apartment",
          "Apartment",
          "Apartment",
          "Apartment",
          "Builder_Floor",
          "Builder_Floor",
          "Builder_Floor",
          "Builder_Floor",
          "Builder_Floor",
          "Apartment",
          "Apartment",
          "Builder_Floor",
          "Builder_Floor",
          "Apartment",
          "Apartment",
          "Apartment",
          "Apartment",
          "Builder_Floor",
          "Builder_Floor",
          "Builder_Floor",
          "Builder_Floor",
          "Apartment",
          "Builder_Floor",
          "Builder_Floor",
          "Builder_Floor",
          "Apartment",
          "Builder_Floor",
          "Builder_Floor",
          "Builder_Floor",
          "Builder_Floor",
          "Apartment",
          "Apartment",
          "Apartment",
          "Apartment",
          "Apartment",
          "Apartment",
          "Apartment",
          "Apartment",
          "Builder_Floor",
          "Builder_Floor",
          "Builder_Floor",
          "Builder_Floor",
          "Builder_Floor",
          "Builder_Floor",
          "Builder_Floor",
          "Builder_Floor",
          "Builder_Floor",
          "Builder_Floor",
          "Builder_Floor",
          "Builder_Floor",
          "Builder_Floor",
          "Builder_Floor",
          "Builder_Floor",
          "Builder_Floor",
          "Builder_Floor",
          "Builder_Floor",
          "Builder_Floor",
          "Apartment",
          "Apartment",
          "Apartment",
          "Apartment",
          "Apartment",
          "Apartment",
          "Apartment",
          "Apartment",
          "Apartment",
          "Apartment",
          "Apartment",
          "Apartment",
          "Apartment",
          "Apartment",
          "Apartment",
          "Apartment",
          "Apartment",
          "Builder_Floor",
          "Builder_Floor",
          "Builder_Floor",
          "Builder_Floor",
          "Builder_Floor",
          "Builder_Floor",
          "Apartment",
          "Apartment",
          "Builder_Floor",
          "Builder_Floor",
          "Builder_Floor",
          "Builder_Floor",
          "Builder_Floor",
          "Builder_Floor",
          "Builder_Floor",
          "Builder_Floor",
          "Builder_Floor",
          "Builder_Floor",
          "Builder_Floor",
          "Apartment",
          "Builder_Floor",
          "Builder_Floor",
          "Builder_Floor",
          "Builder_Floor",
          "Builder_Floor",
          "Builder_Floor",
          "Apartment",
          "Builder_Floor",
          "Builder_Floor",
          "Builder_Floor",
          "Apartment",
          "Builder_Floor",
          "Builder_Floor",
          "Builder_Floor",
          "Builder_Floor",
          "Builder_Floor",
          "Builder_Floor",
          "Builder_Floor",
          "Builder_Floor",
          "Builder_Floor",
          "Builder_Floor",
          "Builder_Floor",
          "Builder_Floor",
          "Builder_Floor",
          "Builder_Floor",
          "Builder_Floor",
          "Builder_Floor",
          "Builder_Floor",
          "Builder_Floor",
          "Builder_Floor",
          "Builder_Floor",
          "Builder_Floor",
          "Builder_Floor",
          "Apartment",
          "Builder_Floor",
          "Builder_Floor",
          "Builder_Floor",
          "Builder_Floor",
          "Builder_Floor",
          "Builder_Floor",
          "Builder_Floor",
          "Builder_Floor",
          "Builder_Floor",
          "Apartment",
          "Builder_Floor",
          "Apartment",
          "Builder_Floor",
          "Builder_Floor",
          "Builder_Floor",
          "Builder_Floor",
          "Builder_Floor",
          "Apartment",
          "Builder_Floor",
          "Builder_Floor",
          "Builder_Floor",
          "Apartment",
          "Apartment",
          "Apartment",
          "Builder_Floor",
          "Apartment",
          "Apartment",
          "Apartment",
          "Apartment",
          "Apartment",
          "Builder_Floor",
          "Builder_Floor",
          "Builder_Floor",
          "Builder_Floor",
          "Apartment",
          "Apartment",
          "Builder_Floor",
          "Builder_Floor",
          "Apartment",
          "Apartment",
          "Builder_Floor",
          "Builder_Floor",
          "Builder_Floor",
          "Builder_Floor",
          "Builder_Floor",
          "Builder_Floor",
          "Apartment",
          "Builder_Floor",
          "Builder_Floor",
          "Builder_Floor",
          "Builder_Floor",
          "Builder_Floor",
          "Builder_Floor",
          "Builder_Floor",
          "Builder_Floor",
          "Apartment",
          "Apartment",
          "Apartment",
          "Builder_Floor",
          "Builder_Floor",
          "Apartment",
          "Builder_Floor",
          "Builder_Floor",
          "Builder_Floor",
          "Apartment",
          "Apartment",
          "Builder_Floor",
          "Builder_Floor",
          "Apartment",
          "Apartment",
          "Apartment",
          "Apartment",
          "Builder_Floor",
          "Builder_Floor",
          "Apartment",
          "Apartment",
          "Apartment",
          "Builder_Floor",
          "Builder_Floor",
          "Builder_Floor",
          "Builder_Floor",
          "Builder_Floor",
          "Builder_Floor",
          "Builder_Floor",
          "Builder_Floor",
          "Builder_Floor",
          "Builder_Floor",
          "Builder_Floor",
          "Builder_Floor",
          "Builder_Floor",
          "Builder_Floor",
          "Apartment",
          "Builder_Floor",
          "Apartment",
          "Builder_Floor",
          "Apartment",
          "Apartment",
          "Apartment",
          "Apartment",
          "Apartment",
          "Apartment",
          "Apartment",
          "Apartment",
          "Builder_Floor",
          "Builder_Floor",
          "Apartment",
          "Builder_Floor",
          "Apartment",
          "Apartment",
          "Builder_Floor",
          "Builder_Floor",
          "Apartment",
          "Apartment",
          "Builder_Floor",
          "Apartment",
          "Builder_Floor",
          "Apartment",
          "Builder_Floor",
          "Builder_Floor",
          "Builder_Floor",
          "Builder_Floor",
          "Builder_Floor",
          "Builder_Floor",
          "Builder_Floor",
          "Builder_Floor",
          "Builder_Floor",
          "Apartment",
          "Apartment",
          "Apartment",
          "Apartment",
          "Apartment",
          "Apartment",
          "Builder_Floor",
          "Builder_Floor",
          "Builder_Floor",
          "Apartment",
          "Builder_Floor",
          "Builder_Floor",
          "Builder_Floor",
          "Apartment",
          "Builder_Floor",
          "Builder_Floor",
          "Builder_Floor",
          "Builder_Floor",
          "Builder_Floor",
          "Builder_Floor",
          "Builder_Floor",
          "Builder_Floor",
          "Builder_Floor",
          "Builder_Floor",
          "Builder_Floor",
          "Builder_Floor",
          "Builder_Floor",
          "Builder_Floor",
          "Builder_Floor",
          "Builder_Floor",
          "Builder_Floor",
          "Builder_Floor",
          "Builder_Floor",
          "Builder_Floor",
          "Builder_Floor",
          "Builder_Floor",
          "Builder_Floor",
          "Builder_Floor",
          "Builder_Floor",
          "Builder_Floor",
          "Builder_Floor",
          "Builder_Floor",
          "Builder_Floor",
          "Builder_Floor",
          "Builder_Floor",
          "Builder_Floor",
          "Builder_Floor",
          "Builder_Floor",
          "Builder_Floor",
          "Builder_Floor",
          "Builder_Floor",
          "Builder_Floor",
          "Builder_Floor",
          "Apartment",
          "Builder_Floor",
          "Builder_Floor",
          "Builder_Floor",
          "Builder_Floor",
          "Builder_Floor",
          "Builder_Floor",
          "Builder_Floor",
          "Builder_Floor",
          "Builder_Floor",
          "Builder_Floor",
          "Apartment",
          "Builder_Floor",
          "Apartment",
          "Builder_Floor",
          "Builder_Floor",
          "Builder_Floor",
          "Apartment",
          "Builder_Floor",
          "Apartment",
          "Apartment",
          "Builder_Floor",
          "Apartment",
          "Builder_Floor",
          "Apartment",
          "Apartment",
          "Apartment",
          "Apartment",
          "Apartment",
          "Apartment",
          "Apartment",
          "Apartment",
          "Apartment",
          "Apartment",
          "Apartment",
          "Apartment",
          "Apartment",
          "Builder_Floor",
          "Apartment",
          "Builder_Floor",
          "Apartment",
          "Apartment",
          "Apartment",
          "Builder_Floor",
          "Apartment",
          "Apartment",
          "Builder_Floor",
          "Builder_Floor",
          "Builder_Floor",
          "Builder_Floor",
          "Apartment",
          "Apartment",
          "Builder_Floor",
          "Apartment",
          "Apartment",
          "Apartment",
          "Apartment",
          "Apartment",
          "Apartment",
          "Apartment",
          "Apartment",
          "Apartment",
          "Apartment",
          "Apartment",
          "Apartment",
          "Apartment",
          "Apartment",
          "Apartment",
          "Apartment",
          "Apartment",
          "Apartment",
          "Apartment",
          "Builder_Floor",
          "Builder_Floor",
          "Builder_Floor",
          "Builder_Floor",
          "Builder_Floor",
          "Builder_Floor",
          "Builder_Floor",
          "Builder_Floor",
          "Builder_Floor",
          "Builder_Floor",
          "Apartment",
          "Apartment",
          "Apartment",
          "Builder_Floor",
          "Builder_Floor",
          "Apartment",
          "Apartment",
          "Apartment",
          "Apartment",
          "Apartment",
          "Apartment",
          "Builder_Floor",
          "Builder_Floor",
          "Builder_Floor",
          "Builder_Floor",
          "Builder_Floor",
          "Apartment",
          "Builder_Floor",
          "Builder_Floor",
          "Apartment",
          "Builder_Floor",
          "Builder_Floor",
          "Builder_Floor",
          "Apartment",
          "Apartment",
          "Builder_Floor",
          "Apartment",
          "Builder_Floor",
          "Builder_Floor",
          "Builder_Floor",
          "Builder_Floor",
          "Builder_Floor",
          "Builder_Floor",
          "Builder_Floor",
          "Builder_Floor",
          "Builder_Floor",
          "Builder_Floor",
          "Builder_Floor",
          "Builder_Floor",
          "Builder_Floor"
         ],
         "legendgroup": "",
         "name": "",
         "showlegend": true,
         "textinfo": "percent+label",
         "textposition": "inside",
         "type": "pie",
         "values": [
          4950000,
          3800000,
          19000000,
          15000000,
          17500000,
          14000000,
          15600000,
          19000000,
          19000000,
          19000000,
          15000000,
          17500000,
          14000000,
          15600000,
          19000000,
          19000000,
          7200000,
          8400000,
          2000000,
          3000000,
          4700000,
          1600000,
          5500000,
          5500000,
          1700000,
          15000000,
          3000000,
          2600000,
          1650000,
          2000000,
          2000000,
          3500000,
          6200000,
          3000000,
          4900000,
          3500000,
          3500000,
          4400000,
          3000000,
          4500000,
          6500000,
          33500000,
          14700000,
          18000000,
          22500000,
          22000000,
          22500000,
          35000000,
          40000000,
          11500000,
          22500000,
          28500000,
          29000000,
          15500000,
          16500000,
          12500000,
          17500000,
          18500000,
          14200000,
          42100000,
          44000000,
          34300000,
          37500000,
          37000000,
          36200000,
          42500000,
          58000000,
          39000000,
          35500000,
          52500000,
          40000000,
          32500000,
          17000000,
          17000000,
          3000000,
          3000000,
          12000000,
          31000000,
          2000000,
          2000000,
          1600000,
          1600000,
          1800000,
          16000000,
          20000000,
          25000000,
          25000000,
          19000000,
          16100000,
          6800000,
          7000000,
          6900000,
          3600000,
          9300000,
          3300000,
          4800000,
          7500000,
          2600000,
          6000000,
          6700000,
          7000000,
          5800000,
          7000000,
          3200000,
          3400000,
          38500000,
          37500000,
          25000000,
          6000000,
          2200000,
          5500000,
          3800000,
          67000000,
          62500000,
          65000000,
          57500000,
          24900000,
          24900000,
          24700000,
          24900000,
          25900000,
          24800000,
          24900000,
          24900000,
          6800000,
          51000000,
          51000000,
          2300000,
          42500000,
          43500000,
          60000000,
          70000000,
          45000000,
          47000000,
          70000000,
          71000000,
          85000000,
          100000000,
          65000000,
          56000000,
          100000000,
          1500000,
          1500000,
          5000000,
          5000000,
          4700000,
          5500000,
          7300000,
          13000000,
          11500000,
          2800000,
          2200000,
          4400000,
          13500000,
          4100000,
          12000000,
          3500000,
          5500000,
          10000000,
          4700000,
          2400000,
          3800000,
          10000000,
          5500000,
          7000000,
          6500000,
          5000000,
          5000000,
          47500000,
          40000000,
          26000000,
          35000000,
          47500000,
          43000000,
          26000000,
          25000000,
          51000000,
          40000000,
          45000000,
          51100000,
          25500000,
          26500000,
          55000000,
          26000000,
          38000000,
          14000000,
          9000000,
          15000000,
          10000000,
          14500000,
          6200000,
          12500000,
          10000000,
          15800000,
          14600000,
          12500000,
          14600000,
          22000000,
          13400000,
          12500000,
          14500000,
          22500000,
          15500000,
          15800000,
          15000000,
          13000000,
          15000000,
          25000000,
          16500000,
          30000000,
          31500000,
          40000000,
          24500000,
          24500000,
          32500000,
          26000000,
          21000000,
          27500000,
          32500000,
          21000000,
          28000000,
          29500000,
          5400000,
          4000000,
          3500000,
          7500000,
          7000000,
          4500000,
          5500000,
          6600000,
          3700000,
          5600000,
          7000000,
          3500000,
          6000000,
          6000000,
          7500000,
          4000000,
          3500000,
          5000000,
          5130000,
          5130000,
          5130000,
          160000000,
          85000000,
          170000000,
          120000000,
          3790000,
          4200000,
          2900000,
          3800000,
          5000000,
          3200000,
          3000000,
          4500000,
          2200000,
          8500000,
          11500000,
          12000000,
          10700000,
          9000000,
          17000000,
          13000000,
          8100000,
          10000000,
          20000000,
          9000000,
          7000000,
          11500000,
          2800000,
          4500000,
          1800000,
          1700000,
          5600000,
          6000000,
          4000000,
          1700000,
          6000000,
          2100000,
          1700000,
          3500000,
          3200000,
          2850000,
          2500000,
          3500000,
          2000000,
          1750000,
          1900000,
          2200000,
          20000000,
          20000000,
          9300000,
          26000000,
          60000000,
          65000000,
          75000000,
          56000000,
          60000000,
          58000000,
          70000000,
          60000000,
          70000000,
          75000000,
          55000000,
          3500000,
          8500000,
          6000000,
          5500000,
          8000000,
          25000000,
          23000000,
          17500000,
          19500000,
          14200000,
          13500000,
          16500000,
          16500000,
          5800000,
          6000000,
          3800000,
          5500000,
          8500000,
          13100000,
          12500000,
          27500000,
          7000000,
          37500000,
          26500000,
          16000000,
          27000000,
          15000000,
          8000000,
          9500000,
          7400000,
          15000000,
          10400000,
          8000000,
          5900000,
          12000000,
          12500000,
          28000000,
          42500000,
          43200000,
          52500000,
          42500000,
          36500000,
          37500000,
          27500000,
          26000000,
          23500000,
          29000000,
          24500000,
          28000000,
          35000000,
          80000000,
          65000000,
          75100000,
          29000000,
          6000000,
          6200000,
          6200000,
          6200000,
          15000000,
          15000000,
          6500000,
          6000000,
          7300000,
          7600000,
          10000000,
          6000000,
          13500000,
          12500000,
          13000000,
          13000000,
          7700000,
          7000000,
          6800000,
          24000000,
          45000000,
          37500000,
          55000000,
          87500000,
          65000000,
          38000000,
          22500000,
          72500000,
          82500000,
          55000000,
          35000000,
          52500000,
          80000000,
          74000000,
          29500000,
          25500000,
          47500000,
          28500000,
          45000000,
          30500000,
          22500000,
          25000000,
          33700000,
          27000000,
          43500000,
          30000000,
          52100000,
          32500000,
          25000000,
          30000000,
          51000000,
          31000000,
          37500000,
          8000000,
          2700000,
          5500000,
          4100000,
          3300000,
          1900000,
          2500000,
          15000000,
          19000000,
          18800000,
          16000000,
          20000000,
          13500000,
          17500000,
          19000000,
          15500000,
          13500000,
          21000000,
          20000000,
          41000000,
          11000000,
          11700000,
          13500000,
          16000000,
          30000000,
          41000000,
          12500000,
          14500000,
          27500000,
          5000000,
          4500000,
          4000000,
          6000000,
          4500000,
          2600000,
          2350000,
          25000000,
          25000000,
          25500000,
          25000000,
          18500000,
          39700000,
          22000000,
          25500000,
          17000000,
          27500000,
          25500000,
          20000000,
          24500000,
          20900000,
          43100000,
          93000000,
          93000000,
          93000000,
          4000000,
          3100000,
          2500000,
          2000000,
          2900000,
          3200000,
          1850000,
          2150000,
          1900000,
          2000000,
          15000000,
          15500000,
          16500000,
          22500000,
          20000000,
          15000000,
          29000000,
          29000000,
          12000000,
          7500000,
          12000000,
          22000000,
          22000000,
          22500000,
          11500000,
          6000000,
          2700000,
          6500000,
          4000000,
          3000000,
          5000000,
          6000000,
          2500000,
          6500000,
          8000000,
          2700000,
          4500000,
          5700000,
          25000000,
          26500000,
          18500000,
          30000000,
          22000000,
          22500000,
          8700000,
          22000000,
          18500000,
          16000000,
          16000000,
          9000000
         ]
        }
       ],
       "layout": {
        "height": 420,
        "legend": {
         "tracegroupgap": 0
        },
        "template": {
         "data": {
          "bar": [
           {
            "error_x": {
             "color": "#2a3f5f"
            },
            "error_y": {
             "color": "#2a3f5f"
            },
            "marker": {
             "line": {
              "color": "#E5ECF6",
              "width": 0.5
             }
            },
            "type": "bar"
           }
          ],
          "barpolar": [
           {
            "marker": {
             "line": {
              "color": "#E5ECF6",
              "width": 0.5
             }
            },
            "type": "barpolar"
           }
          ],
          "carpet": [
           {
            "aaxis": {
             "endlinecolor": "#2a3f5f",
             "gridcolor": "white",
             "linecolor": "white",
             "minorgridcolor": "white",
             "startlinecolor": "#2a3f5f"
            },
            "baxis": {
             "endlinecolor": "#2a3f5f",
             "gridcolor": "white",
             "linecolor": "white",
             "minorgridcolor": "white",
             "startlinecolor": "#2a3f5f"
            },
            "type": "carpet"
           }
          ],
          "choropleth": [
           {
            "colorbar": {
             "outlinewidth": 0,
             "ticks": ""
            },
            "type": "choropleth"
           }
          ],
          "contour": [
           {
            "colorbar": {
             "outlinewidth": 0,
             "ticks": ""
            },
            "colorscale": [
             [
              0,
              "#0d0887"
             ],
             [
              0.1111111111111111,
              "#46039f"
             ],
             [
              0.2222222222222222,
              "#7201a8"
             ],
             [
              0.3333333333333333,
              "#9c179e"
             ],
             [
              0.4444444444444444,
              "#bd3786"
             ],
             [
              0.5555555555555556,
              "#d8576b"
             ],
             [
              0.6666666666666666,
              "#ed7953"
             ],
             [
              0.7777777777777778,
              "#fb9f3a"
             ],
             [
              0.8888888888888888,
              "#fdca26"
             ],
             [
              1,
              "#f0f921"
             ]
            ],
            "type": "contour"
           }
          ],
          "contourcarpet": [
           {
            "colorbar": {
             "outlinewidth": 0,
             "ticks": ""
            },
            "type": "contourcarpet"
           }
          ],
          "heatmap": [
           {
            "colorbar": {
             "outlinewidth": 0,
             "ticks": ""
            },
            "colorscale": [
             [
              0,
              "#0d0887"
             ],
             [
              0.1111111111111111,
              "#46039f"
             ],
             [
              0.2222222222222222,
              "#7201a8"
             ],
             [
              0.3333333333333333,
              "#9c179e"
             ],
             [
              0.4444444444444444,
              "#bd3786"
             ],
             [
              0.5555555555555556,
              "#d8576b"
             ],
             [
              0.6666666666666666,
              "#ed7953"
             ],
             [
              0.7777777777777778,
              "#fb9f3a"
             ],
             [
              0.8888888888888888,
              "#fdca26"
             ],
             [
              1,
              "#f0f921"
             ]
            ],
            "type": "heatmap"
           }
          ],
          "heatmapgl": [
           {
            "colorbar": {
             "outlinewidth": 0,
             "ticks": ""
            },
            "colorscale": [
             [
              0,
              "#0d0887"
             ],
             [
              0.1111111111111111,
              "#46039f"
             ],
             [
              0.2222222222222222,
              "#7201a8"
             ],
             [
              0.3333333333333333,
              "#9c179e"
             ],
             [
              0.4444444444444444,
              "#bd3786"
             ],
             [
              0.5555555555555556,
              "#d8576b"
             ],
             [
              0.6666666666666666,
              "#ed7953"
             ],
             [
              0.7777777777777778,
              "#fb9f3a"
             ],
             [
              0.8888888888888888,
              "#fdca26"
             ],
             [
              1,
              "#f0f921"
             ]
            ],
            "type": "heatmapgl"
           }
          ],
          "histogram": [
           {
            "marker": {
             "colorbar": {
              "outlinewidth": 0,
              "ticks": ""
             }
            },
            "type": "histogram"
           }
          ],
          "histogram2d": [
           {
            "colorbar": {
             "outlinewidth": 0,
             "ticks": ""
            },
            "colorscale": [
             [
              0,
              "#0d0887"
             ],
             [
              0.1111111111111111,
              "#46039f"
             ],
             [
              0.2222222222222222,
              "#7201a8"
             ],
             [
              0.3333333333333333,
              "#9c179e"
             ],
             [
              0.4444444444444444,
              "#bd3786"
             ],
             [
              0.5555555555555556,
              "#d8576b"
             ],
             [
              0.6666666666666666,
              "#ed7953"
             ],
             [
              0.7777777777777778,
              "#fb9f3a"
             ],
             [
              0.8888888888888888,
              "#fdca26"
             ],
             [
              1,
              "#f0f921"
             ]
            ],
            "type": "histogram2d"
           }
          ],
          "histogram2dcontour": [
           {
            "colorbar": {
             "outlinewidth": 0,
             "ticks": ""
            },
            "colorscale": [
             [
              0,
              "#0d0887"
             ],
             [
              0.1111111111111111,
              "#46039f"
             ],
             [
              0.2222222222222222,
              "#7201a8"
             ],
             [
              0.3333333333333333,
              "#9c179e"
             ],
             [
              0.4444444444444444,
              "#bd3786"
             ],
             [
              0.5555555555555556,
              "#d8576b"
             ],
             [
              0.6666666666666666,
              "#ed7953"
             ],
             [
              0.7777777777777778,
              "#fb9f3a"
             ],
             [
              0.8888888888888888,
              "#fdca26"
             ],
             [
              1,
              "#f0f921"
             ]
            ],
            "type": "histogram2dcontour"
           }
          ],
          "mesh3d": [
           {
            "colorbar": {
             "outlinewidth": 0,
             "ticks": ""
            },
            "type": "mesh3d"
           }
          ],
          "parcoords": [
           {
            "line": {
             "colorbar": {
              "outlinewidth": 0,
              "ticks": ""
             }
            },
            "type": "parcoords"
           }
          ],
          "pie": [
           {
            "automargin": true,
            "type": "pie"
           }
          ],
          "scatter": [
           {
            "marker": {
             "colorbar": {
              "outlinewidth": 0,
              "ticks": ""
             }
            },
            "type": "scatter"
           }
          ],
          "scatter3d": [
           {
            "line": {
             "colorbar": {
              "outlinewidth": 0,
              "ticks": ""
             }
            },
            "marker": {
             "colorbar": {
              "outlinewidth": 0,
              "ticks": ""
             }
            },
            "type": "scatter3d"
           }
          ],
          "scattercarpet": [
           {
            "marker": {
             "colorbar": {
              "outlinewidth": 0,
              "ticks": ""
             }
            },
            "type": "scattercarpet"
           }
          ],
          "scattergeo": [
           {
            "marker": {
             "colorbar": {
              "outlinewidth": 0,
              "ticks": ""
             }
            },
            "type": "scattergeo"
           }
          ],
          "scattergl": [
           {
            "marker": {
             "colorbar": {
              "outlinewidth": 0,
              "ticks": ""
             }
            },
            "type": "scattergl"
           }
          ],
          "scattermapbox": [
           {
            "marker": {
             "colorbar": {
              "outlinewidth": 0,
              "ticks": ""
             }
            },
            "type": "scattermapbox"
           }
          ],
          "scatterpolar": [
           {
            "marker": {
             "colorbar": {
              "outlinewidth": 0,
              "ticks": ""
             }
            },
            "type": "scatterpolar"
           }
          ],
          "scatterpolargl": [
           {
            "marker": {
             "colorbar": {
              "outlinewidth": 0,
              "ticks": ""
             }
            },
            "type": "scatterpolargl"
           }
          ],
          "scatterternary": [
           {
            "marker": {
             "colorbar": {
              "outlinewidth": 0,
              "ticks": ""
             }
            },
            "type": "scatterternary"
           }
          ],
          "surface": [
           {
            "colorbar": {
             "outlinewidth": 0,
             "ticks": ""
            },
            "colorscale": [
             [
              0,
              "#0d0887"
             ],
             [
              0.1111111111111111,
              "#46039f"
             ],
             [
              0.2222222222222222,
              "#7201a8"
             ],
             [
              0.3333333333333333,
              "#9c179e"
             ],
             [
              0.4444444444444444,
              "#bd3786"
             ],
             [
              0.5555555555555556,
              "#d8576b"
             ],
             [
              0.6666666666666666,
              "#ed7953"
             ],
             [
              0.7777777777777778,
              "#fb9f3a"
             ],
             [
              0.8888888888888888,
              "#fdca26"
             ],
             [
              1,
              "#f0f921"
             ]
            ],
            "type": "surface"
           }
          ],
          "table": [
           {
            "cells": {
             "fill": {
              "color": "#EBF0F8"
             },
             "line": {
              "color": "white"
             }
            },
            "header": {
             "fill": {
              "color": "#C8D4E3"
             },
             "line": {
              "color": "white"
             }
            },
            "type": "table"
           }
          ]
         },
         "layout": {
          "annotationdefaults": {
           "arrowcolor": "#2a3f5f",
           "arrowhead": 0,
           "arrowwidth": 1
          },
          "autotypenumbers": "strict",
          "coloraxis": {
           "colorbar": {
            "outlinewidth": 0,
            "ticks": ""
           }
          },
          "colorscale": {
           "diverging": [
            [
             0,
             "#8e0152"
            ],
            [
             0.1,
             "#c51b7d"
            ],
            [
             0.2,
             "#de77ae"
            ],
            [
             0.3,
             "#f1b6da"
            ],
            [
             0.4,
             "#fde0ef"
            ],
            [
             0.5,
             "#f7f7f7"
            ],
            [
             0.6,
             "#e6f5d0"
            ],
            [
             0.7,
             "#b8e186"
            ],
            [
             0.8,
             "#7fbc41"
            ],
            [
             0.9,
             "#4d9221"
            ],
            [
             1,
             "#276419"
            ]
           ],
           "sequential": [
            [
             0,
             "#0d0887"
            ],
            [
             0.1111111111111111,
             "#46039f"
            ],
            [
             0.2222222222222222,
             "#7201a8"
            ],
            [
             0.3333333333333333,
             "#9c179e"
            ],
            [
             0.4444444444444444,
             "#bd3786"
            ],
            [
             0.5555555555555556,
             "#d8576b"
            ],
            [
             0.6666666666666666,
             "#ed7953"
            ],
            [
             0.7777777777777778,
             "#fb9f3a"
            ],
            [
             0.8888888888888888,
             "#fdca26"
            ],
            [
             1,
             "#f0f921"
            ]
           ],
           "sequentialminus": [
            [
             0,
             "#0d0887"
            ],
            [
             0.1111111111111111,
             "#46039f"
            ],
            [
             0.2222222222222222,
             "#7201a8"
            ],
            [
             0.3333333333333333,
             "#9c179e"
            ],
            [
             0.4444444444444444,
             "#bd3786"
            ],
            [
             0.5555555555555556,
             "#d8576b"
            ],
            [
             0.6666666666666666,
             "#ed7953"
            ],
            [
             0.7777777777777778,
             "#fb9f3a"
            ],
            [
             0.8888888888888888,
             "#fdca26"
            ],
            [
             1,
             "#f0f921"
            ]
           ]
          },
          "colorway": [
           "#636efa",
           "#EF553B",
           "#00cc96",
           "#ab63fa",
           "#FFA15A",
           "#19d3f3",
           "#FF6692",
           "#B6E880",
           "#FF97FF",
           "#FECB52"
          ],
          "font": {
           "color": "#2a3f5f"
          },
          "geo": {
           "bgcolor": "white",
           "lakecolor": "white",
           "landcolor": "#E5ECF6",
           "showlakes": true,
           "showland": true,
           "subunitcolor": "white"
          },
          "hoverlabel": {
           "align": "left"
          },
          "hovermode": "closest",
          "mapbox": {
           "style": "light"
          },
          "paper_bgcolor": "white",
          "plot_bgcolor": "#E5ECF6",
          "polar": {
           "angularaxis": {
            "gridcolor": "white",
            "linecolor": "white",
            "ticks": ""
           },
           "bgcolor": "#E5ECF6",
           "radialaxis": {
            "gridcolor": "white",
            "linecolor": "white",
            "ticks": ""
           }
          },
          "scene": {
           "xaxis": {
            "backgroundcolor": "#E5ECF6",
            "gridcolor": "white",
            "gridwidth": 2,
            "linecolor": "white",
            "showbackground": true,
            "ticks": "",
            "zerolinecolor": "white"
           },
           "yaxis": {
            "backgroundcolor": "#E5ECF6",
            "gridcolor": "white",
            "gridwidth": 2,
            "linecolor": "white",
            "showbackground": true,
            "ticks": "",
            "zerolinecolor": "white"
           },
           "zaxis": {
            "backgroundcolor": "#E5ECF6",
            "gridcolor": "white",
            "gridwidth": 2,
            "linecolor": "white",
            "showbackground": true,
            "ticks": "",
            "zerolinecolor": "white"
           }
          },
          "shapedefaults": {
           "line": {
            "color": "#2a3f5f"
           }
          },
          "ternary": {
           "aaxis": {
            "gridcolor": "white",
            "linecolor": "white",
            "ticks": ""
           },
           "baxis": {
            "gridcolor": "white",
            "linecolor": "white",
            "ticks": ""
           },
           "bgcolor": "#E5ECF6",
           "caxis": {
            "gridcolor": "white",
            "linecolor": "white",
            "ticks": ""
           }
          },
          "title": {
           "x": 0.05
          },
          "xaxis": {
           "automargin": true,
           "gridcolor": "white",
           "linecolor": "white",
           "ticks": "",
           "title": {
            "standoff": 15
           },
           "zerolinecolor": "white",
           "zerolinewidth": 2
          },
          "yaxis": {
           "automargin": true,
           "gridcolor": "white",
           "linecolor": "white",
           "ticks": "",
           "title": {
            "standoff": 15
           },
           "zerolinecolor": "white",
           "zerolinewidth": 2
          }
         }
        },
        "title": {
         "text": "House Type vs Price Share"
        },
        "width": 600
       }
      }
     },
     "metadata": {}
    }
   ],
   "source": [
    "# Price Share of House Type\n",
    "fig = px.pie(df3, values='Price', names='Type',\n",
    "                title='House Type vs Price Share')\n",
    "fig.update_traces(textposition='inside', textinfo='percent+label')\n",
    "fig.update_layout(height=420,width=600)\n",
    "fig.show()"
   ]
  },
  {
   "cell_type": "code",
   "execution_count": 21,
   "metadata": {},
   "outputs": [
    {
     "output_type": "display_data",
     "data": {
      "application/vnd.plotly.v1+json": {
       "config": {
        "plotlyServerURL": "https://plot.ly"
       },
       "data": [
        {
         "alignmentgroup": "True",
         "bingroup": "x",
         "hovertemplate": "Status=%{x}<br>count=%{y}<extra></extra>",
         "legendgroup": "Ready_to_move",
         "marker": {
          "color": "#636efa",
          "opacity": 1
         },
         "name": "Ready_to_move",
         "offsetgroup": "Ready_to_move",
         "orientation": "v",
         "showlegend": true,
         "type": "histogram",
         "x": [
          "Ready_to_move",
          "Ready_to_move",
          "Ready_to_move",
          "Ready_to_move",
          "Ready_to_move",
          "Ready_to_move",
          "Ready_to_move",
          "Ready_to_move",
          "Ready_to_move",
          "Ready_to_move",
          "Ready_to_move",
          "Ready_to_move",
          "Ready_to_move",
          "Ready_to_move",
          "Ready_to_move",
          "Ready_to_move",
          "Ready_to_move",
          "Ready_to_move",
          "Ready_to_move",
          "Ready_to_move",
          "Ready_to_move",
          "Ready_to_move",
          "Ready_to_move",
          "Ready_to_move",
          "Ready_to_move",
          "Ready_to_move",
          "Ready_to_move",
          "Ready_to_move",
          "Ready_to_move",
          "Ready_to_move",
          "Ready_to_move",
          "Ready_to_move",
          "Ready_to_move",
          "Ready_to_move",
          "Ready_to_move",
          "Ready_to_move",
          "Ready_to_move",
          "Ready_to_move",
          "Ready_to_move",
          "Ready_to_move",
          "Ready_to_move",
          "Ready_to_move",
          "Ready_to_move",
          "Ready_to_move",
          "Ready_to_move",
          "Ready_to_move",
          "Ready_to_move",
          "Ready_to_move",
          "Ready_to_move",
          "Ready_to_move",
          "Ready_to_move",
          "Ready_to_move",
          "Ready_to_move",
          "Ready_to_move",
          "Ready_to_move",
          "Ready_to_move",
          "Ready_to_move",
          "Ready_to_move",
          "Ready_to_move",
          "Ready_to_move",
          "Ready_to_move",
          "Ready_to_move",
          "Ready_to_move",
          "Ready_to_move",
          "Ready_to_move",
          "Ready_to_move",
          "Ready_to_move",
          "Ready_to_move",
          "Ready_to_move",
          "Ready_to_move",
          "Ready_to_move",
          "Ready_to_move",
          "Ready_to_move",
          "Ready_to_move",
          "Ready_to_move",
          "Ready_to_move",
          "Ready_to_move",
          "Ready_to_move",
          "Ready_to_move",
          "Ready_to_move",
          "Ready_to_move",
          "Ready_to_move",
          "Ready_to_move",
          "Ready_to_move",
          "Ready_to_move",
          "Ready_to_move",
          "Ready_to_move",
          "Ready_to_move",
          "Ready_to_move",
          "Ready_to_move",
          "Ready_to_move",
          "Ready_to_move",
          "Ready_to_move",
          "Ready_to_move",
          "Ready_to_move",
          "Ready_to_move",
          "Ready_to_move",
          "Ready_to_move",
          "Ready_to_move",
          "Ready_to_move",
          "Ready_to_move",
          "Ready_to_move",
          "Ready_to_move",
          "Ready_to_move",
          "Ready_to_move",
          "Ready_to_move",
          "Ready_to_move",
          "Ready_to_move",
          "Ready_to_move",
          "Ready_to_move",
          "Ready_to_move",
          "Ready_to_move",
          "Ready_to_move",
          "Ready_to_move",
          "Ready_to_move",
          "Ready_to_move",
          "Ready_to_move",
          "Ready_to_move",
          "Ready_to_move",
          "Ready_to_move",
          "Ready_to_move",
          "Ready_to_move",
          "Ready_to_move",
          "Ready_to_move",
          "Ready_to_move",
          "Ready_to_move",
          "Ready_to_move",
          "Ready_to_move",
          "Ready_to_move",
          "Ready_to_move",
          "Ready_to_move",
          "Ready_to_move",
          "Ready_to_move",
          "Ready_to_move",
          "Ready_to_move",
          "Ready_to_move",
          "Ready_to_move",
          "Ready_to_move",
          "Ready_to_move",
          "Ready_to_move",
          "Ready_to_move",
          "Ready_to_move",
          "Ready_to_move",
          "Ready_to_move",
          "Ready_to_move",
          "Ready_to_move",
          "Ready_to_move",
          "Ready_to_move",
          "Ready_to_move",
          "Ready_to_move",
          "Ready_to_move",
          "Ready_to_move",
          "Ready_to_move",
          "Ready_to_move",
          "Ready_to_move",
          "Ready_to_move",
          "Ready_to_move",
          "Ready_to_move",
          "Ready_to_move",
          "Ready_to_move",
          "Ready_to_move",
          "Ready_to_move",
          "Ready_to_move",
          "Ready_to_move",
          "Ready_to_move",
          "Ready_to_move",
          "Ready_to_move",
          "Ready_to_move",
          "Ready_to_move",
          "Ready_to_move",
          "Ready_to_move",
          "Ready_to_move",
          "Ready_to_move",
          "Ready_to_move",
          "Ready_to_move",
          "Ready_to_move",
          "Ready_to_move",
          "Ready_to_move",
          "Ready_to_move",
          "Ready_to_move",
          "Ready_to_move",
          "Ready_to_move",
          "Ready_to_move",
          "Ready_to_move",
          "Ready_to_move",
          "Ready_to_move",
          "Ready_to_move",
          "Ready_to_move",
          "Ready_to_move",
          "Ready_to_move",
          "Ready_to_move",
          "Ready_to_move",
          "Ready_to_move",
          "Ready_to_move",
          "Ready_to_move",
          "Ready_to_move",
          "Ready_to_move",
          "Ready_to_move",
          "Ready_to_move",
          "Ready_to_move",
          "Ready_to_move",
          "Ready_to_move",
          "Ready_to_move",
          "Ready_to_move",
          "Ready_to_move",
          "Ready_to_move",
          "Ready_to_move",
          "Ready_to_move",
          "Ready_to_move",
          "Ready_to_move",
          "Ready_to_move",
          "Ready_to_move",
          "Ready_to_move",
          "Ready_to_move",
          "Ready_to_move",
          "Ready_to_move",
          "Ready_to_move",
          "Ready_to_move",
          "Ready_to_move",
          "Ready_to_move",
          "Ready_to_move",
          "Ready_to_move",
          "Ready_to_move",
          "Ready_to_move",
          "Ready_to_move",
          "Ready_to_move",
          "Ready_to_move",
          "Ready_to_move",
          "Ready_to_move",
          "Ready_to_move",
          "Ready_to_move",
          "Ready_to_move",
          "Ready_to_move",
          "Ready_to_move",
          "Ready_to_move",
          "Ready_to_move",
          "Ready_to_move",
          "Ready_to_move",
          "Ready_to_move",
          "Ready_to_move",
          "Ready_to_move",
          "Ready_to_move",
          "Ready_to_move",
          "Ready_to_move",
          "Ready_to_move",
          "Ready_to_move",
          "Ready_to_move",
          "Ready_to_move",
          "Ready_to_move",
          "Ready_to_move",
          "Ready_to_move",
          "Ready_to_move",
          "Ready_to_move",
          "Ready_to_move",
          "Ready_to_move",
          "Ready_to_move",
          "Ready_to_move",
          "Ready_to_move",
          "Ready_to_move",
          "Ready_to_move",
          "Ready_to_move",
          "Ready_to_move",
          "Ready_to_move",
          "Ready_to_move",
          "Ready_to_move",
          "Ready_to_move",
          "Ready_to_move",
          "Ready_to_move",
          "Ready_to_move",
          "Ready_to_move",
          "Ready_to_move",
          "Ready_to_move",
          "Ready_to_move",
          "Ready_to_move",
          "Ready_to_move",
          "Ready_to_move",
          "Ready_to_move",
          "Ready_to_move",
          "Ready_to_move",
          "Ready_to_move",
          "Ready_to_move",
          "Ready_to_move",
          "Ready_to_move",
          "Ready_to_move",
          "Ready_to_move",
          "Ready_to_move",
          "Ready_to_move",
          "Ready_to_move",
          "Ready_to_move",
          "Ready_to_move",
          "Ready_to_move",
          "Ready_to_move",
          "Ready_to_move",
          "Ready_to_move",
          "Ready_to_move",
          "Ready_to_move",
          "Ready_to_move",
          "Ready_to_move",
          "Ready_to_move",
          "Ready_to_move",
          "Ready_to_move",
          "Ready_to_move",
          "Ready_to_move",
          "Ready_to_move",
          "Ready_to_move",
          "Ready_to_move",
          "Ready_to_move",
          "Ready_to_move",
          "Ready_to_move",
          "Ready_to_move",
          "Ready_to_move",
          "Ready_to_move",
          "Ready_to_move",
          "Ready_to_move",
          "Ready_to_move",
          "Ready_to_move",
          "Ready_to_move",
          "Ready_to_move",
          "Ready_to_move",
          "Ready_to_move",
          "Ready_to_move",
          "Ready_to_move",
          "Ready_to_move",
          "Ready_to_move",
          "Ready_to_move",
          "Ready_to_move",
          "Ready_to_move",
          "Ready_to_move",
          "Ready_to_move",
          "Ready_to_move",
          "Ready_to_move",
          "Ready_to_move",
          "Ready_to_move",
          "Ready_to_move",
          "Ready_to_move",
          "Ready_to_move",
          "Ready_to_move",
          "Ready_to_move",
          "Ready_to_move",
          "Ready_to_move",
          "Ready_to_move",
          "Ready_to_move",
          "Ready_to_move",
          "Ready_to_move",
          "Ready_to_move",
          "Ready_to_move",
          "Ready_to_move",
          "Ready_to_move",
          "Ready_to_move",
          "Ready_to_move",
          "Ready_to_move",
          "Ready_to_move",
          "Ready_to_move",
          "Ready_to_move",
          "Ready_to_move",
          "Ready_to_move",
          "Ready_to_move",
          "Ready_to_move",
          "Ready_to_move",
          "Ready_to_move",
          "Ready_to_move",
          "Ready_to_move",
          "Ready_to_move",
          "Ready_to_move",
          "Ready_to_move",
          "Ready_to_move",
          "Ready_to_move",
          "Ready_to_move",
          "Ready_to_move",
          "Ready_to_move",
          "Ready_to_move",
          "Ready_to_move",
          "Ready_to_move",
          "Ready_to_move",
          "Ready_to_move",
          "Ready_to_move",
          "Ready_to_move",
          "Ready_to_move",
          "Ready_to_move",
          "Ready_to_move",
          "Ready_to_move",
          "Ready_to_move",
          "Ready_to_move",
          "Ready_to_move",
          "Ready_to_move",
          "Ready_to_move",
          "Ready_to_move",
          "Ready_to_move",
          "Ready_to_move",
          "Ready_to_move",
          "Ready_to_move",
          "Ready_to_move",
          "Ready_to_move",
          "Ready_to_move",
          "Ready_to_move",
          "Ready_to_move",
          "Ready_to_move",
          "Ready_to_move",
          "Ready_to_move",
          "Ready_to_move",
          "Ready_to_move",
          "Ready_to_move",
          "Ready_to_move",
          "Ready_to_move",
          "Ready_to_move",
          "Ready_to_move",
          "Ready_to_move",
          "Ready_to_move",
          "Ready_to_move",
          "Ready_to_move",
          "Ready_to_move",
          "Ready_to_move",
          "Ready_to_move",
          "Ready_to_move",
          "Ready_to_move",
          "Ready_to_move",
          "Ready_to_move",
          "Ready_to_move",
          "Ready_to_move",
          "Ready_to_move",
          "Ready_to_move",
          "Ready_to_move",
          "Ready_to_move",
          "Ready_to_move",
          "Ready_to_move",
          "Ready_to_move",
          "Ready_to_move",
          "Ready_to_move",
          "Ready_to_move",
          "Ready_to_move",
          "Ready_to_move",
          "Ready_to_move",
          "Ready_to_move",
          "Ready_to_move",
          "Ready_to_move",
          "Ready_to_move",
          "Ready_to_move",
          "Ready_to_move",
          "Ready_to_move",
          "Ready_to_move",
          "Ready_to_move",
          "Ready_to_move",
          "Ready_to_move",
          "Ready_to_move",
          "Ready_to_move",
          "Ready_to_move",
          "Ready_to_move",
          "Ready_to_move",
          "Ready_to_move",
          "Ready_to_move",
          "Ready_to_move",
          "Ready_to_move",
          "Ready_to_move",
          "Ready_to_move",
          "Ready_to_move",
          "Ready_to_move",
          "Ready_to_move",
          "Ready_to_move",
          "Ready_to_move",
          "Ready_to_move",
          "Ready_to_move",
          "Ready_to_move",
          "Ready_to_move",
          "Ready_to_move",
          "Ready_to_move",
          "Ready_to_move",
          "Ready_to_move",
          "Ready_to_move",
          "Ready_to_move",
          "Ready_to_move",
          "Ready_to_move",
          "Ready_to_move",
          "Ready_to_move",
          "Ready_to_move",
          "Ready_to_move",
          "Ready_to_move",
          "Ready_to_move",
          "Ready_to_move",
          "Ready_to_move",
          "Ready_to_move",
          "Ready_to_move",
          "Ready_to_move",
          "Ready_to_move",
          "Ready_to_move",
          "Ready_to_move"
         ],
         "xaxis": "x",
         "yaxis": "y"
        },
        {
         "alignmentgroup": "True",
         "bingroup": "x",
         "hovertemplate": "Status=%{x}<br>count=%{y}<extra></extra>",
         "legendgroup": "Almost_ready",
         "marker": {
          "color": "#EF553B",
          "opacity": 1
         },
         "name": "Almost_ready",
         "offsetgroup": "Almost_ready",
         "orientation": "v",
         "showlegend": true,
         "type": "histogram",
         "x": [
          "Almost_ready",
          "Almost_ready",
          "Almost_ready",
          "Almost_ready",
          "Almost_ready",
          "Almost_ready",
          "Almost_ready",
          "Almost_ready",
          "Almost_ready",
          "Almost_ready",
          "Almost_ready",
          "Almost_ready",
          "Almost_ready",
          "Almost_ready",
          "Almost_ready",
          "Almost_ready",
          "Almost_ready",
          "Almost_ready",
          "Almost_ready",
          "Almost_ready",
          "Almost_ready",
          "Almost_ready",
          "Almost_ready",
          "Almost_ready",
          "Almost_ready",
          "Almost_ready",
          "Almost_ready",
          "Almost_ready",
          "Almost_ready",
          "Almost_ready"
         ],
         "xaxis": "x",
         "yaxis": "y"
        }
       ],
       "layout": {
        "barmode": "group",
        "height": 520,
        "legend": {
         "title": {
          "text": "Status"
         },
         "tracegroupgap": 0
        },
        "template": {
         "data": {
          "bar": [
           {
            "error_x": {
             "color": "#2a3f5f"
            },
            "error_y": {
             "color": "#2a3f5f"
            },
            "marker": {
             "line": {
              "color": "#E5ECF6",
              "width": 0.5
             }
            },
            "type": "bar"
           }
          ],
          "barpolar": [
           {
            "marker": {
             "line": {
              "color": "#E5ECF6",
              "width": 0.5
             }
            },
            "type": "barpolar"
           }
          ],
          "carpet": [
           {
            "aaxis": {
             "endlinecolor": "#2a3f5f",
             "gridcolor": "white",
             "linecolor": "white",
             "minorgridcolor": "white",
             "startlinecolor": "#2a3f5f"
            },
            "baxis": {
             "endlinecolor": "#2a3f5f",
             "gridcolor": "white",
             "linecolor": "white",
             "minorgridcolor": "white",
             "startlinecolor": "#2a3f5f"
            },
            "type": "carpet"
           }
          ],
          "choropleth": [
           {
            "colorbar": {
             "outlinewidth": 0,
             "ticks": ""
            },
            "type": "choropleth"
           }
          ],
          "contour": [
           {
            "colorbar": {
             "outlinewidth": 0,
             "ticks": ""
            },
            "colorscale": [
             [
              0,
              "#0d0887"
             ],
             [
              0.1111111111111111,
              "#46039f"
             ],
             [
              0.2222222222222222,
              "#7201a8"
             ],
             [
              0.3333333333333333,
              "#9c179e"
             ],
             [
              0.4444444444444444,
              "#bd3786"
             ],
             [
              0.5555555555555556,
              "#d8576b"
             ],
             [
              0.6666666666666666,
              "#ed7953"
             ],
             [
              0.7777777777777778,
              "#fb9f3a"
             ],
             [
              0.8888888888888888,
              "#fdca26"
             ],
             [
              1,
              "#f0f921"
             ]
            ],
            "type": "contour"
           }
          ],
          "contourcarpet": [
           {
            "colorbar": {
             "outlinewidth": 0,
             "ticks": ""
            },
            "type": "contourcarpet"
           }
          ],
          "heatmap": [
           {
            "colorbar": {
             "outlinewidth": 0,
             "ticks": ""
            },
            "colorscale": [
             [
              0,
              "#0d0887"
             ],
             [
              0.1111111111111111,
              "#46039f"
             ],
             [
              0.2222222222222222,
              "#7201a8"
             ],
             [
              0.3333333333333333,
              "#9c179e"
             ],
             [
              0.4444444444444444,
              "#bd3786"
             ],
             [
              0.5555555555555556,
              "#d8576b"
             ],
             [
              0.6666666666666666,
              "#ed7953"
             ],
             [
              0.7777777777777778,
              "#fb9f3a"
             ],
             [
              0.8888888888888888,
              "#fdca26"
             ],
             [
              1,
              "#f0f921"
             ]
            ],
            "type": "heatmap"
           }
          ],
          "heatmapgl": [
           {
            "colorbar": {
             "outlinewidth": 0,
             "ticks": ""
            },
            "colorscale": [
             [
              0,
              "#0d0887"
             ],
             [
              0.1111111111111111,
              "#46039f"
             ],
             [
              0.2222222222222222,
              "#7201a8"
             ],
             [
              0.3333333333333333,
              "#9c179e"
             ],
             [
              0.4444444444444444,
              "#bd3786"
             ],
             [
              0.5555555555555556,
              "#d8576b"
             ],
             [
              0.6666666666666666,
              "#ed7953"
             ],
             [
              0.7777777777777778,
              "#fb9f3a"
             ],
             [
              0.8888888888888888,
              "#fdca26"
             ],
             [
              1,
              "#f0f921"
             ]
            ],
            "type": "heatmapgl"
           }
          ],
          "histogram": [
           {
            "marker": {
             "colorbar": {
              "outlinewidth": 0,
              "ticks": ""
             }
            },
            "type": "histogram"
           }
          ],
          "histogram2d": [
           {
            "colorbar": {
             "outlinewidth": 0,
             "ticks": ""
            },
            "colorscale": [
             [
              0,
              "#0d0887"
             ],
             [
              0.1111111111111111,
              "#46039f"
             ],
             [
              0.2222222222222222,
              "#7201a8"
             ],
             [
              0.3333333333333333,
              "#9c179e"
             ],
             [
              0.4444444444444444,
              "#bd3786"
             ],
             [
              0.5555555555555556,
              "#d8576b"
             ],
             [
              0.6666666666666666,
              "#ed7953"
             ],
             [
              0.7777777777777778,
              "#fb9f3a"
             ],
             [
              0.8888888888888888,
              "#fdca26"
             ],
             [
              1,
              "#f0f921"
             ]
            ],
            "type": "histogram2d"
           }
          ],
          "histogram2dcontour": [
           {
            "colorbar": {
             "outlinewidth": 0,
             "ticks": ""
            },
            "colorscale": [
             [
              0,
              "#0d0887"
             ],
             [
              0.1111111111111111,
              "#46039f"
             ],
             [
              0.2222222222222222,
              "#7201a8"
             ],
             [
              0.3333333333333333,
              "#9c179e"
             ],
             [
              0.4444444444444444,
              "#bd3786"
             ],
             [
              0.5555555555555556,
              "#d8576b"
             ],
             [
              0.6666666666666666,
              "#ed7953"
             ],
             [
              0.7777777777777778,
              "#fb9f3a"
             ],
             [
              0.8888888888888888,
              "#fdca26"
             ],
             [
              1,
              "#f0f921"
             ]
            ],
            "type": "histogram2dcontour"
           }
          ],
          "mesh3d": [
           {
            "colorbar": {
             "outlinewidth": 0,
             "ticks": ""
            },
            "type": "mesh3d"
           }
          ],
          "parcoords": [
           {
            "line": {
             "colorbar": {
              "outlinewidth": 0,
              "ticks": ""
             }
            },
            "type": "parcoords"
           }
          ],
          "pie": [
           {
            "automargin": true,
            "type": "pie"
           }
          ],
          "scatter": [
           {
            "marker": {
             "colorbar": {
              "outlinewidth": 0,
              "ticks": ""
             }
            },
            "type": "scatter"
           }
          ],
          "scatter3d": [
           {
            "line": {
             "colorbar": {
              "outlinewidth": 0,
              "ticks": ""
             }
            },
            "marker": {
             "colorbar": {
              "outlinewidth": 0,
              "ticks": ""
             }
            },
            "type": "scatter3d"
           }
          ],
          "scattercarpet": [
           {
            "marker": {
             "colorbar": {
              "outlinewidth": 0,
              "ticks": ""
             }
            },
            "type": "scattercarpet"
           }
          ],
          "scattergeo": [
           {
            "marker": {
             "colorbar": {
              "outlinewidth": 0,
              "ticks": ""
             }
            },
            "type": "scattergeo"
           }
          ],
          "scattergl": [
           {
            "marker": {
             "colorbar": {
              "outlinewidth": 0,
              "ticks": ""
             }
            },
            "type": "scattergl"
           }
          ],
          "scattermapbox": [
           {
            "marker": {
             "colorbar": {
              "outlinewidth": 0,
              "ticks": ""
             }
            },
            "type": "scattermapbox"
           }
          ],
          "scatterpolar": [
           {
            "marker": {
             "colorbar": {
              "outlinewidth": 0,
              "ticks": ""
             }
            },
            "type": "scatterpolar"
           }
          ],
          "scatterpolargl": [
           {
            "marker": {
             "colorbar": {
              "outlinewidth": 0,
              "ticks": ""
             }
            },
            "type": "scatterpolargl"
           }
          ],
          "scatterternary": [
           {
            "marker": {
             "colorbar": {
              "outlinewidth": 0,
              "ticks": ""
             }
            },
            "type": "scatterternary"
           }
          ],
          "surface": [
           {
            "colorbar": {
             "outlinewidth": 0,
             "ticks": ""
            },
            "colorscale": [
             [
              0,
              "#0d0887"
             ],
             [
              0.1111111111111111,
              "#46039f"
             ],
             [
              0.2222222222222222,
              "#7201a8"
             ],
             [
              0.3333333333333333,
              "#9c179e"
             ],
             [
              0.4444444444444444,
              "#bd3786"
             ],
             [
              0.5555555555555556,
              "#d8576b"
             ],
             [
              0.6666666666666666,
              "#ed7953"
             ],
             [
              0.7777777777777778,
              "#fb9f3a"
             ],
             [
              0.8888888888888888,
              "#fdca26"
             ],
             [
              1,
              "#f0f921"
             ]
            ],
            "type": "surface"
           }
          ],
          "table": [
           {
            "cells": {
             "fill": {
              "color": "#EBF0F8"
             },
             "line": {
              "color": "white"
             }
            },
            "header": {
             "fill": {
              "color": "#C8D4E3"
             },
             "line": {
              "color": "white"
             }
            },
            "type": "table"
           }
          ]
         },
         "layout": {
          "annotationdefaults": {
           "arrowcolor": "#2a3f5f",
           "arrowhead": 0,
           "arrowwidth": 1
          },
          "autotypenumbers": "strict",
          "coloraxis": {
           "colorbar": {
            "outlinewidth": 0,
            "ticks": ""
           }
          },
          "colorscale": {
           "diverging": [
            [
             0,
             "#8e0152"
            ],
            [
             0.1,
             "#c51b7d"
            ],
            [
             0.2,
             "#de77ae"
            ],
            [
             0.3,
             "#f1b6da"
            ],
            [
             0.4,
             "#fde0ef"
            ],
            [
             0.5,
             "#f7f7f7"
            ],
            [
             0.6,
             "#e6f5d0"
            ],
            [
             0.7,
             "#b8e186"
            ],
            [
             0.8,
             "#7fbc41"
            ],
            [
             0.9,
             "#4d9221"
            ],
            [
             1,
             "#276419"
            ]
           ],
           "sequential": [
            [
             0,
             "#0d0887"
            ],
            [
             0.1111111111111111,
             "#46039f"
            ],
            [
             0.2222222222222222,
             "#7201a8"
            ],
            [
             0.3333333333333333,
             "#9c179e"
            ],
            [
             0.4444444444444444,
             "#bd3786"
            ],
            [
             0.5555555555555556,
             "#d8576b"
            ],
            [
             0.6666666666666666,
             "#ed7953"
            ],
            [
             0.7777777777777778,
             "#fb9f3a"
            ],
            [
             0.8888888888888888,
             "#fdca26"
            ],
            [
             1,
             "#f0f921"
            ]
           ],
           "sequentialminus": [
            [
             0,
             "#0d0887"
            ],
            [
             0.1111111111111111,
             "#46039f"
            ],
            [
             0.2222222222222222,
             "#7201a8"
            ],
            [
             0.3333333333333333,
             "#9c179e"
            ],
            [
             0.4444444444444444,
             "#bd3786"
            ],
            [
             0.5555555555555556,
             "#d8576b"
            ],
            [
             0.6666666666666666,
             "#ed7953"
            ],
            [
             0.7777777777777778,
             "#fb9f3a"
            ],
            [
             0.8888888888888888,
             "#fdca26"
            ],
            [
             1,
             "#f0f921"
            ]
           ]
          },
          "colorway": [
           "#636efa",
           "#EF553B",
           "#00cc96",
           "#ab63fa",
           "#FFA15A",
           "#19d3f3",
           "#FF6692",
           "#B6E880",
           "#FF97FF",
           "#FECB52"
          ],
          "font": {
           "color": "#2a3f5f"
          },
          "geo": {
           "bgcolor": "white",
           "lakecolor": "white",
           "landcolor": "#E5ECF6",
           "showlakes": true,
           "showland": true,
           "subunitcolor": "white"
          },
          "hoverlabel": {
           "align": "left"
          },
          "hovermode": "closest",
          "mapbox": {
           "style": "light"
          },
          "paper_bgcolor": "white",
          "plot_bgcolor": "#E5ECF6",
          "polar": {
           "angularaxis": {
            "gridcolor": "white",
            "linecolor": "white",
            "ticks": ""
           },
           "bgcolor": "#E5ECF6",
           "radialaxis": {
            "gridcolor": "white",
            "linecolor": "white",
            "ticks": ""
           }
          },
          "scene": {
           "xaxis": {
            "backgroundcolor": "#E5ECF6",
            "gridcolor": "white",
            "gridwidth": 2,
            "linecolor": "white",
            "showbackground": true,
            "ticks": "",
            "zerolinecolor": "white"
           },
           "yaxis": {
            "backgroundcolor": "#E5ECF6",
            "gridcolor": "white",
            "gridwidth": 2,
            "linecolor": "white",
            "showbackground": true,
            "ticks": "",
            "zerolinecolor": "white"
           },
           "zaxis": {
            "backgroundcolor": "#E5ECF6",
            "gridcolor": "white",
            "gridwidth": 2,
            "linecolor": "white",
            "showbackground": true,
            "ticks": "",
            "zerolinecolor": "white"
           }
          },
          "shapedefaults": {
           "line": {
            "color": "#2a3f5f"
           }
          },
          "ternary": {
           "aaxis": {
            "gridcolor": "white",
            "linecolor": "white",
            "ticks": ""
           },
           "baxis": {
            "gridcolor": "white",
            "linecolor": "white",
            "ticks": ""
           },
           "bgcolor": "#E5ECF6",
           "caxis": {
            "gridcolor": "white",
            "linecolor": "white",
            "ticks": ""
           }
          },
          "title": {
           "x": 0.05
          },
          "xaxis": {
           "automargin": true,
           "gridcolor": "white",
           "linecolor": "white",
           "ticks": "",
           "title": {
            "standoff": 15
           },
           "zerolinecolor": "white",
           "zerolinewidth": 2
          },
          "yaxis": {
           "automargin": true,
           "gridcolor": "white",
           "linecolor": "white",
           "ticks": "",
           "title": {
            "standoff": 15
           },
           "zerolinecolor": "white",
           "zerolinewidth": 2
          }
         }
        },
        "title": {
         "text": "House Shifting Status"
        },
        "width": 600,
        "xaxis": {
         "anchor": "y",
         "categoryarray": [
          "Ready_to_move",
          "Almost_ready"
         ],
         "categoryorder": "array",
         "domain": [
          0,
          1
         ],
         "title": {
          "text": "Status"
         }
        },
        "yaxis": {
         "anchor": "x",
         "domain": [
          0,
          1
         ],
         "title": {
          "text": "count"
         }
        }
       }
      }
     },
     "metadata": {}
    }
   ],
   "source": [
    "#House shifting Status\n",
    "fig = px.histogram(df3,x='Status',\n",
    "                    title='House Shifting Status',\n",
    "                    opacity=1,\n",
    "                    color=\"Status\")\n",
    "fig.update_layout(barmode='group',height=520,width=600)\n",
    "fig.show()"
   ]
  },
  {
   "cell_type": "code",
   "execution_count": 22,
   "metadata": {},
   "outputs": [
    {
     "output_type": "display_data",
     "data": {
      "application/vnd.plotly.v1+json": {
       "config": {
        "plotlyServerURL": "https://plot.ly"
       },
       "data": [
        {
         "alignmentgroup": "True",
         "bingroup": "x",
         "hovertemplate": "Type=Apartment<br>Ownership=%{x}<br>count=%{y}<extra></extra>",
         "legendgroup": "Apartment",
         "marker": {
          "color": "#636efa",
          "opacity": 0.8
         },
         "name": "Apartment",
         "offsetgroup": "Apartment",
         "orientation": "v",
         "showlegend": true,
         "type": "histogram",
         "x": [
          "Resale",
          "Resale",
          "Resale",
          "Resale",
          "Resale",
          "Resale",
          "Resale",
          "Resale",
          "Resale",
          "Resale",
          "Resale",
          "Resale",
          "Resale",
          "Resale",
          "Resale",
          "New_Property",
          "Resale",
          "New_Property",
          "Resale",
          "Resale",
          "Resale",
          "Resale",
          "Resale",
          "Resale",
          "Resale",
          "Resale",
          "Resale",
          "Resale",
          "Resale",
          "Resale",
          "Resale",
          "Resale",
          "Resale",
          "Resale",
          "Resale",
          "Resale",
          "Resale",
          "Resale",
          "Resale",
          "New_Property",
          "Resale",
          "Resale",
          "New_Property",
          "Resale",
          "Resale",
          "Resale",
          "New_Property",
          "Resale",
          "Resale",
          "Resale",
          "Resale",
          "Resale",
          "Resale",
          "Resale",
          "New_Property",
          "Resale",
          "Resale",
          "Resale",
          "Resale",
          "New_Property",
          "New_Property",
          "New_Property",
          "New_Property",
          "New_Property",
          "New_Property",
          "New_Property",
          "New_Property",
          "New_Property",
          "New_Property",
          "New_Property",
          "New_Property",
          "New_Property",
          "New_Property",
          "New_Property",
          "New_Property",
          "New_Property",
          "New_Property",
          "New_Property",
          "New_Property",
          "New_Property",
          "New_Property",
          "New_Property",
          "New_Property",
          "New_Property",
          "New_Property",
          "New_Property",
          "New_Property",
          "Resale",
          "Resale",
          "Resale",
          "Resale",
          "Resale",
          "Resale",
          "Resale",
          "Resale",
          "Resale",
          "New_Property",
          "New_Property",
          "New_Property",
          "New_Property",
          "New_Property",
          "New_Property",
          "Resale",
          "Resale",
          "Resale",
          "Resale",
          "Resale",
          "Resale",
          "Resale",
          "New_Property",
          "Resale",
          "Resale",
          "Resale",
          "Resale",
          "Resale",
          "Resale",
          "Resale",
          "Resale",
          "Resale",
          "New_Property",
          "New_Property",
          "Resale",
          "Resale",
          "Resale",
          "Resale",
          "Resale",
          "New_Property",
          "Resale",
          "Resale",
          "Resale",
          "Resale",
          "Resale",
          "Resale",
          "Resale",
          "Resale",
          "Resale",
          "Resale",
          "Resale",
          "Resale",
          "Resale",
          "New_Property",
          "Resale",
          "Resale",
          "Resale",
          "Resale",
          "New_Property",
          "Resale",
          "Resale",
          "Resale",
          "Resale",
          "Resale",
          "Resale",
          "Resale",
          "Resale",
          "Resale",
          "Resale",
          "Resale",
          "Resale",
          "Resale",
          "Resale",
          "Resale",
          "Resale",
          "Resale",
          "New_Property",
          "Resale",
          "Resale",
          "Resale",
          "Resale",
          "Resale",
          "Resale",
          "Resale",
          "Resale",
          "Resale",
          "Resale",
          "Resale",
          "New_Property",
          "Resale",
          "New_Property",
          "New_Property",
          "New_Property",
          "New_Property",
          "New_Property",
          "New_Property",
          "New_Property",
          "Resale",
          "Resale",
          "Resale",
          "New_Property",
          "New_Property",
          "New_Property",
          "New_Property",
          "Resale",
          "Resale",
          "Resale",
          "Resale",
          "New_Property",
          "New_Property",
          "Resale",
          "Resale",
          "Resale",
          "New_Property",
          "New_Property",
          "Resale",
          "Resale",
          "Resale"
         ],
         "xaxis": "x",
         "yaxis": "y"
        },
        {
         "alignmentgroup": "True",
         "bingroup": "x",
         "hovertemplate": "Type=Builder_Floor<br>Ownership=%{x}<br>count=%{y}<extra></extra>",
         "legendgroup": "Builder_Floor",
         "marker": {
          "color": "#EF553B",
          "opacity": 0.8
         },
         "name": "Builder_Floor",
         "offsetgroup": "Builder_Floor",
         "orientation": "v",
         "showlegend": true,
         "type": "histogram",
         "x": [
          "Resale",
          "New_Property",
          "Resale",
          "Resale",
          "New_Property",
          "New_Property",
          "New_Property",
          "Resale",
          "Resale",
          "Resale",
          "Resale",
          "Resale",
          "Resale",
          "New_Property",
          "New_Property",
          "New_Property",
          "New_Property",
          "New_Property",
          "New_Property",
          "New_Property",
          "New_Property",
          "Resale",
          "New_Property",
          "New_Property",
          "New_Property",
          "Resale",
          "New_Property",
          "New_Property",
          "New_Property",
          "New_Property",
          "New_Property",
          "Resale",
          "Resale",
          "Resale",
          "Resale",
          "New_Property",
          "New_Property",
          "Resale",
          "Resale",
          "Resale",
          "Resale",
          "Resale",
          "Resale",
          "Resale",
          "Resale",
          "Resale",
          "New_Property",
          "New_Property",
          "New_Property",
          "New_Property",
          "Resale",
          "Resale",
          "Resale",
          "New_Property",
          "New_Property",
          "New_Property",
          "New_Property",
          "New_Property",
          "New_Property",
          "New_Property",
          "Resale",
          "Resale",
          "New_Property",
          "New_Property",
          "New_Property",
          "Resale",
          "New_Property",
          "New_Property",
          "New_Property",
          "New_Property",
          "New_Property",
          "Resale",
          "New_Property",
          "New_Property",
          "Resale",
          "Resale",
          "New_Property",
          "New_Property",
          "New_Property",
          "New_Property",
          "New_Property",
          "New_Property",
          "New_Property",
          "New_Property",
          "New_Property",
          "Resale",
          "Resale",
          "New_Property",
          "New_Property",
          "New_Property",
          "New_Property",
          "New_Property",
          "New_Property",
          "New_Property",
          "New_Property",
          "Resale",
          "New_Property",
          "Resale",
          "New_Property",
          "Resale",
          "Resale",
          "Resale",
          "New_Property",
          "Resale",
          "New_Property",
          "Resale",
          "Resale",
          "Resale",
          "Resale",
          "New_Property",
          "Resale",
          "New_Property",
          "New_Property",
          "New_Property",
          "New_Property",
          "New_Property",
          "New_Property",
          "New_Property",
          "New_Property",
          "New_Property",
          "New_Property",
          "Resale",
          "Resale",
          "Resale",
          "New_Property",
          "Resale",
          "Resale",
          "Resale",
          "New_Property",
          "Resale",
          "Resale",
          "Resale",
          "Resale",
          "Resale",
          "Resale",
          "New_Property",
          "Resale",
          "Resale",
          "Resale",
          "Resale",
          "Resale",
          "Resale",
          "Resale",
          "Resale",
          "New_Property",
          "Resale",
          "New_Property",
          "Resale",
          "Resale",
          "Resale",
          "Resale",
          "Resale",
          "New_Property",
          "New_Property",
          "Resale",
          "Resale",
          "New_Property",
          "Resale",
          "Resale",
          "Resale",
          "Resale",
          "New_Property",
          "New_Property",
          "New_Property",
          "New_Property",
          "Resale",
          "Resale",
          "Resale",
          "Resale",
          "Resale",
          "Resale",
          "Resale",
          "Resale",
          "Resale",
          "New_Property",
          "New_Property",
          "New_Property",
          "New_Property",
          "New_Property",
          "New_Property",
          "New_Property",
          "Resale",
          "Resale",
          "New_Property",
          "Resale",
          "Resale",
          "Resale",
          "Resale",
          "New_Property",
          "New_Property",
          "New_Property",
          "Resale",
          "New_Property",
          "Resale",
          "Resale",
          "Resale",
          "Resale",
          "Resale",
          "Resale",
          "Resale",
          "Resale",
          "Resale",
          "Resale",
          "Resale",
          "New_Property",
          "Resale",
          "Resale",
          "New_Property",
          "Resale",
          "New_Property",
          "New_Property",
          "Resale",
          "New_Property",
          "New_Property",
          "New_Property",
          "New_Property",
          "New_Property",
          "New_Property",
          "New_Property",
          "New_Property",
          "New_Property",
          "New_Property",
          "New_Property",
          "New_Property",
          "Resale",
          "Resale",
          "New_Property",
          "New_Property",
          "New_Property",
          "New_Property",
          "New_Property",
          "Resale",
          "New_Property",
          "Resale",
          "New_Property",
          "New_Property",
          "New_Property",
          "New_Property",
          "New_Property",
          "New_Property",
          "Resale",
          "Resale",
          "New_Property",
          "New_Property",
          "New_Property",
          "Resale",
          "New_Property",
          "New_Property",
          "Resale",
          "New_Property",
          "New_Property",
          "Resale",
          "Resale",
          "Resale",
          "Resale",
          "Resale",
          "Resale",
          "New_Property",
          "Resale",
          "New_Property",
          "Resale",
          "Resale",
          "Resale",
          "Resale",
          "Resale",
          "Resale",
          "Resale",
          "Resale",
          "Resale",
          "Resale",
          "Resale",
          "Resale",
          "Resale",
          "Resale",
          "New_Property",
          "New_Property",
          "New_Property",
          "New_Property",
          "Resale",
          "Resale",
          "New_Property",
          "New_Property",
          "New_Property",
          "New_Property",
          "New_Property",
          "Resale",
          "New_Property",
          "New_Property",
          "New_Property",
          "New_Property",
          "Resale",
          "Resale",
          "Resale",
          "Resale",
          "New_Property",
          "Resale",
          "Resale",
          "Resale",
          "Resale",
          "Resale",
          "Resale",
          "Resale",
          "Resale",
          "Resale",
          "Resale",
          "Resale",
          "Resale",
          "New_Property",
          "Resale",
          "Resale"
         ],
         "xaxis": "x",
         "yaxis": "y"
        }
       ],
       "layout": {
        "bargap": 0.2,
        "bargroupgap": 0,
        "barmode": "group",
        "height": 520,
        "legend": {
         "title": {
          "text": "Type"
         },
         "tracegroupgap": 0
        },
        "template": {
         "data": {
          "bar": [
           {
            "error_x": {
             "color": "#2a3f5f"
            },
            "error_y": {
             "color": "#2a3f5f"
            },
            "marker": {
             "line": {
              "color": "#E5ECF6",
              "width": 0.5
             }
            },
            "type": "bar"
           }
          ],
          "barpolar": [
           {
            "marker": {
             "line": {
              "color": "#E5ECF6",
              "width": 0.5
             }
            },
            "type": "barpolar"
           }
          ],
          "carpet": [
           {
            "aaxis": {
             "endlinecolor": "#2a3f5f",
             "gridcolor": "white",
             "linecolor": "white",
             "minorgridcolor": "white",
             "startlinecolor": "#2a3f5f"
            },
            "baxis": {
             "endlinecolor": "#2a3f5f",
             "gridcolor": "white",
             "linecolor": "white",
             "minorgridcolor": "white",
             "startlinecolor": "#2a3f5f"
            },
            "type": "carpet"
           }
          ],
          "choropleth": [
           {
            "colorbar": {
             "outlinewidth": 0,
             "ticks": ""
            },
            "type": "choropleth"
           }
          ],
          "contour": [
           {
            "colorbar": {
             "outlinewidth": 0,
             "ticks": ""
            },
            "colorscale": [
             [
              0,
              "#0d0887"
             ],
             [
              0.1111111111111111,
              "#46039f"
             ],
             [
              0.2222222222222222,
              "#7201a8"
             ],
             [
              0.3333333333333333,
              "#9c179e"
             ],
             [
              0.4444444444444444,
              "#bd3786"
             ],
             [
              0.5555555555555556,
              "#d8576b"
             ],
             [
              0.6666666666666666,
              "#ed7953"
             ],
             [
              0.7777777777777778,
              "#fb9f3a"
             ],
             [
              0.8888888888888888,
              "#fdca26"
             ],
             [
              1,
              "#f0f921"
             ]
            ],
            "type": "contour"
           }
          ],
          "contourcarpet": [
           {
            "colorbar": {
             "outlinewidth": 0,
             "ticks": ""
            },
            "type": "contourcarpet"
           }
          ],
          "heatmap": [
           {
            "colorbar": {
             "outlinewidth": 0,
             "ticks": ""
            },
            "colorscale": [
             [
              0,
              "#0d0887"
             ],
             [
              0.1111111111111111,
              "#46039f"
             ],
             [
              0.2222222222222222,
              "#7201a8"
             ],
             [
              0.3333333333333333,
              "#9c179e"
             ],
             [
              0.4444444444444444,
              "#bd3786"
             ],
             [
              0.5555555555555556,
              "#d8576b"
             ],
             [
              0.6666666666666666,
              "#ed7953"
             ],
             [
              0.7777777777777778,
              "#fb9f3a"
             ],
             [
              0.8888888888888888,
              "#fdca26"
             ],
             [
              1,
              "#f0f921"
             ]
            ],
            "type": "heatmap"
           }
          ],
          "heatmapgl": [
           {
            "colorbar": {
             "outlinewidth": 0,
             "ticks": ""
            },
            "colorscale": [
             [
              0,
              "#0d0887"
             ],
             [
              0.1111111111111111,
              "#46039f"
             ],
             [
              0.2222222222222222,
              "#7201a8"
             ],
             [
              0.3333333333333333,
              "#9c179e"
             ],
             [
              0.4444444444444444,
              "#bd3786"
             ],
             [
              0.5555555555555556,
              "#d8576b"
             ],
             [
              0.6666666666666666,
              "#ed7953"
             ],
             [
              0.7777777777777778,
              "#fb9f3a"
             ],
             [
              0.8888888888888888,
              "#fdca26"
             ],
             [
              1,
              "#f0f921"
             ]
            ],
            "type": "heatmapgl"
           }
          ],
          "histogram": [
           {
            "marker": {
             "colorbar": {
              "outlinewidth": 0,
              "ticks": ""
             }
            },
            "type": "histogram"
           }
          ],
          "histogram2d": [
           {
            "colorbar": {
             "outlinewidth": 0,
             "ticks": ""
            },
            "colorscale": [
             [
              0,
              "#0d0887"
             ],
             [
              0.1111111111111111,
              "#46039f"
             ],
             [
              0.2222222222222222,
              "#7201a8"
             ],
             [
              0.3333333333333333,
              "#9c179e"
             ],
             [
              0.4444444444444444,
              "#bd3786"
             ],
             [
              0.5555555555555556,
              "#d8576b"
             ],
             [
              0.6666666666666666,
              "#ed7953"
             ],
             [
              0.7777777777777778,
              "#fb9f3a"
             ],
             [
              0.8888888888888888,
              "#fdca26"
             ],
             [
              1,
              "#f0f921"
             ]
            ],
            "type": "histogram2d"
           }
          ],
          "histogram2dcontour": [
           {
            "colorbar": {
             "outlinewidth": 0,
             "ticks": ""
            },
            "colorscale": [
             [
              0,
              "#0d0887"
             ],
             [
              0.1111111111111111,
              "#46039f"
             ],
             [
              0.2222222222222222,
              "#7201a8"
             ],
             [
              0.3333333333333333,
              "#9c179e"
             ],
             [
              0.4444444444444444,
              "#bd3786"
             ],
             [
              0.5555555555555556,
              "#d8576b"
             ],
             [
              0.6666666666666666,
              "#ed7953"
             ],
             [
              0.7777777777777778,
              "#fb9f3a"
             ],
             [
              0.8888888888888888,
              "#fdca26"
             ],
             [
              1,
              "#f0f921"
             ]
            ],
            "type": "histogram2dcontour"
           }
          ],
          "mesh3d": [
           {
            "colorbar": {
             "outlinewidth": 0,
             "ticks": ""
            },
            "type": "mesh3d"
           }
          ],
          "parcoords": [
           {
            "line": {
             "colorbar": {
              "outlinewidth": 0,
              "ticks": ""
             }
            },
            "type": "parcoords"
           }
          ],
          "pie": [
           {
            "automargin": true,
            "type": "pie"
           }
          ],
          "scatter": [
           {
            "marker": {
             "colorbar": {
              "outlinewidth": 0,
              "ticks": ""
             }
            },
            "type": "scatter"
           }
          ],
          "scatter3d": [
           {
            "line": {
             "colorbar": {
              "outlinewidth": 0,
              "ticks": ""
             }
            },
            "marker": {
             "colorbar": {
              "outlinewidth": 0,
              "ticks": ""
             }
            },
            "type": "scatter3d"
           }
          ],
          "scattercarpet": [
           {
            "marker": {
             "colorbar": {
              "outlinewidth": 0,
              "ticks": ""
             }
            },
            "type": "scattercarpet"
           }
          ],
          "scattergeo": [
           {
            "marker": {
             "colorbar": {
              "outlinewidth": 0,
              "ticks": ""
             }
            },
            "type": "scattergeo"
           }
          ],
          "scattergl": [
           {
            "marker": {
             "colorbar": {
              "outlinewidth": 0,
              "ticks": ""
             }
            },
            "type": "scattergl"
           }
          ],
          "scattermapbox": [
           {
            "marker": {
             "colorbar": {
              "outlinewidth": 0,
              "ticks": ""
             }
            },
            "type": "scattermapbox"
           }
          ],
          "scatterpolar": [
           {
            "marker": {
             "colorbar": {
              "outlinewidth": 0,
              "ticks": ""
             }
            },
            "type": "scatterpolar"
           }
          ],
          "scatterpolargl": [
           {
            "marker": {
             "colorbar": {
              "outlinewidth": 0,
              "ticks": ""
             }
            },
            "type": "scatterpolargl"
           }
          ],
          "scatterternary": [
           {
            "marker": {
             "colorbar": {
              "outlinewidth": 0,
              "ticks": ""
             }
            },
            "type": "scatterternary"
           }
          ],
          "surface": [
           {
            "colorbar": {
             "outlinewidth": 0,
             "ticks": ""
            },
            "colorscale": [
             [
              0,
              "#0d0887"
             ],
             [
              0.1111111111111111,
              "#46039f"
             ],
             [
              0.2222222222222222,
              "#7201a8"
             ],
             [
              0.3333333333333333,
              "#9c179e"
             ],
             [
              0.4444444444444444,
              "#bd3786"
             ],
             [
              0.5555555555555556,
              "#d8576b"
             ],
             [
              0.6666666666666666,
              "#ed7953"
             ],
             [
              0.7777777777777778,
              "#fb9f3a"
             ],
             [
              0.8888888888888888,
              "#fdca26"
             ],
             [
              1,
              "#f0f921"
             ]
            ],
            "type": "surface"
           }
          ],
          "table": [
           {
            "cells": {
             "fill": {
              "color": "#EBF0F8"
             },
             "line": {
              "color": "white"
             }
            },
            "header": {
             "fill": {
              "color": "#C8D4E3"
             },
             "line": {
              "color": "white"
             }
            },
            "type": "table"
           }
          ]
         },
         "layout": {
          "annotationdefaults": {
           "arrowcolor": "#2a3f5f",
           "arrowhead": 0,
           "arrowwidth": 1
          },
          "autotypenumbers": "strict",
          "coloraxis": {
           "colorbar": {
            "outlinewidth": 0,
            "ticks": ""
           }
          },
          "colorscale": {
           "diverging": [
            [
             0,
             "#8e0152"
            ],
            [
             0.1,
             "#c51b7d"
            ],
            [
             0.2,
             "#de77ae"
            ],
            [
             0.3,
             "#f1b6da"
            ],
            [
             0.4,
             "#fde0ef"
            ],
            [
             0.5,
             "#f7f7f7"
            ],
            [
             0.6,
             "#e6f5d0"
            ],
            [
             0.7,
             "#b8e186"
            ],
            [
             0.8,
             "#7fbc41"
            ],
            [
             0.9,
             "#4d9221"
            ],
            [
             1,
             "#276419"
            ]
           ],
           "sequential": [
            [
             0,
             "#0d0887"
            ],
            [
             0.1111111111111111,
             "#46039f"
            ],
            [
             0.2222222222222222,
             "#7201a8"
            ],
            [
             0.3333333333333333,
             "#9c179e"
            ],
            [
             0.4444444444444444,
             "#bd3786"
            ],
            [
             0.5555555555555556,
             "#d8576b"
            ],
            [
             0.6666666666666666,
             "#ed7953"
            ],
            [
             0.7777777777777778,
             "#fb9f3a"
            ],
            [
             0.8888888888888888,
             "#fdca26"
            ],
            [
             1,
             "#f0f921"
            ]
           ],
           "sequentialminus": [
            [
             0,
             "#0d0887"
            ],
            [
             0.1111111111111111,
             "#46039f"
            ],
            [
             0.2222222222222222,
             "#7201a8"
            ],
            [
             0.3333333333333333,
             "#9c179e"
            ],
            [
             0.4444444444444444,
             "#bd3786"
            ],
            [
             0.5555555555555556,
             "#d8576b"
            ],
            [
             0.6666666666666666,
             "#ed7953"
            ],
            [
             0.7777777777777778,
             "#fb9f3a"
            ],
            [
             0.8888888888888888,
             "#fdca26"
            ],
            [
             1,
             "#f0f921"
            ]
           ]
          },
          "colorway": [
           "#636efa",
           "#EF553B",
           "#00cc96",
           "#ab63fa",
           "#FFA15A",
           "#19d3f3",
           "#FF6692",
           "#B6E880",
           "#FF97FF",
           "#FECB52"
          ],
          "font": {
           "color": "#2a3f5f"
          },
          "geo": {
           "bgcolor": "white",
           "lakecolor": "white",
           "landcolor": "#E5ECF6",
           "showlakes": true,
           "showland": true,
           "subunitcolor": "white"
          },
          "hoverlabel": {
           "align": "left"
          },
          "hovermode": "closest",
          "mapbox": {
           "style": "light"
          },
          "paper_bgcolor": "white",
          "plot_bgcolor": "#E5ECF6",
          "polar": {
           "angularaxis": {
            "gridcolor": "white",
            "linecolor": "white",
            "ticks": ""
           },
           "bgcolor": "#E5ECF6",
           "radialaxis": {
            "gridcolor": "white",
            "linecolor": "white",
            "ticks": ""
           }
          },
          "scene": {
           "xaxis": {
            "backgroundcolor": "#E5ECF6",
            "gridcolor": "white",
            "gridwidth": 2,
            "linecolor": "white",
            "showbackground": true,
            "ticks": "",
            "zerolinecolor": "white"
           },
           "yaxis": {
            "backgroundcolor": "#E5ECF6",
            "gridcolor": "white",
            "gridwidth": 2,
            "linecolor": "white",
            "showbackground": true,
            "ticks": "",
            "zerolinecolor": "white"
           },
           "zaxis": {
            "backgroundcolor": "#E5ECF6",
            "gridcolor": "white",
            "gridwidth": 2,
            "linecolor": "white",
            "showbackground": true,
            "ticks": "",
            "zerolinecolor": "white"
           }
          },
          "shapedefaults": {
           "line": {
            "color": "#2a3f5f"
           }
          },
          "ternary": {
           "aaxis": {
            "gridcolor": "white",
            "linecolor": "white",
            "ticks": ""
           },
           "baxis": {
            "gridcolor": "white",
            "linecolor": "white",
            "ticks": ""
           },
           "bgcolor": "#E5ECF6",
           "caxis": {
            "gridcolor": "white",
            "linecolor": "white",
            "ticks": ""
           }
          },
          "title": {
           "x": 0.05
          },
          "xaxis": {
           "automargin": true,
           "gridcolor": "white",
           "linecolor": "white",
           "ticks": "",
           "title": {
            "standoff": 15
           },
           "zerolinecolor": "white",
           "zerolinewidth": 2
          },
          "yaxis": {
           "automargin": true,
           "gridcolor": "white",
           "linecolor": "white",
           "ticks": "",
           "title": {
            "standoff": 15
           },
           "zerolinecolor": "white",
           "zerolinewidth": 2
          }
         }
        },
        "title": {
         "text": "House Ownership Vs House Type"
        },
        "width": 600,
        "xaxis": {
         "anchor": "y",
         "domain": [
          0,
          1
         ],
         "title": {
          "text": "Ownership"
         }
        },
        "yaxis": {
         "anchor": "x",
         "domain": [
          0,
          1
         ],
         "title": {
          "text": "count"
         }
        }
       }
      }
     },
     "metadata": {}
    }
   ],
   "source": [
    "fig = px.histogram(df3,x='Transaction',\n",
    "                    title='House Ownership Vs House Type',\n",
    "                    opacity=0.8,\n",
    "                    color = 'Type',\n",
    "                    labels={'Transaction':'Ownership'})\n",
    "                    #color_discrete_sequence=['indianred']\n",
    "fig.update_layout(barmode='group', bargap=0.20,bargroupgap=0.0,height=520,width=600)\n",
    "fig.show()"
   ]
  },
  {
   "cell_type": "code",
   "execution_count": 23,
   "metadata": {},
   "outputs": [
    {
     "output_type": "display_data",
     "data": {
      "application/vnd.plotly.v1+json": {
       "config": {
        "plotlyServerURL": "https://plot.ly"
       },
       "data": [
        {
         "alignmentgroup": "True",
         "bingroup": "x",
         "hovertemplate": "Number of Parkings=%{x}<br>count=%{y}<extra></extra>",
         "legendgroup": "",
         "marker": {
          "color": "mediumaquamarine"
         },
         "name": "",
         "offsetgroup": "",
         "orientation": "v",
         "showlegend": false,
         "type": "histogram",
         "x": [
          2,
          1,
          1,
          2,
          2,
          2,
          2,
          1,
          1,
          1,
          2,
          2,
          2,
          2,
          1,
          1,
          5,
          1,
          1,
          1,
          1,
          1,
          1,
          1,
          1,
          1,
          1,
          1,
          1,
          1,
          1,
          1,
          1,
          1,
          1,
          1,
          1,
          1,
          1,
          1,
          1,
          2,
          1,
          1,
          1,
          1,
          1,
          5,
          2,
          2,
          2,
          2,
          2,
          1,
          1,
          3,
          3,
          1,
          1,
          3,
          2,
          2,
          2,
          2,
          2,
          2,
          3,
          2,
          3,
          2,
          2,
          2,
          1,
          1,
          39,
          1,
          2,
          1,
          39,
          39,
          39,
          1,
          1,
          1,
          1,
          2,
          1,
          1,
          2,
          1,
          1,
          2,
          1,
          10,
          2,
          1,
          1,
          1,
          1,
          1,
          1,
          1,
          1,
          1,
          1,
          2,
          2,
          1,
          1,
          1,
          1,
          1,
          2,
          1,
          2,
          2,
          1,
          1,
          2,
          2,
          2,
          1,
          1,
          2,
          1,
          2,
          2,
          1,
          1,
          2,
          2,
          2,
          2,
          2,
          3,
          2,
          2,
          3,
          1,
          1,
          2,
          1,
          1,
          1,
          1,
          1,
          1,
          1,
          1,
          1,
          1,
          1,
          1,
          1,
          1,
          1,
          1,
          1,
          1,
          1,
          1,
          1,
          1,
          1,
          1,
          1,
          1,
          1,
          2,
          1,
          3,
          3,
          2,
          2,
          1,
          1,
          2,
          2,
          2,
          2,
          1,
          2,
          2,
          2,
          2,
          1,
          1,
          2,
          1,
          1,
          1,
          1,
          2,
          1,
          1,
          4,
          2,
          2,
          2,
          2,
          1,
          1,
          1,
          1,
          1,
          1,
          1,
          1,
          1,
          2,
          1,
          1,
          1,
          1,
          1,
          2,
          1,
          1,
          2,
          1,
          1,
          2,
          1,
          1,
          1,
          1,
          1,
          1,
          2,
          1,
          1,
          1,
          1,
          1,
          1,
          1,
          1,
          1,
          1,
          1,
          1,
          1,
          1,
          3,
          1,
          4,
          2,
          1,
          1,
          1,
          1,
          1,
          1,
          1,
          1,
          1,
          2,
          2,
          1,
          2,
          1,
          1,
          3,
          2,
          1,
          2,
          1,
          1,
          1,
          1,
          1,
          1,
          1,
          2,
          5,
          1,
          1,
          1,
          1,
          1,
          1,
          1,
          3,
          3,
          39,
          1,
          1,
          1,
          1,
          2,
          2,
          1,
          1,
          2,
          2,
          2,
          2,
          2,
          2,
          3,
          1,
          2,
          2,
          2,
          1,
          1,
          1,
          1,
          1,
          2,
          1,
          2,
          3,
          2,
          2,
          1,
          1,
          1,
          1,
          1,
          2,
          1,
          2,
          1,
          1,
          2,
          1,
          2,
          2,
          2,
          1,
          1,
          1,
          3,
          3,
          2,
          2,
          1,
          1,
          1,
          1,
          3,
          3,
          2,
          3,
          2,
          2,
          1,
          1,
          1,
          1,
          2,
          1,
          4,
          2,
          2,
          3,
          2,
          1,
          1,
          1,
          1,
          1,
          1,
          1,
          1,
          1,
          1,
          1,
          1,
          1,
          1,
          1,
          1,
          1,
          1,
          1,
          1,
          1,
          4,
          3,
          2,
          2,
          1,
          2,
          1,
          3,
          2,
          1,
          2,
          3,
          3,
          2,
          1,
          1,
          1,
          1,
          2,
          3,
          2,
          2,
          1,
          2,
          2,
          2,
          1,
          1,
          2,
          2,
          1,
          2,
          1,
          1,
          1,
          2,
          1,
          1,
          1,
          1,
          2,
          1,
          2,
          2,
          1,
          2,
          2,
          2,
          2,
          2,
          1,
          1,
          1,
          2,
          2,
          1,
          1,
          1,
          2,
          1,
          1,
          1,
          1,
          1,
          1,
          1,
          1,
          1,
          2,
          2,
          1,
          2,
          1,
          1,
          1,
          1,
          1,
          1,
          1,
          1,
          2,
          1,
          1,
          1,
          1,
          1,
          1,
          1,
          1,
          1,
          1,
          1,
          1,
          1,
          1,
          1,
          1,
          1,
          3,
          5,
          2,
          1,
          1,
          1,
          1,
          1,
          1,
          1,
          2,
          1,
          2,
          1,
          1,
          1,
          1,
          1,
          1,
          1,
          1,
          1,
          1,
          1,
          1,
          1,
          1,
          1,
          1,
          1,
          1,
          1,
          1,
          1,
          2,
          2,
          2,
          2
         ],
         "xaxis": "x",
         "yaxis": "y"
        }
       ],
       "layout": {
        "bargap": 0.2,
        "barmode": "relative",
        "height": 420,
        "legend": {
         "tracegroupgap": 0
        },
        "template": {
         "data": {
          "bar": [
           {
            "error_x": {
             "color": "#2a3f5f"
            },
            "error_y": {
             "color": "#2a3f5f"
            },
            "marker": {
             "line": {
              "color": "#E5ECF6",
              "width": 0.5
             }
            },
            "type": "bar"
           }
          ],
          "barpolar": [
           {
            "marker": {
             "line": {
              "color": "#E5ECF6",
              "width": 0.5
             }
            },
            "type": "barpolar"
           }
          ],
          "carpet": [
           {
            "aaxis": {
             "endlinecolor": "#2a3f5f",
             "gridcolor": "white",
             "linecolor": "white",
             "minorgridcolor": "white",
             "startlinecolor": "#2a3f5f"
            },
            "baxis": {
             "endlinecolor": "#2a3f5f",
             "gridcolor": "white",
             "linecolor": "white",
             "minorgridcolor": "white",
             "startlinecolor": "#2a3f5f"
            },
            "type": "carpet"
           }
          ],
          "choropleth": [
           {
            "colorbar": {
             "outlinewidth": 0,
             "ticks": ""
            },
            "type": "choropleth"
           }
          ],
          "contour": [
           {
            "colorbar": {
             "outlinewidth": 0,
             "ticks": ""
            },
            "colorscale": [
             [
              0,
              "#0d0887"
             ],
             [
              0.1111111111111111,
              "#46039f"
             ],
             [
              0.2222222222222222,
              "#7201a8"
             ],
             [
              0.3333333333333333,
              "#9c179e"
             ],
             [
              0.4444444444444444,
              "#bd3786"
             ],
             [
              0.5555555555555556,
              "#d8576b"
             ],
             [
              0.6666666666666666,
              "#ed7953"
             ],
             [
              0.7777777777777778,
              "#fb9f3a"
             ],
             [
              0.8888888888888888,
              "#fdca26"
             ],
             [
              1,
              "#f0f921"
             ]
            ],
            "type": "contour"
           }
          ],
          "contourcarpet": [
           {
            "colorbar": {
             "outlinewidth": 0,
             "ticks": ""
            },
            "type": "contourcarpet"
           }
          ],
          "heatmap": [
           {
            "colorbar": {
             "outlinewidth": 0,
             "ticks": ""
            },
            "colorscale": [
             [
              0,
              "#0d0887"
             ],
             [
              0.1111111111111111,
              "#46039f"
             ],
             [
              0.2222222222222222,
              "#7201a8"
             ],
             [
              0.3333333333333333,
              "#9c179e"
             ],
             [
              0.4444444444444444,
              "#bd3786"
             ],
             [
              0.5555555555555556,
              "#d8576b"
             ],
             [
              0.6666666666666666,
              "#ed7953"
             ],
             [
              0.7777777777777778,
              "#fb9f3a"
             ],
             [
              0.8888888888888888,
              "#fdca26"
             ],
             [
              1,
              "#f0f921"
             ]
            ],
            "type": "heatmap"
           }
          ],
          "heatmapgl": [
           {
            "colorbar": {
             "outlinewidth": 0,
             "ticks": ""
            },
            "colorscale": [
             [
              0,
              "#0d0887"
             ],
             [
              0.1111111111111111,
              "#46039f"
             ],
             [
              0.2222222222222222,
              "#7201a8"
             ],
             [
              0.3333333333333333,
              "#9c179e"
             ],
             [
              0.4444444444444444,
              "#bd3786"
             ],
             [
              0.5555555555555556,
              "#d8576b"
             ],
             [
              0.6666666666666666,
              "#ed7953"
             ],
             [
              0.7777777777777778,
              "#fb9f3a"
             ],
             [
              0.8888888888888888,
              "#fdca26"
             ],
             [
              1,
              "#f0f921"
             ]
            ],
            "type": "heatmapgl"
           }
          ],
          "histogram": [
           {
            "marker": {
             "colorbar": {
              "outlinewidth": 0,
              "ticks": ""
             }
            },
            "type": "histogram"
           }
          ],
          "histogram2d": [
           {
            "colorbar": {
             "outlinewidth": 0,
             "ticks": ""
            },
            "colorscale": [
             [
              0,
              "#0d0887"
             ],
             [
              0.1111111111111111,
              "#46039f"
             ],
             [
              0.2222222222222222,
              "#7201a8"
             ],
             [
              0.3333333333333333,
              "#9c179e"
             ],
             [
              0.4444444444444444,
              "#bd3786"
             ],
             [
              0.5555555555555556,
              "#d8576b"
             ],
             [
              0.6666666666666666,
              "#ed7953"
             ],
             [
              0.7777777777777778,
              "#fb9f3a"
             ],
             [
              0.8888888888888888,
              "#fdca26"
             ],
             [
              1,
              "#f0f921"
             ]
            ],
            "type": "histogram2d"
           }
          ],
          "histogram2dcontour": [
           {
            "colorbar": {
             "outlinewidth": 0,
             "ticks": ""
            },
            "colorscale": [
             [
              0,
              "#0d0887"
             ],
             [
              0.1111111111111111,
              "#46039f"
             ],
             [
              0.2222222222222222,
              "#7201a8"
             ],
             [
              0.3333333333333333,
              "#9c179e"
             ],
             [
              0.4444444444444444,
              "#bd3786"
             ],
             [
              0.5555555555555556,
              "#d8576b"
             ],
             [
              0.6666666666666666,
              "#ed7953"
             ],
             [
              0.7777777777777778,
              "#fb9f3a"
             ],
             [
              0.8888888888888888,
              "#fdca26"
             ],
             [
              1,
              "#f0f921"
             ]
            ],
            "type": "histogram2dcontour"
           }
          ],
          "mesh3d": [
           {
            "colorbar": {
             "outlinewidth": 0,
             "ticks": ""
            },
            "type": "mesh3d"
           }
          ],
          "parcoords": [
           {
            "line": {
             "colorbar": {
              "outlinewidth": 0,
              "ticks": ""
             }
            },
            "type": "parcoords"
           }
          ],
          "pie": [
           {
            "automargin": true,
            "type": "pie"
           }
          ],
          "scatter": [
           {
            "marker": {
             "colorbar": {
              "outlinewidth": 0,
              "ticks": ""
             }
            },
            "type": "scatter"
           }
          ],
          "scatter3d": [
           {
            "line": {
             "colorbar": {
              "outlinewidth": 0,
              "ticks": ""
             }
            },
            "marker": {
             "colorbar": {
              "outlinewidth": 0,
              "ticks": ""
             }
            },
            "type": "scatter3d"
           }
          ],
          "scattercarpet": [
           {
            "marker": {
             "colorbar": {
              "outlinewidth": 0,
              "ticks": ""
             }
            },
            "type": "scattercarpet"
           }
          ],
          "scattergeo": [
           {
            "marker": {
             "colorbar": {
              "outlinewidth": 0,
              "ticks": ""
             }
            },
            "type": "scattergeo"
           }
          ],
          "scattergl": [
           {
            "marker": {
             "colorbar": {
              "outlinewidth": 0,
              "ticks": ""
             }
            },
            "type": "scattergl"
           }
          ],
          "scattermapbox": [
           {
            "marker": {
             "colorbar": {
              "outlinewidth": 0,
              "ticks": ""
             }
            },
            "type": "scattermapbox"
           }
          ],
          "scatterpolar": [
           {
            "marker": {
             "colorbar": {
              "outlinewidth": 0,
              "ticks": ""
             }
            },
            "type": "scatterpolar"
           }
          ],
          "scatterpolargl": [
           {
            "marker": {
             "colorbar": {
              "outlinewidth": 0,
              "ticks": ""
             }
            },
            "type": "scatterpolargl"
           }
          ],
          "scatterternary": [
           {
            "marker": {
             "colorbar": {
              "outlinewidth": 0,
              "ticks": ""
             }
            },
            "type": "scatterternary"
           }
          ],
          "surface": [
           {
            "colorbar": {
             "outlinewidth": 0,
             "ticks": ""
            },
            "colorscale": [
             [
              0,
              "#0d0887"
             ],
             [
              0.1111111111111111,
              "#46039f"
             ],
             [
              0.2222222222222222,
              "#7201a8"
             ],
             [
              0.3333333333333333,
              "#9c179e"
             ],
             [
              0.4444444444444444,
              "#bd3786"
             ],
             [
              0.5555555555555556,
              "#d8576b"
             ],
             [
              0.6666666666666666,
              "#ed7953"
             ],
             [
              0.7777777777777778,
              "#fb9f3a"
             ],
             [
              0.8888888888888888,
              "#fdca26"
             ],
             [
              1,
              "#f0f921"
             ]
            ],
            "type": "surface"
           }
          ],
          "table": [
           {
            "cells": {
             "fill": {
              "color": "#EBF0F8"
             },
             "line": {
              "color": "white"
             }
            },
            "header": {
             "fill": {
              "color": "#C8D4E3"
             },
             "line": {
              "color": "white"
             }
            },
            "type": "table"
           }
          ]
         },
         "layout": {
          "annotationdefaults": {
           "arrowcolor": "#2a3f5f",
           "arrowhead": 0,
           "arrowwidth": 1
          },
          "autotypenumbers": "strict",
          "coloraxis": {
           "colorbar": {
            "outlinewidth": 0,
            "ticks": ""
           }
          },
          "colorscale": {
           "diverging": [
            [
             0,
             "#8e0152"
            ],
            [
             0.1,
             "#c51b7d"
            ],
            [
             0.2,
             "#de77ae"
            ],
            [
             0.3,
             "#f1b6da"
            ],
            [
             0.4,
             "#fde0ef"
            ],
            [
             0.5,
             "#f7f7f7"
            ],
            [
             0.6,
             "#e6f5d0"
            ],
            [
             0.7,
             "#b8e186"
            ],
            [
             0.8,
             "#7fbc41"
            ],
            [
             0.9,
             "#4d9221"
            ],
            [
             1,
             "#276419"
            ]
           ],
           "sequential": [
            [
             0,
             "#0d0887"
            ],
            [
             0.1111111111111111,
             "#46039f"
            ],
            [
             0.2222222222222222,
             "#7201a8"
            ],
            [
             0.3333333333333333,
             "#9c179e"
            ],
            [
             0.4444444444444444,
             "#bd3786"
            ],
            [
             0.5555555555555556,
             "#d8576b"
            ],
            [
             0.6666666666666666,
             "#ed7953"
            ],
            [
             0.7777777777777778,
             "#fb9f3a"
            ],
            [
             0.8888888888888888,
             "#fdca26"
            ],
            [
             1,
             "#f0f921"
            ]
           ],
           "sequentialminus": [
            [
             0,
             "#0d0887"
            ],
            [
             0.1111111111111111,
             "#46039f"
            ],
            [
             0.2222222222222222,
             "#7201a8"
            ],
            [
             0.3333333333333333,
             "#9c179e"
            ],
            [
             0.4444444444444444,
             "#bd3786"
            ],
            [
             0.5555555555555556,
             "#d8576b"
            ],
            [
             0.6666666666666666,
             "#ed7953"
            ],
            [
             0.7777777777777778,
             "#fb9f3a"
            ],
            [
             0.8888888888888888,
             "#fdca26"
            ],
            [
             1,
             "#f0f921"
            ]
           ]
          },
          "colorway": [
           "#636efa",
           "#EF553B",
           "#00cc96",
           "#ab63fa",
           "#FFA15A",
           "#19d3f3",
           "#FF6692",
           "#B6E880",
           "#FF97FF",
           "#FECB52"
          ],
          "font": {
           "color": "#2a3f5f"
          },
          "geo": {
           "bgcolor": "white",
           "lakecolor": "white",
           "landcolor": "#E5ECF6",
           "showlakes": true,
           "showland": true,
           "subunitcolor": "white"
          },
          "hoverlabel": {
           "align": "left"
          },
          "hovermode": "closest",
          "mapbox": {
           "style": "light"
          },
          "paper_bgcolor": "white",
          "plot_bgcolor": "#E5ECF6",
          "polar": {
           "angularaxis": {
            "gridcolor": "white",
            "linecolor": "white",
            "ticks": ""
           },
           "bgcolor": "#E5ECF6",
           "radialaxis": {
            "gridcolor": "white",
            "linecolor": "white",
            "ticks": ""
           }
          },
          "scene": {
           "xaxis": {
            "backgroundcolor": "#E5ECF6",
            "gridcolor": "white",
            "gridwidth": 2,
            "linecolor": "white",
            "showbackground": true,
            "ticks": "",
            "zerolinecolor": "white"
           },
           "yaxis": {
            "backgroundcolor": "#E5ECF6",
            "gridcolor": "white",
            "gridwidth": 2,
            "linecolor": "white",
            "showbackground": true,
            "ticks": "",
            "zerolinecolor": "white"
           },
           "zaxis": {
            "backgroundcolor": "#E5ECF6",
            "gridcolor": "white",
            "gridwidth": 2,
            "linecolor": "white",
            "showbackground": true,
            "ticks": "",
            "zerolinecolor": "white"
           }
          },
          "shapedefaults": {
           "line": {
            "color": "#2a3f5f"
           }
          },
          "ternary": {
           "aaxis": {
            "gridcolor": "white",
            "linecolor": "white",
            "ticks": ""
           },
           "baxis": {
            "gridcolor": "white",
            "linecolor": "white",
            "ticks": ""
           },
           "bgcolor": "#E5ECF6",
           "caxis": {
            "gridcolor": "white",
            "linecolor": "white",
            "ticks": ""
           }
          },
          "title": {
           "x": 0.05
          },
          "xaxis": {
           "automargin": true,
           "gridcolor": "white",
           "linecolor": "white",
           "ticks": "",
           "title": {
            "standoff": 15
           },
           "zerolinecolor": "white",
           "zerolinewidth": 2
          },
          "yaxis": {
           "automargin": true,
           "gridcolor": "white",
           "linecolor": "white",
           "ticks": "",
           "title": {
            "standoff": 15
           },
           "zerolinecolor": "white",
           "zerolinewidth": 2
          }
         }
        },
        "title": {
         "text": "Parking Count"
        },
        "width": 1080,
        "xaxis": {
         "anchor": "y",
         "domain": [
          0,
          1
         ],
         "title": {
          "text": "Number of Parkings"
         }
        },
        "yaxis": {
         "anchor": "x",
         "domain": [
          0,
          1
         ],
         "title": {
          "text": "count"
         }
        }
       }
      }
     },
     "metadata": {}
    }
   ],
   "source": [
    "#Parking slots counts\n",
    "fig = px.histogram(df3,x='Parking',\n",
    "                    title='Parking Count',\n",
    "                    color_discrete_sequence=['mediumaquamarine'],\n",
    "                    labels={'Parking':'Number of Parkings'})\n",
    "fig.update_layout(bargap=0.20,height=420,width=1080)\n",
    "fig.show()"
   ]
  },
  {
   "cell_type": "code",
   "execution_count": 28,
   "metadata": {},
   "outputs": [
    {
     "output_type": "display_data",
     "data": {
      "application/vnd.plotly.v1+json": {
       "config": {
        "plotlyServerURL": "https://plot.ly"
       },
       "data": [
        {
         "hovertemplate": "Number of Parkings=%{marker.color}<br>Price=%{y}<extra></extra>",
         "legendgroup": "",
         "marker": {
          "color": [
           2,
           1,
           1,
           2,
           2,
           2,
           2,
           1,
           1,
           1,
           2,
           2,
           2,
           2,
           1,
           1,
           5,
           1,
           1,
           1,
           1,
           1,
           1,
           1,
           1,
           1,
           1,
           1,
           1,
           1,
           1,
           1,
           1,
           1,
           1,
           1,
           1,
           1,
           1,
           1,
           1,
           2,
           1,
           1,
           1,
           1,
           1,
           5,
           2,
           2,
           2,
           2,
           2,
           1,
           1,
           3,
           3,
           1,
           1,
           3,
           2,
           2,
           2,
           2,
           2,
           2,
           3,
           2,
           3,
           2,
           2,
           2,
           1,
           1,
           39,
           1,
           2,
           1,
           39,
           39,
           39,
           1,
           1,
           1,
           1,
           2,
           1,
           1,
           2,
           1,
           1,
           2,
           1,
           10,
           2,
           1,
           1,
           1,
           1,
           1,
           1,
           1,
           1,
           1,
           1,
           2,
           2,
           1,
           1,
           1,
           1,
           1,
           2,
           1,
           2,
           2,
           1,
           1,
           2,
           2,
           2,
           1,
           1,
           2,
           1,
           2,
           2,
           1,
           1,
           2,
           2,
           2,
           2,
           2,
           3,
           2,
           2,
           3,
           1,
           1,
           2,
           1,
           1,
           1,
           1,
           1,
           1,
           1,
           1,
           1,
           1,
           1,
           1,
           1,
           1,
           1,
           1,
           1,
           1,
           1,
           1,
           1,
           1,
           1,
           1,
           1,
           1,
           1,
           2,
           1,
           3,
           3,
           2,
           2,
           1,
           1,
           2,
           2,
           2,
           2,
           1,
           2,
           2,
           2,
           2,
           1,
           1,
           2,
           1,
           1,
           1,
           1,
           2,
           1,
           1,
           4,
           2,
           2,
           2,
           2,
           1,
           1,
           1,
           1,
           1,
           1,
           1,
           1,
           1,
           2,
           1,
           1,
           1,
           1,
           1,
           2,
           1,
           1,
           2,
           1,
           1,
           2,
           1,
           1,
           1,
           1,
           1,
           1,
           2,
           1,
           1,
           1,
           1,
           1,
           1,
           1,
           1,
           1,
           1,
           1,
           1,
           1,
           1,
           3,
           1,
           4,
           2,
           1,
           1,
           1,
           1,
           1,
           1,
           1,
           1,
           1,
           2,
           2,
           1,
           2,
           1,
           1,
           3,
           2,
           1,
           2,
           1,
           1,
           1,
           1,
           1,
           1,
           1,
           2,
           5,
           1,
           1,
           1,
           1,
           1,
           1,
           1,
           3,
           3,
           39,
           1,
           1,
           1,
           1,
           2,
           2,
           1,
           1,
           2,
           2,
           2,
           2,
           2,
           2,
           3,
           1,
           2,
           2,
           2,
           1,
           1,
           1,
           1,
           1,
           2,
           1,
           2,
           3,
           2,
           2,
           1,
           1,
           1,
           1,
           1,
           2,
           1,
           2,
           1,
           1,
           2,
           1,
           2,
           2,
           2,
           1,
           1,
           1,
           3,
           3,
           2,
           2,
           1,
           1,
           1,
           1,
           3,
           3,
           2,
           3,
           2,
           2,
           1,
           1,
           1,
           1,
           2,
           1,
           4,
           2,
           2,
           3,
           2,
           1,
           1,
           1,
           1,
           1,
           1,
           1,
           1,
           1,
           1,
           1,
           1,
           1,
           1,
           1,
           1,
           1,
           1,
           1,
           1,
           1,
           4,
           3,
           2,
           2,
           1,
           2,
           1,
           3,
           2,
           1,
           2,
           3,
           3,
           2,
           1,
           1,
           1,
           1,
           2,
           3,
           2,
           2,
           1,
           2,
           2,
           2,
           1,
           1,
           2,
           2,
           1,
           2,
           1,
           1,
           1,
           2,
           1,
           1,
           1,
           1,
           2,
           1,
           2,
           2,
           1,
           2,
           2,
           2,
           2,
           2,
           1,
           1,
           1,
           2,
           2,
           1,
           1,
           1,
           2,
           1,
           1,
           1,
           1,
           1,
           1,
           1,
           1,
           1,
           2,
           2,
           1,
           2,
           1,
           1,
           1,
           1,
           1,
           1,
           1,
           1,
           2,
           1,
           1,
           1,
           1,
           1,
           1,
           1,
           1,
           1,
           1,
           1,
           1,
           1,
           1,
           1,
           1,
           1,
           3,
           5,
           2,
           1,
           1,
           1,
           1,
           1,
           1,
           1,
           2,
           1,
           2,
           1,
           1,
           1,
           1,
           1,
           1,
           1,
           1,
           1,
           1,
           1,
           1,
           1,
           1,
           1,
           1,
           1,
           1,
           1,
           1,
           1,
           2,
           2,
           2,
           2
          ],
          "coloraxis": "coloraxis",
          "symbol": "circle"
         },
         "mode": "markers",
         "name": "",
         "orientation": "v",
         "showlegend": false,
         "type": "scatter",
         "x": [
          2,
          1,
          1,
          2,
          2,
          2,
          2,
          1,
          1,
          1,
          2,
          2,
          2,
          2,
          1,
          1,
          5,
          1,
          1,
          1,
          1,
          1,
          1,
          1,
          1,
          1,
          1,
          1,
          1,
          1,
          1,
          1,
          1,
          1,
          1,
          1,
          1,
          1,
          1,
          1,
          1,
          2,
          1,
          1,
          1,
          1,
          1,
          5,
          2,
          2,
          2,
          2,
          2,
          1,
          1,
          3,
          3,
          1,
          1,
          3,
          2,
          2,
          2,
          2,
          2,
          2,
          3,
          2,
          3,
          2,
          2,
          2,
          1,
          1,
          39,
          1,
          2,
          1,
          39,
          39,
          39,
          1,
          1,
          1,
          1,
          2,
          1,
          1,
          2,
          1,
          1,
          2,
          1,
          10,
          2,
          1,
          1,
          1,
          1,
          1,
          1,
          1,
          1,
          1,
          1,
          2,
          2,
          1,
          1,
          1,
          1,
          1,
          2,
          1,
          2,
          2,
          1,
          1,
          2,
          2,
          2,
          1,
          1,
          2,
          1,
          2,
          2,
          1,
          1,
          2,
          2,
          2,
          2,
          2,
          3,
          2,
          2,
          3,
          1,
          1,
          2,
          1,
          1,
          1,
          1,
          1,
          1,
          1,
          1,
          1,
          1,
          1,
          1,
          1,
          1,
          1,
          1,
          1,
          1,
          1,
          1,
          1,
          1,
          1,
          1,
          1,
          1,
          1,
          2,
          1,
          3,
          3,
          2,
          2,
          1,
          1,
          2,
          2,
          2,
          2,
          1,
          2,
          2,
          2,
          2,
          1,
          1,
          2,
          1,
          1,
          1,
          1,
          2,
          1,
          1,
          4,
          2,
          2,
          2,
          2,
          1,
          1,
          1,
          1,
          1,
          1,
          1,
          1,
          1,
          2,
          1,
          1,
          1,
          1,
          1,
          2,
          1,
          1,
          2,
          1,
          1,
          2,
          1,
          1,
          1,
          1,
          1,
          1,
          2,
          1,
          1,
          1,
          1,
          1,
          1,
          1,
          1,
          1,
          1,
          1,
          1,
          1,
          1,
          3,
          1,
          4,
          2,
          1,
          1,
          1,
          1,
          1,
          1,
          1,
          1,
          1,
          2,
          2,
          1,
          2,
          1,
          1,
          3,
          2,
          1,
          2,
          1,
          1,
          1,
          1,
          1,
          1,
          1,
          2,
          5,
          1,
          1,
          1,
          1,
          1,
          1,
          1,
          3,
          3,
          39,
          1,
          1,
          1,
          1,
          2,
          2,
          1,
          1,
          2,
          2,
          2,
          2,
          2,
          2,
          3,
          1,
          2,
          2,
          2,
          1,
          1,
          1,
          1,
          1,
          2,
          1,
          2,
          3,
          2,
          2,
          1,
          1,
          1,
          1,
          1,
          2,
          1,
          2,
          1,
          1,
          2,
          1,
          2,
          2,
          2,
          1,
          1,
          1,
          3,
          3,
          2,
          2,
          1,
          1,
          1,
          1,
          3,
          3,
          2,
          3,
          2,
          2,
          1,
          1,
          1,
          1,
          2,
          1,
          4,
          2,
          2,
          3,
          2,
          1,
          1,
          1,
          1,
          1,
          1,
          1,
          1,
          1,
          1,
          1,
          1,
          1,
          1,
          1,
          1,
          1,
          1,
          1,
          1,
          1,
          4,
          3,
          2,
          2,
          1,
          2,
          1,
          3,
          2,
          1,
          2,
          3,
          3,
          2,
          1,
          1,
          1,
          1,
          2,
          3,
          2,
          2,
          1,
          2,
          2,
          2,
          1,
          1,
          2,
          2,
          1,
          2,
          1,
          1,
          1,
          2,
          1,
          1,
          1,
          1,
          2,
          1,
          2,
          2,
          1,
          2,
          2,
          2,
          2,
          2,
          1,
          1,
          1,
          2,
          2,
          1,
          1,
          1,
          2,
          1,
          1,
          1,
          1,
          1,
          1,
          1,
          1,
          1,
          2,
          2,
          1,
          2,
          1,
          1,
          1,
          1,
          1,
          1,
          1,
          1,
          2,
          1,
          1,
          1,
          1,
          1,
          1,
          1,
          1,
          1,
          1,
          1,
          1,
          1,
          1,
          1,
          1,
          1,
          3,
          5,
          2,
          1,
          1,
          1,
          1,
          1,
          1,
          1,
          2,
          1,
          2,
          1,
          1,
          1,
          1,
          1,
          1,
          1,
          1,
          1,
          1,
          1,
          1,
          1,
          1,
          1,
          1,
          1,
          1,
          1,
          1,
          1,
          2,
          2,
          2,
          2
         ],
         "xaxis": "x",
         "y": [
          4950000,
          3800000,
          19000000,
          15000000,
          17500000,
          14000000,
          15600000,
          19000000,
          19000000,
          19000000,
          15000000,
          17500000,
          14000000,
          15600000,
          19000000,
          19000000,
          7200000,
          8400000,
          2000000,
          3000000,
          4700000,
          1600000,
          5500000,
          5500000,
          1700000,
          15000000,
          3000000,
          2600000,
          1650000,
          2000000,
          2000000,
          3500000,
          6200000,
          3000000,
          4900000,
          3500000,
          3500000,
          4400000,
          3000000,
          4500000,
          6500000,
          33500000,
          14700000,
          18000000,
          22500000,
          22000000,
          22500000,
          35000000,
          40000000,
          11500000,
          22500000,
          28500000,
          29000000,
          15500000,
          16500000,
          12500000,
          17500000,
          18500000,
          14200000,
          42100000,
          44000000,
          34300000,
          37500000,
          37000000,
          36200000,
          42500000,
          58000000,
          39000000,
          35500000,
          52500000,
          40000000,
          32500000,
          17000000,
          17000000,
          3000000,
          3000000,
          12000000,
          31000000,
          2000000,
          2000000,
          1600000,
          1600000,
          1800000,
          16000000,
          20000000,
          25000000,
          25000000,
          19000000,
          16100000,
          6800000,
          7000000,
          6900000,
          3600000,
          9300000,
          3300000,
          4800000,
          7500000,
          2600000,
          6000000,
          6700000,
          7000000,
          5800000,
          7000000,
          3200000,
          3400000,
          38500000,
          37500000,
          25000000,
          6000000,
          2200000,
          5500000,
          3800000,
          67000000,
          62500000,
          65000000,
          57500000,
          24900000,
          24900000,
          24700000,
          24900000,
          25900000,
          24800000,
          24900000,
          24900000,
          6800000,
          51000000,
          51000000,
          2300000,
          42500000,
          43500000,
          60000000,
          70000000,
          45000000,
          47000000,
          70000000,
          71000000,
          85000000,
          100000000,
          65000000,
          56000000,
          100000000,
          1500000,
          1500000,
          5000000,
          5000000,
          4700000,
          5500000,
          7300000,
          13000000,
          11500000,
          2800000,
          2200000,
          4400000,
          13500000,
          4100000,
          12000000,
          3500000,
          5500000,
          10000000,
          4700000,
          2400000,
          3800000,
          10000000,
          5500000,
          7000000,
          6500000,
          5000000,
          5000000,
          47500000,
          40000000,
          26000000,
          35000000,
          47500000,
          43000000,
          26000000,
          25000000,
          51000000,
          40000000,
          45000000,
          51100000,
          25500000,
          26500000,
          55000000,
          26000000,
          38000000,
          14000000,
          9000000,
          15000000,
          10000000,
          14500000,
          6200000,
          12500000,
          10000000,
          15800000,
          14600000,
          12500000,
          14600000,
          22000000,
          13400000,
          12500000,
          14500000,
          22500000,
          15500000,
          15800000,
          15000000,
          13000000,
          15000000,
          25000000,
          16500000,
          30000000,
          31500000,
          40000000,
          24500000,
          24500000,
          32500000,
          26000000,
          21000000,
          27500000,
          32500000,
          21000000,
          28000000,
          29500000,
          5400000,
          4000000,
          3500000,
          7500000,
          7000000,
          4500000,
          5500000,
          6600000,
          3700000,
          5600000,
          7000000,
          3500000,
          6000000,
          6000000,
          7500000,
          4000000,
          3500000,
          5000000,
          5130000,
          5130000,
          5130000,
          160000000,
          85000000,
          170000000,
          120000000,
          3790000,
          4200000,
          2900000,
          3800000,
          5000000,
          3200000,
          3000000,
          4500000,
          2200000,
          8500000,
          11500000,
          12000000,
          10700000,
          9000000,
          17000000,
          13000000,
          8100000,
          10000000,
          20000000,
          9000000,
          7000000,
          11500000,
          2800000,
          4500000,
          1800000,
          1700000,
          5600000,
          6000000,
          4000000,
          1700000,
          6000000,
          2100000,
          1700000,
          3500000,
          3200000,
          2850000,
          2500000,
          3500000,
          2000000,
          1750000,
          1900000,
          2200000,
          20000000,
          20000000,
          9300000,
          26000000,
          60000000,
          65000000,
          75000000,
          56000000,
          60000000,
          58000000,
          70000000,
          60000000,
          70000000,
          75000000,
          55000000,
          3500000,
          8500000,
          6000000,
          5500000,
          8000000,
          25000000,
          23000000,
          17500000,
          19500000,
          14200000,
          13500000,
          16500000,
          16500000,
          5800000,
          6000000,
          3800000,
          5500000,
          8500000,
          13100000,
          12500000,
          27500000,
          7000000,
          37500000,
          26500000,
          16000000,
          27000000,
          15000000,
          8000000,
          9500000,
          7400000,
          15000000,
          10400000,
          8000000,
          5900000,
          12000000,
          12500000,
          28000000,
          42500000,
          43200000,
          52500000,
          42500000,
          36500000,
          37500000,
          27500000,
          26000000,
          23500000,
          29000000,
          24500000,
          28000000,
          35000000,
          80000000,
          65000000,
          75100000,
          29000000,
          6000000,
          6200000,
          6200000,
          6200000,
          15000000,
          15000000,
          6500000,
          6000000,
          7300000,
          7600000,
          10000000,
          6000000,
          13500000,
          12500000,
          13000000,
          13000000,
          7700000,
          7000000,
          6800000,
          24000000,
          45000000,
          37500000,
          55000000,
          87500000,
          65000000,
          38000000,
          22500000,
          72500000,
          82500000,
          55000000,
          35000000,
          52500000,
          80000000,
          74000000,
          29500000,
          25500000,
          47500000,
          28500000,
          45000000,
          30500000,
          22500000,
          25000000,
          33700000,
          27000000,
          43500000,
          30000000,
          52100000,
          32500000,
          25000000,
          30000000,
          51000000,
          31000000,
          37500000,
          8000000,
          2700000,
          5500000,
          4100000,
          3300000,
          1900000,
          2500000,
          15000000,
          19000000,
          18800000,
          16000000,
          20000000,
          13500000,
          17500000,
          19000000,
          15500000,
          13500000,
          21000000,
          20000000,
          41000000,
          11000000,
          11700000,
          13500000,
          16000000,
          30000000,
          41000000,
          12500000,
          14500000,
          27500000,
          5000000,
          4500000,
          4000000,
          6000000,
          4500000,
          2600000,
          2350000,
          25000000,
          25000000,
          25500000,
          25000000,
          18500000,
          39700000,
          22000000,
          25500000,
          17000000,
          27500000,
          25500000,
          20000000,
          24500000,
          20900000,
          43100000,
          93000000,
          93000000,
          93000000,
          4000000,
          3100000,
          2500000,
          2000000,
          2900000,
          3200000,
          1850000,
          2150000,
          1900000,
          2000000,
          15000000,
          15500000,
          16500000,
          22500000,
          20000000,
          15000000,
          29000000,
          29000000,
          12000000,
          7500000,
          12000000,
          22000000,
          22000000,
          22500000,
          11500000,
          6000000,
          2700000,
          6500000,
          4000000,
          3000000,
          5000000,
          6000000,
          2500000,
          6500000,
          8000000,
          2700000,
          4500000,
          5700000,
          25000000,
          26500000,
          18500000,
          30000000,
          22000000,
          22500000,
          8700000,
          22000000,
          18500000,
          16000000,
          16000000,
          9000000
         ],
         "yaxis": "y"
        }
       ],
       "layout": {
        "coloraxis": {
         "colorbar": {
          "title": {
           "text": "Number of Parkings"
          }
         },
         "colorscale": [
          [
           0,
           "#0d0887"
          ],
          [
           0.1111111111111111,
           "#46039f"
          ],
          [
           0.2222222222222222,
           "#7201a8"
          ],
          [
           0.3333333333333333,
           "#9c179e"
          ],
          [
           0.4444444444444444,
           "#bd3786"
          ],
          [
           0.5555555555555556,
           "#d8576b"
          ],
          [
           0.6666666666666666,
           "#ed7953"
          ],
          [
           0.7777777777777778,
           "#fb9f3a"
          ],
          [
           0.8888888888888888,
           "#fdca26"
          ],
          [
           1,
           "#f0f921"
          ]
         ]
        },
        "height": 520,
        "legend": {
         "tracegroupgap": 0
        },
        "template": {
         "data": {
          "bar": [
           {
            "error_x": {
             "color": "#2a3f5f"
            },
            "error_y": {
             "color": "#2a3f5f"
            },
            "marker": {
             "line": {
              "color": "#E5ECF6",
              "width": 0.5
             }
            },
            "type": "bar"
           }
          ],
          "barpolar": [
           {
            "marker": {
             "line": {
              "color": "#E5ECF6",
              "width": 0.5
             }
            },
            "type": "barpolar"
           }
          ],
          "carpet": [
           {
            "aaxis": {
             "endlinecolor": "#2a3f5f",
             "gridcolor": "white",
             "linecolor": "white",
             "minorgridcolor": "white",
             "startlinecolor": "#2a3f5f"
            },
            "baxis": {
             "endlinecolor": "#2a3f5f",
             "gridcolor": "white",
             "linecolor": "white",
             "minorgridcolor": "white",
             "startlinecolor": "#2a3f5f"
            },
            "type": "carpet"
           }
          ],
          "choropleth": [
           {
            "colorbar": {
             "outlinewidth": 0,
             "ticks": ""
            },
            "type": "choropleth"
           }
          ],
          "contour": [
           {
            "colorbar": {
             "outlinewidth": 0,
             "ticks": ""
            },
            "colorscale": [
             [
              0,
              "#0d0887"
             ],
             [
              0.1111111111111111,
              "#46039f"
             ],
             [
              0.2222222222222222,
              "#7201a8"
             ],
             [
              0.3333333333333333,
              "#9c179e"
             ],
             [
              0.4444444444444444,
              "#bd3786"
             ],
             [
              0.5555555555555556,
              "#d8576b"
             ],
             [
              0.6666666666666666,
              "#ed7953"
             ],
             [
              0.7777777777777778,
              "#fb9f3a"
             ],
             [
              0.8888888888888888,
              "#fdca26"
             ],
             [
              1,
              "#f0f921"
             ]
            ],
            "type": "contour"
           }
          ],
          "contourcarpet": [
           {
            "colorbar": {
             "outlinewidth": 0,
             "ticks": ""
            },
            "type": "contourcarpet"
           }
          ],
          "heatmap": [
           {
            "colorbar": {
             "outlinewidth": 0,
             "ticks": ""
            },
            "colorscale": [
             [
              0,
              "#0d0887"
             ],
             [
              0.1111111111111111,
              "#46039f"
             ],
             [
              0.2222222222222222,
              "#7201a8"
             ],
             [
              0.3333333333333333,
              "#9c179e"
             ],
             [
              0.4444444444444444,
              "#bd3786"
             ],
             [
              0.5555555555555556,
              "#d8576b"
             ],
             [
              0.6666666666666666,
              "#ed7953"
             ],
             [
              0.7777777777777778,
              "#fb9f3a"
             ],
             [
              0.8888888888888888,
              "#fdca26"
             ],
             [
              1,
              "#f0f921"
             ]
            ],
            "type": "heatmap"
           }
          ],
          "heatmapgl": [
           {
            "colorbar": {
             "outlinewidth": 0,
             "ticks": ""
            },
            "colorscale": [
             [
              0,
              "#0d0887"
             ],
             [
              0.1111111111111111,
              "#46039f"
             ],
             [
              0.2222222222222222,
              "#7201a8"
             ],
             [
              0.3333333333333333,
              "#9c179e"
             ],
             [
              0.4444444444444444,
              "#bd3786"
             ],
             [
              0.5555555555555556,
              "#d8576b"
             ],
             [
              0.6666666666666666,
              "#ed7953"
             ],
             [
              0.7777777777777778,
              "#fb9f3a"
             ],
             [
              0.8888888888888888,
              "#fdca26"
             ],
             [
              1,
              "#f0f921"
             ]
            ],
            "type": "heatmapgl"
           }
          ],
          "histogram": [
           {
            "marker": {
             "colorbar": {
              "outlinewidth": 0,
              "ticks": ""
             }
            },
            "type": "histogram"
           }
          ],
          "histogram2d": [
           {
            "colorbar": {
             "outlinewidth": 0,
             "ticks": ""
            },
            "colorscale": [
             [
              0,
              "#0d0887"
             ],
             [
              0.1111111111111111,
              "#46039f"
             ],
             [
              0.2222222222222222,
              "#7201a8"
             ],
             [
              0.3333333333333333,
              "#9c179e"
             ],
             [
              0.4444444444444444,
              "#bd3786"
             ],
             [
              0.5555555555555556,
              "#d8576b"
             ],
             [
              0.6666666666666666,
              "#ed7953"
             ],
             [
              0.7777777777777778,
              "#fb9f3a"
             ],
             [
              0.8888888888888888,
              "#fdca26"
             ],
             [
              1,
              "#f0f921"
             ]
            ],
            "type": "histogram2d"
           }
          ],
          "histogram2dcontour": [
           {
            "colorbar": {
             "outlinewidth": 0,
             "ticks": ""
            },
            "colorscale": [
             [
              0,
              "#0d0887"
             ],
             [
              0.1111111111111111,
              "#46039f"
             ],
             [
              0.2222222222222222,
              "#7201a8"
             ],
             [
              0.3333333333333333,
              "#9c179e"
             ],
             [
              0.4444444444444444,
              "#bd3786"
             ],
             [
              0.5555555555555556,
              "#d8576b"
             ],
             [
              0.6666666666666666,
              "#ed7953"
             ],
             [
              0.7777777777777778,
              "#fb9f3a"
             ],
             [
              0.8888888888888888,
              "#fdca26"
             ],
             [
              1,
              "#f0f921"
             ]
            ],
            "type": "histogram2dcontour"
           }
          ],
          "mesh3d": [
           {
            "colorbar": {
             "outlinewidth": 0,
             "ticks": ""
            },
            "type": "mesh3d"
           }
          ],
          "parcoords": [
           {
            "line": {
             "colorbar": {
              "outlinewidth": 0,
              "ticks": ""
             }
            },
            "type": "parcoords"
           }
          ],
          "pie": [
           {
            "automargin": true,
            "type": "pie"
           }
          ],
          "scatter": [
           {
            "marker": {
             "colorbar": {
              "outlinewidth": 0,
              "ticks": ""
             }
            },
            "type": "scatter"
           }
          ],
          "scatter3d": [
           {
            "line": {
             "colorbar": {
              "outlinewidth": 0,
              "ticks": ""
             }
            },
            "marker": {
             "colorbar": {
              "outlinewidth": 0,
              "ticks": ""
             }
            },
            "type": "scatter3d"
           }
          ],
          "scattercarpet": [
           {
            "marker": {
             "colorbar": {
              "outlinewidth": 0,
              "ticks": ""
             }
            },
            "type": "scattercarpet"
           }
          ],
          "scattergeo": [
           {
            "marker": {
             "colorbar": {
              "outlinewidth": 0,
              "ticks": ""
             }
            },
            "type": "scattergeo"
           }
          ],
          "scattergl": [
           {
            "marker": {
             "colorbar": {
              "outlinewidth": 0,
              "ticks": ""
             }
            },
            "type": "scattergl"
           }
          ],
          "scattermapbox": [
           {
            "marker": {
             "colorbar": {
              "outlinewidth": 0,
              "ticks": ""
             }
            },
            "type": "scattermapbox"
           }
          ],
          "scatterpolar": [
           {
            "marker": {
             "colorbar": {
              "outlinewidth": 0,
              "ticks": ""
             }
            },
            "type": "scatterpolar"
           }
          ],
          "scatterpolargl": [
           {
            "marker": {
             "colorbar": {
              "outlinewidth": 0,
              "ticks": ""
             }
            },
            "type": "scatterpolargl"
           }
          ],
          "scatterternary": [
           {
            "marker": {
             "colorbar": {
              "outlinewidth": 0,
              "ticks": ""
             }
            },
            "type": "scatterternary"
           }
          ],
          "surface": [
           {
            "colorbar": {
             "outlinewidth": 0,
             "ticks": ""
            },
            "colorscale": [
             [
              0,
              "#0d0887"
             ],
             [
              0.1111111111111111,
              "#46039f"
             ],
             [
              0.2222222222222222,
              "#7201a8"
             ],
             [
              0.3333333333333333,
              "#9c179e"
             ],
             [
              0.4444444444444444,
              "#bd3786"
             ],
             [
              0.5555555555555556,
              "#d8576b"
             ],
             [
              0.6666666666666666,
              "#ed7953"
             ],
             [
              0.7777777777777778,
              "#fb9f3a"
             ],
             [
              0.8888888888888888,
              "#fdca26"
             ],
             [
              1,
              "#f0f921"
             ]
            ],
            "type": "surface"
           }
          ],
          "table": [
           {
            "cells": {
             "fill": {
              "color": "#EBF0F8"
             },
             "line": {
              "color": "white"
             }
            },
            "header": {
             "fill": {
              "color": "#C8D4E3"
             },
             "line": {
              "color": "white"
             }
            },
            "type": "table"
           }
          ]
         },
         "layout": {
          "annotationdefaults": {
           "arrowcolor": "#2a3f5f",
           "arrowhead": 0,
           "arrowwidth": 1
          },
          "autotypenumbers": "strict",
          "coloraxis": {
           "colorbar": {
            "outlinewidth": 0,
            "ticks": ""
           }
          },
          "colorscale": {
           "diverging": [
            [
             0,
             "#8e0152"
            ],
            [
             0.1,
             "#c51b7d"
            ],
            [
             0.2,
             "#de77ae"
            ],
            [
             0.3,
             "#f1b6da"
            ],
            [
             0.4,
             "#fde0ef"
            ],
            [
             0.5,
             "#f7f7f7"
            ],
            [
             0.6,
             "#e6f5d0"
            ],
            [
             0.7,
             "#b8e186"
            ],
            [
             0.8,
             "#7fbc41"
            ],
            [
             0.9,
             "#4d9221"
            ],
            [
             1,
             "#276419"
            ]
           ],
           "sequential": [
            [
             0,
             "#0d0887"
            ],
            [
             0.1111111111111111,
             "#46039f"
            ],
            [
             0.2222222222222222,
             "#7201a8"
            ],
            [
             0.3333333333333333,
             "#9c179e"
            ],
            [
             0.4444444444444444,
             "#bd3786"
            ],
            [
             0.5555555555555556,
             "#d8576b"
            ],
            [
             0.6666666666666666,
             "#ed7953"
            ],
            [
             0.7777777777777778,
             "#fb9f3a"
            ],
            [
             0.8888888888888888,
             "#fdca26"
            ],
            [
             1,
             "#f0f921"
            ]
           ],
           "sequentialminus": [
            [
             0,
             "#0d0887"
            ],
            [
             0.1111111111111111,
             "#46039f"
            ],
            [
             0.2222222222222222,
             "#7201a8"
            ],
            [
             0.3333333333333333,
             "#9c179e"
            ],
            [
             0.4444444444444444,
             "#bd3786"
            ],
            [
             0.5555555555555556,
             "#d8576b"
            ],
            [
             0.6666666666666666,
             "#ed7953"
            ],
            [
             0.7777777777777778,
             "#fb9f3a"
            ],
            [
             0.8888888888888888,
             "#fdca26"
            ],
            [
             1,
             "#f0f921"
            ]
           ]
          },
          "colorway": [
           "#636efa",
           "#EF553B",
           "#00cc96",
           "#ab63fa",
           "#FFA15A",
           "#19d3f3",
           "#FF6692",
           "#B6E880",
           "#FF97FF",
           "#FECB52"
          ],
          "font": {
           "color": "#2a3f5f"
          },
          "geo": {
           "bgcolor": "white",
           "lakecolor": "white",
           "landcolor": "#E5ECF6",
           "showlakes": true,
           "showland": true,
           "subunitcolor": "white"
          },
          "hoverlabel": {
           "align": "left"
          },
          "hovermode": "closest",
          "mapbox": {
           "style": "light"
          },
          "paper_bgcolor": "white",
          "plot_bgcolor": "#E5ECF6",
          "polar": {
           "angularaxis": {
            "gridcolor": "white",
            "linecolor": "white",
            "ticks": ""
           },
           "bgcolor": "#E5ECF6",
           "radialaxis": {
            "gridcolor": "white",
            "linecolor": "white",
            "ticks": ""
           }
          },
          "scene": {
           "xaxis": {
            "backgroundcolor": "#E5ECF6",
            "gridcolor": "white",
            "gridwidth": 2,
            "linecolor": "white",
            "showbackground": true,
            "ticks": "",
            "zerolinecolor": "white"
           },
           "yaxis": {
            "backgroundcolor": "#E5ECF6",
            "gridcolor": "white",
            "gridwidth": 2,
            "linecolor": "white",
            "showbackground": true,
            "ticks": "",
            "zerolinecolor": "white"
           },
           "zaxis": {
            "backgroundcolor": "#E5ECF6",
            "gridcolor": "white",
            "gridwidth": 2,
            "linecolor": "white",
            "showbackground": true,
            "ticks": "",
            "zerolinecolor": "white"
           }
          },
          "shapedefaults": {
           "line": {
            "color": "#2a3f5f"
           }
          },
          "ternary": {
           "aaxis": {
            "gridcolor": "white",
            "linecolor": "white",
            "ticks": ""
           },
           "baxis": {
            "gridcolor": "white",
            "linecolor": "white",
            "ticks": ""
           },
           "bgcolor": "#E5ECF6",
           "caxis": {
            "gridcolor": "white",
            "linecolor": "white",
            "ticks": ""
           }
          },
          "title": {
           "x": 0.05
          },
          "xaxis": {
           "automargin": true,
           "gridcolor": "white",
           "linecolor": "white",
           "ticks": "",
           "title": {
            "standoff": 15
           },
           "zerolinecolor": "white",
           "zerolinewidth": 2
          },
          "yaxis": {
           "automargin": true,
           "gridcolor": "white",
           "linecolor": "white",
           "ticks": "",
           "title": {
            "standoff": 15
           },
           "zerolinecolor": "white",
           "zerolinewidth": 2
          }
         }
        },
        "title": {
         "text": "Price distribution by Number of Parkings"
        },
        "width": 1080,
        "xaxis": {
         "anchor": "y",
         "domain": [
          0,
          1
         ],
         "title": {
          "text": "Number of Parkings"
         }
        },
        "yaxis": {
         "anchor": "x",
         "domain": [
          0,
          1
         ],
         "title": {
          "text": "Price"
         }
        }
       }
      }
     },
     "metadata": {}
    }
   ],
   "source": [
    "#Parking numbers vs price\n",
    "fig = px.scatter(df3,x='Parking',y='Price',\n",
    "                title='Price distribution by Number of Parkings',\n",
    "                labels={'Parking':'Number of Parkings'},\n",
    "                color='Parking')\n",
    "fig.update_layout(height=520,width=1080)\n",
    "fig.show()"
   ]
  },
  {
   "source": [
    "## Finding and Removing outliers by business understandings"
   ],
   "cell_type": "markdown",
   "metadata": {}
  },
  {
   "cell_type": "code",
   "execution_count": 32,
   "metadata": {},
   "outputs": [
    {
     "output_type": "display_data",
     "data": {
      "application/vnd.plotly.v1+json": {
       "config": {
        "plotlyServerURL": "https://plot.ly"
       },
       "data": [
        {
         "mode": "markers",
         "name": "2 BHK",
         "type": "scatter",
         "x": [
          1100,
          1200,
          1400,
          1100,
          1200,
          1400
         ],
         "y": [
          15000000,
          17500000,
          14000000,
          15000000,
          17500000,
          14000000
         ]
        },
        {
         "mode": "markers",
         "name": "3 BHK",
         "type": "scatter",
         "x": [
          1400,
          1320,
          1440,
          1400,
          1400,
          1320,
          1440,
          1400
         ],
         "y": [
          19000000,
          15600000,
          19000000,
          19000000,
          19000000,
          15600000,
          19000000,
          19000000
         ]
        }
       ],
       "layout": {
        "height": 420,
        "template": {
         "data": {
          "bar": [
           {
            "error_x": {
             "color": "#2a3f5f"
            },
            "error_y": {
             "color": "#2a3f5f"
            },
            "marker": {
             "line": {
              "color": "#E5ECF6",
              "width": 0.5
             }
            },
            "type": "bar"
           }
          ],
          "barpolar": [
           {
            "marker": {
             "line": {
              "color": "#E5ECF6",
              "width": 0.5
             }
            },
            "type": "barpolar"
           }
          ],
          "carpet": [
           {
            "aaxis": {
             "endlinecolor": "#2a3f5f",
             "gridcolor": "white",
             "linecolor": "white",
             "minorgridcolor": "white",
             "startlinecolor": "#2a3f5f"
            },
            "baxis": {
             "endlinecolor": "#2a3f5f",
             "gridcolor": "white",
             "linecolor": "white",
             "minorgridcolor": "white",
             "startlinecolor": "#2a3f5f"
            },
            "type": "carpet"
           }
          ],
          "choropleth": [
           {
            "colorbar": {
             "outlinewidth": 0,
             "ticks": ""
            },
            "type": "choropleth"
           }
          ],
          "contour": [
           {
            "colorbar": {
             "outlinewidth": 0,
             "ticks": ""
            },
            "colorscale": [
             [
              0,
              "#0d0887"
             ],
             [
              0.1111111111111111,
              "#46039f"
             ],
             [
              0.2222222222222222,
              "#7201a8"
             ],
             [
              0.3333333333333333,
              "#9c179e"
             ],
             [
              0.4444444444444444,
              "#bd3786"
             ],
             [
              0.5555555555555556,
              "#d8576b"
             ],
             [
              0.6666666666666666,
              "#ed7953"
             ],
             [
              0.7777777777777778,
              "#fb9f3a"
             ],
             [
              0.8888888888888888,
              "#fdca26"
             ],
             [
              1,
              "#f0f921"
             ]
            ],
            "type": "contour"
           }
          ],
          "contourcarpet": [
           {
            "colorbar": {
             "outlinewidth": 0,
             "ticks": ""
            },
            "type": "contourcarpet"
           }
          ],
          "heatmap": [
           {
            "colorbar": {
             "outlinewidth": 0,
             "ticks": ""
            },
            "colorscale": [
             [
              0,
              "#0d0887"
             ],
             [
              0.1111111111111111,
              "#46039f"
             ],
             [
              0.2222222222222222,
              "#7201a8"
             ],
             [
              0.3333333333333333,
              "#9c179e"
             ],
             [
              0.4444444444444444,
              "#bd3786"
             ],
             [
              0.5555555555555556,
              "#d8576b"
             ],
             [
              0.6666666666666666,
              "#ed7953"
             ],
             [
              0.7777777777777778,
              "#fb9f3a"
             ],
             [
              0.8888888888888888,
              "#fdca26"
             ],
             [
              1,
              "#f0f921"
             ]
            ],
            "type": "heatmap"
           }
          ],
          "heatmapgl": [
           {
            "colorbar": {
             "outlinewidth": 0,
             "ticks": ""
            },
            "colorscale": [
             [
              0,
              "#0d0887"
             ],
             [
              0.1111111111111111,
              "#46039f"
             ],
             [
              0.2222222222222222,
              "#7201a8"
             ],
             [
              0.3333333333333333,
              "#9c179e"
             ],
             [
              0.4444444444444444,
              "#bd3786"
             ],
             [
              0.5555555555555556,
              "#d8576b"
             ],
             [
              0.6666666666666666,
              "#ed7953"
             ],
             [
              0.7777777777777778,
              "#fb9f3a"
             ],
             [
              0.8888888888888888,
              "#fdca26"
             ],
             [
              1,
              "#f0f921"
             ]
            ],
            "type": "heatmapgl"
           }
          ],
          "histogram": [
           {
            "marker": {
             "colorbar": {
              "outlinewidth": 0,
              "ticks": ""
             }
            },
            "type": "histogram"
           }
          ],
          "histogram2d": [
           {
            "colorbar": {
             "outlinewidth": 0,
             "ticks": ""
            },
            "colorscale": [
             [
              0,
              "#0d0887"
             ],
             [
              0.1111111111111111,
              "#46039f"
             ],
             [
              0.2222222222222222,
              "#7201a8"
             ],
             [
              0.3333333333333333,
              "#9c179e"
             ],
             [
              0.4444444444444444,
              "#bd3786"
             ],
             [
              0.5555555555555556,
              "#d8576b"
             ],
             [
              0.6666666666666666,
              "#ed7953"
             ],
             [
              0.7777777777777778,
              "#fb9f3a"
             ],
             [
              0.8888888888888888,
              "#fdca26"
             ],
             [
              1,
              "#f0f921"
             ]
            ],
            "type": "histogram2d"
           }
          ],
          "histogram2dcontour": [
           {
            "colorbar": {
             "outlinewidth": 0,
             "ticks": ""
            },
            "colorscale": [
             [
              0,
              "#0d0887"
             ],
             [
              0.1111111111111111,
              "#46039f"
             ],
             [
              0.2222222222222222,
              "#7201a8"
             ],
             [
              0.3333333333333333,
              "#9c179e"
             ],
             [
              0.4444444444444444,
              "#bd3786"
             ],
             [
              0.5555555555555556,
              "#d8576b"
             ],
             [
              0.6666666666666666,
              "#ed7953"
             ],
             [
              0.7777777777777778,
              "#fb9f3a"
             ],
             [
              0.8888888888888888,
              "#fdca26"
             ],
             [
              1,
              "#f0f921"
             ]
            ],
            "type": "histogram2dcontour"
           }
          ],
          "mesh3d": [
           {
            "colorbar": {
             "outlinewidth": 0,
             "ticks": ""
            },
            "type": "mesh3d"
           }
          ],
          "parcoords": [
           {
            "line": {
             "colorbar": {
              "outlinewidth": 0,
              "ticks": ""
             }
            },
            "type": "parcoords"
           }
          ],
          "pie": [
           {
            "automargin": true,
            "type": "pie"
           }
          ],
          "scatter": [
           {
            "marker": {
             "colorbar": {
              "outlinewidth": 0,
              "ticks": ""
             }
            },
            "type": "scatter"
           }
          ],
          "scatter3d": [
           {
            "line": {
             "colorbar": {
              "outlinewidth": 0,
              "ticks": ""
             }
            },
            "marker": {
             "colorbar": {
              "outlinewidth": 0,
              "ticks": ""
             }
            },
            "type": "scatter3d"
           }
          ],
          "scattercarpet": [
           {
            "marker": {
             "colorbar": {
              "outlinewidth": 0,
              "ticks": ""
             }
            },
            "type": "scattercarpet"
           }
          ],
          "scattergeo": [
           {
            "marker": {
             "colorbar": {
              "outlinewidth": 0,
              "ticks": ""
             }
            },
            "type": "scattergeo"
           }
          ],
          "scattergl": [
           {
            "marker": {
             "colorbar": {
              "outlinewidth": 0,
              "ticks": ""
             }
            },
            "type": "scattergl"
           }
          ],
          "scattermapbox": [
           {
            "marker": {
             "colorbar": {
              "outlinewidth": 0,
              "ticks": ""
             }
            },
            "type": "scattermapbox"
           }
          ],
          "scatterpolar": [
           {
            "marker": {
             "colorbar": {
              "outlinewidth": 0,
              "ticks": ""
             }
            },
            "type": "scatterpolar"
           }
          ],
          "scatterpolargl": [
           {
            "marker": {
             "colorbar": {
              "outlinewidth": 0,
              "ticks": ""
             }
            },
            "type": "scatterpolargl"
           }
          ],
          "scatterternary": [
           {
            "marker": {
             "colorbar": {
              "outlinewidth": 0,
              "ticks": ""
             }
            },
            "type": "scatterternary"
           }
          ],
          "surface": [
           {
            "colorbar": {
             "outlinewidth": 0,
             "ticks": ""
            },
            "colorscale": [
             [
              0,
              "#0d0887"
             ],
             [
              0.1111111111111111,
              "#46039f"
             ],
             [
              0.2222222222222222,
              "#7201a8"
             ],
             [
              0.3333333333333333,
              "#9c179e"
             ],
             [
              0.4444444444444444,
              "#bd3786"
             ],
             [
              0.5555555555555556,
              "#d8576b"
             ],
             [
              0.6666666666666666,
              "#ed7953"
             ],
             [
              0.7777777777777778,
              "#fb9f3a"
             ],
             [
              0.8888888888888888,
              "#fdca26"
             ],
             [
              1,
              "#f0f921"
             ]
            ],
            "type": "surface"
           }
          ],
          "table": [
           {
            "cells": {
             "fill": {
              "color": "#EBF0F8"
             },
             "line": {
              "color": "white"
             }
            },
            "header": {
             "fill": {
              "color": "#C8D4E3"
             },
             "line": {
              "color": "white"
             }
            },
            "type": "table"
           }
          ]
         },
         "layout": {
          "annotationdefaults": {
           "arrowcolor": "#2a3f5f",
           "arrowhead": 0,
           "arrowwidth": 1
          },
          "autotypenumbers": "strict",
          "coloraxis": {
           "colorbar": {
            "outlinewidth": 0,
            "ticks": ""
           }
          },
          "colorscale": {
           "diverging": [
            [
             0,
             "#8e0152"
            ],
            [
             0.1,
             "#c51b7d"
            ],
            [
             0.2,
             "#de77ae"
            ],
            [
             0.3,
             "#f1b6da"
            ],
            [
             0.4,
             "#fde0ef"
            ],
            [
             0.5,
             "#f7f7f7"
            ],
            [
             0.6,
             "#e6f5d0"
            ],
            [
             0.7,
             "#b8e186"
            ],
            [
             0.8,
             "#7fbc41"
            ],
            [
             0.9,
             "#4d9221"
            ],
            [
             1,
             "#276419"
            ]
           ],
           "sequential": [
            [
             0,
             "#0d0887"
            ],
            [
             0.1111111111111111,
             "#46039f"
            ],
            [
             0.2222222222222222,
             "#7201a8"
            ],
            [
             0.3333333333333333,
             "#9c179e"
            ],
            [
             0.4444444444444444,
             "#bd3786"
            ],
            [
             0.5555555555555556,
             "#d8576b"
            ],
            [
             0.6666666666666666,
             "#ed7953"
            ],
            [
             0.7777777777777778,
             "#fb9f3a"
            ],
            [
             0.8888888888888888,
             "#fdca26"
            ],
            [
             1,
             "#f0f921"
            ]
           ],
           "sequentialminus": [
            [
             0,
             "#0d0887"
            ],
            [
             0.1111111111111111,
             "#46039f"
            ],
            [
             0.2222222222222222,
             "#7201a8"
            ],
            [
             0.3333333333333333,
             "#9c179e"
            ],
            [
             0.4444444444444444,
             "#bd3786"
            ],
            [
             0.5555555555555556,
             "#d8576b"
            ],
            [
             0.6666666666666666,
             "#ed7953"
            ],
            [
             0.7777777777777778,
             "#fb9f3a"
            ],
            [
             0.8888888888888888,
             "#fdca26"
            ],
            [
             1,
             "#f0f921"
            ]
           ]
          },
          "colorway": [
           "#636efa",
           "#EF553B",
           "#00cc96",
           "#ab63fa",
           "#FFA15A",
           "#19d3f3",
           "#FF6692",
           "#B6E880",
           "#FF97FF",
           "#FECB52"
          ],
          "font": {
           "color": "#2a3f5f"
          },
          "geo": {
           "bgcolor": "white",
           "lakecolor": "white",
           "landcolor": "#E5ECF6",
           "showlakes": true,
           "showland": true,
           "subunitcolor": "white"
          },
          "hoverlabel": {
           "align": "left"
          },
          "hovermode": "closest",
          "mapbox": {
           "style": "light"
          },
          "paper_bgcolor": "white",
          "plot_bgcolor": "#E5ECF6",
          "polar": {
           "angularaxis": {
            "gridcolor": "white",
            "linecolor": "white",
            "ticks": ""
           },
           "bgcolor": "#E5ECF6",
           "radialaxis": {
            "gridcolor": "white",
            "linecolor": "white",
            "ticks": ""
           }
          },
          "scene": {
           "xaxis": {
            "backgroundcolor": "#E5ECF6",
            "gridcolor": "white",
            "gridwidth": 2,
            "linecolor": "white",
            "showbackground": true,
            "ticks": "",
            "zerolinecolor": "white"
           },
           "yaxis": {
            "backgroundcolor": "#E5ECF6",
            "gridcolor": "white",
            "gridwidth": 2,
            "linecolor": "white",
            "showbackground": true,
            "ticks": "",
            "zerolinecolor": "white"
           },
           "zaxis": {
            "backgroundcolor": "#E5ECF6",
            "gridcolor": "white",
            "gridwidth": 2,
            "linecolor": "white",
            "showbackground": true,
            "ticks": "",
            "zerolinecolor": "white"
           }
          },
          "shapedefaults": {
           "line": {
            "color": "#2a3f5f"
           }
          },
          "ternary": {
           "aaxis": {
            "gridcolor": "white",
            "linecolor": "white",
            "ticks": ""
           },
           "baxis": {
            "gridcolor": "white",
            "linecolor": "white",
            "ticks": ""
           },
           "bgcolor": "#E5ECF6",
           "caxis": {
            "gridcolor": "white",
            "linecolor": "white",
            "ticks": ""
           }
          },
          "title": {
           "x": 0.05
          },
          "xaxis": {
           "automargin": true,
           "gridcolor": "white",
           "linecolor": "white",
           "ticks": "",
           "title": {
            "standoff": 15
           },
           "zerolinecolor": "white",
           "zerolinewidth": 2
          },
          "yaxis": {
           "automargin": true,
           "gridcolor": "white",
           "linecolor": "white",
           "ticks": "",
           "title": {
            "standoff": 15
           },
           "zerolinecolor": "white",
           "zerolinewidth": 2
          }
         }
        },
        "title": {
         "text": "2BHK vs 3BHK Price"
        },
        "width": 680,
        "xaxis": {
         "title": {
          "text": "Area in Sqft"
         }
        },
        "yaxis": {
         "title": {
          "text": "Price"
         }
        }
       }
      }
     },
     "metadata": {}
    }
   ],
   "source": [
    "#Checking for weather house price of 2BHK > 3BHK: Locality wise\n",
    "def plot_scatter(df3,Locality):\n",
    "    bhk2 = df3[(df3.Locality == Locality) &(df3.BHK ==2)]\n",
    "    bhk3 = df3[(df3.Locality == Locality) &(df3.BHK ==3)]\n",
    "    fig = go.Figure() \n",
    "    fig.add_trace(go.Scatter(x=bhk2.Area,y=bhk2.Price,\n",
    "                    mode='markers',\n",
    "                    name='2 BHK'))\n",
    "    fig.add_trace(go.Scatter(x=bhk3.Area,y=bhk3.Price,\n",
    "                    mode='markers',\n",
    "                    name='3 BHK'))\n",
    "    fig.update_layout(title='2BHK vs 3BHK Price', xaxis_title='Area in Sqft', yaxis_title='Price',height=420,width=680)\n",
    "    fig.show()\n",
    "\n",
    "plot_scatter(df3,'Alaknanda')"
   ]
  },
  {
   "cell_type": "code",
   "execution_count": 33,
   "metadata": {},
   "outputs": [],
   "source": [
    "# Droping the data where Number of Bathrooms are greater than Number of BHK's (bhk+2)\n",
    "df3.drop(df3[df3.BHK+2 < df3.Bathroom].index, inplace= True)"
   ]
  },
  {
   "cell_type": "code",
   "execution_count": 34,
   "metadata": {},
   "outputs": [],
   "source": [
    "# As we know, generally no house can be made in an area < 100 sqft \n",
    "df3.drop(df3[df3['Area'] < 100].index,inplace=True)"
   ]
  },
  {
   "cell_type": "code",
   "execution_count": 35,
   "metadata": {},
   "outputs": [],
   "source": [
    "# Area requried for 2bhk or more than that must be > 300sqft \n",
    "df3.drop(df3[(df3['Area'] < 300) & (df3['BHK'] >=2)].index, inplace=True)"
   ]
  },
  {
   "cell_type": "code",
   "execution_count": 36,
   "metadata": {},
   "outputs": [
    {
     "output_type": "execute_result",
     "data": {
      "text/plain": [
       "(499, 10)"
      ]
     },
     "metadata": {},
     "execution_count": 36
    }
   ],
   "source": [
    "df3.shape"
   ]
  },
  {
   "cell_type": "code",
   "execution_count": 37,
   "metadata": {},
   "outputs": [
    {
     "output_type": "stream",
     "name": "stderr",
     "text": [
      "<ipython-input-37-6360598c26cc>:1: FutureWarning:\n\nThe pandas.datetime class is deprecated and will be removed from pandas in a future version. Import from datetime module instead.\n\n"
     ]
    }
   ],
   "source": [
    "writer = pd.ExcelWriter('Cleaned data_Delhi_hp_{}.xlsx'.format(pd.datetime.today().strftime('%d%m%y- %H-%M'))) \n",
    "df3.to_excel(writer,'Sheet1')\n",
    "writer.save()"
   ]
  },
  {
   "source": [
    "# Model Building for price predictions"
   ],
   "cell_type": "markdown",
   "metadata": {}
  },
  {
   "cell_type": "code",
   "execution_count": 38,
   "metadata": {},
   "outputs": [],
   "source": [
    "df_final = pd.read_excel('Cleaned data_Delhi_hp_270521- 23-38.xlsx', index_col=0)"
   ]
  },
  {
   "cell_type": "code",
   "execution_count": 39,
   "metadata": {},
   "outputs": [
    {
     "output_type": "execute_result",
     "data": {
      "text/plain": [
       "(499, 10)"
      ]
     },
     "metadata": {},
     "execution_count": 39
    }
   ],
   "source": [
    "df_final.shape"
   ]
  },
  {
   "cell_type": "code",
   "execution_count": 40,
   "metadata": {},
   "outputs": [
    {
     "output_type": "execute_result",
     "data": {
      "text/plain": [
       "     Area  BHK  Bathroom      Furnishing                           Locality  \\\n",
       "1   750.0    2         2  Semi-Furnished  Abul Fazal Enclave Part-II, Okhla   \n",
       "2  1400.0    3         2     Unfurnished                          Alaknanda   \n",
       "3  1100.0    2         2     Unfurnished                          Alaknanda   \n",
       "4  1200.0    2         2  Semi-Furnished                          Alaknanda   \n",
       "5  1400.0    2         2  Semi-Furnished                          Alaknanda   \n",
       "\n",
       "   Parking         Status Transaction           Type     Price  \n",
       "1        1  Ready_to_move      Resale  Builder_Floor   3800000  \n",
       "2        1  Ready_to_move      Resale      Apartment  19000000  \n",
       "3        2  Ready_to_move      Resale      Apartment  15000000  \n",
       "4        2  Ready_to_move      Resale      Apartment  17500000  \n",
       "5        2  Ready_to_move      Resale      Apartment  14000000  "
      ],
      "text/html": "<div>\n<style scoped>\n    .dataframe tbody tr th:only-of-type {\n        vertical-align: middle;\n    }\n\n    .dataframe tbody tr th {\n        vertical-align: top;\n    }\n\n    .dataframe thead th {\n        text-align: right;\n    }\n</style>\n<table border=\"1\" class=\"dataframe\">\n  <thead>\n    <tr style=\"text-align: right;\">\n      <th></th>\n      <th>Area</th>\n      <th>BHK</th>\n      <th>Bathroom</th>\n      <th>Furnishing</th>\n      <th>Locality</th>\n      <th>Parking</th>\n      <th>Status</th>\n      <th>Transaction</th>\n      <th>Type</th>\n      <th>Price</th>\n    </tr>\n  </thead>\n  <tbody>\n    <tr>\n      <th>1</th>\n      <td>750.0</td>\n      <td>2</td>\n      <td>2</td>\n      <td>Semi-Furnished</td>\n      <td>Abul Fazal Enclave Part-II, Okhla</td>\n      <td>1</td>\n      <td>Ready_to_move</td>\n      <td>Resale</td>\n      <td>Builder_Floor</td>\n      <td>3800000</td>\n    </tr>\n    <tr>\n      <th>2</th>\n      <td>1400.0</td>\n      <td>3</td>\n      <td>2</td>\n      <td>Unfurnished</td>\n      <td>Alaknanda</td>\n      <td>1</td>\n      <td>Ready_to_move</td>\n      <td>Resale</td>\n      <td>Apartment</td>\n      <td>19000000</td>\n    </tr>\n    <tr>\n      <th>3</th>\n      <td>1100.0</td>\n      <td>2</td>\n      <td>2</td>\n      <td>Unfurnished</td>\n      <td>Alaknanda</td>\n      <td>2</td>\n      <td>Ready_to_move</td>\n      <td>Resale</td>\n      <td>Apartment</td>\n      <td>15000000</td>\n    </tr>\n    <tr>\n      <th>4</th>\n      <td>1200.0</td>\n      <td>2</td>\n      <td>2</td>\n      <td>Semi-Furnished</td>\n      <td>Alaknanda</td>\n      <td>2</td>\n      <td>Ready_to_move</td>\n      <td>Resale</td>\n      <td>Apartment</td>\n      <td>17500000</td>\n    </tr>\n    <tr>\n      <th>5</th>\n      <td>1400.0</td>\n      <td>2</td>\n      <td>2</td>\n      <td>Semi-Furnished</td>\n      <td>Alaknanda</td>\n      <td>2</td>\n      <td>Ready_to_move</td>\n      <td>Resale</td>\n      <td>Apartment</td>\n      <td>14000000</td>\n    </tr>\n  </tbody>\n</table>\n</div>"
     },
     "metadata": {},
     "execution_count": 40
    }
   ],
   "source": [
    "df_final.head(5)"
   ]
  },
  {
   "cell_type": "code",
   "execution_count": 41,
   "metadata": {},
   "outputs": [],
   "source": [
    "# Due to more number of Localities i am making a general locality called OTHER (for localities occuring 1 times in data)\n",
    "df_loc = df_final.Locality.value_counts()\n",
    "loc_lessthan2 = df_loc[df_loc==1]\n",
    "df_final.Locality = df_final.Locality.apply(lambda x: 'other' if x in loc_lessthan2 else x)\n"
   ]
  },
  {
   "cell_type": "code",
   "execution_count": 42,
   "metadata": {},
   "outputs": [
    {
     "output_type": "execute_result",
     "data": {
      "text/plain": [
       "     Area  BHK  Bathroom      Furnishing   Locality  Parking         Status  \\\n",
       "1   750.0    2         2  Semi-Furnished      other        1  Ready_to_move   \n",
       "2  1400.0    3         2     Unfurnished  Alaknanda        1  Ready_to_move   \n",
       "3  1100.0    2         2     Unfurnished  Alaknanda        2  Ready_to_move   \n",
       "4  1200.0    2         2  Semi-Furnished  Alaknanda        2  Ready_to_move   \n",
       "5  1400.0    2         2  Semi-Furnished  Alaknanda        2  Ready_to_move   \n",
       "\n",
       "  Transaction           Type     Price  \n",
       "1      Resale  Builder_Floor   3800000  \n",
       "2      Resale      Apartment  19000000  \n",
       "3      Resale      Apartment  15000000  \n",
       "4      Resale      Apartment  17500000  \n",
       "5      Resale      Apartment  14000000  "
      ],
      "text/html": "<div>\n<style scoped>\n    .dataframe tbody tr th:only-of-type {\n        vertical-align: middle;\n    }\n\n    .dataframe tbody tr th {\n        vertical-align: top;\n    }\n\n    .dataframe thead th {\n        text-align: right;\n    }\n</style>\n<table border=\"1\" class=\"dataframe\">\n  <thead>\n    <tr style=\"text-align: right;\">\n      <th></th>\n      <th>Area</th>\n      <th>BHK</th>\n      <th>Bathroom</th>\n      <th>Furnishing</th>\n      <th>Locality</th>\n      <th>Parking</th>\n      <th>Status</th>\n      <th>Transaction</th>\n      <th>Type</th>\n      <th>Price</th>\n    </tr>\n  </thead>\n  <tbody>\n    <tr>\n      <th>1</th>\n      <td>750.0</td>\n      <td>2</td>\n      <td>2</td>\n      <td>Semi-Furnished</td>\n      <td>other</td>\n      <td>1</td>\n      <td>Ready_to_move</td>\n      <td>Resale</td>\n      <td>Builder_Floor</td>\n      <td>3800000</td>\n    </tr>\n    <tr>\n      <th>2</th>\n      <td>1400.0</td>\n      <td>3</td>\n      <td>2</td>\n      <td>Unfurnished</td>\n      <td>Alaknanda</td>\n      <td>1</td>\n      <td>Ready_to_move</td>\n      <td>Resale</td>\n      <td>Apartment</td>\n      <td>19000000</td>\n    </tr>\n    <tr>\n      <th>3</th>\n      <td>1100.0</td>\n      <td>2</td>\n      <td>2</td>\n      <td>Unfurnished</td>\n      <td>Alaknanda</td>\n      <td>2</td>\n      <td>Ready_to_move</td>\n      <td>Resale</td>\n      <td>Apartment</td>\n      <td>15000000</td>\n    </tr>\n    <tr>\n      <th>4</th>\n      <td>1200.0</td>\n      <td>2</td>\n      <td>2</td>\n      <td>Semi-Furnished</td>\n      <td>Alaknanda</td>\n      <td>2</td>\n      <td>Ready_to_move</td>\n      <td>Resale</td>\n      <td>Apartment</td>\n      <td>17500000</td>\n    </tr>\n    <tr>\n      <th>5</th>\n      <td>1400.0</td>\n      <td>2</td>\n      <td>2</td>\n      <td>Semi-Furnished</td>\n      <td>Alaknanda</td>\n      <td>2</td>\n      <td>Ready_to_move</td>\n      <td>Resale</td>\n      <td>Apartment</td>\n      <td>14000000</td>\n    </tr>\n  </tbody>\n</table>\n</div>"
     },
     "metadata": {},
     "execution_count": 42
    }
   ],
   "source": [
    "df_final.head()"
   ]
  },
  {
   "source": [
    "### Using One Hot Enchoding for handeling the 'text dtype' Columnes\n"
   ],
   "cell_type": "markdown",
   "metadata": {}
  },
  {
   "cell_type": "code",
   "execution_count": 43,
   "metadata": {},
   "outputs": [],
   "source": [
    "#one hot enchoding for Locality column\n",
    "dummies_df1 =  pd.get_dummies(df_final.Locality)\n",
    "df_final1 = pd.concat([df_final,dummies_df1],axis='columns')\n"
   ]
  },
  {
   "cell_type": "code",
   "execution_count": 44,
   "metadata": {},
   "outputs": [],
   "source": [
    "#one hot enchoding for Furnishing column\n",
    "dummies_df2 =  pd.get_dummies(df_final.Furnishing)\n",
    "df_final1 = pd.concat([df_final1,dummies_df2],axis='columns')"
   ]
  },
  {
   "cell_type": "code",
   "execution_count": 45,
   "metadata": {},
   "outputs": [],
   "source": [
    "#one hot enchoding for Status column\n",
    "dummies_df3 =  pd.get_dummies(df_final.Status)\n",
    "df_final1 = pd.concat([df_final1,dummies_df3],axis='columns')"
   ]
  },
  {
   "cell_type": "code",
   "execution_count": 46,
   "metadata": {},
   "outputs": [],
   "source": [
    "#one hot enchoding for Transaction column\n",
    "dummies_df4 =  pd.get_dummies(df_final.Transaction)\n",
    "df_final1 = pd.concat([df_final1,dummies_df4],axis='columns')"
   ]
  },
  {
   "cell_type": "code",
   "execution_count": 47,
   "metadata": {},
   "outputs": [],
   "source": [
    "#one hot enchoding for Type column\n",
    "dummies_df5 =  pd.get_dummies(df_final.Type)\n",
    "df_final1 = pd.concat([df_final1,dummies_df5],axis='columns')"
   ]
  },
  {
   "cell_type": "code",
   "execution_count": 48,
   "metadata": {},
   "outputs": [
    {
     "output_type": "execute_result",
     "data": {
      "text/plain": [
       "     Area  BHK  Bathroom      Furnishing   Locality  Parking         Status  \\\n",
       "1   750.0    2         2  Semi-Furnished      other        1  Ready_to_move   \n",
       "2  1400.0    3         2     Unfurnished  Alaknanda        1  Ready_to_move   \n",
       "3  1100.0    2         2     Unfurnished  Alaknanda        2  Ready_to_move   \n",
       "4  1200.0    2         2  Semi-Furnished  Alaknanda        2  Ready_to_move   \n",
       "5  1400.0    2         2  Semi-Furnished  Alaknanda        2  Ready_to_move   \n",
       "\n",
       "  Transaction           Type     Price  ...  other  Furnished  Semi-Furnished  \\\n",
       "1      Resale  Builder_Floor   3800000  ...      1          0               1   \n",
       "2      Resale      Apartment  19000000  ...      0          0               0   \n",
       "3      Resale      Apartment  15000000  ...      0          0               0   \n",
       "4      Resale      Apartment  17500000  ...      0          0               1   \n",
       "5      Resale      Apartment  14000000  ...      0          0               1   \n",
       "\n",
       "   Unfurnished  Almost_ready  Ready_to_move  New_Property  Resale  Apartment  \\\n",
       "1            0             0              1             0       1          0   \n",
       "2            1             0              1             0       1          1   \n",
       "3            1             0              1             0       1          1   \n",
       "4            0             0              1             0       1          1   \n",
       "5            0             0              1             0       1          1   \n",
       "\n",
       "   Builder_Floor  \n",
       "1              1  \n",
       "2              0  \n",
       "3              0  \n",
       "4              0  \n",
       "5              0  \n",
       "\n",
       "[5 rows x 93 columns]"
      ],
      "text/html": "<div>\n<style scoped>\n    .dataframe tbody tr th:only-of-type {\n        vertical-align: middle;\n    }\n\n    .dataframe tbody tr th {\n        vertical-align: top;\n    }\n\n    .dataframe thead th {\n        text-align: right;\n    }\n</style>\n<table border=\"1\" class=\"dataframe\">\n  <thead>\n    <tr style=\"text-align: right;\">\n      <th></th>\n      <th>Area</th>\n      <th>BHK</th>\n      <th>Bathroom</th>\n      <th>Furnishing</th>\n      <th>Locality</th>\n      <th>Parking</th>\n      <th>Status</th>\n      <th>Transaction</th>\n      <th>Type</th>\n      <th>Price</th>\n      <th>...</th>\n      <th>other</th>\n      <th>Furnished</th>\n      <th>Semi-Furnished</th>\n      <th>Unfurnished</th>\n      <th>Almost_ready</th>\n      <th>Ready_to_move</th>\n      <th>New_Property</th>\n      <th>Resale</th>\n      <th>Apartment</th>\n      <th>Builder_Floor</th>\n    </tr>\n  </thead>\n  <tbody>\n    <tr>\n      <th>1</th>\n      <td>750.0</td>\n      <td>2</td>\n      <td>2</td>\n      <td>Semi-Furnished</td>\n      <td>other</td>\n      <td>1</td>\n      <td>Ready_to_move</td>\n      <td>Resale</td>\n      <td>Builder_Floor</td>\n      <td>3800000</td>\n      <td>...</td>\n      <td>1</td>\n      <td>0</td>\n      <td>1</td>\n      <td>0</td>\n      <td>0</td>\n      <td>1</td>\n      <td>0</td>\n      <td>1</td>\n      <td>0</td>\n      <td>1</td>\n    </tr>\n    <tr>\n      <th>2</th>\n      <td>1400.0</td>\n      <td>3</td>\n      <td>2</td>\n      <td>Unfurnished</td>\n      <td>Alaknanda</td>\n      <td>1</td>\n      <td>Ready_to_move</td>\n      <td>Resale</td>\n      <td>Apartment</td>\n      <td>19000000</td>\n      <td>...</td>\n      <td>0</td>\n      <td>0</td>\n      <td>0</td>\n      <td>1</td>\n      <td>0</td>\n      <td>1</td>\n      <td>0</td>\n      <td>1</td>\n      <td>1</td>\n      <td>0</td>\n    </tr>\n    <tr>\n      <th>3</th>\n      <td>1100.0</td>\n      <td>2</td>\n      <td>2</td>\n      <td>Unfurnished</td>\n      <td>Alaknanda</td>\n      <td>2</td>\n      <td>Ready_to_move</td>\n      <td>Resale</td>\n      <td>Apartment</td>\n      <td>15000000</td>\n      <td>...</td>\n      <td>0</td>\n      <td>0</td>\n      <td>0</td>\n      <td>1</td>\n      <td>0</td>\n      <td>1</td>\n      <td>0</td>\n      <td>1</td>\n      <td>1</td>\n      <td>0</td>\n    </tr>\n    <tr>\n      <th>4</th>\n      <td>1200.0</td>\n      <td>2</td>\n      <td>2</td>\n      <td>Semi-Furnished</td>\n      <td>Alaknanda</td>\n      <td>2</td>\n      <td>Ready_to_move</td>\n      <td>Resale</td>\n      <td>Apartment</td>\n      <td>17500000</td>\n      <td>...</td>\n      <td>0</td>\n      <td>0</td>\n      <td>1</td>\n      <td>0</td>\n      <td>0</td>\n      <td>1</td>\n      <td>0</td>\n      <td>1</td>\n      <td>1</td>\n      <td>0</td>\n    </tr>\n    <tr>\n      <th>5</th>\n      <td>1400.0</td>\n      <td>2</td>\n      <td>2</td>\n      <td>Semi-Furnished</td>\n      <td>Alaknanda</td>\n      <td>2</td>\n      <td>Ready_to_move</td>\n      <td>Resale</td>\n      <td>Apartment</td>\n      <td>14000000</td>\n      <td>...</td>\n      <td>0</td>\n      <td>0</td>\n      <td>1</td>\n      <td>0</td>\n      <td>0</td>\n      <td>1</td>\n      <td>0</td>\n      <td>1</td>\n      <td>1</td>\n      <td>0</td>\n    </tr>\n  </tbody>\n</table>\n<p>5 rows × 93 columns</p>\n</div>"
     },
     "metadata": {},
     "execution_count": 48
    }
   ],
   "source": [
    "df_final1.head()"
   ]
  },
  {
   "cell_type": "code",
   "execution_count": null,
   "metadata": {},
   "outputs": [],
   "source": [
    "# Droping useless columns\n",
    "df_final1.drop(columns=['Furnishing','Locality','Status','Transaction','Type'],inplace=True)"
   ]
  },
  {
   "cell_type": "code",
   "execution_count": 52,
   "metadata": {},
   "outputs": [
    {
     "output_type": "execute_result",
     "data": {
      "text/plain": [
       "     Area  BHK  Bathroom  Parking     Price  Alaknanda  \\\n",
       "1   750.0    2         2        1   3800000          0   \n",
       "2  1400.0    3         2        1  19000000          1   \n",
       "3  1100.0    2         2        2  15000000          1   \n",
       "4  1200.0    2         2        2  17500000          1   \n",
       "5  1400.0    2         2        2  14000000          1   \n",
       "\n",
       "   Andheria Mor, Mehrauli  Arjun Nagar, Safdarjung Enclave  \\\n",
       "1                       0                                0   \n",
       "2                       0                                0   \n",
       "3                       0                                0   \n",
       "4                       0                                0   \n",
       "5                       0                                0   \n",
       "\n",
       "   Budh Vihar Phase 1  Chhattarpur  ...  other  Furnished  Semi-Furnished  \\\n",
       "1                   0            0  ...      1          0               1   \n",
       "2                   0            0  ...      0          0               0   \n",
       "3                   0            0  ...      0          0               0   \n",
       "4                   0            0  ...      0          0               1   \n",
       "5                   0            0  ...      0          0               1   \n",
       "\n",
       "   Unfurnished  Almost_ready  Ready_to_move  New_Property  Resale  Apartment  \\\n",
       "1            0             0              1             0       1          0   \n",
       "2            1             0              1             0       1          1   \n",
       "3            1             0              1             0       1          1   \n",
       "4            0             0              1             0       1          1   \n",
       "5            0             0              1             0       1          1   \n",
       "\n",
       "   Builder_Floor  \n",
       "1              1  \n",
       "2              0  \n",
       "3              0  \n",
       "4              0  \n",
       "5              0  \n",
       "\n",
       "[5 rows x 88 columns]"
      ],
      "text/html": "<div>\n<style scoped>\n    .dataframe tbody tr th:only-of-type {\n        vertical-align: middle;\n    }\n\n    .dataframe tbody tr th {\n        vertical-align: top;\n    }\n\n    .dataframe thead th {\n        text-align: right;\n    }\n</style>\n<table border=\"1\" class=\"dataframe\">\n  <thead>\n    <tr style=\"text-align: right;\">\n      <th></th>\n      <th>Area</th>\n      <th>BHK</th>\n      <th>Bathroom</th>\n      <th>Parking</th>\n      <th>Price</th>\n      <th>Alaknanda</th>\n      <th>Andheria Mor, Mehrauli</th>\n      <th>Arjun Nagar, Safdarjung Enclave</th>\n      <th>Budh Vihar Phase 1</th>\n      <th>Chhattarpur</th>\n      <th>...</th>\n      <th>other</th>\n      <th>Furnished</th>\n      <th>Semi-Furnished</th>\n      <th>Unfurnished</th>\n      <th>Almost_ready</th>\n      <th>Ready_to_move</th>\n      <th>New_Property</th>\n      <th>Resale</th>\n      <th>Apartment</th>\n      <th>Builder_Floor</th>\n    </tr>\n  </thead>\n  <tbody>\n    <tr>\n      <th>1</th>\n      <td>750.0</td>\n      <td>2</td>\n      <td>2</td>\n      <td>1</td>\n      <td>3800000</td>\n      <td>0</td>\n      <td>0</td>\n      <td>0</td>\n      <td>0</td>\n      <td>0</td>\n      <td>...</td>\n      <td>1</td>\n      <td>0</td>\n      <td>1</td>\n      <td>0</td>\n      <td>0</td>\n      <td>1</td>\n      <td>0</td>\n      <td>1</td>\n      <td>0</td>\n      <td>1</td>\n    </tr>\n    <tr>\n      <th>2</th>\n      <td>1400.0</td>\n      <td>3</td>\n      <td>2</td>\n      <td>1</td>\n      <td>19000000</td>\n      <td>1</td>\n      <td>0</td>\n      <td>0</td>\n      <td>0</td>\n      <td>0</td>\n      <td>...</td>\n      <td>0</td>\n      <td>0</td>\n      <td>0</td>\n      <td>1</td>\n      <td>0</td>\n      <td>1</td>\n      <td>0</td>\n      <td>1</td>\n      <td>1</td>\n      <td>0</td>\n    </tr>\n    <tr>\n      <th>3</th>\n      <td>1100.0</td>\n      <td>2</td>\n      <td>2</td>\n      <td>2</td>\n      <td>15000000</td>\n      <td>1</td>\n      <td>0</td>\n      <td>0</td>\n      <td>0</td>\n      <td>0</td>\n      <td>...</td>\n      <td>0</td>\n      <td>0</td>\n      <td>0</td>\n      <td>1</td>\n      <td>0</td>\n      <td>1</td>\n      <td>0</td>\n      <td>1</td>\n      <td>1</td>\n      <td>0</td>\n    </tr>\n    <tr>\n      <th>4</th>\n      <td>1200.0</td>\n      <td>2</td>\n      <td>2</td>\n      <td>2</td>\n      <td>17500000</td>\n      <td>1</td>\n      <td>0</td>\n      <td>0</td>\n      <td>0</td>\n      <td>0</td>\n      <td>...</td>\n      <td>0</td>\n      <td>0</td>\n      <td>1</td>\n      <td>0</td>\n      <td>0</td>\n      <td>1</td>\n      <td>0</td>\n      <td>1</td>\n      <td>1</td>\n      <td>0</td>\n    </tr>\n    <tr>\n      <th>5</th>\n      <td>1400.0</td>\n      <td>2</td>\n      <td>2</td>\n      <td>2</td>\n      <td>14000000</td>\n      <td>1</td>\n      <td>0</td>\n      <td>0</td>\n      <td>0</td>\n      <td>0</td>\n      <td>...</td>\n      <td>0</td>\n      <td>0</td>\n      <td>1</td>\n      <td>0</td>\n      <td>0</td>\n      <td>1</td>\n      <td>0</td>\n      <td>1</td>\n      <td>1</td>\n      <td>0</td>\n    </tr>\n  </tbody>\n</table>\n<p>5 rows × 88 columns</p>\n</div>"
     },
     "metadata": {},
     "execution_count": 52
    }
   ],
   "source": [
    "df_final1.head()"
   ]
  },
  {
   "source": [
    "# Model Tranining"
   ],
   "cell_type": "markdown",
   "metadata": {}
  },
  {
   "cell_type": "code",
   "execution_count": 53,
   "metadata": {},
   "outputs": [],
   "source": [
    "from sklearn.linear_model import LinearRegression\n",
    "from sklearn.model_selection import train_test_split\n",
    "from sklearn import preprocessing\n",
    "\n",
    "model = LinearRegression()"
   ]
  },
  {
   "cell_type": "code",
   "execution_count": 64,
   "metadata": {},
   "outputs": [
    {
     "output_type": "execute_result",
     "data": {
      "text/plain": [
       "              Area       BHK  Bathroom   Parking     Price\n",
       "Area      1.000000  0.377792  0.451953 -0.022128  0.478119\n",
       "BHK       0.377792  1.000000  0.781982 -0.154927  0.606396\n",
       "Bathroom  0.451953  0.781982  1.000000 -0.092679  0.762738\n",
       "Parking  -0.022128 -0.154927 -0.092679  1.000000 -0.013329\n",
       "Price     0.478119  0.606396  0.762738 -0.013329  1.000000"
      ],
      "text/html": "<div>\n<style scoped>\n    .dataframe tbody tr th:only-of-type {\n        vertical-align: middle;\n    }\n\n    .dataframe tbody tr th {\n        vertical-align: top;\n    }\n\n    .dataframe thead th {\n        text-align: right;\n    }\n</style>\n<table border=\"1\" class=\"dataframe\">\n  <thead>\n    <tr style=\"text-align: right;\">\n      <th></th>\n      <th>Area</th>\n      <th>BHK</th>\n      <th>Bathroom</th>\n      <th>Parking</th>\n      <th>Price</th>\n    </tr>\n  </thead>\n  <tbody>\n    <tr>\n      <th>Area</th>\n      <td>1.000000</td>\n      <td>0.377792</td>\n      <td>0.451953</td>\n      <td>-0.022128</td>\n      <td>0.478119</td>\n    </tr>\n    <tr>\n      <th>BHK</th>\n      <td>0.377792</td>\n      <td>1.000000</td>\n      <td>0.781982</td>\n      <td>-0.154927</td>\n      <td>0.606396</td>\n    </tr>\n    <tr>\n      <th>Bathroom</th>\n      <td>0.451953</td>\n      <td>0.781982</td>\n      <td>1.000000</td>\n      <td>-0.092679</td>\n      <td>0.762738</td>\n    </tr>\n    <tr>\n      <th>Parking</th>\n      <td>-0.022128</td>\n      <td>-0.154927</td>\n      <td>-0.092679</td>\n      <td>1.000000</td>\n      <td>-0.013329</td>\n    </tr>\n    <tr>\n      <th>Price</th>\n      <td>0.478119</td>\n      <td>0.606396</td>\n      <td>0.762738</td>\n      <td>-0.013329</td>\n      <td>1.000000</td>\n    </tr>\n  </tbody>\n</table>\n</div>"
     },
     "metadata": {},
     "execution_count": 64
    }
   ],
   "source": [
    "df3.corr()"
   ]
  },
  {
   "cell_type": "code",
   "execution_count": 65,
   "metadata": {},
   "outputs": [],
   "source": [
    "# Taking the Features for our training \n",
    "x = df_final1.drop(columns=['Price','Parking'])\n",
    "y= df_final1['Price']"
   ]
  },
  {
   "cell_type": "code",
   "execution_count": 73,
   "metadata": {},
   "outputs": [],
   "source": [
    "# spliting the data set\n",
    "x_train,x_test,y_train,y_test = train_test_split(x,y,test_size=0.35, random_state=0)"
   ]
  },
  {
   "cell_type": "code",
   "execution_count": 74,
   "metadata": {},
   "outputs": [
    {
     "output_type": "execute_result",
     "data": {
      "text/plain": [
       "0.7808945114534891"
      ]
     },
     "metadata": {},
     "execution_count": 74
    }
   ],
   "source": [
    "# Fitting the Liner Regression model\n",
    "model.fit(x_train,y_train)\n",
    "model.score(x_test,y_test)"
   ]
  },
  {
   "cell_type": "code",
   "execution_count": 75,
   "metadata": {},
   "outputs": [],
   "source": [
    "### Creating a prediction function for making predictions"
   ]
  },
  {
   "cell_type": "code",
   "execution_count": 76,
   "metadata": {},
   "outputs": [
    {
     "output_type": "execute_result",
     "data": {
      "text/plain": [
       "Index(['Area', 'BHK', 'Bathroom', 'Alaknanda', 'Andheria Mor, Mehrauli',\n",
       "       'Arjun Nagar, Safdarjung Enclave', 'Budh Vihar Phase 1', 'Chhattarpur',\n",
       "       'Chhattarpur Enclave Phase2', 'Chittaranjan Park',\n",
       "       'Common Wealth Games Village, Commonwealth Games Village 2010',\n",
       "       'Commonwealth Games Village 2010', 'DDA Flats Block A, Dilshad Garden',\n",
       "       'DDA Lig Flats, Narela',\n",
       "       'DLF Capital Greens, New Moti Nagar, Kirti Nagar',\n",
       "       'Dev Nagar, Karol Bagh', 'Dilshad Colony, Dilshad Garden',\n",
       "       'Dilshad Garden', 'Dwarka Mor',\n",
       "       'Friends Colony East, New Friends Colony', 'Geeta Colony',\n",
       "       'Geetanjali Enclave, Malviya Nagar', 'Godrej South Estate, Okhla',\n",
       "       'Godrej South Estate, Okhla Phase 1', 'Greater Kailash 1', 'Hauz Khas',\n",
       "       'Hauz Khas Enclave, Hauz Khas',\n",
       "       'J R Designers Floors, Rohini Sector 24',\n",
       "       'Kailash Colony, Greater Kailash', 'Karol Bagh', 'Lajpat Nagar 2',\n",
       "       'Lajpat Nagar 3', 'Laxmi Nagar',\n",
       "       'MTNL Employees House Welfare Society, Dwarka Sector 24',\n",
       "       'Maharani Bagh, New Friends Colony', 'Mahavir Enclave',\n",
       "       'Mahavir Enclave Part 1', 'Malviya Nagar', 'Manglapuri, Sultanpur',\n",
       "       'Mehrauli', 'Narela', 'Narmada Apartment, Alaknanda',\n",
       "       'New Friends Colony', 'New Manglapuri, Sultanpur',\n",
       "       'New Moti Nagar, Kirti Nagar', 'Nilgiri Apartment, Alaknanda',\n",
       "       'Panchsheel Vihar, Sheikh Sarai', 'Paschim Vihar',\n",
       "       'Patel Nagar East, Patel Nagar', 'Patel Nagar West',\n",
       "       'Project Commonwealth Games Village 2010, Commonwealth Games Village 2010',\n",
       "       'Punjabi Bagh East', 'Punjabi Bagh Extension, Punjabi Bagh',\n",
       "       'Punjabi Bagh West', 'Rohini Sector 20', 'Rohini Sector 22',\n",
       "       'Rohini Sector 23', 'Rohini Sector 24', 'Rohini Sector 25',\n",
       "       'Safdarjung Development Area, Hauz Khas', 'Safdarjung Enclave', 'Saket',\n",
       "       'Shahdara', 'Sheikh Sarai Phase 1', 'Sukhdev Vihar, Okhla', 'Sultanpur',\n",
       "       'Sultanpur Extension', 'The Amaryllis, Karol Bagh',\n",
       "       'The Leela Sky Villas, Patel Nagar', 'Uttam Nagar', 'Uttam Nagar West',\n",
       "       'Vasant Kunj', 'Vasant Kunj Sector C', 'Vasundhara Enclave',\n",
       "       'Vikram Vihar, Lajpat Nagar', 'Yamuna Vihar, Shahdara', 'other',\n",
       "       'Furnished', 'Semi-Furnished', 'Unfurnished', 'Almost_ready',\n",
       "       'Ready_to_move', 'New_Property', 'Resale', 'Apartment',\n",
       "       'Builder_Floor'],\n",
       "      dtype='object')"
      ]
     },
     "metadata": {},
     "execution_count": 76
    }
   ],
   "source": [
    "x.columns"
   ]
  },
  {
   "cell_type": "code",
   "execution_count": 78,
   "metadata": {},
   "outputs": [],
   "source": [
    "# Prediction Fucntion ( we can do the prediction without worrying about Hot enchoding)\n",
    "def prediction(Locality,Furnishing,Status,Transaction,Type,Area_total,BHK,Bathroom):\n",
    "    Locality_index = np.where(x.columns== Locality)[0][0]\n",
    "    Furnishing_index = np.where(x.columns== Furnishing)[0][0]\n",
    "    Status_index = np.where(x.columns== Status)[0][0]\n",
    "    Transaction_index = np.where(x.columns== Transaction)[0][0]\n",
    "    Type_index = np.where(x.columns== Type)[0][0]\n",
    "\n",
    "    n = np.zeros(len(x.columns))\n",
    "    n[0]=Area_total\n",
    "    n[1]=BHK\n",
    "    n[2]=Bathroom\n",
    "    if Locality_index >=0:\n",
    "        n[Locality_index]=1\n",
    "    if Furnishing_index>=0:\n",
    "        n[Furnishing_index]=1\n",
    "    if Status_index >=0:\n",
    "        n[Status_index]=1\n",
    "    if Transaction_index >=0:\n",
    "        n[Transaction_index]=1\n",
    "    if Type_index >=0:\n",
    "        n[Type_index]=1\n",
    "    return model.predict([n])[0]\n",
    "    "
   ]
  },
  {
   "source": [
    "## Predictions"
   ],
   "cell_type": "markdown",
   "metadata": {}
  },
  {
   "cell_type": "code",
   "execution_count": 83,
   "metadata": {},
   "outputs": [
    {
     "output_type": "execute_result",
     "data": {
      "text/plain": [
       "Area                    1100\n",
       "BHK                        2\n",
       "Bathroom                   2\n",
       "Furnishing       Unfurnished\n",
       "Locality           Alaknanda\n",
       "Parking                    2\n",
       "Status         Ready_to_move\n",
       "Transaction           Resale\n",
       "Type               Apartment\n",
       "Price               15000000\n",
       "Name: 3, dtype: object"
      ]
     },
     "metadata": {},
     "execution_count": 83
    }
   ],
   "source": [
    "df3.iloc[2,:]"
   ]
  },
  {
   "cell_type": "code",
   "execution_count": 80,
   "metadata": {},
   "outputs": [
    {
     "output_type": "stream",
     "name": "stdout",
     "text": [
      "The predicted price is 15270341.712971712 lakh\n"
     ]
    }
   ],
   "source": [
    "Price_prediction = prediction('Alaknanda','Unfurnished','Ready_to_move','Resale','Apartment',1100,2,2)\n",
    "print(\"The predicted price is\",Price_prediction ,\"lakh\")\n",
    "\n"
   ]
  },
  {
   "source": [
    "# Thank You\n",
    "\n",
    "    credits: {Data Set: Kaggle , Project Made by: Kumar Shivam}"
   ],
   "cell_type": "markdown",
   "metadata": {}
  }
 ]
}