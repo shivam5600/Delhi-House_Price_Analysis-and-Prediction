{
 "metadata": {
  "language_info": {
   "codemirror_mode": {
    "name": "ipython",
    "version": 3
   },
   "file_extension": ".py",
   "mimetype": "text/x-python",
   "name": "python",
   "nbconvert_exporter": "python",
   "pygments_lexer": "ipython3",
   "version": "3.8.10"
  },
  "orig_nbformat": 2,
  "kernelspec": {
   "name": "python3",
   "display_name": "Python 3.8.10 64-bit (windows store)"
  },
  "interpreter": {
   "hash": "2995f8ac6426a3ccd59ad0390d01f2c0910015cb666af755f33d4c34d8e8c12e"
  }
 },
 "nbformat": 4,
 "nbformat_minor": 2,
 "cells": [
  {
   "source": [
    "## Problem Statement: I have to present a working model for the House Price Predictions for Delhi Localities to the Stakeholders"
   ],
   "cell_type": "markdown",
   "metadata": {}
  },
  {
   "cell_type": "code",
   "execution_count": 2,
   "metadata": {},
   "outputs": [],
   "source": [
    "import numpy as np \n",
    "import pandas as pd \n",
    "import matplotlib.pylab as plt\n",
    "import plotly.express as px \n",
    "import plotly.graph_objects as go\n",
    "%matplotlib inline\n",
    "\n",
    "# ignore warnings\n",
    "import warnings\n",
    "warnings.filterwarnings(\"ignore\")"
   ]
  },
  {
   "cell_type": "code",
   "execution_count": 3,
   "metadata": {},
   "outputs": [],
   "source": [
    "df =  pd.read_csv('delhi_house_price.csv' )"
   ]
  },
  {
   "cell_type": "code",
   "execution_count": 4,
   "metadata": {},
   "outputs": [
    {
     "output_type": "execute_result",
     "data": {
      "text/plain": [
       "    Area  BHK  Bathroom      Furnishing  \\\n",
       "0  800.0    3       2.0  Semi-Furnished   \n",
       "1  750.0    2       2.0  Semi-Furnished   \n",
       "2  950.0    2       2.0       Furnished   \n",
       "3  600.0    2       2.0  Semi-Furnished   \n",
       "4  650.0    2       2.0  Semi-Furnished   \n",
       "\n",
       "                                            Locality  Parking     Price  \\\n",
       "0                                   Rohini Sector 25      1.0   6500000   \n",
       "1             J R Designers Floors, Rohini Sector 24      1.0   5000000   \n",
       "2                Citizen Apartment, Rohini Sector 13      1.0  15500000   \n",
       "3                                   Rohini Sector 24      1.0   4200000   \n",
       "4  Rohini Sector 24 carpet area 650 sqft status R...      1.0   6200000   \n",
       "\n",
       "          Status   Transaction           Type  Per_Sqft  \n",
       "0  Ready_to_move  New_Property  Builder_Floor       NaN  \n",
       "1  Ready_to_move  New_Property      Apartment    6667.0  \n",
       "2  Ready_to_move        Resale      Apartment    6667.0  \n",
       "3  Ready_to_move        Resale  Builder_Floor    6667.0  \n",
       "4  Ready_to_move  New_Property  Builder_Floor    6667.0  "
      ],
      "text/html": "<div>\n<style scoped>\n    .dataframe tbody tr th:only-of-type {\n        vertical-align: middle;\n    }\n\n    .dataframe tbody tr th {\n        vertical-align: top;\n    }\n\n    .dataframe thead th {\n        text-align: right;\n    }\n</style>\n<table border=\"1\" class=\"dataframe\">\n  <thead>\n    <tr style=\"text-align: right;\">\n      <th></th>\n      <th>Area</th>\n      <th>BHK</th>\n      <th>Bathroom</th>\n      <th>Furnishing</th>\n      <th>Locality</th>\n      <th>Parking</th>\n      <th>Price</th>\n      <th>Status</th>\n      <th>Transaction</th>\n      <th>Type</th>\n      <th>Per_Sqft</th>\n    </tr>\n  </thead>\n  <tbody>\n    <tr>\n      <th>0</th>\n      <td>800.0</td>\n      <td>3</td>\n      <td>2.0</td>\n      <td>Semi-Furnished</td>\n      <td>Rohini Sector 25</td>\n      <td>1.0</td>\n      <td>6500000</td>\n      <td>Ready_to_move</td>\n      <td>New_Property</td>\n      <td>Builder_Floor</td>\n      <td>NaN</td>\n    </tr>\n    <tr>\n      <th>1</th>\n      <td>750.0</td>\n      <td>2</td>\n      <td>2.0</td>\n      <td>Semi-Furnished</td>\n      <td>J R Designers Floors, Rohini Sector 24</td>\n      <td>1.0</td>\n      <td>5000000</td>\n      <td>Ready_to_move</td>\n      <td>New_Property</td>\n      <td>Apartment</td>\n      <td>6667.0</td>\n    </tr>\n    <tr>\n      <th>2</th>\n      <td>950.0</td>\n      <td>2</td>\n      <td>2.0</td>\n      <td>Furnished</td>\n      <td>Citizen Apartment, Rohini Sector 13</td>\n      <td>1.0</td>\n      <td>15500000</td>\n      <td>Ready_to_move</td>\n      <td>Resale</td>\n      <td>Apartment</td>\n      <td>6667.0</td>\n    </tr>\n    <tr>\n      <th>3</th>\n      <td>600.0</td>\n      <td>2</td>\n      <td>2.0</td>\n      <td>Semi-Furnished</td>\n      <td>Rohini Sector 24</td>\n      <td>1.0</td>\n      <td>4200000</td>\n      <td>Ready_to_move</td>\n      <td>Resale</td>\n      <td>Builder_Floor</td>\n      <td>6667.0</td>\n    </tr>\n    <tr>\n      <th>4</th>\n      <td>650.0</td>\n      <td>2</td>\n      <td>2.0</td>\n      <td>Semi-Furnished</td>\n      <td>Rohini Sector 24 carpet area 650 sqft status R...</td>\n      <td>1.0</td>\n      <td>6200000</td>\n      <td>Ready_to_move</td>\n      <td>New_Property</td>\n      <td>Builder_Floor</td>\n      <td>6667.0</td>\n    </tr>\n  </tbody>\n</table>\n</div>"
     },
     "metadata": {},
     "execution_count": 4
    }
   ],
   "source": [
    "df.head()"
   ]
  },
  {
   "source": [
    "## Data Exploring and Cleaning"
   ],
   "cell_type": "markdown",
   "metadata": {}
  },
  {
   "cell_type": "code",
   "execution_count": 5,
   "metadata": {},
   "outputs": [
    {
     "output_type": "execute_result",
     "data": {
      "text/plain": [
       "(1259, 11)"
      ]
     },
     "metadata": {},
     "execution_count": 5
    }
   ],
   "source": [
    "df.shape"
   ]
  },
  {
   "cell_type": "code",
   "execution_count": 6,
   "metadata": {},
   "outputs": [
    {
     "output_type": "execute_result",
     "data": {
      "text/plain": [
       "Area             0\n",
       "BHK              0\n",
       "Bathroom         2\n",
       "Furnishing       5\n",
       "Locality         0\n",
       "Parking         33\n",
       "Price            0\n",
       "Status           0\n",
       "Transaction      0\n",
       "Type             5\n",
       "Per_Sqft       241\n",
       "dtype: int64"
      ]
     },
     "metadata": {},
     "execution_count": 6
    }
   ],
   "source": [
    "# checking Null Values\n",
    "df.isnull().sum()"
   ]
  },
  {
   "cell_type": "code",
   "execution_count": 7,
   "metadata": {},
   "outputs": [],
   "source": [
    "#creating  price_per_sqft columns to understand the data\n",
    "df['price_per_sqft'] = df['Price']/df['Area']\n",
    "df['price_per_sqft'] = df['price_per_sqft'].astype(int)"
   ]
  },
  {
   "cell_type": "code",
   "execution_count": 8,
   "metadata": {},
   "outputs": [
    {
     "output_type": "execute_result",
     "data": {
      "text/plain": [
       "    Area  BHK  Bathroom      Furnishing  \\\n",
       "0  800.0    3       2.0  Semi-Furnished   \n",
       "1  750.0    2       2.0  Semi-Furnished   \n",
       "2  950.0    2       2.0       Furnished   \n",
       "\n",
       "                                 Locality  Parking     Price         Status  \\\n",
       "0                        Rohini Sector 25      1.0   6500000  Ready_to_move   \n",
       "1  J R Designers Floors, Rohini Sector 24      1.0   5000000  Ready_to_move   \n",
       "2     Citizen Apartment, Rohini Sector 13      1.0  15500000  Ready_to_move   \n",
       "\n",
       "    Transaction           Type  Per_Sqft  price_per_sqft  \n",
       "0  New_Property  Builder_Floor       NaN            8125  \n",
       "1  New_Property      Apartment    6667.0            6666  \n",
       "2        Resale      Apartment    6667.0           16315  "
      ],
      "text/html": "<div>\n<style scoped>\n    .dataframe tbody tr th:only-of-type {\n        vertical-align: middle;\n    }\n\n    .dataframe tbody tr th {\n        vertical-align: top;\n    }\n\n    .dataframe thead th {\n        text-align: right;\n    }\n</style>\n<table border=\"1\" class=\"dataframe\">\n  <thead>\n    <tr style=\"text-align: right;\">\n      <th></th>\n      <th>Area</th>\n      <th>BHK</th>\n      <th>Bathroom</th>\n      <th>Furnishing</th>\n      <th>Locality</th>\n      <th>Parking</th>\n      <th>Price</th>\n      <th>Status</th>\n      <th>Transaction</th>\n      <th>Type</th>\n      <th>Per_Sqft</th>\n      <th>price_per_sqft</th>\n    </tr>\n  </thead>\n  <tbody>\n    <tr>\n      <th>0</th>\n      <td>800.0</td>\n      <td>3</td>\n      <td>2.0</td>\n      <td>Semi-Furnished</td>\n      <td>Rohini Sector 25</td>\n      <td>1.0</td>\n      <td>6500000</td>\n      <td>Ready_to_move</td>\n      <td>New_Property</td>\n      <td>Builder_Floor</td>\n      <td>NaN</td>\n      <td>8125</td>\n    </tr>\n    <tr>\n      <th>1</th>\n      <td>750.0</td>\n      <td>2</td>\n      <td>2.0</td>\n      <td>Semi-Furnished</td>\n      <td>J R Designers Floors, Rohini Sector 24</td>\n      <td>1.0</td>\n      <td>5000000</td>\n      <td>Ready_to_move</td>\n      <td>New_Property</td>\n      <td>Apartment</td>\n      <td>6667.0</td>\n      <td>6666</td>\n    </tr>\n    <tr>\n      <th>2</th>\n      <td>950.0</td>\n      <td>2</td>\n      <td>2.0</td>\n      <td>Furnished</td>\n      <td>Citizen Apartment, Rohini Sector 13</td>\n      <td>1.0</td>\n      <td>15500000</td>\n      <td>Ready_to_move</td>\n      <td>Resale</td>\n      <td>Apartment</td>\n      <td>6667.0</td>\n      <td>16315</td>\n    </tr>\n  </tbody>\n</table>\n</div>"
     },
     "metadata": {},
     "execution_count": 8
    }
   ],
   "source": [
    "df.head(3)"
   ]
  },
  {
   "cell_type": "code",
   "execution_count": 9,
   "metadata": {},
   "outputs": [
    {
     "output_type": "execute_result",
     "data": {
      "text/plain": [
       "               Area          BHK     Bathroom      Parking         Price  \\\n",
       "count   1259.000000  1259.000000  1257.000000  1226.000000  1.259000e+03   \n",
       "mean    1466.452724     2.796664     2.556086     1.935563  2.130670e+07   \n",
       "std     1568.055040     0.954425     1.042220     6.279212  2.560115e+07   \n",
       "min       28.000000     1.000000     1.000000     1.000000  1.000000e+06   \n",
       "25%      800.000000     2.000000     2.000000     1.000000  5.700000e+06   \n",
       "50%     1200.000000     3.000000     2.000000     1.000000  1.420000e+07   \n",
       "75%     1700.000000     3.000000     3.000000     2.000000  2.550000e+07   \n",
       "max    24300.000000    10.000000     7.000000   114.000000  2.400000e+08   \n",
       "\n",
       "            Per_Sqft  price_per_sqft  \n",
       "count    1018.000000     1259.000000  \n",
       "mean    15690.136542    14581.774424  \n",
       "std     21134.738568    20420.174601  \n",
       "min      1259.000000      204.000000  \n",
       "25%      6364.000000     6757.000000  \n",
       "50%     11291.500000    11666.000000  \n",
       "75%     18000.000000    17549.000000  \n",
       "max    183333.000000   538461.000000  "
      ],
      "text/html": "<div>\n<style scoped>\n    .dataframe tbody tr th:only-of-type {\n        vertical-align: middle;\n    }\n\n    .dataframe tbody tr th {\n        vertical-align: top;\n    }\n\n    .dataframe thead th {\n        text-align: right;\n    }\n</style>\n<table border=\"1\" class=\"dataframe\">\n  <thead>\n    <tr style=\"text-align: right;\">\n      <th></th>\n      <th>Area</th>\n      <th>BHK</th>\n      <th>Bathroom</th>\n      <th>Parking</th>\n      <th>Price</th>\n      <th>Per_Sqft</th>\n      <th>price_per_sqft</th>\n    </tr>\n  </thead>\n  <tbody>\n    <tr>\n      <th>count</th>\n      <td>1259.000000</td>\n      <td>1259.000000</td>\n      <td>1257.000000</td>\n      <td>1226.000000</td>\n      <td>1.259000e+03</td>\n      <td>1018.000000</td>\n      <td>1259.000000</td>\n    </tr>\n    <tr>\n      <th>mean</th>\n      <td>1466.452724</td>\n      <td>2.796664</td>\n      <td>2.556086</td>\n      <td>1.935563</td>\n      <td>2.130670e+07</td>\n      <td>15690.136542</td>\n      <td>14581.774424</td>\n    </tr>\n    <tr>\n      <th>std</th>\n      <td>1568.055040</td>\n      <td>0.954425</td>\n      <td>1.042220</td>\n      <td>6.279212</td>\n      <td>2.560115e+07</td>\n      <td>21134.738568</td>\n      <td>20420.174601</td>\n    </tr>\n    <tr>\n      <th>min</th>\n      <td>28.000000</td>\n      <td>1.000000</td>\n      <td>1.000000</td>\n      <td>1.000000</td>\n      <td>1.000000e+06</td>\n      <td>1259.000000</td>\n      <td>204.000000</td>\n    </tr>\n    <tr>\n      <th>25%</th>\n      <td>800.000000</td>\n      <td>2.000000</td>\n      <td>2.000000</td>\n      <td>1.000000</td>\n      <td>5.700000e+06</td>\n      <td>6364.000000</td>\n      <td>6757.000000</td>\n    </tr>\n    <tr>\n      <th>50%</th>\n      <td>1200.000000</td>\n      <td>3.000000</td>\n      <td>2.000000</td>\n      <td>1.000000</td>\n      <td>1.420000e+07</td>\n      <td>11291.500000</td>\n      <td>11666.000000</td>\n    </tr>\n    <tr>\n      <th>75%</th>\n      <td>1700.000000</td>\n      <td>3.000000</td>\n      <td>3.000000</td>\n      <td>2.000000</td>\n      <td>2.550000e+07</td>\n      <td>18000.000000</td>\n      <td>17549.000000</td>\n    </tr>\n    <tr>\n      <th>max</th>\n      <td>24300.000000</td>\n      <td>10.000000</td>\n      <td>7.000000</td>\n      <td>114.000000</td>\n      <td>2.400000e+08</td>\n      <td>183333.000000</td>\n      <td>538461.000000</td>\n    </tr>\n  </tbody>\n</table>\n</div>"
     },
     "metadata": {},
     "execution_count": 9
    }
   ],
   "source": [
    "df.describe()"
   ]
  },
  {
   "source": [
    "#### As we know we can fill the null values by CENTERAL TENDENCIES but in pur use case we cannot do this: according to business domain understanding"
   ],
   "cell_type": "markdown",
   "metadata": {}
  },
  {
   "cell_type": "code",
   "execution_count": 10,
   "metadata": {},
   "outputs": [],
   "source": [
    "# Droping null values (as we cant even out average values due to not fitting correctly)\n",
    "df = df[df['Furnishing'].notna()]\n",
    "df = df[df['Bathroom'].notna()]\n",
    "df = df[df['Parking'].notna()]\n",
    "\n",
    "# Price per_sqft varies according to location and various term so we can substitue it by mean or median\n",
    "df = df[df['Per_Sqft'].notna()]"
   ]
  },
  {
   "cell_type": "code",
   "execution_count": 11,
   "metadata": {},
   "outputs": [
    {
     "output_type": "execute_result",
     "data": {
      "text/plain": [
       "Area              0\n",
       "BHK               0\n",
       "Bathroom          0\n",
       "Furnishing        0\n",
       "Locality          0\n",
       "Parking           0\n",
       "Price             0\n",
       "Status            0\n",
       "Transaction       0\n",
       "Type              0\n",
       "Per_Sqft          0\n",
       "price_per_sqft    0\n",
       "dtype: int64"
      ]
     },
     "metadata": {},
     "execution_count": 11
    }
   ],
   "source": [
    "df.isnull().sum()"
   ]
  },
  {
   "cell_type": "code",
   "execution_count": 12,
   "metadata": {},
   "outputs": [],
   "source": [
    "# new dataframe without any null values\n",
    "df1 = df"
   ]
  },
  {
   "cell_type": "code",
   "execution_count": 13,
   "metadata": {},
   "outputs": [
    {
     "output_type": "execute_result",
     "data": {
      "text/plain": [
       "(1005, 12)"
      ]
     },
     "metadata": {},
     "execution_count": 13
    }
   ],
   "source": [
    "df1.shape"
   ]
  },
  {
   "cell_type": "code",
   "execution_count": 14,
   "metadata": {},
   "outputs": [
    {
     "output_type": "execute_result",
     "data": {
      "text/plain": [
       "     Area  BHK  Bathroom      Furnishing  \\\n",
       "1   750.0    2       2.0  Semi-Furnished   \n",
       "2   950.0    2       2.0       Furnished   \n",
       "3   600.0    2       2.0  Semi-Furnished   \n",
       "4   650.0    2       2.0  Semi-Furnished   \n",
       "5  1300.0    4       3.0  Semi-Furnished   \n",
       "\n",
       "                                            Locality  Parking         Status  \\\n",
       "1             J R Designers Floors, Rohini Sector 24      1.0  Ready_to_move   \n",
       "2                Citizen Apartment, Rohini Sector 13      1.0  Ready_to_move   \n",
       "3                                   Rohini Sector 24      1.0  Ready_to_move   \n",
       "4  Rohini Sector 24 carpet area 650 sqft status R...      1.0  Ready_to_move   \n",
       "5                                   Rohini Sector 24      1.0  Ready_to_move   \n",
       "\n",
       "    Transaction           Type     Price  \n",
       "1  New_Property      Apartment   5000000  \n",
       "2        Resale      Apartment  15500000  \n",
       "3        Resale  Builder_Floor   4200000  \n",
       "4  New_Property  Builder_Floor   6200000  \n",
       "5  New_Property  Builder_Floor  15500000  "
      ],
      "text/html": "<div>\n<style scoped>\n    .dataframe tbody tr th:only-of-type {\n        vertical-align: middle;\n    }\n\n    .dataframe tbody tr th {\n        vertical-align: top;\n    }\n\n    .dataframe thead th {\n        text-align: right;\n    }\n</style>\n<table border=\"1\" class=\"dataframe\">\n  <thead>\n    <tr style=\"text-align: right;\">\n      <th></th>\n      <th>Area</th>\n      <th>BHK</th>\n      <th>Bathroom</th>\n      <th>Furnishing</th>\n      <th>Locality</th>\n      <th>Parking</th>\n      <th>Status</th>\n      <th>Transaction</th>\n      <th>Type</th>\n      <th>Price</th>\n    </tr>\n  </thead>\n  <tbody>\n    <tr>\n      <th>1</th>\n      <td>750.0</td>\n      <td>2</td>\n      <td>2.0</td>\n      <td>Semi-Furnished</td>\n      <td>J R Designers Floors, Rohini Sector 24</td>\n      <td>1.0</td>\n      <td>Ready_to_move</td>\n      <td>New_Property</td>\n      <td>Apartment</td>\n      <td>5000000</td>\n    </tr>\n    <tr>\n      <th>2</th>\n      <td>950.0</td>\n      <td>2</td>\n      <td>2.0</td>\n      <td>Furnished</td>\n      <td>Citizen Apartment, Rohini Sector 13</td>\n      <td>1.0</td>\n      <td>Ready_to_move</td>\n      <td>Resale</td>\n      <td>Apartment</td>\n      <td>15500000</td>\n    </tr>\n    <tr>\n      <th>3</th>\n      <td>600.0</td>\n      <td>2</td>\n      <td>2.0</td>\n      <td>Semi-Furnished</td>\n      <td>Rohini Sector 24</td>\n      <td>1.0</td>\n      <td>Ready_to_move</td>\n      <td>Resale</td>\n      <td>Builder_Floor</td>\n      <td>4200000</td>\n    </tr>\n    <tr>\n      <th>4</th>\n      <td>650.0</td>\n      <td>2</td>\n      <td>2.0</td>\n      <td>Semi-Furnished</td>\n      <td>Rohini Sector 24 carpet area 650 sqft status R...</td>\n      <td>1.0</td>\n      <td>Ready_to_move</td>\n      <td>New_Property</td>\n      <td>Builder_Floor</td>\n      <td>6200000</td>\n    </tr>\n    <tr>\n      <th>5</th>\n      <td>1300.0</td>\n      <td>4</td>\n      <td>3.0</td>\n      <td>Semi-Furnished</td>\n      <td>Rohini Sector 24</td>\n      <td>1.0</td>\n      <td>Ready_to_move</td>\n      <td>New_Property</td>\n      <td>Builder_Floor</td>\n      <td>15500000</td>\n    </tr>\n  </tbody>\n</table>\n</div>"
     },
     "metadata": {},
     "execution_count": 14
    }
   ],
   "source": [
    "# Removing columns per_sqft and Shifting Price columns to last\n",
    "df2 = df1.drop(columns=['Per_Sqft','price_per_sqft'])\n",
    "col9 = df2.pop('Price')\n",
    "df2.insert(9,'Price', col9)\n",
    "df2.head()"
   ]
  },
  {
   "source": [
    "## DATA VISULISATION: EDA\n"
   ],
   "cell_type": "markdown",
   "metadata": {}
  },
  {
   "cell_type": "code",
   "execution_count": 15,
   "metadata": {},
   "outputs": [
    {
     "output_type": "execute_result",
     "data": {
      "text/plain": [
       "     Area  BHK  Bathroom      Furnishing  \\\n",
       "1   750.0    2       2.0  Semi-Furnished   \n",
       "2   950.0    2       2.0       Furnished   \n",
       "3   600.0    2       2.0  Semi-Furnished   \n",
       "4   650.0    2       2.0  Semi-Furnished   \n",
       "5  1300.0    4       3.0  Semi-Furnished   \n",
       "\n",
       "                                            Locality  Parking         Status  \\\n",
       "1             J R Designers Floors, Rohini Sector 24      1.0  Ready_to_move   \n",
       "2                Citizen Apartment, Rohini Sector 13      1.0  Ready_to_move   \n",
       "3                                   Rohini Sector 24      1.0  Ready_to_move   \n",
       "4  Rohini Sector 24 carpet area 650 sqft status R...      1.0  Ready_to_move   \n",
       "5                                   Rohini Sector 24      1.0  Ready_to_move   \n",
       "\n",
       "    Transaction           Type     Price  \n",
       "1  New_Property      Apartment   5000000  \n",
       "2        Resale      Apartment  15500000  \n",
       "3        Resale  Builder_Floor   4200000  \n",
       "4  New_Property  Builder_Floor   6200000  \n",
       "5  New_Property  Builder_Floor  15500000  "
      ],
      "text/html": "<div>\n<style scoped>\n    .dataframe tbody tr th:only-of-type {\n        vertical-align: middle;\n    }\n\n    .dataframe tbody tr th {\n        vertical-align: top;\n    }\n\n    .dataframe thead th {\n        text-align: right;\n    }\n</style>\n<table border=\"1\" class=\"dataframe\">\n  <thead>\n    <tr style=\"text-align: right;\">\n      <th></th>\n      <th>Area</th>\n      <th>BHK</th>\n      <th>Bathroom</th>\n      <th>Furnishing</th>\n      <th>Locality</th>\n      <th>Parking</th>\n      <th>Status</th>\n      <th>Transaction</th>\n      <th>Type</th>\n      <th>Price</th>\n    </tr>\n  </thead>\n  <tbody>\n    <tr>\n      <th>1</th>\n      <td>750.0</td>\n      <td>2</td>\n      <td>2.0</td>\n      <td>Semi-Furnished</td>\n      <td>J R Designers Floors, Rohini Sector 24</td>\n      <td>1.0</td>\n      <td>Ready_to_move</td>\n      <td>New_Property</td>\n      <td>Apartment</td>\n      <td>5000000</td>\n    </tr>\n    <tr>\n      <th>2</th>\n      <td>950.0</td>\n      <td>2</td>\n      <td>2.0</td>\n      <td>Furnished</td>\n      <td>Citizen Apartment, Rohini Sector 13</td>\n      <td>1.0</td>\n      <td>Ready_to_move</td>\n      <td>Resale</td>\n      <td>Apartment</td>\n      <td>15500000</td>\n    </tr>\n    <tr>\n      <th>3</th>\n      <td>600.0</td>\n      <td>2</td>\n      <td>2.0</td>\n      <td>Semi-Furnished</td>\n      <td>Rohini Sector 24</td>\n      <td>1.0</td>\n      <td>Ready_to_move</td>\n      <td>Resale</td>\n      <td>Builder_Floor</td>\n      <td>4200000</td>\n    </tr>\n    <tr>\n      <th>4</th>\n      <td>650.0</td>\n      <td>2</td>\n      <td>2.0</td>\n      <td>Semi-Furnished</td>\n      <td>Rohini Sector 24 carpet area 650 sqft status R...</td>\n      <td>1.0</td>\n      <td>Ready_to_move</td>\n      <td>New_Property</td>\n      <td>Builder_Floor</td>\n      <td>6200000</td>\n    </tr>\n    <tr>\n      <th>5</th>\n      <td>1300.0</td>\n      <td>4</td>\n      <td>3.0</td>\n      <td>Semi-Furnished</td>\n      <td>Rohini Sector 24</td>\n      <td>1.0</td>\n      <td>Ready_to_move</td>\n      <td>New_Property</td>\n      <td>Builder_Floor</td>\n      <td>15500000</td>\n    </tr>\n  </tbody>\n</table>\n</div>"
     },
     "metadata": {},
     "execution_count": 15
    }
   ],
   "source": [
    "df2.head()"
   ]
  },
  {
   "cell_type": "code",
   "execution_count": 16,
   "metadata": {},
   "outputs": [
    {
     "output_type": "display_data",
     "data": {
      "application/vnd.plotly.v1+json": {
       "config": {
        "plotlyServerURL": "https://plot.ly"
       },
       "data": [
        {
         "alignmentgroup": "True",
         "bingroup": "x",
         "histfunc": "sum",
         "hovertemplate": "Area in Sqft=%{x}<br>sum of Price=%{y}<extra></extra>",
         "legendgroup": "",
         "marker": {
          "color": "indianred",
          "opacity": 0.8
         },
         "name": "",
         "offsetgroup": "",
         "orientation": "v",
         "showlegend": false,
         "type": "histogram",
         "x": [
          750,
          950,
          600,
          650,
          1300,
          1350,
          650,
          985,
          1300,
          1100,
          870,
          630,
          660,
          344.4448,
          660,
          550,
          1100,
          1150,
          650,
          850,
          900,
          430.556,
          900,
          914.9315,
          1100,
          800,
          500,
          28,
          2160,
          900,
          1000,
          900,
          2925,
          900,
          1600,
          1143,
          1150,
          1500,
          850,
          8000,
          890,
          1100,
          850,
          1350,
          1387,
          1050,
          1500,
          1200,
          700,
          1700,
          1550,
          1400,
          1900,
          2160,
          1700,
          1850,
          1800,
          1620,
          1800,
          1540,
          1600,
          1400,
          2300,
          1560,
          1500,
          1540,
          1050,
          1800,
          400,
          1150,
          1525,
          1500,
          2880,
          2700,
          1400,
          1800,
          1400,
          1000,
          8000,
          1000,
          1700,
          1600,
          1350,
          1700,
          1400,
          1450,
          1350,
          1700,
          1600,
          1350,
          1500,
          750,
          850,
          1575,
          1675,
          1350,
          900,
          1800,
          900,
          900,
          900,
          800,
          1100,
          810,
          1500,
          900,
          825,
          900,
          875,
          1350,
          750,
          900,
          1350,
          900,
          1800,
          900,
          450,
          100,
          900,
          500,
          450,
          75,
          270,
          500,
          444,
          400,
          729,
          4050,
          2400,
          450,
          405,
          666,
          1000,
          1360,
          1550,
          850,
          2170,
          720,
          850,
          950,
          2300,
          1300,
          1100,
          1030,
          750,
          720,
          800,
          350,
          980,
          1600,
          1450,
          445,
          380,
          680,
          1600,
          630,
          1500,
          550,
          2500,
          2800,
          300,
          800,
          1295,
          700,
          350,
          450,
          2200,
          2300,
          1150,
          800,
          850,
          720,
          4688,
          750,
          3901,
          950,
          1000,
          850,
          2400,
          1350,
          540,
          1387,
          540,
          976,
          1050,
          2700,
          1500,
          2900,
          5025,
          1000,
          1135,
          2306,
          850,
          1200,
          1700,
          1800,
          1100,
          22050,
          1550,
          1600,
          700,
          45,
          4500,
          1800,
          6000,
          4300,
          1700,
          2500,
          4500,
          2450,
          10350,
          4800,
          1600,
          3500,
          2100,
          4200,
          1500,
          8150,
          2200,
          3500,
          2070,
          3500,
          2000,
          2800,
          2550,
          4500,
          1400,
          2800,
          2700,
          4500,
          7200,
          3500,
          2200,
          2200,
          3500,
          1440,
          3150,
          900,
          3690,
          1200,
          4500,
          2799,
          1350,
          1200,
          2177,
          1500,
          1600,
          4500,
          2150,
          2107,
          1150,
          1240,
          1000,
          4500,
          1150,
          2000,
          4500,
          3000,
          1425,
          440,
          1017,
          650,
          950,
          810,
          750,
          990,
          800,
          675,
          558,
          445,
          360,
          1350,
          850,
          846,
          1300,
          900,
          1050,
          850,
          1650,
          1150,
          495.1394,
          1053,
          540,
          747,
          720,
          376.7365,
          1125,
          713,
          360,
          900,
          713,
          504,
          70,
          850,
          2430,
          2475,
          2970,
          2250,
          1500,
          1512,
          400,
          2160,
          630,
          324,
          720,
          675,
          700,
          675,
          720,
          850,
          990,
          420,
          450,
          1000,
          900,
          800,
          720,
          450,
          675,
          1700,
          550,
          387,
          450,
          900,
          500,
          441,
          800,
          450,
          1000,
          715,
          600,
          540,
          312,
          810,
          270,
          900,
          1000,
          950,
          1000,
          540,
          540,
          1000,
          500,
          540,
          780,
          450,
          360,
          900,
          495,
          1200,
          1000,
          620,
          680,
          805,
          729,
          540,
          360,
          550,
          1001,
          450,
          550,
          550,
          675,
          585,
          810,
          765,
          4688,
          3901,
          70,
          800,
          900,
          1680,
          900,
          2000,
          2000,
          1900,
          1530,
          100,
          900,
          270,
          950,
          1800,
          1500,
          1800,
          1800,
          2306,
          850,
          140,
          900,
          1800,
          200,
          1782,
          900,
          405,
          1500,
          66,
          2000,
          650,
          1100,
          1075,
          1450,
          1200,
          600,
          1000,
          1600,
          1750,
          1300,
          550,
          2200,
          1100,
          1700,
          1100,
          1000,
          1350,
          1184,
          2000,
          3500,
          900,
          4688,
          750,
          3901,
          950,
          1000,
          850,
          2400,
          1350,
          540,
          1387,
          540,
          976,
          1050,
          2700,
          1500,
          2900,
          5025,
          1000,
          1135,
          2306,
          850,
          1200,
          1700,
          1800,
          1100,
          22050,
          1550,
          1600,
          700,
          45,
          1750,
          2210,
          760,
          400,
          380,
          904.1676,
          900,
          810,
          100,
          50,
          58,
          900,
          1650,
          1000,
          852,
          700,
          990,
          450,
          1000,
          1700,
          1350,
          2100,
          2600,
          3000,
          1450,
          2050,
          3000,
          1800,
          900,
          1500,
          1500,
          1800,
          1674,
          2025,
          1300,
          990,
          2100,
          2250,
          1500,
          2700,
          1700,
          1700,
          2050,
          1800,
          1500,
          2000,
          1500,
          24300,
          2475,
          1500,
          2100,
          1800,
          1100,
          2035,
          1100,
          1550,
          700,
          150,
          540,
          810,
          3250,
          1600,
          4000,
          5500,
          900,
          972,
          4150,
          2250,
          1650,
          2610,
          600,
          1700,
          2250,
          880,
          4200,
          1450,
          2200,
          1800,
          780,
          405,
          900,
          807.2925,
          2700,
          1100,
          585,
          2152.78,
          960,
          1800,
          1100,
          900,
          1620,
          378,
          800,
          1350,
          850,
          1580,
          820,
          594,
          14220,
          800,
          1500,
          1000,
          1500,
          1700,
          1750,
          2700,
          3405,
          1500,
          2105,
          2500,
          2090,
          2525,
          2500,
          2100,
          2022,
          2650,
          1850,
          2100,
          1700,
          2105,
          1250,
          2552,
          3112,
          2125,
          2065,
          3405,
          3050,
          2300,
          1455,
          3400,
          3100,
          1400,
          2126,
          1815,
          1700,
          1600,
          1400,
          1400,
          2700,
          1100,
          1200,
          1400,
          1500,
          1320,
          1300,
          1150,
          1440,
          1400,
          450,
          1300,
          1200,
          1300,
          1400,
          1400,
          1800,
          1300,
          1150,
          1500,
          1150,
          450,
          1350,
          445,
          1200,
          50,
          1100,
          700,
          500,
          540,
          450,
          800,
          700,
          750,
          750,
          1600,
          1000,
          1600,
          900,
          1700,
          1100,
          1000,
          1000,
          1100,
          765,
          900,
          600,
          360,
          725,
          900,
          750,
          700,
          950,
          1600,
          900,
          1500,
          500,
          1035,
          825,
          1300,
          765,
          580,
          1750,
          850,
          800,
          405,
          1350,
          1350,
          450,
          1300,
          1050,
          1675,
          1250,
          1080,
          1170,
          1250,
          1500,
          1350,
          855,
          540,
          1044.0983,
          405,
          500,
          450,
          405,
          405,
          450,
          173,
          1100,
          600,
          770,
          810,
          710,
          950,
          450,
          500,
          600,
          420,
          900,
          945,
          565,
          450,
          430,
          550,
          810,
          720,
          360,
          820,
          459,
          450,
          900,
          360,
          559.7228,
          350,
          365,
          390,
          350,
          210,
          50,
          500,
          350,
          379,
          236.8058,
          445,
          452.0838,
          350,
          437,
          61,
          495,
          900,
          350,
          585,
          198,
          4900,
          2077.4327,
          50,
          990,
          425,
          3000,
          850,
          750,
          2600,
          800,
          550,
          700,
          2316,
          900,
          100,
          900,
          1500,
          650,
          2000,
          500,
          1125,
          1300,
          2500,
          2200,
          1290,
          2250,
          1350,
          1400,
          1700,
          900,
          400,
          900,
          1000,
          405,
          1700,
          800,
          1076.39,
          750,
          460,
          370,
          1800,
          1080,
          350,
          500,
          900,
          800,
          350,
          430.556,
          500,
          1450,
          800,
          1000,
          1000,
          1600,
          1450,
          1450,
          1150,
          780,
          1300,
          1350,
          1200,
          1460,
          1460,
          1100,
          1500,
          1050,
          1350,
          1500,
          976,
          540,
          450,
          900,
          2500,
          979.5149,
          945,
          976,
          1531,
          1000,
          750,
          900,
          1512,
          35,
          1500,
          2907,
          2210,
          750,
          2518.7526,
          588,
          540,
          1100,
          550,
          750,
          1260,
          675,
          810,
          3150,
          2000,
          1775,
          1135,
          1252,
          2000,
          530,
          1332,
          1017,
          1775,
          987,
          1912,
          5236,
          2805,
          1500,
          1280,
          1775,
          675,
          576,
          1206,
          1143,
          345,
          720,
          468,
          1600,
          950,
          535,
          1200,
          1501,
          1135,
          1200,
          2200,
          2800,
          1646,
          900,
          1250,
          900,
          1590,
          990,
          2282,
          1260,
          1457,
          1400,
          2175,
          1450,
          2800,
          861.112,
          2282,
          1753,
          2659,
          1550,
          1470,
          702,
          1138,
          1800,
          600,
          1250,
          600,
          1600,
          1100,
          450,
          855,
          1291.668,
          1300,
          1350,
          900,
          850,
          1650,
          650,
          630,
          1250,
          1800,
          1500,
          1100,
          1400,
          1300,
          1100,
          1600,
          2572,
          2100,
          1620,
          2500,
          2250,
          2445,
          2250,
          800,
          1450,
          1440,
          5220,
          1800,
          4455,
          195,
          807.2925,
          3500,
          1000,
          900,
          1800,
          17010,
          2340,
          1350,
          464,
          954,
          1155,
          1600,
          1400,
          1400,
          2700,
          1100,
          1200,
          1400,
          1500,
          1320,
          1300,
          1150,
          1440,
          1400,
          450,
          1300,
          1200,
          1300,
          1400,
          1400,
          800,
          1150,
          900,
          1070,
          1050,
          1000,
          1550,
          1300,
          810,
          900,
          1200,
          1000,
          720,
          1800,
          6000,
          1800,
          2000,
          2066,
          2050,
          1100,
          4500,
          4500,
          6500,
          4350,
          1750,
          3600,
          1200,
          1500,
          2250,
          1800,
          1600,
          2800,
          1700,
          2400,
          1980,
          2100,
          5400,
          1250,
          2300,
          2700,
          1450,
          1600,
          2600,
          1700,
          1116,
          1070,
          1200,
          1200,
          1200,
          1450,
          1000,
          2430,
          945,
          1650,
          1350,
          2625,
          1800,
          125,
          1440,
          1900,
          1800,
          1200,
          1800,
          1200,
          4118,
          1050,
          875,
          990,
          11050
         ],
         "xaxis": "x",
         "y": [
          5000000,
          15500000,
          4200000,
          6200000,
          15500000,
          10000000,
          4000000,
          6800000,
          15000000,
          6200000,
          7700000,
          5500000,
          5000000,
          3310000,
          4700000,
          4500000,
          17000000,
          25000000,
          6000000,
          11000000,
          4500000,
          5300000,
          10500000,
          12000000,
          7000000,
          7000000,
          3400000,
          5000000,
          21000000,
          13000000,
          22000000,
          15800000,
          57500000,
          10000000,
          30000000,
          22000000,
          24000000,
          31500000,
          14600000,
          240000000,
          8300000,
          22500000,
          1900000,
          5130000,
          5890000,
          3700000,
          17400000,
          15500000,
          2400000,
          17200000,
          14200000,
          13500000,
          30000000,
          21000000,
          20500000,
          24000000,
          16500000,
          14900000,
          19200000,
          14500000,
          15600000,
          11400000,
          31500000,
          15800000,
          16000000,
          14500000,
          10500000,
          14800000,
          1850000,
          6800000,
          14200000,
          40000000,
          46000000,
          55000000,
          24500000,
          24500000,
          32500000,
          20000000,
          240000000,
          20000000,
          19000000,
          26000000,
          21000000,
          27500000,
          32500000,
          45000000,
          21000000,
          28000000,
          29500000,
          12500000,
          26000000,
          11500000,
          14600000,
          25500000,
          31000000,
          22000000,
          13400000,
          35000000,
          11000000,
          6300000,
          12500000,
          14500000,
          22500000,
          15500000,
          26000000,
          15800000,
          15000000,
          13000000,
          15000000,
          25000000,
          16500000,
          10300000,
          26000000,
          11000000,
          28500000,
          11000000,
          3600000,
          4300000,
          4000000,
          1650000,
          2000000,
          3000000,
          1400000,
          2000000,
          2000000,
          2000000,
          2600000,
          5100000,
          6000000,
          4000000,
          6200000,
          3500000,
          7600000,
          13500000,
          12500000,
          6500000,
          22000000,
          6000000,
          7300000,
          7600000,
          20000000,
          15000000,
          6200000,
          6200000,
          5000000,
          4700000,
          5500000,
          2000000,
          7300000,
          13000000,
          11500000,
          2800000,
          2200000,
          4400000,
          13500000,
          4100000,
          12000000,
          3500000,
          15000000,
          17500000,
          1900000,
          5500000,
          10000000,
          4700000,
          2400000,
          3800000,
          23000000,
          24500000,
          10000000,
          5500000,
          7000000,
          6500000,
          135000000,
          5000000,
          93000000,
          4370000,
          4620000,
          1900000,
          70000000,
          5130000,
          3000000,
          5890000,
          3300000,
          24900000,
          3700000,
          60000000,
          17400000,
          51000000,
          170000000,
          5510000,
          25000000,
          57000000,
          2940000,
          15500000,
          17200000,
          55000000,
          15000000,
          51000000,
          13000000,
          30000000,
          2400000,
          5500000,
          60000000,
          65000000,
          220000000,
          60000000,
          38500000,
          50000000,
          75000000,
          70000000,
          160000000,
          85000000,
          40000000,
          90000000,
          56000000,
          135500000,
          60000000,
          170000000,
          50000000,
          58000000,
          37500000,
          45000000,
          70000000,
          29500000,
          60000000,
          70000000,
          50000000,
          75000000,
          52500000,
          55000000,
          120000000,
          70000000,
          47500000,
          40000000,
          85000000,
          26000000,
          35000000,
          20000000,
          79000000,
          17000000,
          47500000,
          43000000,
          26000000,
          25000000,
          51000000,
          40000000,
          22500000,
          70000000,
          45000000,
          51100000,
          25500000,
          26500000,
          15000000,
          55000000,
          26000000,
          38000000,
          72500000,
          65000000,
          9300000,
          2700000,
          6500000,
          5800000,
          5500000,
          6000000,
          4500000,
          4100000,
          3800000,
          3300000,
          2900000,
          2000000,
          1550000,
          11300000,
          4500000,
          3300000,
          11500000,
          6000000,
          9000000,
          4500000,
          14000000,
          7300000,
          1900000,
          7000000,
          2700000,
          6500000,
          4000000,
          3000000,
          5000000,
          6000000,
          2500000,
          6500000,
          8000000,
          2700000,
          4500000,
          5700000,
          25000000,
          70000000,
          26500000,
          18500000,
          30000000,
          22000000,
          9000000,
          65000000,
          22500000,
          8700000,
          22000000,
          18500000,
          16000000,
          16000000,
          9000000,
          4500000,
          4000000,
          2600000,
          3500000,
          7500000,
          7000000,
          4500000,
          5500000,
          2700000,
          2400000,
          11500000,
          3600000,
          1700000,
          2500000,
          6600000,
          3700000,
          3500000,
          5400000,
          2550000,
          12500000,
          5600000,
          7000000,
          3500000,
          35000000,
          9000000,
          2300000,
          6000000,
          6000000,
          4370000,
          4620000,
          3000000,
          3300000,
          5510000,
          3200000,
          2600000,
          4000000,
          1850000,
          1700000,
          2800000,
          2150000,
          6800000,
          6200000,
          3100000,
          3400000,
          4000000,
          4800000,
          2500000,
          2000000,
          1900000,
          5800000,
          2900000,
          2000000,
          2600000,
          2900000,
          3200000,
          5400000,
          3800000,
          135000000,
          93000000,
          8200000,
          8000000,
          9500000,
          20000000,
          7400000,
          37500000,
          15000000,
          55300000,
          26500000,
          16000000,
          10400000,
          1700000,
          8000000,
          27000000,
          19500000,
          50000000,
          21100000,
          57000000,
          5900000,
          12000000,
          12000000,
          24000000,
          7000000,
          15000000,
          1500000,
          3950000,
          12500000,
          1600000,
          31000000,
          7400000,
          15500000,
          12000000,
          23500000,
          25000000,
          7000000,
          17500000,
          25000000,
          29000000,
          21900000,
          7500000,
          23500000,
          24000000,
          31000000,
          16500000,
          5000000,
          24000000,
          17000000,
          40000000,
          22500000,
          20000000,
          135000000,
          5000000,
          93000000,
          4370000,
          4620000,
          1900000,
          70000000,
          5130000,
          3000000,
          5890000,
          3300000,
          24900000,
          3700000,
          60000000,
          17400000,
          51000000,
          170000000,
          5510000,
          25000000,
          57000000,
          2940000,
          15500000,
          17200000,
          55000000,
          15000000,
          51000000,
          13000000,
          30000000,
          2400000,
          5500000,
          29000000,
          41000000,
          6000000,
          2500000,
          2200000,
          21500000,
          15000000,
          28900000,
          5500000,
          1950000,
          3800000,
          6200000,
          14000000,
          7500000,
          2670000,
          2500000,
          4000000,
          3500000,
          5000000,
          29500000,
          19000000,
          25500000,
          75000000,
          75000000,
          34000000,
          47500000,
          75000000,
          23000000,
          24000000,
          21500000,
          28500000,
          12500000,
          45000000,
          30500000,
          22500000,
          28000000,
          25000000,
          33700000,
          27000000,
          43500000,
          29000000,
          30000000,
          52100000,
          32500000,
          20500000,
          25000000,
          30000000,
          51000000,
          31000000,
          37500000,
          55000000,
          87500000,
          16300000,
          65000000,
          25000000,
          38000000,
          15000000,
          2000000,
          3000000,
          8500000,
          55000000,
          22500000,
          72500000,
          160000000,
          12500000,
          17000000,
          82500000,
          55000000,
          35000000,
          42500000,
          4700000,
          52500000,
          80000000,
          11000000,
          74000000,
          37500000,
          52500000,
          26500000,
          8770000,
          4500000,
          8500000,
          8600000,
          42500000,
          13100000,
          7000000,
          30000000,
          13000000,
          23100000,
          16000000,
          12500000,
          24500000,
          3200000,
          6300000,
          15000000,
          5700000,
          21000000,
          7500000,
          6500000,
          27500000,
          12000000,
          18000000,
          10700000,
          16200000,
          16500000,
          14900000,
          27500000,
          70000000,
          35500000,
          42100000,
          42500000,
          44000000,
          43200000,
          52500000,
          34300000,
          38000000,
          52500000,
          37500000,
          37000000,
          40000000,
          36200000,
          29000000,
          42500000,
          60000000,
          36500000,
          42500000,
          71500000,
          65000000,
          58000000,
          27500000,
          70000000,
          65000000,
          28600000,
          39000000,
          32500000,
          34000000,
          20000000,
          18000000,
          19000000,
          36500000,
          15000000,
          17500000,
          14000000,
          21000000,
          15600000,
          19000000,
          16500000,
          19000000,
          16500000,
          3000000,
          15000000,
          14300000,
          18500000,
          19000000,
          19000000,
          12000000,
          20000000,
          13500000,
          14000000,
          10800000,
          2350000,
          8500000,
          1650000,
          10000000,
          1500000,
          2800000,
          2600000,
          2350000,
          2350000,
          2000000,
          5000000,
          3500000,
          4500000,
          4000000,
          10800000,
          10000000,
          10800000,
          9000000,
          8500000,
          6000000,
          5500000,
          7000000,
          6000000,
          3700000,
          3100000,
          4500000,
          1500000,
          3000000,
          4900000,
          3500000,
          3000000,
          7020000,
          60000000,
          3500000,
          7000000,
          7000000,
          4500000,
          5990000,
          4400000,
          2500000,
          1600000,
          6500000,
          2800000,
          4500000,
          1800000,
          8500000,
          8500000,
          1700000,
          7000000,
          5600000,
          13500000,
          8500000,
          6000000,
          7200000,
          6500000,
          8400000,
          8500000,
          4000000,
          1700000,
          6000000,
          1600000,
          2100000,
          1700000,
          1500000,
          1200000,
          1650000,
          3500000,
          8500000,
          3200000,
          3790000,
          4200000,
          2900000,
          5000000,
          2100000,
          3200000,
          3000000,
          2300000,
          5900000,
          5500000,
          3500000,
          1700000,
          1850000,
          2300000,
          3800000,
          4500000,
          2200000,
          5200000,
          2200000,
          2200000,
          3800000,
          1800000,
          2850000,
          2500000,
          3500000,
          2000000,
          3000000,
          2000000,
          3500000,
          1800000,
          1600000,
          1600000,
          2000000,
          1500000,
          3000000,
          1490000,
          3500000,
          4000000,
          1750000,
          4600000,
          1800000,
          1900000,
          1000000,
          1000000,
          1000000,
          3500000,
          5000000,
          2200000,
          67000000,
          8500000,
          11500000,
          52500000,
          12000000,
          10700000,
          9000000,
          100000000,
          6200000,
          17000000,
          12500000,
          13000000,
          4200000,
          36000000,
          2300000,
          8100000,
          10000000,
          62500000,
          65000000,
          20000000,
          57500000,
          30000000,
          30000000,
          30000000,
          6900000,
          3600000,
          13500000,
          9200000,
          2500000,
          17000000,
          9030000,
          9300000,
          6500000,
          3300000,
          2400000,
          15000000,
          7000000,
          4200000,
          5800000,
          4800000,
          7500000,
          3000000,
          4300000,
          2600000,
          7000000,
          6000000,
          6700000,
          9500000,
          17000000,
          14000000,
          11600000,
          12000000,
          7500000,
          9800000,
          12000000,
          12500000,
          16500000,
          12000000,
          7200000,
          15000000,
          10000000,
          11000000,
          24700000,
          24900000,
          3600000,
          1700000,
          11000000,
          75000000,
          24800000,
          24900000,
          24900000,
          25900000,
          11700000,
          13500000,
          5500000,
          30000000,
          4950000,
          16000000,
          30000000,
          41000000,
          3800000,
          68900000,
          1800000,
          1500000,
          12500000,
          1600000,
          2400000,
          7000000,
          3100000,
          14500000,
          61500000,
          27500000,
          25500000,
          25000000,
          18500000,
          39700000,
          6800000,
          6540000,
          22000000,
          25500000,
          17000000,
          27500000,
          73700000,
          52300000,
          16000000,
          15000000,
          25500000,
          10000000,
          5000000,
          20000000,
          16000000,
          5500000,
          7000000,
          4100000,
          24000000,
          12500000,
          3900000,
          14500000,
          20000000,
          24500000,
          20900000,
          43100000,
          40000000,
          20000000,
          6700000,
          16000000,
          8000000,
          25000000,
          25000000,
          37500000,
          25000000,
          23000000,
          17500000,
          44000000,
          15000000,
          42500000,
          5000000,
          38000000,
          19000000,
          43500000,
          19500000,
          14200000,
          14200000,
          13500000,
          19000000,
          7000000,
          5800000,
          8000000,
          18800000,
          6000000,
          2200000,
          6500000,
          23500000,
          16000000,
          20000000,
          5500000,
          13500000,
          22500000,
          3800000,
          4600000,
          17500000,
          5500000,
          22500000,
          12500000,
          19000000,
          15500000,
          13500000,
          21000000,
          35000000,
          25000000,
          29000000,
          80000000,
          20500000,
          52500000,
          37500000,
          7500000,
          32500000,
          24500000,
          65000000,
          27500000,
          115000000,
          28000000,
          8000000,
          75100000,
          7800000,
          15000000,
          27500000,
          25000000,
          26000000,
          23500000,
          4200000,
          10000000,
          18500000,
          20000000,
          18000000,
          19000000,
          36500000,
          15000000,
          17500000,
          14000000,
          21000000,
          15600000,
          19000000,
          16500000,
          19000000,
          16500000,
          3000000,
          15000000,
          14300000,
          18500000,
          19000000,
          19000000,
          8000000,
          16100000,
          6800000,
          6800000,
          9000000,
          18000000,
          27500000,
          13500000,
          14000000,
          9000000,
          16000000,
          11000000,
          5500000,
          43500000,
          180000000,
          80000000,
          37500000,
          60000000,
          71000000,
          18500000,
          70000000,
          85000000,
          190000000,
          135000000,
          35000000,
          65000000,
          27500000,
          45000000,
          100000000,
          47000000,
          27500000,
          70000000,
          36500000,
          65000000,
          35000000,
          56000000,
          110000000,
          24000000,
          102500000,
          100000000,
          45000000,
          33500000,
          62500000,
          47500000,
          14700000,
          18000000,
          22500000,
          22000000,
          22200000,
          22500000,
          7500000,
          30000000,
          6500000,
          35000000,
          17500000,
          60000000,
          40000000,
          11500000,
          22500000,
          28500000,
          29000000,
          15500000,
          26000000,
          16500000,
          55000000,
          12500000,
          17500000,
          11500000,
          18500000
         ],
         "yaxis": "y"
        }
       ],
       "layout": {
        "bargap": 0.3,
        "bargroupgap": 0,
        "barmode": "group",
        "height": 420,
        "legend": {
         "tracegroupgap": 0
        },
        "template": {
         "data": {
          "bar": [
           {
            "error_x": {
             "color": "#2a3f5f"
            },
            "error_y": {
             "color": "#2a3f5f"
            },
            "marker": {
             "line": {
              "color": "#E5ECF6",
              "width": 0.5
             }
            },
            "type": "bar"
           }
          ],
          "barpolar": [
           {
            "marker": {
             "line": {
              "color": "#E5ECF6",
              "width": 0.5
             }
            },
            "type": "barpolar"
           }
          ],
          "carpet": [
           {
            "aaxis": {
             "endlinecolor": "#2a3f5f",
             "gridcolor": "white",
             "linecolor": "white",
             "minorgridcolor": "white",
             "startlinecolor": "#2a3f5f"
            },
            "baxis": {
             "endlinecolor": "#2a3f5f",
             "gridcolor": "white",
             "linecolor": "white",
             "minorgridcolor": "white",
             "startlinecolor": "#2a3f5f"
            },
            "type": "carpet"
           }
          ],
          "choropleth": [
           {
            "colorbar": {
             "outlinewidth": 0,
             "ticks": ""
            },
            "type": "choropleth"
           }
          ],
          "contour": [
           {
            "colorbar": {
             "outlinewidth": 0,
             "ticks": ""
            },
            "colorscale": [
             [
              0,
              "#0d0887"
             ],
             [
              0.1111111111111111,
              "#46039f"
             ],
             [
              0.2222222222222222,
              "#7201a8"
             ],
             [
              0.3333333333333333,
              "#9c179e"
             ],
             [
              0.4444444444444444,
              "#bd3786"
             ],
             [
              0.5555555555555556,
              "#d8576b"
             ],
             [
              0.6666666666666666,
              "#ed7953"
             ],
             [
              0.7777777777777778,
              "#fb9f3a"
             ],
             [
              0.8888888888888888,
              "#fdca26"
             ],
             [
              1,
              "#f0f921"
             ]
            ],
            "type": "contour"
           }
          ],
          "contourcarpet": [
           {
            "colorbar": {
             "outlinewidth": 0,
             "ticks": ""
            },
            "type": "contourcarpet"
           }
          ],
          "heatmap": [
           {
            "colorbar": {
             "outlinewidth": 0,
             "ticks": ""
            },
            "colorscale": [
             [
              0,
              "#0d0887"
             ],
             [
              0.1111111111111111,
              "#46039f"
             ],
             [
              0.2222222222222222,
              "#7201a8"
             ],
             [
              0.3333333333333333,
              "#9c179e"
             ],
             [
              0.4444444444444444,
              "#bd3786"
             ],
             [
              0.5555555555555556,
              "#d8576b"
             ],
             [
              0.6666666666666666,
              "#ed7953"
             ],
             [
              0.7777777777777778,
              "#fb9f3a"
             ],
             [
              0.8888888888888888,
              "#fdca26"
             ],
             [
              1,
              "#f0f921"
             ]
            ],
            "type": "heatmap"
           }
          ],
          "heatmapgl": [
           {
            "colorbar": {
             "outlinewidth": 0,
             "ticks": ""
            },
            "colorscale": [
             [
              0,
              "#0d0887"
             ],
             [
              0.1111111111111111,
              "#46039f"
             ],
             [
              0.2222222222222222,
              "#7201a8"
             ],
             [
              0.3333333333333333,
              "#9c179e"
             ],
             [
              0.4444444444444444,
              "#bd3786"
             ],
             [
              0.5555555555555556,
              "#d8576b"
             ],
             [
              0.6666666666666666,
              "#ed7953"
             ],
             [
              0.7777777777777778,
              "#fb9f3a"
             ],
             [
              0.8888888888888888,
              "#fdca26"
             ],
             [
              1,
              "#f0f921"
             ]
            ],
            "type": "heatmapgl"
           }
          ],
          "histogram": [
           {
            "marker": {
             "colorbar": {
              "outlinewidth": 0,
              "ticks": ""
             }
            },
            "type": "histogram"
           }
          ],
          "histogram2d": [
           {
            "colorbar": {
             "outlinewidth": 0,
             "ticks": ""
            },
            "colorscale": [
             [
              0,
              "#0d0887"
             ],
             [
              0.1111111111111111,
              "#46039f"
             ],
             [
              0.2222222222222222,
              "#7201a8"
             ],
             [
              0.3333333333333333,
              "#9c179e"
             ],
             [
              0.4444444444444444,
              "#bd3786"
             ],
             [
              0.5555555555555556,
              "#d8576b"
             ],
             [
              0.6666666666666666,
              "#ed7953"
             ],
             [
              0.7777777777777778,
              "#fb9f3a"
             ],
             [
              0.8888888888888888,
              "#fdca26"
             ],
             [
              1,
              "#f0f921"
             ]
            ],
            "type": "histogram2d"
           }
          ],
          "histogram2dcontour": [
           {
            "colorbar": {
             "outlinewidth": 0,
             "ticks": ""
            },
            "colorscale": [
             [
              0,
              "#0d0887"
             ],
             [
              0.1111111111111111,
              "#46039f"
             ],
             [
              0.2222222222222222,
              "#7201a8"
             ],
             [
              0.3333333333333333,
              "#9c179e"
             ],
             [
              0.4444444444444444,
              "#bd3786"
             ],
             [
              0.5555555555555556,
              "#d8576b"
             ],
             [
              0.6666666666666666,
              "#ed7953"
             ],
             [
              0.7777777777777778,
              "#fb9f3a"
             ],
             [
              0.8888888888888888,
              "#fdca26"
             ],
             [
              1,
              "#f0f921"
             ]
            ],
            "type": "histogram2dcontour"
           }
          ],
          "mesh3d": [
           {
            "colorbar": {
             "outlinewidth": 0,
             "ticks": ""
            },
            "type": "mesh3d"
           }
          ],
          "parcoords": [
           {
            "line": {
             "colorbar": {
              "outlinewidth": 0,
              "ticks": ""
             }
            },
            "type": "parcoords"
           }
          ],
          "pie": [
           {
            "automargin": true,
            "type": "pie"
           }
          ],
          "scatter": [
           {
            "marker": {
             "colorbar": {
              "outlinewidth": 0,
              "ticks": ""
             }
            },
            "type": "scatter"
           }
          ],
          "scatter3d": [
           {
            "line": {
             "colorbar": {
              "outlinewidth": 0,
              "ticks": ""
             }
            },
            "marker": {
             "colorbar": {
              "outlinewidth": 0,
              "ticks": ""
             }
            },
            "type": "scatter3d"
           }
          ],
          "scattercarpet": [
           {
            "marker": {
             "colorbar": {
              "outlinewidth": 0,
              "ticks": ""
             }
            },
            "type": "scattercarpet"
           }
          ],
          "scattergeo": [
           {
            "marker": {
             "colorbar": {
              "outlinewidth": 0,
              "ticks": ""
             }
            },
            "type": "scattergeo"
           }
          ],
          "scattergl": [
           {
            "marker": {
             "colorbar": {
              "outlinewidth": 0,
              "ticks": ""
             }
            },
            "type": "scattergl"
           }
          ],
          "scattermapbox": [
           {
            "marker": {
             "colorbar": {
              "outlinewidth": 0,
              "ticks": ""
             }
            },
            "type": "scattermapbox"
           }
          ],
          "scatterpolar": [
           {
            "marker": {
             "colorbar": {
              "outlinewidth": 0,
              "ticks": ""
             }
            },
            "type": "scatterpolar"
           }
          ],
          "scatterpolargl": [
           {
            "marker": {
             "colorbar": {
              "outlinewidth": 0,
              "ticks": ""
             }
            },
            "type": "scatterpolargl"
           }
          ],
          "scatterternary": [
           {
            "marker": {
             "colorbar": {
              "outlinewidth": 0,
              "ticks": ""
             }
            },
            "type": "scatterternary"
           }
          ],
          "surface": [
           {
            "colorbar": {
             "outlinewidth": 0,
             "ticks": ""
            },
            "colorscale": [
             [
              0,
              "#0d0887"
             ],
             [
              0.1111111111111111,
              "#46039f"
             ],
             [
              0.2222222222222222,
              "#7201a8"
             ],
             [
              0.3333333333333333,
              "#9c179e"
             ],
             [
              0.4444444444444444,
              "#bd3786"
             ],
             [
              0.5555555555555556,
              "#d8576b"
             ],
             [
              0.6666666666666666,
              "#ed7953"
             ],
             [
              0.7777777777777778,
              "#fb9f3a"
             ],
             [
              0.8888888888888888,
              "#fdca26"
             ],
             [
              1,
              "#f0f921"
             ]
            ],
            "type": "surface"
           }
          ],
          "table": [
           {
            "cells": {
             "fill": {
              "color": "#EBF0F8"
             },
             "line": {
              "color": "white"
             }
            },
            "header": {
             "fill": {
              "color": "#C8D4E3"
             },
             "line": {
              "color": "white"
             }
            },
            "type": "table"
           }
          ]
         },
         "layout": {
          "annotationdefaults": {
           "arrowcolor": "#2a3f5f",
           "arrowhead": 0,
           "arrowwidth": 1
          },
          "autotypenumbers": "strict",
          "coloraxis": {
           "colorbar": {
            "outlinewidth": 0,
            "ticks": ""
           }
          },
          "colorscale": {
           "diverging": [
            [
             0,
             "#8e0152"
            ],
            [
             0.1,
             "#c51b7d"
            ],
            [
             0.2,
             "#de77ae"
            ],
            [
             0.3,
             "#f1b6da"
            ],
            [
             0.4,
             "#fde0ef"
            ],
            [
             0.5,
             "#f7f7f7"
            ],
            [
             0.6,
             "#e6f5d0"
            ],
            [
             0.7,
             "#b8e186"
            ],
            [
             0.8,
             "#7fbc41"
            ],
            [
             0.9,
             "#4d9221"
            ],
            [
             1,
             "#276419"
            ]
           ],
           "sequential": [
            [
             0,
             "#0d0887"
            ],
            [
             0.1111111111111111,
             "#46039f"
            ],
            [
             0.2222222222222222,
             "#7201a8"
            ],
            [
             0.3333333333333333,
             "#9c179e"
            ],
            [
             0.4444444444444444,
             "#bd3786"
            ],
            [
             0.5555555555555556,
             "#d8576b"
            ],
            [
             0.6666666666666666,
             "#ed7953"
            ],
            [
             0.7777777777777778,
             "#fb9f3a"
            ],
            [
             0.8888888888888888,
             "#fdca26"
            ],
            [
             1,
             "#f0f921"
            ]
           ],
           "sequentialminus": [
            [
             0,
             "#0d0887"
            ],
            [
             0.1111111111111111,
             "#46039f"
            ],
            [
             0.2222222222222222,
             "#7201a8"
            ],
            [
             0.3333333333333333,
             "#9c179e"
            ],
            [
             0.4444444444444444,
             "#bd3786"
            ],
            [
             0.5555555555555556,
             "#d8576b"
            ],
            [
             0.6666666666666666,
             "#ed7953"
            ],
            [
             0.7777777777777778,
             "#fb9f3a"
            ],
            [
             0.8888888888888888,
             "#fdca26"
            ],
            [
             1,
             "#f0f921"
            ]
           ]
          },
          "colorway": [
           "#636efa",
           "#EF553B",
           "#00cc96",
           "#ab63fa",
           "#FFA15A",
           "#19d3f3",
           "#FF6692",
           "#B6E880",
           "#FF97FF",
           "#FECB52"
          ],
          "font": {
           "color": "#2a3f5f"
          },
          "geo": {
           "bgcolor": "white",
           "lakecolor": "white",
           "landcolor": "#E5ECF6",
           "showlakes": true,
           "showland": true,
           "subunitcolor": "white"
          },
          "hoverlabel": {
           "align": "left"
          },
          "hovermode": "closest",
          "mapbox": {
           "style": "light"
          },
          "paper_bgcolor": "white",
          "plot_bgcolor": "#E5ECF6",
          "polar": {
           "angularaxis": {
            "gridcolor": "white",
            "linecolor": "white",
            "ticks": ""
           },
           "bgcolor": "#E5ECF6",
           "radialaxis": {
            "gridcolor": "white",
            "linecolor": "white",
            "ticks": ""
           }
          },
          "scene": {
           "xaxis": {
            "backgroundcolor": "#E5ECF6",
            "gridcolor": "white",
            "gridwidth": 2,
            "linecolor": "white",
            "showbackground": true,
            "ticks": "",
            "zerolinecolor": "white"
           },
           "yaxis": {
            "backgroundcolor": "#E5ECF6",
            "gridcolor": "white",
            "gridwidth": 2,
            "linecolor": "white",
            "showbackground": true,
            "ticks": "",
            "zerolinecolor": "white"
           },
           "zaxis": {
            "backgroundcolor": "#E5ECF6",
            "gridcolor": "white",
            "gridwidth": 2,
            "linecolor": "white",
            "showbackground": true,
            "ticks": "",
            "zerolinecolor": "white"
           }
          },
          "shapedefaults": {
           "line": {
            "color": "#2a3f5f"
           }
          },
          "ternary": {
           "aaxis": {
            "gridcolor": "white",
            "linecolor": "white",
            "ticks": ""
           },
           "baxis": {
            "gridcolor": "white",
            "linecolor": "white",
            "ticks": ""
           },
           "bgcolor": "#E5ECF6",
           "caxis": {
            "gridcolor": "white",
            "linecolor": "white",
            "ticks": ""
           }
          },
          "title": {
           "x": 0.05
          },
          "xaxis": {
           "automargin": true,
           "gridcolor": "white",
           "linecolor": "white",
           "ticks": "",
           "title": {
            "standoff": 15
           },
           "zerolinecolor": "white",
           "zerolinewidth": 2
          },
          "yaxis": {
           "automargin": true,
           "gridcolor": "white",
           "linecolor": "white",
           "ticks": "",
           "title": {
            "standoff": 15
           },
           "zerolinecolor": "white",
           "zerolinewidth": 2
          }
         }
        },
        "title": {
         "text": "Area vs Price"
        },
        "width": 1080,
        "xaxis": {
         "anchor": "y",
         "domain": [
          0,
          1
         ],
         "title": {
          "text": "Area in Sqft"
         }
        },
        "yaxis": {
         "anchor": "x",
         "domain": [
          0,
          1
         ],
         "title": {
          "text": "sum of Price"
         }
        }
       }
      }
     },
     "metadata": {}
    }
   ],
   "source": [
    "# Area of a property VS Price distribution\n",
    "fig = px.histogram(df1,x='Area',y='Price',\n",
    "                    title='Area vs Price',\n",
    "                    opacity=0.8,\n",
    "                    color_discrete_sequence=['indianred'],\n",
    "                    labels={'Area':'Area in Sqft', 'Price':'Price'})\n",
    "fig.update_layout(barmode='group', bargap=0.30,bargroupgap=0.0,height=420,width=1080)\n",
    "fig.show()\n"
   ]
  },
  {
   "cell_type": "code",
   "execution_count": 17,
   "metadata": {},
   "outputs": [
    {
     "output_type": "display_data",
     "data": {
      "application/vnd.plotly.v1+json": {
       "config": {
        "plotlyServerURL": "https://plot.ly"
       },
       "data": [
        {
         "alignmentgroup": "True",
         "bingroup": "x",
         "hovertemplate": "Type of House=%{x}<br>count=%{y}<extra></extra>",
         "legendgroup": "Apartment",
         "marker": {
          "color": "#636efa",
          "opacity": 0.8
         },
         "name": "Apartment",
         "offsetgroup": "Apartment",
         "orientation": "v",
         "showlegend": true,
         "type": "histogram",
         "x": [
          "Apartment",
          "Apartment",
          "Apartment",
          "Apartment",
          "Apartment",
          "Apartment",
          "Apartment",
          "Apartment",
          "Apartment",
          "Apartment",
          "Apartment",
          "Apartment",
          "Apartment",
          "Apartment",
          "Apartment",
          "Apartment",
          "Apartment",
          "Apartment",
          "Apartment",
          "Apartment",
          "Apartment",
          "Apartment",
          "Apartment",
          "Apartment",
          "Apartment",
          "Apartment",
          "Apartment",
          "Apartment",
          "Apartment",
          "Apartment",
          "Apartment",
          "Apartment",
          "Apartment",
          "Apartment",
          "Apartment",
          "Apartment",
          "Apartment",
          "Apartment",
          "Apartment",
          "Apartment",
          "Apartment",
          "Apartment",
          "Apartment",
          "Apartment",
          "Apartment",
          "Apartment",
          "Apartment",
          "Apartment",
          "Apartment",
          "Apartment",
          "Apartment",
          "Apartment",
          "Apartment",
          "Apartment",
          "Apartment",
          "Apartment",
          "Apartment",
          "Apartment",
          "Apartment",
          "Apartment",
          "Apartment",
          "Apartment",
          "Apartment",
          "Apartment",
          "Apartment",
          "Apartment",
          "Apartment",
          "Apartment",
          "Apartment",
          "Apartment",
          "Apartment",
          "Apartment",
          "Apartment",
          "Apartment",
          "Apartment",
          "Apartment",
          "Apartment",
          "Apartment",
          "Apartment",
          "Apartment",
          "Apartment",
          "Apartment",
          "Apartment",
          "Apartment",
          "Apartment",
          "Apartment",
          "Apartment",
          "Apartment",
          "Apartment",
          "Apartment",
          "Apartment",
          "Apartment",
          "Apartment",
          "Apartment",
          "Apartment",
          "Apartment",
          "Apartment",
          "Apartment",
          "Apartment",
          "Apartment",
          "Apartment",
          "Apartment",
          "Apartment",
          "Apartment",
          "Apartment",
          "Apartment",
          "Apartment",
          "Apartment",
          "Apartment",
          "Apartment",
          "Apartment",
          "Apartment",
          "Apartment",
          "Apartment",
          "Apartment",
          "Apartment",
          "Apartment",
          "Apartment",
          "Apartment",
          "Apartment",
          "Apartment",
          "Apartment",
          "Apartment",
          "Apartment",
          "Apartment",
          "Apartment",
          "Apartment",
          "Apartment",
          "Apartment",
          "Apartment",
          "Apartment",
          "Apartment",
          "Apartment",
          "Apartment",
          "Apartment",
          "Apartment",
          "Apartment",
          "Apartment",
          "Apartment",
          "Apartment",
          "Apartment",
          "Apartment",
          "Apartment",
          "Apartment",
          "Apartment",
          "Apartment",
          "Apartment",
          "Apartment",
          "Apartment",
          "Apartment",
          "Apartment",
          "Apartment",
          "Apartment",
          "Apartment",
          "Apartment",
          "Apartment",
          "Apartment",
          "Apartment",
          "Apartment",
          "Apartment",
          "Apartment",
          "Apartment",
          "Apartment",
          "Apartment",
          "Apartment",
          "Apartment",
          "Apartment",
          "Apartment",
          "Apartment",
          "Apartment",
          "Apartment",
          "Apartment",
          "Apartment",
          "Apartment",
          "Apartment",
          "Apartment",
          "Apartment",
          "Apartment",
          "Apartment",
          "Apartment",
          "Apartment",
          "Apartment",
          "Apartment",
          "Apartment",
          "Apartment",
          "Apartment",
          "Apartment",
          "Apartment",
          "Apartment",
          "Apartment",
          "Apartment",
          "Apartment",
          "Apartment",
          "Apartment",
          "Apartment",
          "Apartment",
          "Apartment",
          "Apartment",
          "Apartment",
          "Apartment",
          "Apartment",
          "Apartment",
          "Apartment",
          "Apartment",
          "Apartment",
          "Apartment",
          "Apartment",
          "Apartment",
          "Apartment",
          "Apartment",
          "Apartment",
          "Apartment",
          "Apartment",
          "Apartment",
          "Apartment",
          "Apartment",
          "Apartment",
          "Apartment",
          "Apartment",
          "Apartment",
          "Apartment",
          "Apartment",
          "Apartment",
          "Apartment",
          "Apartment",
          "Apartment",
          "Apartment",
          "Apartment",
          "Apartment",
          "Apartment",
          "Apartment",
          "Apartment",
          "Apartment",
          "Apartment",
          "Apartment",
          "Apartment",
          "Apartment",
          "Apartment",
          "Apartment",
          "Apartment",
          "Apartment",
          "Apartment",
          "Apartment",
          "Apartment",
          "Apartment",
          "Apartment",
          "Apartment",
          "Apartment",
          "Apartment",
          "Apartment",
          "Apartment",
          "Apartment",
          "Apartment",
          "Apartment",
          "Apartment",
          "Apartment",
          "Apartment",
          "Apartment",
          "Apartment",
          "Apartment",
          "Apartment",
          "Apartment",
          "Apartment",
          "Apartment",
          "Apartment",
          "Apartment",
          "Apartment",
          "Apartment",
          "Apartment",
          "Apartment",
          "Apartment",
          "Apartment",
          "Apartment",
          "Apartment",
          "Apartment",
          "Apartment",
          "Apartment",
          "Apartment",
          "Apartment",
          "Apartment",
          "Apartment",
          "Apartment",
          "Apartment",
          "Apartment",
          "Apartment",
          "Apartment",
          "Apartment",
          "Apartment",
          "Apartment",
          "Apartment",
          "Apartment",
          "Apartment",
          "Apartment",
          "Apartment",
          "Apartment",
          "Apartment",
          "Apartment",
          "Apartment",
          "Apartment",
          "Apartment",
          "Apartment",
          "Apartment",
          "Apartment",
          "Apartment",
          "Apartment",
          "Apartment",
          "Apartment",
          "Apartment",
          "Apartment",
          "Apartment",
          "Apartment",
          "Apartment",
          "Apartment",
          "Apartment",
          "Apartment",
          "Apartment",
          "Apartment",
          "Apartment",
          "Apartment",
          "Apartment",
          "Apartment",
          "Apartment",
          "Apartment",
          "Apartment",
          "Apartment",
          "Apartment",
          "Apartment",
          "Apartment",
          "Apartment",
          "Apartment",
          "Apartment",
          "Apartment",
          "Apartment",
          "Apartment",
          "Apartment",
          "Apartment",
          "Apartment",
          "Apartment",
          "Apartment",
          "Apartment",
          "Apartment",
          "Apartment",
          "Apartment",
          "Apartment",
          "Apartment",
          "Apartment",
          "Apartment",
          "Apartment",
          "Apartment",
          "Apartment",
          "Apartment",
          "Apartment",
          "Apartment",
          "Apartment",
          "Apartment",
          "Apartment",
          "Apartment",
          "Apartment",
          "Apartment",
          "Apartment",
          "Apartment",
          "Apartment",
          "Apartment",
          "Apartment",
          "Apartment",
          "Apartment",
          "Apartment",
          "Apartment",
          "Apartment",
          "Apartment",
          "Apartment",
          "Apartment",
          "Apartment",
          "Apartment",
          "Apartment",
          "Apartment",
          "Apartment",
          "Apartment",
          "Apartment",
          "Apartment",
          "Apartment",
          "Apartment",
          "Apartment",
          "Apartment",
          "Apartment",
          "Apartment",
          "Apartment",
          "Apartment",
          "Apartment",
          "Apartment",
          "Apartment",
          "Apartment",
          "Apartment",
          "Apartment",
          "Apartment",
          "Apartment",
          "Apartment",
          "Apartment",
          "Apartment",
          "Apartment",
          "Apartment",
          "Apartment",
          "Apartment",
          "Apartment",
          "Apartment",
          "Apartment",
          "Apartment",
          "Apartment",
          "Apartment",
          "Apartment",
          "Apartment",
          "Apartment",
          "Apartment",
          "Apartment",
          "Apartment",
          "Apartment",
          "Apartment",
          "Apartment",
          "Apartment",
          "Apartment",
          "Apartment",
          "Apartment",
          "Apartment",
          "Apartment",
          "Apartment",
          "Apartment",
          "Apartment",
          "Apartment",
          "Apartment",
          "Apartment",
          "Apartment",
          "Apartment",
          "Apartment",
          "Apartment",
          "Apartment",
          "Apartment",
          "Apartment",
          "Apartment",
          "Apartment",
          "Apartment",
          "Apartment",
          "Apartment",
          "Apartment",
          "Apartment",
          "Apartment",
          "Apartment",
          "Apartment",
          "Apartment",
          "Apartment",
          "Apartment",
          "Apartment",
          "Apartment",
          "Apartment",
          "Apartment",
          "Apartment"
         ],
         "xaxis": "x",
         "yaxis": "y"
        },
        {
         "alignmentgroup": "True",
         "bingroup": "x",
         "hovertemplate": "Type of House=%{x}<br>count=%{y}<extra></extra>",
         "legendgroup": "Builder_Floor",
         "marker": {
          "color": "#EF553B",
          "opacity": 0.8
         },
         "name": "Builder_Floor",
         "offsetgroup": "Builder_Floor",
         "orientation": "v",
         "showlegend": true,
         "type": "histogram",
         "x": [
          "Builder_Floor",
          "Builder_Floor",
          "Builder_Floor",
          "Builder_Floor",
          "Builder_Floor",
          "Builder_Floor",
          "Builder_Floor",
          "Builder_Floor",
          "Builder_Floor",
          "Builder_Floor",
          "Builder_Floor",
          "Builder_Floor",
          "Builder_Floor",
          "Builder_Floor",
          "Builder_Floor",
          "Builder_Floor",
          "Builder_Floor",
          "Builder_Floor",
          "Builder_Floor",
          "Builder_Floor",
          "Builder_Floor",
          "Builder_Floor",
          "Builder_Floor",
          "Builder_Floor",
          "Builder_Floor",
          "Builder_Floor",
          "Builder_Floor",
          "Builder_Floor",
          "Builder_Floor",
          "Builder_Floor",
          "Builder_Floor",
          "Builder_Floor",
          "Builder_Floor",
          "Builder_Floor",
          "Builder_Floor",
          "Builder_Floor",
          "Builder_Floor",
          "Builder_Floor",
          "Builder_Floor",
          "Builder_Floor",
          "Builder_Floor",
          "Builder_Floor",
          "Builder_Floor",
          "Builder_Floor",
          "Builder_Floor",
          "Builder_Floor",
          "Builder_Floor",
          "Builder_Floor",
          "Builder_Floor",
          "Builder_Floor",
          "Builder_Floor",
          "Builder_Floor",
          "Builder_Floor",
          "Builder_Floor",
          "Builder_Floor",
          "Builder_Floor",
          "Builder_Floor",
          "Builder_Floor",
          "Builder_Floor",
          "Builder_Floor",
          "Builder_Floor",
          "Builder_Floor",
          "Builder_Floor",
          "Builder_Floor",
          "Builder_Floor",
          "Builder_Floor",
          "Builder_Floor",
          "Builder_Floor",
          "Builder_Floor",
          "Builder_Floor",
          "Builder_Floor",
          "Builder_Floor",
          "Builder_Floor",
          "Builder_Floor",
          "Builder_Floor",
          "Builder_Floor",
          "Builder_Floor",
          "Builder_Floor",
          "Builder_Floor",
          "Builder_Floor",
          "Builder_Floor",
          "Builder_Floor",
          "Builder_Floor",
          "Builder_Floor",
          "Builder_Floor",
          "Builder_Floor",
          "Builder_Floor",
          "Builder_Floor",
          "Builder_Floor",
          "Builder_Floor",
          "Builder_Floor",
          "Builder_Floor",
          "Builder_Floor",
          "Builder_Floor",
          "Builder_Floor",
          "Builder_Floor",
          "Builder_Floor",
          "Builder_Floor",
          "Builder_Floor",
          "Builder_Floor",
          "Builder_Floor",
          "Builder_Floor",
          "Builder_Floor",
          "Builder_Floor",
          "Builder_Floor",
          "Builder_Floor",
          "Builder_Floor",
          "Builder_Floor",
          "Builder_Floor",
          "Builder_Floor",
          "Builder_Floor",
          "Builder_Floor",
          "Builder_Floor",
          "Builder_Floor",
          "Builder_Floor",
          "Builder_Floor",
          "Builder_Floor",
          "Builder_Floor",
          "Builder_Floor",
          "Builder_Floor",
          "Builder_Floor",
          "Builder_Floor",
          "Builder_Floor",
          "Builder_Floor",
          "Builder_Floor",
          "Builder_Floor",
          "Builder_Floor",
          "Builder_Floor",
          "Builder_Floor",
          "Builder_Floor",
          "Builder_Floor",
          "Builder_Floor",
          "Builder_Floor",
          "Builder_Floor",
          "Builder_Floor",
          "Builder_Floor",
          "Builder_Floor",
          "Builder_Floor",
          "Builder_Floor",
          "Builder_Floor",
          "Builder_Floor",
          "Builder_Floor",
          "Builder_Floor",
          "Builder_Floor",
          "Builder_Floor",
          "Builder_Floor",
          "Builder_Floor",
          "Builder_Floor",
          "Builder_Floor",
          "Builder_Floor",
          "Builder_Floor",
          "Builder_Floor",
          "Builder_Floor",
          "Builder_Floor",
          "Builder_Floor",
          "Builder_Floor",
          "Builder_Floor",
          "Builder_Floor",
          "Builder_Floor",
          "Builder_Floor",
          "Builder_Floor",
          "Builder_Floor",
          "Builder_Floor",
          "Builder_Floor",
          "Builder_Floor",
          "Builder_Floor",
          "Builder_Floor",
          "Builder_Floor",
          "Builder_Floor",
          "Builder_Floor",
          "Builder_Floor",
          "Builder_Floor",
          "Builder_Floor",
          "Builder_Floor",
          "Builder_Floor",
          "Builder_Floor",
          "Builder_Floor",
          "Builder_Floor",
          "Builder_Floor",
          "Builder_Floor",
          "Builder_Floor",
          "Builder_Floor",
          "Builder_Floor",
          "Builder_Floor",
          "Builder_Floor",
          "Builder_Floor",
          "Builder_Floor",
          "Builder_Floor",
          "Builder_Floor",
          "Builder_Floor",
          "Builder_Floor",
          "Builder_Floor",
          "Builder_Floor",
          "Builder_Floor",
          "Builder_Floor",
          "Builder_Floor",
          "Builder_Floor",
          "Builder_Floor",
          "Builder_Floor",
          "Builder_Floor",
          "Builder_Floor",
          "Builder_Floor",
          "Builder_Floor",
          "Builder_Floor",
          "Builder_Floor",
          "Builder_Floor",
          "Builder_Floor",
          "Builder_Floor",
          "Builder_Floor",
          "Builder_Floor",
          "Builder_Floor",
          "Builder_Floor",
          "Builder_Floor",
          "Builder_Floor",
          "Builder_Floor",
          "Builder_Floor",
          "Builder_Floor",
          "Builder_Floor",
          "Builder_Floor",
          "Builder_Floor",
          "Builder_Floor",
          "Builder_Floor",
          "Builder_Floor",
          "Builder_Floor",
          "Builder_Floor",
          "Builder_Floor",
          "Builder_Floor",
          "Builder_Floor",
          "Builder_Floor",
          "Builder_Floor",
          "Builder_Floor",
          "Builder_Floor",
          "Builder_Floor",
          "Builder_Floor",
          "Builder_Floor",
          "Builder_Floor",
          "Builder_Floor",
          "Builder_Floor",
          "Builder_Floor",
          "Builder_Floor",
          "Builder_Floor",
          "Builder_Floor",
          "Builder_Floor",
          "Builder_Floor",
          "Builder_Floor",
          "Builder_Floor",
          "Builder_Floor",
          "Builder_Floor",
          "Builder_Floor",
          "Builder_Floor",
          "Builder_Floor",
          "Builder_Floor",
          "Builder_Floor",
          "Builder_Floor",
          "Builder_Floor",
          "Builder_Floor",
          "Builder_Floor",
          "Builder_Floor",
          "Builder_Floor",
          "Builder_Floor",
          "Builder_Floor",
          "Builder_Floor",
          "Builder_Floor",
          "Builder_Floor",
          "Builder_Floor",
          "Builder_Floor",
          "Builder_Floor",
          "Builder_Floor",
          "Builder_Floor",
          "Builder_Floor",
          "Builder_Floor",
          "Builder_Floor",
          "Builder_Floor",
          "Builder_Floor",
          "Builder_Floor",
          "Builder_Floor",
          "Builder_Floor",
          "Builder_Floor",
          "Builder_Floor",
          "Builder_Floor",
          "Builder_Floor",
          "Builder_Floor",
          "Builder_Floor",
          "Builder_Floor",
          "Builder_Floor",
          "Builder_Floor",
          "Builder_Floor",
          "Builder_Floor",
          "Builder_Floor",
          "Builder_Floor",
          "Builder_Floor",
          "Builder_Floor",
          "Builder_Floor",
          "Builder_Floor",
          "Builder_Floor",
          "Builder_Floor",
          "Builder_Floor",
          "Builder_Floor",
          "Builder_Floor",
          "Builder_Floor",
          "Builder_Floor",
          "Builder_Floor",
          "Builder_Floor",
          "Builder_Floor",
          "Builder_Floor",
          "Builder_Floor",
          "Builder_Floor",
          "Builder_Floor",
          "Builder_Floor",
          "Builder_Floor",
          "Builder_Floor",
          "Builder_Floor",
          "Builder_Floor",
          "Builder_Floor",
          "Builder_Floor",
          "Builder_Floor",
          "Builder_Floor",
          "Builder_Floor",
          "Builder_Floor",
          "Builder_Floor",
          "Builder_Floor",
          "Builder_Floor",
          "Builder_Floor",
          "Builder_Floor",
          "Builder_Floor",
          "Builder_Floor",
          "Builder_Floor",
          "Builder_Floor",
          "Builder_Floor",
          "Builder_Floor",
          "Builder_Floor",
          "Builder_Floor",
          "Builder_Floor",
          "Builder_Floor",
          "Builder_Floor",
          "Builder_Floor",
          "Builder_Floor",
          "Builder_Floor",
          "Builder_Floor",
          "Builder_Floor",
          "Builder_Floor",
          "Builder_Floor",
          "Builder_Floor",
          "Builder_Floor",
          "Builder_Floor",
          "Builder_Floor",
          "Builder_Floor",
          "Builder_Floor",
          "Builder_Floor",
          "Builder_Floor",
          "Builder_Floor",
          "Builder_Floor",
          "Builder_Floor",
          "Builder_Floor",
          "Builder_Floor",
          "Builder_Floor",
          "Builder_Floor",
          "Builder_Floor",
          "Builder_Floor",
          "Builder_Floor",
          "Builder_Floor",
          "Builder_Floor",
          "Builder_Floor",
          "Builder_Floor",
          "Builder_Floor",
          "Builder_Floor",
          "Builder_Floor",
          "Builder_Floor",
          "Builder_Floor",
          "Builder_Floor",
          "Builder_Floor",
          "Builder_Floor",
          "Builder_Floor",
          "Builder_Floor",
          "Builder_Floor",
          "Builder_Floor",
          "Builder_Floor",
          "Builder_Floor",
          "Builder_Floor",
          "Builder_Floor",
          "Builder_Floor",
          "Builder_Floor",
          "Builder_Floor",
          "Builder_Floor",
          "Builder_Floor",
          "Builder_Floor",
          "Builder_Floor",
          "Builder_Floor",
          "Builder_Floor",
          "Builder_Floor",
          "Builder_Floor",
          "Builder_Floor",
          "Builder_Floor",
          "Builder_Floor",
          "Builder_Floor",
          "Builder_Floor",
          "Builder_Floor",
          "Builder_Floor",
          "Builder_Floor",
          "Builder_Floor",
          "Builder_Floor",
          "Builder_Floor",
          "Builder_Floor",
          "Builder_Floor",
          "Builder_Floor",
          "Builder_Floor",
          "Builder_Floor",
          "Builder_Floor",
          "Builder_Floor",
          "Builder_Floor",
          "Builder_Floor",
          "Builder_Floor",
          "Builder_Floor",
          "Builder_Floor",
          "Builder_Floor",
          "Builder_Floor",
          "Builder_Floor",
          "Builder_Floor",
          "Builder_Floor",
          "Builder_Floor",
          "Builder_Floor",
          "Builder_Floor",
          "Builder_Floor",
          "Builder_Floor",
          "Builder_Floor",
          "Builder_Floor",
          "Builder_Floor",
          "Builder_Floor",
          "Builder_Floor",
          "Builder_Floor",
          "Builder_Floor",
          "Builder_Floor",
          "Builder_Floor",
          "Builder_Floor",
          "Builder_Floor",
          "Builder_Floor",
          "Builder_Floor",
          "Builder_Floor",
          "Builder_Floor",
          "Builder_Floor",
          "Builder_Floor",
          "Builder_Floor",
          "Builder_Floor",
          "Builder_Floor",
          "Builder_Floor",
          "Builder_Floor",
          "Builder_Floor",
          "Builder_Floor",
          "Builder_Floor",
          "Builder_Floor",
          "Builder_Floor",
          "Builder_Floor",
          "Builder_Floor",
          "Builder_Floor",
          "Builder_Floor",
          "Builder_Floor",
          "Builder_Floor",
          "Builder_Floor",
          "Builder_Floor",
          "Builder_Floor",
          "Builder_Floor",
          "Builder_Floor",
          "Builder_Floor",
          "Builder_Floor",
          "Builder_Floor",
          "Builder_Floor",
          "Builder_Floor",
          "Builder_Floor",
          "Builder_Floor",
          "Builder_Floor",
          "Builder_Floor",
          "Builder_Floor",
          "Builder_Floor",
          "Builder_Floor",
          "Builder_Floor",
          "Builder_Floor",
          "Builder_Floor",
          "Builder_Floor",
          "Builder_Floor",
          "Builder_Floor",
          "Builder_Floor",
          "Builder_Floor",
          "Builder_Floor",
          "Builder_Floor",
          "Builder_Floor",
          "Builder_Floor",
          "Builder_Floor",
          "Builder_Floor",
          "Builder_Floor",
          "Builder_Floor",
          "Builder_Floor",
          "Builder_Floor",
          "Builder_Floor",
          "Builder_Floor",
          "Builder_Floor",
          "Builder_Floor",
          "Builder_Floor",
          "Builder_Floor",
          "Builder_Floor",
          "Builder_Floor",
          "Builder_Floor",
          "Builder_Floor",
          "Builder_Floor",
          "Builder_Floor",
          "Builder_Floor",
          "Builder_Floor",
          "Builder_Floor",
          "Builder_Floor",
          "Builder_Floor",
          "Builder_Floor",
          "Builder_Floor",
          "Builder_Floor",
          "Builder_Floor",
          "Builder_Floor",
          "Builder_Floor",
          "Builder_Floor",
          "Builder_Floor",
          "Builder_Floor",
          "Builder_Floor",
          "Builder_Floor",
          "Builder_Floor",
          "Builder_Floor",
          "Builder_Floor",
          "Builder_Floor",
          "Builder_Floor",
          "Builder_Floor",
          "Builder_Floor",
          "Builder_Floor",
          "Builder_Floor",
          "Builder_Floor",
          "Builder_Floor",
          "Builder_Floor",
          "Builder_Floor",
          "Builder_Floor",
          "Builder_Floor",
          "Builder_Floor",
          "Builder_Floor",
          "Builder_Floor",
          "Builder_Floor",
          "Builder_Floor",
          "Builder_Floor",
          "Builder_Floor",
          "Builder_Floor",
          "Builder_Floor",
          "Builder_Floor",
          "Builder_Floor",
          "Builder_Floor",
          "Builder_Floor",
          "Builder_Floor",
          "Builder_Floor"
         ],
         "xaxis": "x",
         "yaxis": "y"
        }
       ],
       "layout": {
        "bargap": 0.3,
        "bargroupgap": 0,
        "barmode": "group",
        "height": 520,
        "legend": {
         "title": {
          "text": "Type of House"
         },
         "tracegroupgap": 0
        },
        "template": {
         "data": {
          "bar": [
           {
            "error_x": {
             "color": "#2a3f5f"
            },
            "error_y": {
             "color": "#2a3f5f"
            },
            "marker": {
             "line": {
              "color": "#E5ECF6",
              "width": 0.5
             }
            },
            "type": "bar"
           }
          ],
          "barpolar": [
           {
            "marker": {
             "line": {
              "color": "#E5ECF6",
              "width": 0.5
             }
            },
            "type": "barpolar"
           }
          ],
          "carpet": [
           {
            "aaxis": {
             "endlinecolor": "#2a3f5f",
             "gridcolor": "white",
             "linecolor": "white",
             "minorgridcolor": "white",
             "startlinecolor": "#2a3f5f"
            },
            "baxis": {
             "endlinecolor": "#2a3f5f",
             "gridcolor": "white",
             "linecolor": "white",
             "minorgridcolor": "white",
             "startlinecolor": "#2a3f5f"
            },
            "type": "carpet"
           }
          ],
          "choropleth": [
           {
            "colorbar": {
             "outlinewidth": 0,
             "ticks": ""
            },
            "type": "choropleth"
           }
          ],
          "contour": [
           {
            "colorbar": {
             "outlinewidth": 0,
             "ticks": ""
            },
            "colorscale": [
             [
              0,
              "#0d0887"
             ],
             [
              0.1111111111111111,
              "#46039f"
             ],
             [
              0.2222222222222222,
              "#7201a8"
             ],
             [
              0.3333333333333333,
              "#9c179e"
             ],
             [
              0.4444444444444444,
              "#bd3786"
             ],
             [
              0.5555555555555556,
              "#d8576b"
             ],
             [
              0.6666666666666666,
              "#ed7953"
             ],
             [
              0.7777777777777778,
              "#fb9f3a"
             ],
             [
              0.8888888888888888,
              "#fdca26"
             ],
             [
              1,
              "#f0f921"
             ]
            ],
            "type": "contour"
           }
          ],
          "contourcarpet": [
           {
            "colorbar": {
             "outlinewidth": 0,
             "ticks": ""
            },
            "type": "contourcarpet"
           }
          ],
          "heatmap": [
           {
            "colorbar": {
             "outlinewidth": 0,
             "ticks": ""
            },
            "colorscale": [
             [
              0,
              "#0d0887"
             ],
             [
              0.1111111111111111,
              "#46039f"
             ],
             [
              0.2222222222222222,
              "#7201a8"
             ],
             [
              0.3333333333333333,
              "#9c179e"
             ],
             [
              0.4444444444444444,
              "#bd3786"
             ],
             [
              0.5555555555555556,
              "#d8576b"
             ],
             [
              0.6666666666666666,
              "#ed7953"
             ],
             [
              0.7777777777777778,
              "#fb9f3a"
             ],
             [
              0.8888888888888888,
              "#fdca26"
             ],
             [
              1,
              "#f0f921"
             ]
            ],
            "type": "heatmap"
           }
          ],
          "heatmapgl": [
           {
            "colorbar": {
             "outlinewidth": 0,
             "ticks": ""
            },
            "colorscale": [
             [
              0,
              "#0d0887"
             ],
             [
              0.1111111111111111,
              "#46039f"
             ],
             [
              0.2222222222222222,
              "#7201a8"
             ],
             [
              0.3333333333333333,
              "#9c179e"
             ],
             [
              0.4444444444444444,
              "#bd3786"
             ],
             [
              0.5555555555555556,
              "#d8576b"
             ],
             [
              0.6666666666666666,
              "#ed7953"
             ],
             [
              0.7777777777777778,
              "#fb9f3a"
             ],
             [
              0.8888888888888888,
              "#fdca26"
             ],
             [
              1,
              "#f0f921"
             ]
            ],
            "type": "heatmapgl"
           }
          ],
          "histogram": [
           {
            "marker": {
             "colorbar": {
              "outlinewidth": 0,
              "ticks": ""
             }
            },
            "type": "histogram"
           }
          ],
          "histogram2d": [
           {
            "colorbar": {
             "outlinewidth": 0,
             "ticks": ""
            },
            "colorscale": [
             [
              0,
              "#0d0887"
             ],
             [
              0.1111111111111111,
              "#46039f"
             ],
             [
              0.2222222222222222,
              "#7201a8"
             ],
             [
              0.3333333333333333,
              "#9c179e"
             ],
             [
              0.4444444444444444,
              "#bd3786"
             ],
             [
              0.5555555555555556,
              "#d8576b"
             ],
             [
              0.6666666666666666,
              "#ed7953"
             ],
             [
              0.7777777777777778,
              "#fb9f3a"
             ],
             [
              0.8888888888888888,
              "#fdca26"
             ],
             [
              1,
              "#f0f921"
             ]
            ],
            "type": "histogram2d"
           }
          ],
          "histogram2dcontour": [
           {
            "colorbar": {
             "outlinewidth": 0,
             "ticks": ""
            },
            "colorscale": [
             [
              0,
              "#0d0887"
             ],
             [
              0.1111111111111111,
              "#46039f"
             ],
             [
              0.2222222222222222,
              "#7201a8"
             ],
             [
              0.3333333333333333,
              "#9c179e"
             ],
             [
              0.4444444444444444,
              "#bd3786"
             ],
             [
              0.5555555555555556,
              "#d8576b"
             ],
             [
              0.6666666666666666,
              "#ed7953"
             ],
             [
              0.7777777777777778,
              "#fb9f3a"
             ],
             [
              0.8888888888888888,
              "#fdca26"
             ],
             [
              1,
              "#f0f921"
             ]
            ],
            "type": "histogram2dcontour"
           }
          ],
          "mesh3d": [
           {
            "colorbar": {
             "outlinewidth": 0,
             "ticks": ""
            },
            "type": "mesh3d"
           }
          ],
          "parcoords": [
           {
            "line": {
             "colorbar": {
              "outlinewidth": 0,
              "ticks": ""
             }
            },
            "type": "parcoords"
           }
          ],
          "pie": [
           {
            "automargin": true,
            "type": "pie"
           }
          ],
          "scatter": [
           {
            "marker": {
             "colorbar": {
              "outlinewidth": 0,
              "ticks": ""
             }
            },
            "type": "scatter"
           }
          ],
          "scatter3d": [
           {
            "line": {
             "colorbar": {
              "outlinewidth": 0,
              "ticks": ""
             }
            },
            "marker": {
             "colorbar": {
              "outlinewidth": 0,
              "ticks": ""
             }
            },
            "type": "scatter3d"
           }
          ],
          "scattercarpet": [
           {
            "marker": {
             "colorbar": {
              "outlinewidth": 0,
              "ticks": ""
             }
            },
            "type": "scattercarpet"
           }
          ],
          "scattergeo": [
           {
            "marker": {
             "colorbar": {
              "outlinewidth": 0,
              "ticks": ""
             }
            },
            "type": "scattergeo"
           }
          ],
          "scattergl": [
           {
            "marker": {
             "colorbar": {
              "outlinewidth": 0,
              "ticks": ""
             }
            },
            "type": "scattergl"
           }
          ],
          "scattermapbox": [
           {
            "marker": {
             "colorbar": {
              "outlinewidth": 0,
              "ticks": ""
             }
            },
            "type": "scattermapbox"
           }
          ],
          "scatterpolar": [
           {
            "marker": {
             "colorbar": {
              "outlinewidth": 0,
              "ticks": ""
             }
            },
            "type": "scatterpolar"
           }
          ],
          "scatterpolargl": [
           {
            "marker": {
             "colorbar": {
              "outlinewidth": 0,
              "ticks": ""
             }
            },
            "type": "scatterpolargl"
           }
          ],
          "scatterternary": [
           {
            "marker": {
             "colorbar": {
              "outlinewidth": 0,
              "ticks": ""
             }
            },
            "type": "scatterternary"
           }
          ],
          "surface": [
           {
            "colorbar": {
             "outlinewidth": 0,
             "ticks": ""
            },
            "colorscale": [
             [
              0,
              "#0d0887"
             ],
             [
              0.1111111111111111,
              "#46039f"
             ],
             [
              0.2222222222222222,
              "#7201a8"
             ],
             [
              0.3333333333333333,
              "#9c179e"
             ],
             [
              0.4444444444444444,
              "#bd3786"
             ],
             [
              0.5555555555555556,
              "#d8576b"
             ],
             [
              0.6666666666666666,
              "#ed7953"
             ],
             [
              0.7777777777777778,
              "#fb9f3a"
             ],
             [
              0.8888888888888888,
              "#fdca26"
             ],
             [
              1,
              "#f0f921"
             ]
            ],
            "type": "surface"
           }
          ],
          "table": [
           {
            "cells": {
             "fill": {
              "color": "#EBF0F8"
             },
             "line": {
              "color": "white"
             }
            },
            "header": {
             "fill": {
              "color": "#C8D4E3"
             },
             "line": {
              "color": "white"
             }
            },
            "type": "table"
           }
          ]
         },
         "layout": {
          "annotationdefaults": {
           "arrowcolor": "#2a3f5f",
           "arrowhead": 0,
           "arrowwidth": 1
          },
          "autotypenumbers": "strict",
          "coloraxis": {
           "colorbar": {
            "outlinewidth": 0,
            "ticks": ""
           }
          },
          "colorscale": {
           "diverging": [
            [
             0,
             "#8e0152"
            ],
            [
             0.1,
             "#c51b7d"
            ],
            [
             0.2,
             "#de77ae"
            ],
            [
             0.3,
             "#f1b6da"
            ],
            [
             0.4,
             "#fde0ef"
            ],
            [
             0.5,
             "#f7f7f7"
            ],
            [
             0.6,
             "#e6f5d0"
            ],
            [
             0.7,
             "#b8e186"
            ],
            [
             0.8,
             "#7fbc41"
            ],
            [
             0.9,
             "#4d9221"
            ],
            [
             1,
             "#276419"
            ]
           ],
           "sequential": [
            [
             0,
             "#0d0887"
            ],
            [
             0.1111111111111111,
             "#46039f"
            ],
            [
             0.2222222222222222,
             "#7201a8"
            ],
            [
             0.3333333333333333,
             "#9c179e"
            ],
            [
             0.4444444444444444,
             "#bd3786"
            ],
            [
             0.5555555555555556,
             "#d8576b"
            ],
            [
             0.6666666666666666,
             "#ed7953"
            ],
            [
             0.7777777777777778,
             "#fb9f3a"
            ],
            [
             0.8888888888888888,
             "#fdca26"
            ],
            [
             1,
             "#f0f921"
            ]
           ],
           "sequentialminus": [
            [
             0,
             "#0d0887"
            ],
            [
             0.1111111111111111,
             "#46039f"
            ],
            [
             0.2222222222222222,
             "#7201a8"
            ],
            [
             0.3333333333333333,
             "#9c179e"
            ],
            [
             0.4444444444444444,
             "#bd3786"
            ],
            [
             0.5555555555555556,
             "#d8576b"
            ],
            [
             0.6666666666666666,
             "#ed7953"
            ],
            [
             0.7777777777777778,
             "#fb9f3a"
            ],
            [
             0.8888888888888888,
             "#fdca26"
            ],
            [
             1,
             "#f0f921"
            ]
           ]
          },
          "colorway": [
           "#636efa",
           "#EF553B",
           "#00cc96",
           "#ab63fa",
           "#FFA15A",
           "#19d3f3",
           "#FF6692",
           "#B6E880",
           "#FF97FF",
           "#FECB52"
          ],
          "font": {
           "color": "#2a3f5f"
          },
          "geo": {
           "bgcolor": "white",
           "lakecolor": "white",
           "landcolor": "#E5ECF6",
           "showlakes": true,
           "showland": true,
           "subunitcolor": "white"
          },
          "hoverlabel": {
           "align": "left"
          },
          "hovermode": "closest",
          "mapbox": {
           "style": "light"
          },
          "paper_bgcolor": "white",
          "plot_bgcolor": "#E5ECF6",
          "polar": {
           "angularaxis": {
            "gridcolor": "white",
            "linecolor": "white",
            "ticks": ""
           },
           "bgcolor": "#E5ECF6",
           "radialaxis": {
            "gridcolor": "white",
            "linecolor": "white",
            "ticks": ""
           }
          },
          "scene": {
           "xaxis": {
            "backgroundcolor": "#E5ECF6",
            "gridcolor": "white",
            "gridwidth": 2,
            "linecolor": "white",
            "showbackground": true,
            "ticks": "",
            "zerolinecolor": "white"
           },
           "yaxis": {
            "backgroundcolor": "#E5ECF6",
            "gridcolor": "white",
            "gridwidth": 2,
            "linecolor": "white",
            "showbackground": true,
            "ticks": "",
            "zerolinecolor": "white"
           },
           "zaxis": {
            "backgroundcolor": "#E5ECF6",
            "gridcolor": "white",
            "gridwidth": 2,
            "linecolor": "white",
            "showbackground": true,
            "ticks": "",
            "zerolinecolor": "white"
           }
          },
          "shapedefaults": {
           "line": {
            "color": "#2a3f5f"
           }
          },
          "ternary": {
           "aaxis": {
            "gridcolor": "white",
            "linecolor": "white",
            "ticks": ""
           },
           "baxis": {
            "gridcolor": "white",
            "linecolor": "white",
            "ticks": ""
           },
           "bgcolor": "#E5ECF6",
           "caxis": {
            "gridcolor": "white",
            "linecolor": "white",
            "ticks": ""
           }
          },
          "title": {
           "x": 0.05
          },
          "xaxis": {
           "automargin": true,
           "gridcolor": "white",
           "linecolor": "white",
           "ticks": "",
           "title": {
            "standoff": 15
           },
           "zerolinecolor": "white",
           "zerolinewidth": 2
          },
          "yaxis": {
           "automargin": true,
           "gridcolor": "white",
           "linecolor": "white",
           "ticks": "",
           "title": {
            "standoff": 15
           },
           "zerolinecolor": "white",
           "zerolinewidth": 2
          }
         }
        },
        "title": {
         "text": "Count of House Types"
        },
        "width": 600,
        "xaxis": {
         "anchor": "y",
         "categoryarray": [
          "Apartment",
          "Builder_Floor"
         ],
         "categoryorder": "array",
         "domain": [
          0,
          1
         ],
         "title": {
          "text": "Type of House"
         }
        },
        "yaxis": {
         "anchor": "x",
         "domain": [
          0,
          1
         ],
         "title": {
          "text": "count"
         }
        }
       }
      }
     },
     "metadata": {}
    }
   ],
   "source": [
    "# Type vs Price\n",
    "fig = px.histogram(df2,x='Type',\n",
    "                    title='Count of House Types',\n",
    "                    opacity=0.8,\n",
    "                    color = 'Type',\n",
    "                    #color_discrete_sequence=['indianred'],\n",
    "                    labels={'Type':'Type of House', 'Price':'Price'}\n",
    ")\n",
    "fig.update_layout(barmode='group', bargap=0.30,bargroupgap=0.0,height=520,width=600)\n",
    "fig.show()"
   ]
  },
  {
   "cell_type": "code",
   "execution_count": 18,
   "metadata": {},
   "outputs": [
    {
     "output_type": "display_data",
     "data": {
      "application/vnd.plotly.v1+json": {
       "config": {
        "plotlyServerURL": "https://plot.ly"
       },
       "data": [
        {
         "alignmentgroup": "True",
         "bingroup": "x",
         "hovertemplate": "Furnishing=%{x}<br>count=%{y}<extra></extra>",
         "legendgroup": "",
         "marker": {
          "color": "#636efa"
         },
         "name": "",
         "offsetgroup": "",
         "orientation": "v",
         "showlegend": false,
         "type": "histogram",
         "x": [
          "Semi-Furnished",
          "Furnished",
          "Semi-Furnished",
          "Semi-Furnished",
          "Semi-Furnished",
          "Semi-Furnished",
          "Semi-Furnished",
          "Unfurnished",
          "Semi-Furnished",
          "Semi-Furnished",
          "Semi-Furnished",
          "Semi-Furnished",
          "Semi-Furnished",
          "Semi-Furnished",
          "Semi-Furnished",
          "Semi-Furnished",
          "Semi-Furnished",
          "Semi-Furnished",
          "Semi-Furnished",
          "Semi-Furnished",
          "Semi-Furnished",
          "Furnished",
          "Semi-Furnished",
          "Semi-Furnished",
          "Furnished",
          "Semi-Furnished",
          "Semi-Furnished",
          "Furnished",
          "Furnished",
          "Semi-Furnished",
          "Semi-Furnished",
          "Semi-Furnished",
          "Unfurnished",
          "Unfurnished",
          "Unfurnished",
          "Unfurnished",
          "Semi-Furnished",
          "Semi-Furnished",
          "Semi-Furnished",
          "Semi-Furnished",
          "Semi-Furnished",
          "Unfurnished",
          "Semi-Furnished",
          "Unfurnished",
          "Unfurnished",
          "Unfurnished",
          "Unfurnished",
          "Semi-Furnished",
          "Semi-Furnished",
          "Semi-Furnished",
          "Furnished",
          "Semi-Furnished",
          "Semi-Furnished",
          "Unfurnished",
          "Unfurnished",
          "Semi-Furnished",
          "Semi-Furnished",
          "Semi-Furnished",
          "Furnished",
          "Semi-Furnished",
          "Semi-Furnished",
          "Unfurnished",
          "Furnished",
          "Furnished",
          "Semi-Furnished",
          "Semi-Furnished",
          "Unfurnished",
          "Semi-Furnished",
          "Semi-Furnished",
          "Semi-Furnished",
          "Semi-Furnished",
          "Semi-Furnished",
          "Unfurnished",
          "Semi-Furnished",
          "Unfurnished",
          "Unfurnished",
          "Semi-Furnished",
          "Furnished",
          "Semi-Furnished",
          "Furnished",
          "Furnished",
          "Unfurnished",
          "Unfurnished",
          "Semi-Furnished",
          "Semi-Furnished",
          "Semi-Furnished",
          "Semi-Furnished",
          "Unfurnished",
          "Unfurnished",
          "Furnished",
          "Semi-Furnished",
          "Semi-Furnished",
          "Semi-Furnished",
          "Semi-Furnished",
          "Semi-Furnished",
          "Semi-Furnished",
          "Semi-Furnished",
          "Semi-Furnished",
          "Furnished",
          "Unfurnished",
          "Furnished",
          "Unfurnished",
          "Semi-Furnished",
          "Semi-Furnished",
          "Semi-Furnished",
          "Semi-Furnished",
          "Unfurnished",
          "Unfurnished",
          "Unfurnished",
          "Semi-Furnished",
          "Semi-Furnished",
          "Unfurnished",
          "Semi-Furnished",
          "Unfurnished",
          "Unfurnished",
          "Unfurnished",
          "Unfurnished",
          "Furnished",
          "Semi-Furnished",
          "Semi-Furnished",
          "Furnished",
          "Semi-Furnished",
          "Semi-Furnished",
          "Semi-Furnished",
          "Unfurnished",
          "Furnished",
          "Furnished",
          "Furnished",
          "Furnished",
          "Furnished",
          "Furnished",
          "Furnished",
          "Semi-Furnished",
          "Semi-Furnished",
          "Semi-Furnished",
          "Semi-Furnished",
          "Unfurnished",
          "Semi-Furnished",
          "Semi-Furnished",
          "Semi-Furnished",
          "Semi-Furnished",
          "Semi-Furnished",
          "Semi-Furnished",
          "Furnished",
          "Semi-Furnished",
          "Semi-Furnished",
          "Semi-Furnished",
          "Semi-Furnished",
          "Semi-Furnished",
          "Semi-Furnished",
          "Semi-Furnished",
          "Semi-Furnished",
          "Semi-Furnished",
          "Semi-Furnished",
          "Semi-Furnished",
          "Semi-Furnished",
          "Semi-Furnished",
          "Semi-Furnished",
          "Semi-Furnished",
          "Semi-Furnished",
          "Semi-Furnished",
          "Semi-Furnished",
          "Semi-Furnished",
          "Semi-Furnished",
          "Semi-Furnished",
          "Semi-Furnished",
          "Semi-Furnished",
          "Semi-Furnished",
          "Semi-Furnished",
          "Semi-Furnished",
          "Semi-Furnished",
          "Semi-Furnished",
          "Unfurnished",
          "Semi-Furnished",
          "Unfurnished",
          "Furnished",
          "Unfurnished",
          "Semi-Furnished",
          "Semi-Furnished",
          "Unfurnished",
          "Semi-Furnished",
          "Unfurnished",
          "Semi-Furnished",
          "Furnished",
          "Unfurnished",
          "Semi-Furnished",
          "Unfurnished",
          "Furnished",
          "Unfurnished",
          "Semi-Furnished",
          "Furnished",
          "Unfurnished",
          "Semi-Furnished",
          "Semi-Furnished",
          "Semi-Furnished",
          "Semi-Furnished",
          "Semi-Furnished",
          "Semi-Furnished",
          "Semi-Furnished",
          "Semi-Furnished",
          "Semi-Furnished",
          "Unfurnished",
          "Semi-Furnished",
          "Semi-Furnished",
          "Semi-Furnished",
          "Unfurnished",
          "Semi-Furnished",
          "Semi-Furnished",
          "Semi-Furnished",
          "Furnished",
          "Semi-Furnished",
          "Semi-Furnished",
          "Semi-Furnished",
          "Unfurnished",
          "Semi-Furnished",
          "Semi-Furnished",
          "Semi-Furnished",
          "Unfurnished",
          "Semi-Furnished",
          "Semi-Furnished",
          "Semi-Furnished",
          "Unfurnished",
          "Semi-Furnished",
          "Semi-Furnished",
          "Unfurnished",
          "Semi-Furnished",
          "Semi-Furnished",
          "Semi-Furnished",
          "Semi-Furnished",
          "Semi-Furnished",
          "Semi-Furnished",
          "Semi-Furnished",
          "Semi-Furnished",
          "Semi-Furnished",
          "Semi-Furnished",
          "Semi-Furnished",
          "Semi-Furnished",
          "Semi-Furnished",
          "Semi-Furnished",
          "Semi-Furnished",
          "Semi-Furnished",
          "Semi-Furnished",
          "Unfurnished",
          "Unfurnished",
          "Semi-Furnished",
          "Semi-Furnished",
          "Unfurnished",
          "Semi-Furnished",
          "Unfurnished",
          "Semi-Furnished",
          "Semi-Furnished",
          "Unfurnished",
          "Unfurnished",
          "Semi-Furnished",
          "Semi-Furnished",
          "Semi-Furnished",
          "Semi-Furnished",
          "Semi-Furnished",
          "Semi-Furnished",
          "Unfurnished",
          "Furnished",
          "Semi-Furnished",
          "Semi-Furnished",
          "Semi-Furnished",
          "Unfurnished",
          "Semi-Furnished",
          "Semi-Furnished",
          "Unfurnished",
          "Unfurnished",
          "Unfurnished",
          "Unfurnished",
          "Semi-Furnished",
          "Semi-Furnished",
          "Unfurnished",
          "Furnished",
          "Semi-Furnished",
          "Semi-Furnished",
          "Furnished",
          "Furnished",
          "Semi-Furnished",
          "Furnished",
          "Furnished",
          "Furnished",
          "Furnished",
          "Unfurnished",
          "Semi-Furnished",
          "Unfurnished",
          "Semi-Furnished",
          "Unfurnished",
          "Semi-Furnished",
          "Unfurnished",
          "Furnished",
          "Unfurnished",
          "Furnished",
          "Furnished",
          "Furnished",
          "Furnished",
          "Furnished",
          "Furnished",
          "Furnished",
          "Furnished",
          "Furnished",
          "Furnished",
          "Furnished",
          "Furnished",
          "Furnished",
          "Furnished",
          "Furnished",
          "Furnished",
          "Furnished",
          "Unfurnished",
          "Semi-Furnished",
          "Semi-Furnished",
          "Unfurnished",
          "Semi-Furnished",
          "Semi-Furnished",
          "Semi-Furnished",
          "Semi-Furnished",
          "Furnished",
          "Unfurnished",
          "Unfurnished",
          "Unfurnished",
          "Unfurnished",
          "Furnished",
          "Semi-Furnished",
          "Unfurnished",
          "Semi-Furnished",
          "Semi-Furnished",
          "Furnished",
          "Unfurnished",
          "Unfurnished",
          "Unfurnished",
          "Furnished",
          "Semi-Furnished",
          "Semi-Furnished",
          "Semi-Furnished",
          "Unfurnished",
          "Furnished",
          "Unfurnished",
          "Semi-Furnished",
          "Semi-Furnished",
          "Semi-Furnished",
          "Semi-Furnished",
          "Semi-Furnished",
          "Semi-Furnished",
          "Semi-Furnished",
          "Semi-Furnished",
          "Semi-Furnished",
          "Semi-Furnished",
          "Semi-Furnished",
          "Semi-Furnished",
          "Semi-Furnished",
          "Semi-Furnished",
          "Unfurnished",
          "Semi-Furnished",
          "Semi-Furnished",
          "Semi-Furnished",
          "Semi-Furnished",
          "Furnished",
          "Unfurnished",
          "Semi-Furnished",
          "Semi-Furnished",
          "Unfurnished",
          "Unfurnished",
          "Semi-Furnished",
          "Semi-Furnished",
          "Unfurnished",
          "Unfurnished",
          "Furnished",
          "Unfurnished",
          "Semi-Furnished",
          "Semi-Furnished",
          "Furnished",
          "Semi-Furnished",
          "Semi-Furnished",
          "Semi-Furnished",
          "Semi-Furnished",
          "Semi-Furnished",
          "Furnished",
          "Unfurnished",
          "Semi-Furnished",
          "Semi-Furnished",
          "Semi-Furnished",
          "Furnished",
          "Unfurnished",
          "Unfurnished",
          "Semi-Furnished",
          "Unfurnished",
          "Unfurnished",
          "Unfurnished",
          "Semi-Furnished",
          "Semi-Furnished",
          "Furnished",
          "Semi-Furnished",
          "Unfurnished",
          "Unfurnished",
          "Unfurnished",
          "Semi-Furnished",
          "Unfurnished",
          "Semi-Furnished",
          "Semi-Furnished",
          "Semi-Furnished",
          "Unfurnished",
          "Unfurnished",
          "Semi-Furnished",
          "Unfurnished",
          "Semi-Furnished",
          "Furnished",
          "Semi-Furnished",
          "Semi-Furnished",
          "Semi-Furnished",
          "Semi-Furnished",
          "Furnished",
          "Furnished",
          "Semi-Furnished",
          "Furnished",
          "Semi-Furnished",
          "Furnished",
          "Unfurnished",
          "Semi-Furnished",
          "Unfurnished",
          "Furnished",
          "Unfurnished",
          "Semi-Furnished",
          "Semi-Furnished",
          "Unfurnished",
          "Semi-Furnished",
          "Unfurnished",
          "Semi-Furnished",
          "Furnished",
          "Unfurnished",
          "Semi-Furnished",
          "Unfurnished",
          "Furnished",
          "Unfurnished",
          "Semi-Furnished",
          "Furnished",
          "Unfurnished",
          "Semi-Furnished",
          "Semi-Furnished",
          "Semi-Furnished",
          "Semi-Furnished",
          "Semi-Furnished",
          "Semi-Furnished",
          "Semi-Furnished",
          "Semi-Furnished",
          "Semi-Furnished",
          "Unfurnished",
          "Unfurnished",
          "Semi-Furnished",
          "Furnished",
          "Furnished",
          "Unfurnished",
          "Furnished",
          "Furnished",
          "Furnished",
          "Unfurnished",
          "Semi-Furnished",
          "Unfurnished",
          "Semi-Furnished",
          "Furnished",
          "Unfurnished",
          "Unfurnished",
          "Semi-Furnished",
          "Unfurnished",
          "Semi-Furnished",
          "Unfurnished",
          "Semi-Furnished",
          "Unfurnished",
          "Furnished",
          "Semi-Furnished",
          "Semi-Furnished",
          "Semi-Furnished",
          "Semi-Furnished",
          "Semi-Furnished",
          "Semi-Furnished",
          "Semi-Furnished",
          "Semi-Furnished",
          "Semi-Furnished",
          "Semi-Furnished",
          "Unfurnished",
          "Furnished",
          "Semi-Furnished",
          "Furnished",
          "Semi-Furnished",
          "Semi-Furnished",
          "Semi-Furnished",
          "Semi-Furnished",
          "Semi-Furnished",
          "Semi-Furnished",
          "Semi-Furnished",
          "Unfurnished",
          "Semi-Furnished",
          "Semi-Furnished",
          "Semi-Furnished",
          "Semi-Furnished",
          "Semi-Furnished",
          "Semi-Furnished",
          "Semi-Furnished",
          "Semi-Furnished",
          "Unfurnished",
          "Unfurnished",
          "Unfurnished",
          "Semi-Furnished",
          "Unfurnished",
          "Semi-Furnished",
          "Unfurnished",
          "Semi-Furnished",
          "Semi-Furnished",
          "Semi-Furnished",
          "Semi-Furnished",
          "Furnished",
          "Semi-Furnished",
          "Semi-Furnished",
          "Unfurnished",
          "Semi-Furnished",
          "Semi-Furnished",
          "Semi-Furnished",
          "Semi-Furnished",
          "Unfurnished",
          "Semi-Furnished",
          "Unfurnished",
          "Semi-Furnished",
          "Semi-Furnished",
          "Semi-Furnished",
          "Unfurnished",
          "Unfurnished",
          "Semi-Furnished",
          "Semi-Furnished",
          "Unfurnished",
          "Semi-Furnished",
          "Semi-Furnished",
          "Unfurnished",
          "Furnished",
          "Semi-Furnished",
          "Unfurnished",
          "Semi-Furnished",
          "Unfurnished",
          "Furnished",
          "Unfurnished",
          "Unfurnished",
          "Semi-Furnished",
          "Unfurnished",
          "Furnished",
          "Unfurnished",
          "Semi-Furnished",
          "Semi-Furnished",
          "Unfurnished",
          "Semi-Furnished",
          "Semi-Furnished",
          "Furnished",
          "Furnished",
          "Furnished",
          "Furnished",
          "Semi-Furnished",
          "Semi-Furnished",
          "Unfurnished",
          "Semi-Furnished",
          "Semi-Furnished",
          "Semi-Furnished",
          "Semi-Furnished",
          "Furnished",
          "Semi-Furnished",
          "Furnished",
          "Unfurnished",
          "Semi-Furnished",
          "Semi-Furnished",
          "Semi-Furnished",
          "Semi-Furnished",
          "Furnished",
          "Semi-Furnished",
          "Semi-Furnished",
          "Semi-Furnished",
          "Semi-Furnished",
          "Semi-Furnished",
          "Semi-Furnished",
          "Semi-Furnished",
          "Semi-Furnished",
          "Semi-Furnished",
          "Unfurnished",
          "Semi-Furnished",
          "Semi-Furnished",
          "Unfurnished",
          "Semi-Furnished",
          "Furnished",
          "Unfurnished",
          "Unfurnished",
          "Unfurnished",
          "Semi-Furnished",
          "Semi-Furnished",
          "Semi-Furnished",
          "Unfurnished",
          "Unfurnished",
          "Unfurnished",
          "Unfurnished",
          "Unfurnished",
          "Semi-Furnished",
          "Semi-Furnished",
          "Unfurnished",
          "Unfurnished",
          "Furnished",
          "Semi-Furnished",
          "Furnished",
          "Furnished",
          "Unfurnished",
          "Unfurnished",
          "Semi-Furnished",
          "Semi-Furnished",
          "Semi-Furnished",
          "Semi-Furnished",
          "Semi-Furnished",
          "Unfurnished",
          "Semi-Furnished",
          "Semi-Furnished",
          "Furnished",
          "Unfurnished",
          "Unfurnished",
          "Semi-Furnished",
          "Semi-Furnished",
          "Semi-Furnished",
          "Unfurnished",
          "Unfurnished",
          "Unfurnished",
          "Unfurnished",
          "Semi-Furnished",
          "Semi-Furnished",
          "Semi-Furnished",
          "Semi-Furnished",
          "Semi-Furnished",
          "Furnished",
          "Unfurnished",
          "Semi-Furnished",
          "Unfurnished",
          "Semi-Furnished",
          "Furnished",
          "Semi-Furnished",
          "Unfurnished",
          "Semi-Furnished",
          "Semi-Furnished",
          "Unfurnished",
          "Semi-Furnished",
          "Semi-Furnished",
          "Semi-Furnished",
          "Semi-Furnished",
          "Semi-Furnished",
          "Semi-Furnished",
          "Unfurnished",
          "Semi-Furnished",
          "Semi-Furnished",
          "Semi-Furnished",
          "Semi-Furnished",
          "Furnished",
          "Unfurnished",
          "Unfurnished",
          "Unfurnished",
          "Semi-Furnished",
          "Unfurnished",
          "Furnished",
          "Unfurnished",
          "Unfurnished",
          "Unfurnished",
          "Semi-Furnished",
          "Semi-Furnished",
          "Unfurnished",
          "Semi-Furnished",
          "Unfurnished",
          "Unfurnished",
          "Semi-Furnished",
          "Semi-Furnished",
          "Furnished",
          "Unfurnished",
          "Unfurnished",
          "Unfurnished",
          "Unfurnished",
          "Unfurnished",
          "Unfurnished",
          "Semi-Furnished",
          "Semi-Furnished",
          "Unfurnished",
          "Unfurnished",
          "Semi-Furnished",
          "Semi-Furnished",
          "Semi-Furnished",
          "Unfurnished",
          "Semi-Furnished",
          "Semi-Furnished",
          "Unfurnished",
          "Semi-Furnished",
          "Unfurnished",
          "Unfurnished",
          "Furnished",
          "Semi-Furnished",
          "Semi-Furnished",
          "Semi-Furnished",
          "Semi-Furnished",
          "Furnished",
          "Semi-Furnished",
          "Unfurnished",
          "Furnished",
          "Unfurnished",
          "Unfurnished",
          "Unfurnished",
          "Unfurnished",
          "Semi-Furnished",
          "Unfurnished",
          "Unfurnished",
          "Unfurnished",
          "Unfurnished",
          "Unfurnished",
          "Unfurnished",
          "Furnished",
          "Unfurnished",
          "Furnished",
          "Unfurnished",
          "Unfurnished",
          "Unfurnished",
          "Semi-Furnished",
          "Unfurnished",
          "Furnished",
          "Unfurnished",
          "Unfurnished",
          "Semi-Furnished",
          "Furnished",
          "Unfurnished",
          "Unfurnished",
          "Unfurnished",
          "Unfurnished",
          "Semi-Furnished",
          "Semi-Furnished",
          "Semi-Furnished",
          "Semi-Furnished",
          "Furnished",
          "Semi-Furnished",
          "Semi-Furnished",
          "Semi-Furnished",
          "Semi-Furnished",
          "Unfurnished",
          "Semi-Furnished",
          "Unfurnished",
          "Unfurnished",
          "Semi-Furnished",
          "Unfurnished",
          "Semi-Furnished",
          "Semi-Furnished",
          "Semi-Furnished",
          "Semi-Furnished",
          "Semi-Furnished",
          "Unfurnished",
          "Furnished",
          "Unfurnished",
          "Semi-Furnished",
          "Furnished",
          "Unfurnished",
          "Furnished",
          "Semi-Furnished",
          "Unfurnished",
          "Semi-Furnished",
          "Unfurnished",
          "Unfurnished",
          "Semi-Furnished",
          "Unfurnished",
          "Unfurnished",
          "Furnished",
          "Semi-Furnished",
          "Semi-Furnished",
          "Unfurnished",
          "Unfurnished",
          "Semi-Furnished",
          "Unfurnished",
          "Unfurnished",
          "Semi-Furnished",
          "Furnished",
          "Semi-Furnished",
          "Furnished",
          "Semi-Furnished",
          "Semi-Furnished",
          "Semi-Furnished",
          "Semi-Furnished",
          "Semi-Furnished",
          "Semi-Furnished",
          "Semi-Furnished",
          "Unfurnished",
          "Unfurnished",
          "Furnished",
          "Semi-Furnished",
          "Semi-Furnished",
          "Furnished",
          "Furnished",
          "Semi-Furnished",
          "Semi-Furnished",
          "Unfurnished",
          "Semi-Furnished",
          "Unfurnished",
          "Semi-Furnished",
          "Unfurnished",
          "Unfurnished",
          "Unfurnished",
          "Furnished",
          "Furnished",
          "Unfurnished",
          "Semi-Furnished",
          "Semi-Furnished",
          "Semi-Furnished",
          "Semi-Furnished",
          "Semi-Furnished",
          "Unfurnished",
          "Unfurnished",
          "Unfurnished",
          "Semi-Furnished",
          "Semi-Furnished",
          "Semi-Furnished",
          "Semi-Furnished",
          "Unfurnished",
          "Semi-Furnished",
          "Semi-Furnished",
          "Semi-Furnished",
          "Semi-Furnished",
          "Furnished",
          "Semi-Furnished",
          "Semi-Furnished",
          "Semi-Furnished",
          "Semi-Furnished",
          "Semi-Furnished",
          "Semi-Furnished",
          "Semi-Furnished",
          "Semi-Furnished",
          "Unfurnished",
          "Unfurnished",
          "Unfurnished",
          "Furnished",
          "Semi-Furnished",
          "Semi-Furnished",
          "Unfurnished",
          "Semi-Furnished",
          "Unfurnished",
          "Semi-Furnished",
          "Semi-Furnished",
          "Unfurnished",
          "Semi-Furnished",
          "Furnished",
          "Furnished",
          "Semi-Furnished",
          "Semi-Furnished",
          "Furnished",
          "Semi-Furnished",
          "Semi-Furnished",
          "Unfurnished",
          "Unfurnished",
          "Semi-Furnished",
          "Semi-Furnished",
          "Unfurnished",
          "Unfurnished",
          "Unfurnished",
          "Unfurnished",
          "Semi-Furnished",
          "Unfurnished",
          "Semi-Furnished",
          "Unfurnished",
          "Semi-Furnished",
          "Semi-Furnished",
          "Furnished",
          "Unfurnished",
          "Unfurnished",
          "Unfurnished",
          "Unfurnished",
          "Semi-Furnished",
          "Semi-Furnished",
          "Semi-Furnished",
          "Semi-Furnished",
          "Unfurnished",
          "Unfurnished",
          "Semi-Furnished",
          "Unfurnished",
          "Semi-Furnished",
          "Unfurnished",
          "Semi-Furnished",
          "Unfurnished",
          "Semi-Furnished",
          "Unfurnished",
          "Unfurnished",
          "Semi-Furnished",
          "Semi-Furnished",
          "Unfurnished",
          "Semi-Furnished",
          "Semi-Furnished",
          "Furnished",
          "Semi-Furnished",
          "Semi-Furnished",
          "Semi-Furnished",
          "Semi-Furnished",
          "Semi-Furnished",
          "Semi-Furnished",
          "Furnished",
          "Semi-Furnished",
          "Semi-Furnished",
          "Semi-Furnished",
          "Semi-Furnished",
          "Semi-Furnished",
          "Unfurnished",
          "Semi-Furnished",
          "Semi-Furnished",
          "Unfurnished",
          "Unfurnished",
          "Semi-Furnished",
          "Semi-Furnished",
          "Semi-Furnished",
          "Semi-Furnished",
          "Furnished",
          "Semi-Furnished",
          "Semi-Furnished",
          "Furnished",
          "Semi-Furnished",
          "Semi-Furnished",
          "Unfurnished",
          "Unfurnished",
          "Unfurnished",
          "Semi-Furnished",
          "Semi-Furnished",
          "Furnished",
          "Unfurnished",
          "Unfurnished",
          "Unfurnished",
          "Semi-Furnished",
          "Semi-Furnished",
          "Semi-Furnished",
          "Unfurnished",
          "Unfurnished",
          "Unfurnished",
          "Unfurnished",
          "Unfurnished",
          "Semi-Furnished",
          "Semi-Furnished",
          "Unfurnished",
          "Unfurnished",
          "Furnished",
          "Semi-Furnished",
          "Semi-Furnished",
          "Semi-Furnished",
          "Semi-Furnished",
          "Furnished",
          "Unfurnished",
          "Semi-Furnished",
          "Unfurnished",
          "Unfurnished",
          "Semi-Furnished",
          "Furnished",
          "Unfurnished",
          "Semi-Furnished",
          "Unfurnished",
          "Semi-Furnished",
          "Semi-Furnished",
          "Semi-Furnished",
          "Unfurnished",
          "Unfurnished",
          "Semi-Furnished",
          "Unfurnished",
          "Semi-Furnished",
          "Semi-Furnished",
          "Unfurnished",
          "Semi-Furnished",
          "Unfurnished",
          "Semi-Furnished",
          "Furnished",
          "Unfurnished",
          "Unfurnished",
          "Semi-Furnished",
          "Semi-Furnished",
          "Semi-Furnished",
          "Semi-Furnished",
          "Unfurnished",
          "Unfurnished",
          "Semi-Furnished",
          "Unfurnished",
          "Semi-Furnished",
          "Semi-Furnished",
          "Semi-Furnished",
          "Semi-Furnished",
          "Semi-Furnished",
          "Semi-Furnished",
          "Semi-Furnished",
          "Semi-Furnished",
          "Semi-Furnished",
          "Semi-Furnished",
          "Unfurnished",
          "Semi-Furnished",
          "Semi-Furnished",
          "Semi-Furnished",
          "Furnished",
          "Unfurnished",
          "Unfurnished",
          "Semi-Furnished",
          "Semi-Furnished",
          "Semi-Furnished",
          "Semi-Furnished",
          "Semi-Furnished",
          "Semi-Furnished",
          "Semi-Furnished",
          "Semi-Furnished",
          "Semi-Furnished",
          "Semi-Furnished",
          "Unfurnished",
          "Semi-Furnished",
          "Semi-Furnished",
          "Unfurnished",
          "Unfurnished"
         ],
         "xaxis": "x",
         "yaxis": "y"
        }
       ],
       "layout": {
        "bargap": 0.2,
        "bargroupgap": 0,
        "barmode": "group",
        "height": 420,
        "legend": {
         "tracegroupgap": 0
        },
        "margin": {
         "t": 60
        },
        "template": {
         "data": {
          "bar": [
           {
            "error_x": {
             "color": "#2a3f5f"
            },
            "error_y": {
             "color": "#2a3f5f"
            },
            "marker": {
             "line": {
              "color": "#E5ECF6",
              "width": 0.5
             }
            },
            "type": "bar"
           }
          ],
          "barpolar": [
           {
            "marker": {
             "line": {
              "color": "#E5ECF6",
              "width": 0.5
             }
            },
            "type": "barpolar"
           }
          ],
          "carpet": [
           {
            "aaxis": {
             "endlinecolor": "#2a3f5f",
             "gridcolor": "white",
             "linecolor": "white",
             "minorgridcolor": "white",
             "startlinecolor": "#2a3f5f"
            },
            "baxis": {
             "endlinecolor": "#2a3f5f",
             "gridcolor": "white",
             "linecolor": "white",
             "minorgridcolor": "white",
             "startlinecolor": "#2a3f5f"
            },
            "type": "carpet"
           }
          ],
          "choropleth": [
           {
            "colorbar": {
             "outlinewidth": 0,
             "ticks": ""
            },
            "type": "choropleth"
           }
          ],
          "contour": [
           {
            "colorbar": {
             "outlinewidth": 0,
             "ticks": ""
            },
            "colorscale": [
             [
              0,
              "#0d0887"
             ],
             [
              0.1111111111111111,
              "#46039f"
             ],
             [
              0.2222222222222222,
              "#7201a8"
             ],
             [
              0.3333333333333333,
              "#9c179e"
             ],
             [
              0.4444444444444444,
              "#bd3786"
             ],
             [
              0.5555555555555556,
              "#d8576b"
             ],
             [
              0.6666666666666666,
              "#ed7953"
             ],
             [
              0.7777777777777778,
              "#fb9f3a"
             ],
             [
              0.8888888888888888,
              "#fdca26"
             ],
             [
              1,
              "#f0f921"
             ]
            ],
            "type": "contour"
           }
          ],
          "contourcarpet": [
           {
            "colorbar": {
             "outlinewidth": 0,
             "ticks": ""
            },
            "type": "contourcarpet"
           }
          ],
          "heatmap": [
           {
            "colorbar": {
             "outlinewidth": 0,
             "ticks": ""
            },
            "colorscale": [
             [
              0,
              "#0d0887"
             ],
             [
              0.1111111111111111,
              "#46039f"
             ],
             [
              0.2222222222222222,
              "#7201a8"
             ],
             [
              0.3333333333333333,
              "#9c179e"
             ],
             [
              0.4444444444444444,
              "#bd3786"
             ],
             [
              0.5555555555555556,
              "#d8576b"
             ],
             [
              0.6666666666666666,
              "#ed7953"
             ],
             [
              0.7777777777777778,
              "#fb9f3a"
             ],
             [
              0.8888888888888888,
              "#fdca26"
             ],
             [
              1,
              "#f0f921"
             ]
            ],
            "type": "heatmap"
           }
          ],
          "heatmapgl": [
           {
            "colorbar": {
             "outlinewidth": 0,
             "ticks": ""
            },
            "colorscale": [
             [
              0,
              "#0d0887"
             ],
             [
              0.1111111111111111,
              "#46039f"
             ],
             [
              0.2222222222222222,
              "#7201a8"
             ],
             [
              0.3333333333333333,
              "#9c179e"
             ],
             [
              0.4444444444444444,
              "#bd3786"
             ],
             [
              0.5555555555555556,
              "#d8576b"
             ],
             [
              0.6666666666666666,
              "#ed7953"
             ],
             [
              0.7777777777777778,
              "#fb9f3a"
             ],
             [
              0.8888888888888888,
              "#fdca26"
             ],
             [
              1,
              "#f0f921"
             ]
            ],
            "type": "heatmapgl"
           }
          ],
          "histogram": [
           {
            "marker": {
             "colorbar": {
              "outlinewidth": 0,
              "ticks": ""
             }
            },
            "type": "histogram"
           }
          ],
          "histogram2d": [
           {
            "colorbar": {
             "outlinewidth": 0,
             "ticks": ""
            },
            "colorscale": [
             [
              0,
              "#0d0887"
             ],
             [
              0.1111111111111111,
              "#46039f"
             ],
             [
              0.2222222222222222,
              "#7201a8"
             ],
             [
              0.3333333333333333,
              "#9c179e"
             ],
             [
              0.4444444444444444,
              "#bd3786"
             ],
             [
              0.5555555555555556,
              "#d8576b"
             ],
             [
              0.6666666666666666,
              "#ed7953"
             ],
             [
              0.7777777777777778,
              "#fb9f3a"
             ],
             [
              0.8888888888888888,
              "#fdca26"
             ],
             [
              1,
              "#f0f921"
             ]
            ],
            "type": "histogram2d"
           }
          ],
          "histogram2dcontour": [
           {
            "colorbar": {
             "outlinewidth": 0,
             "ticks": ""
            },
            "colorscale": [
             [
              0,
              "#0d0887"
             ],
             [
              0.1111111111111111,
              "#46039f"
             ],
             [
              0.2222222222222222,
              "#7201a8"
             ],
             [
              0.3333333333333333,
              "#9c179e"
             ],
             [
              0.4444444444444444,
              "#bd3786"
             ],
             [
              0.5555555555555556,
              "#d8576b"
             ],
             [
              0.6666666666666666,
              "#ed7953"
             ],
             [
              0.7777777777777778,
              "#fb9f3a"
             ],
             [
              0.8888888888888888,
              "#fdca26"
             ],
             [
              1,
              "#f0f921"
             ]
            ],
            "type": "histogram2dcontour"
           }
          ],
          "mesh3d": [
           {
            "colorbar": {
             "outlinewidth": 0,
             "ticks": ""
            },
            "type": "mesh3d"
           }
          ],
          "parcoords": [
           {
            "line": {
             "colorbar": {
              "outlinewidth": 0,
              "ticks": ""
             }
            },
            "type": "parcoords"
           }
          ],
          "pie": [
           {
            "automargin": true,
            "type": "pie"
           }
          ],
          "scatter": [
           {
            "marker": {
             "colorbar": {
              "outlinewidth": 0,
              "ticks": ""
             }
            },
            "type": "scatter"
           }
          ],
          "scatter3d": [
           {
            "line": {
             "colorbar": {
              "outlinewidth": 0,
              "ticks": ""
             }
            },
            "marker": {
             "colorbar": {
              "outlinewidth": 0,
              "ticks": ""
             }
            },
            "type": "scatter3d"
           }
          ],
          "scattercarpet": [
           {
            "marker": {
             "colorbar": {
              "outlinewidth": 0,
              "ticks": ""
             }
            },
            "type": "scattercarpet"
           }
          ],
          "scattergeo": [
           {
            "marker": {
             "colorbar": {
              "outlinewidth": 0,
              "ticks": ""
             }
            },
            "type": "scattergeo"
           }
          ],
          "scattergl": [
           {
            "marker": {
             "colorbar": {
              "outlinewidth": 0,
              "ticks": ""
             }
            },
            "type": "scattergl"
           }
          ],
          "scattermapbox": [
           {
            "marker": {
             "colorbar": {
              "outlinewidth": 0,
              "ticks": ""
             }
            },
            "type": "scattermapbox"
           }
          ],
          "scatterpolar": [
           {
            "marker": {
             "colorbar": {
              "outlinewidth": 0,
              "ticks": ""
             }
            },
            "type": "scatterpolar"
           }
          ],
          "scatterpolargl": [
           {
            "marker": {
             "colorbar": {
              "outlinewidth": 0,
              "ticks": ""
             }
            },
            "type": "scatterpolargl"
           }
          ],
          "scatterternary": [
           {
            "marker": {
             "colorbar": {
              "outlinewidth": 0,
              "ticks": ""
             }
            },
            "type": "scatterternary"
           }
          ],
          "surface": [
           {
            "colorbar": {
             "outlinewidth": 0,
             "ticks": ""
            },
            "colorscale": [
             [
              0,
              "#0d0887"
             ],
             [
              0.1111111111111111,
              "#46039f"
             ],
             [
              0.2222222222222222,
              "#7201a8"
             ],
             [
              0.3333333333333333,
              "#9c179e"
             ],
             [
              0.4444444444444444,
              "#bd3786"
             ],
             [
              0.5555555555555556,
              "#d8576b"
             ],
             [
              0.6666666666666666,
              "#ed7953"
             ],
             [
              0.7777777777777778,
              "#fb9f3a"
             ],
             [
              0.8888888888888888,
              "#fdca26"
             ],
             [
              1,
              "#f0f921"
             ]
            ],
            "type": "surface"
           }
          ],
          "table": [
           {
            "cells": {
             "fill": {
              "color": "#EBF0F8"
             },
             "line": {
              "color": "white"
             }
            },
            "header": {
             "fill": {
              "color": "#C8D4E3"
             },
             "line": {
              "color": "white"
             }
            },
            "type": "table"
           }
          ]
         },
         "layout": {
          "annotationdefaults": {
           "arrowcolor": "#2a3f5f",
           "arrowhead": 0,
           "arrowwidth": 1
          },
          "autotypenumbers": "strict",
          "coloraxis": {
           "colorbar": {
            "outlinewidth": 0,
            "ticks": ""
           }
          },
          "colorscale": {
           "diverging": [
            [
             0,
             "#8e0152"
            ],
            [
             0.1,
             "#c51b7d"
            ],
            [
             0.2,
             "#de77ae"
            ],
            [
             0.3,
             "#f1b6da"
            ],
            [
             0.4,
             "#fde0ef"
            ],
            [
             0.5,
             "#f7f7f7"
            ],
            [
             0.6,
             "#e6f5d0"
            ],
            [
             0.7,
             "#b8e186"
            ],
            [
             0.8,
             "#7fbc41"
            ],
            [
             0.9,
             "#4d9221"
            ],
            [
             1,
             "#276419"
            ]
           ],
           "sequential": [
            [
             0,
             "#0d0887"
            ],
            [
             0.1111111111111111,
             "#46039f"
            ],
            [
             0.2222222222222222,
             "#7201a8"
            ],
            [
             0.3333333333333333,
             "#9c179e"
            ],
            [
             0.4444444444444444,
             "#bd3786"
            ],
            [
             0.5555555555555556,
             "#d8576b"
            ],
            [
             0.6666666666666666,
             "#ed7953"
            ],
            [
             0.7777777777777778,
             "#fb9f3a"
            ],
            [
             0.8888888888888888,
             "#fdca26"
            ],
            [
             1,
             "#f0f921"
            ]
           ],
           "sequentialminus": [
            [
             0,
             "#0d0887"
            ],
            [
             0.1111111111111111,
             "#46039f"
            ],
            [
             0.2222222222222222,
             "#7201a8"
            ],
            [
             0.3333333333333333,
             "#9c179e"
            ],
            [
             0.4444444444444444,
             "#bd3786"
            ],
            [
             0.5555555555555556,
             "#d8576b"
            ],
            [
             0.6666666666666666,
             "#ed7953"
            ],
            [
             0.7777777777777778,
             "#fb9f3a"
            ],
            [
             0.8888888888888888,
             "#fdca26"
            ],
            [
             1,
             "#f0f921"
            ]
           ]
          },
          "colorway": [
           "#636efa",
           "#EF553B",
           "#00cc96",
           "#ab63fa",
           "#FFA15A",
           "#19d3f3",
           "#FF6692",
           "#B6E880",
           "#FF97FF",
           "#FECB52"
          ],
          "font": {
           "color": "#2a3f5f"
          },
          "geo": {
           "bgcolor": "white",
           "lakecolor": "white",
           "landcolor": "#E5ECF6",
           "showlakes": true,
           "showland": true,
           "subunitcolor": "white"
          },
          "hoverlabel": {
           "align": "left"
          },
          "hovermode": "closest",
          "mapbox": {
           "style": "light"
          },
          "paper_bgcolor": "white",
          "plot_bgcolor": "#E5ECF6",
          "polar": {
           "angularaxis": {
            "gridcolor": "white",
            "linecolor": "white",
            "ticks": ""
           },
           "bgcolor": "#E5ECF6",
           "radialaxis": {
            "gridcolor": "white",
            "linecolor": "white",
            "ticks": ""
           }
          },
          "scene": {
           "xaxis": {
            "backgroundcolor": "#E5ECF6",
            "gridcolor": "white",
            "gridwidth": 2,
            "linecolor": "white",
            "showbackground": true,
            "ticks": "",
            "zerolinecolor": "white"
           },
           "yaxis": {
            "backgroundcolor": "#E5ECF6",
            "gridcolor": "white",
            "gridwidth": 2,
            "linecolor": "white",
            "showbackground": true,
            "ticks": "",
            "zerolinecolor": "white"
           },
           "zaxis": {
            "backgroundcolor": "#E5ECF6",
            "gridcolor": "white",
            "gridwidth": 2,
            "linecolor": "white",
            "showbackground": true,
            "ticks": "",
            "zerolinecolor": "white"
           }
          },
          "shapedefaults": {
           "line": {
            "color": "#2a3f5f"
           }
          },
          "ternary": {
           "aaxis": {
            "gridcolor": "white",
            "linecolor": "white",
            "ticks": ""
           },
           "baxis": {
            "gridcolor": "white",
            "linecolor": "white",
            "ticks": ""
           },
           "bgcolor": "#E5ECF6",
           "caxis": {
            "gridcolor": "white",
            "linecolor": "white",
            "ticks": ""
           }
          },
          "title": {
           "x": 0.05
          },
          "xaxis": {
           "automargin": true,
           "gridcolor": "white",
           "linecolor": "white",
           "ticks": "",
           "title": {
            "standoff": 15
           },
           "zerolinecolor": "white",
           "zerolinewidth": 2
          },
          "yaxis": {
           "automargin": true,
           "gridcolor": "white",
           "linecolor": "white",
           "ticks": "",
           "title": {
            "standoff": 15
           },
           "zerolinecolor": "white",
           "zerolinewidth": 2
          }
         }
        },
        "width": 600,
        "xaxis": {
         "anchor": "y",
         "domain": [
          0,
          1
         ],
         "title": {
          "text": "Furnishing"
         }
        },
        "yaxis": {
         "anchor": "x",
         "domain": [
          0,
          1
         ],
         "title": {
          "text": "count"
         }
        }
       }
      }
     },
     "metadata": {}
    }
   ],
   "source": [
    "# Furnishing types vs count\n",
    "fig = px.histogram(df2,x='Furnishing')\n",
    "fig.update_layout(barmode='group', bargap=0.20,bargroupgap=0.0,height=420,width=600)\n",
    "fig.show()"
   ]
  },
  {
   "cell_type": "code",
   "execution_count": 19,
   "metadata": {},
   "outputs": [
    {
     "output_type": "display_data",
     "data": {
      "application/vnd.plotly.v1+json": {
       "config": {
        "plotlyServerURL": "https://plot.ly"
       },
       "data": [
        {
         "hovertemplate": "Furnishing=%{x}<br>Price=%{y}<extra></extra>",
         "legendgroup": "",
         "marker": {
          "color": "#636efa",
          "symbol": "circle"
         },
         "mode": "markers",
         "name": "",
         "showlegend": false,
         "type": "scattergl",
         "x": [
          "Semi-Furnished",
          "Furnished",
          "Semi-Furnished",
          "Semi-Furnished",
          "Semi-Furnished",
          "Semi-Furnished",
          "Semi-Furnished",
          "Unfurnished",
          "Semi-Furnished",
          "Semi-Furnished",
          "Semi-Furnished",
          "Semi-Furnished",
          "Semi-Furnished",
          "Semi-Furnished",
          "Semi-Furnished",
          "Semi-Furnished",
          "Semi-Furnished",
          "Semi-Furnished",
          "Semi-Furnished",
          "Semi-Furnished",
          "Semi-Furnished",
          "Furnished",
          "Semi-Furnished",
          "Semi-Furnished",
          "Furnished",
          "Semi-Furnished",
          "Semi-Furnished",
          "Furnished",
          "Furnished",
          "Semi-Furnished",
          "Semi-Furnished",
          "Semi-Furnished",
          "Unfurnished",
          "Unfurnished",
          "Unfurnished",
          "Unfurnished",
          "Semi-Furnished",
          "Semi-Furnished",
          "Semi-Furnished",
          "Semi-Furnished",
          "Semi-Furnished",
          "Unfurnished",
          "Semi-Furnished",
          "Unfurnished",
          "Unfurnished",
          "Unfurnished",
          "Unfurnished",
          "Semi-Furnished",
          "Semi-Furnished",
          "Semi-Furnished",
          "Furnished",
          "Semi-Furnished",
          "Semi-Furnished",
          "Unfurnished",
          "Unfurnished",
          "Semi-Furnished",
          "Semi-Furnished",
          "Semi-Furnished",
          "Furnished",
          "Semi-Furnished",
          "Semi-Furnished",
          "Unfurnished",
          "Furnished",
          "Furnished",
          "Semi-Furnished",
          "Semi-Furnished",
          "Unfurnished",
          "Semi-Furnished",
          "Semi-Furnished",
          "Semi-Furnished",
          "Semi-Furnished",
          "Semi-Furnished",
          "Unfurnished",
          "Semi-Furnished",
          "Unfurnished",
          "Unfurnished",
          "Semi-Furnished",
          "Furnished",
          "Semi-Furnished",
          "Furnished",
          "Furnished",
          "Unfurnished",
          "Unfurnished",
          "Semi-Furnished",
          "Semi-Furnished",
          "Semi-Furnished",
          "Semi-Furnished",
          "Unfurnished",
          "Unfurnished",
          "Furnished",
          "Semi-Furnished",
          "Semi-Furnished",
          "Semi-Furnished",
          "Semi-Furnished",
          "Semi-Furnished",
          "Semi-Furnished",
          "Semi-Furnished",
          "Semi-Furnished",
          "Furnished",
          "Unfurnished",
          "Furnished",
          "Unfurnished",
          "Semi-Furnished",
          "Semi-Furnished",
          "Semi-Furnished",
          "Semi-Furnished",
          "Unfurnished",
          "Unfurnished",
          "Unfurnished",
          "Semi-Furnished",
          "Semi-Furnished",
          "Unfurnished",
          "Semi-Furnished",
          "Unfurnished",
          "Unfurnished",
          "Unfurnished",
          "Unfurnished",
          "Furnished",
          "Semi-Furnished",
          "Semi-Furnished",
          "Furnished",
          "Semi-Furnished",
          "Semi-Furnished",
          "Semi-Furnished",
          "Unfurnished",
          "Furnished",
          "Furnished",
          "Furnished",
          "Furnished",
          "Furnished",
          "Furnished",
          "Furnished",
          "Semi-Furnished",
          "Semi-Furnished",
          "Semi-Furnished",
          "Semi-Furnished",
          "Unfurnished",
          "Semi-Furnished",
          "Semi-Furnished",
          "Semi-Furnished",
          "Semi-Furnished",
          "Semi-Furnished",
          "Semi-Furnished",
          "Furnished",
          "Semi-Furnished",
          "Semi-Furnished",
          "Semi-Furnished",
          "Semi-Furnished",
          "Semi-Furnished",
          "Semi-Furnished",
          "Semi-Furnished",
          "Semi-Furnished",
          "Semi-Furnished",
          "Semi-Furnished",
          "Semi-Furnished",
          "Semi-Furnished",
          "Semi-Furnished",
          "Semi-Furnished",
          "Semi-Furnished",
          "Semi-Furnished",
          "Semi-Furnished",
          "Semi-Furnished",
          "Semi-Furnished",
          "Semi-Furnished",
          "Semi-Furnished",
          "Semi-Furnished",
          "Semi-Furnished",
          "Semi-Furnished",
          "Semi-Furnished",
          "Semi-Furnished",
          "Semi-Furnished",
          "Semi-Furnished",
          "Unfurnished",
          "Semi-Furnished",
          "Unfurnished",
          "Furnished",
          "Unfurnished",
          "Semi-Furnished",
          "Semi-Furnished",
          "Unfurnished",
          "Semi-Furnished",
          "Unfurnished",
          "Semi-Furnished",
          "Furnished",
          "Unfurnished",
          "Semi-Furnished",
          "Unfurnished",
          "Furnished",
          "Unfurnished",
          "Semi-Furnished",
          "Furnished",
          "Unfurnished",
          "Semi-Furnished",
          "Semi-Furnished",
          "Semi-Furnished",
          "Semi-Furnished",
          "Semi-Furnished",
          "Semi-Furnished",
          "Semi-Furnished",
          "Semi-Furnished",
          "Semi-Furnished",
          "Unfurnished",
          "Semi-Furnished",
          "Semi-Furnished",
          "Semi-Furnished",
          "Unfurnished",
          "Semi-Furnished",
          "Semi-Furnished",
          "Semi-Furnished",
          "Furnished",
          "Semi-Furnished",
          "Semi-Furnished",
          "Semi-Furnished",
          "Unfurnished",
          "Semi-Furnished",
          "Semi-Furnished",
          "Semi-Furnished",
          "Unfurnished",
          "Semi-Furnished",
          "Semi-Furnished",
          "Semi-Furnished",
          "Unfurnished",
          "Semi-Furnished",
          "Semi-Furnished",
          "Unfurnished",
          "Semi-Furnished",
          "Semi-Furnished",
          "Semi-Furnished",
          "Semi-Furnished",
          "Semi-Furnished",
          "Semi-Furnished",
          "Semi-Furnished",
          "Semi-Furnished",
          "Semi-Furnished",
          "Semi-Furnished",
          "Semi-Furnished",
          "Semi-Furnished",
          "Semi-Furnished",
          "Semi-Furnished",
          "Semi-Furnished",
          "Semi-Furnished",
          "Semi-Furnished",
          "Unfurnished",
          "Unfurnished",
          "Semi-Furnished",
          "Semi-Furnished",
          "Unfurnished",
          "Semi-Furnished",
          "Unfurnished",
          "Semi-Furnished",
          "Semi-Furnished",
          "Unfurnished",
          "Unfurnished",
          "Semi-Furnished",
          "Semi-Furnished",
          "Semi-Furnished",
          "Semi-Furnished",
          "Semi-Furnished",
          "Semi-Furnished",
          "Unfurnished",
          "Furnished",
          "Semi-Furnished",
          "Semi-Furnished",
          "Semi-Furnished",
          "Unfurnished",
          "Semi-Furnished",
          "Semi-Furnished",
          "Unfurnished",
          "Unfurnished",
          "Unfurnished",
          "Unfurnished",
          "Semi-Furnished",
          "Semi-Furnished",
          "Unfurnished",
          "Furnished",
          "Semi-Furnished",
          "Semi-Furnished",
          "Furnished",
          "Furnished",
          "Semi-Furnished",
          "Furnished",
          "Furnished",
          "Furnished",
          "Furnished",
          "Unfurnished",
          "Semi-Furnished",
          "Unfurnished",
          "Semi-Furnished",
          "Unfurnished",
          "Semi-Furnished",
          "Unfurnished",
          "Furnished",
          "Unfurnished",
          "Furnished",
          "Furnished",
          "Furnished",
          "Furnished",
          "Furnished",
          "Furnished",
          "Furnished",
          "Furnished",
          "Furnished",
          "Furnished",
          "Furnished",
          "Furnished",
          "Furnished",
          "Furnished",
          "Furnished",
          "Furnished",
          "Furnished",
          "Unfurnished",
          "Semi-Furnished",
          "Semi-Furnished",
          "Unfurnished",
          "Semi-Furnished",
          "Semi-Furnished",
          "Semi-Furnished",
          "Semi-Furnished",
          "Furnished",
          "Unfurnished",
          "Unfurnished",
          "Unfurnished",
          "Unfurnished",
          "Furnished",
          "Semi-Furnished",
          "Unfurnished",
          "Semi-Furnished",
          "Semi-Furnished",
          "Furnished",
          "Unfurnished",
          "Unfurnished",
          "Unfurnished",
          "Furnished",
          "Semi-Furnished",
          "Semi-Furnished",
          "Semi-Furnished",
          "Unfurnished",
          "Furnished",
          "Unfurnished",
          "Semi-Furnished",
          "Semi-Furnished",
          "Semi-Furnished",
          "Semi-Furnished",
          "Semi-Furnished",
          "Semi-Furnished",
          "Semi-Furnished",
          "Semi-Furnished",
          "Semi-Furnished",
          "Semi-Furnished",
          "Semi-Furnished",
          "Semi-Furnished",
          "Semi-Furnished",
          "Semi-Furnished",
          "Unfurnished",
          "Semi-Furnished",
          "Semi-Furnished",
          "Semi-Furnished",
          "Semi-Furnished",
          "Furnished",
          "Unfurnished",
          "Semi-Furnished",
          "Semi-Furnished",
          "Unfurnished",
          "Unfurnished",
          "Semi-Furnished",
          "Semi-Furnished",
          "Unfurnished",
          "Unfurnished",
          "Furnished",
          "Unfurnished",
          "Semi-Furnished",
          "Semi-Furnished",
          "Furnished",
          "Semi-Furnished",
          "Semi-Furnished",
          "Semi-Furnished",
          "Semi-Furnished",
          "Semi-Furnished",
          "Furnished",
          "Unfurnished",
          "Semi-Furnished",
          "Semi-Furnished",
          "Semi-Furnished",
          "Furnished",
          "Unfurnished",
          "Unfurnished",
          "Semi-Furnished",
          "Unfurnished",
          "Unfurnished",
          "Unfurnished",
          "Semi-Furnished",
          "Semi-Furnished",
          "Furnished",
          "Semi-Furnished",
          "Unfurnished",
          "Unfurnished",
          "Unfurnished",
          "Semi-Furnished",
          "Unfurnished",
          "Semi-Furnished",
          "Semi-Furnished",
          "Semi-Furnished",
          "Unfurnished",
          "Unfurnished",
          "Semi-Furnished",
          "Unfurnished",
          "Semi-Furnished",
          "Furnished",
          "Semi-Furnished",
          "Semi-Furnished",
          "Semi-Furnished",
          "Semi-Furnished",
          "Furnished",
          "Furnished",
          "Semi-Furnished",
          "Furnished",
          "Semi-Furnished",
          "Furnished",
          "Unfurnished",
          "Semi-Furnished",
          "Unfurnished",
          "Furnished",
          "Unfurnished",
          "Semi-Furnished",
          "Semi-Furnished",
          "Unfurnished",
          "Semi-Furnished",
          "Unfurnished",
          "Semi-Furnished",
          "Furnished",
          "Unfurnished",
          "Semi-Furnished",
          "Unfurnished",
          "Furnished",
          "Unfurnished",
          "Semi-Furnished",
          "Furnished",
          "Unfurnished",
          "Semi-Furnished",
          "Semi-Furnished",
          "Semi-Furnished",
          "Semi-Furnished",
          "Semi-Furnished",
          "Semi-Furnished",
          "Semi-Furnished",
          "Semi-Furnished",
          "Semi-Furnished",
          "Unfurnished",
          "Unfurnished",
          "Semi-Furnished",
          "Furnished",
          "Furnished",
          "Unfurnished",
          "Furnished",
          "Furnished",
          "Furnished",
          "Unfurnished",
          "Semi-Furnished",
          "Unfurnished",
          "Semi-Furnished",
          "Furnished",
          "Unfurnished",
          "Unfurnished",
          "Semi-Furnished",
          "Unfurnished",
          "Semi-Furnished",
          "Unfurnished",
          "Semi-Furnished",
          "Unfurnished",
          "Furnished",
          "Semi-Furnished",
          "Semi-Furnished",
          "Semi-Furnished",
          "Semi-Furnished",
          "Semi-Furnished",
          "Semi-Furnished",
          "Semi-Furnished",
          "Semi-Furnished",
          "Semi-Furnished",
          "Semi-Furnished",
          "Unfurnished",
          "Furnished",
          "Semi-Furnished",
          "Furnished",
          "Semi-Furnished",
          "Semi-Furnished",
          "Semi-Furnished",
          "Semi-Furnished",
          "Semi-Furnished",
          "Semi-Furnished",
          "Semi-Furnished",
          "Unfurnished",
          "Semi-Furnished",
          "Semi-Furnished",
          "Semi-Furnished",
          "Semi-Furnished",
          "Semi-Furnished",
          "Semi-Furnished",
          "Semi-Furnished",
          "Semi-Furnished",
          "Unfurnished",
          "Unfurnished",
          "Unfurnished",
          "Semi-Furnished",
          "Unfurnished",
          "Semi-Furnished",
          "Unfurnished",
          "Semi-Furnished",
          "Semi-Furnished",
          "Semi-Furnished",
          "Semi-Furnished",
          "Furnished",
          "Semi-Furnished",
          "Semi-Furnished",
          "Unfurnished",
          "Semi-Furnished",
          "Semi-Furnished",
          "Semi-Furnished",
          "Semi-Furnished",
          "Unfurnished",
          "Semi-Furnished",
          "Unfurnished",
          "Semi-Furnished",
          "Semi-Furnished",
          "Semi-Furnished",
          "Unfurnished",
          "Unfurnished",
          "Semi-Furnished",
          "Semi-Furnished",
          "Unfurnished",
          "Semi-Furnished",
          "Semi-Furnished",
          "Unfurnished",
          "Furnished",
          "Semi-Furnished",
          "Unfurnished",
          "Semi-Furnished",
          "Unfurnished",
          "Furnished",
          "Unfurnished",
          "Unfurnished",
          "Semi-Furnished",
          "Unfurnished",
          "Furnished",
          "Unfurnished",
          "Semi-Furnished",
          "Semi-Furnished",
          "Unfurnished",
          "Semi-Furnished",
          "Semi-Furnished",
          "Furnished",
          "Furnished",
          "Furnished",
          "Furnished",
          "Semi-Furnished",
          "Semi-Furnished",
          "Unfurnished",
          "Semi-Furnished",
          "Semi-Furnished",
          "Semi-Furnished",
          "Semi-Furnished",
          "Furnished",
          "Semi-Furnished",
          "Furnished",
          "Unfurnished",
          "Semi-Furnished",
          "Semi-Furnished",
          "Semi-Furnished",
          "Semi-Furnished",
          "Furnished",
          "Semi-Furnished",
          "Semi-Furnished",
          "Semi-Furnished",
          "Semi-Furnished",
          "Semi-Furnished",
          "Semi-Furnished",
          "Semi-Furnished",
          "Semi-Furnished",
          "Semi-Furnished",
          "Unfurnished",
          "Semi-Furnished",
          "Semi-Furnished",
          "Unfurnished",
          "Semi-Furnished",
          "Furnished",
          "Unfurnished",
          "Unfurnished",
          "Unfurnished",
          "Semi-Furnished",
          "Semi-Furnished",
          "Semi-Furnished",
          "Unfurnished",
          "Unfurnished",
          "Unfurnished",
          "Unfurnished",
          "Unfurnished",
          "Semi-Furnished",
          "Semi-Furnished",
          "Unfurnished",
          "Unfurnished",
          "Furnished",
          "Semi-Furnished",
          "Furnished",
          "Furnished",
          "Unfurnished",
          "Unfurnished",
          "Semi-Furnished",
          "Semi-Furnished",
          "Semi-Furnished",
          "Semi-Furnished",
          "Semi-Furnished",
          "Unfurnished",
          "Semi-Furnished",
          "Semi-Furnished",
          "Furnished",
          "Unfurnished",
          "Unfurnished",
          "Semi-Furnished",
          "Semi-Furnished",
          "Semi-Furnished",
          "Unfurnished",
          "Unfurnished",
          "Unfurnished",
          "Unfurnished",
          "Semi-Furnished",
          "Semi-Furnished",
          "Semi-Furnished",
          "Semi-Furnished",
          "Semi-Furnished",
          "Furnished",
          "Unfurnished",
          "Semi-Furnished",
          "Unfurnished",
          "Semi-Furnished",
          "Furnished",
          "Semi-Furnished",
          "Unfurnished",
          "Semi-Furnished",
          "Semi-Furnished",
          "Unfurnished",
          "Semi-Furnished",
          "Semi-Furnished",
          "Semi-Furnished",
          "Semi-Furnished",
          "Semi-Furnished",
          "Semi-Furnished",
          "Unfurnished",
          "Semi-Furnished",
          "Semi-Furnished",
          "Semi-Furnished",
          "Semi-Furnished",
          "Furnished",
          "Unfurnished",
          "Unfurnished",
          "Unfurnished",
          "Semi-Furnished",
          "Unfurnished",
          "Furnished",
          "Unfurnished",
          "Unfurnished",
          "Unfurnished",
          "Semi-Furnished",
          "Semi-Furnished",
          "Unfurnished",
          "Semi-Furnished",
          "Unfurnished",
          "Unfurnished",
          "Semi-Furnished",
          "Semi-Furnished",
          "Furnished",
          "Unfurnished",
          "Unfurnished",
          "Unfurnished",
          "Unfurnished",
          "Unfurnished",
          "Unfurnished",
          "Semi-Furnished",
          "Semi-Furnished",
          "Unfurnished",
          "Unfurnished",
          "Semi-Furnished",
          "Semi-Furnished",
          "Semi-Furnished",
          "Unfurnished",
          "Semi-Furnished",
          "Semi-Furnished",
          "Unfurnished",
          "Semi-Furnished",
          "Unfurnished",
          "Unfurnished",
          "Furnished",
          "Semi-Furnished",
          "Semi-Furnished",
          "Semi-Furnished",
          "Semi-Furnished",
          "Furnished",
          "Semi-Furnished",
          "Unfurnished",
          "Furnished",
          "Unfurnished",
          "Unfurnished",
          "Unfurnished",
          "Unfurnished",
          "Semi-Furnished",
          "Unfurnished",
          "Unfurnished",
          "Unfurnished",
          "Unfurnished",
          "Unfurnished",
          "Unfurnished",
          "Furnished",
          "Unfurnished",
          "Furnished",
          "Unfurnished",
          "Unfurnished",
          "Unfurnished",
          "Semi-Furnished",
          "Unfurnished",
          "Furnished",
          "Unfurnished",
          "Unfurnished",
          "Semi-Furnished",
          "Furnished",
          "Unfurnished",
          "Unfurnished",
          "Unfurnished",
          "Unfurnished",
          "Semi-Furnished",
          "Semi-Furnished",
          "Semi-Furnished",
          "Semi-Furnished",
          "Furnished",
          "Semi-Furnished",
          "Semi-Furnished",
          "Semi-Furnished",
          "Semi-Furnished",
          "Unfurnished",
          "Semi-Furnished",
          "Unfurnished",
          "Unfurnished",
          "Semi-Furnished",
          "Unfurnished",
          "Semi-Furnished",
          "Semi-Furnished",
          "Semi-Furnished",
          "Semi-Furnished",
          "Semi-Furnished",
          "Unfurnished",
          "Furnished",
          "Unfurnished",
          "Semi-Furnished",
          "Furnished",
          "Unfurnished",
          "Furnished",
          "Semi-Furnished",
          "Unfurnished",
          "Semi-Furnished",
          "Unfurnished",
          "Unfurnished",
          "Semi-Furnished",
          "Unfurnished",
          "Unfurnished",
          "Furnished",
          "Semi-Furnished",
          "Semi-Furnished",
          "Unfurnished",
          "Unfurnished",
          "Semi-Furnished",
          "Unfurnished",
          "Unfurnished",
          "Semi-Furnished",
          "Furnished",
          "Semi-Furnished",
          "Furnished",
          "Semi-Furnished",
          "Semi-Furnished",
          "Semi-Furnished",
          "Semi-Furnished",
          "Semi-Furnished",
          "Semi-Furnished",
          "Semi-Furnished",
          "Unfurnished",
          "Unfurnished",
          "Furnished",
          "Semi-Furnished",
          "Semi-Furnished",
          "Furnished",
          "Furnished",
          "Semi-Furnished",
          "Semi-Furnished",
          "Unfurnished",
          "Semi-Furnished",
          "Unfurnished",
          "Semi-Furnished",
          "Unfurnished",
          "Unfurnished",
          "Unfurnished",
          "Furnished",
          "Furnished",
          "Unfurnished",
          "Semi-Furnished",
          "Semi-Furnished",
          "Semi-Furnished",
          "Semi-Furnished",
          "Semi-Furnished",
          "Unfurnished",
          "Unfurnished",
          "Unfurnished",
          "Semi-Furnished",
          "Semi-Furnished",
          "Semi-Furnished",
          "Semi-Furnished",
          "Unfurnished",
          "Semi-Furnished",
          "Semi-Furnished",
          "Semi-Furnished",
          "Semi-Furnished",
          "Furnished",
          "Semi-Furnished",
          "Semi-Furnished",
          "Semi-Furnished",
          "Semi-Furnished",
          "Semi-Furnished",
          "Semi-Furnished",
          "Semi-Furnished",
          "Semi-Furnished",
          "Unfurnished",
          "Unfurnished",
          "Unfurnished",
          "Furnished",
          "Semi-Furnished",
          "Semi-Furnished",
          "Unfurnished",
          "Semi-Furnished",
          "Unfurnished",
          "Semi-Furnished",
          "Semi-Furnished",
          "Unfurnished",
          "Semi-Furnished",
          "Furnished",
          "Furnished",
          "Semi-Furnished",
          "Semi-Furnished",
          "Furnished",
          "Semi-Furnished",
          "Semi-Furnished",
          "Unfurnished",
          "Unfurnished",
          "Semi-Furnished",
          "Semi-Furnished",
          "Unfurnished",
          "Unfurnished",
          "Unfurnished",
          "Unfurnished",
          "Semi-Furnished",
          "Unfurnished",
          "Semi-Furnished",
          "Unfurnished",
          "Semi-Furnished",
          "Semi-Furnished",
          "Furnished",
          "Unfurnished",
          "Unfurnished",
          "Unfurnished",
          "Unfurnished",
          "Semi-Furnished",
          "Semi-Furnished",
          "Semi-Furnished",
          "Semi-Furnished",
          "Unfurnished",
          "Unfurnished",
          "Semi-Furnished",
          "Unfurnished",
          "Semi-Furnished",
          "Unfurnished",
          "Semi-Furnished",
          "Unfurnished",
          "Semi-Furnished",
          "Unfurnished",
          "Unfurnished",
          "Semi-Furnished",
          "Semi-Furnished",
          "Unfurnished",
          "Semi-Furnished",
          "Semi-Furnished",
          "Furnished",
          "Semi-Furnished",
          "Semi-Furnished",
          "Semi-Furnished",
          "Semi-Furnished",
          "Semi-Furnished",
          "Semi-Furnished",
          "Furnished",
          "Semi-Furnished",
          "Semi-Furnished",
          "Semi-Furnished",
          "Semi-Furnished",
          "Semi-Furnished",
          "Unfurnished",
          "Semi-Furnished",
          "Semi-Furnished",
          "Unfurnished",
          "Unfurnished",
          "Semi-Furnished",
          "Semi-Furnished",
          "Semi-Furnished",
          "Semi-Furnished",
          "Furnished",
          "Semi-Furnished",
          "Semi-Furnished",
          "Furnished",
          "Semi-Furnished",
          "Semi-Furnished",
          "Unfurnished",
          "Unfurnished",
          "Unfurnished",
          "Semi-Furnished",
          "Semi-Furnished",
          "Furnished",
          "Unfurnished",
          "Unfurnished",
          "Unfurnished",
          "Semi-Furnished",
          "Semi-Furnished",
          "Semi-Furnished",
          "Unfurnished",
          "Unfurnished",
          "Unfurnished",
          "Unfurnished",
          "Unfurnished",
          "Semi-Furnished",
          "Semi-Furnished",
          "Unfurnished",
          "Unfurnished",
          "Furnished",
          "Semi-Furnished",
          "Semi-Furnished",
          "Semi-Furnished",
          "Semi-Furnished",
          "Furnished",
          "Unfurnished",
          "Semi-Furnished",
          "Unfurnished",
          "Unfurnished",
          "Semi-Furnished",
          "Furnished",
          "Unfurnished",
          "Semi-Furnished",
          "Unfurnished",
          "Semi-Furnished",
          "Semi-Furnished",
          "Semi-Furnished",
          "Unfurnished",
          "Unfurnished",
          "Semi-Furnished",
          "Unfurnished",
          "Semi-Furnished",
          "Semi-Furnished",
          "Unfurnished",
          "Semi-Furnished",
          "Unfurnished",
          "Semi-Furnished",
          "Furnished",
          "Unfurnished",
          "Unfurnished",
          "Semi-Furnished",
          "Semi-Furnished",
          "Semi-Furnished",
          "Semi-Furnished",
          "Unfurnished",
          "Unfurnished",
          "Semi-Furnished",
          "Unfurnished",
          "Semi-Furnished",
          "Semi-Furnished",
          "Semi-Furnished",
          "Semi-Furnished",
          "Semi-Furnished",
          "Semi-Furnished",
          "Semi-Furnished",
          "Semi-Furnished",
          "Semi-Furnished",
          "Semi-Furnished",
          "Unfurnished",
          "Semi-Furnished",
          "Semi-Furnished",
          "Semi-Furnished",
          "Furnished",
          "Unfurnished",
          "Unfurnished",
          "Semi-Furnished",
          "Semi-Furnished",
          "Semi-Furnished",
          "Semi-Furnished",
          "Semi-Furnished",
          "Semi-Furnished",
          "Semi-Furnished",
          "Semi-Furnished",
          "Semi-Furnished",
          "Semi-Furnished",
          "Unfurnished",
          "Semi-Furnished",
          "Semi-Furnished",
          "Unfurnished",
          "Unfurnished"
         ],
         "xaxis": "x",
         "y": [
          5000000,
          15500000,
          4200000,
          6200000,
          15500000,
          10000000,
          4000000,
          6800000,
          15000000,
          6200000,
          7700000,
          5500000,
          5000000,
          3310000,
          4700000,
          4500000,
          17000000,
          25000000,
          6000000,
          11000000,
          4500000,
          5300000,
          10500000,
          12000000,
          7000000,
          7000000,
          3400000,
          5000000,
          21000000,
          13000000,
          22000000,
          15800000,
          57500000,
          10000000,
          30000000,
          22000000,
          24000000,
          31500000,
          14600000,
          240000000,
          8300000,
          22500000,
          1900000,
          5130000,
          5890000,
          3700000,
          17400000,
          15500000,
          2400000,
          17200000,
          14200000,
          13500000,
          30000000,
          21000000,
          20500000,
          24000000,
          16500000,
          14900000,
          19200000,
          14500000,
          15600000,
          11400000,
          31500000,
          15800000,
          16000000,
          14500000,
          10500000,
          14800000,
          1850000,
          6800000,
          14200000,
          40000000,
          46000000,
          55000000,
          24500000,
          24500000,
          32500000,
          20000000,
          240000000,
          20000000,
          19000000,
          26000000,
          21000000,
          27500000,
          32500000,
          45000000,
          21000000,
          28000000,
          29500000,
          12500000,
          26000000,
          11500000,
          14600000,
          25500000,
          31000000,
          22000000,
          13400000,
          35000000,
          11000000,
          6300000,
          12500000,
          14500000,
          22500000,
          15500000,
          26000000,
          15800000,
          15000000,
          13000000,
          15000000,
          25000000,
          16500000,
          10300000,
          26000000,
          11000000,
          28500000,
          11000000,
          3600000,
          4300000,
          4000000,
          1650000,
          2000000,
          3000000,
          1400000,
          2000000,
          2000000,
          2000000,
          2600000,
          5100000,
          6000000,
          4000000,
          6200000,
          3500000,
          7600000,
          13500000,
          12500000,
          6500000,
          22000000,
          6000000,
          7300000,
          7600000,
          20000000,
          15000000,
          6200000,
          6200000,
          5000000,
          4700000,
          5500000,
          2000000,
          7300000,
          13000000,
          11500000,
          2800000,
          2200000,
          4400000,
          13500000,
          4100000,
          12000000,
          3500000,
          15000000,
          17500000,
          1900000,
          5500000,
          10000000,
          4700000,
          2400000,
          3800000,
          23000000,
          24500000,
          10000000,
          5500000,
          7000000,
          6500000,
          135000000,
          5000000,
          93000000,
          4370000,
          4620000,
          1900000,
          70000000,
          5130000,
          3000000,
          5890000,
          3300000,
          24900000,
          3700000,
          60000000,
          17400000,
          51000000,
          170000000,
          5510000,
          25000000,
          57000000,
          2940000,
          15500000,
          17200000,
          55000000,
          15000000,
          51000000,
          13000000,
          30000000,
          2400000,
          5500000,
          60000000,
          65000000,
          220000000,
          60000000,
          38500000,
          50000000,
          75000000,
          70000000,
          160000000,
          85000000,
          40000000,
          90000000,
          56000000,
          135500000,
          60000000,
          170000000,
          50000000,
          58000000,
          37500000,
          45000000,
          70000000,
          29500000,
          60000000,
          70000000,
          50000000,
          75000000,
          52500000,
          55000000,
          120000000,
          70000000,
          47500000,
          40000000,
          85000000,
          26000000,
          35000000,
          20000000,
          79000000,
          17000000,
          47500000,
          43000000,
          26000000,
          25000000,
          51000000,
          40000000,
          22500000,
          70000000,
          45000000,
          51100000,
          25500000,
          26500000,
          15000000,
          55000000,
          26000000,
          38000000,
          72500000,
          65000000,
          9300000,
          2700000,
          6500000,
          5800000,
          5500000,
          6000000,
          4500000,
          4100000,
          3800000,
          3300000,
          2900000,
          2000000,
          1550000,
          11300000,
          4500000,
          3300000,
          11500000,
          6000000,
          9000000,
          4500000,
          14000000,
          7300000,
          1900000,
          7000000,
          2700000,
          6500000,
          4000000,
          3000000,
          5000000,
          6000000,
          2500000,
          6500000,
          8000000,
          2700000,
          4500000,
          5700000,
          25000000,
          70000000,
          26500000,
          18500000,
          30000000,
          22000000,
          9000000,
          65000000,
          22500000,
          8700000,
          22000000,
          18500000,
          16000000,
          16000000,
          9000000,
          4500000,
          4000000,
          2600000,
          3500000,
          7500000,
          7000000,
          4500000,
          5500000,
          2700000,
          2400000,
          11500000,
          3600000,
          1700000,
          2500000,
          6600000,
          3700000,
          3500000,
          5400000,
          2550000,
          12500000,
          5600000,
          7000000,
          3500000,
          35000000,
          9000000,
          2300000,
          6000000,
          6000000,
          4370000,
          4620000,
          3000000,
          3300000,
          5510000,
          3200000,
          2600000,
          4000000,
          1850000,
          1700000,
          2800000,
          2150000,
          6800000,
          6200000,
          3100000,
          3400000,
          4000000,
          4800000,
          2500000,
          2000000,
          1900000,
          5800000,
          2900000,
          2000000,
          2600000,
          2900000,
          3200000,
          5400000,
          3800000,
          135000000,
          93000000,
          8200000,
          8000000,
          9500000,
          20000000,
          7400000,
          37500000,
          15000000,
          55300000,
          26500000,
          16000000,
          10400000,
          1700000,
          8000000,
          27000000,
          19500000,
          50000000,
          21100000,
          57000000,
          5900000,
          12000000,
          12000000,
          24000000,
          7000000,
          15000000,
          1500000,
          3950000,
          12500000,
          1600000,
          31000000,
          7400000,
          15500000,
          12000000,
          23500000,
          25000000,
          7000000,
          17500000,
          25000000,
          29000000,
          21900000,
          7500000,
          23500000,
          24000000,
          31000000,
          16500000,
          5000000,
          24000000,
          17000000,
          40000000,
          22500000,
          20000000,
          135000000,
          5000000,
          93000000,
          4370000,
          4620000,
          1900000,
          70000000,
          5130000,
          3000000,
          5890000,
          3300000,
          24900000,
          3700000,
          60000000,
          17400000,
          51000000,
          170000000,
          5510000,
          25000000,
          57000000,
          2940000,
          15500000,
          17200000,
          55000000,
          15000000,
          51000000,
          13000000,
          30000000,
          2400000,
          5500000,
          29000000,
          41000000,
          6000000,
          2500000,
          2200000,
          21500000,
          15000000,
          28900000,
          5500000,
          1950000,
          3800000,
          6200000,
          14000000,
          7500000,
          2670000,
          2500000,
          4000000,
          3500000,
          5000000,
          29500000,
          19000000,
          25500000,
          75000000,
          75000000,
          34000000,
          47500000,
          75000000,
          23000000,
          24000000,
          21500000,
          28500000,
          12500000,
          45000000,
          30500000,
          22500000,
          28000000,
          25000000,
          33700000,
          27000000,
          43500000,
          29000000,
          30000000,
          52100000,
          32500000,
          20500000,
          25000000,
          30000000,
          51000000,
          31000000,
          37500000,
          55000000,
          87500000,
          16300000,
          65000000,
          25000000,
          38000000,
          15000000,
          2000000,
          3000000,
          8500000,
          55000000,
          22500000,
          72500000,
          160000000,
          12500000,
          17000000,
          82500000,
          55000000,
          35000000,
          42500000,
          4700000,
          52500000,
          80000000,
          11000000,
          74000000,
          37500000,
          52500000,
          26500000,
          8770000,
          4500000,
          8500000,
          8600000,
          42500000,
          13100000,
          7000000,
          30000000,
          13000000,
          23100000,
          16000000,
          12500000,
          24500000,
          3200000,
          6300000,
          15000000,
          5700000,
          21000000,
          7500000,
          6500000,
          27500000,
          12000000,
          18000000,
          10700000,
          16200000,
          16500000,
          14900000,
          27500000,
          70000000,
          35500000,
          42100000,
          42500000,
          44000000,
          43200000,
          52500000,
          34300000,
          38000000,
          52500000,
          37500000,
          37000000,
          40000000,
          36200000,
          29000000,
          42500000,
          60000000,
          36500000,
          42500000,
          71500000,
          65000000,
          58000000,
          27500000,
          70000000,
          65000000,
          28600000,
          39000000,
          32500000,
          34000000,
          20000000,
          18000000,
          19000000,
          36500000,
          15000000,
          17500000,
          14000000,
          21000000,
          15600000,
          19000000,
          16500000,
          19000000,
          16500000,
          3000000,
          15000000,
          14300000,
          18500000,
          19000000,
          19000000,
          12000000,
          20000000,
          13500000,
          14000000,
          10800000,
          2350000,
          8500000,
          1650000,
          10000000,
          1500000,
          2800000,
          2600000,
          2350000,
          2350000,
          2000000,
          5000000,
          3500000,
          4500000,
          4000000,
          10800000,
          10000000,
          10800000,
          9000000,
          8500000,
          6000000,
          5500000,
          7000000,
          6000000,
          3700000,
          3100000,
          4500000,
          1500000,
          3000000,
          4900000,
          3500000,
          3000000,
          7020000,
          60000000,
          3500000,
          7000000,
          7000000,
          4500000,
          5990000,
          4400000,
          2500000,
          1600000,
          6500000,
          2800000,
          4500000,
          1800000,
          8500000,
          8500000,
          1700000,
          7000000,
          5600000,
          13500000,
          8500000,
          6000000,
          7200000,
          6500000,
          8400000,
          8500000,
          4000000,
          1700000,
          6000000,
          1600000,
          2100000,
          1700000,
          1500000,
          1200000,
          1650000,
          3500000,
          8500000,
          3200000,
          3790000,
          4200000,
          2900000,
          5000000,
          2100000,
          3200000,
          3000000,
          2300000,
          5900000,
          5500000,
          3500000,
          1700000,
          1850000,
          2300000,
          3800000,
          4500000,
          2200000,
          5200000,
          2200000,
          2200000,
          3800000,
          1800000,
          2850000,
          2500000,
          3500000,
          2000000,
          3000000,
          2000000,
          3500000,
          1800000,
          1600000,
          1600000,
          2000000,
          1500000,
          3000000,
          1490000,
          3500000,
          4000000,
          1750000,
          4600000,
          1800000,
          1900000,
          1000000,
          1000000,
          1000000,
          3500000,
          5000000,
          2200000,
          67000000,
          8500000,
          11500000,
          52500000,
          12000000,
          10700000,
          9000000,
          100000000,
          6200000,
          17000000,
          12500000,
          13000000,
          4200000,
          36000000,
          2300000,
          8100000,
          10000000,
          62500000,
          65000000,
          20000000,
          57500000,
          30000000,
          30000000,
          30000000,
          6900000,
          3600000,
          13500000,
          9200000,
          2500000,
          17000000,
          9030000,
          9300000,
          6500000,
          3300000,
          2400000,
          15000000,
          7000000,
          4200000,
          5800000,
          4800000,
          7500000,
          3000000,
          4300000,
          2600000,
          7000000,
          6000000,
          6700000,
          9500000,
          17000000,
          14000000,
          11600000,
          12000000,
          7500000,
          9800000,
          12000000,
          12500000,
          16500000,
          12000000,
          7200000,
          15000000,
          10000000,
          11000000,
          24700000,
          24900000,
          3600000,
          1700000,
          11000000,
          75000000,
          24800000,
          24900000,
          24900000,
          25900000,
          11700000,
          13500000,
          5500000,
          30000000,
          4950000,
          16000000,
          30000000,
          41000000,
          3800000,
          68900000,
          1800000,
          1500000,
          12500000,
          1600000,
          2400000,
          7000000,
          3100000,
          14500000,
          61500000,
          27500000,
          25500000,
          25000000,
          18500000,
          39700000,
          6800000,
          6540000,
          22000000,
          25500000,
          17000000,
          27500000,
          73700000,
          52300000,
          16000000,
          15000000,
          25500000,
          10000000,
          5000000,
          20000000,
          16000000,
          5500000,
          7000000,
          4100000,
          24000000,
          12500000,
          3900000,
          14500000,
          20000000,
          24500000,
          20900000,
          43100000,
          40000000,
          20000000,
          6700000,
          16000000,
          8000000,
          25000000,
          25000000,
          37500000,
          25000000,
          23000000,
          17500000,
          44000000,
          15000000,
          42500000,
          5000000,
          38000000,
          19000000,
          43500000,
          19500000,
          14200000,
          14200000,
          13500000,
          19000000,
          7000000,
          5800000,
          8000000,
          18800000,
          6000000,
          2200000,
          6500000,
          23500000,
          16000000,
          20000000,
          5500000,
          13500000,
          22500000,
          3800000,
          4600000,
          17500000,
          5500000,
          22500000,
          12500000,
          19000000,
          15500000,
          13500000,
          21000000,
          35000000,
          25000000,
          29000000,
          80000000,
          20500000,
          52500000,
          37500000,
          7500000,
          32500000,
          24500000,
          65000000,
          27500000,
          115000000,
          28000000,
          8000000,
          75100000,
          7800000,
          15000000,
          27500000,
          25000000,
          26000000,
          23500000,
          4200000,
          10000000,
          18500000,
          20000000,
          18000000,
          19000000,
          36500000,
          15000000,
          17500000,
          14000000,
          21000000,
          15600000,
          19000000,
          16500000,
          19000000,
          16500000,
          3000000,
          15000000,
          14300000,
          18500000,
          19000000,
          19000000,
          8000000,
          16100000,
          6800000,
          6800000,
          9000000,
          18000000,
          27500000,
          13500000,
          14000000,
          9000000,
          16000000,
          11000000,
          5500000,
          43500000,
          180000000,
          80000000,
          37500000,
          60000000,
          71000000,
          18500000,
          70000000,
          85000000,
          190000000,
          135000000,
          35000000,
          65000000,
          27500000,
          45000000,
          100000000,
          47000000,
          27500000,
          70000000,
          36500000,
          65000000,
          35000000,
          56000000,
          110000000,
          24000000,
          102500000,
          100000000,
          45000000,
          33500000,
          62500000,
          47500000,
          14700000,
          18000000,
          22500000,
          22000000,
          22200000,
          22500000,
          7500000,
          30000000,
          6500000,
          35000000,
          17500000,
          60000000,
          40000000,
          11500000,
          22500000,
          28500000,
          29000000,
          15500000,
          26000000,
          16500000,
          55000000,
          12500000,
          17500000,
          11500000,
          18500000
         ],
         "yaxis": "y"
        }
       ],
       "layout": {
        "height": 420,
        "legend": {
         "tracegroupgap": 0
        },
        "margin": {
         "t": 60
        },
        "template": {
         "data": {
          "bar": [
           {
            "error_x": {
             "color": "#2a3f5f"
            },
            "error_y": {
             "color": "#2a3f5f"
            },
            "marker": {
             "line": {
              "color": "#E5ECF6",
              "width": 0.5
             }
            },
            "type": "bar"
           }
          ],
          "barpolar": [
           {
            "marker": {
             "line": {
              "color": "#E5ECF6",
              "width": 0.5
             }
            },
            "type": "barpolar"
           }
          ],
          "carpet": [
           {
            "aaxis": {
             "endlinecolor": "#2a3f5f",
             "gridcolor": "white",
             "linecolor": "white",
             "minorgridcolor": "white",
             "startlinecolor": "#2a3f5f"
            },
            "baxis": {
             "endlinecolor": "#2a3f5f",
             "gridcolor": "white",
             "linecolor": "white",
             "minorgridcolor": "white",
             "startlinecolor": "#2a3f5f"
            },
            "type": "carpet"
           }
          ],
          "choropleth": [
           {
            "colorbar": {
             "outlinewidth": 0,
             "ticks": ""
            },
            "type": "choropleth"
           }
          ],
          "contour": [
           {
            "colorbar": {
             "outlinewidth": 0,
             "ticks": ""
            },
            "colorscale": [
             [
              0,
              "#0d0887"
             ],
             [
              0.1111111111111111,
              "#46039f"
             ],
             [
              0.2222222222222222,
              "#7201a8"
             ],
             [
              0.3333333333333333,
              "#9c179e"
             ],
             [
              0.4444444444444444,
              "#bd3786"
             ],
             [
              0.5555555555555556,
              "#d8576b"
             ],
             [
              0.6666666666666666,
              "#ed7953"
             ],
             [
              0.7777777777777778,
              "#fb9f3a"
             ],
             [
              0.8888888888888888,
              "#fdca26"
             ],
             [
              1,
              "#f0f921"
             ]
            ],
            "type": "contour"
           }
          ],
          "contourcarpet": [
           {
            "colorbar": {
             "outlinewidth": 0,
             "ticks": ""
            },
            "type": "contourcarpet"
           }
          ],
          "heatmap": [
           {
            "colorbar": {
             "outlinewidth": 0,
             "ticks": ""
            },
            "colorscale": [
             [
              0,
              "#0d0887"
             ],
             [
              0.1111111111111111,
              "#46039f"
             ],
             [
              0.2222222222222222,
              "#7201a8"
             ],
             [
              0.3333333333333333,
              "#9c179e"
             ],
             [
              0.4444444444444444,
              "#bd3786"
             ],
             [
              0.5555555555555556,
              "#d8576b"
             ],
             [
              0.6666666666666666,
              "#ed7953"
             ],
             [
              0.7777777777777778,
              "#fb9f3a"
             ],
             [
              0.8888888888888888,
              "#fdca26"
             ],
             [
              1,
              "#f0f921"
             ]
            ],
            "type": "heatmap"
           }
          ],
          "heatmapgl": [
           {
            "colorbar": {
             "outlinewidth": 0,
             "ticks": ""
            },
            "colorscale": [
             [
              0,
              "#0d0887"
             ],
             [
              0.1111111111111111,
              "#46039f"
             ],
             [
              0.2222222222222222,
              "#7201a8"
             ],
             [
              0.3333333333333333,
              "#9c179e"
             ],
             [
              0.4444444444444444,
              "#bd3786"
             ],
             [
              0.5555555555555556,
              "#d8576b"
             ],
             [
              0.6666666666666666,
              "#ed7953"
             ],
             [
              0.7777777777777778,
              "#fb9f3a"
             ],
             [
              0.8888888888888888,
              "#fdca26"
             ],
             [
              1,
              "#f0f921"
             ]
            ],
            "type": "heatmapgl"
           }
          ],
          "histogram": [
           {
            "marker": {
             "colorbar": {
              "outlinewidth": 0,
              "ticks": ""
             }
            },
            "type": "histogram"
           }
          ],
          "histogram2d": [
           {
            "colorbar": {
             "outlinewidth": 0,
             "ticks": ""
            },
            "colorscale": [
             [
              0,
              "#0d0887"
             ],
             [
              0.1111111111111111,
              "#46039f"
             ],
             [
              0.2222222222222222,
              "#7201a8"
             ],
             [
              0.3333333333333333,
              "#9c179e"
             ],
             [
              0.4444444444444444,
              "#bd3786"
             ],
             [
              0.5555555555555556,
              "#d8576b"
             ],
             [
              0.6666666666666666,
              "#ed7953"
             ],
             [
              0.7777777777777778,
              "#fb9f3a"
             ],
             [
              0.8888888888888888,
              "#fdca26"
             ],
             [
              1,
              "#f0f921"
             ]
            ],
            "type": "histogram2d"
           }
          ],
          "histogram2dcontour": [
           {
            "colorbar": {
             "outlinewidth": 0,
             "ticks": ""
            },
            "colorscale": [
             [
              0,
              "#0d0887"
             ],
             [
              0.1111111111111111,
              "#46039f"
             ],
             [
              0.2222222222222222,
              "#7201a8"
             ],
             [
              0.3333333333333333,
              "#9c179e"
             ],
             [
              0.4444444444444444,
              "#bd3786"
             ],
             [
              0.5555555555555556,
              "#d8576b"
             ],
             [
              0.6666666666666666,
              "#ed7953"
             ],
             [
              0.7777777777777778,
              "#fb9f3a"
             ],
             [
              0.8888888888888888,
              "#fdca26"
             ],
             [
              1,
              "#f0f921"
             ]
            ],
            "type": "histogram2dcontour"
           }
          ],
          "mesh3d": [
           {
            "colorbar": {
             "outlinewidth": 0,
             "ticks": ""
            },
            "type": "mesh3d"
           }
          ],
          "parcoords": [
           {
            "line": {
             "colorbar": {
              "outlinewidth": 0,
              "ticks": ""
             }
            },
            "type": "parcoords"
           }
          ],
          "pie": [
           {
            "automargin": true,
            "type": "pie"
           }
          ],
          "scatter": [
           {
            "marker": {
             "colorbar": {
              "outlinewidth": 0,
              "ticks": ""
             }
            },
            "type": "scatter"
           }
          ],
          "scatter3d": [
           {
            "line": {
             "colorbar": {
              "outlinewidth": 0,
              "ticks": ""
             }
            },
            "marker": {
             "colorbar": {
              "outlinewidth": 0,
              "ticks": ""
             }
            },
            "type": "scatter3d"
           }
          ],
          "scattercarpet": [
           {
            "marker": {
             "colorbar": {
              "outlinewidth": 0,
              "ticks": ""
             }
            },
            "type": "scattercarpet"
           }
          ],
          "scattergeo": [
           {
            "marker": {
             "colorbar": {
              "outlinewidth": 0,
              "ticks": ""
             }
            },
            "type": "scattergeo"
           }
          ],
          "scattergl": [
           {
            "marker": {
             "colorbar": {
              "outlinewidth": 0,
              "ticks": ""
             }
            },
            "type": "scattergl"
           }
          ],
          "scattermapbox": [
           {
            "marker": {
             "colorbar": {
              "outlinewidth": 0,
              "ticks": ""
             }
            },
            "type": "scattermapbox"
           }
          ],
          "scatterpolar": [
           {
            "marker": {
             "colorbar": {
              "outlinewidth": 0,
              "ticks": ""
             }
            },
            "type": "scatterpolar"
           }
          ],
          "scatterpolargl": [
           {
            "marker": {
             "colorbar": {
              "outlinewidth": 0,
              "ticks": ""
             }
            },
            "type": "scatterpolargl"
           }
          ],
          "scatterternary": [
           {
            "marker": {
             "colorbar": {
              "outlinewidth": 0,
              "ticks": ""
             }
            },
            "type": "scatterternary"
           }
          ],
          "surface": [
           {
            "colorbar": {
             "outlinewidth": 0,
             "ticks": ""
            },
            "colorscale": [
             [
              0,
              "#0d0887"
             ],
             [
              0.1111111111111111,
              "#46039f"
             ],
             [
              0.2222222222222222,
              "#7201a8"
             ],
             [
              0.3333333333333333,
              "#9c179e"
             ],
             [
              0.4444444444444444,
              "#bd3786"
             ],
             [
              0.5555555555555556,
              "#d8576b"
             ],
             [
              0.6666666666666666,
              "#ed7953"
             ],
             [
              0.7777777777777778,
              "#fb9f3a"
             ],
             [
              0.8888888888888888,
              "#fdca26"
             ],
             [
              1,
              "#f0f921"
             ]
            ],
            "type": "surface"
           }
          ],
          "table": [
           {
            "cells": {
             "fill": {
              "color": "#EBF0F8"
             },
             "line": {
              "color": "white"
             }
            },
            "header": {
             "fill": {
              "color": "#C8D4E3"
             },
             "line": {
              "color": "white"
             }
            },
            "type": "table"
           }
          ]
         },
         "layout": {
          "annotationdefaults": {
           "arrowcolor": "#2a3f5f",
           "arrowhead": 0,
           "arrowwidth": 1
          },
          "autotypenumbers": "strict",
          "coloraxis": {
           "colorbar": {
            "outlinewidth": 0,
            "ticks": ""
           }
          },
          "colorscale": {
           "diverging": [
            [
             0,
             "#8e0152"
            ],
            [
             0.1,
             "#c51b7d"
            ],
            [
             0.2,
             "#de77ae"
            ],
            [
             0.3,
             "#f1b6da"
            ],
            [
             0.4,
             "#fde0ef"
            ],
            [
             0.5,
             "#f7f7f7"
            ],
            [
             0.6,
             "#e6f5d0"
            ],
            [
             0.7,
             "#b8e186"
            ],
            [
             0.8,
             "#7fbc41"
            ],
            [
             0.9,
             "#4d9221"
            ],
            [
             1,
             "#276419"
            ]
           ],
           "sequential": [
            [
             0,
             "#0d0887"
            ],
            [
             0.1111111111111111,
             "#46039f"
            ],
            [
             0.2222222222222222,
             "#7201a8"
            ],
            [
             0.3333333333333333,
             "#9c179e"
            ],
            [
             0.4444444444444444,
             "#bd3786"
            ],
            [
             0.5555555555555556,
             "#d8576b"
            ],
            [
             0.6666666666666666,
             "#ed7953"
            ],
            [
             0.7777777777777778,
             "#fb9f3a"
            ],
            [
             0.8888888888888888,
             "#fdca26"
            ],
            [
             1,
             "#f0f921"
            ]
           ],
           "sequentialminus": [
            [
             0,
             "#0d0887"
            ],
            [
             0.1111111111111111,
             "#46039f"
            ],
            [
             0.2222222222222222,
             "#7201a8"
            ],
            [
             0.3333333333333333,
             "#9c179e"
            ],
            [
             0.4444444444444444,
             "#bd3786"
            ],
            [
             0.5555555555555556,
             "#d8576b"
            ],
            [
             0.6666666666666666,
             "#ed7953"
            ],
            [
             0.7777777777777778,
             "#fb9f3a"
            ],
            [
             0.8888888888888888,
             "#fdca26"
            ],
            [
             1,
             "#f0f921"
            ]
           ]
          },
          "colorway": [
           "#636efa",
           "#EF553B",
           "#00cc96",
           "#ab63fa",
           "#FFA15A",
           "#19d3f3",
           "#FF6692",
           "#B6E880",
           "#FF97FF",
           "#FECB52"
          ],
          "font": {
           "color": "#2a3f5f"
          },
          "geo": {
           "bgcolor": "white",
           "lakecolor": "white",
           "landcolor": "#E5ECF6",
           "showlakes": true,
           "showland": true,
           "subunitcolor": "white"
          },
          "hoverlabel": {
           "align": "left"
          },
          "hovermode": "closest",
          "mapbox": {
           "style": "light"
          },
          "paper_bgcolor": "white",
          "plot_bgcolor": "#E5ECF6",
          "polar": {
           "angularaxis": {
            "gridcolor": "white",
            "linecolor": "white",
            "ticks": ""
           },
           "bgcolor": "#E5ECF6",
           "radialaxis": {
            "gridcolor": "white",
            "linecolor": "white",
            "ticks": ""
           }
          },
          "scene": {
           "xaxis": {
            "backgroundcolor": "#E5ECF6",
            "gridcolor": "white",
            "gridwidth": 2,
            "linecolor": "white",
            "showbackground": true,
            "ticks": "",
            "zerolinecolor": "white"
           },
           "yaxis": {
            "backgroundcolor": "#E5ECF6",
            "gridcolor": "white",
            "gridwidth": 2,
            "linecolor": "white",
            "showbackground": true,
            "ticks": "",
            "zerolinecolor": "white"
           },
           "zaxis": {
            "backgroundcolor": "#E5ECF6",
            "gridcolor": "white",
            "gridwidth": 2,
            "linecolor": "white",
            "showbackground": true,
            "ticks": "",
            "zerolinecolor": "white"
           }
          },
          "shapedefaults": {
           "line": {
            "color": "#2a3f5f"
           }
          },
          "ternary": {
           "aaxis": {
            "gridcolor": "white",
            "linecolor": "white",
            "ticks": ""
           },
           "baxis": {
            "gridcolor": "white",
            "linecolor": "white",
            "ticks": ""
           },
           "bgcolor": "#E5ECF6",
           "caxis": {
            "gridcolor": "white",
            "linecolor": "white",
            "ticks": ""
           }
          },
          "title": {
           "x": 0.05
          },
          "xaxis": {
           "automargin": true,
           "gridcolor": "white",
           "linecolor": "white",
           "ticks": "",
           "title": {
            "standoff": 15
           },
           "zerolinecolor": "white",
           "zerolinewidth": 2
          },
          "yaxis": {
           "automargin": true,
           "gridcolor": "white",
           "linecolor": "white",
           "ticks": "",
           "title": {
            "standoff": 15
           },
           "zerolinecolor": "white",
           "zerolinewidth": 2
          }
         }
        },
        "width": 500,
        "xaxis": {
         "anchor": "y",
         "domain": [
          0,
          1
         ],
         "title": {
          "text": "Furnishing"
         }
        },
        "yaxis": {
         "anchor": "x",
         "domain": [
          0,
          1
         ],
         "title": {
          "text": "Price"
         }
        }
       }
      }
     },
     "metadata": {}
    }
   ],
   "source": [
    "# Furnshing types vs Price\n",
    "fig = px.scatter(df,x='Furnishing',y='Price')\n",
    "fig.update_layout(height=420,width=500)\n",
    "fig.show()"
   ]
  },
  {
   "cell_type": "code",
   "execution_count": 20,
   "metadata": {},
   "outputs": [
    {
     "output_type": "display_data",
     "data": {
      "application/vnd.plotly.v1+json": {
       "config": {
        "plotlyServerURL": "https://plot.ly"
       },
       "data": [
        {
         "alignmentgroup": "True",
         "bingroup": "x",
         "hovertemplate": "Status=%{x}<br>count=%{y}<extra></extra>",
         "legendgroup": "",
         "marker": {
          "color": "#636efa"
         },
         "name": "",
         "offsetgroup": "",
         "orientation": "v",
         "showlegend": false,
         "type": "histogram",
         "x": [
          "Ready_to_move",
          "Ready_to_move",
          "Ready_to_move",
          "Ready_to_move",
          "Ready_to_move",
          "Ready_to_move",
          "Ready_to_move",
          "Almost_ready",
          "Ready_to_move",
          "Ready_to_move",
          "Ready_to_move",
          "Ready_to_move",
          "Ready_to_move",
          "Ready_to_move",
          "Ready_to_move",
          "Ready_to_move",
          "Ready_to_move",
          "Ready_to_move",
          "Ready_to_move",
          "Ready_to_move",
          "Ready_to_move",
          "Ready_to_move",
          "Ready_to_move",
          "Ready_to_move",
          "Ready_to_move",
          "Ready_to_move",
          "Ready_to_move",
          "Ready_to_move",
          "Ready_to_move",
          "Ready_to_move",
          "Ready_to_move",
          "Ready_to_move",
          "Ready_to_move",
          "Ready_to_move",
          "Ready_to_move",
          "Ready_to_move",
          "Ready_to_move",
          "Ready_to_move",
          "Ready_to_move",
          "Ready_to_move",
          "Ready_to_move",
          "Ready_to_move",
          "Ready_to_move",
          "Ready_to_move",
          "Ready_to_move",
          "Ready_to_move",
          "Ready_to_move",
          "Ready_to_move",
          "Almost_ready",
          "Ready_to_move",
          "Ready_to_move",
          "Ready_to_move",
          "Ready_to_move",
          "Ready_to_move",
          "Ready_to_move",
          "Ready_to_move",
          "Ready_to_move",
          "Ready_to_move",
          "Ready_to_move",
          "Ready_to_move",
          "Ready_to_move",
          "Ready_to_move",
          "Ready_to_move",
          "Ready_to_move",
          "Ready_to_move",
          "Ready_to_move",
          "Ready_to_move",
          "Ready_to_move",
          "Ready_to_move",
          "Ready_to_move",
          "Ready_to_move",
          "Ready_to_move",
          "Ready_to_move",
          "Ready_to_move",
          "Ready_to_move",
          "Ready_to_move",
          "Ready_to_move",
          "Ready_to_move",
          "Ready_to_move",
          "Ready_to_move",
          "Ready_to_move",
          "Ready_to_move",
          "Ready_to_move",
          "Ready_to_move",
          "Ready_to_move",
          "Ready_to_move",
          "Ready_to_move",
          "Ready_to_move",
          "Ready_to_move",
          "Ready_to_move",
          "Ready_to_move",
          "Ready_to_move",
          "Ready_to_move",
          "Ready_to_move",
          "Ready_to_move",
          "Ready_to_move",
          "Ready_to_move",
          "Almost_ready",
          "Ready_to_move",
          "Ready_to_move",
          "Ready_to_move",
          "Ready_to_move",
          "Ready_to_move",
          "Ready_to_move",
          "Ready_to_move",
          "Ready_to_move",
          "Ready_to_move",
          "Ready_to_move",
          "Ready_to_move",
          "Ready_to_move",
          "Ready_to_move",
          "Ready_to_move",
          "Ready_to_move",
          "Ready_to_move",
          "Ready_to_move",
          "Ready_to_move",
          "Ready_to_move",
          "Ready_to_move",
          "Ready_to_move",
          "Ready_to_move",
          "Ready_to_move",
          "Ready_to_move",
          "Ready_to_move",
          "Ready_to_move",
          "Ready_to_move",
          "Ready_to_move",
          "Ready_to_move",
          "Ready_to_move",
          "Ready_to_move",
          "Ready_to_move",
          "Ready_to_move",
          "Ready_to_move",
          "Ready_to_move",
          "Ready_to_move",
          "Ready_to_move",
          "Ready_to_move",
          "Ready_to_move",
          "Ready_to_move",
          "Ready_to_move",
          "Ready_to_move",
          "Ready_to_move",
          "Ready_to_move",
          "Ready_to_move",
          "Ready_to_move",
          "Ready_to_move",
          "Ready_to_move",
          "Ready_to_move",
          "Ready_to_move",
          "Ready_to_move",
          "Ready_to_move",
          "Ready_to_move",
          "Ready_to_move",
          "Ready_to_move",
          "Ready_to_move",
          "Ready_to_move",
          "Ready_to_move",
          "Ready_to_move",
          "Ready_to_move",
          "Ready_to_move",
          "Ready_to_move",
          "Ready_to_move",
          "Ready_to_move",
          "Ready_to_move",
          "Ready_to_move",
          "Ready_to_move",
          "Ready_to_move",
          "Ready_to_move",
          "Ready_to_move",
          "Ready_to_move",
          "Ready_to_move",
          "Ready_to_move",
          "Ready_to_move",
          "Almost_ready",
          "Ready_to_move",
          "Almost_ready",
          "Ready_to_move",
          "Ready_to_move",
          "Ready_to_move",
          "Ready_to_move",
          "Ready_to_move",
          "Ready_to_move",
          "Ready_to_move",
          "Ready_to_move",
          "Ready_to_move",
          "Ready_to_move",
          "Ready_to_move",
          "Ready_to_move",
          "Almost_ready",
          "Almost_ready",
          "Almost_ready",
          "Almost_ready",
          "Almost_ready",
          "Almost_ready",
          "Ready_to_move",
          "Ready_to_move",
          "Ready_to_move",
          "Ready_to_move",
          "Almost_ready",
          "Ready_to_move",
          "Ready_to_move",
          "Ready_to_move",
          "Ready_to_move",
          "Ready_to_move",
          "Ready_to_move",
          "Ready_to_move",
          "Ready_to_move",
          "Ready_to_move",
          "Ready_to_move",
          "Ready_to_move",
          "Ready_to_move",
          "Ready_to_move",
          "Ready_to_move",
          "Ready_to_move",
          "Ready_to_move",
          "Ready_to_move",
          "Ready_to_move",
          "Ready_to_move",
          "Ready_to_move",
          "Ready_to_move",
          "Ready_to_move",
          "Ready_to_move",
          "Ready_to_move",
          "Ready_to_move",
          "Ready_to_move",
          "Ready_to_move",
          "Ready_to_move",
          "Ready_to_move",
          "Ready_to_move",
          "Ready_to_move",
          "Ready_to_move",
          "Ready_to_move",
          "Ready_to_move",
          "Ready_to_move",
          "Ready_to_move",
          "Ready_to_move",
          "Ready_to_move",
          "Ready_to_move",
          "Ready_to_move",
          "Almost_ready",
          "Ready_to_move",
          "Ready_to_move",
          "Ready_to_move",
          "Ready_to_move",
          "Ready_to_move",
          "Ready_to_move",
          "Ready_to_move",
          "Ready_to_move",
          "Ready_to_move",
          "Ready_to_move",
          "Ready_to_move",
          "Ready_to_move",
          "Ready_to_move",
          "Ready_to_move",
          "Ready_to_move",
          "Ready_to_move",
          "Ready_to_move",
          "Ready_to_move",
          "Ready_to_move",
          "Ready_to_move",
          "Ready_to_move",
          "Ready_to_move",
          "Ready_to_move",
          "Ready_to_move",
          "Ready_to_move",
          "Ready_to_move",
          "Ready_to_move",
          "Ready_to_move",
          "Ready_to_move",
          "Ready_to_move",
          "Ready_to_move",
          "Ready_to_move",
          "Ready_to_move",
          "Ready_to_move",
          "Ready_to_move",
          "Ready_to_move",
          "Almost_ready",
          "Ready_to_move",
          "Ready_to_move",
          "Almost_ready",
          "Ready_to_move",
          "Ready_to_move",
          "Ready_to_move",
          "Ready_to_move",
          "Ready_to_move",
          "Ready_to_move",
          "Ready_to_move",
          "Ready_to_move",
          "Ready_to_move",
          "Ready_to_move",
          "Ready_to_move",
          "Ready_to_move",
          "Ready_to_move",
          "Ready_to_move",
          "Ready_to_move",
          "Ready_to_move",
          "Ready_to_move",
          "Ready_to_move",
          "Ready_to_move",
          "Ready_to_move",
          "Ready_to_move",
          "Ready_to_move",
          "Ready_to_move",
          "Ready_to_move",
          "Ready_to_move",
          "Ready_to_move",
          "Ready_to_move",
          "Ready_to_move",
          "Ready_to_move",
          "Ready_to_move",
          "Ready_to_move",
          "Ready_to_move",
          "Ready_to_move",
          "Ready_to_move",
          "Ready_to_move",
          "Ready_to_move",
          "Ready_to_move",
          "Ready_to_move",
          "Ready_to_move",
          "Ready_to_move",
          "Ready_to_move",
          "Ready_to_move",
          "Ready_to_move",
          "Ready_to_move",
          "Ready_to_move",
          "Ready_to_move",
          "Ready_to_move",
          "Ready_to_move",
          "Ready_to_move",
          "Ready_to_move",
          "Ready_to_move",
          "Ready_to_move",
          "Ready_to_move",
          "Ready_to_move",
          "Ready_to_move",
          "Ready_to_move",
          "Ready_to_move",
          "Ready_to_move",
          "Ready_to_move",
          "Ready_to_move",
          "Ready_to_move",
          "Ready_to_move",
          "Almost_ready",
          "Ready_to_move",
          "Ready_to_move",
          "Ready_to_move",
          "Ready_to_move",
          "Ready_to_move",
          "Ready_to_move",
          "Ready_to_move",
          "Ready_to_move",
          "Ready_to_move",
          "Ready_to_move",
          "Ready_to_move",
          "Ready_to_move",
          "Ready_to_move",
          "Ready_to_move",
          "Ready_to_move",
          "Ready_to_move",
          "Ready_to_move",
          "Ready_to_move",
          "Ready_to_move",
          "Ready_to_move",
          "Ready_to_move",
          "Ready_to_move",
          "Ready_to_move",
          "Ready_to_move",
          "Almost_ready",
          "Almost_ready",
          "Ready_to_move",
          "Ready_to_move",
          "Ready_to_move",
          "Ready_to_move",
          "Ready_to_move",
          "Ready_to_move",
          "Ready_to_move",
          "Almost_ready",
          "Ready_to_move",
          "Ready_to_move",
          "Ready_to_move",
          "Ready_to_move",
          "Ready_to_move",
          "Ready_to_move",
          "Ready_to_move",
          "Ready_to_move",
          "Ready_to_move",
          "Almost_ready",
          "Ready_to_move",
          "Ready_to_move",
          "Ready_to_move",
          "Ready_to_move",
          "Ready_to_move",
          "Ready_to_move",
          "Ready_to_move",
          "Ready_to_move",
          "Ready_to_move",
          "Ready_to_move",
          "Ready_to_move",
          "Ready_to_move",
          "Ready_to_move",
          "Ready_to_move",
          "Ready_to_move",
          "Ready_to_move",
          "Ready_to_move",
          "Ready_to_move",
          "Ready_to_move",
          "Ready_to_move",
          "Ready_to_move",
          "Ready_to_move",
          "Ready_to_move",
          "Ready_to_move",
          "Ready_to_move",
          "Ready_to_move",
          "Ready_to_move",
          "Ready_to_move",
          "Ready_to_move",
          "Ready_to_move",
          "Ready_to_move",
          "Ready_to_move",
          "Almost_ready",
          "Ready_to_move",
          "Almost_ready",
          "Ready_to_move",
          "Ready_to_move",
          "Ready_to_move",
          "Ready_to_move",
          "Ready_to_move",
          "Ready_to_move",
          "Ready_to_move",
          "Ready_to_move",
          "Ready_to_move",
          "Ready_to_move",
          "Ready_to_move",
          "Ready_to_move",
          "Almost_ready",
          "Almost_ready",
          "Almost_ready",
          "Almost_ready",
          "Almost_ready",
          "Almost_ready",
          "Ready_to_move",
          "Ready_to_move",
          "Ready_to_move",
          "Ready_to_move",
          "Almost_ready",
          "Ready_to_move",
          "Ready_to_move",
          "Ready_to_move",
          "Ready_to_move",
          "Ready_to_move",
          "Ready_to_move",
          "Ready_to_move",
          "Ready_to_move",
          "Ready_to_move",
          "Ready_to_move",
          "Ready_to_move",
          "Ready_to_move",
          "Ready_to_move",
          "Ready_to_move",
          "Ready_to_move",
          "Ready_to_move",
          "Almost_ready",
          "Ready_to_move",
          "Ready_to_move",
          "Ready_to_move",
          "Ready_to_move",
          "Ready_to_move",
          "Ready_to_move",
          "Ready_to_move",
          "Ready_to_move",
          "Ready_to_move",
          "Ready_to_move",
          "Ready_to_move",
          "Almost_ready",
          "Ready_to_move",
          "Ready_to_move",
          "Ready_to_move",
          "Ready_to_move",
          "Ready_to_move",
          "Ready_to_move",
          "Ready_to_move",
          "Ready_to_move",
          "Ready_to_move",
          "Ready_to_move",
          "Ready_to_move",
          "Ready_to_move",
          "Ready_to_move",
          "Ready_to_move",
          "Ready_to_move",
          "Ready_to_move",
          "Ready_to_move",
          "Ready_to_move",
          "Ready_to_move",
          "Ready_to_move",
          "Ready_to_move",
          "Ready_to_move",
          "Ready_to_move",
          "Ready_to_move",
          "Ready_to_move",
          "Ready_to_move",
          "Ready_to_move",
          "Ready_to_move",
          "Ready_to_move",
          "Ready_to_move",
          "Ready_to_move",
          "Ready_to_move",
          "Ready_to_move",
          "Ready_to_move",
          "Ready_to_move",
          "Ready_to_move",
          "Ready_to_move",
          "Ready_to_move",
          "Ready_to_move",
          "Ready_to_move",
          "Ready_to_move",
          "Ready_to_move",
          "Ready_to_move",
          "Ready_to_move",
          "Ready_to_move",
          "Ready_to_move",
          "Ready_to_move",
          "Ready_to_move",
          "Ready_to_move",
          "Ready_to_move",
          "Ready_to_move",
          "Ready_to_move",
          "Ready_to_move",
          "Ready_to_move",
          "Ready_to_move",
          "Ready_to_move",
          "Ready_to_move",
          "Ready_to_move",
          "Ready_to_move",
          "Ready_to_move",
          "Ready_to_move",
          "Ready_to_move",
          "Ready_to_move",
          "Ready_to_move",
          "Ready_to_move",
          "Ready_to_move",
          "Ready_to_move",
          "Ready_to_move",
          "Ready_to_move",
          "Ready_to_move",
          "Ready_to_move",
          "Ready_to_move",
          "Ready_to_move",
          "Ready_to_move",
          "Ready_to_move",
          "Ready_to_move",
          "Ready_to_move",
          "Ready_to_move",
          "Ready_to_move",
          "Ready_to_move",
          "Ready_to_move",
          "Ready_to_move",
          "Ready_to_move",
          "Ready_to_move",
          "Ready_to_move",
          "Ready_to_move",
          "Ready_to_move",
          "Ready_to_move",
          "Ready_to_move",
          "Ready_to_move",
          "Ready_to_move",
          "Ready_to_move",
          "Ready_to_move",
          "Ready_to_move",
          "Ready_to_move",
          "Ready_to_move",
          "Ready_to_move",
          "Ready_to_move",
          "Ready_to_move",
          "Ready_to_move",
          "Ready_to_move",
          "Ready_to_move",
          "Ready_to_move",
          "Ready_to_move",
          "Ready_to_move",
          "Ready_to_move",
          "Ready_to_move",
          "Ready_to_move",
          "Ready_to_move",
          "Ready_to_move",
          "Ready_to_move",
          "Ready_to_move",
          "Ready_to_move",
          "Ready_to_move",
          "Ready_to_move",
          "Ready_to_move",
          "Ready_to_move",
          "Ready_to_move",
          "Ready_to_move",
          "Ready_to_move",
          "Ready_to_move",
          "Ready_to_move",
          "Ready_to_move",
          "Ready_to_move",
          "Ready_to_move",
          "Ready_to_move",
          "Ready_to_move",
          "Ready_to_move",
          "Ready_to_move",
          "Ready_to_move",
          "Ready_to_move",
          "Ready_to_move",
          "Ready_to_move",
          "Ready_to_move",
          "Ready_to_move",
          "Ready_to_move",
          "Ready_to_move",
          "Ready_to_move",
          "Ready_to_move",
          "Ready_to_move",
          "Ready_to_move",
          "Ready_to_move",
          "Ready_to_move",
          "Ready_to_move",
          "Almost_ready",
          "Ready_to_move",
          "Almost_ready",
          "Ready_to_move",
          "Ready_to_move",
          "Ready_to_move",
          "Ready_to_move",
          "Ready_to_move",
          "Ready_to_move",
          "Ready_to_move",
          "Ready_to_move",
          "Ready_to_move",
          "Ready_to_move",
          "Ready_to_move",
          "Ready_to_move",
          "Ready_to_move",
          "Ready_to_move",
          "Ready_to_move",
          "Ready_to_move",
          "Ready_to_move",
          "Ready_to_move",
          "Almost_ready",
          "Almost_ready",
          "Ready_to_move",
          "Ready_to_move",
          "Ready_to_move",
          "Ready_to_move",
          "Ready_to_move",
          "Ready_to_move",
          "Ready_to_move",
          "Ready_to_move",
          "Ready_to_move",
          "Ready_to_move",
          "Ready_to_move",
          "Ready_to_move",
          "Ready_to_move",
          "Ready_to_move",
          "Ready_to_move",
          "Ready_to_move",
          "Ready_to_move",
          "Ready_to_move",
          "Almost_ready",
          "Ready_to_move",
          "Almost_ready",
          "Ready_to_move",
          "Ready_to_move",
          "Ready_to_move",
          "Ready_to_move",
          "Ready_to_move",
          "Ready_to_move",
          "Ready_to_move",
          "Ready_to_move",
          "Ready_to_move",
          "Ready_to_move",
          "Ready_to_move",
          "Ready_to_move",
          "Ready_to_move",
          "Ready_to_move",
          "Ready_to_move",
          "Ready_to_move",
          "Ready_to_move",
          "Ready_to_move",
          "Ready_to_move",
          "Ready_to_move",
          "Ready_to_move",
          "Ready_to_move",
          "Ready_to_move",
          "Almost_ready",
          "Ready_to_move",
          "Ready_to_move",
          "Ready_to_move",
          "Ready_to_move",
          "Ready_to_move",
          "Ready_to_move",
          "Ready_to_move",
          "Ready_to_move",
          "Ready_to_move",
          "Ready_to_move",
          "Ready_to_move",
          "Ready_to_move",
          "Ready_to_move",
          "Ready_to_move",
          "Ready_to_move",
          "Ready_to_move",
          "Ready_to_move",
          "Ready_to_move",
          "Ready_to_move",
          "Ready_to_move",
          "Ready_to_move",
          "Ready_to_move",
          "Ready_to_move",
          "Ready_to_move",
          "Ready_to_move",
          "Ready_to_move",
          "Ready_to_move",
          "Ready_to_move",
          "Ready_to_move",
          "Ready_to_move",
          "Ready_to_move",
          "Ready_to_move",
          "Ready_to_move",
          "Ready_to_move",
          "Ready_to_move",
          "Ready_to_move",
          "Ready_to_move",
          "Ready_to_move",
          "Ready_to_move",
          "Ready_to_move",
          "Ready_to_move",
          "Almost_ready",
          "Ready_to_move",
          "Ready_to_move",
          "Ready_to_move",
          "Ready_to_move",
          "Ready_to_move",
          "Ready_to_move",
          "Ready_to_move",
          "Ready_to_move",
          "Ready_to_move",
          "Ready_to_move",
          "Ready_to_move",
          "Ready_to_move",
          "Ready_to_move",
          "Ready_to_move",
          "Ready_to_move",
          "Ready_to_move",
          "Ready_to_move",
          "Ready_to_move",
          "Ready_to_move",
          "Ready_to_move",
          "Ready_to_move",
          "Ready_to_move",
          "Ready_to_move",
          "Ready_to_move",
          "Ready_to_move",
          "Ready_to_move",
          "Ready_to_move",
          "Ready_to_move",
          "Ready_to_move",
          "Ready_to_move",
          "Ready_to_move",
          "Ready_to_move",
          "Ready_to_move",
          "Ready_to_move",
          "Ready_to_move",
          "Ready_to_move",
          "Ready_to_move",
          "Ready_to_move",
          "Ready_to_move",
          "Ready_to_move",
          "Ready_to_move",
          "Ready_to_move",
          "Ready_to_move",
          "Ready_to_move",
          "Ready_to_move",
          "Ready_to_move",
          "Ready_to_move",
          "Ready_to_move",
          "Ready_to_move",
          "Ready_to_move",
          "Ready_to_move",
          "Ready_to_move",
          "Ready_to_move",
          "Ready_to_move",
          "Ready_to_move",
          "Ready_to_move",
          "Ready_to_move",
          "Ready_to_move",
          "Ready_to_move",
          "Almost_ready",
          "Almost_ready",
          "Ready_to_move",
          "Ready_to_move",
          "Ready_to_move",
          "Ready_to_move",
          "Almost_ready",
          "Almost_ready",
          "Almost_ready",
          "Almost_ready",
          "Ready_to_move",
          "Ready_to_move",
          "Ready_to_move",
          "Almost_ready",
          "Ready_to_move",
          "Ready_to_move",
          "Ready_to_move",
          "Ready_to_move",
          "Ready_to_move",
          "Almost_ready",
          "Ready_to_move",
          "Ready_to_move",
          "Ready_to_move",
          "Ready_to_move",
          "Ready_to_move",
          "Ready_to_move",
          "Ready_to_move",
          "Ready_to_move",
          "Ready_to_move",
          "Ready_to_move",
          "Almost_ready",
          "Almost_ready",
          "Almost_ready",
          "Almost_ready",
          "Ready_to_move",
          "Ready_to_move",
          "Ready_to_move",
          "Almost_ready",
          "Ready_to_move",
          "Almost_ready",
          "Almost_ready",
          "Almost_ready",
          "Ready_to_move",
          "Ready_to_move",
          "Almost_ready",
          "Ready_to_move",
          "Ready_to_move",
          "Ready_to_move",
          "Ready_to_move",
          "Ready_to_move",
          "Ready_to_move",
          "Ready_to_move",
          "Ready_to_move",
          "Ready_to_move",
          "Ready_to_move",
          "Ready_to_move",
          "Almost_ready",
          "Almost_ready",
          "Almost_ready",
          "Ready_to_move",
          "Ready_to_move",
          "Ready_to_move",
          "Ready_to_move",
          "Ready_to_move",
          "Ready_to_move",
          "Ready_to_move",
          "Ready_to_move",
          "Ready_to_move",
          "Ready_to_move",
          "Ready_to_move",
          "Ready_to_move",
          "Ready_to_move",
          "Ready_to_move",
          "Ready_to_move",
          "Ready_to_move",
          "Ready_to_move",
          "Ready_to_move",
          "Ready_to_move",
          "Ready_to_move",
          "Ready_to_move",
          "Ready_to_move",
          "Ready_to_move",
          "Ready_to_move",
          "Ready_to_move",
          "Ready_to_move",
          "Ready_to_move",
          "Ready_to_move",
          "Ready_to_move",
          "Ready_to_move",
          "Ready_to_move",
          "Ready_to_move",
          "Ready_to_move",
          "Ready_to_move",
          "Ready_to_move",
          "Ready_to_move",
          "Ready_to_move",
          "Ready_to_move",
          "Ready_to_move",
          "Ready_to_move",
          "Ready_to_move",
          "Ready_to_move",
          "Ready_to_move",
          "Ready_to_move",
          "Ready_to_move",
          "Ready_to_move",
          "Ready_to_move",
          "Ready_to_move",
          "Ready_to_move",
          "Ready_to_move",
          "Ready_to_move",
          "Ready_to_move",
          "Ready_to_move",
          "Ready_to_move",
          "Ready_to_move",
          "Ready_to_move",
          "Ready_to_move",
          "Ready_to_move",
          "Ready_to_move",
          "Almost_ready",
          "Almost_ready",
          "Ready_to_move",
          "Ready_to_move",
          "Ready_to_move",
          "Ready_to_move",
          "Ready_to_move",
          "Ready_to_move",
          "Ready_to_move",
          "Ready_to_move",
          "Ready_to_move",
          "Ready_to_move",
          "Ready_to_move",
          "Ready_to_move",
          "Ready_to_move",
          "Ready_to_move",
          "Ready_to_move",
          "Ready_to_move",
          "Ready_to_move",
          "Ready_to_move",
          "Ready_to_move",
          "Ready_to_move",
          "Ready_to_move",
          "Ready_to_move",
          "Ready_to_move",
          "Ready_to_move",
          "Ready_to_move",
          "Ready_to_move",
          "Ready_to_move",
          "Ready_to_move",
          "Ready_to_move",
          "Ready_to_move",
          "Ready_to_move",
          "Ready_to_move",
          "Ready_to_move",
          "Ready_to_move",
          "Ready_to_move",
          "Ready_to_move",
          "Ready_to_move",
          "Ready_to_move",
          "Ready_to_move",
          "Ready_to_move",
          "Ready_to_move",
          "Ready_to_move",
          "Almost_ready",
          "Ready_to_move",
          "Ready_to_move",
          "Ready_to_move",
          "Ready_to_move",
          "Almost_ready",
          "Ready_to_move",
          "Ready_to_move",
          "Ready_to_move",
          "Ready_to_move",
          "Ready_to_move",
          "Ready_to_move",
          "Ready_to_move",
          "Almost_ready",
          "Ready_to_move",
          "Ready_to_move",
          "Ready_to_move",
          "Ready_to_move",
          "Ready_to_move",
          "Ready_to_move",
          "Ready_to_move",
          "Ready_to_move",
          "Almost_ready",
          "Ready_to_move",
          "Ready_to_move",
          "Ready_to_move",
          "Ready_to_move",
          "Ready_to_move",
          "Ready_to_move",
          "Ready_to_move",
          "Ready_to_move",
          "Ready_to_move",
          "Ready_to_move",
          "Ready_to_move",
          "Ready_to_move",
          "Ready_to_move",
          "Ready_to_move",
          "Ready_to_move",
          "Ready_to_move",
          "Ready_to_move",
          "Ready_to_move",
          "Ready_to_move",
          "Ready_to_move",
          "Ready_to_move",
          "Ready_to_move",
          "Ready_to_move",
          "Ready_to_move",
          "Ready_to_move",
          "Ready_to_move",
          "Ready_to_move",
          "Ready_to_move",
          "Ready_to_move",
          "Ready_to_move",
          "Ready_to_move",
          "Ready_to_move",
          "Ready_to_move",
          "Ready_to_move"
         ],
         "xaxis": "x",
         "yaxis": "y"
        }
       ],
       "layout": {
        "barmode": "relative",
        "height": 420,
        "legend": {
         "tracegroupgap": 0
        },
        "margin": {
         "t": 60
        },
        "template": {
         "data": {
          "bar": [
           {
            "error_x": {
             "color": "#2a3f5f"
            },
            "error_y": {
             "color": "#2a3f5f"
            },
            "marker": {
             "line": {
              "color": "#E5ECF6",
              "width": 0.5
             }
            },
            "type": "bar"
           }
          ],
          "barpolar": [
           {
            "marker": {
             "line": {
              "color": "#E5ECF6",
              "width": 0.5
             }
            },
            "type": "barpolar"
           }
          ],
          "carpet": [
           {
            "aaxis": {
             "endlinecolor": "#2a3f5f",
             "gridcolor": "white",
             "linecolor": "white",
             "minorgridcolor": "white",
             "startlinecolor": "#2a3f5f"
            },
            "baxis": {
             "endlinecolor": "#2a3f5f",
             "gridcolor": "white",
             "linecolor": "white",
             "minorgridcolor": "white",
             "startlinecolor": "#2a3f5f"
            },
            "type": "carpet"
           }
          ],
          "choropleth": [
           {
            "colorbar": {
             "outlinewidth": 0,
             "ticks": ""
            },
            "type": "choropleth"
           }
          ],
          "contour": [
           {
            "colorbar": {
             "outlinewidth": 0,
             "ticks": ""
            },
            "colorscale": [
             [
              0,
              "#0d0887"
             ],
             [
              0.1111111111111111,
              "#46039f"
             ],
             [
              0.2222222222222222,
              "#7201a8"
             ],
             [
              0.3333333333333333,
              "#9c179e"
             ],
             [
              0.4444444444444444,
              "#bd3786"
             ],
             [
              0.5555555555555556,
              "#d8576b"
             ],
             [
              0.6666666666666666,
              "#ed7953"
             ],
             [
              0.7777777777777778,
              "#fb9f3a"
             ],
             [
              0.8888888888888888,
              "#fdca26"
             ],
             [
              1,
              "#f0f921"
             ]
            ],
            "type": "contour"
           }
          ],
          "contourcarpet": [
           {
            "colorbar": {
             "outlinewidth": 0,
             "ticks": ""
            },
            "type": "contourcarpet"
           }
          ],
          "heatmap": [
           {
            "colorbar": {
             "outlinewidth": 0,
             "ticks": ""
            },
            "colorscale": [
             [
              0,
              "#0d0887"
             ],
             [
              0.1111111111111111,
              "#46039f"
             ],
             [
              0.2222222222222222,
              "#7201a8"
             ],
             [
              0.3333333333333333,
              "#9c179e"
             ],
             [
              0.4444444444444444,
              "#bd3786"
             ],
             [
              0.5555555555555556,
              "#d8576b"
             ],
             [
              0.6666666666666666,
              "#ed7953"
             ],
             [
              0.7777777777777778,
              "#fb9f3a"
             ],
             [
              0.8888888888888888,
              "#fdca26"
             ],
             [
              1,
              "#f0f921"
             ]
            ],
            "type": "heatmap"
           }
          ],
          "heatmapgl": [
           {
            "colorbar": {
             "outlinewidth": 0,
             "ticks": ""
            },
            "colorscale": [
             [
              0,
              "#0d0887"
             ],
             [
              0.1111111111111111,
              "#46039f"
             ],
             [
              0.2222222222222222,
              "#7201a8"
             ],
             [
              0.3333333333333333,
              "#9c179e"
             ],
             [
              0.4444444444444444,
              "#bd3786"
             ],
             [
              0.5555555555555556,
              "#d8576b"
             ],
             [
              0.6666666666666666,
              "#ed7953"
             ],
             [
              0.7777777777777778,
              "#fb9f3a"
             ],
             [
              0.8888888888888888,
              "#fdca26"
             ],
             [
              1,
              "#f0f921"
             ]
            ],
            "type": "heatmapgl"
           }
          ],
          "histogram": [
           {
            "marker": {
             "colorbar": {
              "outlinewidth": 0,
              "ticks": ""
             }
            },
            "type": "histogram"
           }
          ],
          "histogram2d": [
           {
            "colorbar": {
             "outlinewidth": 0,
             "ticks": ""
            },
            "colorscale": [
             [
              0,
              "#0d0887"
             ],
             [
              0.1111111111111111,
              "#46039f"
             ],
             [
              0.2222222222222222,
              "#7201a8"
             ],
             [
              0.3333333333333333,
              "#9c179e"
             ],
             [
              0.4444444444444444,
              "#bd3786"
             ],
             [
              0.5555555555555556,
              "#d8576b"
             ],
             [
              0.6666666666666666,
              "#ed7953"
             ],
             [
              0.7777777777777778,
              "#fb9f3a"
             ],
             [
              0.8888888888888888,
              "#fdca26"
             ],
             [
              1,
              "#f0f921"
             ]
            ],
            "type": "histogram2d"
           }
          ],
          "histogram2dcontour": [
           {
            "colorbar": {
             "outlinewidth": 0,
             "ticks": ""
            },
            "colorscale": [
             [
              0,
              "#0d0887"
             ],
             [
              0.1111111111111111,
              "#46039f"
             ],
             [
              0.2222222222222222,
              "#7201a8"
             ],
             [
              0.3333333333333333,
              "#9c179e"
             ],
             [
              0.4444444444444444,
              "#bd3786"
             ],
             [
              0.5555555555555556,
              "#d8576b"
             ],
             [
              0.6666666666666666,
              "#ed7953"
             ],
             [
              0.7777777777777778,
              "#fb9f3a"
             ],
             [
              0.8888888888888888,
              "#fdca26"
             ],
             [
              1,
              "#f0f921"
             ]
            ],
            "type": "histogram2dcontour"
           }
          ],
          "mesh3d": [
           {
            "colorbar": {
             "outlinewidth": 0,
             "ticks": ""
            },
            "type": "mesh3d"
           }
          ],
          "parcoords": [
           {
            "line": {
             "colorbar": {
              "outlinewidth": 0,
              "ticks": ""
             }
            },
            "type": "parcoords"
           }
          ],
          "pie": [
           {
            "automargin": true,
            "type": "pie"
           }
          ],
          "scatter": [
           {
            "marker": {
             "colorbar": {
              "outlinewidth": 0,
              "ticks": ""
             }
            },
            "type": "scatter"
           }
          ],
          "scatter3d": [
           {
            "line": {
             "colorbar": {
              "outlinewidth": 0,
              "ticks": ""
             }
            },
            "marker": {
             "colorbar": {
              "outlinewidth": 0,
              "ticks": ""
             }
            },
            "type": "scatter3d"
           }
          ],
          "scattercarpet": [
           {
            "marker": {
             "colorbar": {
              "outlinewidth": 0,
              "ticks": ""
             }
            },
            "type": "scattercarpet"
           }
          ],
          "scattergeo": [
           {
            "marker": {
             "colorbar": {
              "outlinewidth": 0,
              "ticks": ""
             }
            },
            "type": "scattergeo"
           }
          ],
          "scattergl": [
           {
            "marker": {
             "colorbar": {
              "outlinewidth": 0,
              "ticks": ""
             }
            },
            "type": "scattergl"
           }
          ],
          "scattermapbox": [
           {
            "marker": {
             "colorbar": {
              "outlinewidth": 0,
              "ticks": ""
             }
            },
            "type": "scattermapbox"
           }
          ],
          "scatterpolar": [
           {
            "marker": {
             "colorbar": {
              "outlinewidth": 0,
              "ticks": ""
             }
            },
            "type": "scatterpolar"
           }
          ],
          "scatterpolargl": [
           {
            "marker": {
             "colorbar": {
              "outlinewidth": 0,
              "ticks": ""
             }
            },
            "type": "scatterpolargl"
           }
          ],
          "scatterternary": [
           {
            "marker": {
             "colorbar": {
              "outlinewidth": 0,
              "ticks": ""
             }
            },
            "type": "scatterternary"
           }
          ],
          "surface": [
           {
            "colorbar": {
             "outlinewidth": 0,
             "ticks": ""
            },
            "colorscale": [
             [
              0,
              "#0d0887"
             ],
             [
              0.1111111111111111,
              "#46039f"
             ],
             [
              0.2222222222222222,
              "#7201a8"
             ],
             [
              0.3333333333333333,
              "#9c179e"
             ],
             [
              0.4444444444444444,
              "#bd3786"
             ],
             [
              0.5555555555555556,
              "#d8576b"
             ],
             [
              0.6666666666666666,
              "#ed7953"
             ],
             [
              0.7777777777777778,
              "#fb9f3a"
             ],
             [
              0.8888888888888888,
              "#fdca26"
             ],
             [
              1,
              "#f0f921"
             ]
            ],
            "type": "surface"
           }
          ],
          "table": [
           {
            "cells": {
             "fill": {
              "color": "#EBF0F8"
             },
             "line": {
              "color": "white"
             }
            },
            "header": {
             "fill": {
              "color": "#C8D4E3"
             },
             "line": {
              "color": "white"
             }
            },
            "type": "table"
           }
          ]
         },
         "layout": {
          "annotationdefaults": {
           "arrowcolor": "#2a3f5f",
           "arrowhead": 0,
           "arrowwidth": 1
          },
          "autotypenumbers": "strict",
          "coloraxis": {
           "colorbar": {
            "outlinewidth": 0,
            "ticks": ""
           }
          },
          "colorscale": {
           "diverging": [
            [
             0,
             "#8e0152"
            ],
            [
             0.1,
             "#c51b7d"
            ],
            [
             0.2,
             "#de77ae"
            ],
            [
             0.3,
             "#f1b6da"
            ],
            [
             0.4,
             "#fde0ef"
            ],
            [
             0.5,
             "#f7f7f7"
            ],
            [
             0.6,
             "#e6f5d0"
            ],
            [
             0.7,
             "#b8e186"
            ],
            [
             0.8,
             "#7fbc41"
            ],
            [
             0.9,
             "#4d9221"
            ],
            [
             1,
             "#276419"
            ]
           ],
           "sequential": [
            [
             0,
             "#0d0887"
            ],
            [
             0.1111111111111111,
             "#46039f"
            ],
            [
             0.2222222222222222,
             "#7201a8"
            ],
            [
             0.3333333333333333,
             "#9c179e"
            ],
            [
             0.4444444444444444,
             "#bd3786"
            ],
            [
             0.5555555555555556,
             "#d8576b"
            ],
            [
             0.6666666666666666,
             "#ed7953"
            ],
            [
             0.7777777777777778,
             "#fb9f3a"
            ],
            [
             0.8888888888888888,
             "#fdca26"
            ],
            [
             1,
             "#f0f921"
            ]
           ],
           "sequentialminus": [
            [
             0,
             "#0d0887"
            ],
            [
             0.1111111111111111,
             "#46039f"
            ],
            [
             0.2222222222222222,
             "#7201a8"
            ],
            [
             0.3333333333333333,
             "#9c179e"
            ],
            [
             0.4444444444444444,
             "#bd3786"
            ],
            [
             0.5555555555555556,
             "#d8576b"
            ],
            [
             0.6666666666666666,
             "#ed7953"
            ],
            [
             0.7777777777777778,
             "#fb9f3a"
            ],
            [
             0.8888888888888888,
             "#fdca26"
            ],
            [
             1,
             "#f0f921"
            ]
           ]
          },
          "colorway": [
           "#636efa",
           "#EF553B",
           "#00cc96",
           "#ab63fa",
           "#FFA15A",
           "#19d3f3",
           "#FF6692",
           "#B6E880",
           "#FF97FF",
           "#FECB52"
          ],
          "font": {
           "color": "#2a3f5f"
          },
          "geo": {
           "bgcolor": "white",
           "lakecolor": "white",
           "landcolor": "#E5ECF6",
           "showlakes": true,
           "showland": true,
           "subunitcolor": "white"
          },
          "hoverlabel": {
           "align": "left"
          },
          "hovermode": "closest",
          "mapbox": {
           "style": "light"
          },
          "paper_bgcolor": "white",
          "plot_bgcolor": "#E5ECF6",
          "polar": {
           "angularaxis": {
            "gridcolor": "white",
            "linecolor": "white",
            "ticks": ""
           },
           "bgcolor": "#E5ECF6",
           "radialaxis": {
            "gridcolor": "white",
            "linecolor": "white",
            "ticks": ""
           }
          },
          "scene": {
           "xaxis": {
            "backgroundcolor": "#E5ECF6",
            "gridcolor": "white",
            "gridwidth": 2,
            "linecolor": "white",
            "showbackground": true,
            "ticks": "",
            "zerolinecolor": "white"
           },
           "yaxis": {
            "backgroundcolor": "#E5ECF6",
            "gridcolor": "white",
            "gridwidth": 2,
            "linecolor": "white",
            "showbackground": true,
            "ticks": "",
            "zerolinecolor": "white"
           },
           "zaxis": {
            "backgroundcolor": "#E5ECF6",
            "gridcolor": "white",
            "gridwidth": 2,
            "linecolor": "white",
            "showbackground": true,
            "ticks": "",
            "zerolinecolor": "white"
           }
          },
          "shapedefaults": {
           "line": {
            "color": "#2a3f5f"
           }
          },
          "ternary": {
           "aaxis": {
            "gridcolor": "white",
            "linecolor": "white",
            "ticks": ""
           },
           "baxis": {
            "gridcolor": "white",
            "linecolor": "white",
            "ticks": ""
           },
           "bgcolor": "#E5ECF6",
           "caxis": {
            "gridcolor": "white",
            "linecolor": "white",
            "ticks": ""
           }
          },
          "title": {
           "x": 0.05
          },
          "xaxis": {
           "automargin": true,
           "gridcolor": "white",
           "linecolor": "white",
           "ticks": "",
           "title": {
            "standoff": 15
           },
           "zerolinecolor": "white",
           "zerolinewidth": 2
          },
          "yaxis": {
           "automargin": true,
           "gridcolor": "white",
           "linecolor": "white",
           "ticks": "",
           "title": {
            "standoff": 15
           },
           "zerolinecolor": "white",
           "zerolinewidth": 2
          }
         }
        },
        "width": 600,
        "xaxis": {
         "anchor": "y",
         "domain": [
          0,
          1
         ],
         "title": {
          "text": "Status"
         }
        },
        "yaxis": {
         "anchor": "x",
         "domain": [
          0,
          1
         ],
         "title": {
          "text": "count"
         }
        }
       }
      }
     },
     "metadata": {}
    }
   ],
   "source": [
    "# Status of any property vs count\n",
    "\n",
    "fig = px.histogram(df2,x='Status')\n",
    "fig.update_layout(height=420,width=600)\n",
    "fig.show()"
   ]
  },
  {
   "cell_type": "code",
   "execution_count": 21,
   "metadata": {},
   "outputs": [
    {
     "output_type": "display_data",
     "data": {
      "application/vnd.plotly.v1+json": {
       "config": {
        "plotlyServerURL": "https://plot.ly"
       },
       "data": [
        {
         "hovertemplate": "Status=%{x}<br>Price=%{y}<extra></extra>",
         "legendgroup": "",
         "marker": {
          "color": "#636efa",
          "symbol": "circle"
         },
         "mode": "markers",
         "name": "",
         "showlegend": false,
         "type": "scattergl",
         "x": [
          "Ready_to_move",
          "Ready_to_move",
          "Ready_to_move",
          "Ready_to_move",
          "Ready_to_move",
          "Ready_to_move",
          "Ready_to_move",
          "Almost_ready",
          "Ready_to_move",
          "Ready_to_move",
          "Ready_to_move",
          "Ready_to_move",
          "Ready_to_move",
          "Ready_to_move",
          "Ready_to_move",
          "Ready_to_move",
          "Ready_to_move",
          "Ready_to_move",
          "Ready_to_move",
          "Ready_to_move",
          "Ready_to_move",
          "Ready_to_move",
          "Ready_to_move",
          "Ready_to_move",
          "Ready_to_move",
          "Ready_to_move",
          "Ready_to_move",
          "Ready_to_move",
          "Ready_to_move",
          "Ready_to_move",
          "Ready_to_move",
          "Ready_to_move",
          "Ready_to_move",
          "Ready_to_move",
          "Ready_to_move",
          "Ready_to_move",
          "Ready_to_move",
          "Ready_to_move",
          "Ready_to_move",
          "Ready_to_move",
          "Ready_to_move",
          "Ready_to_move",
          "Ready_to_move",
          "Ready_to_move",
          "Ready_to_move",
          "Ready_to_move",
          "Ready_to_move",
          "Ready_to_move",
          "Almost_ready",
          "Ready_to_move",
          "Ready_to_move",
          "Ready_to_move",
          "Ready_to_move",
          "Ready_to_move",
          "Ready_to_move",
          "Ready_to_move",
          "Ready_to_move",
          "Ready_to_move",
          "Ready_to_move",
          "Ready_to_move",
          "Ready_to_move",
          "Ready_to_move",
          "Ready_to_move",
          "Ready_to_move",
          "Ready_to_move",
          "Ready_to_move",
          "Ready_to_move",
          "Ready_to_move",
          "Ready_to_move",
          "Ready_to_move",
          "Ready_to_move",
          "Ready_to_move",
          "Ready_to_move",
          "Ready_to_move",
          "Ready_to_move",
          "Ready_to_move",
          "Ready_to_move",
          "Ready_to_move",
          "Ready_to_move",
          "Ready_to_move",
          "Ready_to_move",
          "Ready_to_move",
          "Ready_to_move",
          "Ready_to_move",
          "Ready_to_move",
          "Ready_to_move",
          "Ready_to_move",
          "Ready_to_move",
          "Ready_to_move",
          "Ready_to_move",
          "Ready_to_move",
          "Ready_to_move",
          "Ready_to_move",
          "Ready_to_move",
          "Ready_to_move",
          "Ready_to_move",
          "Ready_to_move",
          "Almost_ready",
          "Ready_to_move",
          "Ready_to_move",
          "Ready_to_move",
          "Ready_to_move",
          "Ready_to_move",
          "Ready_to_move",
          "Ready_to_move",
          "Ready_to_move",
          "Ready_to_move",
          "Ready_to_move",
          "Ready_to_move",
          "Ready_to_move",
          "Ready_to_move",
          "Ready_to_move",
          "Ready_to_move",
          "Ready_to_move",
          "Ready_to_move",
          "Ready_to_move",
          "Ready_to_move",
          "Ready_to_move",
          "Ready_to_move",
          "Ready_to_move",
          "Ready_to_move",
          "Ready_to_move",
          "Ready_to_move",
          "Ready_to_move",
          "Ready_to_move",
          "Ready_to_move",
          "Ready_to_move",
          "Ready_to_move",
          "Ready_to_move",
          "Ready_to_move",
          "Ready_to_move",
          "Ready_to_move",
          "Ready_to_move",
          "Ready_to_move",
          "Ready_to_move",
          "Ready_to_move",
          "Ready_to_move",
          "Ready_to_move",
          "Ready_to_move",
          "Ready_to_move",
          "Ready_to_move",
          "Ready_to_move",
          "Ready_to_move",
          "Ready_to_move",
          "Ready_to_move",
          "Ready_to_move",
          "Ready_to_move",
          "Ready_to_move",
          "Ready_to_move",
          "Ready_to_move",
          "Ready_to_move",
          "Ready_to_move",
          "Ready_to_move",
          "Ready_to_move",
          "Ready_to_move",
          "Ready_to_move",
          "Ready_to_move",
          "Ready_to_move",
          "Ready_to_move",
          "Ready_to_move",
          "Ready_to_move",
          "Ready_to_move",
          "Ready_to_move",
          "Ready_to_move",
          "Ready_to_move",
          "Ready_to_move",
          "Ready_to_move",
          "Ready_to_move",
          "Ready_to_move",
          "Ready_to_move",
          "Ready_to_move",
          "Ready_to_move",
          "Almost_ready",
          "Ready_to_move",
          "Almost_ready",
          "Ready_to_move",
          "Ready_to_move",
          "Ready_to_move",
          "Ready_to_move",
          "Ready_to_move",
          "Ready_to_move",
          "Ready_to_move",
          "Ready_to_move",
          "Ready_to_move",
          "Ready_to_move",
          "Ready_to_move",
          "Ready_to_move",
          "Almost_ready",
          "Almost_ready",
          "Almost_ready",
          "Almost_ready",
          "Almost_ready",
          "Almost_ready",
          "Ready_to_move",
          "Ready_to_move",
          "Ready_to_move",
          "Ready_to_move",
          "Almost_ready",
          "Ready_to_move",
          "Ready_to_move",
          "Ready_to_move",
          "Ready_to_move",
          "Ready_to_move",
          "Ready_to_move",
          "Ready_to_move",
          "Ready_to_move",
          "Ready_to_move",
          "Ready_to_move",
          "Ready_to_move",
          "Ready_to_move",
          "Ready_to_move",
          "Ready_to_move",
          "Ready_to_move",
          "Ready_to_move",
          "Ready_to_move",
          "Ready_to_move",
          "Ready_to_move",
          "Ready_to_move",
          "Ready_to_move",
          "Ready_to_move",
          "Ready_to_move",
          "Ready_to_move",
          "Ready_to_move",
          "Ready_to_move",
          "Ready_to_move",
          "Ready_to_move",
          "Ready_to_move",
          "Ready_to_move",
          "Ready_to_move",
          "Ready_to_move",
          "Ready_to_move",
          "Ready_to_move",
          "Ready_to_move",
          "Ready_to_move",
          "Ready_to_move",
          "Ready_to_move",
          "Ready_to_move",
          "Ready_to_move",
          "Almost_ready",
          "Ready_to_move",
          "Ready_to_move",
          "Ready_to_move",
          "Ready_to_move",
          "Ready_to_move",
          "Ready_to_move",
          "Ready_to_move",
          "Ready_to_move",
          "Ready_to_move",
          "Ready_to_move",
          "Ready_to_move",
          "Ready_to_move",
          "Ready_to_move",
          "Ready_to_move",
          "Ready_to_move",
          "Ready_to_move",
          "Ready_to_move",
          "Ready_to_move",
          "Ready_to_move",
          "Ready_to_move",
          "Ready_to_move",
          "Ready_to_move",
          "Ready_to_move",
          "Ready_to_move",
          "Ready_to_move",
          "Ready_to_move",
          "Ready_to_move",
          "Ready_to_move",
          "Ready_to_move",
          "Ready_to_move",
          "Ready_to_move",
          "Ready_to_move",
          "Ready_to_move",
          "Ready_to_move",
          "Ready_to_move",
          "Ready_to_move",
          "Almost_ready",
          "Ready_to_move",
          "Ready_to_move",
          "Almost_ready",
          "Ready_to_move",
          "Ready_to_move",
          "Ready_to_move",
          "Ready_to_move",
          "Ready_to_move",
          "Ready_to_move",
          "Ready_to_move",
          "Ready_to_move",
          "Ready_to_move",
          "Ready_to_move",
          "Ready_to_move",
          "Ready_to_move",
          "Ready_to_move",
          "Ready_to_move",
          "Ready_to_move",
          "Ready_to_move",
          "Ready_to_move",
          "Ready_to_move",
          "Ready_to_move",
          "Ready_to_move",
          "Ready_to_move",
          "Ready_to_move",
          "Ready_to_move",
          "Ready_to_move",
          "Ready_to_move",
          "Ready_to_move",
          "Ready_to_move",
          "Ready_to_move",
          "Ready_to_move",
          "Ready_to_move",
          "Ready_to_move",
          "Ready_to_move",
          "Ready_to_move",
          "Ready_to_move",
          "Ready_to_move",
          "Ready_to_move",
          "Ready_to_move",
          "Ready_to_move",
          "Ready_to_move",
          "Ready_to_move",
          "Ready_to_move",
          "Ready_to_move",
          "Ready_to_move",
          "Ready_to_move",
          "Ready_to_move",
          "Ready_to_move",
          "Ready_to_move",
          "Ready_to_move",
          "Ready_to_move",
          "Ready_to_move",
          "Ready_to_move",
          "Ready_to_move",
          "Ready_to_move",
          "Ready_to_move",
          "Ready_to_move",
          "Ready_to_move",
          "Ready_to_move",
          "Ready_to_move",
          "Ready_to_move",
          "Ready_to_move",
          "Ready_to_move",
          "Ready_to_move",
          "Almost_ready",
          "Ready_to_move",
          "Ready_to_move",
          "Ready_to_move",
          "Ready_to_move",
          "Ready_to_move",
          "Ready_to_move",
          "Ready_to_move",
          "Ready_to_move",
          "Ready_to_move",
          "Ready_to_move",
          "Ready_to_move",
          "Ready_to_move",
          "Ready_to_move",
          "Ready_to_move",
          "Ready_to_move",
          "Ready_to_move",
          "Ready_to_move",
          "Ready_to_move",
          "Ready_to_move",
          "Ready_to_move",
          "Ready_to_move",
          "Ready_to_move",
          "Ready_to_move",
          "Ready_to_move",
          "Almost_ready",
          "Almost_ready",
          "Ready_to_move",
          "Ready_to_move",
          "Ready_to_move",
          "Ready_to_move",
          "Ready_to_move",
          "Ready_to_move",
          "Ready_to_move",
          "Almost_ready",
          "Ready_to_move",
          "Ready_to_move",
          "Ready_to_move",
          "Ready_to_move",
          "Ready_to_move",
          "Ready_to_move",
          "Ready_to_move",
          "Ready_to_move",
          "Ready_to_move",
          "Almost_ready",
          "Ready_to_move",
          "Ready_to_move",
          "Ready_to_move",
          "Ready_to_move",
          "Ready_to_move",
          "Ready_to_move",
          "Ready_to_move",
          "Ready_to_move",
          "Ready_to_move",
          "Ready_to_move",
          "Ready_to_move",
          "Ready_to_move",
          "Ready_to_move",
          "Ready_to_move",
          "Ready_to_move",
          "Ready_to_move",
          "Ready_to_move",
          "Ready_to_move",
          "Ready_to_move",
          "Ready_to_move",
          "Ready_to_move",
          "Ready_to_move",
          "Ready_to_move",
          "Ready_to_move",
          "Ready_to_move",
          "Ready_to_move",
          "Ready_to_move",
          "Ready_to_move",
          "Ready_to_move",
          "Ready_to_move",
          "Ready_to_move",
          "Ready_to_move",
          "Almost_ready",
          "Ready_to_move",
          "Almost_ready",
          "Ready_to_move",
          "Ready_to_move",
          "Ready_to_move",
          "Ready_to_move",
          "Ready_to_move",
          "Ready_to_move",
          "Ready_to_move",
          "Ready_to_move",
          "Ready_to_move",
          "Ready_to_move",
          "Ready_to_move",
          "Ready_to_move",
          "Almost_ready",
          "Almost_ready",
          "Almost_ready",
          "Almost_ready",
          "Almost_ready",
          "Almost_ready",
          "Ready_to_move",
          "Ready_to_move",
          "Ready_to_move",
          "Ready_to_move",
          "Almost_ready",
          "Ready_to_move",
          "Ready_to_move",
          "Ready_to_move",
          "Ready_to_move",
          "Ready_to_move",
          "Ready_to_move",
          "Ready_to_move",
          "Ready_to_move",
          "Ready_to_move",
          "Ready_to_move",
          "Ready_to_move",
          "Ready_to_move",
          "Ready_to_move",
          "Ready_to_move",
          "Ready_to_move",
          "Ready_to_move",
          "Almost_ready",
          "Ready_to_move",
          "Ready_to_move",
          "Ready_to_move",
          "Ready_to_move",
          "Ready_to_move",
          "Ready_to_move",
          "Ready_to_move",
          "Ready_to_move",
          "Ready_to_move",
          "Ready_to_move",
          "Ready_to_move",
          "Almost_ready",
          "Ready_to_move",
          "Ready_to_move",
          "Ready_to_move",
          "Ready_to_move",
          "Ready_to_move",
          "Ready_to_move",
          "Ready_to_move",
          "Ready_to_move",
          "Ready_to_move",
          "Ready_to_move",
          "Ready_to_move",
          "Ready_to_move",
          "Ready_to_move",
          "Ready_to_move",
          "Ready_to_move",
          "Ready_to_move",
          "Ready_to_move",
          "Ready_to_move",
          "Ready_to_move",
          "Ready_to_move",
          "Ready_to_move",
          "Ready_to_move",
          "Ready_to_move",
          "Ready_to_move",
          "Ready_to_move",
          "Ready_to_move",
          "Ready_to_move",
          "Ready_to_move",
          "Ready_to_move",
          "Ready_to_move",
          "Ready_to_move",
          "Ready_to_move",
          "Ready_to_move",
          "Ready_to_move",
          "Ready_to_move",
          "Ready_to_move",
          "Ready_to_move",
          "Ready_to_move",
          "Ready_to_move",
          "Ready_to_move",
          "Ready_to_move",
          "Ready_to_move",
          "Ready_to_move",
          "Ready_to_move",
          "Ready_to_move",
          "Ready_to_move",
          "Ready_to_move",
          "Ready_to_move",
          "Ready_to_move",
          "Ready_to_move",
          "Ready_to_move",
          "Ready_to_move",
          "Ready_to_move",
          "Ready_to_move",
          "Ready_to_move",
          "Ready_to_move",
          "Ready_to_move",
          "Ready_to_move",
          "Ready_to_move",
          "Ready_to_move",
          "Ready_to_move",
          "Ready_to_move",
          "Ready_to_move",
          "Ready_to_move",
          "Ready_to_move",
          "Ready_to_move",
          "Ready_to_move",
          "Ready_to_move",
          "Ready_to_move",
          "Ready_to_move",
          "Ready_to_move",
          "Ready_to_move",
          "Ready_to_move",
          "Ready_to_move",
          "Ready_to_move",
          "Ready_to_move",
          "Ready_to_move",
          "Ready_to_move",
          "Ready_to_move",
          "Ready_to_move",
          "Ready_to_move",
          "Ready_to_move",
          "Ready_to_move",
          "Ready_to_move",
          "Ready_to_move",
          "Ready_to_move",
          "Ready_to_move",
          "Ready_to_move",
          "Ready_to_move",
          "Ready_to_move",
          "Ready_to_move",
          "Ready_to_move",
          "Ready_to_move",
          "Ready_to_move",
          "Ready_to_move",
          "Ready_to_move",
          "Ready_to_move",
          "Ready_to_move",
          "Ready_to_move",
          "Ready_to_move",
          "Ready_to_move",
          "Ready_to_move",
          "Ready_to_move",
          "Ready_to_move",
          "Ready_to_move",
          "Ready_to_move",
          "Ready_to_move",
          "Ready_to_move",
          "Ready_to_move",
          "Ready_to_move",
          "Ready_to_move",
          "Ready_to_move",
          "Ready_to_move",
          "Ready_to_move",
          "Ready_to_move",
          "Ready_to_move",
          "Ready_to_move",
          "Ready_to_move",
          "Ready_to_move",
          "Ready_to_move",
          "Ready_to_move",
          "Ready_to_move",
          "Ready_to_move",
          "Ready_to_move",
          "Ready_to_move",
          "Ready_to_move",
          "Ready_to_move",
          "Ready_to_move",
          "Ready_to_move",
          "Ready_to_move",
          "Ready_to_move",
          "Ready_to_move",
          "Ready_to_move",
          "Ready_to_move",
          "Ready_to_move",
          "Ready_to_move",
          "Ready_to_move",
          "Ready_to_move",
          "Ready_to_move",
          "Ready_to_move",
          "Ready_to_move",
          "Ready_to_move",
          "Ready_to_move",
          "Ready_to_move",
          "Almost_ready",
          "Ready_to_move",
          "Almost_ready",
          "Ready_to_move",
          "Ready_to_move",
          "Ready_to_move",
          "Ready_to_move",
          "Ready_to_move",
          "Ready_to_move",
          "Ready_to_move",
          "Ready_to_move",
          "Ready_to_move",
          "Ready_to_move",
          "Ready_to_move",
          "Ready_to_move",
          "Ready_to_move",
          "Ready_to_move",
          "Ready_to_move",
          "Ready_to_move",
          "Ready_to_move",
          "Ready_to_move",
          "Almost_ready",
          "Almost_ready",
          "Ready_to_move",
          "Ready_to_move",
          "Ready_to_move",
          "Ready_to_move",
          "Ready_to_move",
          "Ready_to_move",
          "Ready_to_move",
          "Ready_to_move",
          "Ready_to_move",
          "Ready_to_move",
          "Ready_to_move",
          "Ready_to_move",
          "Ready_to_move",
          "Ready_to_move",
          "Ready_to_move",
          "Ready_to_move",
          "Ready_to_move",
          "Ready_to_move",
          "Almost_ready",
          "Ready_to_move",
          "Almost_ready",
          "Ready_to_move",
          "Ready_to_move",
          "Ready_to_move",
          "Ready_to_move",
          "Ready_to_move",
          "Ready_to_move",
          "Ready_to_move",
          "Ready_to_move",
          "Ready_to_move",
          "Ready_to_move",
          "Ready_to_move",
          "Ready_to_move",
          "Ready_to_move",
          "Ready_to_move",
          "Ready_to_move",
          "Ready_to_move",
          "Ready_to_move",
          "Ready_to_move",
          "Ready_to_move",
          "Ready_to_move",
          "Ready_to_move",
          "Ready_to_move",
          "Ready_to_move",
          "Almost_ready",
          "Ready_to_move",
          "Ready_to_move",
          "Ready_to_move",
          "Ready_to_move",
          "Ready_to_move",
          "Ready_to_move",
          "Ready_to_move",
          "Ready_to_move",
          "Ready_to_move",
          "Ready_to_move",
          "Ready_to_move",
          "Ready_to_move",
          "Ready_to_move",
          "Ready_to_move",
          "Ready_to_move",
          "Ready_to_move",
          "Ready_to_move",
          "Ready_to_move",
          "Ready_to_move",
          "Ready_to_move",
          "Ready_to_move",
          "Ready_to_move",
          "Ready_to_move",
          "Ready_to_move",
          "Ready_to_move",
          "Ready_to_move",
          "Ready_to_move",
          "Ready_to_move",
          "Ready_to_move",
          "Ready_to_move",
          "Ready_to_move",
          "Ready_to_move",
          "Ready_to_move",
          "Ready_to_move",
          "Ready_to_move",
          "Ready_to_move",
          "Ready_to_move",
          "Ready_to_move",
          "Ready_to_move",
          "Ready_to_move",
          "Ready_to_move",
          "Almost_ready",
          "Ready_to_move",
          "Ready_to_move",
          "Ready_to_move",
          "Ready_to_move",
          "Ready_to_move",
          "Ready_to_move",
          "Ready_to_move",
          "Ready_to_move",
          "Ready_to_move",
          "Ready_to_move",
          "Ready_to_move",
          "Ready_to_move",
          "Ready_to_move",
          "Ready_to_move",
          "Ready_to_move",
          "Ready_to_move",
          "Ready_to_move",
          "Ready_to_move",
          "Ready_to_move",
          "Ready_to_move",
          "Ready_to_move",
          "Ready_to_move",
          "Ready_to_move",
          "Ready_to_move",
          "Ready_to_move",
          "Ready_to_move",
          "Ready_to_move",
          "Ready_to_move",
          "Ready_to_move",
          "Ready_to_move",
          "Ready_to_move",
          "Ready_to_move",
          "Ready_to_move",
          "Ready_to_move",
          "Ready_to_move",
          "Ready_to_move",
          "Ready_to_move",
          "Ready_to_move",
          "Ready_to_move",
          "Ready_to_move",
          "Ready_to_move",
          "Ready_to_move",
          "Ready_to_move",
          "Ready_to_move",
          "Ready_to_move",
          "Ready_to_move",
          "Ready_to_move",
          "Ready_to_move",
          "Ready_to_move",
          "Ready_to_move",
          "Ready_to_move",
          "Ready_to_move",
          "Ready_to_move",
          "Ready_to_move",
          "Ready_to_move",
          "Ready_to_move",
          "Ready_to_move",
          "Ready_to_move",
          "Ready_to_move",
          "Almost_ready",
          "Almost_ready",
          "Ready_to_move",
          "Ready_to_move",
          "Ready_to_move",
          "Ready_to_move",
          "Almost_ready",
          "Almost_ready",
          "Almost_ready",
          "Almost_ready",
          "Ready_to_move",
          "Ready_to_move",
          "Ready_to_move",
          "Almost_ready",
          "Ready_to_move",
          "Ready_to_move",
          "Ready_to_move",
          "Ready_to_move",
          "Ready_to_move",
          "Almost_ready",
          "Ready_to_move",
          "Ready_to_move",
          "Ready_to_move",
          "Ready_to_move",
          "Ready_to_move",
          "Ready_to_move",
          "Ready_to_move",
          "Ready_to_move",
          "Ready_to_move",
          "Ready_to_move",
          "Almost_ready",
          "Almost_ready",
          "Almost_ready",
          "Almost_ready",
          "Ready_to_move",
          "Ready_to_move",
          "Ready_to_move",
          "Almost_ready",
          "Ready_to_move",
          "Almost_ready",
          "Almost_ready",
          "Almost_ready",
          "Ready_to_move",
          "Ready_to_move",
          "Almost_ready",
          "Ready_to_move",
          "Ready_to_move",
          "Ready_to_move",
          "Ready_to_move",
          "Ready_to_move",
          "Ready_to_move",
          "Ready_to_move",
          "Ready_to_move",
          "Ready_to_move",
          "Ready_to_move",
          "Ready_to_move",
          "Almost_ready",
          "Almost_ready",
          "Almost_ready",
          "Ready_to_move",
          "Ready_to_move",
          "Ready_to_move",
          "Ready_to_move",
          "Ready_to_move",
          "Ready_to_move",
          "Ready_to_move",
          "Ready_to_move",
          "Ready_to_move",
          "Ready_to_move",
          "Ready_to_move",
          "Ready_to_move",
          "Ready_to_move",
          "Ready_to_move",
          "Ready_to_move",
          "Ready_to_move",
          "Ready_to_move",
          "Ready_to_move",
          "Ready_to_move",
          "Ready_to_move",
          "Ready_to_move",
          "Ready_to_move",
          "Ready_to_move",
          "Ready_to_move",
          "Ready_to_move",
          "Ready_to_move",
          "Ready_to_move",
          "Ready_to_move",
          "Ready_to_move",
          "Ready_to_move",
          "Ready_to_move",
          "Ready_to_move",
          "Ready_to_move",
          "Ready_to_move",
          "Ready_to_move",
          "Ready_to_move",
          "Ready_to_move",
          "Ready_to_move",
          "Ready_to_move",
          "Ready_to_move",
          "Ready_to_move",
          "Ready_to_move",
          "Ready_to_move",
          "Ready_to_move",
          "Ready_to_move",
          "Ready_to_move",
          "Ready_to_move",
          "Ready_to_move",
          "Ready_to_move",
          "Ready_to_move",
          "Ready_to_move",
          "Ready_to_move",
          "Ready_to_move",
          "Ready_to_move",
          "Ready_to_move",
          "Ready_to_move",
          "Ready_to_move",
          "Ready_to_move",
          "Ready_to_move",
          "Almost_ready",
          "Almost_ready",
          "Ready_to_move",
          "Ready_to_move",
          "Ready_to_move",
          "Ready_to_move",
          "Ready_to_move",
          "Ready_to_move",
          "Ready_to_move",
          "Ready_to_move",
          "Ready_to_move",
          "Ready_to_move",
          "Ready_to_move",
          "Ready_to_move",
          "Ready_to_move",
          "Ready_to_move",
          "Ready_to_move",
          "Ready_to_move",
          "Ready_to_move",
          "Ready_to_move",
          "Ready_to_move",
          "Ready_to_move",
          "Ready_to_move",
          "Ready_to_move",
          "Ready_to_move",
          "Ready_to_move",
          "Ready_to_move",
          "Ready_to_move",
          "Ready_to_move",
          "Ready_to_move",
          "Ready_to_move",
          "Ready_to_move",
          "Ready_to_move",
          "Ready_to_move",
          "Ready_to_move",
          "Ready_to_move",
          "Ready_to_move",
          "Ready_to_move",
          "Ready_to_move",
          "Ready_to_move",
          "Ready_to_move",
          "Ready_to_move",
          "Ready_to_move",
          "Ready_to_move",
          "Almost_ready",
          "Ready_to_move",
          "Ready_to_move",
          "Ready_to_move",
          "Ready_to_move",
          "Almost_ready",
          "Ready_to_move",
          "Ready_to_move",
          "Ready_to_move",
          "Ready_to_move",
          "Ready_to_move",
          "Ready_to_move",
          "Ready_to_move",
          "Almost_ready",
          "Ready_to_move",
          "Ready_to_move",
          "Ready_to_move",
          "Ready_to_move",
          "Ready_to_move",
          "Ready_to_move",
          "Ready_to_move",
          "Ready_to_move",
          "Almost_ready",
          "Ready_to_move",
          "Ready_to_move",
          "Ready_to_move",
          "Ready_to_move",
          "Ready_to_move",
          "Ready_to_move",
          "Ready_to_move",
          "Ready_to_move",
          "Ready_to_move",
          "Ready_to_move",
          "Ready_to_move",
          "Ready_to_move",
          "Ready_to_move",
          "Ready_to_move",
          "Ready_to_move",
          "Ready_to_move",
          "Ready_to_move",
          "Ready_to_move",
          "Ready_to_move",
          "Ready_to_move",
          "Ready_to_move",
          "Ready_to_move",
          "Ready_to_move",
          "Ready_to_move",
          "Ready_to_move",
          "Ready_to_move",
          "Ready_to_move",
          "Ready_to_move",
          "Ready_to_move",
          "Ready_to_move",
          "Ready_to_move",
          "Ready_to_move",
          "Ready_to_move",
          "Ready_to_move"
         ],
         "xaxis": "x",
         "y": [
          5000000,
          15500000,
          4200000,
          6200000,
          15500000,
          10000000,
          4000000,
          6800000,
          15000000,
          6200000,
          7700000,
          5500000,
          5000000,
          3310000,
          4700000,
          4500000,
          17000000,
          25000000,
          6000000,
          11000000,
          4500000,
          5300000,
          10500000,
          12000000,
          7000000,
          7000000,
          3400000,
          5000000,
          21000000,
          13000000,
          22000000,
          15800000,
          57500000,
          10000000,
          30000000,
          22000000,
          24000000,
          31500000,
          14600000,
          240000000,
          8300000,
          22500000,
          1900000,
          5130000,
          5890000,
          3700000,
          17400000,
          15500000,
          2400000,
          17200000,
          14200000,
          13500000,
          30000000,
          21000000,
          20500000,
          24000000,
          16500000,
          14900000,
          19200000,
          14500000,
          15600000,
          11400000,
          31500000,
          15800000,
          16000000,
          14500000,
          10500000,
          14800000,
          1850000,
          6800000,
          14200000,
          40000000,
          46000000,
          55000000,
          24500000,
          24500000,
          32500000,
          20000000,
          240000000,
          20000000,
          19000000,
          26000000,
          21000000,
          27500000,
          32500000,
          45000000,
          21000000,
          28000000,
          29500000,
          12500000,
          26000000,
          11500000,
          14600000,
          25500000,
          31000000,
          22000000,
          13400000,
          35000000,
          11000000,
          6300000,
          12500000,
          14500000,
          22500000,
          15500000,
          26000000,
          15800000,
          15000000,
          13000000,
          15000000,
          25000000,
          16500000,
          10300000,
          26000000,
          11000000,
          28500000,
          11000000,
          3600000,
          4300000,
          4000000,
          1650000,
          2000000,
          3000000,
          1400000,
          2000000,
          2000000,
          2000000,
          2600000,
          5100000,
          6000000,
          4000000,
          6200000,
          3500000,
          7600000,
          13500000,
          12500000,
          6500000,
          22000000,
          6000000,
          7300000,
          7600000,
          20000000,
          15000000,
          6200000,
          6200000,
          5000000,
          4700000,
          5500000,
          2000000,
          7300000,
          13000000,
          11500000,
          2800000,
          2200000,
          4400000,
          13500000,
          4100000,
          12000000,
          3500000,
          15000000,
          17500000,
          1900000,
          5500000,
          10000000,
          4700000,
          2400000,
          3800000,
          23000000,
          24500000,
          10000000,
          5500000,
          7000000,
          6500000,
          135000000,
          5000000,
          93000000,
          4370000,
          4620000,
          1900000,
          70000000,
          5130000,
          3000000,
          5890000,
          3300000,
          24900000,
          3700000,
          60000000,
          17400000,
          51000000,
          170000000,
          5510000,
          25000000,
          57000000,
          2940000,
          15500000,
          17200000,
          55000000,
          15000000,
          51000000,
          13000000,
          30000000,
          2400000,
          5500000,
          60000000,
          65000000,
          220000000,
          60000000,
          38500000,
          50000000,
          75000000,
          70000000,
          160000000,
          85000000,
          40000000,
          90000000,
          56000000,
          135500000,
          60000000,
          170000000,
          50000000,
          58000000,
          37500000,
          45000000,
          70000000,
          29500000,
          60000000,
          70000000,
          50000000,
          75000000,
          52500000,
          55000000,
          120000000,
          70000000,
          47500000,
          40000000,
          85000000,
          26000000,
          35000000,
          20000000,
          79000000,
          17000000,
          47500000,
          43000000,
          26000000,
          25000000,
          51000000,
          40000000,
          22500000,
          70000000,
          45000000,
          51100000,
          25500000,
          26500000,
          15000000,
          55000000,
          26000000,
          38000000,
          72500000,
          65000000,
          9300000,
          2700000,
          6500000,
          5800000,
          5500000,
          6000000,
          4500000,
          4100000,
          3800000,
          3300000,
          2900000,
          2000000,
          1550000,
          11300000,
          4500000,
          3300000,
          11500000,
          6000000,
          9000000,
          4500000,
          14000000,
          7300000,
          1900000,
          7000000,
          2700000,
          6500000,
          4000000,
          3000000,
          5000000,
          6000000,
          2500000,
          6500000,
          8000000,
          2700000,
          4500000,
          5700000,
          25000000,
          70000000,
          26500000,
          18500000,
          30000000,
          22000000,
          9000000,
          65000000,
          22500000,
          8700000,
          22000000,
          18500000,
          16000000,
          16000000,
          9000000,
          4500000,
          4000000,
          2600000,
          3500000,
          7500000,
          7000000,
          4500000,
          5500000,
          2700000,
          2400000,
          11500000,
          3600000,
          1700000,
          2500000,
          6600000,
          3700000,
          3500000,
          5400000,
          2550000,
          12500000,
          5600000,
          7000000,
          3500000,
          35000000,
          9000000,
          2300000,
          6000000,
          6000000,
          4370000,
          4620000,
          3000000,
          3300000,
          5510000,
          3200000,
          2600000,
          4000000,
          1850000,
          1700000,
          2800000,
          2150000,
          6800000,
          6200000,
          3100000,
          3400000,
          4000000,
          4800000,
          2500000,
          2000000,
          1900000,
          5800000,
          2900000,
          2000000,
          2600000,
          2900000,
          3200000,
          5400000,
          3800000,
          135000000,
          93000000,
          8200000,
          8000000,
          9500000,
          20000000,
          7400000,
          37500000,
          15000000,
          55300000,
          26500000,
          16000000,
          10400000,
          1700000,
          8000000,
          27000000,
          19500000,
          50000000,
          21100000,
          57000000,
          5900000,
          12000000,
          12000000,
          24000000,
          7000000,
          15000000,
          1500000,
          3950000,
          12500000,
          1600000,
          31000000,
          7400000,
          15500000,
          12000000,
          23500000,
          25000000,
          7000000,
          17500000,
          25000000,
          29000000,
          21900000,
          7500000,
          23500000,
          24000000,
          31000000,
          16500000,
          5000000,
          24000000,
          17000000,
          40000000,
          22500000,
          20000000,
          135000000,
          5000000,
          93000000,
          4370000,
          4620000,
          1900000,
          70000000,
          5130000,
          3000000,
          5890000,
          3300000,
          24900000,
          3700000,
          60000000,
          17400000,
          51000000,
          170000000,
          5510000,
          25000000,
          57000000,
          2940000,
          15500000,
          17200000,
          55000000,
          15000000,
          51000000,
          13000000,
          30000000,
          2400000,
          5500000,
          29000000,
          41000000,
          6000000,
          2500000,
          2200000,
          21500000,
          15000000,
          28900000,
          5500000,
          1950000,
          3800000,
          6200000,
          14000000,
          7500000,
          2670000,
          2500000,
          4000000,
          3500000,
          5000000,
          29500000,
          19000000,
          25500000,
          75000000,
          75000000,
          34000000,
          47500000,
          75000000,
          23000000,
          24000000,
          21500000,
          28500000,
          12500000,
          45000000,
          30500000,
          22500000,
          28000000,
          25000000,
          33700000,
          27000000,
          43500000,
          29000000,
          30000000,
          52100000,
          32500000,
          20500000,
          25000000,
          30000000,
          51000000,
          31000000,
          37500000,
          55000000,
          87500000,
          16300000,
          65000000,
          25000000,
          38000000,
          15000000,
          2000000,
          3000000,
          8500000,
          55000000,
          22500000,
          72500000,
          160000000,
          12500000,
          17000000,
          82500000,
          55000000,
          35000000,
          42500000,
          4700000,
          52500000,
          80000000,
          11000000,
          74000000,
          37500000,
          52500000,
          26500000,
          8770000,
          4500000,
          8500000,
          8600000,
          42500000,
          13100000,
          7000000,
          30000000,
          13000000,
          23100000,
          16000000,
          12500000,
          24500000,
          3200000,
          6300000,
          15000000,
          5700000,
          21000000,
          7500000,
          6500000,
          27500000,
          12000000,
          18000000,
          10700000,
          16200000,
          16500000,
          14900000,
          27500000,
          70000000,
          35500000,
          42100000,
          42500000,
          44000000,
          43200000,
          52500000,
          34300000,
          38000000,
          52500000,
          37500000,
          37000000,
          40000000,
          36200000,
          29000000,
          42500000,
          60000000,
          36500000,
          42500000,
          71500000,
          65000000,
          58000000,
          27500000,
          70000000,
          65000000,
          28600000,
          39000000,
          32500000,
          34000000,
          20000000,
          18000000,
          19000000,
          36500000,
          15000000,
          17500000,
          14000000,
          21000000,
          15600000,
          19000000,
          16500000,
          19000000,
          16500000,
          3000000,
          15000000,
          14300000,
          18500000,
          19000000,
          19000000,
          12000000,
          20000000,
          13500000,
          14000000,
          10800000,
          2350000,
          8500000,
          1650000,
          10000000,
          1500000,
          2800000,
          2600000,
          2350000,
          2350000,
          2000000,
          5000000,
          3500000,
          4500000,
          4000000,
          10800000,
          10000000,
          10800000,
          9000000,
          8500000,
          6000000,
          5500000,
          7000000,
          6000000,
          3700000,
          3100000,
          4500000,
          1500000,
          3000000,
          4900000,
          3500000,
          3000000,
          7020000,
          60000000,
          3500000,
          7000000,
          7000000,
          4500000,
          5990000,
          4400000,
          2500000,
          1600000,
          6500000,
          2800000,
          4500000,
          1800000,
          8500000,
          8500000,
          1700000,
          7000000,
          5600000,
          13500000,
          8500000,
          6000000,
          7200000,
          6500000,
          8400000,
          8500000,
          4000000,
          1700000,
          6000000,
          1600000,
          2100000,
          1700000,
          1500000,
          1200000,
          1650000,
          3500000,
          8500000,
          3200000,
          3790000,
          4200000,
          2900000,
          5000000,
          2100000,
          3200000,
          3000000,
          2300000,
          5900000,
          5500000,
          3500000,
          1700000,
          1850000,
          2300000,
          3800000,
          4500000,
          2200000,
          5200000,
          2200000,
          2200000,
          3800000,
          1800000,
          2850000,
          2500000,
          3500000,
          2000000,
          3000000,
          2000000,
          3500000,
          1800000,
          1600000,
          1600000,
          2000000,
          1500000,
          3000000,
          1490000,
          3500000,
          4000000,
          1750000,
          4600000,
          1800000,
          1900000,
          1000000,
          1000000,
          1000000,
          3500000,
          5000000,
          2200000,
          67000000,
          8500000,
          11500000,
          52500000,
          12000000,
          10700000,
          9000000,
          100000000,
          6200000,
          17000000,
          12500000,
          13000000,
          4200000,
          36000000,
          2300000,
          8100000,
          10000000,
          62500000,
          65000000,
          20000000,
          57500000,
          30000000,
          30000000,
          30000000,
          6900000,
          3600000,
          13500000,
          9200000,
          2500000,
          17000000,
          9030000,
          9300000,
          6500000,
          3300000,
          2400000,
          15000000,
          7000000,
          4200000,
          5800000,
          4800000,
          7500000,
          3000000,
          4300000,
          2600000,
          7000000,
          6000000,
          6700000,
          9500000,
          17000000,
          14000000,
          11600000,
          12000000,
          7500000,
          9800000,
          12000000,
          12500000,
          16500000,
          12000000,
          7200000,
          15000000,
          10000000,
          11000000,
          24700000,
          24900000,
          3600000,
          1700000,
          11000000,
          75000000,
          24800000,
          24900000,
          24900000,
          25900000,
          11700000,
          13500000,
          5500000,
          30000000,
          4950000,
          16000000,
          30000000,
          41000000,
          3800000,
          68900000,
          1800000,
          1500000,
          12500000,
          1600000,
          2400000,
          7000000,
          3100000,
          14500000,
          61500000,
          27500000,
          25500000,
          25000000,
          18500000,
          39700000,
          6800000,
          6540000,
          22000000,
          25500000,
          17000000,
          27500000,
          73700000,
          52300000,
          16000000,
          15000000,
          25500000,
          10000000,
          5000000,
          20000000,
          16000000,
          5500000,
          7000000,
          4100000,
          24000000,
          12500000,
          3900000,
          14500000,
          20000000,
          24500000,
          20900000,
          43100000,
          40000000,
          20000000,
          6700000,
          16000000,
          8000000,
          25000000,
          25000000,
          37500000,
          25000000,
          23000000,
          17500000,
          44000000,
          15000000,
          42500000,
          5000000,
          38000000,
          19000000,
          43500000,
          19500000,
          14200000,
          14200000,
          13500000,
          19000000,
          7000000,
          5800000,
          8000000,
          18800000,
          6000000,
          2200000,
          6500000,
          23500000,
          16000000,
          20000000,
          5500000,
          13500000,
          22500000,
          3800000,
          4600000,
          17500000,
          5500000,
          22500000,
          12500000,
          19000000,
          15500000,
          13500000,
          21000000,
          35000000,
          25000000,
          29000000,
          80000000,
          20500000,
          52500000,
          37500000,
          7500000,
          32500000,
          24500000,
          65000000,
          27500000,
          115000000,
          28000000,
          8000000,
          75100000,
          7800000,
          15000000,
          27500000,
          25000000,
          26000000,
          23500000,
          4200000,
          10000000,
          18500000,
          20000000,
          18000000,
          19000000,
          36500000,
          15000000,
          17500000,
          14000000,
          21000000,
          15600000,
          19000000,
          16500000,
          19000000,
          16500000,
          3000000,
          15000000,
          14300000,
          18500000,
          19000000,
          19000000,
          8000000,
          16100000,
          6800000,
          6800000,
          9000000,
          18000000,
          27500000,
          13500000,
          14000000,
          9000000,
          16000000,
          11000000,
          5500000,
          43500000,
          180000000,
          80000000,
          37500000,
          60000000,
          71000000,
          18500000,
          70000000,
          85000000,
          190000000,
          135000000,
          35000000,
          65000000,
          27500000,
          45000000,
          100000000,
          47000000,
          27500000,
          70000000,
          36500000,
          65000000,
          35000000,
          56000000,
          110000000,
          24000000,
          102500000,
          100000000,
          45000000,
          33500000,
          62500000,
          47500000,
          14700000,
          18000000,
          22500000,
          22000000,
          22200000,
          22500000,
          7500000,
          30000000,
          6500000,
          35000000,
          17500000,
          60000000,
          40000000,
          11500000,
          22500000,
          28500000,
          29000000,
          15500000,
          26000000,
          16500000,
          55000000,
          12500000,
          17500000,
          11500000,
          18500000
         ],
         "yaxis": "y"
        }
       ],
       "layout": {
        "height": 420,
        "legend": {
         "tracegroupgap": 0
        },
        "margin": {
         "t": 60
        },
        "template": {
         "data": {
          "bar": [
           {
            "error_x": {
             "color": "#2a3f5f"
            },
            "error_y": {
             "color": "#2a3f5f"
            },
            "marker": {
             "line": {
              "color": "#E5ECF6",
              "width": 0.5
             }
            },
            "type": "bar"
           }
          ],
          "barpolar": [
           {
            "marker": {
             "line": {
              "color": "#E5ECF6",
              "width": 0.5
             }
            },
            "type": "barpolar"
           }
          ],
          "carpet": [
           {
            "aaxis": {
             "endlinecolor": "#2a3f5f",
             "gridcolor": "white",
             "linecolor": "white",
             "minorgridcolor": "white",
             "startlinecolor": "#2a3f5f"
            },
            "baxis": {
             "endlinecolor": "#2a3f5f",
             "gridcolor": "white",
             "linecolor": "white",
             "minorgridcolor": "white",
             "startlinecolor": "#2a3f5f"
            },
            "type": "carpet"
           }
          ],
          "choropleth": [
           {
            "colorbar": {
             "outlinewidth": 0,
             "ticks": ""
            },
            "type": "choropleth"
           }
          ],
          "contour": [
           {
            "colorbar": {
             "outlinewidth": 0,
             "ticks": ""
            },
            "colorscale": [
             [
              0,
              "#0d0887"
             ],
             [
              0.1111111111111111,
              "#46039f"
             ],
             [
              0.2222222222222222,
              "#7201a8"
             ],
             [
              0.3333333333333333,
              "#9c179e"
             ],
             [
              0.4444444444444444,
              "#bd3786"
             ],
             [
              0.5555555555555556,
              "#d8576b"
             ],
             [
              0.6666666666666666,
              "#ed7953"
             ],
             [
              0.7777777777777778,
              "#fb9f3a"
             ],
             [
              0.8888888888888888,
              "#fdca26"
             ],
             [
              1,
              "#f0f921"
             ]
            ],
            "type": "contour"
           }
          ],
          "contourcarpet": [
           {
            "colorbar": {
             "outlinewidth": 0,
             "ticks": ""
            },
            "type": "contourcarpet"
           }
          ],
          "heatmap": [
           {
            "colorbar": {
             "outlinewidth": 0,
             "ticks": ""
            },
            "colorscale": [
             [
              0,
              "#0d0887"
             ],
             [
              0.1111111111111111,
              "#46039f"
             ],
             [
              0.2222222222222222,
              "#7201a8"
             ],
             [
              0.3333333333333333,
              "#9c179e"
             ],
             [
              0.4444444444444444,
              "#bd3786"
             ],
             [
              0.5555555555555556,
              "#d8576b"
             ],
             [
              0.6666666666666666,
              "#ed7953"
             ],
             [
              0.7777777777777778,
              "#fb9f3a"
             ],
             [
              0.8888888888888888,
              "#fdca26"
             ],
             [
              1,
              "#f0f921"
             ]
            ],
            "type": "heatmap"
           }
          ],
          "heatmapgl": [
           {
            "colorbar": {
             "outlinewidth": 0,
             "ticks": ""
            },
            "colorscale": [
             [
              0,
              "#0d0887"
             ],
             [
              0.1111111111111111,
              "#46039f"
             ],
             [
              0.2222222222222222,
              "#7201a8"
             ],
             [
              0.3333333333333333,
              "#9c179e"
             ],
             [
              0.4444444444444444,
              "#bd3786"
             ],
             [
              0.5555555555555556,
              "#d8576b"
             ],
             [
              0.6666666666666666,
              "#ed7953"
             ],
             [
              0.7777777777777778,
              "#fb9f3a"
             ],
             [
              0.8888888888888888,
              "#fdca26"
             ],
             [
              1,
              "#f0f921"
             ]
            ],
            "type": "heatmapgl"
           }
          ],
          "histogram": [
           {
            "marker": {
             "colorbar": {
              "outlinewidth": 0,
              "ticks": ""
             }
            },
            "type": "histogram"
           }
          ],
          "histogram2d": [
           {
            "colorbar": {
             "outlinewidth": 0,
             "ticks": ""
            },
            "colorscale": [
             [
              0,
              "#0d0887"
             ],
             [
              0.1111111111111111,
              "#46039f"
             ],
             [
              0.2222222222222222,
              "#7201a8"
             ],
             [
              0.3333333333333333,
              "#9c179e"
             ],
             [
              0.4444444444444444,
              "#bd3786"
             ],
             [
              0.5555555555555556,
              "#d8576b"
             ],
             [
              0.6666666666666666,
              "#ed7953"
             ],
             [
              0.7777777777777778,
              "#fb9f3a"
             ],
             [
              0.8888888888888888,
              "#fdca26"
             ],
             [
              1,
              "#f0f921"
             ]
            ],
            "type": "histogram2d"
           }
          ],
          "histogram2dcontour": [
           {
            "colorbar": {
             "outlinewidth": 0,
             "ticks": ""
            },
            "colorscale": [
             [
              0,
              "#0d0887"
             ],
             [
              0.1111111111111111,
              "#46039f"
             ],
             [
              0.2222222222222222,
              "#7201a8"
             ],
             [
              0.3333333333333333,
              "#9c179e"
             ],
             [
              0.4444444444444444,
              "#bd3786"
             ],
             [
              0.5555555555555556,
              "#d8576b"
             ],
             [
              0.6666666666666666,
              "#ed7953"
             ],
             [
              0.7777777777777778,
              "#fb9f3a"
             ],
             [
              0.8888888888888888,
              "#fdca26"
             ],
             [
              1,
              "#f0f921"
             ]
            ],
            "type": "histogram2dcontour"
           }
          ],
          "mesh3d": [
           {
            "colorbar": {
             "outlinewidth": 0,
             "ticks": ""
            },
            "type": "mesh3d"
           }
          ],
          "parcoords": [
           {
            "line": {
             "colorbar": {
              "outlinewidth": 0,
              "ticks": ""
             }
            },
            "type": "parcoords"
           }
          ],
          "pie": [
           {
            "automargin": true,
            "type": "pie"
           }
          ],
          "scatter": [
           {
            "marker": {
             "colorbar": {
              "outlinewidth": 0,
              "ticks": ""
             }
            },
            "type": "scatter"
           }
          ],
          "scatter3d": [
           {
            "line": {
             "colorbar": {
              "outlinewidth": 0,
              "ticks": ""
             }
            },
            "marker": {
             "colorbar": {
              "outlinewidth": 0,
              "ticks": ""
             }
            },
            "type": "scatter3d"
           }
          ],
          "scattercarpet": [
           {
            "marker": {
             "colorbar": {
              "outlinewidth": 0,
              "ticks": ""
             }
            },
            "type": "scattercarpet"
           }
          ],
          "scattergeo": [
           {
            "marker": {
             "colorbar": {
              "outlinewidth": 0,
              "ticks": ""
             }
            },
            "type": "scattergeo"
           }
          ],
          "scattergl": [
           {
            "marker": {
             "colorbar": {
              "outlinewidth": 0,
              "ticks": ""
             }
            },
            "type": "scattergl"
           }
          ],
          "scattermapbox": [
           {
            "marker": {
             "colorbar": {
              "outlinewidth": 0,
              "ticks": ""
             }
            },
            "type": "scattermapbox"
           }
          ],
          "scatterpolar": [
           {
            "marker": {
             "colorbar": {
              "outlinewidth": 0,
              "ticks": ""
             }
            },
            "type": "scatterpolar"
           }
          ],
          "scatterpolargl": [
           {
            "marker": {
             "colorbar": {
              "outlinewidth": 0,
              "ticks": ""
             }
            },
            "type": "scatterpolargl"
           }
          ],
          "scatterternary": [
           {
            "marker": {
             "colorbar": {
              "outlinewidth": 0,
              "ticks": ""
             }
            },
            "type": "scatterternary"
           }
          ],
          "surface": [
           {
            "colorbar": {
             "outlinewidth": 0,
             "ticks": ""
            },
            "colorscale": [
             [
              0,
              "#0d0887"
             ],
             [
              0.1111111111111111,
              "#46039f"
             ],
             [
              0.2222222222222222,
              "#7201a8"
             ],
             [
              0.3333333333333333,
              "#9c179e"
             ],
             [
              0.4444444444444444,
              "#bd3786"
             ],
             [
              0.5555555555555556,
              "#d8576b"
             ],
             [
              0.6666666666666666,
              "#ed7953"
             ],
             [
              0.7777777777777778,
              "#fb9f3a"
             ],
             [
              0.8888888888888888,
              "#fdca26"
             ],
             [
              1,
              "#f0f921"
             ]
            ],
            "type": "surface"
           }
          ],
          "table": [
           {
            "cells": {
             "fill": {
              "color": "#EBF0F8"
             },
             "line": {
              "color": "white"
             }
            },
            "header": {
             "fill": {
              "color": "#C8D4E3"
             },
             "line": {
              "color": "white"
             }
            },
            "type": "table"
           }
          ]
         },
         "layout": {
          "annotationdefaults": {
           "arrowcolor": "#2a3f5f",
           "arrowhead": 0,
           "arrowwidth": 1
          },
          "autotypenumbers": "strict",
          "coloraxis": {
           "colorbar": {
            "outlinewidth": 0,
            "ticks": ""
           }
          },
          "colorscale": {
           "diverging": [
            [
             0,
             "#8e0152"
            ],
            [
             0.1,
             "#c51b7d"
            ],
            [
             0.2,
             "#de77ae"
            ],
            [
             0.3,
             "#f1b6da"
            ],
            [
             0.4,
             "#fde0ef"
            ],
            [
             0.5,
             "#f7f7f7"
            ],
            [
             0.6,
             "#e6f5d0"
            ],
            [
             0.7,
             "#b8e186"
            ],
            [
             0.8,
             "#7fbc41"
            ],
            [
             0.9,
             "#4d9221"
            ],
            [
             1,
             "#276419"
            ]
           ],
           "sequential": [
            [
             0,
             "#0d0887"
            ],
            [
             0.1111111111111111,
             "#46039f"
            ],
            [
             0.2222222222222222,
             "#7201a8"
            ],
            [
             0.3333333333333333,
             "#9c179e"
            ],
            [
             0.4444444444444444,
             "#bd3786"
            ],
            [
             0.5555555555555556,
             "#d8576b"
            ],
            [
             0.6666666666666666,
             "#ed7953"
            ],
            [
             0.7777777777777778,
             "#fb9f3a"
            ],
            [
             0.8888888888888888,
             "#fdca26"
            ],
            [
             1,
             "#f0f921"
            ]
           ],
           "sequentialminus": [
            [
             0,
             "#0d0887"
            ],
            [
             0.1111111111111111,
             "#46039f"
            ],
            [
             0.2222222222222222,
             "#7201a8"
            ],
            [
             0.3333333333333333,
             "#9c179e"
            ],
            [
             0.4444444444444444,
             "#bd3786"
            ],
            [
             0.5555555555555556,
             "#d8576b"
            ],
            [
             0.6666666666666666,
             "#ed7953"
            ],
            [
             0.7777777777777778,
             "#fb9f3a"
            ],
            [
             0.8888888888888888,
             "#fdca26"
            ],
            [
             1,
             "#f0f921"
            ]
           ]
          },
          "colorway": [
           "#636efa",
           "#EF553B",
           "#00cc96",
           "#ab63fa",
           "#FFA15A",
           "#19d3f3",
           "#FF6692",
           "#B6E880",
           "#FF97FF",
           "#FECB52"
          ],
          "font": {
           "color": "#2a3f5f"
          },
          "geo": {
           "bgcolor": "white",
           "lakecolor": "white",
           "landcolor": "#E5ECF6",
           "showlakes": true,
           "showland": true,
           "subunitcolor": "white"
          },
          "hoverlabel": {
           "align": "left"
          },
          "hovermode": "closest",
          "mapbox": {
           "style": "light"
          },
          "paper_bgcolor": "white",
          "plot_bgcolor": "#E5ECF6",
          "polar": {
           "angularaxis": {
            "gridcolor": "white",
            "linecolor": "white",
            "ticks": ""
           },
           "bgcolor": "#E5ECF6",
           "radialaxis": {
            "gridcolor": "white",
            "linecolor": "white",
            "ticks": ""
           }
          },
          "scene": {
           "xaxis": {
            "backgroundcolor": "#E5ECF6",
            "gridcolor": "white",
            "gridwidth": 2,
            "linecolor": "white",
            "showbackground": true,
            "ticks": "",
            "zerolinecolor": "white"
           },
           "yaxis": {
            "backgroundcolor": "#E5ECF6",
            "gridcolor": "white",
            "gridwidth": 2,
            "linecolor": "white",
            "showbackground": true,
            "ticks": "",
            "zerolinecolor": "white"
           },
           "zaxis": {
            "backgroundcolor": "#E5ECF6",
            "gridcolor": "white",
            "gridwidth": 2,
            "linecolor": "white",
            "showbackground": true,
            "ticks": "",
            "zerolinecolor": "white"
           }
          },
          "shapedefaults": {
           "line": {
            "color": "#2a3f5f"
           }
          },
          "ternary": {
           "aaxis": {
            "gridcolor": "white",
            "linecolor": "white",
            "ticks": ""
           },
           "baxis": {
            "gridcolor": "white",
            "linecolor": "white",
            "ticks": ""
           },
           "bgcolor": "#E5ECF6",
           "caxis": {
            "gridcolor": "white",
            "linecolor": "white",
            "ticks": ""
           }
          },
          "title": {
           "x": 0.05
          },
          "xaxis": {
           "automargin": true,
           "gridcolor": "white",
           "linecolor": "white",
           "ticks": "",
           "title": {
            "standoff": 15
           },
           "zerolinecolor": "white",
           "zerolinewidth": 2
          },
          "yaxis": {
           "automargin": true,
           "gridcolor": "white",
           "linecolor": "white",
           "ticks": "",
           "title": {
            "standoff": 15
           },
           "zerolinecolor": "white",
           "zerolinewidth": 2
          }
         }
        },
        "width": 400,
        "xaxis": {
         "anchor": "y",
         "domain": [
          0,
          1
         ],
         "title": {
          "text": "Status"
         }
        },
        "yaxis": {
         "anchor": "x",
         "domain": [
          0,
          1
         ],
         "title": {
          "text": "Price"
         }
        }
       }
      }
     },
     "metadata": {}
    }
   ],
   "source": [
    "# Status of any property vs PRice\n",
    "fig = px.scatter(df2,x='Status',y='Price')\n",
    "fig.update_layout(height=420,width=400)\n",
    "fig.show()"
   ]
  },
  {
   "cell_type": "code",
   "execution_count": 22,
   "metadata": {},
   "outputs": [
    {
     "output_type": "display_data",
     "data": {
      "application/vnd.plotly.v1+json": {
       "config": {
        "plotlyServerURL": "https://plot.ly"
       },
       "data": [
        {
         "alignmentgroup": "True",
         "bingroup": "x",
         "hovertemplate": "Transaction=%{x}<br>count=%{y}<extra></extra>",
         "legendgroup": "New_Property",
         "marker": {
          "color": "#636efa"
         },
         "name": "New_Property",
         "offsetgroup": "New_Property",
         "orientation": "v",
         "showlegend": true,
         "type": "histogram",
         "x": [
          "New_Property",
          "New_Property",
          "New_Property",
          "New_Property",
          "New_Property",
          "New_Property",
          "New_Property",
          "New_Property",
          "New_Property",
          "New_Property",
          "New_Property",
          "New_Property",
          "New_Property",
          "New_Property",
          "New_Property",
          "New_Property",
          "New_Property",
          "New_Property",
          "New_Property",
          "New_Property",
          "New_Property",
          "New_Property",
          "New_Property",
          "New_Property",
          "New_Property",
          "New_Property",
          "New_Property",
          "New_Property",
          "New_Property",
          "New_Property",
          "New_Property",
          "New_Property",
          "New_Property",
          "New_Property",
          "New_Property",
          "New_Property",
          "New_Property",
          "New_Property",
          "New_Property",
          "New_Property",
          "New_Property",
          "New_Property",
          "New_Property",
          "New_Property",
          "New_Property",
          "New_Property",
          "New_Property",
          "New_Property",
          "New_Property",
          "New_Property",
          "New_Property",
          "New_Property",
          "New_Property",
          "New_Property",
          "New_Property",
          "New_Property",
          "New_Property",
          "New_Property",
          "New_Property",
          "New_Property",
          "New_Property",
          "New_Property",
          "New_Property",
          "New_Property",
          "New_Property",
          "New_Property",
          "New_Property",
          "New_Property",
          "New_Property",
          "New_Property",
          "New_Property",
          "New_Property",
          "New_Property",
          "New_Property",
          "New_Property",
          "New_Property",
          "New_Property",
          "New_Property",
          "New_Property",
          "New_Property",
          "New_Property",
          "New_Property",
          "New_Property",
          "New_Property",
          "New_Property",
          "New_Property",
          "New_Property",
          "New_Property",
          "New_Property",
          "New_Property",
          "New_Property",
          "New_Property",
          "New_Property",
          "New_Property",
          "New_Property",
          "New_Property",
          "New_Property",
          "New_Property",
          "New_Property",
          "New_Property",
          "New_Property",
          "New_Property",
          "New_Property",
          "New_Property",
          "New_Property",
          "New_Property",
          "New_Property",
          "New_Property",
          "New_Property",
          "New_Property",
          "New_Property",
          "New_Property",
          "New_Property",
          "New_Property",
          "New_Property",
          "New_Property",
          "New_Property",
          "New_Property",
          "New_Property",
          "New_Property",
          "New_Property",
          "New_Property",
          "New_Property",
          "New_Property",
          "New_Property",
          "New_Property",
          "New_Property",
          "New_Property",
          "New_Property",
          "New_Property",
          "New_Property",
          "New_Property",
          "New_Property",
          "New_Property",
          "New_Property",
          "New_Property",
          "New_Property",
          "New_Property",
          "New_Property",
          "New_Property",
          "New_Property",
          "New_Property",
          "New_Property",
          "New_Property",
          "New_Property",
          "New_Property",
          "New_Property",
          "New_Property",
          "New_Property",
          "New_Property",
          "New_Property",
          "New_Property",
          "New_Property",
          "New_Property",
          "New_Property",
          "New_Property",
          "New_Property",
          "New_Property",
          "New_Property",
          "New_Property",
          "New_Property",
          "New_Property",
          "New_Property",
          "New_Property",
          "New_Property",
          "New_Property",
          "New_Property",
          "New_Property",
          "New_Property",
          "New_Property",
          "New_Property",
          "New_Property",
          "New_Property",
          "New_Property",
          "New_Property",
          "New_Property",
          "New_Property",
          "New_Property",
          "New_Property",
          "New_Property",
          "New_Property",
          "New_Property",
          "New_Property",
          "New_Property",
          "New_Property",
          "New_Property",
          "New_Property",
          "New_Property",
          "New_Property",
          "New_Property",
          "New_Property",
          "New_Property",
          "New_Property",
          "New_Property",
          "New_Property",
          "New_Property",
          "New_Property",
          "New_Property",
          "New_Property",
          "New_Property",
          "New_Property",
          "New_Property",
          "New_Property",
          "New_Property",
          "New_Property",
          "New_Property",
          "New_Property",
          "New_Property",
          "New_Property",
          "New_Property",
          "New_Property",
          "New_Property",
          "New_Property",
          "New_Property",
          "New_Property",
          "New_Property",
          "New_Property",
          "New_Property",
          "New_Property",
          "New_Property",
          "New_Property",
          "New_Property",
          "New_Property",
          "New_Property",
          "New_Property",
          "New_Property",
          "New_Property",
          "New_Property",
          "New_Property",
          "New_Property",
          "New_Property",
          "New_Property",
          "New_Property",
          "New_Property",
          "New_Property",
          "New_Property",
          "New_Property",
          "New_Property",
          "New_Property",
          "New_Property",
          "New_Property",
          "New_Property",
          "New_Property",
          "New_Property",
          "New_Property",
          "New_Property",
          "New_Property",
          "New_Property",
          "New_Property",
          "New_Property",
          "New_Property",
          "New_Property",
          "New_Property",
          "New_Property",
          "New_Property",
          "New_Property",
          "New_Property",
          "New_Property",
          "New_Property",
          "New_Property",
          "New_Property",
          "New_Property",
          "New_Property",
          "New_Property",
          "New_Property",
          "New_Property",
          "New_Property",
          "New_Property",
          "New_Property",
          "New_Property",
          "New_Property",
          "New_Property",
          "New_Property",
          "New_Property",
          "New_Property",
          "New_Property",
          "New_Property",
          "New_Property",
          "New_Property",
          "New_Property",
          "New_Property",
          "New_Property",
          "New_Property",
          "New_Property",
          "New_Property",
          "New_Property",
          "New_Property",
          "New_Property",
          "New_Property",
          "New_Property",
          "New_Property",
          "New_Property",
          "New_Property",
          "New_Property",
          "New_Property",
          "New_Property",
          "New_Property",
          "New_Property",
          "New_Property",
          "New_Property",
          "New_Property",
          "New_Property",
          "New_Property",
          "New_Property",
          "New_Property",
          "New_Property",
          "New_Property",
          "New_Property",
          "New_Property",
          "New_Property",
          "New_Property",
          "New_Property",
          "New_Property",
          "New_Property",
          "New_Property",
          "New_Property",
          "New_Property",
          "New_Property",
          "New_Property",
          "New_Property",
          "New_Property",
          "New_Property",
          "New_Property",
          "New_Property",
          "New_Property",
          "New_Property",
          "New_Property",
          "New_Property",
          "New_Property",
          "New_Property",
          "New_Property",
          "New_Property",
          "New_Property",
          "New_Property",
          "New_Property",
          "New_Property",
          "New_Property",
          "New_Property",
          "New_Property",
          "New_Property",
          "New_Property",
          "New_Property",
          "New_Property",
          "New_Property",
          "New_Property",
          "New_Property",
          "New_Property",
          "New_Property",
          "New_Property",
          "New_Property",
          "New_Property",
          "New_Property",
          "New_Property",
          "New_Property",
          "New_Property",
          "New_Property",
          "New_Property",
          "New_Property",
          "New_Property",
          "New_Property",
          "New_Property",
          "New_Property",
          "New_Property",
          "New_Property",
          "New_Property",
          "New_Property",
          "New_Property",
          "New_Property",
          "New_Property",
          "New_Property",
          "New_Property",
          "New_Property",
          "New_Property",
          "New_Property",
          "New_Property",
          "New_Property",
          "New_Property",
          "New_Property",
          "New_Property",
          "New_Property",
          "New_Property",
          "New_Property",
          "New_Property",
          "New_Property",
          "New_Property",
          "New_Property",
          "New_Property",
          "New_Property",
          "New_Property",
          "New_Property",
          "New_Property",
          "New_Property",
          "New_Property",
          "New_Property",
          "New_Property",
          "New_Property",
          "New_Property",
          "New_Property",
          "New_Property",
          "New_Property",
          "New_Property",
          "New_Property"
         ],
         "xaxis": "x",
         "yaxis": "y"
        },
        {
         "alignmentgroup": "True",
         "bingroup": "x",
         "hovertemplate": "Transaction=%{x}<br>count=%{y}<extra></extra>",
         "legendgroup": "Resale",
         "marker": {
          "color": "#EF553B"
         },
         "name": "Resale",
         "offsetgroup": "Resale",
         "orientation": "v",
         "showlegend": true,
         "type": "histogram",
         "x": [
          "Resale",
          "Resale",
          "Resale",
          "Resale",
          "Resale",
          "Resale",
          "Resale",
          "Resale",
          "Resale",
          "Resale",
          "Resale",
          "Resale",
          "Resale",
          "Resale",
          "Resale",
          "Resale",
          "Resale",
          "Resale",
          "Resale",
          "Resale",
          "Resale",
          "Resale",
          "Resale",
          "Resale",
          "Resale",
          "Resale",
          "Resale",
          "Resale",
          "Resale",
          "Resale",
          "Resale",
          "Resale",
          "Resale",
          "Resale",
          "Resale",
          "Resale",
          "Resale",
          "Resale",
          "Resale",
          "Resale",
          "Resale",
          "Resale",
          "Resale",
          "Resale",
          "Resale",
          "Resale",
          "Resale",
          "Resale",
          "Resale",
          "Resale",
          "Resale",
          "Resale",
          "Resale",
          "Resale",
          "Resale",
          "Resale",
          "Resale",
          "Resale",
          "Resale",
          "Resale",
          "Resale",
          "Resale",
          "Resale",
          "Resale",
          "Resale",
          "Resale",
          "Resale",
          "Resale",
          "Resale",
          "Resale",
          "Resale",
          "Resale",
          "Resale",
          "Resale",
          "Resale",
          "Resale",
          "Resale",
          "Resale",
          "Resale",
          "Resale",
          "Resale",
          "Resale",
          "Resale",
          "Resale",
          "Resale",
          "Resale",
          "Resale",
          "Resale",
          "Resale",
          "Resale",
          "Resale",
          "Resale",
          "Resale",
          "Resale",
          "Resale",
          "Resale",
          "Resale",
          "Resale",
          "Resale",
          "Resale",
          "Resale",
          "Resale",
          "Resale",
          "Resale",
          "Resale",
          "Resale",
          "Resale",
          "Resale",
          "Resale",
          "Resale",
          "Resale",
          "Resale",
          "Resale",
          "Resale",
          "Resale",
          "Resale",
          "Resale",
          "Resale",
          "Resale",
          "Resale",
          "Resale",
          "Resale",
          "Resale",
          "Resale",
          "Resale",
          "Resale",
          "Resale",
          "Resale",
          "Resale",
          "Resale",
          "Resale",
          "Resale",
          "Resale",
          "Resale",
          "Resale",
          "Resale",
          "Resale",
          "Resale",
          "Resale",
          "Resale",
          "Resale",
          "Resale",
          "Resale",
          "Resale",
          "Resale",
          "Resale",
          "Resale",
          "Resale",
          "Resale",
          "Resale",
          "Resale",
          "Resale",
          "Resale",
          "Resale",
          "Resale",
          "Resale",
          "Resale",
          "Resale",
          "Resale",
          "Resale",
          "Resale",
          "Resale",
          "Resale",
          "Resale",
          "Resale",
          "Resale",
          "Resale",
          "Resale",
          "Resale",
          "Resale",
          "Resale",
          "Resale",
          "Resale",
          "Resale",
          "Resale",
          "Resale",
          "Resale",
          "Resale",
          "Resale",
          "Resale",
          "Resale",
          "Resale",
          "Resale",
          "Resale",
          "Resale",
          "Resale",
          "Resale",
          "Resale",
          "Resale",
          "Resale",
          "Resale",
          "Resale",
          "Resale",
          "Resale",
          "Resale",
          "Resale",
          "Resale",
          "Resale",
          "Resale",
          "Resale",
          "Resale",
          "Resale",
          "Resale",
          "Resale",
          "Resale",
          "Resale",
          "Resale",
          "Resale",
          "Resale",
          "Resale",
          "Resale",
          "Resale",
          "Resale",
          "Resale",
          "Resale",
          "Resale",
          "Resale",
          "Resale",
          "Resale",
          "Resale",
          "Resale",
          "Resale",
          "Resale",
          "Resale",
          "Resale",
          "Resale",
          "Resale",
          "Resale",
          "Resale",
          "Resale",
          "Resale",
          "Resale",
          "Resale",
          "Resale",
          "Resale",
          "Resale",
          "Resale",
          "Resale",
          "Resale",
          "Resale",
          "Resale",
          "Resale",
          "Resale",
          "Resale",
          "Resale",
          "Resale",
          "Resale",
          "Resale",
          "Resale",
          "Resale",
          "Resale",
          "Resale",
          "Resale",
          "Resale",
          "Resale",
          "Resale",
          "Resale",
          "Resale",
          "Resale",
          "Resale",
          "Resale",
          "Resale",
          "Resale",
          "Resale",
          "Resale",
          "Resale",
          "Resale",
          "Resale",
          "Resale",
          "Resale",
          "Resale",
          "Resale",
          "Resale",
          "Resale",
          "Resale",
          "Resale",
          "Resale",
          "Resale",
          "Resale",
          "Resale",
          "Resale",
          "Resale",
          "Resale",
          "Resale",
          "Resale",
          "Resale",
          "Resale",
          "Resale",
          "Resale",
          "Resale",
          "Resale",
          "Resale",
          "Resale",
          "Resale",
          "Resale",
          "Resale",
          "Resale",
          "Resale",
          "Resale",
          "Resale",
          "Resale",
          "Resale",
          "Resale",
          "Resale",
          "Resale",
          "Resale",
          "Resale",
          "Resale",
          "Resale",
          "Resale",
          "Resale",
          "Resale",
          "Resale",
          "Resale",
          "Resale",
          "Resale",
          "Resale",
          "Resale",
          "Resale",
          "Resale",
          "Resale",
          "Resale",
          "Resale",
          "Resale",
          "Resale",
          "Resale",
          "Resale",
          "Resale",
          "Resale",
          "Resale",
          "Resale",
          "Resale",
          "Resale",
          "Resale",
          "Resale",
          "Resale",
          "Resale",
          "Resale",
          "Resale",
          "Resale",
          "Resale",
          "Resale",
          "Resale",
          "Resale",
          "Resale",
          "Resale",
          "Resale",
          "Resale",
          "Resale",
          "Resale",
          "Resale",
          "Resale",
          "Resale",
          "Resale",
          "Resale",
          "Resale",
          "Resale",
          "Resale",
          "Resale",
          "Resale",
          "Resale",
          "Resale",
          "Resale",
          "Resale",
          "Resale",
          "Resale",
          "Resale",
          "Resale",
          "Resale",
          "Resale",
          "Resale",
          "Resale",
          "Resale",
          "Resale",
          "Resale",
          "Resale",
          "Resale",
          "Resale",
          "Resale",
          "Resale",
          "Resale",
          "Resale",
          "Resale",
          "Resale",
          "Resale",
          "Resale",
          "Resale",
          "Resale",
          "Resale",
          "Resale",
          "Resale",
          "Resale",
          "Resale",
          "Resale",
          "Resale",
          "Resale",
          "Resale",
          "Resale",
          "Resale",
          "Resale",
          "Resale",
          "Resale",
          "Resale",
          "Resale",
          "Resale",
          "Resale",
          "Resale",
          "Resale",
          "Resale",
          "Resale",
          "Resale",
          "Resale",
          "Resale",
          "Resale",
          "Resale",
          "Resale",
          "Resale",
          "Resale",
          "Resale",
          "Resale",
          "Resale",
          "Resale",
          "Resale",
          "Resale",
          "Resale",
          "Resale",
          "Resale",
          "Resale",
          "Resale",
          "Resale",
          "Resale",
          "Resale",
          "Resale",
          "Resale",
          "Resale",
          "Resale",
          "Resale",
          "Resale",
          "Resale",
          "Resale",
          "Resale",
          "Resale",
          "Resale",
          "Resale",
          "Resale",
          "Resale",
          "Resale",
          "Resale",
          "Resale",
          "Resale",
          "Resale",
          "Resale",
          "Resale",
          "Resale",
          "Resale",
          "Resale",
          "Resale",
          "Resale",
          "Resale",
          "Resale",
          "Resale",
          "Resale",
          "Resale",
          "Resale",
          "Resale",
          "Resale",
          "Resale",
          "Resale",
          "Resale",
          "Resale",
          "Resale",
          "Resale",
          "Resale",
          "Resale",
          "Resale",
          "Resale",
          "Resale",
          "Resale",
          "Resale",
          "Resale",
          "Resale",
          "Resale",
          "Resale",
          "Resale",
          "Resale",
          "Resale",
          "Resale",
          "Resale",
          "Resale",
          "Resale",
          "Resale",
          "Resale",
          "Resale",
          "Resale",
          "Resale",
          "Resale",
          "Resale",
          "Resale",
          "Resale",
          "Resale",
          "Resale",
          "Resale",
          "Resale",
          "Resale",
          "Resale",
          "Resale",
          "Resale",
          "Resale",
          "Resale",
          "Resale",
          "Resale",
          "Resale",
          "Resale",
          "Resale",
          "Resale",
          "Resale",
          "Resale",
          "Resale",
          "Resale",
          "Resale",
          "Resale",
          "Resale",
          "Resale",
          "Resale",
          "Resale",
          "Resale",
          "Resale",
          "Resale",
          "Resale",
          "Resale",
          "Resale",
          "Resale",
          "Resale",
          "Resale",
          "Resale",
          "Resale",
          "Resale",
          "Resale",
          "Resale",
          "Resale",
          "Resale",
          "Resale",
          "Resale",
          "Resale",
          "Resale",
          "Resale",
          "Resale",
          "Resale",
          "Resale",
          "Resale",
          "Resale",
          "Resale",
          "Resale",
          "Resale",
          "Resale",
          "Resale",
          "Resale",
          "Resale",
          "Resale",
          "Resale",
          "Resale",
          "Resale",
          "Resale",
          "Resale",
          "Resale",
          "Resale",
          "Resale",
          "Resale",
          "Resale",
          "Resale",
          "Resale",
          "Resale",
          "Resale",
          "Resale",
          "Resale",
          "Resale",
          "Resale",
          "Resale",
          "Resale",
          "Resale",
          "Resale",
          "Resale",
          "Resale",
          "Resale",
          "Resale",
          "Resale",
          "Resale",
          "Resale",
          "Resale",
          "Resale",
          "Resale",
          "Resale",
          "Resale",
          "Resale",
          "Resale",
          "Resale",
          "Resale",
          "Resale",
          "Resale",
          "Resale",
          "Resale",
          "Resale",
          "Resale"
         ],
         "xaxis": "x",
         "yaxis": "y"
        }
       ],
       "layout": {
        "barmode": "relative",
        "height": 420,
        "legend": {
         "title": {
          "text": "Transaction"
         },
         "tracegroupgap": 0
        },
        "margin": {
         "t": 60
        },
        "template": {
         "data": {
          "bar": [
           {
            "error_x": {
             "color": "#2a3f5f"
            },
            "error_y": {
             "color": "#2a3f5f"
            },
            "marker": {
             "line": {
              "color": "#E5ECF6",
              "width": 0.5
             }
            },
            "type": "bar"
           }
          ],
          "barpolar": [
           {
            "marker": {
             "line": {
              "color": "#E5ECF6",
              "width": 0.5
             }
            },
            "type": "barpolar"
           }
          ],
          "carpet": [
           {
            "aaxis": {
             "endlinecolor": "#2a3f5f",
             "gridcolor": "white",
             "linecolor": "white",
             "minorgridcolor": "white",
             "startlinecolor": "#2a3f5f"
            },
            "baxis": {
             "endlinecolor": "#2a3f5f",
             "gridcolor": "white",
             "linecolor": "white",
             "minorgridcolor": "white",
             "startlinecolor": "#2a3f5f"
            },
            "type": "carpet"
           }
          ],
          "choropleth": [
           {
            "colorbar": {
             "outlinewidth": 0,
             "ticks": ""
            },
            "type": "choropleth"
           }
          ],
          "contour": [
           {
            "colorbar": {
             "outlinewidth": 0,
             "ticks": ""
            },
            "colorscale": [
             [
              0,
              "#0d0887"
             ],
             [
              0.1111111111111111,
              "#46039f"
             ],
             [
              0.2222222222222222,
              "#7201a8"
             ],
             [
              0.3333333333333333,
              "#9c179e"
             ],
             [
              0.4444444444444444,
              "#bd3786"
             ],
             [
              0.5555555555555556,
              "#d8576b"
             ],
             [
              0.6666666666666666,
              "#ed7953"
             ],
             [
              0.7777777777777778,
              "#fb9f3a"
             ],
             [
              0.8888888888888888,
              "#fdca26"
             ],
             [
              1,
              "#f0f921"
             ]
            ],
            "type": "contour"
           }
          ],
          "contourcarpet": [
           {
            "colorbar": {
             "outlinewidth": 0,
             "ticks": ""
            },
            "type": "contourcarpet"
           }
          ],
          "heatmap": [
           {
            "colorbar": {
             "outlinewidth": 0,
             "ticks": ""
            },
            "colorscale": [
             [
              0,
              "#0d0887"
             ],
             [
              0.1111111111111111,
              "#46039f"
             ],
             [
              0.2222222222222222,
              "#7201a8"
             ],
             [
              0.3333333333333333,
              "#9c179e"
             ],
             [
              0.4444444444444444,
              "#bd3786"
             ],
             [
              0.5555555555555556,
              "#d8576b"
             ],
             [
              0.6666666666666666,
              "#ed7953"
             ],
             [
              0.7777777777777778,
              "#fb9f3a"
             ],
             [
              0.8888888888888888,
              "#fdca26"
             ],
             [
              1,
              "#f0f921"
             ]
            ],
            "type": "heatmap"
           }
          ],
          "heatmapgl": [
           {
            "colorbar": {
             "outlinewidth": 0,
             "ticks": ""
            },
            "colorscale": [
             [
              0,
              "#0d0887"
             ],
             [
              0.1111111111111111,
              "#46039f"
             ],
             [
              0.2222222222222222,
              "#7201a8"
             ],
             [
              0.3333333333333333,
              "#9c179e"
             ],
             [
              0.4444444444444444,
              "#bd3786"
             ],
             [
              0.5555555555555556,
              "#d8576b"
             ],
             [
              0.6666666666666666,
              "#ed7953"
             ],
             [
              0.7777777777777778,
              "#fb9f3a"
             ],
             [
              0.8888888888888888,
              "#fdca26"
             ],
             [
              1,
              "#f0f921"
             ]
            ],
            "type": "heatmapgl"
           }
          ],
          "histogram": [
           {
            "marker": {
             "colorbar": {
              "outlinewidth": 0,
              "ticks": ""
             }
            },
            "type": "histogram"
           }
          ],
          "histogram2d": [
           {
            "colorbar": {
             "outlinewidth": 0,
             "ticks": ""
            },
            "colorscale": [
             [
              0,
              "#0d0887"
             ],
             [
              0.1111111111111111,
              "#46039f"
             ],
             [
              0.2222222222222222,
              "#7201a8"
             ],
             [
              0.3333333333333333,
              "#9c179e"
             ],
             [
              0.4444444444444444,
              "#bd3786"
             ],
             [
              0.5555555555555556,
              "#d8576b"
             ],
             [
              0.6666666666666666,
              "#ed7953"
             ],
             [
              0.7777777777777778,
              "#fb9f3a"
             ],
             [
              0.8888888888888888,
              "#fdca26"
             ],
             [
              1,
              "#f0f921"
             ]
            ],
            "type": "histogram2d"
           }
          ],
          "histogram2dcontour": [
           {
            "colorbar": {
             "outlinewidth": 0,
             "ticks": ""
            },
            "colorscale": [
             [
              0,
              "#0d0887"
             ],
             [
              0.1111111111111111,
              "#46039f"
             ],
             [
              0.2222222222222222,
              "#7201a8"
             ],
             [
              0.3333333333333333,
              "#9c179e"
             ],
             [
              0.4444444444444444,
              "#bd3786"
             ],
             [
              0.5555555555555556,
              "#d8576b"
             ],
             [
              0.6666666666666666,
              "#ed7953"
             ],
             [
              0.7777777777777778,
              "#fb9f3a"
             ],
             [
              0.8888888888888888,
              "#fdca26"
             ],
             [
              1,
              "#f0f921"
             ]
            ],
            "type": "histogram2dcontour"
           }
          ],
          "mesh3d": [
           {
            "colorbar": {
             "outlinewidth": 0,
             "ticks": ""
            },
            "type": "mesh3d"
           }
          ],
          "parcoords": [
           {
            "line": {
             "colorbar": {
              "outlinewidth": 0,
              "ticks": ""
             }
            },
            "type": "parcoords"
           }
          ],
          "pie": [
           {
            "automargin": true,
            "type": "pie"
           }
          ],
          "scatter": [
           {
            "marker": {
             "colorbar": {
              "outlinewidth": 0,
              "ticks": ""
             }
            },
            "type": "scatter"
           }
          ],
          "scatter3d": [
           {
            "line": {
             "colorbar": {
              "outlinewidth": 0,
              "ticks": ""
             }
            },
            "marker": {
             "colorbar": {
              "outlinewidth": 0,
              "ticks": ""
             }
            },
            "type": "scatter3d"
           }
          ],
          "scattercarpet": [
           {
            "marker": {
             "colorbar": {
              "outlinewidth": 0,
              "ticks": ""
             }
            },
            "type": "scattercarpet"
           }
          ],
          "scattergeo": [
           {
            "marker": {
             "colorbar": {
              "outlinewidth": 0,
              "ticks": ""
             }
            },
            "type": "scattergeo"
           }
          ],
          "scattergl": [
           {
            "marker": {
             "colorbar": {
              "outlinewidth": 0,
              "ticks": ""
             }
            },
            "type": "scattergl"
           }
          ],
          "scattermapbox": [
           {
            "marker": {
             "colorbar": {
              "outlinewidth": 0,
              "ticks": ""
             }
            },
            "type": "scattermapbox"
           }
          ],
          "scatterpolar": [
           {
            "marker": {
             "colorbar": {
              "outlinewidth": 0,
              "ticks": ""
             }
            },
            "type": "scatterpolar"
           }
          ],
          "scatterpolargl": [
           {
            "marker": {
             "colorbar": {
              "outlinewidth": 0,
              "ticks": ""
             }
            },
            "type": "scatterpolargl"
           }
          ],
          "scatterternary": [
           {
            "marker": {
             "colorbar": {
              "outlinewidth": 0,
              "ticks": ""
             }
            },
            "type": "scatterternary"
           }
          ],
          "surface": [
           {
            "colorbar": {
             "outlinewidth": 0,
             "ticks": ""
            },
            "colorscale": [
             [
              0,
              "#0d0887"
             ],
             [
              0.1111111111111111,
              "#46039f"
             ],
             [
              0.2222222222222222,
              "#7201a8"
             ],
             [
              0.3333333333333333,
              "#9c179e"
             ],
             [
              0.4444444444444444,
              "#bd3786"
             ],
             [
              0.5555555555555556,
              "#d8576b"
             ],
             [
              0.6666666666666666,
              "#ed7953"
             ],
             [
              0.7777777777777778,
              "#fb9f3a"
             ],
             [
              0.8888888888888888,
              "#fdca26"
             ],
             [
              1,
              "#f0f921"
             ]
            ],
            "type": "surface"
           }
          ],
          "table": [
           {
            "cells": {
             "fill": {
              "color": "#EBF0F8"
             },
             "line": {
              "color": "white"
             }
            },
            "header": {
             "fill": {
              "color": "#C8D4E3"
             },
             "line": {
              "color": "white"
             }
            },
            "type": "table"
           }
          ]
         },
         "layout": {
          "annotationdefaults": {
           "arrowcolor": "#2a3f5f",
           "arrowhead": 0,
           "arrowwidth": 1
          },
          "autotypenumbers": "strict",
          "coloraxis": {
           "colorbar": {
            "outlinewidth": 0,
            "ticks": ""
           }
          },
          "colorscale": {
           "diverging": [
            [
             0,
             "#8e0152"
            ],
            [
             0.1,
             "#c51b7d"
            ],
            [
             0.2,
             "#de77ae"
            ],
            [
             0.3,
             "#f1b6da"
            ],
            [
             0.4,
             "#fde0ef"
            ],
            [
             0.5,
             "#f7f7f7"
            ],
            [
             0.6,
             "#e6f5d0"
            ],
            [
             0.7,
             "#b8e186"
            ],
            [
             0.8,
             "#7fbc41"
            ],
            [
             0.9,
             "#4d9221"
            ],
            [
             1,
             "#276419"
            ]
           ],
           "sequential": [
            [
             0,
             "#0d0887"
            ],
            [
             0.1111111111111111,
             "#46039f"
            ],
            [
             0.2222222222222222,
             "#7201a8"
            ],
            [
             0.3333333333333333,
             "#9c179e"
            ],
            [
             0.4444444444444444,
             "#bd3786"
            ],
            [
             0.5555555555555556,
             "#d8576b"
            ],
            [
             0.6666666666666666,
             "#ed7953"
            ],
            [
             0.7777777777777778,
             "#fb9f3a"
            ],
            [
             0.8888888888888888,
             "#fdca26"
            ],
            [
             1,
             "#f0f921"
            ]
           ],
           "sequentialminus": [
            [
             0,
             "#0d0887"
            ],
            [
             0.1111111111111111,
             "#46039f"
            ],
            [
             0.2222222222222222,
             "#7201a8"
            ],
            [
             0.3333333333333333,
             "#9c179e"
            ],
            [
             0.4444444444444444,
             "#bd3786"
            ],
            [
             0.5555555555555556,
             "#d8576b"
            ],
            [
             0.6666666666666666,
             "#ed7953"
            ],
            [
             0.7777777777777778,
             "#fb9f3a"
            ],
            [
             0.8888888888888888,
             "#fdca26"
            ],
            [
             1,
             "#f0f921"
            ]
           ]
          },
          "colorway": [
           "#636efa",
           "#EF553B",
           "#00cc96",
           "#ab63fa",
           "#FFA15A",
           "#19d3f3",
           "#FF6692",
           "#B6E880",
           "#FF97FF",
           "#FECB52"
          ],
          "font": {
           "color": "#2a3f5f"
          },
          "geo": {
           "bgcolor": "white",
           "lakecolor": "white",
           "landcolor": "#E5ECF6",
           "showlakes": true,
           "showland": true,
           "subunitcolor": "white"
          },
          "hoverlabel": {
           "align": "left"
          },
          "hovermode": "closest",
          "mapbox": {
           "style": "light"
          },
          "paper_bgcolor": "white",
          "plot_bgcolor": "#E5ECF6",
          "polar": {
           "angularaxis": {
            "gridcolor": "white",
            "linecolor": "white",
            "ticks": ""
           },
           "bgcolor": "#E5ECF6",
           "radialaxis": {
            "gridcolor": "white",
            "linecolor": "white",
            "ticks": ""
           }
          },
          "scene": {
           "xaxis": {
            "backgroundcolor": "#E5ECF6",
            "gridcolor": "white",
            "gridwidth": 2,
            "linecolor": "white",
            "showbackground": true,
            "ticks": "",
            "zerolinecolor": "white"
           },
           "yaxis": {
            "backgroundcolor": "#E5ECF6",
            "gridcolor": "white",
            "gridwidth": 2,
            "linecolor": "white",
            "showbackground": true,
            "ticks": "",
            "zerolinecolor": "white"
           },
           "zaxis": {
            "backgroundcolor": "#E5ECF6",
            "gridcolor": "white",
            "gridwidth": 2,
            "linecolor": "white",
            "showbackground": true,
            "ticks": "",
            "zerolinecolor": "white"
           }
          },
          "shapedefaults": {
           "line": {
            "color": "#2a3f5f"
           }
          },
          "ternary": {
           "aaxis": {
            "gridcolor": "white",
            "linecolor": "white",
            "ticks": ""
           },
           "baxis": {
            "gridcolor": "white",
            "linecolor": "white",
            "ticks": ""
           },
           "bgcolor": "#E5ECF6",
           "caxis": {
            "gridcolor": "white",
            "linecolor": "white",
            "ticks": ""
           }
          },
          "title": {
           "x": 0.05
          },
          "xaxis": {
           "automargin": true,
           "gridcolor": "white",
           "linecolor": "white",
           "ticks": "",
           "title": {
            "standoff": 15
           },
           "zerolinecolor": "white",
           "zerolinewidth": 2
          },
          "yaxis": {
           "automargin": true,
           "gridcolor": "white",
           "linecolor": "white",
           "ticks": "",
           "title": {
            "standoff": 15
           },
           "zerolinecolor": "white",
           "zerolinewidth": 2
          }
         }
        },
        "width": 400,
        "xaxis": {
         "anchor": "y",
         "categoryarray": [
          "New_Property",
          "Resale"
         ],
         "categoryorder": "array",
         "domain": [
          0,
          1
         ],
         "title": {
          "text": "Transaction"
         }
        },
        "yaxis": {
         "anchor": "x",
         "domain": [
          0,
          1
         ],
         "title": {
          "text": "count"
         }
        }
       }
      }
     },
     "metadata": {}
    }
   ],
   "source": [
    "# Which types of houses are present for TRANSACTIONS\n",
    "fig = px.histogram(df2,x='Transaction',color='Transaction')\n",
    "fig.update_layout(height=420,width=400)\n",
    "fig.show()"
   ]
  },
  {
   "cell_type": "code",
   "execution_count": 23,
   "metadata": {},
   "outputs": [
    {
     "output_type": "display_data",
     "data": {
      "application/vnd.plotly.v1+json": {
       "config": {
        "plotlyServerURL": "https://plot.ly"
       },
       "data": [
        {
         "hovertemplate": "Transaction=%{x}<br>Price=%{y}<extra></extra>",
         "legendgroup": "",
         "marker": {
          "color": "#636efa",
          "symbol": "circle"
         },
         "mode": "markers",
         "name": "",
         "showlegend": false,
         "type": "scattergl",
         "x": [
          "New_Property",
          "Resale",
          "Resale",
          "New_Property",
          "New_Property",
          "Resale",
          "New_Property",
          "New_Property",
          "New_Property",
          "New_Property",
          "New_Property",
          "New_Property",
          "Resale",
          "Resale",
          "New_Property",
          "New_Property",
          "New_Property",
          "Resale",
          "Resale",
          "Resale",
          "Resale",
          "Resale",
          "Resale",
          "Resale",
          "New_Property",
          "Resale",
          "Resale",
          "New_Property",
          "New_Property",
          "New_Property",
          "New_Property",
          "New_Property",
          "New_Property",
          "Resale",
          "New_Property",
          "New_Property",
          "New_Property",
          "Resale",
          "Resale",
          "New_Property",
          "Resale",
          "New_Property",
          "New_Property",
          "New_Property",
          "New_Property",
          "New_Property",
          "Resale",
          "Resale",
          "New_Property",
          "Resale",
          "Resale",
          "Resale",
          "Resale",
          "Resale",
          "Resale",
          "Resale",
          "Resale",
          "Resale",
          "Resale",
          "Resale",
          "Resale",
          "Resale",
          "Resale",
          "Resale",
          "Resale",
          "Resale",
          "Resale",
          "Resale",
          "New_Property",
          "New_Property",
          "Resale",
          "Resale",
          "New_Property",
          "Resale",
          "Resale",
          "Resale",
          "New_Property",
          "Resale",
          "New_Property",
          "Resale",
          "Resale",
          "Resale",
          "Resale",
          "Resale",
          "New_Property",
          "New_Property",
          "Resale",
          "Resale",
          "Resale",
          "Resale",
          "New_Property",
          "New_Property",
          "Resale",
          "New_Property",
          "New_Property",
          "Resale",
          "New_Property",
          "New_Property",
          "Resale",
          "Resale",
          "Resale",
          "New_Property",
          "New_Property",
          "New_Property",
          "New_Property",
          "New_Property",
          "New_Property",
          "New_Property",
          "New_Property",
          "New_Property",
          "New_Property",
          "New_Property",
          "New_Property",
          "Resale",
          "New_Property",
          "Resale",
          "Resale",
          "New_Property",
          "Resale",
          "Resale",
          "Resale",
          "Resale",
          "Resale",
          "Resale",
          "Resale",
          "Resale",
          "Resale",
          "Resale",
          "Resale",
          "Resale",
          "Resale",
          "Resale",
          "Resale",
          "New_Property",
          "New_Property",
          "New_Property",
          "New_Property",
          "New_Property",
          "New_Property",
          "New_Property",
          "New_Property",
          "New_Property",
          "New_Property",
          "New_Property",
          "New_Property",
          "New_Property",
          "New_Property",
          "New_Property",
          "New_Property",
          "New_Property",
          "New_Property",
          "New_Property",
          "New_Property",
          "New_Property",
          "New_Property",
          "New_Property",
          "New_Property",
          "New_Property",
          "New_Property",
          "New_Property",
          "New_Property",
          "New_Property",
          "New_Property",
          "New_Property",
          "New_Property",
          "New_Property",
          "New_Property",
          "New_Property",
          "New_Property",
          "New_Property",
          "New_Property",
          "New_Property",
          "New_Property",
          "New_Property",
          "New_Property",
          "New_Property",
          "New_Property",
          "New_Property",
          "New_Property",
          "New_Property",
          "New_Property",
          "New_Property",
          "New_Property",
          "New_Property",
          "New_Property",
          "New_Property",
          "Resale",
          "New_Property",
          "New_Property",
          "New_Property",
          "Resale",
          "New_Property",
          "New_Property",
          "Resale",
          "Resale",
          "Resale",
          "Resale",
          "New_Property",
          "New_Property",
          "New_Property",
          "New_Property",
          "New_Property",
          "New_Property",
          "New_Property",
          "New_Property",
          "Resale",
          "New_Property",
          "Resale",
          "New_Property",
          "New_Property",
          "New_Property",
          "Resale",
          "Resale",
          "Resale",
          "New_Property",
          "New_Property",
          "New_Property",
          "New_Property",
          "Resale",
          "New_Property",
          "New_Property",
          "Resale",
          "New_Property",
          "Resale",
          "Resale",
          "Resale",
          "New_Property",
          "New_Property",
          "New_Property",
          "Resale",
          "Resale",
          "New_Property",
          "New_Property",
          "New_Property",
          "New_Property",
          "New_Property",
          "Resale",
          "Resale",
          "New_Property",
          "Resale",
          "Resale",
          "New_Property",
          "New_Property",
          "New_Property",
          "New_Property",
          "New_Property",
          "Resale",
          "New_Property",
          "New_Property",
          "New_Property",
          "New_Property",
          "New_Property",
          "Resale",
          "Resale",
          "New_Property",
          "Resale",
          "Resale",
          "New_Property",
          "Resale",
          "Resale",
          "New_Property",
          "Resale",
          "Resale",
          "Resale",
          "Resale",
          "Resale",
          "Resale",
          "Resale",
          "New_Property",
          "Resale",
          "New_Property",
          "New_Property",
          "Resale",
          "New_Property",
          "New_Property",
          "New_Property",
          "Resale",
          "Resale",
          "New_Property",
          "Resale",
          "Resale",
          "Resale",
          "New_Property",
          "Resale",
          "Resale",
          "New_Property",
          "Resale",
          "New_Property",
          "Resale",
          "Resale",
          "Resale",
          "Resale",
          "Resale",
          "Resale",
          "Resale",
          "Resale",
          "Resale",
          "Resale",
          "Resale",
          "Resale",
          "Resale",
          "Resale",
          "Resale",
          "Resale",
          "Resale",
          "Resale",
          "New_Property",
          "Resale",
          "Resale",
          "Resale",
          "Resale",
          "New_Property",
          "Resale",
          "Resale",
          "Resale",
          "New_Property",
          "Resale",
          "New_Property",
          "Resale",
          "New_Property",
          "New_Property",
          "New_Property",
          "Resale",
          "Resale",
          "Resale",
          "Resale",
          "Resale",
          "New_Property",
          "Resale",
          "Resale",
          "Resale",
          "Resale",
          "Resale",
          "Resale",
          "Resale",
          "Resale",
          "Resale",
          "New_Property",
          "New_Property",
          "New_Property",
          "New_Property",
          "New_Property",
          "New_Property",
          "New_Property",
          "New_Property",
          "New_Property",
          "New_Property",
          "New_Property",
          "New_Property",
          "New_Property",
          "New_Property",
          "New_Property",
          "New_Property",
          "Resale",
          "Resale",
          "New_Property",
          "New_Property",
          "New_Property",
          "New_Property",
          "Resale",
          "New_Property",
          "New_Property",
          "Resale",
          "Resale",
          "Resale",
          "Resale",
          "New_Property",
          "New_Property",
          "New_Property",
          "Resale",
          "Resale",
          "Resale",
          "Resale",
          "Resale",
          "Resale",
          "New_Property",
          "Resale",
          "Resale",
          "Resale",
          "Resale",
          "Resale",
          "Resale",
          "Resale",
          "Resale",
          "Resale",
          "New_Property",
          "Resale",
          "New_Property",
          "Resale",
          "Resale",
          "Resale",
          "Resale",
          "Resale",
          "Resale",
          "Resale",
          "New_Property",
          "Resale",
          "Resale",
          "Resale",
          "New_Property",
          "Resale",
          "Resale",
          "New_Property",
          "Resale",
          "Resale",
          "New_Property",
          "Resale",
          "Resale",
          "Resale",
          "Resale",
          "Resale",
          "Resale",
          "Resale",
          "New_Property",
          "Resale",
          "New_Property",
          "New_Property",
          "Resale",
          "New_Property",
          "New_Property",
          "New_Property",
          "New_Property",
          "New_Property",
          "New_Property",
          "New_Property",
          "New_Property",
          "New_Property",
          "New_Property",
          "New_Property",
          "New_Property",
          "New_Property",
          "New_Property",
          "Resale",
          "New_Property",
          "New_Property",
          "New_Property",
          "Resale",
          "New_Property",
          "New_Property",
          "Resale",
          "Resale",
          "Resale",
          "Resale",
          "New_Property",
          "New_Property",
          "New_Property",
          "New_Property",
          "New_Property",
          "New_Property",
          "Resale",
          "Resale",
          "New_Property",
          "Resale",
          "New_Property",
          "Resale",
          "Resale",
          "Resale",
          "New_Property",
          "Resale",
          "New_Property",
          "New_Property",
          "Resale",
          "Resale",
          "Resale",
          "Resale",
          "Resale",
          "New_Property",
          "Resale",
          "Resale",
          "Resale",
          "New_Property",
          "New_Property",
          "New_Property",
          "New_Property",
          "New_Property",
          "Resale",
          "Resale",
          "Resale",
          "New_Property",
          "Resale",
          "Resale",
          "Resale",
          "Resale",
          "Resale",
          "Resale",
          "Resale",
          "Resale",
          "New_Property",
          "New_Property",
          "Resale",
          "New_Property",
          "New_Property",
          "Resale",
          "Resale",
          "Resale",
          "Resale",
          "Resale",
          "New_Property",
          "New_Property",
          "New_Property",
          "Resale",
          "New_Property",
          "Resale",
          "New_Property",
          "Resale",
          "Resale",
          "Resale",
          "Resale",
          "Resale",
          "Resale",
          "Resale",
          "Resale",
          "New_Property",
          "Resale",
          "New_Property",
          "New_Property",
          "New_Property",
          "Resale",
          "Resale",
          "Resale",
          "New_Property",
          "Resale",
          "New_Property",
          "Resale",
          "New_Property",
          "Resale",
          "Resale",
          "Resale",
          "Resale",
          "Resale",
          "Resale",
          "Resale",
          "Resale",
          "New_Property",
          "Resale",
          "Resale",
          "Resale",
          "Resale",
          "New_Property",
          "Resale",
          "Resale",
          "Resale",
          "Resale",
          "Resale",
          "Resale",
          "Resale",
          "New_Property",
          "Resale",
          "Resale",
          "Resale",
          "Resale",
          "Resale",
          "Resale",
          "Resale",
          "Resale",
          "Resale",
          "Resale",
          "Resale",
          "Resale",
          "Resale",
          "Resale",
          "Resale",
          "Resale",
          "Resale",
          "Resale",
          "Resale",
          "Resale",
          "Resale",
          "Resale",
          "New_Property",
          "Resale",
          "Resale",
          "Resale",
          "Resale",
          "New_Property",
          "Resale",
          "Resale",
          "New_Property",
          "Resale",
          "Resale",
          "Resale",
          "Resale",
          "Resale",
          "Resale",
          "Resale",
          "Resale",
          "Resale",
          "Resale",
          "Resale",
          "Resale",
          "Resale",
          "Resale",
          "Resale",
          "Resale",
          "Resale",
          "Resale",
          "Resale",
          "Resale",
          "Resale",
          "Resale",
          "Resale",
          "Resale",
          "New_Property",
          "New_Property",
          "Resale",
          "Resale",
          "Resale",
          "Resale",
          "Resale",
          "Resale",
          "Resale",
          "Resale",
          "Resale",
          "Resale",
          "Resale",
          "Resale",
          "New_Property",
          "Resale",
          "Resale",
          "Resale",
          "Resale",
          "Resale",
          "New_Property",
          "Resale",
          "Resale",
          "New_Property",
          "Resale",
          "New_Property",
          "New_Property",
          "Resale",
          "Resale",
          "Resale",
          "Resale",
          "Resale",
          "Resale",
          "New_Property",
          "New_Property",
          "New_Property",
          "New_Property",
          "New_Property",
          "New_Property",
          "New_Property",
          "Resale",
          "New_Property",
          "New_Property",
          "New_Property",
          "New_Property",
          "New_Property",
          "New_Property",
          "Resale",
          "Resale",
          "Resale",
          "New_Property",
          "New_Property",
          "New_Property",
          "New_Property",
          "New_Property",
          "Resale",
          "New_Property",
          "New_Property",
          "New_Property",
          "Resale",
          "New_Property",
          "New_Property",
          "Resale",
          "Resale",
          "Resale",
          "Resale",
          "Resale",
          "Resale",
          "Resale",
          "Resale",
          "Resale",
          "Resale",
          "Resale",
          "Resale",
          "New_Property",
          "New_Property",
          "Resale",
          "Resale",
          "New_Property",
          "Resale",
          "Resale",
          "Resale",
          "New_Property",
          "Resale",
          "Resale",
          "Resale",
          "New_Property",
          "Resale",
          "Resale",
          "Resale",
          "New_Property",
          "Resale",
          "Resale",
          "Resale",
          "Resale",
          "Resale",
          "Resale",
          "Resale",
          "Resale",
          "Resale",
          "Resale",
          "New_Property",
          "New_Property",
          "Resale",
          "Resale",
          "Resale",
          "Resale",
          "Resale",
          "Resale",
          "New_Property",
          "New_Property",
          "Resale",
          "Resale",
          "Resale",
          "Resale",
          "Resale",
          "Resale",
          "New_Property",
          "Resale",
          "New_Property",
          "Resale",
          "Resale",
          "New_Property",
          "Resale",
          "New_Property",
          "New_Property",
          "New_Property",
          "Resale",
          "Resale",
          "Resale",
          "Resale",
          "Resale",
          "Resale",
          "New_Property",
          "Resale",
          "New_Property",
          "Resale",
          "Resale",
          "Resale",
          "New_Property",
          "New_Property",
          "Resale",
          "New_Property",
          "New_Property",
          "New_Property",
          "New_Property",
          "Resale",
          "Resale",
          "Resale",
          "Resale",
          "Resale",
          "Resale",
          "Resale",
          "Resale",
          "New_Property",
          "Resale",
          "Resale",
          "New_Property",
          "New_Property",
          "Resale",
          "Resale",
          "Resale",
          "Resale",
          "Resale",
          "Resale",
          "Resale",
          "Resale",
          "Resale",
          "Resale",
          "Resale",
          "Resale",
          "Resale",
          "Resale",
          "Resale",
          "Resale",
          "Resale",
          "Resale",
          "Resale",
          "Resale",
          "Resale",
          "Resale",
          "Resale",
          "Resale",
          "Resale",
          "New_Property",
          "New_Property",
          "New_Property",
          "New_Property",
          "Resale",
          "Resale",
          "New_Property",
          "New_Property",
          "New_Property",
          "New_Property",
          "Resale",
          "Resale",
          "Resale",
          "New_Property",
          "Resale",
          "Resale",
          "Resale",
          "Resale",
          "Resale",
          "New_Property",
          "New_Property",
          "Resale",
          "Resale",
          "Resale",
          "Resale",
          "Resale",
          "Resale",
          "Resale",
          "New_Property",
          "Resale",
          "New_Property",
          "Resale",
          "New_Property",
          "New_Property",
          "Resale",
          "Resale",
          "New_Property",
          "New_Property",
          "New_Property",
          "New_Property",
          "New_Property",
          "Resale",
          "Resale",
          "Resale",
          "New_Property",
          "Resale",
          "Resale",
          "Resale",
          "Resale",
          "Resale",
          "Resale",
          "Resale",
          "New_Property",
          "Resale",
          "New_Property",
          "Resale",
          "Resale",
          "Resale",
          "Resale",
          "New_Property",
          "Resale",
          "Resale",
          "Resale",
          "Resale",
          "Resale",
          "New_Property",
          "Resale",
          "Resale",
          "Resale",
          "Resale",
          "Resale",
          "Resale",
          "New_Property",
          "Resale",
          "Resale",
          "Resale",
          "Resale",
          "Resale",
          "Resale",
          "New_Property",
          "Resale",
          "New_Property",
          "Resale",
          "New_Property",
          "New_Property",
          "Resale",
          "Resale",
          "New_Property",
          "New_Property",
          "Resale",
          "Resale",
          "Resale",
          "Resale",
          "New_Property",
          "Resale",
          "Resale",
          "Resale",
          "Resale",
          "Resale",
          "New_Property",
          "Resale",
          "Resale",
          "Resale",
          "Resale",
          "Resale",
          "Resale",
          "Resale",
          "Resale",
          "New_Property",
          "New_Property",
          "Resale",
          "Resale",
          "New_Property",
          "Resale",
          "Resale",
          "Resale",
          "Resale",
          "New_Property",
          "New_Property",
          "New_Property",
          "Resale",
          "New_Property",
          "Resale",
          "Resale",
          "Resale",
          "Resale",
          "Resale",
          "Resale",
          "Resale",
          "Resale",
          "Resale",
          "Resale",
          "Resale",
          "Resale",
          "Resale",
          "Resale",
          "Resale",
          "Resale",
          "Resale",
          "Resale",
          "Resale",
          "Resale",
          "Resale",
          "Resale",
          "Resale",
          "Resale",
          "Resale",
          "Resale",
          "Resale",
          "Resale",
          "Resale",
          "Resale",
          "New_Property",
          "Resale",
          "Resale",
          "Resale",
          "Resale",
          "Resale",
          "New_Property",
          "Resale",
          "Resale",
          "Resale",
          "New_Property",
          "New_Property",
          "New_Property",
          "New_Property",
          "Resale",
          "New_Property",
          "New_Property",
          "Resale",
          "New_Property",
          "New_Property",
          "New_Property",
          "New_Property",
          "Resale",
          "New_Property",
          "Resale",
          "Resale",
          "New_Property",
          "New_Property",
          "Resale",
          "New_Property",
          "Resale",
          "Resale",
          "New_Property",
          "New_Property",
          "Resale",
          "Resale",
          "New_Property",
          "New_Property",
          "New_Property",
          "New_Property",
          "New_Property",
          "New_Property",
          "Resale",
          "New_Property",
          "New_Property",
          "New_Property",
          "New_Property",
          "Resale",
          "Resale",
          "Resale",
          "Resale",
          "New_Property",
          "Resale",
          "New_Property",
          "New_Property",
          "New_Property",
          "New_Property",
          "New_Property",
          "Resale",
          "Resale",
          "Resale",
          "Resale",
          "New_Property",
          "Resale",
          "New_Property",
          "Resale",
          "New_Property"
         ],
         "xaxis": "x",
         "y": [
          5000000,
          15500000,
          4200000,
          6200000,
          15500000,
          10000000,
          4000000,
          6800000,
          15000000,
          6200000,
          7700000,
          5500000,
          5000000,
          3310000,
          4700000,
          4500000,
          17000000,
          25000000,
          6000000,
          11000000,
          4500000,
          5300000,
          10500000,
          12000000,
          7000000,
          7000000,
          3400000,
          5000000,
          21000000,
          13000000,
          22000000,
          15800000,
          57500000,
          10000000,
          30000000,
          22000000,
          24000000,
          31500000,
          14600000,
          240000000,
          8300000,
          22500000,
          1900000,
          5130000,
          5890000,
          3700000,
          17400000,
          15500000,
          2400000,
          17200000,
          14200000,
          13500000,
          30000000,
          21000000,
          20500000,
          24000000,
          16500000,
          14900000,
          19200000,
          14500000,
          15600000,
          11400000,
          31500000,
          15800000,
          16000000,
          14500000,
          10500000,
          14800000,
          1850000,
          6800000,
          14200000,
          40000000,
          46000000,
          55000000,
          24500000,
          24500000,
          32500000,
          20000000,
          240000000,
          20000000,
          19000000,
          26000000,
          21000000,
          27500000,
          32500000,
          45000000,
          21000000,
          28000000,
          29500000,
          12500000,
          26000000,
          11500000,
          14600000,
          25500000,
          31000000,
          22000000,
          13400000,
          35000000,
          11000000,
          6300000,
          12500000,
          14500000,
          22500000,
          15500000,
          26000000,
          15800000,
          15000000,
          13000000,
          15000000,
          25000000,
          16500000,
          10300000,
          26000000,
          11000000,
          28500000,
          11000000,
          3600000,
          4300000,
          4000000,
          1650000,
          2000000,
          3000000,
          1400000,
          2000000,
          2000000,
          2000000,
          2600000,
          5100000,
          6000000,
          4000000,
          6200000,
          3500000,
          7600000,
          13500000,
          12500000,
          6500000,
          22000000,
          6000000,
          7300000,
          7600000,
          20000000,
          15000000,
          6200000,
          6200000,
          5000000,
          4700000,
          5500000,
          2000000,
          7300000,
          13000000,
          11500000,
          2800000,
          2200000,
          4400000,
          13500000,
          4100000,
          12000000,
          3500000,
          15000000,
          17500000,
          1900000,
          5500000,
          10000000,
          4700000,
          2400000,
          3800000,
          23000000,
          24500000,
          10000000,
          5500000,
          7000000,
          6500000,
          135000000,
          5000000,
          93000000,
          4370000,
          4620000,
          1900000,
          70000000,
          5130000,
          3000000,
          5890000,
          3300000,
          24900000,
          3700000,
          60000000,
          17400000,
          51000000,
          170000000,
          5510000,
          25000000,
          57000000,
          2940000,
          15500000,
          17200000,
          55000000,
          15000000,
          51000000,
          13000000,
          30000000,
          2400000,
          5500000,
          60000000,
          65000000,
          220000000,
          60000000,
          38500000,
          50000000,
          75000000,
          70000000,
          160000000,
          85000000,
          40000000,
          90000000,
          56000000,
          135500000,
          60000000,
          170000000,
          50000000,
          58000000,
          37500000,
          45000000,
          70000000,
          29500000,
          60000000,
          70000000,
          50000000,
          75000000,
          52500000,
          55000000,
          120000000,
          70000000,
          47500000,
          40000000,
          85000000,
          26000000,
          35000000,
          20000000,
          79000000,
          17000000,
          47500000,
          43000000,
          26000000,
          25000000,
          51000000,
          40000000,
          22500000,
          70000000,
          45000000,
          51100000,
          25500000,
          26500000,
          15000000,
          55000000,
          26000000,
          38000000,
          72500000,
          65000000,
          9300000,
          2700000,
          6500000,
          5800000,
          5500000,
          6000000,
          4500000,
          4100000,
          3800000,
          3300000,
          2900000,
          2000000,
          1550000,
          11300000,
          4500000,
          3300000,
          11500000,
          6000000,
          9000000,
          4500000,
          14000000,
          7300000,
          1900000,
          7000000,
          2700000,
          6500000,
          4000000,
          3000000,
          5000000,
          6000000,
          2500000,
          6500000,
          8000000,
          2700000,
          4500000,
          5700000,
          25000000,
          70000000,
          26500000,
          18500000,
          30000000,
          22000000,
          9000000,
          65000000,
          22500000,
          8700000,
          22000000,
          18500000,
          16000000,
          16000000,
          9000000,
          4500000,
          4000000,
          2600000,
          3500000,
          7500000,
          7000000,
          4500000,
          5500000,
          2700000,
          2400000,
          11500000,
          3600000,
          1700000,
          2500000,
          6600000,
          3700000,
          3500000,
          5400000,
          2550000,
          12500000,
          5600000,
          7000000,
          3500000,
          35000000,
          9000000,
          2300000,
          6000000,
          6000000,
          4370000,
          4620000,
          3000000,
          3300000,
          5510000,
          3200000,
          2600000,
          4000000,
          1850000,
          1700000,
          2800000,
          2150000,
          6800000,
          6200000,
          3100000,
          3400000,
          4000000,
          4800000,
          2500000,
          2000000,
          1900000,
          5800000,
          2900000,
          2000000,
          2600000,
          2900000,
          3200000,
          5400000,
          3800000,
          135000000,
          93000000,
          8200000,
          8000000,
          9500000,
          20000000,
          7400000,
          37500000,
          15000000,
          55300000,
          26500000,
          16000000,
          10400000,
          1700000,
          8000000,
          27000000,
          19500000,
          50000000,
          21100000,
          57000000,
          5900000,
          12000000,
          12000000,
          24000000,
          7000000,
          15000000,
          1500000,
          3950000,
          12500000,
          1600000,
          31000000,
          7400000,
          15500000,
          12000000,
          23500000,
          25000000,
          7000000,
          17500000,
          25000000,
          29000000,
          21900000,
          7500000,
          23500000,
          24000000,
          31000000,
          16500000,
          5000000,
          24000000,
          17000000,
          40000000,
          22500000,
          20000000,
          135000000,
          5000000,
          93000000,
          4370000,
          4620000,
          1900000,
          70000000,
          5130000,
          3000000,
          5890000,
          3300000,
          24900000,
          3700000,
          60000000,
          17400000,
          51000000,
          170000000,
          5510000,
          25000000,
          57000000,
          2940000,
          15500000,
          17200000,
          55000000,
          15000000,
          51000000,
          13000000,
          30000000,
          2400000,
          5500000,
          29000000,
          41000000,
          6000000,
          2500000,
          2200000,
          21500000,
          15000000,
          28900000,
          5500000,
          1950000,
          3800000,
          6200000,
          14000000,
          7500000,
          2670000,
          2500000,
          4000000,
          3500000,
          5000000,
          29500000,
          19000000,
          25500000,
          75000000,
          75000000,
          34000000,
          47500000,
          75000000,
          23000000,
          24000000,
          21500000,
          28500000,
          12500000,
          45000000,
          30500000,
          22500000,
          28000000,
          25000000,
          33700000,
          27000000,
          43500000,
          29000000,
          30000000,
          52100000,
          32500000,
          20500000,
          25000000,
          30000000,
          51000000,
          31000000,
          37500000,
          55000000,
          87500000,
          16300000,
          65000000,
          25000000,
          38000000,
          15000000,
          2000000,
          3000000,
          8500000,
          55000000,
          22500000,
          72500000,
          160000000,
          12500000,
          17000000,
          82500000,
          55000000,
          35000000,
          42500000,
          4700000,
          52500000,
          80000000,
          11000000,
          74000000,
          37500000,
          52500000,
          26500000,
          8770000,
          4500000,
          8500000,
          8600000,
          42500000,
          13100000,
          7000000,
          30000000,
          13000000,
          23100000,
          16000000,
          12500000,
          24500000,
          3200000,
          6300000,
          15000000,
          5700000,
          21000000,
          7500000,
          6500000,
          27500000,
          12000000,
          18000000,
          10700000,
          16200000,
          16500000,
          14900000,
          27500000,
          70000000,
          35500000,
          42100000,
          42500000,
          44000000,
          43200000,
          52500000,
          34300000,
          38000000,
          52500000,
          37500000,
          37000000,
          40000000,
          36200000,
          29000000,
          42500000,
          60000000,
          36500000,
          42500000,
          71500000,
          65000000,
          58000000,
          27500000,
          70000000,
          65000000,
          28600000,
          39000000,
          32500000,
          34000000,
          20000000,
          18000000,
          19000000,
          36500000,
          15000000,
          17500000,
          14000000,
          21000000,
          15600000,
          19000000,
          16500000,
          19000000,
          16500000,
          3000000,
          15000000,
          14300000,
          18500000,
          19000000,
          19000000,
          12000000,
          20000000,
          13500000,
          14000000,
          10800000,
          2350000,
          8500000,
          1650000,
          10000000,
          1500000,
          2800000,
          2600000,
          2350000,
          2350000,
          2000000,
          5000000,
          3500000,
          4500000,
          4000000,
          10800000,
          10000000,
          10800000,
          9000000,
          8500000,
          6000000,
          5500000,
          7000000,
          6000000,
          3700000,
          3100000,
          4500000,
          1500000,
          3000000,
          4900000,
          3500000,
          3000000,
          7020000,
          60000000,
          3500000,
          7000000,
          7000000,
          4500000,
          5990000,
          4400000,
          2500000,
          1600000,
          6500000,
          2800000,
          4500000,
          1800000,
          8500000,
          8500000,
          1700000,
          7000000,
          5600000,
          13500000,
          8500000,
          6000000,
          7200000,
          6500000,
          8400000,
          8500000,
          4000000,
          1700000,
          6000000,
          1600000,
          2100000,
          1700000,
          1500000,
          1200000,
          1650000,
          3500000,
          8500000,
          3200000,
          3790000,
          4200000,
          2900000,
          5000000,
          2100000,
          3200000,
          3000000,
          2300000,
          5900000,
          5500000,
          3500000,
          1700000,
          1850000,
          2300000,
          3800000,
          4500000,
          2200000,
          5200000,
          2200000,
          2200000,
          3800000,
          1800000,
          2850000,
          2500000,
          3500000,
          2000000,
          3000000,
          2000000,
          3500000,
          1800000,
          1600000,
          1600000,
          2000000,
          1500000,
          3000000,
          1490000,
          3500000,
          4000000,
          1750000,
          4600000,
          1800000,
          1900000,
          1000000,
          1000000,
          1000000,
          3500000,
          5000000,
          2200000,
          67000000,
          8500000,
          11500000,
          52500000,
          12000000,
          10700000,
          9000000,
          100000000,
          6200000,
          17000000,
          12500000,
          13000000,
          4200000,
          36000000,
          2300000,
          8100000,
          10000000,
          62500000,
          65000000,
          20000000,
          57500000,
          30000000,
          30000000,
          30000000,
          6900000,
          3600000,
          13500000,
          9200000,
          2500000,
          17000000,
          9030000,
          9300000,
          6500000,
          3300000,
          2400000,
          15000000,
          7000000,
          4200000,
          5800000,
          4800000,
          7500000,
          3000000,
          4300000,
          2600000,
          7000000,
          6000000,
          6700000,
          9500000,
          17000000,
          14000000,
          11600000,
          12000000,
          7500000,
          9800000,
          12000000,
          12500000,
          16500000,
          12000000,
          7200000,
          15000000,
          10000000,
          11000000,
          24700000,
          24900000,
          3600000,
          1700000,
          11000000,
          75000000,
          24800000,
          24900000,
          24900000,
          25900000,
          11700000,
          13500000,
          5500000,
          30000000,
          4950000,
          16000000,
          30000000,
          41000000,
          3800000,
          68900000,
          1800000,
          1500000,
          12500000,
          1600000,
          2400000,
          7000000,
          3100000,
          14500000,
          61500000,
          27500000,
          25500000,
          25000000,
          18500000,
          39700000,
          6800000,
          6540000,
          22000000,
          25500000,
          17000000,
          27500000,
          73700000,
          52300000,
          16000000,
          15000000,
          25500000,
          10000000,
          5000000,
          20000000,
          16000000,
          5500000,
          7000000,
          4100000,
          24000000,
          12500000,
          3900000,
          14500000,
          20000000,
          24500000,
          20900000,
          43100000,
          40000000,
          20000000,
          6700000,
          16000000,
          8000000,
          25000000,
          25000000,
          37500000,
          25000000,
          23000000,
          17500000,
          44000000,
          15000000,
          42500000,
          5000000,
          38000000,
          19000000,
          43500000,
          19500000,
          14200000,
          14200000,
          13500000,
          19000000,
          7000000,
          5800000,
          8000000,
          18800000,
          6000000,
          2200000,
          6500000,
          23500000,
          16000000,
          20000000,
          5500000,
          13500000,
          22500000,
          3800000,
          4600000,
          17500000,
          5500000,
          22500000,
          12500000,
          19000000,
          15500000,
          13500000,
          21000000,
          35000000,
          25000000,
          29000000,
          80000000,
          20500000,
          52500000,
          37500000,
          7500000,
          32500000,
          24500000,
          65000000,
          27500000,
          115000000,
          28000000,
          8000000,
          75100000,
          7800000,
          15000000,
          27500000,
          25000000,
          26000000,
          23500000,
          4200000,
          10000000,
          18500000,
          20000000,
          18000000,
          19000000,
          36500000,
          15000000,
          17500000,
          14000000,
          21000000,
          15600000,
          19000000,
          16500000,
          19000000,
          16500000,
          3000000,
          15000000,
          14300000,
          18500000,
          19000000,
          19000000,
          8000000,
          16100000,
          6800000,
          6800000,
          9000000,
          18000000,
          27500000,
          13500000,
          14000000,
          9000000,
          16000000,
          11000000,
          5500000,
          43500000,
          180000000,
          80000000,
          37500000,
          60000000,
          71000000,
          18500000,
          70000000,
          85000000,
          190000000,
          135000000,
          35000000,
          65000000,
          27500000,
          45000000,
          100000000,
          47000000,
          27500000,
          70000000,
          36500000,
          65000000,
          35000000,
          56000000,
          110000000,
          24000000,
          102500000,
          100000000,
          45000000,
          33500000,
          62500000,
          47500000,
          14700000,
          18000000,
          22500000,
          22000000,
          22200000,
          22500000,
          7500000,
          30000000,
          6500000,
          35000000,
          17500000,
          60000000,
          40000000,
          11500000,
          22500000,
          28500000,
          29000000,
          15500000,
          26000000,
          16500000,
          55000000,
          12500000,
          17500000,
          11500000,
          18500000
         ],
         "yaxis": "y"
        }
       ],
       "layout": {
        "height": 420,
        "legend": {
         "tracegroupgap": 0
        },
        "margin": {
         "t": 60
        },
        "template": {
         "data": {
          "bar": [
           {
            "error_x": {
             "color": "#2a3f5f"
            },
            "error_y": {
             "color": "#2a3f5f"
            },
            "marker": {
             "line": {
              "color": "#E5ECF6",
              "width": 0.5
             }
            },
            "type": "bar"
           }
          ],
          "barpolar": [
           {
            "marker": {
             "line": {
              "color": "#E5ECF6",
              "width": 0.5
             }
            },
            "type": "barpolar"
           }
          ],
          "carpet": [
           {
            "aaxis": {
             "endlinecolor": "#2a3f5f",
             "gridcolor": "white",
             "linecolor": "white",
             "minorgridcolor": "white",
             "startlinecolor": "#2a3f5f"
            },
            "baxis": {
             "endlinecolor": "#2a3f5f",
             "gridcolor": "white",
             "linecolor": "white",
             "minorgridcolor": "white",
             "startlinecolor": "#2a3f5f"
            },
            "type": "carpet"
           }
          ],
          "choropleth": [
           {
            "colorbar": {
             "outlinewidth": 0,
             "ticks": ""
            },
            "type": "choropleth"
           }
          ],
          "contour": [
           {
            "colorbar": {
             "outlinewidth": 0,
             "ticks": ""
            },
            "colorscale": [
             [
              0,
              "#0d0887"
             ],
             [
              0.1111111111111111,
              "#46039f"
             ],
             [
              0.2222222222222222,
              "#7201a8"
             ],
             [
              0.3333333333333333,
              "#9c179e"
             ],
             [
              0.4444444444444444,
              "#bd3786"
             ],
             [
              0.5555555555555556,
              "#d8576b"
             ],
             [
              0.6666666666666666,
              "#ed7953"
             ],
             [
              0.7777777777777778,
              "#fb9f3a"
             ],
             [
              0.8888888888888888,
              "#fdca26"
             ],
             [
              1,
              "#f0f921"
             ]
            ],
            "type": "contour"
           }
          ],
          "contourcarpet": [
           {
            "colorbar": {
             "outlinewidth": 0,
             "ticks": ""
            },
            "type": "contourcarpet"
           }
          ],
          "heatmap": [
           {
            "colorbar": {
             "outlinewidth": 0,
             "ticks": ""
            },
            "colorscale": [
             [
              0,
              "#0d0887"
             ],
             [
              0.1111111111111111,
              "#46039f"
             ],
             [
              0.2222222222222222,
              "#7201a8"
             ],
             [
              0.3333333333333333,
              "#9c179e"
             ],
             [
              0.4444444444444444,
              "#bd3786"
             ],
             [
              0.5555555555555556,
              "#d8576b"
             ],
             [
              0.6666666666666666,
              "#ed7953"
             ],
             [
              0.7777777777777778,
              "#fb9f3a"
             ],
             [
              0.8888888888888888,
              "#fdca26"
             ],
             [
              1,
              "#f0f921"
             ]
            ],
            "type": "heatmap"
           }
          ],
          "heatmapgl": [
           {
            "colorbar": {
             "outlinewidth": 0,
             "ticks": ""
            },
            "colorscale": [
             [
              0,
              "#0d0887"
             ],
             [
              0.1111111111111111,
              "#46039f"
             ],
             [
              0.2222222222222222,
              "#7201a8"
             ],
             [
              0.3333333333333333,
              "#9c179e"
             ],
             [
              0.4444444444444444,
              "#bd3786"
             ],
             [
              0.5555555555555556,
              "#d8576b"
             ],
             [
              0.6666666666666666,
              "#ed7953"
             ],
             [
              0.7777777777777778,
              "#fb9f3a"
             ],
             [
              0.8888888888888888,
              "#fdca26"
             ],
             [
              1,
              "#f0f921"
             ]
            ],
            "type": "heatmapgl"
           }
          ],
          "histogram": [
           {
            "marker": {
             "colorbar": {
              "outlinewidth": 0,
              "ticks": ""
             }
            },
            "type": "histogram"
           }
          ],
          "histogram2d": [
           {
            "colorbar": {
             "outlinewidth": 0,
             "ticks": ""
            },
            "colorscale": [
             [
              0,
              "#0d0887"
             ],
             [
              0.1111111111111111,
              "#46039f"
             ],
             [
              0.2222222222222222,
              "#7201a8"
             ],
             [
              0.3333333333333333,
              "#9c179e"
             ],
             [
              0.4444444444444444,
              "#bd3786"
             ],
             [
              0.5555555555555556,
              "#d8576b"
             ],
             [
              0.6666666666666666,
              "#ed7953"
             ],
             [
              0.7777777777777778,
              "#fb9f3a"
             ],
             [
              0.8888888888888888,
              "#fdca26"
             ],
             [
              1,
              "#f0f921"
             ]
            ],
            "type": "histogram2d"
           }
          ],
          "histogram2dcontour": [
           {
            "colorbar": {
             "outlinewidth": 0,
             "ticks": ""
            },
            "colorscale": [
             [
              0,
              "#0d0887"
             ],
             [
              0.1111111111111111,
              "#46039f"
             ],
             [
              0.2222222222222222,
              "#7201a8"
             ],
             [
              0.3333333333333333,
              "#9c179e"
             ],
             [
              0.4444444444444444,
              "#bd3786"
             ],
             [
              0.5555555555555556,
              "#d8576b"
             ],
             [
              0.6666666666666666,
              "#ed7953"
             ],
             [
              0.7777777777777778,
              "#fb9f3a"
             ],
             [
              0.8888888888888888,
              "#fdca26"
             ],
             [
              1,
              "#f0f921"
             ]
            ],
            "type": "histogram2dcontour"
           }
          ],
          "mesh3d": [
           {
            "colorbar": {
             "outlinewidth": 0,
             "ticks": ""
            },
            "type": "mesh3d"
           }
          ],
          "parcoords": [
           {
            "line": {
             "colorbar": {
              "outlinewidth": 0,
              "ticks": ""
             }
            },
            "type": "parcoords"
           }
          ],
          "pie": [
           {
            "automargin": true,
            "type": "pie"
           }
          ],
          "scatter": [
           {
            "marker": {
             "colorbar": {
              "outlinewidth": 0,
              "ticks": ""
             }
            },
            "type": "scatter"
           }
          ],
          "scatter3d": [
           {
            "line": {
             "colorbar": {
              "outlinewidth": 0,
              "ticks": ""
             }
            },
            "marker": {
             "colorbar": {
              "outlinewidth": 0,
              "ticks": ""
             }
            },
            "type": "scatter3d"
           }
          ],
          "scattercarpet": [
           {
            "marker": {
             "colorbar": {
              "outlinewidth": 0,
              "ticks": ""
             }
            },
            "type": "scattercarpet"
           }
          ],
          "scattergeo": [
           {
            "marker": {
             "colorbar": {
              "outlinewidth": 0,
              "ticks": ""
             }
            },
            "type": "scattergeo"
           }
          ],
          "scattergl": [
           {
            "marker": {
             "colorbar": {
              "outlinewidth": 0,
              "ticks": ""
             }
            },
            "type": "scattergl"
           }
          ],
          "scattermapbox": [
           {
            "marker": {
             "colorbar": {
              "outlinewidth": 0,
              "ticks": ""
             }
            },
            "type": "scattermapbox"
           }
          ],
          "scatterpolar": [
           {
            "marker": {
             "colorbar": {
              "outlinewidth": 0,
              "ticks": ""
             }
            },
            "type": "scatterpolar"
           }
          ],
          "scatterpolargl": [
           {
            "marker": {
             "colorbar": {
              "outlinewidth": 0,
              "ticks": ""
             }
            },
            "type": "scatterpolargl"
           }
          ],
          "scatterternary": [
           {
            "marker": {
             "colorbar": {
              "outlinewidth": 0,
              "ticks": ""
             }
            },
            "type": "scatterternary"
           }
          ],
          "surface": [
           {
            "colorbar": {
             "outlinewidth": 0,
             "ticks": ""
            },
            "colorscale": [
             [
              0,
              "#0d0887"
             ],
             [
              0.1111111111111111,
              "#46039f"
             ],
             [
              0.2222222222222222,
              "#7201a8"
             ],
             [
              0.3333333333333333,
              "#9c179e"
             ],
             [
              0.4444444444444444,
              "#bd3786"
             ],
             [
              0.5555555555555556,
              "#d8576b"
             ],
             [
              0.6666666666666666,
              "#ed7953"
             ],
             [
              0.7777777777777778,
              "#fb9f3a"
             ],
             [
              0.8888888888888888,
              "#fdca26"
             ],
             [
              1,
              "#f0f921"
             ]
            ],
            "type": "surface"
           }
          ],
          "table": [
           {
            "cells": {
             "fill": {
              "color": "#EBF0F8"
             },
             "line": {
              "color": "white"
             }
            },
            "header": {
             "fill": {
              "color": "#C8D4E3"
             },
             "line": {
              "color": "white"
             }
            },
            "type": "table"
           }
          ]
         },
         "layout": {
          "annotationdefaults": {
           "arrowcolor": "#2a3f5f",
           "arrowhead": 0,
           "arrowwidth": 1
          },
          "autotypenumbers": "strict",
          "coloraxis": {
           "colorbar": {
            "outlinewidth": 0,
            "ticks": ""
           }
          },
          "colorscale": {
           "diverging": [
            [
             0,
             "#8e0152"
            ],
            [
             0.1,
             "#c51b7d"
            ],
            [
             0.2,
             "#de77ae"
            ],
            [
             0.3,
             "#f1b6da"
            ],
            [
             0.4,
             "#fde0ef"
            ],
            [
             0.5,
             "#f7f7f7"
            ],
            [
             0.6,
             "#e6f5d0"
            ],
            [
             0.7,
             "#b8e186"
            ],
            [
             0.8,
             "#7fbc41"
            ],
            [
             0.9,
             "#4d9221"
            ],
            [
             1,
             "#276419"
            ]
           ],
           "sequential": [
            [
             0,
             "#0d0887"
            ],
            [
             0.1111111111111111,
             "#46039f"
            ],
            [
             0.2222222222222222,
             "#7201a8"
            ],
            [
             0.3333333333333333,
             "#9c179e"
            ],
            [
             0.4444444444444444,
             "#bd3786"
            ],
            [
             0.5555555555555556,
             "#d8576b"
            ],
            [
             0.6666666666666666,
             "#ed7953"
            ],
            [
             0.7777777777777778,
             "#fb9f3a"
            ],
            [
             0.8888888888888888,
             "#fdca26"
            ],
            [
             1,
             "#f0f921"
            ]
           ],
           "sequentialminus": [
            [
             0,
             "#0d0887"
            ],
            [
             0.1111111111111111,
             "#46039f"
            ],
            [
             0.2222222222222222,
             "#7201a8"
            ],
            [
             0.3333333333333333,
             "#9c179e"
            ],
            [
             0.4444444444444444,
             "#bd3786"
            ],
            [
             0.5555555555555556,
             "#d8576b"
            ],
            [
             0.6666666666666666,
             "#ed7953"
            ],
            [
             0.7777777777777778,
             "#fb9f3a"
            ],
            [
             0.8888888888888888,
             "#fdca26"
            ],
            [
             1,
             "#f0f921"
            ]
           ]
          },
          "colorway": [
           "#636efa",
           "#EF553B",
           "#00cc96",
           "#ab63fa",
           "#FFA15A",
           "#19d3f3",
           "#FF6692",
           "#B6E880",
           "#FF97FF",
           "#FECB52"
          ],
          "font": {
           "color": "#2a3f5f"
          },
          "geo": {
           "bgcolor": "white",
           "lakecolor": "white",
           "landcolor": "#E5ECF6",
           "showlakes": true,
           "showland": true,
           "subunitcolor": "white"
          },
          "hoverlabel": {
           "align": "left"
          },
          "hovermode": "closest",
          "mapbox": {
           "style": "light"
          },
          "paper_bgcolor": "white",
          "plot_bgcolor": "#E5ECF6",
          "polar": {
           "angularaxis": {
            "gridcolor": "white",
            "linecolor": "white",
            "ticks": ""
           },
           "bgcolor": "#E5ECF6",
           "radialaxis": {
            "gridcolor": "white",
            "linecolor": "white",
            "ticks": ""
           }
          },
          "scene": {
           "xaxis": {
            "backgroundcolor": "#E5ECF6",
            "gridcolor": "white",
            "gridwidth": 2,
            "linecolor": "white",
            "showbackground": true,
            "ticks": "",
            "zerolinecolor": "white"
           },
           "yaxis": {
            "backgroundcolor": "#E5ECF6",
            "gridcolor": "white",
            "gridwidth": 2,
            "linecolor": "white",
            "showbackground": true,
            "ticks": "",
            "zerolinecolor": "white"
           },
           "zaxis": {
            "backgroundcolor": "#E5ECF6",
            "gridcolor": "white",
            "gridwidth": 2,
            "linecolor": "white",
            "showbackground": true,
            "ticks": "",
            "zerolinecolor": "white"
           }
          },
          "shapedefaults": {
           "line": {
            "color": "#2a3f5f"
           }
          },
          "ternary": {
           "aaxis": {
            "gridcolor": "white",
            "linecolor": "white",
            "ticks": ""
           },
           "baxis": {
            "gridcolor": "white",
            "linecolor": "white",
            "ticks": ""
           },
           "bgcolor": "#E5ECF6",
           "caxis": {
            "gridcolor": "white",
            "linecolor": "white",
            "ticks": ""
           }
          },
          "title": {
           "x": 0.05
          },
          "xaxis": {
           "automargin": true,
           "gridcolor": "white",
           "linecolor": "white",
           "ticks": "",
           "title": {
            "standoff": 15
           },
           "zerolinecolor": "white",
           "zerolinewidth": 2
          },
          "yaxis": {
           "automargin": true,
           "gridcolor": "white",
           "linecolor": "white",
           "ticks": "",
           "title": {
            "standoff": 15
           },
           "zerolinecolor": "white",
           "zerolinewidth": 2
          }
         }
        },
        "width": 400,
        "xaxis": {
         "anchor": "y",
         "domain": [
          0,
          1
         ],
         "title": {
          "text": "Transaction"
         }
        },
        "yaxis": {
         "anchor": "x",
         "domain": [
          0,
          1
         ],
         "title": {
          "text": "Price"
         }
        }
       }
      }
     },
     "metadata": {}
    }
   ],
   "source": [
    "# Transaction vs Price\n",
    "fig = px.scatter(df2,x='Transaction',y='Price')\n",
    "fig.update_layout(height=420,width=400)\n",
    "fig.show()"
   ]
  },
  {
   "cell_type": "code",
   "execution_count": 24,
   "metadata": {},
   "outputs": [
    {
     "output_type": "display_data",
     "data": {
      "application/vnd.plotly.v1+json": {
       "config": {
        "plotlyServerURL": "https://plot.ly"
       },
       "data": [
        {
         "alignmentgroup": "True",
         "bingroup": "x",
         "hovertemplate": "Parking=%{x}<br>count=%{y}<extra></extra>",
         "legendgroup": "1.0",
         "marker": {
          "color": "#636efa"
         },
         "name": "1.0",
         "offsetgroup": "1.0",
         "orientation": "v",
         "showlegend": true,
         "type": "histogram",
         "x": [
          1,
          1,
          1,
          1,
          1,
          1,
          1,
          1,
          1,
          1,
          1,
          1,
          1,
          1,
          1,
          1,
          1,
          1,
          1,
          1,
          1,
          1,
          1,
          1,
          1,
          1,
          1,
          1,
          1,
          1,
          1,
          1,
          1,
          1,
          1,
          1,
          1,
          1,
          1,
          1,
          1,
          1,
          1,
          1,
          1,
          1,
          1,
          1,
          1,
          1,
          1,
          1,
          1,
          1,
          1,
          1,
          1,
          1,
          1,
          1,
          1,
          1,
          1,
          1,
          1,
          1,
          1,
          1,
          1,
          1,
          1,
          1,
          1,
          1,
          1,
          1,
          1,
          1,
          1,
          1,
          1,
          1,
          1,
          1,
          1,
          1,
          1,
          1,
          1,
          1,
          1,
          1,
          1,
          1,
          1,
          1,
          1,
          1,
          1,
          1,
          1,
          1,
          1,
          1,
          1,
          1,
          1,
          1,
          1,
          1,
          1,
          1,
          1,
          1,
          1,
          1,
          1,
          1,
          1,
          1,
          1,
          1,
          1,
          1,
          1,
          1,
          1,
          1,
          1,
          1,
          1,
          1,
          1,
          1,
          1,
          1,
          1,
          1,
          1,
          1,
          1,
          1,
          1,
          1,
          1,
          1,
          1,
          1,
          1,
          1,
          1,
          1,
          1,
          1,
          1,
          1,
          1,
          1,
          1,
          1,
          1,
          1,
          1,
          1,
          1,
          1,
          1,
          1,
          1,
          1,
          1,
          1,
          1,
          1,
          1,
          1,
          1,
          1,
          1,
          1,
          1,
          1,
          1,
          1,
          1,
          1,
          1,
          1,
          1,
          1,
          1,
          1,
          1,
          1,
          1,
          1,
          1,
          1,
          1,
          1,
          1,
          1,
          1,
          1,
          1,
          1,
          1,
          1,
          1,
          1,
          1,
          1,
          1,
          1,
          1,
          1,
          1,
          1,
          1,
          1,
          1,
          1,
          1,
          1,
          1,
          1,
          1,
          1,
          1,
          1,
          1,
          1,
          1,
          1,
          1,
          1,
          1,
          1,
          1,
          1,
          1,
          1,
          1,
          1,
          1,
          1,
          1,
          1,
          1,
          1,
          1,
          1,
          1,
          1,
          1,
          1,
          1,
          1,
          1,
          1,
          1,
          1,
          1,
          1,
          1,
          1,
          1,
          1,
          1,
          1,
          1,
          1,
          1,
          1,
          1,
          1,
          1,
          1,
          1,
          1,
          1,
          1,
          1,
          1,
          1,
          1,
          1,
          1,
          1,
          1,
          1,
          1,
          1,
          1,
          1,
          1,
          1,
          1,
          1,
          1,
          1,
          1,
          1,
          1,
          1,
          1,
          1,
          1,
          1,
          1,
          1,
          1,
          1,
          1,
          1,
          1,
          1,
          1,
          1,
          1,
          1,
          1,
          1,
          1,
          1,
          1,
          1,
          1,
          1,
          1,
          1,
          1,
          1,
          1,
          1,
          1,
          1,
          1,
          1,
          1,
          1,
          1,
          1,
          1,
          1,
          1,
          1,
          1,
          1,
          1,
          1,
          1,
          1,
          1,
          1,
          1,
          1,
          1,
          1,
          1,
          1,
          1,
          1,
          1,
          1,
          1,
          1,
          1,
          1,
          1,
          1,
          1,
          1,
          1,
          1,
          1,
          1,
          1,
          1,
          1,
          1,
          1,
          1,
          1,
          1,
          1,
          1,
          1,
          1,
          1,
          1,
          1,
          1,
          1,
          1,
          1,
          1,
          1,
          1,
          1,
          1,
          1,
          1,
          1,
          1,
          1,
          1,
          1,
          1,
          1,
          1,
          1,
          1,
          1,
          1,
          1,
          1,
          1,
          1,
          1,
          1,
          1,
          1,
          1,
          1,
          1,
          1,
          1,
          1,
          1,
          1,
          1,
          1,
          1,
          1,
          1,
          1,
          1,
          1,
          1,
          1,
          1,
          1,
          1,
          1,
          1,
          1,
          1,
          1,
          1,
          1,
          1,
          1,
          1,
          1,
          1,
          1,
          1,
          1,
          1,
          1,
          1,
          1,
          1,
          1,
          1,
          1,
          1,
          1,
          1,
          1,
          1,
          1,
          1,
          1,
          1,
          1,
          1,
          1,
          1,
          1,
          1,
          1,
          1,
          1,
          1,
          1,
          1,
          1,
          1,
          1,
          1,
          1,
          1,
          1,
          1,
          1,
          1,
          1,
          1,
          1,
          1,
          1,
          1,
          1,
          1,
          1,
          1,
          1,
          1,
          1,
          1,
          1,
          1,
          1,
          1,
          1,
          1,
          1,
          1,
          1,
          1,
          1,
          1,
          1,
          1,
          1,
          1,
          1,
          1,
          1,
          1,
          1,
          1,
          1,
          1,
          1,
          1,
          1,
          1,
          1,
          1,
          1,
          1,
          1,
          1,
          1,
          1,
          1,
          1,
          1,
          1,
          1,
          1,
          1,
          1,
          1,
          1,
          1,
          1,
          1,
          1,
          1,
          1,
          1,
          1,
          1,
          1,
          1,
          1,
          1,
          1,
          1,
          1,
          1,
          1,
          1,
          1,
          1,
          1,
          1,
          1,
          1,
          1,
          1,
          1,
          1,
          1,
          1,
          1,
          1,
          1,
          1,
          1,
          1,
          1,
          1,
          1,
          1,
          1,
          1,
          1,
          1,
          1,
          1,
          1,
          1,
          1,
          1,
          1,
          1,
          1,
          1,
          1,
          1,
          1,
          1,
          1,
          1,
          1,
          1,
          1,
          1,
          1,
          1,
          1,
          1,
          1,
          1,
          1,
          1,
          1,
          1,
          1,
          1,
          1,
          1,
          1,
          1,
          1,
          1,
          1,
          1,
          1,
          1,
          1,
          1,
          1,
          1,
          1,
          1,
          1,
          1,
          1,
          1,
          1,
          1,
          1,
          1,
          1,
          1,
          1,
          1,
          1,
          1,
          1,
          1,
          1,
          1,
          1,
          1
         ],
         "xaxis": "x",
         "yaxis": "y"
        },
        {
         "alignmentgroup": "True",
         "bingroup": "x",
         "hovertemplate": "Parking=%{x}<br>count=%{y}<extra></extra>",
         "legendgroup": "5.0",
         "marker": {
          "color": "#EF553B"
         },
         "name": "5.0",
         "offsetgroup": "5.0",
         "orientation": "v",
         "showlegend": true,
         "type": "histogram",
         "x": [
          5,
          5,
          5,
          5,
          5,
          5,
          5
         ],
         "xaxis": "x",
         "yaxis": "y"
        },
        {
         "alignmentgroup": "True",
         "bingroup": "x",
         "hovertemplate": "Parking=%{x}<br>count=%{y}<extra></extra>",
         "legendgroup": "2.0",
         "marker": {
          "color": "#00cc96"
         },
         "name": "2.0",
         "offsetgroup": "2.0",
         "orientation": "v",
         "showlegend": true,
         "type": "histogram",
         "x": [
          2,
          2,
          2,
          2,
          2,
          2,
          2,
          2,
          2,
          2,
          2,
          2,
          2,
          2,
          2,
          2,
          2,
          2,
          2,
          2,
          2,
          2,
          2,
          2,
          2,
          2,
          2,
          2,
          2,
          2,
          2,
          2,
          2,
          2,
          2,
          2,
          2,
          2,
          2,
          2,
          2,
          2,
          2,
          2,
          2,
          2,
          2,
          2,
          2,
          2,
          2,
          2,
          2,
          2,
          2,
          2,
          2,
          2,
          2,
          2,
          2,
          2,
          2,
          2,
          2,
          2,
          2,
          2,
          2,
          2,
          2,
          2,
          2,
          2,
          2,
          2,
          2,
          2,
          2,
          2,
          2,
          2,
          2,
          2,
          2,
          2,
          2,
          2,
          2,
          2,
          2,
          2,
          2,
          2,
          2,
          2,
          2,
          2,
          2,
          2,
          2,
          2,
          2,
          2,
          2,
          2,
          2,
          2,
          2,
          2,
          2,
          2,
          2,
          2,
          2,
          2,
          2,
          2,
          2,
          2,
          2,
          2,
          2,
          2,
          2,
          2,
          2,
          2,
          2,
          2,
          2,
          2,
          2,
          2,
          2,
          2,
          2,
          2,
          2,
          2,
          2,
          2,
          2,
          2,
          2,
          2,
          2,
          2,
          2,
          2,
          2,
          2,
          2,
          2,
          2,
          2,
          2,
          2,
          2,
          2,
          2,
          2,
          2,
          2,
          2,
          2,
          2,
          2,
          2,
          2,
          2,
          2,
          2,
          2,
          2,
          2,
          2,
          2,
          2,
          2,
          2,
          2,
          2,
          2,
          2,
          2,
          2,
          2,
          2,
          2,
          2,
          2,
          2,
          2,
          2,
          2,
          2,
          2,
          2,
          2,
          2,
          2,
          2,
          2,
          2,
          2,
          2,
          2,
          2,
          2,
          2,
          2,
          2,
          2,
          2,
          2,
          2,
          2,
          2,
          2,
          2,
          2,
          2,
          2,
          2,
          2,
          2,
          2,
          2,
          2,
          2,
          2,
          2,
          2,
          2,
          2,
          2,
          2,
          2,
          2,
          2,
          2,
          2,
          2,
          2,
          2,
          2,
          2,
          2,
          2,
          2,
          2,
          2,
          2,
          2,
          2
         ],
         "xaxis": "x",
         "yaxis": "y"
        },
        {
         "alignmentgroup": "True",
         "bingroup": "x",
         "hovertemplate": "Parking=%{x}<br>count=%{y}<extra></extra>",
         "legendgroup": "4.0",
         "marker": {
          "color": "#ab63fa"
         },
         "name": "4.0",
         "offsetgroup": "4.0",
         "orientation": "v",
         "showlegend": true,
         "type": "histogram",
         "x": [
          4,
          4,
          4,
          4,
          4,
          4,
          4,
          4,
          4,
          4
         ],
         "xaxis": "x",
         "yaxis": "y"
        },
        {
         "alignmentgroup": "True",
         "bingroup": "x",
         "hovertemplate": "Parking=%{x}<br>count=%{y}<extra></extra>",
         "legendgroup": "9.0",
         "marker": {
          "color": "#FFA15A"
         },
         "name": "9.0",
         "offsetgroup": "9.0",
         "orientation": "v",
         "showlegend": true,
         "type": "histogram",
         "x": [
          9
         ],
         "xaxis": "x",
         "yaxis": "y"
        },
        {
         "alignmentgroup": "True",
         "bingroup": "x",
         "hovertemplate": "Parking=%{x}<br>count=%{y}<extra></extra>",
         "legendgroup": "3.0",
         "marker": {
          "color": "#19d3f3"
         },
         "name": "3.0",
         "offsetgroup": "3.0",
         "orientation": "v",
         "showlegend": true,
         "type": "histogram",
         "x": [
          3,
          3,
          3,
          3,
          3,
          3,
          3,
          3,
          3,
          3,
          3,
          3,
          3,
          3,
          3,
          3,
          3,
          3,
          3,
          3,
          3,
          3,
          3,
          3,
          3,
          3,
          3,
          3,
          3,
          3,
          3,
          3,
          3,
          3,
          3,
          3,
          3,
          3,
          3,
          3,
          3,
          3,
          3,
          3,
          3,
          3,
          3,
          3,
          3,
          3,
          3,
          3
         ],
         "xaxis": "x",
         "yaxis": "y"
        },
        {
         "alignmentgroup": "True",
         "bingroup": "x",
         "hovertemplate": "Parking=%{x}<br>count=%{y}<extra></extra>",
         "legendgroup": "39.0",
         "marker": {
          "color": "#FF6692"
         },
         "name": "39.0",
         "offsetgroup": "39.0",
         "orientation": "v",
         "showlegend": true,
         "type": "histogram",
         "x": [
          39,
          39,
          39,
          39,
          39,
          39,
          39
         ],
         "xaxis": "x",
         "yaxis": "y"
        },
        {
         "alignmentgroup": "True",
         "bingroup": "x",
         "hovertemplate": "Parking=%{x}<br>count=%{y}<extra></extra>",
         "legendgroup": "10.0",
         "marker": {
          "color": "#B6E880"
         },
         "name": "10.0",
         "offsetgroup": "10.0",
         "orientation": "v",
         "showlegend": true,
         "type": "histogram",
         "x": [
          10
         ],
         "xaxis": "x",
         "yaxis": "y"
        }
       ],
       "layout": {
        "barmode": "relative",
        "height": 420,
        "legend": {
         "title": {
          "text": "Parking"
         },
         "tracegroupgap": 0
        },
        "margin": {
         "t": 60
        },
        "template": {
         "data": {
          "bar": [
           {
            "error_x": {
             "color": "#2a3f5f"
            },
            "error_y": {
             "color": "#2a3f5f"
            },
            "marker": {
             "line": {
              "color": "#E5ECF6",
              "width": 0.5
             }
            },
            "type": "bar"
           }
          ],
          "barpolar": [
           {
            "marker": {
             "line": {
              "color": "#E5ECF6",
              "width": 0.5
             }
            },
            "type": "barpolar"
           }
          ],
          "carpet": [
           {
            "aaxis": {
             "endlinecolor": "#2a3f5f",
             "gridcolor": "white",
             "linecolor": "white",
             "minorgridcolor": "white",
             "startlinecolor": "#2a3f5f"
            },
            "baxis": {
             "endlinecolor": "#2a3f5f",
             "gridcolor": "white",
             "linecolor": "white",
             "minorgridcolor": "white",
             "startlinecolor": "#2a3f5f"
            },
            "type": "carpet"
           }
          ],
          "choropleth": [
           {
            "colorbar": {
             "outlinewidth": 0,
             "ticks": ""
            },
            "type": "choropleth"
           }
          ],
          "contour": [
           {
            "colorbar": {
             "outlinewidth": 0,
             "ticks": ""
            },
            "colorscale": [
             [
              0,
              "#0d0887"
             ],
             [
              0.1111111111111111,
              "#46039f"
             ],
             [
              0.2222222222222222,
              "#7201a8"
             ],
             [
              0.3333333333333333,
              "#9c179e"
             ],
             [
              0.4444444444444444,
              "#bd3786"
             ],
             [
              0.5555555555555556,
              "#d8576b"
             ],
             [
              0.6666666666666666,
              "#ed7953"
             ],
             [
              0.7777777777777778,
              "#fb9f3a"
             ],
             [
              0.8888888888888888,
              "#fdca26"
             ],
             [
              1,
              "#f0f921"
             ]
            ],
            "type": "contour"
           }
          ],
          "contourcarpet": [
           {
            "colorbar": {
             "outlinewidth": 0,
             "ticks": ""
            },
            "type": "contourcarpet"
           }
          ],
          "heatmap": [
           {
            "colorbar": {
             "outlinewidth": 0,
             "ticks": ""
            },
            "colorscale": [
             [
              0,
              "#0d0887"
             ],
             [
              0.1111111111111111,
              "#46039f"
             ],
             [
              0.2222222222222222,
              "#7201a8"
             ],
             [
              0.3333333333333333,
              "#9c179e"
             ],
             [
              0.4444444444444444,
              "#bd3786"
             ],
             [
              0.5555555555555556,
              "#d8576b"
             ],
             [
              0.6666666666666666,
              "#ed7953"
             ],
             [
              0.7777777777777778,
              "#fb9f3a"
             ],
             [
              0.8888888888888888,
              "#fdca26"
             ],
             [
              1,
              "#f0f921"
             ]
            ],
            "type": "heatmap"
           }
          ],
          "heatmapgl": [
           {
            "colorbar": {
             "outlinewidth": 0,
             "ticks": ""
            },
            "colorscale": [
             [
              0,
              "#0d0887"
             ],
             [
              0.1111111111111111,
              "#46039f"
             ],
             [
              0.2222222222222222,
              "#7201a8"
             ],
             [
              0.3333333333333333,
              "#9c179e"
             ],
             [
              0.4444444444444444,
              "#bd3786"
             ],
             [
              0.5555555555555556,
              "#d8576b"
             ],
             [
              0.6666666666666666,
              "#ed7953"
             ],
             [
              0.7777777777777778,
              "#fb9f3a"
             ],
             [
              0.8888888888888888,
              "#fdca26"
             ],
             [
              1,
              "#f0f921"
             ]
            ],
            "type": "heatmapgl"
           }
          ],
          "histogram": [
           {
            "marker": {
             "colorbar": {
              "outlinewidth": 0,
              "ticks": ""
             }
            },
            "type": "histogram"
           }
          ],
          "histogram2d": [
           {
            "colorbar": {
             "outlinewidth": 0,
             "ticks": ""
            },
            "colorscale": [
             [
              0,
              "#0d0887"
             ],
             [
              0.1111111111111111,
              "#46039f"
             ],
             [
              0.2222222222222222,
              "#7201a8"
             ],
             [
              0.3333333333333333,
              "#9c179e"
             ],
             [
              0.4444444444444444,
              "#bd3786"
             ],
             [
              0.5555555555555556,
              "#d8576b"
             ],
             [
              0.6666666666666666,
              "#ed7953"
             ],
             [
              0.7777777777777778,
              "#fb9f3a"
             ],
             [
              0.8888888888888888,
              "#fdca26"
             ],
             [
              1,
              "#f0f921"
             ]
            ],
            "type": "histogram2d"
           }
          ],
          "histogram2dcontour": [
           {
            "colorbar": {
             "outlinewidth": 0,
             "ticks": ""
            },
            "colorscale": [
             [
              0,
              "#0d0887"
             ],
             [
              0.1111111111111111,
              "#46039f"
             ],
             [
              0.2222222222222222,
              "#7201a8"
             ],
             [
              0.3333333333333333,
              "#9c179e"
             ],
             [
              0.4444444444444444,
              "#bd3786"
             ],
             [
              0.5555555555555556,
              "#d8576b"
             ],
             [
              0.6666666666666666,
              "#ed7953"
             ],
             [
              0.7777777777777778,
              "#fb9f3a"
             ],
             [
              0.8888888888888888,
              "#fdca26"
             ],
             [
              1,
              "#f0f921"
             ]
            ],
            "type": "histogram2dcontour"
           }
          ],
          "mesh3d": [
           {
            "colorbar": {
             "outlinewidth": 0,
             "ticks": ""
            },
            "type": "mesh3d"
           }
          ],
          "parcoords": [
           {
            "line": {
             "colorbar": {
              "outlinewidth": 0,
              "ticks": ""
             }
            },
            "type": "parcoords"
           }
          ],
          "pie": [
           {
            "automargin": true,
            "type": "pie"
           }
          ],
          "scatter": [
           {
            "marker": {
             "colorbar": {
              "outlinewidth": 0,
              "ticks": ""
             }
            },
            "type": "scatter"
           }
          ],
          "scatter3d": [
           {
            "line": {
             "colorbar": {
              "outlinewidth": 0,
              "ticks": ""
             }
            },
            "marker": {
             "colorbar": {
              "outlinewidth": 0,
              "ticks": ""
             }
            },
            "type": "scatter3d"
           }
          ],
          "scattercarpet": [
           {
            "marker": {
             "colorbar": {
              "outlinewidth": 0,
              "ticks": ""
             }
            },
            "type": "scattercarpet"
           }
          ],
          "scattergeo": [
           {
            "marker": {
             "colorbar": {
              "outlinewidth": 0,
              "ticks": ""
             }
            },
            "type": "scattergeo"
           }
          ],
          "scattergl": [
           {
            "marker": {
             "colorbar": {
              "outlinewidth": 0,
              "ticks": ""
             }
            },
            "type": "scattergl"
           }
          ],
          "scattermapbox": [
           {
            "marker": {
             "colorbar": {
              "outlinewidth": 0,
              "ticks": ""
             }
            },
            "type": "scattermapbox"
           }
          ],
          "scatterpolar": [
           {
            "marker": {
             "colorbar": {
              "outlinewidth": 0,
              "ticks": ""
             }
            },
            "type": "scatterpolar"
           }
          ],
          "scatterpolargl": [
           {
            "marker": {
             "colorbar": {
              "outlinewidth": 0,
              "ticks": ""
             }
            },
            "type": "scatterpolargl"
           }
          ],
          "scatterternary": [
           {
            "marker": {
             "colorbar": {
              "outlinewidth": 0,
              "ticks": ""
             }
            },
            "type": "scatterternary"
           }
          ],
          "surface": [
           {
            "colorbar": {
             "outlinewidth": 0,
             "ticks": ""
            },
            "colorscale": [
             [
              0,
              "#0d0887"
             ],
             [
              0.1111111111111111,
              "#46039f"
             ],
             [
              0.2222222222222222,
              "#7201a8"
             ],
             [
              0.3333333333333333,
              "#9c179e"
             ],
             [
              0.4444444444444444,
              "#bd3786"
             ],
             [
              0.5555555555555556,
              "#d8576b"
             ],
             [
              0.6666666666666666,
              "#ed7953"
             ],
             [
              0.7777777777777778,
              "#fb9f3a"
             ],
             [
              0.8888888888888888,
              "#fdca26"
             ],
             [
              1,
              "#f0f921"
             ]
            ],
            "type": "surface"
           }
          ],
          "table": [
           {
            "cells": {
             "fill": {
              "color": "#EBF0F8"
             },
             "line": {
              "color": "white"
             }
            },
            "header": {
             "fill": {
              "color": "#C8D4E3"
             },
             "line": {
              "color": "white"
             }
            },
            "type": "table"
           }
          ]
         },
         "layout": {
          "annotationdefaults": {
           "arrowcolor": "#2a3f5f",
           "arrowhead": 0,
           "arrowwidth": 1
          },
          "autotypenumbers": "strict",
          "coloraxis": {
           "colorbar": {
            "outlinewidth": 0,
            "ticks": ""
           }
          },
          "colorscale": {
           "diverging": [
            [
             0,
             "#8e0152"
            ],
            [
             0.1,
             "#c51b7d"
            ],
            [
             0.2,
             "#de77ae"
            ],
            [
             0.3,
             "#f1b6da"
            ],
            [
             0.4,
             "#fde0ef"
            ],
            [
             0.5,
             "#f7f7f7"
            ],
            [
             0.6,
             "#e6f5d0"
            ],
            [
             0.7,
             "#b8e186"
            ],
            [
             0.8,
             "#7fbc41"
            ],
            [
             0.9,
             "#4d9221"
            ],
            [
             1,
             "#276419"
            ]
           ],
           "sequential": [
            [
             0,
             "#0d0887"
            ],
            [
             0.1111111111111111,
             "#46039f"
            ],
            [
             0.2222222222222222,
             "#7201a8"
            ],
            [
             0.3333333333333333,
             "#9c179e"
            ],
            [
             0.4444444444444444,
             "#bd3786"
            ],
            [
             0.5555555555555556,
             "#d8576b"
            ],
            [
             0.6666666666666666,
             "#ed7953"
            ],
            [
             0.7777777777777778,
             "#fb9f3a"
            ],
            [
             0.8888888888888888,
             "#fdca26"
            ],
            [
             1,
             "#f0f921"
            ]
           ],
           "sequentialminus": [
            [
             0,
             "#0d0887"
            ],
            [
             0.1111111111111111,
             "#46039f"
            ],
            [
             0.2222222222222222,
             "#7201a8"
            ],
            [
             0.3333333333333333,
             "#9c179e"
            ],
            [
             0.4444444444444444,
             "#bd3786"
            ],
            [
             0.5555555555555556,
             "#d8576b"
            ],
            [
             0.6666666666666666,
             "#ed7953"
            ],
            [
             0.7777777777777778,
             "#fb9f3a"
            ],
            [
             0.8888888888888888,
             "#fdca26"
            ],
            [
             1,
             "#f0f921"
            ]
           ]
          },
          "colorway": [
           "#636efa",
           "#EF553B",
           "#00cc96",
           "#ab63fa",
           "#FFA15A",
           "#19d3f3",
           "#FF6692",
           "#B6E880",
           "#FF97FF",
           "#FECB52"
          ],
          "font": {
           "color": "#2a3f5f"
          },
          "geo": {
           "bgcolor": "white",
           "lakecolor": "white",
           "landcolor": "#E5ECF6",
           "showlakes": true,
           "showland": true,
           "subunitcolor": "white"
          },
          "hoverlabel": {
           "align": "left"
          },
          "hovermode": "closest",
          "mapbox": {
           "style": "light"
          },
          "paper_bgcolor": "white",
          "plot_bgcolor": "#E5ECF6",
          "polar": {
           "angularaxis": {
            "gridcolor": "white",
            "linecolor": "white",
            "ticks": ""
           },
           "bgcolor": "#E5ECF6",
           "radialaxis": {
            "gridcolor": "white",
            "linecolor": "white",
            "ticks": ""
           }
          },
          "scene": {
           "xaxis": {
            "backgroundcolor": "#E5ECF6",
            "gridcolor": "white",
            "gridwidth": 2,
            "linecolor": "white",
            "showbackground": true,
            "ticks": "",
            "zerolinecolor": "white"
           },
           "yaxis": {
            "backgroundcolor": "#E5ECF6",
            "gridcolor": "white",
            "gridwidth": 2,
            "linecolor": "white",
            "showbackground": true,
            "ticks": "",
            "zerolinecolor": "white"
           },
           "zaxis": {
            "backgroundcolor": "#E5ECF6",
            "gridcolor": "white",
            "gridwidth": 2,
            "linecolor": "white",
            "showbackground": true,
            "ticks": "",
            "zerolinecolor": "white"
           }
          },
          "shapedefaults": {
           "line": {
            "color": "#2a3f5f"
           }
          },
          "ternary": {
           "aaxis": {
            "gridcolor": "white",
            "linecolor": "white",
            "ticks": ""
           },
           "baxis": {
            "gridcolor": "white",
            "linecolor": "white",
            "ticks": ""
           },
           "bgcolor": "#E5ECF6",
           "caxis": {
            "gridcolor": "white",
            "linecolor": "white",
            "ticks": ""
           }
          },
          "title": {
           "x": 0.05
          },
          "xaxis": {
           "automargin": true,
           "gridcolor": "white",
           "linecolor": "white",
           "ticks": "",
           "title": {
            "standoff": 15
           },
           "zerolinecolor": "white",
           "zerolinewidth": 2
          },
          "yaxis": {
           "automargin": true,
           "gridcolor": "white",
           "linecolor": "white",
           "ticks": "",
           "title": {
            "standoff": 15
           },
           "zerolinecolor": "white",
           "zerolinewidth": 2
          }
         }
        },
        "width": 1080,
        "xaxis": {
         "anchor": "y",
         "categoryarray": [
          1,
          5,
          2,
          4,
          9,
          3,
          39,
          10
         ],
         "categoryorder": "array",
         "domain": [
          0,
          1
         ],
         "title": {
          "text": "Parking"
         }
        },
        "yaxis": {
         "anchor": "x",
         "domain": [
          0,
          1
         ],
         "title": {
          "text": "count"
         }
        }
       }
      }
     },
     "metadata": {}
    }
   ],
   "source": [
    "# Parkings Count: we can see that this is not balanced\n",
    "fig = px.histogram(df1,x='Parking',color='Parking')\n",
    "fig.update_layout(height=420,width=1080)\n",
    "fig.show()"
   ]
  },
  {
   "cell_type": "code",
   "execution_count": 25,
   "metadata": {},
   "outputs": [
    {
     "output_type": "display_data",
     "data": {
      "application/vnd.plotly.v1+json": {
       "config": {
        "plotlyServerURL": "https://plot.ly"
       },
       "data": [
        {
         "hovertemplate": "Parking=%{marker.color}<br>Price=%{y}<extra></extra>",
         "legendgroup": "",
         "marker": {
          "color": [
           1,
           1,
           1,
           1,
           1,
           1,
           1,
           1,
           1,
           1,
           1,
           1,
           1,
           1,
           1,
           1,
           1,
           1,
           1,
           1,
           5,
           2,
           1,
           1,
           1,
           1,
           1,
           1,
           1,
           2,
           1,
           1,
           2,
           2,
           2,
           2,
           2,
           1,
           1,
           1,
           1,
           1,
           2,
           1,
           1,
           1,
           1,
           1,
           1,
           1,
           2,
           1,
           1,
           1,
           1,
           1,
           1,
           1,
           1,
           1,
           1,
           1,
           1,
           2,
           2,
           1,
           1,
           1,
           1,
           1,
           1,
           1,
           1,
           2,
           1,
           1,
           1,
           1,
           1,
           1,
           2,
           2,
           1,
           1,
           2,
           1,
           1,
           1,
           2,
           4,
           2,
           2,
           2,
           1,
           2,
           2,
           2,
           2,
           2,
           2,
           2,
           1,
           1,
           1,
           1,
           1,
           1,
           1,
           1,
           1,
           1,
           1,
           1,
           1,
           1,
           1,
           1,
           1,
           1,
           1,
           1,
           1,
           1,
           1,
           1,
           1,
           1,
           1,
           1,
           1,
           1,
           1,
           1,
           1,
           1,
           1,
           2,
           1,
           1,
           1,
           1,
           1,
           1,
           1,
           1,
           1,
           1,
           1,
           1,
           1,
           1,
           1,
           1,
           1,
           1,
           1,
           1,
           1,
           1,
           1,
           1,
           1,
           1,
           1,
           1,
           1,
           1,
           1,
           1,
           1,
           1,
           1,
           1,
           1,
           1,
           1,
           1,
           1,
           1,
           1,
           1,
           1,
           1,
           1,
           1,
           1,
           1,
           1,
           4,
           1,
           2,
           1,
           1,
           1,
           1,
           2,
           1,
           2,
           1,
           1,
           1,
           1,
           2,
           2,
           9,
           2,
           2,
           2,
           2,
           2,
           3,
           1,
           2,
           2,
           2,
           2,
           2,
           4,
           2,
           2,
           2,
           1,
           3,
           2,
           1,
           2,
           2,
           2,
           2,
           2,
           2,
           1,
           2,
           1,
           3,
           3,
           3,
           3,
           3,
           3,
           2,
           2,
           1,
           1,
           2,
           2,
           1,
           1,
           2,
           2,
           1,
           2,
           1,
           2,
           2,
           2,
           2,
           4,
           1,
           1,
           1,
           1,
           1,
           1,
           1,
           2,
           2,
           1,
           1,
           1,
           1,
           1,
           1,
           1,
           1,
           1,
           1,
           1,
           1,
           1,
           1,
           4,
           1,
           1,
           1,
           1,
           1,
           1,
           1,
           1,
           1,
           1,
           1,
           1,
           1,
           1,
           1,
           1,
           1,
           1,
           1,
           1,
           1,
           1,
           1,
           2,
           2,
           2,
           2,
           1,
           1,
           1,
           1,
           1,
           1,
           1,
           2,
           2,
           2,
           2,
           2,
           2,
           2,
           1,
           1,
           1,
           1,
           1,
           1,
           1,
           1,
           1,
           1,
           1,
           1,
           1,
           1,
           1,
           1,
           1,
           1,
           1,
           1,
           1,
           1,
           1,
           1,
           1,
           1,
           1,
           1,
           1,
           1,
           1,
           1,
           1,
           1,
           1,
           1,
           1,
           1,
           1,
           1,
           1,
           1,
           1,
           1,
           1,
           1,
           1,
           1,
           1,
           3,
           1,
           3,
           1,
           2,
           2,
           2,
           2,
           2,
           2,
           2,
           3,
           3,
           1,
           1,
           1,
           1,
           1,
           1,
           1,
           1,
           1,
           1,
           1,
           1,
           1,
           1,
           2,
           2,
           2,
           2,
           1,
           1,
           1,
           1,
           1,
           2,
           2,
           2,
           3,
           1,
           1,
           1,
           1,
           5,
           2,
           1,
           1,
           1,
           1,
           1,
           1,
           1,
           1,
           1,
           1,
           1,
           1,
           1,
           1,
           1,
           1,
           4,
           1,
           2,
           1,
           1,
           1,
           1,
           2,
           1,
           2,
           1,
           1,
           1,
           1,
           1,
           1,
           1,
           1,
           1,
           1,
           1,
           1,
           1,
           1,
           1,
           1,
           1,
           1,
           1,
           1,
           1,
           1,
           1,
           2,
           1,
           1,
           3,
           4,
           1,
           1,
           3,
           2,
           1,
           2,
           1,
           1,
           1,
           2,
           3,
           1,
           2,
           2,
           1,
           2,
           2,
           2,
           2,
           1,
           1,
           1,
           2,
           2,
           1,
           4,
           3,
           2,
           1,
           2,
           1,
           1,
           1,
           1,
           1,
           1,
           1,
           2,
           1,
           1,
           1,
           1,
           3,
           2,
           1,
           2,
           1,
           2,
           3,
           1,
           3,
           1,
           3,
           1,
           1,
           1,
           1,
           1,
           1,
           2,
           2,
           2,
           2,
           2,
           1,
           1,
           1,
           1,
           1,
           1,
           1,
           1,
           1,
           1,
           1,
           1,
           2,
           1,
           1,
           1,
           1,
           1,
           3,
           3,
           3,
           3,
           2,
           3,
           2,
           2,
           2,
           2,
           2,
           2,
           2,
           2,
           1,
           3,
           3,
           2,
           2,
           3,
           3,
           3,
           2,
           3,
           3,
           3,
           2,
           2,
           2,
           2,
           1,
           1,
           2,
           2,
           2,
           2,
           2,
           2,
           2,
           1,
           1,
           1,
           1,
           1,
           1,
           1,
           1,
           1,
           2,
           1,
           1,
           1,
           2,
           1,
           1,
           1,
           1,
           1,
           1,
           1,
           1,
           1,
           1,
           1,
           1,
           1,
           1,
           1,
           1,
           1,
           1,
           1,
           1,
           1,
           1,
           1,
           1,
           1,
           1,
           1,
           1,
           1,
           1,
           1,
           1,
           1,
           1,
           1,
           2,
           1,
           1,
           1,
           4,
           1,
           1,
           1,
           1,
           1,
           1,
           1,
           1,
           2,
           2,
           2,
           2,
           5,
           5,
           1,
           1,
           1,
           1,
           1,
           1,
           1,
           1,
           1,
           1,
           1,
           1,
           1,
           1,
           1,
           1,
           1,
           1,
           1,
           1,
           1,
           1,
           1,
           1,
           1,
           1,
           1,
           1,
           1,
           1,
           1,
           1,
           1,
           1,
           2,
           2,
           1,
           3,
           3,
           39,
           39,
           39,
           39,
           39,
           39,
           39,
           1,
           1,
           1,
           1,
           1,
           1,
           1,
           1,
           1,
           1,
           1,
           1,
           1,
           1,
           1,
           1,
           1,
           2,
           2,
           2,
           3,
           1,
           2,
           1,
           1,
           1,
           1,
           2,
           3,
           3,
           2,
           2,
           2,
           1,
           1,
           2,
           2,
           2,
           2,
           1,
           2,
           2,
           1,
           2,
           1,
           1,
           1,
           1,
           10,
           2,
           2,
           2,
           1,
           1,
           1,
           1,
           1,
           1,
           1,
           1,
           1,
           1,
           1,
           1,
           1,
           1,
           1,
           1,
           1,
           1,
           2,
           1,
           1,
           1,
           1,
           1,
           2,
           1,
           1,
           2,
           2,
           1,
           1,
           1,
           2,
           1,
           1,
           2,
           2,
           2,
           2,
           1,
           1,
           2,
           1,
           1,
           1,
           1,
           2,
           2,
           2,
           2,
           2,
           1,
           1,
           1,
           1,
           3,
           1,
           1,
           2,
           1,
           1,
           1,
           1,
           1,
           1,
           1,
           1,
           3,
           2,
           2,
           2,
           1,
           1,
           1,
           1,
           1,
           1,
           1,
           1,
           1,
           1,
           1,
           1,
           1,
           2,
           1,
           1,
           2,
           1,
           1,
           1,
           1,
           2,
           2,
           2,
           1,
           1,
           2,
           1,
           2,
           2,
           2,
           2,
           1,
           3,
           3,
           2,
           2,
           2,
           2,
           2,
           1,
           1,
           1,
           1,
           1,
           1,
           1,
           2,
           2,
           2,
           1,
           1,
           1,
           1,
           2,
           2,
           2,
           1,
           2,
           2,
           2,
           2,
           4,
           1,
           1,
           2,
           2,
           1,
           2,
           2,
           2,
           2,
           2,
           2,
           1,
           1,
           1,
           3,
           1,
           1,
           1,
           2,
           1,
           1,
           1,
           1,
           1,
           2,
           1,
           1,
           2,
           2,
           2,
           2,
           2,
           2,
           2,
           1,
           1,
           1,
           1,
           1,
           1,
           1,
           1,
           1,
           1,
           2,
           1,
           1,
           1,
           1,
           2,
           1,
           1,
           1,
           1,
           1,
           1,
           2,
           3,
           2,
           2,
           2,
           2,
           2,
           2,
           2,
           3,
           2,
           2,
           2,
           1,
           2,
           3,
           2,
           2,
           3,
           1,
           1,
           1,
           1,
           2,
           1,
           1,
           2,
           1,
           2,
           3,
           2,
           1,
           1,
           1,
           1,
           1,
           1,
           1,
           5,
           5,
           5,
           1,
           2,
           2,
           2,
           2,
           2,
           2,
           1,
           1,
           1,
           3,
           3,
           3,
           1,
           1
          ],
          "coloraxis": "coloraxis",
          "symbol": "circle"
         },
         "mode": "markers",
         "name": "",
         "showlegend": false,
         "type": "scattergl",
         "x": [
          1,
          1,
          1,
          1,
          1,
          1,
          1,
          1,
          1,
          1,
          1,
          1,
          1,
          1,
          1,
          1,
          1,
          1,
          1,
          1,
          5,
          2,
          1,
          1,
          1,
          1,
          1,
          1,
          1,
          2,
          1,
          1,
          2,
          2,
          2,
          2,
          2,
          1,
          1,
          1,
          1,
          1,
          2,
          1,
          1,
          1,
          1,
          1,
          1,
          1,
          2,
          1,
          1,
          1,
          1,
          1,
          1,
          1,
          1,
          1,
          1,
          1,
          1,
          2,
          2,
          1,
          1,
          1,
          1,
          1,
          1,
          1,
          1,
          2,
          1,
          1,
          1,
          1,
          1,
          1,
          2,
          2,
          1,
          1,
          2,
          1,
          1,
          1,
          2,
          4,
          2,
          2,
          2,
          1,
          2,
          2,
          2,
          2,
          2,
          2,
          2,
          1,
          1,
          1,
          1,
          1,
          1,
          1,
          1,
          1,
          1,
          1,
          1,
          1,
          1,
          1,
          1,
          1,
          1,
          1,
          1,
          1,
          1,
          1,
          1,
          1,
          1,
          1,
          1,
          1,
          1,
          1,
          1,
          1,
          1,
          1,
          2,
          1,
          1,
          1,
          1,
          1,
          1,
          1,
          1,
          1,
          1,
          1,
          1,
          1,
          1,
          1,
          1,
          1,
          1,
          1,
          1,
          1,
          1,
          1,
          1,
          1,
          1,
          1,
          1,
          1,
          1,
          1,
          1,
          1,
          1,
          1,
          1,
          1,
          1,
          1,
          1,
          1,
          1,
          1,
          1,
          1,
          1,
          1,
          1,
          1,
          1,
          1,
          4,
          1,
          2,
          1,
          1,
          1,
          1,
          2,
          1,
          2,
          1,
          1,
          1,
          1,
          2,
          2,
          9,
          2,
          2,
          2,
          2,
          2,
          3,
          1,
          2,
          2,
          2,
          2,
          2,
          4,
          2,
          2,
          2,
          1,
          3,
          2,
          1,
          2,
          2,
          2,
          2,
          2,
          2,
          1,
          2,
          1,
          3,
          3,
          3,
          3,
          3,
          3,
          2,
          2,
          1,
          1,
          2,
          2,
          1,
          1,
          2,
          2,
          1,
          2,
          1,
          2,
          2,
          2,
          2,
          4,
          1,
          1,
          1,
          1,
          1,
          1,
          1,
          2,
          2,
          1,
          1,
          1,
          1,
          1,
          1,
          1,
          1,
          1,
          1,
          1,
          1,
          1,
          1,
          4,
          1,
          1,
          1,
          1,
          1,
          1,
          1,
          1,
          1,
          1,
          1,
          1,
          1,
          1,
          1,
          1,
          1,
          1,
          1,
          1,
          1,
          1,
          1,
          2,
          2,
          2,
          2,
          1,
          1,
          1,
          1,
          1,
          1,
          1,
          2,
          2,
          2,
          2,
          2,
          2,
          2,
          1,
          1,
          1,
          1,
          1,
          1,
          1,
          1,
          1,
          1,
          1,
          1,
          1,
          1,
          1,
          1,
          1,
          1,
          1,
          1,
          1,
          1,
          1,
          1,
          1,
          1,
          1,
          1,
          1,
          1,
          1,
          1,
          1,
          1,
          1,
          1,
          1,
          1,
          1,
          1,
          1,
          1,
          1,
          1,
          1,
          1,
          1,
          1,
          1,
          3,
          1,
          3,
          1,
          2,
          2,
          2,
          2,
          2,
          2,
          2,
          3,
          3,
          1,
          1,
          1,
          1,
          1,
          1,
          1,
          1,
          1,
          1,
          1,
          1,
          1,
          1,
          2,
          2,
          2,
          2,
          1,
          1,
          1,
          1,
          1,
          2,
          2,
          2,
          3,
          1,
          1,
          1,
          1,
          5,
          2,
          1,
          1,
          1,
          1,
          1,
          1,
          1,
          1,
          1,
          1,
          1,
          1,
          1,
          1,
          1,
          1,
          4,
          1,
          2,
          1,
          1,
          1,
          1,
          2,
          1,
          2,
          1,
          1,
          1,
          1,
          1,
          1,
          1,
          1,
          1,
          1,
          1,
          1,
          1,
          1,
          1,
          1,
          1,
          1,
          1,
          1,
          1,
          1,
          1,
          2,
          1,
          1,
          3,
          4,
          1,
          1,
          3,
          2,
          1,
          2,
          1,
          1,
          1,
          2,
          3,
          1,
          2,
          2,
          1,
          2,
          2,
          2,
          2,
          1,
          1,
          1,
          2,
          2,
          1,
          4,
          3,
          2,
          1,
          2,
          1,
          1,
          1,
          1,
          1,
          1,
          1,
          2,
          1,
          1,
          1,
          1,
          3,
          2,
          1,
          2,
          1,
          2,
          3,
          1,
          3,
          1,
          3,
          1,
          1,
          1,
          1,
          1,
          1,
          2,
          2,
          2,
          2,
          2,
          1,
          1,
          1,
          1,
          1,
          1,
          1,
          1,
          1,
          1,
          1,
          1,
          2,
          1,
          1,
          1,
          1,
          1,
          3,
          3,
          3,
          3,
          2,
          3,
          2,
          2,
          2,
          2,
          2,
          2,
          2,
          2,
          1,
          3,
          3,
          2,
          2,
          3,
          3,
          3,
          2,
          3,
          3,
          3,
          2,
          2,
          2,
          2,
          1,
          1,
          2,
          2,
          2,
          2,
          2,
          2,
          2,
          1,
          1,
          1,
          1,
          1,
          1,
          1,
          1,
          1,
          2,
          1,
          1,
          1,
          2,
          1,
          1,
          1,
          1,
          1,
          1,
          1,
          1,
          1,
          1,
          1,
          1,
          1,
          1,
          1,
          1,
          1,
          1,
          1,
          1,
          1,
          1,
          1,
          1,
          1,
          1,
          1,
          1,
          1,
          1,
          1,
          1,
          1,
          1,
          1,
          2,
          1,
          1,
          1,
          4,
          1,
          1,
          1,
          1,
          1,
          1,
          1,
          1,
          2,
          2,
          2,
          2,
          5,
          5,
          1,
          1,
          1,
          1,
          1,
          1,
          1,
          1,
          1,
          1,
          1,
          1,
          1,
          1,
          1,
          1,
          1,
          1,
          1,
          1,
          1,
          1,
          1,
          1,
          1,
          1,
          1,
          1,
          1,
          1,
          1,
          1,
          1,
          1,
          2,
          2,
          1,
          3,
          3,
          39,
          39,
          39,
          39,
          39,
          39,
          39,
          1,
          1,
          1,
          1,
          1,
          1,
          1,
          1,
          1,
          1,
          1,
          1,
          1,
          1,
          1,
          1,
          1,
          2,
          2,
          2,
          3,
          1,
          2,
          1,
          1,
          1,
          1,
          2,
          3,
          3,
          2,
          2,
          2,
          1,
          1,
          2,
          2,
          2,
          2,
          1,
          2,
          2,
          1,
          2,
          1,
          1,
          1,
          1,
          10,
          2,
          2,
          2,
          1,
          1,
          1,
          1,
          1,
          1,
          1,
          1,
          1,
          1,
          1,
          1,
          1,
          1,
          1,
          1,
          1,
          1,
          2,
          1,
          1,
          1,
          1,
          1,
          2,
          1,
          1,
          2,
          2,
          1,
          1,
          1,
          2,
          1,
          1,
          2,
          2,
          2,
          2,
          1,
          1,
          2,
          1,
          1,
          1,
          1,
          2,
          2,
          2,
          2,
          2,
          1,
          1,
          1,
          1,
          3,
          1,
          1,
          2,
          1,
          1,
          1,
          1,
          1,
          1,
          1,
          1,
          3,
          2,
          2,
          2,
          1,
          1,
          1,
          1,
          1,
          1,
          1,
          1,
          1,
          1,
          1,
          1,
          1,
          2,
          1,
          1,
          2,
          1,
          1,
          1,
          1,
          2,
          2,
          2,
          1,
          1,
          2,
          1,
          2,
          2,
          2,
          2,
          1,
          3,
          3,
          2,
          2,
          2,
          2,
          2,
          1,
          1,
          1,
          1,
          1,
          1,
          1,
          2,
          2,
          2,
          1,
          1,
          1,
          1,
          2,
          2,
          2,
          1,
          2,
          2,
          2,
          2,
          4,
          1,
          1,
          2,
          2,
          1,
          2,
          2,
          2,
          2,
          2,
          2,
          1,
          1,
          1,
          3,
          1,
          1,
          1,
          2,
          1,
          1,
          1,
          1,
          1,
          2,
          1,
          1,
          2,
          2,
          2,
          2,
          2,
          2,
          2,
          1,
          1,
          1,
          1,
          1,
          1,
          1,
          1,
          1,
          1,
          2,
          1,
          1,
          1,
          1,
          2,
          1,
          1,
          1,
          1,
          1,
          1,
          2,
          3,
          2,
          2,
          2,
          2,
          2,
          2,
          2,
          3,
          2,
          2,
          2,
          1,
          2,
          3,
          2,
          2,
          3,
          1,
          1,
          1,
          1,
          2,
          1,
          1,
          2,
          1,
          2,
          3,
          2,
          1,
          1,
          1,
          1,
          1,
          1,
          1,
          5,
          5,
          5,
          1,
          2,
          2,
          2,
          2,
          2,
          2,
          1,
          1,
          1,
          3,
          3,
          3,
          1,
          1
         ],
         "xaxis": "x",
         "y": [
          5000000,
          15500000,
          4200000,
          6200000,
          15500000,
          10000000,
          4000000,
          6800000,
          15000000,
          6200000,
          7700000,
          5500000,
          5000000,
          3310000,
          4700000,
          4500000,
          17000000,
          25000000,
          6000000,
          11000000,
          4500000,
          5300000,
          10500000,
          12000000,
          7000000,
          7000000,
          3400000,
          5000000,
          21000000,
          13000000,
          22000000,
          15800000,
          57500000,
          10000000,
          30000000,
          22000000,
          24000000,
          31500000,
          14600000,
          240000000,
          8300000,
          22500000,
          1900000,
          5130000,
          5890000,
          3700000,
          17400000,
          15500000,
          2400000,
          17200000,
          14200000,
          13500000,
          30000000,
          21000000,
          20500000,
          24000000,
          16500000,
          14900000,
          19200000,
          14500000,
          15600000,
          11400000,
          31500000,
          15800000,
          16000000,
          14500000,
          10500000,
          14800000,
          1850000,
          6800000,
          14200000,
          40000000,
          46000000,
          55000000,
          24500000,
          24500000,
          32500000,
          20000000,
          240000000,
          20000000,
          19000000,
          26000000,
          21000000,
          27500000,
          32500000,
          45000000,
          21000000,
          28000000,
          29500000,
          12500000,
          26000000,
          11500000,
          14600000,
          25500000,
          31000000,
          22000000,
          13400000,
          35000000,
          11000000,
          6300000,
          12500000,
          14500000,
          22500000,
          15500000,
          26000000,
          15800000,
          15000000,
          13000000,
          15000000,
          25000000,
          16500000,
          10300000,
          26000000,
          11000000,
          28500000,
          11000000,
          3600000,
          4300000,
          4000000,
          1650000,
          2000000,
          3000000,
          1400000,
          2000000,
          2000000,
          2000000,
          2600000,
          5100000,
          6000000,
          4000000,
          6200000,
          3500000,
          7600000,
          13500000,
          12500000,
          6500000,
          22000000,
          6000000,
          7300000,
          7600000,
          20000000,
          15000000,
          6200000,
          6200000,
          5000000,
          4700000,
          5500000,
          2000000,
          7300000,
          13000000,
          11500000,
          2800000,
          2200000,
          4400000,
          13500000,
          4100000,
          12000000,
          3500000,
          15000000,
          17500000,
          1900000,
          5500000,
          10000000,
          4700000,
          2400000,
          3800000,
          23000000,
          24500000,
          10000000,
          5500000,
          7000000,
          6500000,
          135000000,
          5000000,
          93000000,
          4370000,
          4620000,
          1900000,
          70000000,
          5130000,
          3000000,
          5890000,
          3300000,
          24900000,
          3700000,
          60000000,
          17400000,
          51000000,
          170000000,
          5510000,
          25000000,
          57000000,
          2940000,
          15500000,
          17200000,
          55000000,
          15000000,
          51000000,
          13000000,
          30000000,
          2400000,
          5500000,
          60000000,
          65000000,
          220000000,
          60000000,
          38500000,
          50000000,
          75000000,
          70000000,
          160000000,
          85000000,
          40000000,
          90000000,
          56000000,
          135500000,
          60000000,
          170000000,
          50000000,
          58000000,
          37500000,
          45000000,
          70000000,
          29500000,
          60000000,
          70000000,
          50000000,
          75000000,
          52500000,
          55000000,
          120000000,
          70000000,
          47500000,
          40000000,
          85000000,
          26000000,
          35000000,
          20000000,
          79000000,
          17000000,
          47500000,
          43000000,
          26000000,
          25000000,
          51000000,
          40000000,
          22500000,
          70000000,
          45000000,
          51100000,
          25500000,
          26500000,
          15000000,
          55000000,
          26000000,
          38000000,
          72500000,
          65000000,
          9300000,
          2700000,
          6500000,
          5800000,
          5500000,
          6000000,
          4500000,
          4100000,
          3800000,
          3300000,
          2900000,
          2000000,
          1550000,
          11300000,
          4500000,
          3300000,
          11500000,
          6000000,
          9000000,
          4500000,
          14000000,
          7300000,
          1900000,
          7000000,
          2700000,
          6500000,
          4000000,
          3000000,
          5000000,
          6000000,
          2500000,
          6500000,
          8000000,
          2700000,
          4500000,
          5700000,
          25000000,
          70000000,
          26500000,
          18500000,
          30000000,
          22000000,
          9000000,
          65000000,
          22500000,
          8700000,
          22000000,
          18500000,
          16000000,
          16000000,
          9000000,
          4500000,
          4000000,
          2600000,
          3500000,
          7500000,
          7000000,
          4500000,
          5500000,
          2700000,
          2400000,
          11500000,
          3600000,
          1700000,
          2500000,
          6600000,
          3700000,
          3500000,
          5400000,
          2550000,
          12500000,
          5600000,
          7000000,
          3500000,
          35000000,
          9000000,
          2300000,
          6000000,
          6000000,
          4370000,
          4620000,
          3000000,
          3300000,
          5510000,
          3200000,
          2600000,
          4000000,
          1850000,
          1700000,
          2800000,
          2150000,
          6800000,
          6200000,
          3100000,
          3400000,
          4000000,
          4800000,
          2500000,
          2000000,
          1900000,
          5800000,
          2900000,
          2000000,
          2600000,
          2900000,
          3200000,
          5400000,
          3800000,
          135000000,
          93000000,
          8200000,
          8000000,
          9500000,
          20000000,
          7400000,
          37500000,
          15000000,
          55300000,
          26500000,
          16000000,
          10400000,
          1700000,
          8000000,
          27000000,
          19500000,
          50000000,
          21100000,
          57000000,
          5900000,
          12000000,
          12000000,
          24000000,
          7000000,
          15000000,
          1500000,
          3950000,
          12500000,
          1600000,
          31000000,
          7400000,
          15500000,
          12000000,
          23500000,
          25000000,
          7000000,
          17500000,
          25000000,
          29000000,
          21900000,
          7500000,
          23500000,
          24000000,
          31000000,
          16500000,
          5000000,
          24000000,
          17000000,
          40000000,
          22500000,
          20000000,
          135000000,
          5000000,
          93000000,
          4370000,
          4620000,
          1900000,
          70000000,
          5130000,
          3000000,
          5890000,
          3300000,
          24900000,
          3700000,
          60000000,
          17400000,
          51000000,
          170000000,
          5510000,
          25000000,
          57000000,
          2940000,
          15500000,
          17200000,
          55000000,
          15000000,
          51000000,
          13000000,
          30000000,
          2400000,
          5500000,
          29000000,
          41000000,
          6000000,
          2500000,
          2200000,
          21500000,
          15000000,
          28900000,
          5500000,
          1950000,
          3800000,
          6200000,
          14000000,
          7500000,
          2670000,
          2500000,
          4000000,
          3500000,
          5000000,
          29500000,
          19000000,
          25500000,
          75000000,
          75000000,
          34000000,
          47500000,
          75000000,
          23000000,
          24000000,
          21500000,
          28500000,
          12500000,
          45000000,
          30500000,
          22500000,
          28000000,
          25000000,
          33700000,
          27000000,
          43500000,
          29000000,
          30000000,
          52100000,
          32500000,
          20500000,
          25000000,
          30000000,
          51000000,
          31000000,
          37500000,
          55000000,
          87500000,
          16300000,
          65000000,
          25000000,
          38000000,
          15000000,
          2000000,
          3000000,
          8500000,
          55000000,
          22500000,
          72500000,
          160000000,
          12500000,
          17000000,
          82500000,
          55000000,
          35000000,
          42500000,
          4700000,
          52500000,
          80000000,
          11000000,
          74000000,
          37500000,
          52500000,
          26500000,
          8770000,
          4500000,
          8500000,
          8600000,
          42500000,
          13100000,
          7000000,
          30000000,
          13000000,
          23100000,
          16000000,
          12500000,
          24500000,
          3200000,
          6300000,
          15000000,
          5700000,
          21000000,
          7500000,
          6500000,
          27500000,
          12000000,
          18000000,
          10700000,
          16200000,
          16500000,
          14900000,
          27500000,
          70000000,
          35500000,
          42100000,
          42500000,
          44000000,
          43200000,
          52500000,
          34300000,
          38000000,
          52500000,
          37500000,
          37000000,
          40000000,
          36200000,
          29000000,
          42500000,
          60000000,
          36500000,
          42500000,
          71500000,
          65000000,
          58000000,
          27500000,
          70000000,
          65000000,
          28600000,
          39000000,
          32500000,
          34000000,
          20000000,
          18000000,
          19000000,
          36500000,
          15000000,
          17500000,
          14000000,
          21000000,
          15600000,
          19000000,
          16500000,
          19000000,
          16500000,
          3000000,
          15000000,
          14300000,
          18500000,
          19000000,
          19000000,
          12000000,
          20000000,
          13500000,
          14000000,
          10800000,
          2350000,
          8500000,
          1650000,
          10000000,
          1500000,
          2800000,
          2600000,
          2350000,
          2350000,
          2000000,
          5000000,
          3500000,
          4500000,
          4000000,
          10800000,
          10000000,
          10800000,
          9000000,
          8500000,
          6000000,
          5500000,
          7000000,
          6000000,
          3700000,
          3100000,
          4500000,
          1500000,
          3000000,
          4900000,
          3500000,
          3000000,
          7020000,
          60000000,
          3500000,
          7000000,
          7000000,
          4500000,
          5990000,
          4400000,
          2500000,
          1600000,
          6500000,
          2800000,
          4500000,
          1800000,
          8500000,
          8500000,
          1700000,
          7000000,
          5600000,
          13500000,
          8500000,
          6000000,
          7200000,
          6500000,
          8400000,
          8500000,
          4000000,
          1700000,
          6000000,
          1600000,
          2100000,
          1700000,
          1500000,
          1200000,
          1650000,
          3500000,
          8500000,
          3200000,
          3790000,
          4200000,
          2900000,
          5000000,
          2100000,
          3200000,
          3000000,
          2300000,
          5900000,
          5500000,
          3500000,
          1700000,
          1850000,
          2300000,
          3800000,
          4500000,
          2200000,
          5200000,
          2200000,
          2200000,
          3800000,
          1800000,
          2850000,
          2500000,
          3500000,
          2000000,
          3000000,
          2000000,
          3500000,
          1800000,
          1600000,
          1600000,
          2000000,
          1500000,
          3000000,
          1490000,
          3500000,
          4000000,
          1750000,
          4600000,
          1800000,
          1900000,
          1000000,
          1000000,
          1000000,
          3500000,
          5000000,
          2200000,
          67000000,
          8500000,
          11500000,
          52500000,
          12000000,
          10700000,
          9000000,
          100000000,
          6200000,
          17000000,
          12500000,
          13000000,
          4200000,
          36000000,
          2300000,
          8100000,
          10000000,
          62500000,
          65000000,
          20000000,
          57500000,
          30000000,
          30000000,
          30000000,
          6900000,
          3600000,
          13500000,
          9200000,
          2500000,
          17000000,
          9030000,
          9300000,
          6500000,
          3300000,
          2400000,
          15000000,
          7000000,
          4200000,
          5800000,
          4800000,
          7500000,
          3000000,
          4300000,
          2600000,
          7000000,
          6000000,
          6700000,
          9500000,
          17000000,
          14000000,
          11600000,
          12000000,
          7500000,
          9800000,
          12000000,
          12500000,
          16500000,
          12000000,
          7200000,
          15000000,
          10000000,
          11000000,
          24700000,
          24900000,
          3600000,
          1700000,
          11000000,
          75000000,
          24800000,
          24900000,
          24900000,
          25900000,
          11700000,
          13500000,
          5500000,
          30000000,
          4950000,
          16000000,
          30000000,
          41000000,
          3800000,
          68900000,
          1800000,
          1500000,
          12500000,
          1600000,
          2400000,
          7000000,
          3100000,
          14500000,
          61500000,
          27500000,
          25500000,
          25000000,
          18500000,
          39700000,
          6800000,
          6540000,
          22000000,
          25500000,
          17000000,
          27500000,
          73700000,
          52300000,
          16000000,
          15000000,
          25500000,
          10000000,
          5000000,
          20000000,
          16000000,
          5500000,
          7000000,
          4100000,
          24000000,
          12500000,
          3900000,
          14500000,
          20000000,
          24500000,
          20900000,
          43100000,
          40000000,
          20000000,
          6700000,
          16000000,
          8000000,
          25000000,
          25000000,
          37500000,
          25000000,
          23000000,
          17500000,
          44000000,
          15000000,
          42500000,
          5000000,
          38000000,
          19000000,
          43500000,
          19500000,
          14200000,
          14200000,
          13500000,
          19000000,
          7000000,
          5800000,
          8000000,
          18800000,
          6000000,
          2200000,
          6500000,
          23500000,
          16000000,
          20000000,
          5500000,
          13500000,
          22500000,
          3800000,
          4600000,
          17500000,
          5500000,
          22500000,
          12500000,
          19000000,
          15500000,
          13500000,
          21000000,
          35000000,
          25000000,
          29000000,
          80000000,
          20500000,
          52500000,
          37500000,
          7500000,
          32500000,
          24500000,
          65000000,
          27500000,
          115000000,
          28000000,
          8000000,
          75100000,
          7800000,
          15000000,
          27500000,
          25000000,
          26000000,
          23500000,
          4200000,
          10000000,
          18500000,
          20000000,
          18000000,
          19000000,
          36500000,
          15000000,
          17500000,
          14000000,
          21000000,
          15600000,
          19000000,
          16500000,
          19000000,
          16500000,
          3000000,
          15000000,
          14300000,
          18500000,
          19000000,
          19000000,
          8000000,
          16100000,
          6800000,
          6800000,
          9000000,
          18000000,
          27500000,
          13500000,
          14000000,
          9000000,
          16000000,
          11000000,
          5500000,
          43500000,
          180000000,
          80000000,
          37500000,
          60000000,
          71000000,
          18500000,
          70000000,
          85000000,
          190000000,
          135000000,
          35000000,
          65000000,
          27500000,
          45000000,
          100000000,
          47000000,
          27500000,
          70000000,
          36500000,
          65000000,
          35000000,
          56000000,
          110000000,
          24000000,
          102500000,
          100000000,
          45000000,
          33500000,
          62500000,
          47500000,
          14700000,
          18000000,
          22500000,
          22000000,
          22200000,
          22500000,
          7500000,
          30000000,
          6500000,
          35000000,
          17500000,
          60000000,
          40000000,
          11500000,
          22500000,
          28500000,
          29000000,
          15500000,
          26000000,
          16500000,
          55000000,
          12500000,
          17500000,
          11500000,
          18500000
         ],
         "yaxis": "y"
        }
       ],
       "layout": {
        "coloraxis": {
         "colorbar": {
          "title": {
           "text": "Parking"
          }
         },
         "colorscale": [
          [
           0,
           "#0d0887"
          ],
          [
           0.1111111111111111,
           "#46039f"
          ],
          [
           0.2222222222222222,
           "#7201a8"
          ],
          [
           0.3333333333333333,
           "#9c179e"
          ],
          [
           0.4444444444444444,
           "#bd3786"
          ],
          [
           0.5555555555555556,
           "#d8576b"
          ],
          [
           0.6666666666666666,
           "#ed7953"
          ],
          [
           0.7777777777777778,
           "#fb9f3a"
          ],
          [
           0.8888888888888888,
           "#fdca26"
          ],
          [
           1,
           "#f0f921"
          ]
         ]
        },
        "height": 420,
        "legend": {
         "tracegroupgap": 0
        },
        "margin": {
         "t": 60
        },
        "template": {
         "data": {
          "bar": [
           {
            "error_x": {
             "color": "#2a3f5f"
            },
            "error_y": {
             "color": "#2a3f5f"
            },
            "marker": {
             "line": {
              "color": "#E5ECF6",
              "width": 0.5
             }
            },
            "type": "bar"
           }
          ],
          "barpolar": [
           {
            "marker": {
             "line": {
              "color": "#E5ECF6",
              "width": 0.5
             }
            },
            "type": "barpolar"
           }
          ],
          "carpet": [
           {
            "aaxis": {
             "endlinecolor": "#2a3f5f",
             "gridcolor": "white",
             "linecolor": "white",
             "minorgridcolor": "white",
             "startlinecolor": "#2a3f5f"
            },
            "baxis": {
             "endlinecolor": "#2a3f5f",
             "gridcolor": "white",
             "linecolor": "white",
             "minorgridcolor": "white",
             "startlinecolor": "#2a3f5f"
            },
            "type": "carpet"
           }
          ],
          "choropleth": [
           {
            "colorbar": {
             "outlinewidth": 0,
             "ticks": ""
            },
            "type": "choropleth"
           }
          ],
          "contour": [
           {
            "colorbar": {
             "outlinewidth": 0,
             "ticks": ""
            },
            "colorscale": [
             [
              0,
              "#0d0887"
             ],
             [
              0.1111111111111111,
              "#46039f"
             ],
             [
              0.2222222222222222,
              "#7201a8"
             ],
             [
              0.3333333333333333,
              "#9c179e"
             ],
             [
              0.4444444444444444,
              "#bd3786"
             ],
             [
              0.5555555555555556,
              "#d8576b"
             ],
             [
              0.6666666666666666,
              "#ed7953"
             ],
             [
              0.7777777777777778,
              "#fb9f3a"
             ],
             [
              0.8888888888888888,
              "#fdca26"
             ],
             [
              1,
              "#f0f921"
             ]
            ],
            "type": "contour"
           }
          ],
          "contourcarpet": [
           {
            "colorbar": {
             "outlinewidth": 0,
             "ticks": ""
            },
            "type": "contourcarpet"
           }
          ],
          "heatmap": [
           {
            "colorbar": {
             "outlinewidth": 0,
             "ticks": ""
            },
            "colorscale": [
             [
              0,
              "#0d0887"
             ],
             [
              0.1111111111111111,
              "#46039f"
             ],
             [
              0.2222222222222222,
              "#7201a8"
             ],
             [
              0.3333333333333333,
              "#9c179e"
             ],
             [
              0.4444444444444444,
              "#bd3786"
             ],
             [
              0.5555555555555556,
              "#d8576b"
             ],
             [
              0.6666666666666666,
              "#ed7953"
             ],
             [
              0.7777777777777778,
              "#fb9f3a"
             ],
             [
              0.8888888888888888,
              "#fdca26"
             ],
             [
              1,
              "#f0f921"
             ]
            ],
            "type": "heatmap"
           }
          ],
          "heatmapgl": [
           {
            "colorbar": {
             "outlinewidth": 0,
             "ticks": ""
            },
            "colorscale": [
             [
              0,
              "#0d0887"
             ],
             [
              0.1111111111111111,
              "#46039f"
             ],
             [
              0.2222222222222222,
              "#7201a8"
             ],
             [
              0.3333333333333333,
              "#9c179e"
             ],
             [
              0.4444444444444444,
              "#bd3786"
             ],
             [
              0.5555555555555556,
              "#d8576b"
             ],
             [
              0.6666666666666666,
              "#ed7953"
             ],
             [
              0.7777777777777778,
              "#fb9f3a"
             ],
             [
              0.8888888888888888,
              "#fdca26"
             ],
             [
              1,
              "#f0f921"
             ]
            ],
            "type": "heatmapgl"
           }
          ],
          "histogram": [
           {
            "marker": {
             "colorbar": {
              "outlinewidth": 0,
              "ticks": ""
             }
            },
            "type": "histogram"
           }
          ],
          "histogram2d": [
           {
            "colorbar": {
             "outlinewidth": 0,
             "ticks": ""
            },
            "colorscale": [
             [
              0,
              "#0d0887"
             ],
             [
              0.1111111111111111,
              "#46039f"
             ],
             [
              0.2222222222222222,
              "#7201a8"
             ],
             [
              0.3333333333333333,
              "#9c179e"
             ],
             [
              0.4444444444444444,
              "#bd3786"
             ],
             [
              0.5555555555555556,
              "#d8576b"
             ],
             [
              0.6666666666666666,
              "#ed7953"
             ],
             [
              0.7777777777777778,
              "#fb9f3a"
             ],
             [
              0.8888888888888888,
              "#fdca26"
             ],
             [
              1,
              "#f0f921"
             ]
            ],
            "type": "histogram2d"
           }
          ],
          "histogram2dcontour": [
           {
            "colorbar": {
             "outlinewidth": 0,
             "ticks": ""
            },
            "colorscale": [
             [
              0,
              "#0d0887"
             ],
             [
              0.1111111111111111,
              "#46039f"
             ],
             [
              0.2222222222222222,
              "#7201a8"
             ],
             [
              0.3333333333333333,
              "#9c179e"
             ],
             [
              0.4444444444444444,
              "#bd3786"
             ],
             [
              0.5555555555555556,
              "#d8576b"
             ],
             [
              0.6666666666666666,
              "#ed7953"
             ],
             [
              0.7777777777777778,
              "#fb9f3a"
             ],
             [
              0.8888888888888888,
              "#fdca26"
             ],
             [
              1,
              "#f0f921"
             ]
            ],
            "type": "histogram2dcontour"
           }
          ],
          "mesh3d": [
           {
            "colorbar": {
             "outlinewidth": 0,
             "ticks": ""
            },
            "type": "mesh3d"
           }
          ],
          "parcoords": [
           {
            "line": {
             "colorbar": {
              "outlinewidth": 0,
              "ticks": ""
             }
            },
            "type": "parcoords"
           }
          ],
          "pie": [
           {
            "automargin": true,
            "type": "pie"
           }
          ],
          "scatter": [
           {
            "marker": {
             "colorbar": {
              "outlinewidth": 0,
              "ticks": ""
             }
            },
            "type": "scatter"
           }
          ],
          "scatter3d": [
           {
            "line": {
             "colorbar": {
              "outlinewidth": 0,
              "ticks": ""
             }
            },
            "marker": {
             "colorbar": {
              "outlinewidth": 0,
              "ticks": ""
             }
            },
            "type": "scatter3d"
           }
          ],
          "scattercarpet": [
           {
            "marker": {
             "colorbar": {
              "outlinewidth": 0,
              "ticks": ""
             }
            },
            "type": "scattercarpet"
           }
          ],
          "scattergeo": [
           {
            "marker": {
             "colorbar": {
              "outlinewidth": 0,
              "ticks": ""
             }
            },
            "type": "scattergeo"
           }
          ],
          "scattergl": [
           {
            "marker": {
             "colorbar": {
              "outlinewidth": 0,
              "ticks": ""
             }
            },
            "type": "scattergl"
           }
          ],
          "scattermapbox": [
           {
            "marker": {
             "colorbar": {
              "outlinewidth": 0,
              "ticks": ""
             }
            },
            "type": "scattermapbox"
           }
          ],
          "scatterpolar": [
           {
            "marker": {
             "colorbar": {
              "outlinewidth": 0,
              "ticks": ""
             }
            },
            "type": "scatterpolar"
           }
          ],
          "scatterpolargl": [
           {
            "marker": {
             "colorbar": {
              "outlinewidth": 0,
              "ticks": ""
             }
            },
            "type": "scatterpolargl"
           }
          ],
          "scatterternary": [
           {
            "marker": {
             "colorbar": {
              "outlinewidth": 0,
              "ticks": ""
             }
            },
            "type": "scatterternary"
           }
          ],
          "surface": [
           {
            "colorbar": {
             "outlinewidth": 0,
             "ticks": ""
            },
            "colorscale": [
             [
              0,
              "#0d0887"
             ],
             [
              0.1111111111111111,
              "#46039f"
             ],
             [
              0.2222222222222222,
              "#7201a8"
             ],
             [
              0.3333333333333333,
              "#9c179e"
             ],
             [
              0.4444444444444444,
              "#bd3786"
             ],
             [
              0.5555555555555556,
              "#d8576b"
             ],
             [
              0.6666666666666666,
              "#ed7953"
             ],
             [
              0.7777777777777778,
              "#fb9f3a"
             ],
             [
              0.8888888888888888,
              "#fdca26"
             ],
             [
              1,
              "#f0f921"
             ]
            ],
            "type": "surface"
           }
          ],
          "table": [
           {
            "cells": {
             "fill": {
              "color": "#EBF0F8"
             },
             "line": {
              "color": "white"
             }
            },
            "header": {
             "fill": {
              "color": "#C8D4E3"
             },
             "line": {
              "color": "white"
             }
            },
            "type": "table"
           }
          ]
         },
         "layout": {
          "annotationdefaults": {
           "arrowcolor": "#2a3f5f",
           "arrowhead": 0,
           "arrowwidth": 1
          },
          "autotypenumbers": "strict",
          "coloraxis": {
           "colorbar": {
            "outlinewidth": 0,
            "ticks": ""
           }
          },
          "colorscale": {
           "diverging": [
            [
             0,
             "#8e0152"
            ],
            [
             0.1,
             "#c51b7d"
            ],
            [
             0.2,
             "#de77ae"
            ],
            [
             0.3,
             "#f1b6da"
            ],
            [
             0.4,
             "#fde0ef"
            ],
            [
             0.5,
             "#f7f7f7"
            ],
            [
             0.6,
             "#e6f5d0"
            ],
            [
             0.7,
             "#b8e186"
            ],
            [
             0.8,
             "#7fbc41"
            ],
            [
             0.9,
             "#4d9221"
            ],
            [
             1,
             "#276419"
            ]
           ],
           "sequential": [
            [
             0,
             "#0d0887"
            ],
            [
             0.1111111111111111,
             "#46039f"
            ],
            [
             0.2222222222222222,
             "#7201a8"
            ],
            [
             0.3333333333333333,
             "#9c179e"
            ],
            [
             0.4444444444444444,
             "#bd3786"
            ],
            [
             0.5555555555555556,
             "#d8576b"
            ],
            [
             0.6666666666666666,
             "#ed7953"
            ],
            [
             0.7777777777777778,
             "#fb9f3a"
            ],
            [
             0.8888888888888888,
             "#fdca26"
            ],
            [
             1,
             "#f0f921"
            ]
           ],
           "sequentialminus": [
            [
             0,
             "#0d0887"
            ],
            [
             0.1111111111111111,
             "#46039f"
            ],
            [
             0.2222222222222222,
             "#7201a8"
            ],
            [
             0.3333333333333333,
             "#9c179e"
            ],
            [
             0.4444444444444444,
             "#bd3786"
            ],
            [
             0.5555555555555556,
             "#d8576b"
            ],
            [
             0.6666666666666666,
             "#ed7953"
            ],
            [
             0.7777777777777778,
             "#fb9f3a"
            ],
            [
             0.8888888888888888,
             "#fdca26"
            ],
            [
             1,
             "#f0f921"
            ]
           ]
          },
          "colorway": [
           "#636efa",
           "#EF553B",
           "#00cc96",
           "#ab63fa",
           "#FFA15A",
           "#19d3f3",
           "#FF6692",
           "#B6E880",
           "#FF97FF",
           "#FECB52"
          ],
          "font": {
           "color": "#2a3f5f"
          },
          "geo": {
           "bgcolor": "white",
           "lakecolor": "white",
           "landcolor": "#E5ECF6",
           "showlakes": true,
           "showland": true,
           "subunitcolor": "white"
          },
          "hoverlabel": {
           "align": "left"
          },
          "hovermode": "closest",
          "mapbox": {
           "style": "light"
          },
          "paper_bgcolor": "white",
          "plot_bgcolor": "#E5ECF6",
          "polar": {
           "angularaxis": {
            "gridcolor": "white",
            "linecolor": "white",
            "ticks": ""
           },
           "bgcolor": "#E5ECF6",
           "radialaxis": {
            "gridcolor": "white",
            "linecolor": "white",
            "ticks": ""
           }
          },
          "scene": {
           "xaxis": {
            "backgroundcolor": "#E5ECF6",
            "gridcolor": "white",
            "gridwidth": 2,
            "linecolor": "white",
            "showbackground": true,
            "ticks": "",
            "zerolinecolor": "white"
           },
           "yaxis": {
            "backgroundcolor": "#E5ECF6",
            "gridcolor": "white",
            "gridwidth": 2,
            "linecolor": "white",
            "showbackground": true,
            "ticks": "",
            "zerolinecolor": "white"
           },
           "zaxis": {
            "backgroundcolor": "#E5ECF6",
            "gridcolor": "white",
            "gridwidth": 2,
            "linecolor": "white",
            "showbackground": true,
            "ticks": "",
            "zerolinecolor": "white"
           }
          },
          "shapedefaults": {
           "line": {
            "color": "#2a3f5f"
           }
          },
          "ternary": {
           "aaxis": {
            "gridcolor": "white",
            "linecolor": "white",
            "ticks": ""
           },
           "baxis": {
            "gridcolor": "white",
            "linecolor": "white",
            "ticks": ""
           },
           "bgcolor": "#E5ECF6",
           "caxis": {
            "gridcolor": "white",
            "linecolor": "white",
            "ticks": ""
           }
          },
          "title": {
           "x": 0.05
          },
          "xaxis": {
           "automargin": true,
           "gridcolor": "white",
           "linecolor": "white",
           "ticks": "",
           "title": {
            "standoff": 15
           },
           "zerolinecolor": "white",
           "zerolinewidth": 2
          },
          "yaxis": {
           "automargin": true,
           "gridcolor": "white",
           "linecolor": "white",
           "ticks": "",
           "title": {
            "standoff": 15
           },
           "zerolinecolor": "white",
           "zerolinewidth": 2
          }
         }
        },
        "width": 1080,
        "xaxis": {
         "anchor": "y",
         "domain": [
          0,
          1
         ],
         "title": {
          "text": "Parking"
         }
        },
        "yaxis": {
         "anchor": "x",
         "domain": [
          0,
          1
         ],
         "title": {
          "text": "Price"
         }
        }
       }
      }
     },
     "metadata": {}
    }
   ],
   "source": [
    "# Parkings VS Price \n",
    "fig = px.scatter(df1,x='Parking',y='Price',\n",
    "                color='Parking')\n",
    "fig.update_layout(height=420,width=1080)\n",
    "fig.show()"
   ]
  },
  {
   "source": [
    "## As we saw in many case that \n",
    "a. Our data is not distributed uniformally.<br>\n",
    "b. Outliers are present. <br><br>\n",
    "So we need to make is normally distributed for better model accuracy we can use : <br>\n",
    "**we try to remove from 1st Business understanding**<br>\n",
    "1. IQR <br>\n",
    "2. Z-score"
   ],
   "cell_type": "markdown",
   "metadata": {}
  },
  {
   "cell_type": "code",
   "execution_count": 26,
   "metadata": {},
   "outputs": [
    {
     "output_type": "execute_result",
     "data": {
      "text/plain": [
       "     Area  BHK  Bathroom      Furnishing  \\\n",
       "1   750.0    2       2.0  Semi-Furnished   \n",
       "2   950.0    2       2.0       Furnished   \n",
       "3   600.0    2       2.0  Semi-Furnished   \n",
       "4   650.0    2       2.0  Semi-Furnished   \n",
       "5  1300.0    4       3.0  Semi-Furnished   \n",
       "\n",
       "                                            Locality  Parking         Status  \\\n",
       "1             J R Designers Floors, Rohini Sector 24      1.0  Ready_to_move   \n",
       "2                Citizen Apartment, Rohini Sector 13      1.0  Ready_to_move   \n",
       "3                                   Rohini Sector 24      1.0  Ready_to_move   \n",
       "4  Rohini Sector 24 carpet area 650 sqft status R...      1.0  Ready_to_move   \n",
       "5                                   Rohini Sector 24      1.0  Ready_to_move   \n",
       "\n",
       "    Transaction           Type     Price  \n",
       "1  New_Property      Apartment   5000000  \n",
       "2        Resale      Apartment  15500000  \n",
       "3        Resale  Builder_Floor   4200000  \n",
       "4  New_Property  Builder_Floor   6200000  \n",
       "5  New_Property  Builder_Floor  15500000  "
      ],
      "text/html": "<div>\n<style scoped>\n    .dataframe tbody tr th:only-of-type {\n        vertical-align: middle;\n    }\n\n    .dataframe tbody tr th {\n        vertical-align: top;\n    }\n\n    .dataframe thead th {\n        text-align: right;\n    }\n</style>\n<table border=\"1\" class=\"dataframe\">\n  <thead>\n    <tr style=\"text-align: right;\">\n      <th></th>\n      <th>Area</th>\n      <th>BHK</th>\n      <th>Bathroom</th>\n      <th>Furnishing</th>\n      <th>Locality</th>\n      <th>Parking</th>\n      <th>Status</th>\n      <th>Transaction</th>\n      <th>Type</th>\n      <th>Price</th>\n    </tr>\n  </thead>\n  <tbody>\n    <tr>\n      <th>1</th>\n      <td>750.0</td>\n      <td>2</td>\n      <td>2.0</td>\n      <td>Semi-Furnished</td>\n      <td>J R Designers Floors, Rohini Sector 24</td>\n      <td>1.0</td>\n      <td>Ready_to_move</td>\n      <td>New_Property</td>\n      <td>Apartment</td>\n      <td>5000000</td>\n    </tr>\n    <tr>\n      <th>2</th>\n      <td>950.0</td>\n      <td>2</td>\n      <td>2.0</td>\n      <td>Furnished</td>\n      <td>Citizen Apartment, Rohini Sector 13</td>\n      <td>1.0</td>\n      <td>Ready_to_move</td>\n      <td>Resale</td>\n      <td>Apartment</td>\n      <td>15500000</td>\n    </tr>\n    <tr>\n      <th>3</th>\n      <td>600.0</td>\n      <td>2</td>\n      <td>2.0</td>\n      <td>Semi-Furnished</td>\n      <td>Rohini Sector 24</td>\n      <td>1.0</td>\n      <td>Ready_to_move</td>\n      <td>Resale</td>\n      <td>Builder_Floor</td>\n      <td>4200000</td>\n    </tr>\n    <tr>\n      <th>4</th>\n      <td>650.0</td>\n      <td>2</td>\n      <td>2.0</td>\n      <td>Semi-Furnished</td>\n      <td>Rohini Sector 24 carpet area 650 sqft status R...</td>\n      <td>1.0</td>\n      <td>Ready_to_move</td>\n      <td>New_Property</td>\n      <td>Builder_Floor</td>\n      <td>6200000</td>\n    </tr>\n    <tr>\n      <th>5</th>\n      <td>1300.0</td>\n      <td>4</td>\n      <td>3.0</td>\n      <td>Semi-Furnished</td>\n      <td>Rohini Sector 24</td>\n      <td>1.0</td>\n      <td>Ready_to_move</td>\n      <td>New_Property</td>\n      <td>Builder_Floor</td>\n      <td>15500000</td>\n    </tr>\n  </tbody>\n</table>\n</div>"
     },
     "metadata": {},
     "execution_count": 26
    }
   ],
   "source": [
    "df2.head()"
   ]
  },
  {
   "cell_type": "code",
   "execution_count": 27,
   "metadata": {},
   "outputs": [
    {
     "output_type": "execute_result",
     "data": {
      "text/plain": [
       "Area           float64\n",
       "BHK              int64\n",
       "Bathroom       float64\n",
       "Furnishing      object\n",
       "Locality        object\n",
       "Parking        float64\n",
       "Status          object\n",
       "Transaction     object\n",
       "Type            object\n",
       "Price            int64\n",
       "dtype: object"
      ]
     },
     "metadata": {},
     "execution_count": 27
    }
   ],
   "source": [
    "df2.dtypes"
   ]
  },
  {
   "cell_type": "code",
   "execution_count": 28,
   "metadata": {},
   "outputs": [
    {
     "output_type": "display_data",
     "data": {
      "application/vnd.plotly.v1+json": {
       "config": {
        "plotlyServerURL": "https://plot.ly"
       },
       "data": [
        {
         "hovertemplate": "Locality=%{x}<br>Price=%{y}<extra></extra>",
         "legendgroup": "",
         "marker": {
          "color": "#636efa",
          "symbol": "circle"
         },
         "mode": "markers",
         "name": "",
         "showlegend": false,
         "type": "scattergl",
         "x": [
          "J R Designers Floors, Rohini Sector 24",
          "Citizen Apartment, Rohini Sector 13",
          "Rohini Sector 24",
          "Rohini Sector 24 carpet area 650 sqft status Ready to Move floor 4 out of 4 floors transaction New Property furnishing Semi-Furnished facing East overlooking Garden/Park, Main Road car parking 1 Open bathroom 2 balcony 1 ownership Freehold Newly Constructed Property Newly Constructed Property East Facing Property 2BHK Newly build property for Sale. A House is waiting for a Friendly Family to make it a lovely home.So please come and make his house feel alive once again. read more Contact Agent View Phone No. Share Feedback Garima properties Certified Agent Trusted by Users Genuine Listings Market Knowledge",
          "Rohini Sector 24",
          "Rohini Sector 24",
          "Delhi Homes, Rohini Sector 24",
          "Rohini Sector 21",
          "Rohini Sector 22",
          "Rohini Sector 20",
          "Rohini Sector 25",
          "Rohini Sector 24",
          "Rohini Sector 24",
          "Rohini Sector 8 How Auctions work? The borrower has the physical possession of the Property. However the lender (Bank) can legally sell the Property. super area 32 sqm status Ready to Move floor 1 transaction Resale furnishing Semi-Furnished Contact Now Enquire Now Auction By",
          "Rohini Sector 25 carpet area 660 sqft status Ready to Move floor 2 out of 4 floors transaction New Property furnishing Semi-Furnished facing North overlooking Garden/Park, Main Road car parking 1 Open bathroom 2 balcony 1 ownership Freehold Newly Constructed Property Newly Constructed Property Near by Ryan international school 2BHK Located on the Ground Floor of a four story building with open parking the flat measure 720 Sq Ft the property is located in a green and plush sector with common parks opposite every lane and bus and auto stand nearby. its situated 1.5 km from the metro station and walkable distance from shopping distance from shopping complex. read more Contact Agent View Phone No. Share Feedback Know your Certified Agent CRISIL Rating No of Employees 9 Kulwant & Company Certified Agent Trusted by Users Genuine Listings 5500+ Buyers Served",
          "Rohini Sector 22",
          "Rohini Sector 16",
          "Rohini Sector 14",
          "Rohini Sector 24",
          "Mayur Apartment, Rohini Sector 9",
          "Vijay Vihar, Rohini",
          "Rohini Sector 18 carpet area 40 sqm status Ready to Move floor 2 out of 4 floors transaction Resale furnishing Furnished facing East overlooking Main Road car parking 2 Open bathroom 1 balcony 1 ownership Freehold East Facing Property It an LIG three side corner flat in second floor, having full scope of expansion. interior decorated with 2 textured wall , kajaria tiles , fully modular kitchen, branded bathroom and toilet fittings, LED panel, ac in one bedroom, false ceiling in entire flat.south facing unobstructed view balcony. It was all renovated only 2.5 yrs back so every thing is in brand new condition. read more Contact Owner View Phone No. Share Feedback Owner Pramod",
          "Prashant Vihar, Rohini",
          "Rohini Sector 5",
          "Rohini Sector 20",
          "Rohini Sector 25",
          "Sanskriti Apartment, Rohini Sector 28",
          "Rohini Sector 25",
          "Rohini Sector 19",
          "Amar Colony, Lajpat Nagar",
          "Vikram Vihar, Lajpat Nagar",
          "Lajpat Nagar 2",
          "Lajpat Nagar 3",
          "Lajpat Nagar 1",
          "Lajpat Nagar 3",
          "Vikram Vihar, Lajpat Nagar",
          "Vikram Vihar, Lajpat Nagar",
          "Lajpat Nagar 3",
          "Lajpat Nagar 2",
          "Lajpat Nagar",
          "Lajpat Nagar 1",
          "Vikram Vihar, Lajpat Nagar",
          "Siddhartha Heights, Dwarka Sector 24",
          "MTNL Employees House Welfare Society, Dwarka Sector 24",
          "Delhi Homes Yojana, Dwarka Sector 24",
          "The Elite Spire, Dwarka Sector 21",
          "Kunj Vihar Apartment, Dwarka Sector 12",
          "Ashirwad Apartments, Dwarka Sector 12",
          "MTNL Employees House Welfare Society, Dwarka Sector 24",
          "Sunny Valley Apartments, Dwarka",
          "Shri Agrasen Apartment, Dwarka Sector 7",
          "Chopra Apartment, Dwarka Sector 23",
          "Mohinder Apartments, Dwarka Sector 12",
          "Chander Lok Apartment, Dwarka Sector 19",
          "Neelachal, Dwarka Sector 5",
          "Dwarka",
          "MeeraBai Apartment, Dwarka Sector 5",
          "Crescent Apartments, Dwarka Sector 18",
          "Ashoka Enclave Apartment, Dwarka Sector 11",
          "Nav Kairali Apartment, Dwarka Sector 3",
          "Ashirwad Apartments, Dwarka",
          "Indraprastha Apartment, Dwarka Sector 12",
          "Mohinder Apartments, Dwarka",
          "Ashoka Apartments, Dwarka Sector 12",
          "Karuna Vihar Apartment, Dwarka",
          "Nav Kairali Apartment, Dwarka Sector 3",
          "LNT Apartments, Dwarka",
          "Dwarka Sector 4",
          "Dwarka Sector 3 carpet area 400 sqft status Ready to Move floor 1 out of 4 floors transaction New Property furnishing Semi-Furnished facing West overlooking Main Road bathroom 1 balcony 1 ownership Freehold Newly Constructed Property 1BHK freehold property , reserved parking, ample space for visitor parking, bathrooms with modern facilities, complete light in all room, wooden wardrobes in bedrooms, separate electric & water meter connection, separate water tank at roof, electronic door lock system with intercom facility, wall to wall POP work, fall ceiling work in all rooms, royal paint work in all rooms, 24X7 running water, branded electric fittings, modular kitchen with electronic chimney, marble vitrified tile flooring, near to metro station, well connected to main road ect. 80 to 90 home loan available. Ready to move read more Contact Agent View Phone No. Share Feedback Agent S.B. Associates 4000+ Buyers Served",
          "Dwarka Sector 16B",
          "Chopra Apartment, Dwarka Sector 23",
          "Lajpat Nagar 3",
          "Lajpat Nagar 3",
          "Lajpat Nagar 3",
          "Lajpat Nagar 3",
          "Lajpat Nagar 3",
          "Lajpat Nagar 3",
          "Lajpat Nagar 3",
          "Lajpat Nagar",
          "Lajpat Nagar 3",
          "Lajpat Nagar 3",
          "Lajpat Nagar 3",
          "Lajpat Nagar 3",
          "Lajpat Nagar 3",
          "Lajpat Nagar 3",
          "Lajpat Nagar 3",
          "Lajpat Nagar 3",
          "Lajpat Nagar 3",
          "Lajpat Nagar 3",
          "Lajpat Nagar 2",
          "Lajpat Nagar 2",
          "Vinoba Puri, Lajpat Nagar",
          "Lajpat Nagar 2",
          "Lajpat Nagar 2",
          "Lajpat Nagar 2",
          "Lajpat Nagar 2",
          "Lajpat Nagar 2",
          "Lajpat Nagar 2",
          "Lajpat Nagar 2",
          "Vinoba Puri, Lajpat Nagar",
          "Lajpat Nagar 2",
          "Lajpat Nagar 2",
          "Lajpat Nagar 2",
          "Lajpat Nagar 2",
          "Lajpat Nagar 2",
          "Lajpat Nagar 2",
          "Lajpat Nagar 2",
          "Lajpat Nagar 2",
          "Lajpat Nagar 2",
          "Lajpat Nagar 2",
          "Lajpat Nagar 2",
          "Lajpat Nagar 2",
          "Lajpat Nagar 2",
          "Lajpat Nagar 2",
          "Lajpat Nagar 2",
          "Lajpat Nagar 2",
          "Budh Vihar super area 50 sqyrd status Ready to Move floor Ground out of 2 floors transaction Resale furnishing Unfurnished facing East car parking 1 Open bathroom 1 balcony 2 ownership Freehold For Sale 2 BHK 50 yrd, 2 side open Ground Floor, First and Second Floor in H Block, Gali No. 04, Near Laxmi Narain Mandir, BudhVihar read more Contact Agent View Phone No. Share Feedback Agent Sahyog Properties 1000+ Buyers Served",
          "Budh Vihar Phase 1",
          "Budh Vihar",
          "Budh Vihar Phase 1",
          "Budh Vihar",
          "Budh Vihar",
          "Budh Vihar Phase 1",
          "Budh Vihar Phase 1",
          "Budh Vihar Phase 1",
          "Budh Vihar",
          "Budh Vihar",
          "Budh Vihar Phase 1",
          "Budh Vihar Phase 2",
          "Budh Vihar",
          "Budh Vihar Phase 2",
          "Budh Vihar Phase 1",
          "Saptrishi Apartment, Rohini Sector 23",
          "Rohini Sector 24",
          "Rohini Sector 24",
          "Rohini Sector 23",
          "Rohini Sector 23",
          "Rohini Sector 23",
          "Rohini Sector 23",
          "Rohini Sector 23",
          "Rohini Sector 23",
          "Rohini Sector 22",
          "Rohini Sector 20",
          "Rohini Sector 20",
          "J R Designers Floors, Rohini Sector 24",
          "J R Designers Floors, Rohini Sector 24",
          "J R Designers Floors, Rohini Sector 24",
          "J R Designers Floors, Rohini Sector 24",
          "J R Designers Floors, Rohini Sector 24",
          "J R Designers Floors, Rohini Sector 24",
          "J R Designers Floors, Rohini Sector 24",
          "J R Designers Floors, Rohini Sector 24",
          "J R Designers Floors, Rohini Sector 24",
          "J R Designers Floors, Rohini Sector 24",
          "J R Designers Floors, Rohini Sector 24",
          "J R Designers Floors, Rohini Sector 24",
          "J R Designers Floors, Rohini Sector 24",
          "J R Designers Floors, Rohini Sector 24",
          "J R Designers Floors, Rohini Sector 24",
          "J R Designers Floors, Rohini Sector 24",
          "J R Designers Floors, Rohini Sector 24",
          "J R Designers Floors, Rohini Sector 24",
          "J R Designers Floors, Rohini Sector 24",
          "J R Designers Floors, Rohini Sector 24",
          "J R Designers Floors, Rohini Sector 24",
          "J R Designers Floors, Rohini Sector 24",
          "J R Designers Floors, Rohini Sector 24",
          "J R Designers Floors, Rohini Sector 24",
          "J R Designers Floors, Rohini Sector 24",
          "J R Designers Floors, Rohini Sector 24",
          "J R Designers Floors, Rohini Sector 24",
          "J R Designers Floors, Rohini Sector 24",
          "The Leela Sky Villas, Patel Nagar",
          "J R Designers Floors, Rohini Sector 24",
          "The Leela Sky Villas, Patel Nagar",
          "Uttam Nagar Floors, Uttam Nagar",
          "Virat Residency, Dwarka Mor",
          "Siddhartha Heights, Dwarka Sector 24",
          "Find Homes, Greater Kailash 2",
          "MTNL Employees House Welfare Society, Dwarka Sector 24",
          "Adarsh Homes, Dwarka Mor",
          "Delhi Homes Yojana, Dwarka Sector 24",
          "Kushwaha Homes, Uttam Nagar",
          "Godrej South Estate, Okhla",
          "The Elite Spire, Dwarka Sector 21",
          "APL Builder Floor, Greater Kailash 1",
          "Kunj Vihar Apartment, Dwarka Sector 12",
          "Janakpuri Block A3",
          "Greater Kailash 2",
          "Partap Homes, Bhagwati Vihar, Uttam Nagar",
          "The Amaryllis, Karol Bagh",
          "The Leela Sky Villas, Patel Nagar",
          "Diamond Heights Multi Estate, Najafgarh",
          "Ashirwad Apartments, Dwarka Sector 12",
          "Sunny Valley Apartments, Dwarka",
          "Vasant Vihar Builder Floor, Vasant Vihar",
          "Vasant Kunj",
          "Greater Kailash 1",
          "Rohini Sector 24",
          "Greater Kailash 1",
          "Khanpur, Madangir",
          "Batla House, Okhla",
          "New Friends Colony",
          "New Friends Colony",
          "Maharani Bagh, New Friends Colony",
          "New Friends Colony carpet area 4300 sqft status Ready to Move floor 2 out of 3 floors transaction Resale furnishing Unfurnished facing North - East overlooking Garden/Park, Main Road car parking 2 Covered, 2 Open bathroom 4 balcony 3 ownership Freehold hurry up... dont waste time any where, It is best deal in your pocket budget.well maintained second floor with terrace garden plus 2 additional room on terrace up for sale in new friends colony.the property has 4 king sized bedroom attached bathroom with roof top shower with Jacuzzi. It has 3 big balconies with wonderful outer view. It has modular kitchen with new fittings. It has servant quarter pooja room study room store room etc. It has drawing & dining. It has 2 car parking with gated society. It has 247 hours water supply with full power backup. It is in amazing location. read more Contact Agent View Phone No. Share Feedback Crisil Silver Agent Sagar Home Developers Pvt. Ltd. 1000+ Buyers Served",
          "Friends Colony East, New Friends Colony",
          "Maharani Bagh, New Friends Colony",
          "New Friends Colony",
          "Friends Colony West, New Friends Colony",
          "Maharani Bagh, New Friends Colony",
          "Maharani Bagh, New Friends Colony",
          "New Friends Colony",
          "New Friends Colony",
          "New Friends Colony",
          "Friends Colony East, New Friends Colony",
          "New Friends Colony",
          "Maharani Bagh, New Friends Colony",
          "Kalindi Colony, Maharani Bagh, New Friends Colony",
          "New Friends Colony",
          "Friends Colony East, New Friends Colony",
          "Maharani Bagh, New Friends Colony",
          "New Friends Colony",
          "Taimoor Enclave, New Friends Colony carpet area 2800 sqft status Ready to Move floor 2 out of 3 floors transaction Resale furnishing Semi-Furnished facing East overlooking Garden/Park society Taimoor Enclave car parking 2 Covered, 1 Open bathroom 4 balcony 2 ownership Freehold Two floor of the house is available for sale SECOND AND THIRD FLOOR EXTRA made, provision for LIFT can be provided by the OWNER .DDA FLATS of TAIMOOR ENCLAVE, NEAR GURUDWARA, NEW FRIENDS COLONY, SOUTH DELHI , HOUSE IS ON THE SECOND FLOOR have 3 bed room and 2 wash room and and same on the Third Floor, URGENT SALE, BROKER EXCUSE. read more Contact Agent View Phone No. Share Feedback Agent Delhi Homes 100+ Buyers Served",
          "New Friends Colony",
          "New Friends Colony",
          "New Friends Colony",
          "New Friends Colony",
          "New Friends Colony Floors, New Friends Colony",
          "New Friends Colony",
          "Maharani Bagh, New Friends Colony",
          "Kailash Colony, Greater Kailash",
          "Kailash Colony, Greater Kailash",
          "Kailash Colony, Greater Kailash",
          "Kailash Colony, Greater Kailash",
          "Kailash Colony, Greater Kailash",
          "Kailash Colony, Greater Kailash",
          "Kailash Colony, Greater Kailash",
          "Kailash Colony, Greater Kailash",
          "Kailash Colony, Greater Kailash",
          "Kailash Colony, Greater Kailash",
          "Kailash Colony, Greater Kailash",
          "Kailash Colony, Greater Kailash",
          "Kailash Colony, Greater Kailash",
          "Kailash Colony, Greater Kailash",
          "Kailash Colony, Greater Kailash",
          "Kailash Colony, Greater Kailash",
          "Kailash Colony, Greater Kailash",
          "Kailash Colony, Greater Kailash",
          "Kailash Colony, Greater Kailash",
          "Kailash Colony, Greater Kailash",
          "Kailash Colony, Greater Kailash",
          "Kailash Colony, Greater Kailash",
          "Kailash Colony, Greater Kailash",
          "Kailash Colony, Greater Kailash",
          "Kailash Colony, Greater Kailash",
          "Kailash Colony, Greater Kailash",
          "Kailash Colony, Greater Kailash",
          "Naveen Shahdara, Shahdara",
          "Shahdara",
          "Vishwas Nagar, Shahdara",
          "DDA RPS Flats, Mansarowar Park, Shahdara",
          "Shahdara",
          "Yamuna Vihar, Shahdara",
          "Balbir Nagar, Shahdara",
          "Shahdara",
          "Ram Nagar, Shahdara",
          "Shahdara",
          "Rohtash Nagar, Shahdara",
          "Ram Nagar Extension, Shahdara",
          "Maujpur, Shahdara",
          "Mansarowar Park, Shahdara",
          "Gorakh Park West, Shahdara",
          "Shivnam Apartment, Shahdara",
          "Mansarowar Park, Shahdara",
          "Ram Nagar Extension, Shahdara",
          "Hans Apartments, Vishwas Nagar, Shahdara",
          "Jyoti Colony, Shahdara",
          "Shahdara",
          "Ahinsha Vatika, Ram Nagar, Shahdara",
          "Shahdara",
          "Naveen Shahdara, Shahdara",
          "Yamuna Vihar, Shahdara",
          "Yamuna Vihar, Shahdara",
          "Yamuna Vihar, Shahdara",
          "Yamuna Vihar, Shahdara",
          "Yamuna Vihar, Shahdara",
          "Yamuna Vihar, Shahdara",
          "Yamuna Vihar, Shahdara",
          "Yamuna Vihar, Shahdara",
          "Yamuna Vihar, Shahdara",
          "Yamuna Vihar, Shahdara",
          "Yamuna Vihar, Shahdara",
          "Yamuna Vihar, Shahdara",
          "Yamuna Vihar, Shahdara",
          "Yamuna Vihar, Shahdara",
          "Yamuna Vihar, Shahdara",
          "Yamuna Vihar, Shahdara",
          "Yamuna Vihar, Shahdara",
          "Yamuna Vihar, Shahdara",
          "mind. The space is airy, is well located and can be easily customized as per the needs. Prime facilities are easily accessible from this place with Government Girls Senior Secondary School No 2 (0 km ). Other key neighbourhood are B Block Market (0 km ). read more Contact Owner View Phone No. Share Feedback Owner vinod kumar",
          "Yamuna Vihar, Shahdara",
          "Yamuna Vihar, Shahdara",
          "Yamuna Vihar, Shahdara",
          "Yamuna Vihar, Shahdara",
          "Yamuna Vihar, Shahdara",
          "Yamuna Vihar, Shahdara",
          "Yamuna Vihar, Shahdara",
          "Yamuna Vihar, Shahdara",
          "Jyoti Colony, Shahdara",
          "Laxmi Nagar",
          "Laxmi Nagar",
          "Laxmi Nagar",
          "Laxmi Nagar",
          "Laxmi Nagar",
          "Laxmi Nagar",
          "Laxmi Nagar",
          "Laxmi Nagar",
          "Laxmi Nagar",
          "Laxmi Nagar",
          "Guru Angad Nagar West, Laxmi Nagar",
          "Guru Angad Nagar West, Laxmi Nagar",
          "Lalita Park, Laxmi Nagar",
          "Laxmi Nagar",
          "Laxmi Nagar",
          "Krishan Kunj, Laxmi Nagar",
          "Lalita Park, Laxmi Nagar",
          "Laxmi Nagar super area 450 sqft status Ready to Move floor 3 out of 4 floors transaction New Property furnishing Semi-Furnished facing East overlooking Main Road bathroom 2 balcony 1 ownership Freehold Newly Constructed Property East Facing Property This Builder Floor Apartment at 3rd faces East & overlooks Main Road offering a beautiful view from the house. with airy interiors. The type of ownership is Freehold. The Builder Floor Apartment is newly constructed. Bank loans available from LIC Housing Finance, Kotak Mahindra Bank, Indiabulls. Flooring of type Marble covers maximum part of the house. The location has easy access to, Dena Bank (0 km ), Delhi Convent School (0 km ), DDA Market (0 km ) and Nirman Vihar Metro Station (2 km ). read more Contact Owner View Phone No. Share Feedback Owner Sonia",
          "Laxmi Nagar carpet area 1000 sqft status Ready to Move floor 1 out of 4 floors transaction Resale furnishing Furnished bathroom 3 balcony 1 It's a 1st floor Builder Floor Apartment in a building of total 4 floors. The age of construction for this Builder Floor Apartment is between 10 to 15 years. The location has easy access to, Dena Bank (0 km ), Delhi Convent School (0 km ), DDA Market (0 km ) and Nirman Vihar Metro Station (2 km ). read more Contact Owner View Phone No. Share Feedback Owner Vipul Jain",
          "Laxmi Nagar",
          "Laxmi Nagar",
          "Laxmi Nagar",
          "Bank Enclave, Laxmi Nagar",
          "Laxmi Nagar",
          "Guru Angad Nagar West, Laxmi Nagar",
          "Laxmi Nagar",
          "Laxmi Nagar",
          "Uttam Nagar Floors, Uttam Nagar",
          "Virat Residency, Dwarka Mor",
          "Adarsh Homes, Dwarka Mor",
          "Kushwaha Homes, Uttam Nagar",
          "Partap Homes, Bhagwati Vihar, Uttam Nagar",
          "Dwarka Mor",
          "Uttam Nagar West",
          "Uttam Nagar",
          "Uttam Nagar West",
          "Uttam Nagar",
          "SB Residency, Dwarka Mor",
          "Uttam Nagar West",
          "SB Residency, Dwarka Mor",
          "Uttam Nagar",
          "Uttam Nagar",
          "Dwarka Mor",
          "Kiran Garden, Uttam Nagar",
          "Mohan Garden, Razapur Khurd",
          "Uttam Nagar",
          "Uttam Nagar",
          "Uttam Nagar West",
          "Mitya Homes, Dwarka Mor",
          "Dwarka Mor",
          "Uttam Nagar West",
          "Uttam Nagar carpet area 550 sqft status Ready to Move transaction New Property furnishing Semi-Furnished facing East overlooking Main Road bathroom 2 balcony 1 ownership Freehold Newly Constructed Property Newly Constructed Property East Facing Property 2bhk fully furnished flats available for sale at uttam nagar, the flat is fully loaded, one singal wall texture in all bedrooms, modular kitchen, LED pannel in drawing room, wardrobes in bedroom read more Contact Agent View Phone No. Share Feedback Pranita Developers Pvt. Ltd. Certified Agent Trusted by Users Genuine Listings 100+ Buyers Served",
          "Uttam Nagar",
          "Uttam Nagar",
          "New Uttam Nagar, Uttam Nagar",
          "Dwarka Mor",
          "The Leela Sky Villas, Patel Nagar",
          "The Leela Sky Villas, Patel Nagar",
          "Patel Nagar South, Patel Nagar",
          "Patel Nagar West",
          "Patel Nagar West",
          "Patel Nagar West",
          "Patel Nagar West",
          "Patel Nagar East, Patel Nagar",
          "Patel Nagar West",
          "The Leela Sky Villas, Patel Nagar",
          "Patel Nagar East, Patel Nagar",
          "Patel Nagar East, Patel Nagar",
          "Patel Nagar West",
          "Patel Nagar West",
          "Patel Nagar West",
          "Patel Nagar East, Patel Nagar",
          "Patel Nagar West",
          "Patel Nagar East, Patel Nagar",
          "Patel Nagar West",
          "The Leela Sky Villas, Patel Nagar",
          "Patel Nagar West",
          "Punjabi Basti, Patel Nagar",
          "Patel Nagar West",
          "Patel Nagar West",
          "Patel Nagar East, Patel Nagar",
          "Patel Nagar East, Patel Nagar",
          "Baljit Nagar, Patel Nagar",
          "Patel Nagar West",
          "Patel Nagar West",
          "Baljit Nagar, Patel Nagar",
          "DDA Flats Vasant Kunj, Vasant Kunj",
          "DDA Flats Sector E Pocket 1, Vasant Kunj",
          "Vasant Kunj",
          "DDA Flats Sector E Pocket 1, Vasant Kunj",
          "DDA Flats Vasant Kunj, Vasant Kunj Sector D",
          "Vasant Kunj Sector A",
          "E2 Vasant Kunj, Vasant Kunj",
          "DDA Flats Vasant Kunj, Vasant Kunj",
          "Ganga Apartment Sector D Pocket 6, Vasant Kunj",
          "Vasant Kunj Sector C",
          "DDA Flats Sector E Pocket 1, Vasant Kunj",
          "Vasant Kunj Sector D",
          "DDA Flats Vasant Kunj, Vasant Kunj Sector C",
          "Vasant Kunj Sector C",
          "Vasant Kunj",
          "Vasant Kunj",
          "Kishangarh, Vasant Kunj",
          "DDA Pocket 1, Vasant Kunj Sector D",
          "Ganga Apartment Sector D Pocket 6, Vasant Kunj",
          "Vasant Kunj Sector B",
          "Vasant Kunj",
          "Vasant Kunj",
          "The Leela Sky Villas, Patel Nagar",
          "J R Designers Floors, Rohini Sector 24",
          "The Leela Sky Villas, Patel Nagar",
          "Uttam Nagar Floors, Uttam Nagar",
          "Virat Residency, Dwarka Mor",
          "Siddhartha Heights, Dwarka Sector 24",
          "Find Homes, Greater Kailash 2",
          "MTNL Employees House Welfare Society, Dwarka Sector 24",
          "Adarsh Homes, Dwarka Mor",
          "Delhi Homes Yojana, Dwarka Sector 24",
          "Kushwaha Homes, Uttam Nagar",
          "Godrej South Estate, Okhla",
          "The Elite Spire, Dwarka Sector 21",
          "APL Builder Floor, Greater Kailash 1",
          "Kunj Vihar Apartment, Dwarka Sector 12",
          "Janakpuri Block A3",
          "Greater Kailash 2",
          "Partap Homes, Bhagwati Vihar, Uttam Nagar",
          "The Amaryllis, Karol Bagh",
          "The Leela Sky Villas, Patel Nagar",
          "Diamond Heights Multi Estate, Najafgarh",
          "Ashirwad Apartments, Dwarka Sector 12",
          "Sunny Valley Apartments, Dwarka",
          "Vasant Vihar Builder Floor, Vasant Vihar",
          "Vasant Kunj",
          "Greater Kailash 1",
          "Rohini Sector 24",
          "Greater Kailash 1",
          "Khanpur, Madangir",
          "Batla House, Okhla",
          "Vasant Kunj Sector C",
          "Sukhdev Vihar, Okhla",
          "Geeta Colony",
          "Krishna Nagar Block A",
          "Geeta Colony",
          "Taj Enclave, Khairatabad",
          "Shastri Park, Shahdara",
          "Geeta Colony",
          "Geeta Colony",
          "Shastri Park, Shahdara",
          "Geeta Colony",
          "Sitaram Bazar, Chandni Chowk",
          "Shahdara",
          "Laxmi Nagar",
          "Shahdara How Auctions work? The borrower has the physical possession of the Property. However the lender (Bank) can legally sell the Property. super area 852 sqft status Ready to Move transaction Resale ownership Freehold bathroom 2 Contact Now Enquire Now Auction By",
          "Shahdara",
          "Laxmi Nagar",
          "Laxmi Nagar",
          "Laxmi Nagar",
          "Saket",
          "Anupam Enclave, Saket",
          "Saket",
          "Saket",
          "Saket",
          "RWA Flats, Saket",
          "Saket",
          "Metrotech Builder Floors, Saket",
          "Saket Court Residential Complex, Saket",
          "Press Enclave Society, Saket",
          "RWA Flats, Saket",
          "Saket",
          "Project Paryavaran Complex, Saket",
          "Saket",
          "Saket",
          "Saket",
          "Press Enclave Society, Saket",
          "Saket",
          "Saket",
          "Saket",
          "Saket",
          "RWA Flats, Saket",
          "Saket",
          "Saket",
          "Saket",
          "Saket",
          "Saket",
          "Saket",
          "Saket",
          "Saket",
          "Safdarjung Enclave",
          "Safdarjung Enclave",
          "Safdarjung Enclave",
          "Safdarjung Enclave",
          "Safdarjung Enclave",
          "Safdarjung Enclave carpet area 1100 sqft status Ready to Move floor Ground out of 4 floors transaction Resale furnishing Unfurnished facing North - East overlooking Garden/Park, Main Road car parking 1 Covered, 1 Open bathroom 3 balcony 3 ownership Freehold if you are searching for your dream house, congratulation. you're not so far from your destiny. we got unbeatable ground floor in b-block safdarjung enclave for sale. it is in 150 yds. It has 3 large king sized bedroom attached bathroom with Jacuzzi and roof top shower with all other fittings. it has modular kitchen with all needed facility. it has 3 big balcony with amazing out side view. it has 1 servant quarter also. it has 1 reserved car parking with gated society. It has 24*7 water supply with full power backup. for more information contact us at once because it can be your dream house. read more Contact Agent View Phone No. Share Feedback Crisil Silver Agent Sagar Home Developers Pvt. Ltd. 1000+ Buyers Served",
          "Safdarjung Enclave",
          "Safdarjung Enclave",
          "Arjun Nagar, Safdarjung Enclave",
          "Arjun Nagar, Safdarjung Enclave",
          "Krishna Nagar-Safdarjung Enclave",
          "Safdarjung Enclave carpet area 3250 sqft status Ready to Move floor 1 out of 4 floors transaction Resale furnishing Semi-Furnished facing North - East overlooking Garden/Park, Main Road car parking 1 Covered bathroom 4 balcony 3 ownership Freehold Near Buy Green park Metro station. The location of the property is Awesome and Peaceful. The construction is very Highend and Very tasteful Done-up. The Same property is location on the FF. 4 Side corner read more Contact Agent Enquire Now Share Feedback Crisil Silver Agent Findahouse Real Estate Consultants LLP 2000+ Buyers Served",
          "Safdarjung Enclave",
          "Safdarjung Enclave",
          "Safdarjung Enclave",
          "Krishna Nagar-Safdarjung Enclave",
          "Safdarjung Enclave",
          "Safdarjung Enclave",
          "Safdarjung Enclave",
          "Safdarjung Enclave",
          "Safdarjung Enclave carpet area 290 sqyrd status Ready to Move floor 2 out of 3 floors transaction Resale furnishing Semi-Furnished facing West overlooking Main Road car parking 2 Open bathroom 4 balcony 3 ownership Freehold Opposite Deer Park.The property comes with independent Terrace. The area is centrally located and close to ring road which allows easy acess to all other areas.Renowned Delhi Lawn Tennis Association is within 10 minutes walking distance.Green park market is walkable distance. read more Contact Owner View Phone No. Share Feedback Owner Hemant pajankar",
          "Arjun Nagar, Safdarjung Enclave",
          "Safdarjung Enclave",
          "Safdarjung Enclave",
          "Arjun Nagar, Safdarjung Enclave",
          "Safdarjung Enclave",
          "Safdarjung Enclave carpet area 1450 sqft status Ready to Move floor 3 out of 4 floors transaction Resale furnishing Semi-Furnished facing North - East overlooking Garden/Park, Main Road car parking 1 Covered, 1 Open bathroom 3 balcony 2 ownership Freehold Park facing builder floor apartment available for sale in safderjung enclave, 3 bedroom with attached bathroom, drawing dinning, modular kitchen. the property is on the top floor of a four storey building with terrace right, servant quarter, 1 car parking in stilt. read more Contact Agent View Phone No. Share Feedback Agent Delhi Homes Realty 1000+ Buyers Served",
          "Safdarjung Enclave super area 2200 sqft status Ready to Move floor 2 out of 4 floors transaction New Property furnishing Semi-Furnished facing South overlooking Main Road car parking 3 Covered, 2 Open bathroom 4 balcony 3 ownership Freehold Newly Constructed Property Wide Road 450 Yards 2nd floor brand new 4 bhk attached bathrooms with full lighted and ventilated house.Most Valuable DealSEE TO BELIEVE read more Contact Agent View Phone No. Share Feedback Crisil Bronze Agent Panchsheel Homes 500+ Buyers Served",
          "Paschim Vihar Block B4",
          "Paschim Vihar How Auctions work? The borrower has the physical possession of the Property. However the lender (Bank) can legally sell the Property. carpet area 780 sqft status Ready to Move floor Ground out of 3 floors transaction Resale furnishing Unfurnished facing West bathroom 2 balcony 1 ownership Freehold Contact Now Enquire Now Auction By Bank",
          "DDA Lig Flats, Paschim Vihar carpet area 45 sqyrd status Ready to Move floor 4 out of 4 floors transaction Resale furnishing Semi-Furnished facing East overlooking Garden/Park, Main Road society DDA Lig Flats bathroom 1 balcony 1 ownership Freehold East Facing Property Expected price for the Flat is kept at 45 Lac. This is a 1 bedroom apartment present in DDA Lig Flats, Paschim Vihar. It measures an area of 45 Sq-m. It is on 4 floor out of 4 floors in the tower and is also well ventilated. The Flat has 1 washroom and also has 1 spacious balcony. read more Contact Owner View Phone No. Share Feedback Owner Anil",
          "Paschim Vihar",
          "Archana Apartment, Paschim Vihar",
          "Guru Harikishan Nagar, Paschim Vihar",
          "Paschim Vihar",
          "Paschimpuri, Paschim Vihar",
          "Mianwali Nagar, Paschim Vihar",
          "Navbharat Apartment, Paschim Vihar Block B1",
          "Paschim Vihar Block A2",
          "Paschim Vihar",
          "Paschim Vihar",
          "LIC Colony, Paschim Vihar",
          "Paschimpuri, Paschim Vihar",
          "DDA Lig Flats, Paschim Vihar",
          "Pushkar Enclave, Paschim Vihar",
          "Paschim Vihar carpet area 850 sqft status Ready to Move floor 2 out of 4 floors transaction Resale furnishing Unfurnished facing North overlooking Garden/Park bathroom 3 balcony 1 ownership Freehold If you want to live a contended, pollution-free and peaceful life with your family and children, here is the once in a lifetime opportunity awaiting your attention!! Presenting a 3BHK ready to move flat up for sale in Paschim Vihar, which is becoming a dream residential area for its ability to provide a slice of authentic New Delhi city life. Property SpecificationsWell-knitted and planned on the super area of 900 sq ft is this 2bhk flat where the owner enjoys the complete rights of the freehold ownership. In a low-rise building of four-floors, this impressive infrastructure is positioned on the second floor, hence the residents can experience the greatest possible cross ventilation and natural sunlight.Though the age of construction is between 15-20 years, this north-facing flat is perfectly maintained and features 3 spacious bedrooms, 2 bathrooms, 2 airy balconies, a dining room, a living room, and a kitchen. All the bedrooms are adorned with decorative wardrobes offered with enough space for storage of clothes and other valuables.The attached toilet is designed in Indian fashion which is mounted-up with a geyser where you can enjoy a hot water bath, while the bathroom available for common use fashioned in the western genre.Further, an eye-catching view of the lush green garden is visible from the two well-aligned balconies where you can enjoy a hot cup of tea, where one balcony is connected to the bedroom, while the other balcony opens to the lobby. Bedecked with a granite countertop, a piped gas connection, and a chimney, the contemporarily designed modular kitchen is also provided with a wash area and also sufficient space for fridge.The entire flat is polished up with the good quality tiles which are easy to install and can be quite pleasant and comfortable underfoot.FacilitiesKeeping in mind the convenience of the residents, some of the basic facilities such as an unrestricted supply of water, and power backup with invertor. Additionally, one open parking space for 1 vehicle read more Contact Owner Share Feedback Owner Yogeet",
          "Shubh Niketan, Paschim Vihar",
          "Paschim Vihar",
          "Ashoka Apartment, Paschim Vihar Block A2",
          "Paschim Vihar Block B4",
          "Guru Harikishan Nagar, Paschim Vihar",
          "Sunder Apartments, Sunder Vihar, Paschim Vihar",
          "Kailash Apartments, Aashirwaad Chowk, Dwarka",
          "New Jyoti Apartments, Aashirwaad Chowk, Dwarka",
          "Green Heavens Apartment, Aashirwaad Chowk, Dwarka",
          "PNB Employees Apartment, Aashirwaad Chowk, Dwarka",
          "Sadbhawna CGHS, Aashirwaad Chowk, Dwarka",
          "Common Wealth Games Village, Commonwealth Games Village 2010",
          "Commonwealth Games Village 2010",
          "Common Wealth Games Village, Commonwealth Games Village 2010",
          "Project Commonwealth Games Village 2010, Akshardham Temple",
          "Common Wealth Games Village, Commonwealth Games Village 2010",
          "Project Commonwealth Games Village 2010, Commonwealth Games Village 2010",
          "Project Commonwealth Games Village 2010, Commonwealth Games Village 2010",
          "Common Wealth Games Village, Commonwealth Games Village 2010",
          "Project Commonwealth Games Village 2010, Akshardham Temple",
          "Commonwealth Games Village 2010",
          "Common Wealth Games Village, Commonwealth Games Village 2010",
          "Common Wealth Games Village, Commonwealth Games Village 2010",
          "Commonwealth Games Village 2010",
          "Common Wealth Games Village, Commonwealth Games Village 2010",
          "Common Wealth Games Village, Commonwealth Games Village 2010",
          "Project Commonwealth Games Village 2010, Commonwealth Games Village 2010",
          "Commonwealth Games Village 2010",
          "Project Commonwealth Games Village 2010, Commonwealth Games Village 2010",
          "Common Wealth Games Village, Commonwealth Games Village 2010",
          "Common Wealth Games Village, Commonwealth Games Village 2010",
          "Common Wealth Games Village, Commonwealth Games Village 2010",
          "Common Wealth Games Village, Commonwealth Games Village 2010",
          "Commonwealth Games Village 2010",
          "Project Commonwealth Games Village 2010, Commonwealth Games Village 2010",
          "Common Wealth Games Village, Commonwealth Games Village 2010",
          "Common Wealth Games Village, Commonwealth Games Village 2010",
          "Common Wealth Games Village, Commonwealth Games Village 2010",
          "Commonwealth Games Village 2010",
          "Project Commonwealth Games Village 2010, Commonwealth Games Village 2010",
          "Narmada Apartment, Alaknanda",
          "Narmada Apartment, Alaknanda carpet area 1400 sqft status Ready to Move floor Ground out of 3 floors transaction Resale furnishing Furnished facing North - East overlooking Garden/Park, Main Road society Narmada Apartment car parking 1 Open bathroom 3 balcony 1 ownership Freehold Near Alaknanda Main Market & Greater Kailash Metro Station. A very good 3 bhk flat for sale in rwa Narmada Apartment, delhi south. It is a superb property and offers an excellent view. The flat is unfurnished. It promises a comfortable stay. It is feng shuivaastu compliant, which is considered to bring positive energy. The appeal of the flat has been increased with the availability of a pipedGa. Indeed, the society too has multiple facilities for enjoyment, such as club housecommunity center and fitness centregym etc. It also has rain water harvesting system. It has a super builtUp area of 180 sq. Yards. read more Contact Agent View Phone No. Share Feedback Agent Sulabh Estate",
          "Alaknanda",
          "Greater Kailash 4 Nri Colony",
          "Alaknanda",
          "Alaknanda",
          "Alaknanda",
          "Project Gangotri Enclave, Alaknanda",
          "Alaknanda",
          "Project Gangotri Enclave, Gangotri Enclave, Alaknanda",
          "Narmada Apartment, Alaknanda",
          "Alaknanda",
          "Nilgiri Apartment, Alaknanda",
          "Alaknanda",
          "Yamuna Apartment, Alaknanda",
          "Nilgiri Apartment, Alaknanda",
          "Nilgiri Apartment, Alaknanda",
          "Tara Apartment, Alaknanda carpet area 1400 sqft status Ready to Move floor 2 out of 3 floors transaction Resale furnishing Furnished facing North - East overlooking Garden/Park society Tara Apartment car parking 1 Covered, 1 Open bathroom 3 balcony 4 ownership Freehold Near Alaknanda Main Market, Jamia Humderd University & Batra hospital. A very good 3 bhk flat for sale in rwa Tara Apartment, delhi south. It is a superb property and offers an excellent view. The flat is unfurnished. It promises a comfortable stay. It is feng shuivaastu compliant, which is considered to bring positive energy. The appeal of the flat has been increased with the availability of a pipedGa. Indeed, the society too has multiple facilities for enjoyment, such as club housecommunity center and fitness centregym etc. It also has rain water harvesting system. It has a super builtUp area of 180 sq. Yards. Other f read more Contact Agent View Phone No. Share Feedback Agent Sulabh Estate",
          "Alaknanda",
          "Sidharth Enclave, Kilokri, Ring Road",
          "Sidharth Enclave, Kilokri, Ring Road",
          "Sarita Vihar Pocket B",
          "Sarita Vihar Pocket F",
          "DDA Flats, Sarita Vihar, Mathura Road carpet area 1150 sqft status Ready to Move floor 3 out of 3 floors transaction Resale furnishing Semi-Furnished facing North - East overlooking Main Road society DDA Flats car parking 2 Open bathroom 2 balcony 3 ownership Freehold 2 BHK flat available for sale in sarita vihar excellent interiors flooring in all bedrooms complete wood work modular kitchen beautiful bathrooms extremely well maintained ample parking space read more Contact Agent View Phone No. Share Feedback Lavish Associates Certified Agent Trusted by Users Genuine Listings Market Knowledge",
          "New Manglapuri, Sultanpur",
          "Sultanpur",
          "Sultanpur Extension",
          "Manglapuri, Sultanpur",
          "Indra Park Palam, Manglapuri",
          "Sultanpur carpet area 1100 sqft status Ready to Move floor 1 out of 4 floors transaction Resale furnishing Semi-Furnished overlooking Main Road car parking 1 Covered bathroom 2 balcony 2 ownership Freehold 2 bhk flat available in sultanpur, near metro station, loan facility available, with registry, all the modern facilities are variable, with car parking, near market, fully ventilated. read more Contact Agent View Phone No. Share Feedback Agent Delhi Dream 3500+ Buyers Served",
          "Sultanpur Extension",
          "New Manglapuri, Sultanpur",
          "Sultanpur Extension",
          "Sultanpur",
          "Sultanpur",
          "New Manglapuri, Sultanpur",
          "Sultanpur",
          "Sultanpur",
          "New Manglapuri, Sultanpur",
          "New Manglapuri, Sultanpur",
          "New Manglapuri, Sultanpur",
          "Manglapuri, Sultanpur",
          "New Manglapuri, Sultanpur",
          "New Manglapuri, Sultanpur",
          "New Manglapuri, Sultanpur",
          "Manglapuri, Sultanpur",
          "Sultanpur",
          "Manglapuri, Sultanpur",
          "Indra Park Palam, Manglapuri",
          "Sultanpur",
          "Indra Park Palam, Manglapuri",
          "Chhattarpur",
          "Chhattarpur",
          "Chhattarpur",
          "Chhattarpur Enclave Phase2",
          "Chhattarpur",
          "DLF Chattarpur Farms, Chhattarpur",
          "Chhattarpur",
          "Chhattarpur",
          "Chhattarpur Enclave Phase2",
          "Chhattarpur Enclave Phase2",
          "Aravali Tower, Chhattarpur",
          "Chhattarpur",
          "Chhattarpur",
          "Chhattarpur Enclave Phase2",
          "Chhattarpur Enclave Phase2",
          "Mehrauli",
          "Mehrauli",
          "Mehrauli",
          "Mehrauli",
          "Mehrauli",
          "Mehrauli",
          "Mehrauli carpet area 1300 sqft status Ready to Move floor 2 out of 4 floors transaction New Property furnishing Semi-Furnished facing East overlooking Garden/Park, Main Road car parking 2 Covered bathroom 3 balcony 2 ownership Freehold 3 bhk flat with attached washroom, modular kitchen, IInd floor, one car and one bike parking, lift, gated society, security, cctv camera, water backup. read more Contact Agent View Phone No. Share Feedback Agent India Bhoomi",
          "Mehrauli",
          "Mehrauli",
          "Mehrauli",
          "Mehrauli",
          "Andheria Mor, Mehrauli",
          "Mehrauli carpet area 1250 sqft status Ready to Move floor Ground out of 8 floors transaction Resale furnishing Semi-Furnished facing East overlooking Main Road car parking 1 Covered bathroom 2 balcony 3 ownership Freehold The flat located are very good condition and well developed area. The flat area are very spaciable. This flat balcony view is very best society very neat and clean. read more Contact Agent View Phone No. Share Feedback Agent Bharti Real Estate 100+ Buyers Served",
          "Andheria Mor, Mehrauli",
          "Mehrauli",
          "Mehrauli",
          "Mehrauli",
          "Mehrauli",
          "Mehrauli",
          "Mehrauli",
          "Mehrauli",
          "Andheria Mor, Mehrauli",
          "Mehrauli",
          "Brijwasi Colony, Mehrauli",
          "Mehrauli",
          "Mehrauli",
          "Mehrauli",
          "Mahavir Enclave",
          "Mahavir Enclave",
          "Mahavir Enclave",
          "Mahavir Enclave Part 1",
          "Mahavir Enclave Part 1",
          "Mahavir Enclave Part 1",
          "Mahavir Enclave Part 1",
          "Mahavir Enclave Part 1",
          "Mahavir Enclave Part 1",
          "Mahavir Enclave Part 1",
          "Mahavir Enclave carpet area 565 sqft status Ready to Move floor Ground out of 1 floor transaction Resale furnishing Unfurnished facing East car parking 1 Covered bathroom 2 balcony 1 ownership Freehold East Facing Property This Freehold Builder Floor Apartment is located at Ground floor in a building of total 1 floors. The age of construction for this apartment Builder Floor Apartment is Less than 5 years. High quality flooring of types Granite are available in different rooms. read more Contact Owner View Phone No. Share Feedback Owner Adesh Sah",
          "Mahavir Enclave Part 3",
          "Mahavir Enclave",
          "Mahavir Enclave",
          "Mahavir Enclave",
          "Mahavir Enclave Part 1",
          "Vijay Enclave, Mahavir Enclave",
          "Mahavir Enclave",
          "Mahavir Enclave Part 3",
          "DDA Flats Pocket 6 Sector A10, Narela",
          "DDA Flats Pocket 1 Sector A9, Narela",
          "DDA Janta Flats, Tikri Khurd Sector B2, Narela",
          "Narela",
          "Narela",
          "Narela",
          "DDA Lig Flats, Narela",
          "DDA Flats Pocket 3, Narela",
          "DDA Lig Flats, Narela",
          "DDA Lig Flats, Narela",
          "DDA Pocket H, Narela",
          "DDA Lig Flats, Narela",
          "DDA Lig Flats, Narela",
          "Narela",
          "Narela Mandi",
          "DDA Flats Pocket 6 Sector A10, Narela",
          "Narela",
          "DDA Lig Flats, Narela",
          "Bhorgarh, Narela",
          "Narela",
          "Narela Sector A9",
          "DDA Lig Flats, Narela",
          "Narela",
          "Narela Sector A5",
          "DDA Lig Flats, Narela",
          "DDA Flats Pocket 3, Narela",
          "DDA Lig Flats, Narela",
          "Narela",
          "Narela",
          "Geetanjali Enclave Project, Geetanjali Enclave, Malviya Nagar",
          "Malviya Nagar",
          "Malviya Nagar",
          "Geetanjali Enclave Project, Geetanjali Enclave, Malviya Nagar",
          "Malviya Nagar",
          "Malviya Nagar",
          "Malviya Nagar",
          "Geetanjali Enclave, Malviya Nagar",
          "Khirki extension, Malviya Nagar",
          "Malviya Nagar",
          "Malviya Nagar carpet area 100 sqyrd status Ready to Move floor 2 out of 3 floors transaction Resale furnishing Semi-Furnished facing North overlooking Garden/Park, Main Road car parking 2 Open bathroom 3 balcony 2 ownership Freehold It's a Corner three story building, located in South Delhi. Amenities like Market, Schools, Hospitals, Parks, Gyms, Study Centers, Temple are all around. Very Close to Malviya Nagar Metro and Haus Khas Metro Station. Centerlize place to live. Whether you go to Gurgaon or Noida Or to other parts of the city, commuting from here is very easy. read more Contact Owner View Phone No. Share Feedback Owner Rohit",
          "Malviya Nagar",
          "Khirki extension, Malviya Nagar",
          "Malviya Nagar",
          "Malviya Nagar",
          "Malviya Nagar",
          "Malviya Nagar",
          "Geetanjali Enclave, Malviya Nagar",
          "Geetanjali Enclave, Malviya Nagar",
          "Malviya Nagar",
          "Geetanjali Enclave, Malviya Nagar",
          "Shivalik, Malviya Nagar",
          "Shivalik, Malviya Nagar",
          "Shivalik, Malviya Nagar",
          "Dilshad Colony, Dilshad Garden",
          "Dilshad Colony, Dilshad Garden",
          "Dilshad Colony, Dilshad Garden",
          "DDA Flats Block A, Dilshad Garden",
          "Dilshad Colony, Dilshad Garden",
          "DDA Flats Block A, Dilshad Garden",
          "Dilshad Garden",
          "Dilshad Colony, Dilshad Garden",
          "DDA Pocket JK, Dilshad Garden",
          "Dilshad Colony, Dilshad Garden",
          "Dilshad Colony, Dilshad Garden",
          "Dilshad Colony, Dilshad Garden",
          "Dilshad Garden",
          "DDA Pocket E, Dilshad Garden",
          "Dilshad Garden",
          "Dilshad Colony, Dilshad Garden",
          "Dilshad Colony, Dilshad Garden",
          "DDA Flats Pocket O, Dilshad Garden",
          "Dilshad Garden",
          "Dilshad Colony, Dilshad Garden",
          "Dilshad Garden",
          "Dilshad Colony, Dilshad Garden",
          "Dilshad Colony, Dilshad Garden",
          "DDA Pocket I, Dilshad Garden",
          "DDA Flats Block A, Dilshad Garden",
          "Satyam Apartment, Vasundhara Enclave",
          "Abhimanyu Apartments, Vasundhara Enclave",
          "Vasundhara Enclave",
          "Vasundhara Enclave",
          "Anekant Apartment, Vasundhara Enclave",
          "New Delhi Apartment, Vasundhara Enclave",
          "Mahesh Apartment, Vasundhara Enclave",
          "Pawittra Apartment, Vasundhara Enclave",
          "Vasundhara Enclave",
          "Vasundhara Enclave",
          "Capital Apartment, Vasundhara Enclave",
          "Hindon Apartment, Vasundhara Enclave",
          "Gobind Apartment, Vasundhara Enclave",
          "Godrej South Estate, Okhla",
          "Godrej South Estate, Okhla",
          "Abul Fazal Enclave Part 1, Okhla",
          "Batla House, Okhla",
          "Sukhdev Vihar, Okhla",
          "Sukhdev Vihar, Okhla",
          "Godrej South Estate, Okhla Phase 1",
          "Godrej South Estate, Okhla Phase 1",
          "Godrej South Estate, Okhla Phase 1",
          "Godrej South Estate, Okhla",
          "Sukhdev Vihar, Okhla",
          "Sukhdev Vihar, Okhla",
          "Abul Fazal Enclave Part-II, Okhla",
          "Godrej South Estate, Okhla",
          "Abul Fazal Enclave Part 1, Okhla",
          "Sukhdev Vihar, Okhla",
          "Sukhdev Vihar, Okhla",
          "Sukhdev Vihar, Okhla",
          "Abul Fazal Enclave Part-II, Okhla",
          "Godrej South Estate, Okhla Phase 1",
          "Jamia Nagar, Okhla",
          "Zakir Nagar, New Friends Colony",
          "Sukhdev Vihar, Okhla",
          "Batla House, Okhla",
          "Batla House Project, Batla House, Okhla",
          "Abul Fazal Enclave Part 1, Okhla",
          "Abul Fazal Enclave Part-II, Okhla",
          "Sukhdev Vihar, Okhla",
          "Sukhdev Vihar, Okhla",
          "Sukhdev Vihar, Okhla",
          "The Amaryllis, Karol Bagh",
          "The Amaryllis, Karol Bagh",
          "The Amaryllis, Karol Bagh",
          "The Amaryllis, Karol Bagh",
          "Dev Nagar, Karol Bagh",
          "Beadon Pura, Karol Bagh How Auctions work? The borrower has the physical possession of the Property. However the lender (Bank) can legally sell the Property. carpet area 148 sqyrd status Ready to Move floor 3 out of 3 floors transaction Resale furnishing Semi-Furnished bathroom 2 balcony 3 ownership Freehold Contact Now Enquire Now Auction By Bank",
          "The Amaryllis, Karol Bagh",
          "The Amaryllis, Karol Bagh",
          "The Amaryllis, Karol Bagh",
          "The Amaryllis, Karol Bagh",
          "The Amaryllis, Karol Bagh",
          "The Amaryllis, Karol Bagh",
          "DDA Mig Flat, Prasad Nagar, Karol Bagh",
          "Karol Bagh",
          "The Amaryllis, Karol Bagh",
          "Karol Bagh",
          "Prasad Nagar, Karol Bagh",
          "Karol Bagh",
          "DDA MIG Flats Prasad Nagar Phase 2, Prasad Nagar, Karol Bagh",
          "Karol Bagh",
          "Dev Nagar, Karol Bagh",
          "Karol Bagh",
          "Karol Bagh carpet area 1600 sqft status Ready to Move floor 3 out of 3 floors transaction New Property furnishing Semi-Furnished facing East overlooking Garden/Park, Main Road car parking 1 Covered, 1 Open bathroom 3 balcony 2 ownership Freehold Near to Karol Bagh Metro station...................................... Its a very peaceful location ....................................................................................................................... read more Contact Agent View Phone No. Share Feedback Agent S R B Properties",
          "DDA MIG Flats Prasad Nagar Phase 2, Prasad Nagar, Karol Bagh",
          "Dev Nagar, Karol Bagh",
          "Karol Bagh",
          "The Amaryllis, Karol Bagh",
          "The Amaryllis, Karol Bagh",
          "The Amaryllis, Karol Bagh",
          "The Amaryllis, Karol Bagh",
          "DLF Capital Greens, New Moti Nagar, Kirti Nagar",
          "DLF Capital Greens, New Moti Nagar, Kirti Nagar",
          "New Moti Nagar, Kirti Nagar",
          "DLF Capital Greens, New Moti Nagar, Kirti Nagar",
          "New Moti Nagar, Kirti Nagar",
          "DLF Capital Greens, New Moti Nagar, Kirti Nagar",
          "New Moti Nagar, Kirti Nagar",
          "DLF Capital Greens, New Moti Nagar, Kirti Nagar",
          "DLF Capital Greens, New Moti Nagar, Kirti Nagar",
          "New Moti Nagar, Kirti Nagar",
          "New Moti Nagar, Kirti Nagar",
          "DLF Capital Greens, Moti Nagar, Kirti Nagar ( 1 km from New Moti Nagar, Kirti Nagar)",
          "DLF Capital Greens, New Moti Nagar, Kirti Nagar",
          "DLF Capital Greens, New Moti Nagar, Kirti Nagar",
          "New Moti Nagar, Kirti Nagar",
          "DLF Capital Greens, New Moti Nagar, Kirti Nagar",
          "DLF Capital Greens, New Moti Nagar, Kirti Nagar",
          "New Moti Nagar, Kirti Nagar",
          "New Moti Nagar, Kirti Nagar",
          "DLF Capital Greens, New Moti Nagar, Kirti Nagar",
          "New Moti Nagar, Kirti Nagar",
          "New Moti Nagar, Kirti Nagar",
          "Sheikh Sarai Phase 1",
          "Sheikh Sarai Phase 2",
          "Panchsheel Vihar, Sheikh Sarai",
          "Savitri Nagar Village, Sheikh Sarai",
          "Sheikh Sarai Phase 1",
          "Panchsheel Vihar, Sheikh Sarai",
          "Panchsheel Vihar, Sheikh Sarai",
          "Savitri Nagar Village, Sheikh Sarai",
          "Sheikh Sarai Phase 1",
          "Sheikh Sarai Phase 1",
          "Sheikh Sarai Phase 1",
          "Sheikh Sarai Phase 1",
          "Sheikh Sarai Phase 1",
          "Sheikh Sarai Phase 1",
          "Panchsheel Vihar, Sheikh Sarai",
          "Apna Apartments, Savitri Nagar Village, Sheikh Sarai",
          "Sheikh Sarai Phase 1",
          "Panchsheel Vihar, Sheikh Sarai",
          "Sheikh Sarai Phase 1",
          "Sheikh Sarai Phase 1",
          "Sheikh Sarai Phase 1",
          "Sheikh Sarai Phase 1",
          "Sheikh Sarai Phase 1",
          "Sheikh Sarai Phase 1",
          "Punjabi Bagh West",
          "Punjabi Bagh Enclave, Shivaji Park, Punjabi Bagh",
          "Punjabi Bagh Extension, Punjabi Bagh",
          "Punjabi Bagh West",
          "Punjabi Bagh West",
          "DLF Capitals Phase III, Shivaji Park, Punjabi Bagh",
          "Punjabi Bagh",
          "Punjabi Bagh Enclave, Punjabi Bagh West",
          "Punjabi Bagh Enclave, Punjabi Bagh",
          "Punjabi Bagh Extension, Punjabi Bagh",
          "Punjabi Bagh West",
          "Punjabi Bagh",
          "Punjabi Bagh West",
          "Punjabi Bagh Extension, Punjabi Bagh",
          "Punjabi Bagh Extension, Punjabi Bagh",
          "Punjabi Bagh West",
          "Punjabi Bagh Enclave, Madipur, Punjabi Bagh",
          "Bhagwan Das Nagar, Punjabi Bagh",
          "Punjabi Bagh East",
          "Punjabi Bagh West",
          "Punjabi Bagh East",
          "Punjabi Bagh East",
          "Bhagwan Das Nagar, Punjabi Bagh",
          "Punjabi Bagh East",
          "Pal Mohan Apartments, Punjabi Bagh",
          "Narmada Apartment, Alaknanda",
          "Narmada Apartment, Alaknanda carpet area 1400 sqft status Ready to Move floor Ground out of 3 floors transaction Resale furnishing Furnished facing North - East overlooking Garden/Park, Main Road society Narmada Apartment car parking 1 Open bathroom 3 balcony 1 ownership Freehold Near Alaknanda Main Market & Greater Kailash Metro Station. A very good 3 bhk flat for sale in rwa Narmada Apartment, delhi south. It is a superb property and offers an excellent view. The flat is unfurnished. It promises a comfortable stay. It is feng shuivaastu compliant, which is considered to bring positive energy. The appeal of the flat has been increased with the availability of a pipedGa. Indeed, the society too has multiple facilities for enjoyment, such as club housecommunity center and fitness centregym etc. It also has rain water harvesting system. It has a super builtUp area of 180 sq. Yards. read more Contact Agent View Phone No. Share Feedback Agent Sulabh Estate",
          "Alaknanda",
          "Greater Kailash 4 Nri Colony",
          "Alaknanda",
          "Alaknanda",
          "Alaknanda",
          "Project Gangotri Enclave, Alaknanda",
          "Alaknanda",
          "Project Gangotri Enclave, Gangotri Enclave, Alaknanda",
          "Narmada Apartment, Alaknanda",
          "Alaknanda",
          "Nilgiri Apartment, Alaknanda",
          "Alaknanda",
          "Yamuna Apartment, Alaknanda",
          "Nilgiri Apartment, Alaknanda",
          "Nilgiri Apartment, Alaknanda",
          "Tara Apartment, Alaknanda carpet area 1400 sqft status Ready to Move floor 2 out of 3 floors transaction Resale furnishing Furnished facing North - East overlooking Garden/Park society Tara Apartment car parking 1 Covered, 1 Open bathroom 3 balcony 4 ownership Freehold Near Alaknanda Main Market, Jamia Humderd University & Batra hospital. A very good 3 bhk flat for sale in rwa Tara Apartment, delhi south. It is a superb property and offers an excellent view. The flat is unfurnished. It promises a comfortable stay. It is feng shuivaastu compliant, which is considered to bring positive energy. The appeal of the flat has been increased with the availability of a pipedGa. Indeed, the society too has multiple facilities for enjoyment, such as club housecommunity center and fitness centregym etc. It also has rain water harvesting system. It has a super builtUp area of 180 sq. Yards. Other f read more Contact Agent View Phone No. Share Feedback Agent Sulabh Estate",
          "Alaknanda",
          "Kalkaji super area 800 sqft status Ready to Move floor 3 out of 4 floors transaction Resale furnishing Semi-Furnished facing North - West overlooking Garden/Park, Main Road car parking 1 Open bathroom 2 balcony 2 ownership Freehold 2 bhk flat for sale in kalkaji this is third floor with 2 bed room and bathrooms very peace full location and posh. The Summer Fields School is considered as among the best school of New Delhi and is located just beside to this property. Within the range of 4-5km, you will find some of the well-equipped hospitals which include AIMS Hospital and Moolchand Hospital.for more information about this flat please call me feel free. read more Contact Agent View Phone No. Share Feedback Agent Rose Estate 100+ Buyers Served",
          "Deshbandhu Apartments, Kalkaji",
          "Govindpuri Extension, Kalkaji",
          "Kalkaji Extention",
          "Kalkaji Extention",
          "Kalkaji super area 1000 sqft status Ready to Move floor 2 out of 3 floors transaction Resale furnishing Semi-Furnished facing North - West overlooking Garden/Park, Main Road car parking 1 Covered, 1 Open bathroom 2 balcony 2 ownership Freehold Very beautiful 3 bedroom with attached washroom , drawing dining , modular kitchen , ac , servant room , power backup, powder room, separate underground and overhead water tanks, walking distance to market , easy access to ring road . For more details and site visit please contact cosmo properties. read more Contact Agent View Phone No. Share Feedback Agent Zee Associates",
          "Mandakini Enclave Project, Kalkaji",
          "Deshbandhu Apartments, Kalkaji carpet area 1300 sqft status Ready to Move floor 3 out of 4 floors transaction Resale furnishing Unfurnished facing North - East overlooking Garden/Park, Main Road society Deshbandhu Apartments car parking 1 Covered, 1 Open bathroom 2 balcony 2 ownership Freehold Third Floor with terrace 3 bhk builder floor apartment with 2 attached bathrooms located in kalkaji Deshbandu apartment . all water and electrical connections installed, very spacious drawing room , 2 balconies in front and rear each dedicated parking spot for 1 car. extra parking space available for additional cars, Immediately for sale , read more Contact Agent View Phone No. Share Feedback Agent Bhawani Realtors",
          "Kalkaji",
          "Kalkaji",
          "Deshbandhu Apartments, Kalkaji",
          "Kalkaji Extention",
          "Govindpuri Extension, Kalkaji",
          "Hauz Khas",
          "Hauz Khas Apartment, Hauz Khas Enclave, Hauz Khas",
          "Hauz Khas",
          "Sarva Priya Apartment, Hauz Khas",
          "Hauz Khas",
          "Hauz Khas Enclave, Hauz Khas",
          "Safdarjung Development Area, Hauz Khas",
          "Hauz Khas",
          "Hauz Khas Enclave, Hauz Khas",
          "Mayfair garden, Hauz Khas",
          "Orchid Metropolis, Hauz Khas",
          "Hauz Khas",
          "Safdarjung Development Area, Hauz Khas",
          "Hauz Khas Enclave, Hauz Khas",
          "Hauz Khas",
          "Hauz Khas Enclave, Hauz Khas",
          "Hauz Khas",
          "Hauz Khas",
          "Hauz Khas",
          "Sarva Priya Apartment, Hauz Khas carpet area 1700 sqft status Ready to Move floor 1 out of 7 floors transaction Resale furnishing Semi-Furnished facing North - East overlooking Garden/Park society Sarva Priya Apartment car parking 1 Covered, 1 Open bathroom 3 balcony 2 ownership Freehold desperarte sale ,its clear tile, proper cross ventilation ,proper an matter for one week ,crystle sunlight found, and air,ICIC BANK LOAN APPROVAL, good to see , have lucky chance to get such a reraly rare property read more Contact Agent View Phone No. Share Feedback Agent New Capital Properties 1000+ Buyers Served",
          "Hauz Khas Enclave, Hauz Khas",
          "Sarva Priya Apartment, Hauz Khas",
          "Hauz Khas Enclave, Hauz Khas",
          "Hauz Khas Enclave, Hauz Khas",
          "Safdarjung Development Area, Hauz Khas",
          "Hauz Khas",
          "Hauz Khas Enclave, Hauz Khas",
          "Safdarjung Development Area, Hauz Khas",
          "Chittaranjan Park",
          "Chittaranjan Park",
          "Chittaranjan Park",
          "Chittaranjan Park",
          "Chittaranjan Park",
          "Chittaranjan Park",
          "Chittaranjan Park",
          "Chittaranjan Park carpet area 1200 sqft status Ready to Move floor 2 out of 4 floors transaction New Property furnishing Semi-Furnished facing North - East overlooking Garden/Park bathroom 3 balcony 2 ownership Freehold Newly Constructed Property Newly Constructed Property brand new 1st floor 3bedroom attach bathrooms stilt car parking modular kitchen air condition prime location c r park read more Contact Agent View Phone No. Share Feedback Nirmala Associates Certified Agent Trusted by Users Genuine Listings 1500+ Buyers Served",
          "Chittaranjan Park",
          "Chittaranjan Park",
          "Chittaranjan Park carpet area 270 sqyrd status Ready to Move floor 2 out of 4 floors transaction Resale furnishing Furnished facing North - East overlooking Garden/Park, Main Road car parking 5 Open bathroom 4 balcony 3 ownership Freehold 3 Side Open, Fully ventilated, Close to Market, Above Bank and 24 x 7 ATM because of which good security. Elite Neighbor hood. Very good for Rental Income. Also can be used for commercial Office Purpose by Advocates. read more Contact Owner View Phone No. Share Feedback Owner Mayur Mayur Aggarwal",
          "Chittaranjan Park",
          "Chittaranjan Park",
          "Nehru Enclave, Kalkaji",
          "Chittaranjan Park",
          "Chittaranjan Park",
          "Chittaranjan Park",
          "Chittaranjan Park",
          "Chittaranjan Park",
          "Chittaranjan Park",
          "Chittaranjan Park",
          "Nehru Enclave, Kalkaji",
          "Chittaranjan Park",
          "Chittaranjan Park",
          "Chittaranjan Park",
          "Chittaranjan Park",
          "Chittaranjan Park Block A",
          "Chittaranjan Park"
         ],
         "xaxis": "x",
         "y": [
          5000000,
          15500000,
          4200000,
          6200000,
          15500000,
          10000000,
          4000000,
          6800000,
          15000000,
          6200000,
          7700000,
          5500000,
          5000000,
          3310000,
          4700000,
          4500000,
          17000000,
          25000000,
          6000000,
          11000000,
          4500000,
          5300000,
          10500000,
          12000000,
          7000000,
          7000000,
          3400000,
          5000000,
          21000000,
          13000000,
          22000000,
          15800000,
          57500000,
          10000000,
          30000000,
          22000000,
          24000000,
          31500000,
          14600000,
          240000000,
          8300000,
          22500000,
          1900000,
          5130000,
          5890000,
          3700000,
          17400000,
          15500000,
          2400000,
          17200000,
          14200000,
          13500000,
          30000000,
          21000000,
          20500000,
          24000000,
          16500000,
          14900000,
          19200000,
          14500000,
          15600000,
          11400000,
          31500000,
          15800000,
          16000000,
          14500000,
          10500000,
          14800000,
          1850000,
          6800000,
          14200000,
          40000000,
          46000000,
          55000000,
          24500000,
          24500000,
          32500000,
          20000000,
          240000000,
          20000000,
          19000000,
          26000000,
          21000000,
          27500000,
          32500000,
          45000000,
          21000000,
          28000000,
          29500000,
          12500000,
          26000000,
          11500000,
          14600000,
          25500000,
          31000000,
          22000000,
          13400000,
          35000000,
          11000000,
          6300000,
          12500000,
          14500000,
          22500000,
          15500000,
          26000000,
          15800000,
          15000000,
          13000000,
          15000000,
          25000000,
          16500000,
          10300000,
          26000000,
          11000000,
          28500000,
          11000000,
          3600000,
          4300000,
          4000000,
          1650000,
          2000000,
          3000000,
          1400000,
          2000000,
          2000000,
          2000000,
          2600000,
          5100000,
          6000000,
          4000000,
          6200000,
          3500000,
          7600000,
          13500000,
          12500000,
          6500000,
          22000000,
          6000000,
          7300000,
          7600000,
          20000000,
          15000000,
          6200000,
          6200000,
          5000000,
          4700000,
          5500000,
          2000000,
          7300000,
          13000000,
          11500000,
          2800000,
          2200000,
          4400000,
          13500000,
          4100000,
          12000000,
          3500000,
          15000000,
          17500000,
          1900000,
          5500000,
          10000000,
          4700000,
          2400000,
          3800000,
          23000000,
          24500000,
          10000000,
          5500000,
          7000000,
          6500000,
          135000000,
          5000000,
          93000000,
          4370000,
          4620000,
          1900000,
          70000000,
          5130000,
          3000000,
          5890000,
          3300000,
          24900000,
          3700000,
          60000000,
          17400000,
          51000000,
          170000000,
          5510000,
          25000000,
          57000000,
          2940000,
          15500000,
          17200000,
          55000000,
          15000000,
          51000000,
          13000000,
          30000000,
          2400000,
          5500000,
          60000000,
          65000000,
          220000000,
          60000000,
          38500000,
          50000000,
          75000000,
          70000000,
          160000000,
          85000000,
          40000000,
          90000000,
          56000000,
          135500000,
          60000000,
          170000000,
          50000000,
          58000000,
          37500000,
          45000000,
          70000000,
          29500000,
          60000000,
          70000000,
          50000000,
          75000000,
          52500000,
          55000000,
          120000000,
          70000000,
          47500000,
          40000000,
          85000000,
          26000000,
          35000000,
          20000000,
          79000000,
          17000000,
          47500000,
          43000000,
          26000000,
          25000000,
          51000000,
          40000000,
          22500000,
          70000000,
          45000000,
          51100000,
          25500000,
          26500000,
          15000000,
          55000000,
          26000000,
          38000000,
          72500000,
          65000000,
          9300000,
          2700000,
          6500000,
          5800000,
          5500000,
          6000000,
          4500000,
          4100000,
          3800000,
          3300000,
          2900000,
          2000000,
          1550000,
          11300000,
          4500000,
          3300000,
          11500000,
          6000000,
          9000000,
          4500000,
          14000000,
          7300000,
          1900000,
          7000000,
          2700000,
          6500000,
          4000000,
          3000000,
          5000000,
          6000000,
          2500000,
          6500000,
          8000000,
          2700000,
          4500000,
          5700000,
          25000000,
          70000000,
          26500000,
          18500000,
          30000000,
          22000000,
          9000000,
          65000000,
          22500000,
          8700000,
          22000000,
          18500000,
          16000000,
          16000000,
          9000000,
          4500000,
          4000000,
          2600000,
          3500000,
          7500000,
          7000000,
          4500000,
          5500000,
          2700000,
          2400000,
          11500000,
          3600000,
          1700000,
          2500000,
          6600000,
          3700000,
          3500000,
          5400000,
          2550000,
          12500000,
          5600000,
          7000000,
          3500000,
          35000000,
          9000000,
          2300000,
          6000000,
          6000000,
          4370000,
          4620000,
          3000000,
          3300000,
          5510000,
          3200000,
          2600000,
          4000000,
          1850000,
          1700000,
          2800000,
          2150000,
          6800000,
          6200000,
          3100000,
          3400000,
          4000000,
          4800000,
          2500000,
          2000000,
          1900000,
          5800000,
          2900000,
          2000000,
          2600000,
          2900000,
          3200000,
          5400000,
          3800000,
          135000000,
          93000000,
          8200000,
          8000000,
          9500000,
          20000000,
          7400000,
          37500000,
          15000000,
          55300000,
          26500000,
          16000000,
          10400000,
          1700000,
          8000000,
          27000000,
          19500000,
          50000000,
          21100000,
          57000000,
          5900000,
          12000000,
          12000000,
          24000000,
          7000000,
          15000000,
          1500000,
          3950000,
          12500000,
          1600000,
          31000000,
          7400000,
          15500000,
          12000000,
          23500000,
          25000000,
          7000000,
          17500000,
          25000000,
          29000000,
          21900000,
          7500000,
          23500000,
          24000000,
          31000000,
          16500000,
          5000000,
          24000000,
          17000000,
          40000000,
          22500000,
          20000000,
          135000000,
          5000000,
          93000000,
          4370000,
          4620000,
          1900000,
          70000000,
          5130000,
          3000000,
          5890000,
          3300000,
          24900000,
          3700000,
          60000000,
          17400000,
          51000000,
          170000000,
          5510000,
          25000000,
          57000000,
          2940000,
          15500000,
          17200000,
          55000000,
          15000000,
          51000000,
          13000000,
          30000000,
          2400000,
          5500000,
          29000000,
          41000000,
          6000000,
          2500000,
          2200000,
          21500000,
          15000000,
          28900000,
          5500000,
          1950000,
          3800000,
          6200000,
          14000000,
          7500000,
          2670000,
          2500000,
          4000000,
          3500000,
          5000000,
          29500000,
          19000000,
          25500000,
          75000000,
          75000000,
          34000000,
          47500000,
          75000000,
          23000000,
          24000000,
          21500000,
          28500000,
          12500000,
          45000000,
          30500000,
          22500000,
          28000000,
          25000000,
          33700000,
          27000000,
          43500000,
          29000000,
          30000000,
          52100000,
          32500000,
          20500000,
          25000000,
          30000000,
          51000000,
          31000000,
          37500000,
          55000000,
          87500000,
          16300000,
          65000000,
          25000000,
          38000000,
          15000000,
          2000000,
          3000000,
          8500000,
          55000000,
          22500000,
          72500000,
          160000000,
          12500000,
          17000000,
          82500000,
          55000000,
          35000000,
          42500000,
          4700000,
          52500000,
          80000000,
          11000000,
          74000000,
          37500000,
          52500000,
          26500000,
          8770000,
          4500000,
          8500000,
          8600000,
          42500000,
          13100000,
          7000000,
          30000000,
          13000000,
          23100000,
          16000000,
          12500000,
          24500000,
          3200000,
          6300000,
          15000000,
          5700000,
          21000000,
          7500000,
          6500000,
          27500000,
          12000000,
          18000000,
          10700000,
          16200000,
          16500000,
          14900000,
          27500000,
          70000000,
          35500000,
          42100000,
          42500000,
          44000000,
          43200000,
          52500000,
          34300000,
          38000000,
          52500000,
          37500000,
          37000000,
          40000000,
          36200000,
          29000000,
          42500000,
          60000000,
          36500000,
          42500000,
          71500000,
          65000000,
          58000000,
          27500000,
          70000000,
          65000000,
          28600000,
          39000000,
          32500000,
          34000000,
          20000000,
          18000000,
          19000000,
          36500000,
          15000000,
          17500000,
          14000000,
          21000000,
          15600000,
          19000000,
          16500000,
          19000000,
          16500000,
          3000000,
          15000000,
          14300000,
          18500000,
          19000000,
          19000000,
          12000000,
          20000000,
          13500000,
          14000000,
          10800000,
          2350000,
          8500000,
          1650000,
          10000000,
          1500000,
          2800000,
          2600000,
          2350000,
          2350000,
          2000000,
          5000000,
          3500000,
          4500000,
          4000000,
          10800000,
          10000000,
          10800000,
          9000000,
          8500000,
          6000000,
          5500000,
          7000000,
          6000000,
          3700000,
          3100000,
          4500000,
          1500000,
          3000000,
          4900000,
          3500000,
          3000000,
          7020000,
          60000000,
          3500000,
          7000000,
          7000000,
          4500000,
          5990000,
          4400000,
          2500000,
          1600000,
          6500000,
          2800000,
          4500000,
          1800000,
          8500000,
          8500000,
          1700000,
          7000000,
          5600000,
          13500000,
          8500000,
          6000000,
          7200000,
          6500000,
          8400000,
          8500000,
          4000000,
          1700000,
          6000000,
          1600000,
          2100000,
          1700000,
          1500000,
          1200000,
          1650000,
          3500000,
          8500000,
          3200000,
          3790000,
          4200000,
          2900000,
          5000000,
          2100000,
          3200000,
          3000000,
          2300000,
          5900000,
          5500000,
          3500000,
          1700000,
          1850000,
          2300000,
          3800000,
          4500000,
          2200000,
          5200000,
          2200000,
          2200000,
          3800000,
          1800000,
          2850000,
          2500000,
          3500000,
          2000000,
          3000000,
          2000000,
          3500000,
          1800000,
          1600000,
          1600000,
          2000000,
          1500000,
          3000000,
          1490000,
          3500000,
          4000000,
          1750000,
          4600000,
          1800000,
          1900000,
          1000000,
          1000000,
          1000000,
          3500000,
          5000000,
          2200000,
          67000000,
          8500000,
          11500000,
          52500000,
          12000000,
          10700000,
          9000000,
          100000000,
          6200000,
          17000000,
          12500000,
          13000000,
          4200000,
          36000000,
          2300000,
          8100000,
          10000000,
          62500000,
          65000000,
          20000000,
          57500000,
          30000000,
          30000000,
          30000000,
          6900000,
          3600000,
          13500000,
          9200000,
          2500000,
          17000000,
          9030000,
          9300000,
          6500000,
          3300000,
          2400000,
          15000000,
          7000000,
          4200000,
          5800000,
          4800000,
          7500000,
          3000000,
          4300000,
          2600000,
          7000000,
          6000000,
          6700000,
          9500000,
          17000000,
          14000000,
          11600000,
          12000000,
          7500000,
          9800000,
          12000000,
          12500000,
          16500000,
          12000000,
          7200000,
          15000000,
          10000000,
          11000000,
          24700000,
          24900000,
          3600000,
          1700000,
          11000000,
          75000000,
          24800000,
          24900000,
          24900000,
          25900000,
          11700000,
          13500000,
          5500000,
          30000000,
          4950000,
          16000000,
          30000000,
          41000000,
          3800000,
          68900000,
          1800000,
          1500000,
          12500000,
          1600000,
          2400000,
          7000000,
          3100000,
          14500000,
          61500000,
          27500000,
          25500000,
          25000000,
          18500000,
          39700000,
          6800000,
          6540000,
          22000000,
          25500000,
          17000000,
          27500000,
          73700000,
          52300000,
          16000000,
          15000000,
          25500000,
          10000000,
          5000000,
          20000000,
          16000000,
          5500000,
          7000000,
          4100000,
          24000000,
          12500000,
          3900000,
          14500000,
          20000000,
          24500000,
          20900000,
          43100000,
          40000000,
          20000000,
          6700000,
          16000000,
          8000000,
          25000000,
          25000000,
          37500000,
          25000000,
          23000000,
          17500000,
          44000000,
          15000000,
          42500000,
          5000000,
          38000000,
          19000000,
          43500000,
          19500000,
          14200000,
          14200000,
          13500000,
          19000000,
          7000000,
          5800000,
          8000000,
          18800000,
          6000000,
          2200000,
          6500000,
          23500000,
          16000000,
          20000000,
          5500000,
          13500000,
          22500000,
          3800000,
          4600000,
          17500000,
          5500000,
          22500000,
          12500000,
          19000000,
          15500000,
          13500000,
          21000000,
          35000000,
          25000000,
          29000000,
          80000000,
          20500000,
          52500000,
          37500000,
          7500000,
          32500000,
          24500000,
          65000000,
          27500000,
          115000000,
          28000000,
          8000000,
          75100000,
          7800000,
          15000000,
          27500000,
          25000000,
          26000000,
          23500000,
          4200000,
          10000000,
          18500000,
          20000000,
          18000000,
          19000000,
          36500000,
          15000000,
          17500000,
          14000000,
          21000000,
          15600000,
          19000000,
          16500000,
          19000000,
          16500000,
          3000000,
          15000000,
          14300000,
          18500000,
          19000000,
          19000000,
          8000000,
          16100000,
          6800000,
          6800000,
          9000000,
          18000000,
          27500000,
          13500000,
          14000000,
          9000000,
          16000000,
          11000000,
          5500000,
          43500000,
          180000000,
          80000000,
          37500000,
          60000000,
          71000000,
          18500000,
          70000000,
          85000000,
          190000000,
          135000000,
          35000000,
          65000000,
          27500000,
          45000000,
          100000000,
          47000000,
          27500000,
          70000000,
          36500000,
          65000000,
          35000000,
          56000000,
          110000000,
          24000000,
          102500000,
          100000000,
          45000000,
          33500000,
          62500000,
          47500000,
          14700000,
          18000000,
          22500000,
          22000000,
          22200000,
          22500000,
          7500000,
          30000000,
          6500000,
          35000000,
          17500000,
          60000000,
          40000000,
          11500000,
          22500000,
          28500000,
          29000000,
          15500000,
          26000000,
          16500000,
          55000000,
          12500000,
          17500000,
          11500000,
          18500000
         ],
         "yaxis": "y"
        }
       ],
       "layout": {
        "height": 420,
        "legend": {
         "tracegroupgap": 0
        },
        "margin": {
         "t": 60
        },
        "template": {
         "data": {
          "bar": [
           {
            "error_x": {
             "color": "#2a3f5f"
            },
            "error_y": {
             "color": "#2a3f5f"
            },
            "marker": {
             "line": {
              "color": "#E5ECF6",
              "width": 0.5
             }
            },
            "type": "bar"
           }
          ],
          "barpolar": [
           {
            "marker": {
             "line": {
              "color": "#E5ECF6",
              "width": 0.5
             }
            },
            "type": "barpolar"
           }
          ],
          "carpet": [
           {
            "aaxis": {
             "endlinecolor": "#2a3f5f",
             "gridcolor": "white",
             "linecolor": "white",
             "minorgridcolor": "white",
             "startlinecolor": "#2a3f5f"
            },
            "baxis": {
             "endlinecolor": "#2a3f5f",
             "gridcolor": "white",
             "linecolor": "white",
             "minorgridcolor": "white",
             "startlinecolor": "#2a3f5f"
            },
            "type": "carpet"
           }
          ],
          "choropleth": [
           {
            "colorbar": {
             "outlinewidth": 0,
             "ticks": ""
            },
            "type": "choropleth"
           }
          ],
          "contour": [
           {
            "colorbar": {
             "outlinewidth": 0,
             "ticks": ""
            },
            "colorscale": [
             [
              0,
              "#0d0887"
             ],
             [
              0.1111111111111111,
              "#46039f"
             ],
             [
              0.2222222222222222,
              "#7201a8"
             ],
             [
              0.3333333333333333,
              "#9c179e"
             ],
             [
              0.4444444444444444,
              "#bd3786"
             ],
             [
              0.5555555555555556,
              "#d8576b"
             ],
             [
              0.6666666666666666,
              "#ed7953"
             ],
             [
              0.7777777777777778,
              "#fb9f3a"
             ],
             [
              0.8888888888888888,
              "#fdca26"
             ],
             [
              1,
              "#f0f921"
             ]
            ],
            "type": "contour"
           }
          ],
          "contourcarpet": [
           {
            "colorbar": {
             "outlinewidth": 0,
             "ticks": ""
            },
            "type": "contourcarpet"
           }
          ],
          "heatmap": [
           {
            "colorbar": {
             "outlinewidth": 0,
             "ticks": ""
            },
            "colorscale": [
             [
              0,
              "#0d0887"
             ],
             [
              0.1111111111111111,
              "#46039f"
             ],
             [
              0.2222222222222222,
              "#7201a8"
             ],
             [
              0.3333333333333333,
              "#9c179e"
             ],
             [
              0.4444444444444444,
              "#bd3786"
             ],
             [
              0.5555555555555556,
              "#d8576b"
             ],
             [
              0.6666666666666666,
              "#ed7953"
             ],
             [
              0.7777777777777778,
              "#fb9f3a"
             ],
             [
              0.8888888888888888,
              "#fdca26"
             ],
             [
              1,
              "#f0f921"
             ]
            ],
            "type": "heatmap"
           }
          ],
          "heatmapgl": [
           {
            "colorbar": {
             "outlinewidth": 0,
             "ticks": ""
            },
            "colorscale": [
             [
              0,
              "#0d0887"
             ],
             [
              0.1111111111111111,
              "#46039f"
             ],
             [
              0.2222222222222222,
              "#7201a8"
             ],
             [
              0.3333333333333333,
              "#9c179e"
             ],
             [
              0.4444444444444444,
              "#bd3786"
             ],
             [
              0.5555555555555556,
              "#d8576b"
             ],
             [
              0.6666666666666666,
              "#ed7953"
             ],
             [
              0.7777777777777778,
              "#fb9f3a"
             ],
             [
              0.8888888888888888,
              "#fdca26"
             ],
             [
              1,
              "#f0f921"
             ]
            ],
            "type": "heatmapgl"
           }
          ],
          "histogram": [
           {
            "marker": {
             "colorbar": {
              "outlinewidth": 0,
              "ticks": ""
             }
            },
            "type": "histogram"
           }
          ],
          "histogram2d": [
           {
            "colorbar": {
             "outlinewidth": 0,
             "ticks": ""
            },
            "colorscale": [
             [
              0,
              "#0d0887"
             ],
             [
              0.1111111111111111,
              "#46039f"
             ],
             [
              0.2222222222222222,
              "#7201a8"
             ],
             [
              0.3333333333333333,
              "#9c179e"
             ],
             [
              0.4444444444444444,
              "#bd3786"
             ],
             [
              0.5555555555555556,
              "#d8576b"
             ],
             [
              0.6666666666666666,
              "#ed7953"
             ],
             [
              0.7777777777777778,
              "#fb9f3a"
             ],
             [
              0.8888888888888888,
              "#fdca26"
             ],
             [
              1,
              "#f0f921"
             ]
            ],
            "type": "histogram2d"
           }
          ],
          "histogram2dcontour": [
           {
            "colorbar": {
             "outlinewidth": 0,
             "ticks": ""
            },
            "colorscale": [
             [
              0,
              "#0d0887"
             ],
             [
              0.1111111111111111,
              "#46039f"
             ],
             [
              0.2222222222222222,
              "#7201a8"
             ],
             [
              0.3333333333333333,
              "#9c179e"
             ],
             [
              0.4444444444444444,
              "#bd3786"
             ],
             [
              0.5555555555555556,
              "#d8576b"
             ],
             [
              0.6666666666666666,
              "#ed7953"
             ],
             [
              0.7777777777777778,
              "#fb9f3a"
             ],
             [
              0.8888888888888888,
              "#fdca26"
             ],
             [
              1,
              "#f0f921"
             ]
            ],
            "type": "histogram2dcontour"
           }
          ],
          "mesh3d": [
           {
            "colorbar": {
             "outlinewidth": 0,
             "ticks": ""
            },
            "type": "mesh3d"
           }
          ],
          "parcoords": [
           {
            "line": {
             "colorbar": {
              "outlinewidth": 0,
              "ticks": ""
             }
            },
            "type": "parcoords"
           }
          ],
          "pie": [
           {
            "automargin": true,
            "type": "pie"
           }
          ],
          "scatter": [
           {
            "marker": {
             "colorbar": {
              "outlinewidth": 0,
              "ticks": ""
             }
            },
            "type": "scatter"
           }
          ],
          "scatter3d": [
           {
            "line": {
             "colorbar": {
              "outlinewidth": 0,
              "ticks": ""
             }
            },
            "marker": {
             "colorbar": {
              "outlinewidth": 0,
              "ticks": ""
             }
            },
            "type": "scatter3d"
           }
          ],
          "scattercarpet": [
           {
            "marker": {
             "colorbar": {
              "outlinewidth": 0,
              "ticks": ""
             }
            },
            "type": "scattercarpet"
           }
          ],
          "scattergeo": [
           {
            "marker": {
             "colorbar": {
              "outlinewidth": 0,
              "ticks": ""
             }
            },
            "type": "scattergeo"
           }
          ],
          "scattergl": [
           {
            "marker": {
             "colorbar": {
              "outlinewidth": 0,
              "ticks": ""
             }
            },
            "type": "scattergl"
           }
          ],
          "scattermapbox": [
           {
            "marker": {
             "colorbar": {
              "outlinewidth": 0,
              "ticks": ""
             }
            },
            "type": "scattermapbox"
           }
          ],
          "scatterpolar": [
           {
            "marker": {
             "colorbar": {
              "outlinewidth": 0,
              "ticks": ""
             }
            },
            "type": "scatterpolar"
           }
          ],
          "scatterpolargl": [
           {
            "marker": {
             "colorbar": {
              "outlinewidth": 0,
              "ticks": ""
             }
            },
            "type": "scatterpolargl"
           }
          ],
          "scatterternary": [
           {
            "marker": {
             "colorbar": {
              "outlinewidth": 0,
              "ticks": ""
             }
            },
            "type": "scatterternary"
           }
          ],
          "surface": [
           {
            "colorbar": {
             "outlinewidth": 0,
             "ticks": ""
            },
            "colorscale": [
             [
              0,
              "#0d0887"
             ],
             [
              0.1111111111111111,
              "#46039f"
             ],
             [
              0.2222222222222222,
              "#7201a8"
             ],
             [
              0.3333333333333333,
              "#9c179e"
             ],
             [
              0.4444444444444444,
              "#bd3786"
             ],
             [
              0.5555555555555556,
              "#d8576b"
             ],
             [
              0.6666666666666666,
              "#ed7953"
             ],
             [
              0.7777777777777778,
              "#fb9f3a"
             ],
             [
              0.8888888888888888,
              "#fdca26"
             ],
             [
              1,
              "#f0f921"
             ]
            ],
            "type": "surface"
           }
          ],
          "table": [
           {
            "cells": {
             "fill": {
              "color": "#EBF0F8"
             },
             "line": {
              "color": "white"
             }
            },
            "header": {
             "fill": {
              "color": "#C8D4E3"
             },
             "line": {
              "color": "white"
             }
            },
            "type": "table"
           }
          ]
         },
         "layout": {
          "annotationdefaults": {
           "arrowcolor": "#2a3f5f",
           "arrowhead": 0,
           "arrowwidth": 1
          },
          "autotypenumbers": "strict",
          "coloraxis": {
           "colorbar": {
            "outlinewidth": 0,
            "ticks": ""
           }
          },
          "colorscale": {
           "diverging": [
            [
             0,
             "#8e0152"
            ],
            [
             0.1,
             "#c51b7d"
            ],
            [
             0.2,
             "#de77ae"
            ],
            [
             0.3,
             "#f1b6da"
            ],
            [
             0.4,
             "#fde0ef"
            ],
            [
             0.5,
             "#f7f7f7"
            ],
            [
             0.6,
             "#e6f5d0"
            ],
            [
             0.7,
             "#b8e186"
            ],
            [
             0.8,
             "#7fbc41"
            ],
            [
             0.9,
             "#4d9221"
            ],
            [
             1,
             "#276419"
            ]
           ],
           "sequential": [
            [
             0,
             "#0d0887"
            ],
            [
             0.1111111111111111,
             "#46039f"
            ],
            [
             0.2222222222222222,
             "#7201a8"
            ],
            [
             0.3333333333333333,
             "#9c179e"
            ],
            [
             0.4444444444444444,
             "#bd3786"
            ],
            [
             0.5555555555555556,
             "#d8576b"
            ],
            [
             0.6666666666666666,
             "#ed7953"
            ],
            [
             0.7777777777777778,
             "#fb9f3a"
            ],
            [
             0.8888888888888888,
             "#fdca26"
            ],
            [
             1,
             "#f0f921"
            ]
           ],
           "sequentialminus": [
            [
             0,
             "#0d0887"
            ],
            [
             0.1111111111111111,
             "#46039f"
            ],
            [
             0.2222222222222222,
             "#7201a8"
            ],
            [
             0.3333333333333333,
             "#9c179e"
            ],
            [
             0.4444444444444444,
             "#bd3786"
            ],
            [
             0.5555555555555556,
             "#d8576b"
            ],
            [
             0.6666666666666666,
             "#ed7953"
            ],
            [
             0.7777777777777778,
             "#fb9f3a"
            ],
            [
             0.8888888888888888,
             "#fdca26"
            ],
            [
             1,
             "#f0f921"
            ]
           ]
          },
          "colorway": [
           "#636efa",
           "#EF553B",
           "#00cc96",
           "#ab63fa",
           "#FFA15A",
           "#19d3f3",
           "#FF6692",
           "#B6E880",
           "#FF97FF",
           "#FECB52"
          ],
          "font": {
           "color": "#2a3f5f"
          },
          "geo": {
           "bgcolor": "white",
           "lakecolor": "white",
           "landcolor": "#E5ECF6",
           "showlakes": true,
           "showland": true,
           "subunitcolor": "white"
          },
          "hoverlabel": {
           "align": "left"
          },
          "hovermode": "closest",
          "mapbox": {
           "style": "light"
          },
          "paper_bgcolor": "white",
          "plot_bgcolor": "#E5ECF6",
          "polar": {
           "angularaxis": {
            "gridcolor": "white",
            "linecolor": "white",
            "ticks": ""
           },
           "bgcolor": "#E5ECF6",
           "radialaxis": {
            "gridcolor": "white",
            "linecolor": "white",
            "ticks": ""
           }
          },
          "scene": {
           "xaxis": {
            "backgroundcolor": "#E5ECF6",
            "gridcolor": "white",
            "gridwidth": 2,
            "linecolor": "white",
            "showbackground": true,
            "ticks": "",
            "zerolinecolor": "white"
           },
           "yaxis": {
            "backgroundcolor": "#E5ECF6",
            "gridcolor": "white",
            "gridwidth": 2,
            "linecolor": "white",
            "showbackground": true,
            "ticks": "",
            "zerolinecolor": "white"
           },
           "zaxis": {
            "backgroundcolor": "#E5ECF6",
            "gridcolor": "white",
            "gridwidth": 2,
            "linecolor": "white",
            "showbackground": true,
            "ticks": "",
            "zerolinecolor": "white"
           }
          },
          "shapedefaults": {
           "line": {
            "color": "#2a3f5f"
           }
          },
          "ternary": {
           "aaxis": {
            "gridcolor": "white",
            "linecolor": "white",
            "ticks": ""
           },
           "baxis": {
            "gridcolor": "white",
            "linecolor": "white",
            "ticks": ""
           },
           "bgcolor": "#E5ECF6",
           "caxis": {
            "gridcolor": "white",
            "linecolor": "white",
            "ticks": ""
           }
          },
          "title": {
           "x": 0.05
          },
          "xaxis": {
           "automargin": true,
           "gridcolor": "white",
           "linecolor": "white",
           "ticks": "",
           "title": {
            "standoff": 15
           },
           "zerolinecolor": "white",
           "zerolinewidth": 2
          },
          "yaxis": {
           "automargin": true,
           "gridcolor": "white",
           "linecolor": "white",
           "ticks": "",
           "title": {
            "standoff": 15
           },
           "zerolinecolor": "white",
           "zerolinewidth": 2
          }
         }
        },
        "width": 1080,
        "xaxis": {
         "anchor": "y",
         "domain": [
          0,
          1
         ],
         "title": {
          "text": "Locality"
         }
        },
        "yaxis": {
         "anchor": "x",
         "domain": [
          0,
          1
         ],
         "title": {
          "text": "Price"
         }
        }
       }
      }
     },
     "metadata": {}
    }
   ],
   "source": [
    "# Parkings VS Price \n",
    "fig = px.scatter(df2,x='Locality',y='Price')\n",
    "fig.update_layout(height=420,width=1080)\n",
    "fig.show()"
   ]
  },
  {
   "cell_type": "code",
   "execution_count": 29,
   "metadata": {},
   "outputs": [
    {
     "output_type": "execute_result",
     "data": {
      "text/plain": [
       "304"
      ]
     },
     "metadata": {},
     "execution_count": 29
    }
   ],
   "source": [
    "df2.Locality.nunique()"
   ]
  },
  {
   "source": [
    "## Outliers Detection\n",
    "\n",
    "According to BUsiness domain understanding"
   ],
   "cell_type": "markdown",
   "metadata": {}
  },
  {
   "cell_type": "code",
   "execution_count": 30,
   "metadata": {},
   "outputs": [
    {
     "output_type": "display_data",
     "data": {
      "application/vnd.plotly.v1+json": {
       "config": {
        "plotlyServerURL": "https://plot.ly"
       },
       "data": [
        {
         "mode": "markers",
         "name": "2 BHK",
         "type": "scatter",
         "x": [
          1100,
          1200,
          1400,
          1100,
          1200,
          1400
         ],
         "y": [
          15000000,
          17500000,
          14000000,
          15000000,
          17500000,
          14000000
         ]
        },
        {
         "mode": "markers",
         "name": "3 BHK",
         "type": "scatter",
         "x": [
          1400,
          1320,
          1440,
          1400,
          1400,
          1320,
          1440,
          1400
         ],
         "y": [
          19000000,
          15600000,
          19000000,
          19000000,
          19000000,
          15600000,
          19000000,
          19000000
         ]
        }
       ],
       "layout": {
        "height": 420,
        "template": {
         "data": {
          "bar": [
           {
            "error_x": {
             "color": "#2a3f5f"
            },
            "error_y": {
             "color": "#2a3f5f"
            },
            "marker": {
             "line": {
              "color": "#E5ECF6",
              "width": 0.5
             }
            },
            "type": "bar"
           }
          ],
          "barpolar": [
           {
            "marker": {
             "line": {
              "color": "#E5ECF6",
              "width": 0.5
             }
            },
            "type": "barpolar"
           }
          ],
          "carpet": [
           {
            "aaxis": {
             "endlinecolor": "#2a3f5f",
             "gridcolor": "white",
             "linecolor": "white",
             "minorgridcolor": "white",
             "startlinecolor": "#2a3f5f"
            },
            "baxis": {
             "endlinecolor": "#2a3f5f",
             "gridcolor": "white",
             "linecolor": "white",
             "minorgridcolor": "white",
             "startlinecolor": "#2a3f5f"
            },
            "type": "carpet"
           }
          ],
          "choropleth": [
           {
            "colorbar": {
             "outlinewidth": 0,
             "ticks": ""
            },
            "type": "choropleth"
           }
          ],
          "contour": [
           {
            "colorbar": {
             "outlinewidth": 0,
             "ticks": ""
            },
            "colorscale": [
             [
              0,
              "#0d0887"
             ],
             [
              0.1111111111111111,
              "#46039f"
             ],
             [
              0.2222222222222222,
              "#7201a8"
             ],
             [
              0.3333333333333333,
              "#9c179e"
             ],
             [
              0.4444444444444444,
              "#bd3786"
             ],
             [
              0.5555555555555556,
              "#d8576b"
             ],
             [
              0.6666666666666666,
              "#ed7953"
             ],
             [
              0.7777777777777778,
              "#fb9f3a"
             ],
             [
              0.8888888888888888,
              "#fdca26"
             ],
             [
              1,
              "#f0f921"
             ]
            ],
            "type": "contour"
           }
          ],
          "contourcarpet": [
           {
            "colorbar": {
             "outlinewidth": 0,
             "ticks": ""
            },
            "type": "contourcarpet"
           }
          ],
          "heatmap": [
           {
            "colorbar": {
             "outlinewidth": 0,
             "ticks": ""
            },
            "colorscale": [
             [
              0,
              "#0d0887"
             ],
             [
              0.1111111111111111,
              "#46039f"
             ],
             [
              0.2222222222222222,
              "#7201a8"
             ],
             [
              0.3333333333333333,
              "#9c179e"
             ],
             [
              0.4444444444444444,
              "#bd3786"
             ],
             [
              0.5555555555555556,
              "#d8576b"
             ],
             [
              0.6666666666666666,
              "#ed7953"
             ],
             [
              0.7777777777777778,
              "#fb9f3a"
             ],
             [
              0.8888888888888888,
              "#fdca26"
             ],
             [
              1,
              "#f0f921"
             ]
            ],
            "type": "heatmap"
           }
          ],
          "heatmapgl": [
           {
            "colorbar": {
             "outlinewidth": 0,
             "ticks": ""
            },
            "colorscale": [
             [
              0,
              "#0d0887"
             ],
             [
              0.1111111111111111,
              "#46039f"
             ],
             [
              0.2222222222222222,
              "#7201a8"
             ],
             [
              0.3333333333333333,
              "#9c179e"
             ],
             [
              0.4444444444444444,
              "#bd3786"
             ],
             [
              0.5555555555555556,
              "#d8576b"
             ],
             [
              0.6666666666666666,
              "#ed7953"
             ],
             [
              0.7777777777777778,
              "#fb9f3a"
             ],
             [
              0.8888888888888888,
              "#fdca26"
             ],
             [
              1,
              "#f0f921"
             ]
            ],
            "type": "heatmapgl"
           }
          ],
          "histogram": [
           {
            "marker": {
             "colorbar": {
              "outlinewidth": 0,
              "ticks": ""
             }
            },
            "type": "histogram"
           }
          ],
          "histogram2d": [
           {
            "colorbar": {
             "outlinewidth": 0,
             "ticks": ""
            },
            "colorscale": [
             [
              0,
              "#0d0887"
             ],
             [
              0.1111111111111111,
              "#46039f"
             ],
             [
              0.2222222222222222,
              "#7201a8"
             ],
             [
              0.3333333333333333,
              "#9c179e"
             ],
             [
              0.4444444444444444,
              "#bd3786"
             ],
             [
              0.5555555555555556,
              "#d8576b"
             ],
             [
              0.6666666666666666,
              "#ed7953"
             ],
             [
              0.7777777777777778,
              "#fb9f3a"
             ],
             [
              0.8888888888888888,
              "#fdca26"
             ],
             [
              1,
              "#f0f921"
             ]
            ],
            "type": "histogram2d"
           }
          ],
          "histogram2dcontour": [
           {
            "colorbar": {
             "outlinewidth": 0,
             "ticks": ""
            },
            "colorscale": [
             [
              0,
              "#0d0887"
             ],
             [
              0.1111111111111111,
              "#46039f"
             ],
             [
              0.2222222222222222,
              "#7201a8"
             ],
             [
              0.3333333333333333,
              "#9c179e"
             ],
             [
              0.4444444444444444,
              "#bd3786"
             ],
             [
              0.5555555555555556,
              "#d8576b"
             ],
             [
              0.6666666666666666,
              "#ed7953"
             ],
             [
              0.7777777777777778,
              "#fb9f3a"
             ],
             [
              0.8888888888888888,
              "#fdca26"
             ],
             [
              1,
              "#f0f921"
             ]
            ],
            "type": "histogram2dcontour"
           }
          ],
          "mesh3d": [
           {
            "colorbar": {
             "outlinewidth": 0,
             "ticks": ""
            },
            "type": "mesh3d"
           }
          ],
          "parcoords": [
           {
            "line": {
             "colorbar": {
              "outlinewidth": 0,
              "ticks": ""
             }
            },
            "type": "parcoords"
           }
          ],
          "pie": [
           {
            "automargin": true,
            "type": "pie"
           }
          ],
          "scatter": [
           {
            "marker": {
             "colorbar": {
              "outlinewidth": 0,
              "ticks": ""
             }
            },
            "type": "scatter"
           }
          ],
          "scatter3d": [
           {
            "line": {
             "colorbar": {
              "outlinewidth": 0,
              "ticks": ""
             }
            },
            "marker": {
             "colorbar": {
              "outlinewidth": 0,
              "ticks": ""
             }
            },
            "type": "scatter3d"
           }
          ],
          "scattercarpet": [
           {
            "marker": {
             "colorbar": {
              "outlinewidth": 0,
              "ticks": ""
             }
            },
            "type": "scattercarpet"
           }
          ],
          "scattergeo": [
           {
            "marker": {
             "colorbar": {
              "outlinewidth": 0,
              "ticks": ""
             }
            },
            "type": "scattergeo"
           }
          ],
          "scattergl": [
           {
            "marker": {
             "colorbar": {
              "outlinewidth": 0,
              "ticks": ""
             }
            },
            "type": "scattergl"
           }
          ],
          "scattermapbox": [
           {
            "marker": {
             "colorbar": {
              "outlinewidth": 0,
              "ticks": ""
             }
            },
            "type": "scattermapbox"
           }
          ],
          "scatterpolar": [
           {
            "marker": {
             "colorbar": {
              "outlinewidth": 0,
              "ticks": ""
             }
            },
            "type": "scatterpolar"
           }
          ],
          "scatterpolargl": [
           {
            "marker": {
             "colorbar": {
              "outlinewidth": 0,
              "ticks": ""
             }
            },
            "type": "scatterpolargl"
           }
          ],
          "scatterternary": [
           {
            "marker": {
             "colorbar": {
              "outlinewidth": 0,
              "ticks": ""
             }
            },
            "type": "scatterternary"
           }
          ],
          "surface": [
           {
            "colorbar": {
             "outlinewidth": 0,
             "ticks": ""
            },
            "colorscale": [
             [
              0,
              "#0d0887"
             ],
             [
              0.1111111111111111,
              "#46039f"
             ],
             [
              0.2222222222222222,
              "#7201a8"
             ],
             [
              0.3333333333333333,
              "#9c179e"
             ],
             [
              0.4444444444444444,
              "#bd3786"
             ],
             [
              0.5555555555555556,
              "#d8576b"
             ],
             [
              0.6666666666666666,
              "#ed7953"
             ],
             [
              0.7777777777777778,
              "#fb9f3a"
             ],
             [
              0.8888888888888888,
              "#fdca26"
             ],
             [
              1,
              "#f0f921"
             ]
            ],
            "type": "surface"
           }
          ],
          "table": [
           {
            "cells": {
             "fill": {
              "color": "#EBF0F8"
             },
             "line": {
              "color": "white"
             }
            },
            "header": {
             "fill": {
              "color": "#C8D4E3"
             },
             "line": {
              "color": "white"
             }
            },
            "type": "table"
           }
          ]
         },
         "layout": {
          "annotationdefaults": {
           "arrowcolor": "#2a3f5f",
           "arrowhead": 0,
           "arrowwidth": 1
          },
          "autotypenumbers": "strict",
          "coloraxis": {
           "colorbar": {
            "outlinewidth": 0,
            "ticks": ""
           }
          },
          "colorscale": {
           "diverging": [
            [
             0,
             "#8e0152"
            ],
            [
             0.1,
             "#c51b7d"
            ],
            [
             0.2,
             "#de77ae"
            ],
            [
             0.3,
             "#f1b6da"
            ],
            [
             0.4,
             "#fde0ef"
            ],
            [
             0.5,
             "#f7f7f7"
            ],
            [
             0.6,
             "#e6f5d0"
            ],
            [
             0.7,
             "#b8e186"
            ],
            [
             0.8,
             "#7fbc41"
            ],
            [
             0.9,
             "#4d9221"
            ],
            [
             1,
             "#276419"
            ]
           ],
           "sequential": [
            [
             0,
             "#0d0887"
            ],
            [
             0.1111111111111111,
             "#46039f"
            ],
            [
             0.2222222222222222,
             "#7201a8"
            ],
            [
             0.3333333333333333,
             "#9c179e"
            ],
            [
             0.4444444444444444,
             "#bd3786"
            ],
            [
             0.5555555555555556,
             "#d8576b"
            ],
            [
             0.6666666666666666,
             "#ed7953"
            ],
            [
             0.7777777777777778,
             "#fb9f3a"
            ],
            [
             0.8888888888888888,
             "#fdca26"
            ],
            [
             1,
             "#f0f921"
            ]
           ],
           "sequentialminus": [
            [
             0,
             "#0d0887"
            ],
            [
             0.1111111111111111,
             "#46039f"
            ],
            [
             0.2222222222222222,
             "#7201a8"
            ],
            [
             0.3333333333333333,
             "#9c179e"
            ],
            [
             0.4444444444444444,
             "#bd3786"
            ],
            [
             0.5555555555555556,
             "#d8576b"
            ],
            [
             0.6666666666666666,
             "#ed7953"
            ],
            [
             0.7777777777777778,
             "#fb9f3a"
            ],
            [
             0.8888888888888888,
             "#fdca26"
            ],
            [
             1,
             "#f0f921"
            ]
           ]
          },
          "colorway": [
           "#636efa",
           "#EF553B",
           "#00cc96",
           "#ab63fa",
           "#FFA15A",
           "#19d3f3",
           "#FF6692",
           "#B6E880",
           "#FF97FF",
           "#FECB52"
          ],
          "font": {
           "color": "#2a3f5f"
          },
          "geo": {
           "bgcolor": "white",
           "lakecolor": "white",
           "landcolor": "#E5ECF6",
           "showlakes": true,
           "showland": true,
           "subunitcolor": "white"
          },
          "hoverlabel": {
           "align": "left"
          },
          "hovermode": "closest",
          "mapbox": {
           "style": "light"
          },
          "paper_bgcolor": "white",
          "plot_bgcolor": "#E5ECF6",
          "polar": {
           "angularaxis": {
            "gridcolor": "white",
            "linecolor": "white",
            "ticks": ""
           },
           "bgcolor": "#E5ECF6",
           "radialaxis": {
            "gridcolor": "white",
            "linecolor": "white",
            "ticks": ""
           }
          },
          "scene": {
           "xaxis": {
            "backgroundcolor": "#E5ECF6",
            "gridcolor": "white",
            "gridwidth": 2,
            "linecolor": "white",
            "showbackground": true,
            "ticks": "",
            "zerolinecolor": "white"
           },
           "yaxis": {
            "backgroundcolor": "#E5ECF6",
            "gridcolor": "white",
            "gridwidth": 2,
            "linecolor": "white",
            "showbackground": true,
            "ticks": "",
            "zerolinecolor": "white"
           },
           "zaxis": {
            "backgroundcolor": "#E5ECF6",
            "gridcolor": "white",
            "gridwidth": 2,
            "linecolor": "white",
            "showbackground": true,
            "ticks": "",
            "zerolinecolor": "white"
           }
          },
          "shapedefaults": {
           "line": {
            "color": "#2a3f5f"
           }
          },
          "ternary": {
           "aaxis": {
            "gridcolor": "white",
            "linecolor": "white",
            "ticks": ""
           },
           "baxis": {
            "gridcolor": "white",
            "linecolor": "white",
            "ticks": ""
           },
           "bgcolor": "#E5ECF6",
           "caxis": {
            "gridcolor": "white",
            "linecolor": "white",
            "ticks": ""
           }
          },
          "title": {
           "x": 0.05
          },
          "xaxis": {
           "automargin": true,
           "gridcolor": "white",
           "linecolor": "white",
           "ticks": "",
           "title": {
            "standoff": 15
           },
           "zerolinecolor": "white",
           "zerolinewidth": 2
          },
          "yaxis": {
           "automargin": true,
           "gridcolor": "white",
           "linecolor": "white",
           "ticks": "",
           "title": {
            "standoff": 15
           },
           "zerolinecolor": "white",
           "zerolinewidth": 2
          }
         }
        },
        "title": {
         "text": "2bhj vs 3bhk"
        },
        "width": 680,
        "xaxis": {
         "title": {
          "text": "Area in Sqft"
         }
        },
        "yaxis": {
         "title": {
          "text": "Price"
         }
        }
       }
      }
     },
     "metadata": {}
    }
   ],
   "source": [
    "## 1. According to BUsiness domain i am trying to find how many Localities are there where 2bhk costs more than 3bhk ny Area\n",
    "def plot_scatter(df2,Locality):\n",
    "    bhk2 = df2[(df2.Locality == Locality) &(df2.BHK ==2)]\n",
    "    bhk3 = df2[(df2.Locality == Locality) &(df2.BHK ==3)]\n",
    "    fig = go.Figure() \n",
    "    fig.add_trace(go.Scatter(x=bhk2.Area,y=bhk2.Price,\n",
    "                    mode='markers',\n",
    "                    name='2 BHK'))\n",
    "    fig.add_trace(go.Scatter(x=bhk3.Area,y=bhk3.Price,\n",
    "                    mode='markers',\n",
    "                    name='3 BHK'))\n",
    "    fig.update_layout(title='2bhj vs 3bhk', xaxis_title='Area in Sqft', yaxis_title='Price',height=420,width=680)\n",
    "    fig.show()\n",
    "\n",
    "plot_scatter(df2,'Alaknanda')"
   ]
  },
  {
   "cell_type": "code",
   "execution_count": 31,
   "metadata": {},
   "outputs": [],
   "source": [
    "# 2.Dropping Data where Number of bathrooms are more than BHK from 2\n",
    "df2.drop(df2[df2.BHK+2 < df2.Bathroom].index, inplace= True)"
   ]
  },
  {
   "cell_type": "code",
   "execution_count": 32,
   "metadata": {},
   "outputs": [],
   "source": [
    "# 3. Droping all the data points where Area is Less than 300m2 \n",
    "df2.drop(df2[df2['Area'] < 300].index,inplace=True)"
   ]
  },
  {
   "cell_type": "code",
   "execution_count": 33,
   "metadata": {},
   "outputs": [],
   "source": [
    "# 4. As we Know minimum Area required for a flat of 2bhk is more than 400 sqrt_meter\n",
    "df2.drop(df2[(df2['Area'] < 400) & (df2['BHK'] >=2)].index, inplace=True)"
   ]
  },
  {
   "cell_type": "code",
   "execution_count": 34,
   "metadata": {},
   "outputs": [
    {
     "output_type": "execute_result",
     "data": {
      "text/plain": [
       "(969, 10)"
      ]
     },
     "metadata": {},
     "execution_count": 34
    }
   ],
   "source": [
    "df2.shape"
   ]
  },
  {
   "cell_type": "code",
   "execution_count": 35,
   "metadata": {},
   "outputs": [],
   "source": [
    "# Checking normal outliers in our data points by BOXPLOT"
   ]
  },
  {
   "cell_type": "code",
   "execution_count": 36,
   "metadata": {},
   "outputs": [
    {
     "output_type": "display_data",
     "data": {
      "application/vnd.plotly.v1+json": {
       "config": {
        "plotlyServerURL": "https://plot.ly"
       },
       "data": [
        {
         "alignmentgroup": "True",
         "hovertemplate": "Price=%{y}<extra></extra>",
         "legendgroup": "",
         "marker": {
          "color": "#636efa"
         },
         "name": "",
         "notched": false,
         "offsetgroup": "",
         "orientation": "v",
         "showlegend": false,
         "type": "box",
         "x0": " ",
         "xaxis": "x",
         "y": [
          5000000,
          15500000,
          4200000,
          6200000,
          15500000,
          10000000,
          4000000,
          6800000,
          15000000,
          6200000,
          7700000,
          5500000,
          5000000,
          4700000,
          4500000,
          17000000,
          25000000,
          6000000,
          11000000,
          4500000,
          5300000,
          10500000,
          12000000,
          7000000,
          7000000,
          3400000,
          21000000,
          13000000,
          22000000,
          15800000,
          57500000,
          10000000,
          30000000,
          22000000,
          24000000,
          31500000,
          14600000,
          240000000,
          8300000,
          22500000,
          1900000,
          5130000,
          5890000,
          3700000,
          17400000,
          15500000,
          2400000,
          17200000,
          14200000,
          13500000,
          30000000,
          21000000,
          20500000,
          24000000,
          16500000,
          14900000,
          19200000,
          14500000,
          15600000,
          11400000,
          31500000,
          15800000,
          16000000,
          14500000,
          10500000,
          14800000,
          1850000,
          6800000,
          14200000,
          40000000,
          46000000,
          55000000,
          24500000,
          24500000,
          32500000,
          20000000,
          240000000,
          20000000,
          19000000,
          26000000,
          21000000,
          27500000,
          32500000,
          45000000,
          21000000,
          28000000,
          29500000,
          12500000,
          26000000,
          11500000,
          14600000,
          25500000,
          31000000,
          22000000,
          13400000,
          35000000,
          11000000,
          6300000,
          12500000,
          14500000,
          22500000,
          15500000,
          26000000,
          15800000,
          15000000,
          13000000,
          15000000,
          25000000,
          16500000,
          10300000,
          26000000,
          11000000,
          28500000,
          11000000,
          3600000,
          4000000,
          1650000,
          2000000,
          2000000,
          2000000,
          2000000,
          2600000,
          5100000,
          6000000,
          4000000,
          6200000,
          3500000,
          7600000,
          13500000,
          12500000,
          6500000,
          22000000,
          6000000,
          7300000,
          7600000,
          20000000,
          15000000,
          6200000,
          6200000,
          5000000,
          4700000,
          5500000,
          2000000,
          7300000,
          13000000,
          11500000,
          2800000,
          2200000,
          4400000,
          13500000,
          4100000,
          12000000,
          3500000,
          15000000,
          17500000,
          1900000,
          5500000,
          10000000,
          4700000,
          2400000,
          3800000,
          23000000,
          24500000,
          10000000,
          5500000,
          7000000,
          6500000,
          135000000,
          5000000,
          93000000,
          4370000,
          4620000,
          1900000,
          70000000,
          5130000,
          3000000,
          5890000,
          3300000,
          24900000,
          3700000,
          60000000,
          17400000,
          51000000,
          170000000,
          5510000,
          25000000,
          57000000,
          2940000,
          15500000,
          17200000,
          55000000,
          15000000,
          51000000,
          13000000,
          30000000,
          2400000,
          60000000,
          65000000,
          220000000,
          60000000,
          38500000,
          50000000,
          75000000,
          70000000,
          85000000,
          40000000,
          90000000,
          56000000,
          135500000,
          60000000,
          170000000,
          50000000,
          58000000,
          37500000,
          45000000,
          70000000,
          29500000,
          60000000,
          70000000,
          50000000,
          75000000,
          52500000,
          55000000,
          120000000,
          70000000,
          47500000,
          40000000,
          85000000,
          26000000,
          35000000,
          20000000,
          79000000,
          17000000,
          47500000,
          43000000,
          26000000,
          25000000,
          51000000,
          40000000,
          22500000,
          70000000,
          45000000,
          51100000,
          25500000,
          26500000,
          15000000,
          55000000,
          26000000,
          38000000,
          72500000,
          65000000,
          9300000,
          2700000,
          6500000,
          5800000,
          5500000,
          6000000,
          4500000,
          4100000,
          3800000,
          3300000,
          2900000,
          2000000,
          11300000,
          4500000,
          3300000,
          11500000,
          6000000,
          9000000,
          4500000,
          14000000,
          7300000,
          1900000,
          7000000,
          2700000,
          6500000,
          4000000,
          3000000,
          5000000,
          6000000,
          2500000,
          6500000,
          8000000,
          2700000,
          5700000,
          25000000,
          70000000,
          26500000,
          18500000,
          30000000,
          22000000,
          9000000,
          65000000,
          22500000,
          22000000,
          18500000,
          16000000,
          16000000,
          9000000,
          4500000,
          4000000,
          2600000,
          3500000,
          7500000,
          7000000,
          4500000,
          5500000,
          2700000,
          2400000,
          11500000,
          3600000,
          1700000,
          2500000,
          6600000,
          3700000,
          3500000,
          5400000,
          2550000,
          12500000,
          5600000,
          7000000,
          3500000,
          9000000,
          6000000,
          6000000,
          4370000,
          4620000,
          3000000,
          3300000,
          5510000,
          3200000,
          2600000,
          4000000,
          1850000,
          1700000,
          2800000,
          2150000,
          6800000,
          6200000,
          3100000,
          3400000,
          4000000,
          4800000,
          2500000,
          2000000,
          1900000,
          5800000,
          2900000,
          2000000,
          2600000,
          2900000,
          3200000,
          5400000,
          3800000,
          135000000,
          93000000,
          8000000,
          9500000,
          20000000,
          7400000,
          37500000,
          15000000,
          55300000,
          26500000,
          10400000,
          8000000,
          27000000,
          19500000,
          50000000,
          21100000,
          57000000,
          5900000,
          12000000,
          24000000,
          15000000,
          1500000,
          3950000,
          12500000,
          31000000,
          7400000,
          15500000,
          12000000,
          23500000,
          25000000,
          7000000,
          17500000,
          25000000,
          29000000,
          21900000,
          7500000,
          23500000,
          24000000,
          31000000,
          16500000,
          5000000,
          24000000,
          17000000,
          40000000,
          22500000,
          20000000,
          135000000,
          5000000,
          93000000,
          4370000,
          4620000,
          1900000,
          70000000,
          5130000,
          3000000,
          5890000,
          3300000,
          24900000,
          3700000,
          60000000,
          17400000,
          51000000,
          170000000,
          5510000,
          25000000,
          57000000,
          2940000,
          15500000,
          17200000,
          55000000,
          15000000,
          51000000,
          13000000,
          30000000,
          2400000,
          29000000,
          41000000,
          6000000,
          2500000,
          2200000,
          21500000,
          15000000,
          28900000,
          6200000,
          14000000,
          7500000,
          2670000,
          2500000,
          4000000,
          3500000,
          5000000,
          29500000,
          19000000,
          25500000,
          75000000,
          75000000,
          34000000,
          47500000,
          75000000,
          23000000,
          24000000,
          21500000,
          28500000,
          12500000,
          45000000,
          30500000,
          22500000,
          28000000,
          25000000,
          33700000,
          27000000,
          43500000,
          29000000,
          30000000,
          52100000,
          32500000,
          20500000,
          25000000,
          30000000,
          51000000,
          31000000,
          37500000,
          55000000,
          87500000,
          16300000,
          65000000,
          25000000,
          38000000,
          15000000,
          3000000,
          8500000,
          55000000,
          22500000,
          72500000,
          160000000,
          12500000,
          17000000,
          82500000,
          55000000,
          35000000,
          42500000,
          4700000,
          52500000,
          80000000,
          11000000,
          74000000,
          37500000,
          52500000,
          26500000,
          8770000,
          4500000,
          8500000,
          8600000,
          42500000,
          13100000,
          7000000,
          30000000,
          13000000,
          23100000,
          16000000,
          12500000,
          24500000,
          3200000,
          6300000,
          15000000,
          5700000,
          21000000,
          7500000,
          6500000,
          27500000,
          12000000,
          18000000,
          10700000,
          16200000,
          16500000,
          14900000,
          27500000,
          70000000,
          35500000,
          42100000,
          42500000,
          44000000,
          43200000,
          52500000,
          34300000,
          38000000,
          52500000,
          37500000,
          37000000,
          40000000,
          36200000,
          29000000,
          42500000,
          60000000,
          36500000,
          42500000,
          71500000,
          65000000,
          58000000,
          27500000,
          70000000,
          65000000,
          28600000,
          39000000,
          32500000,
          34000000,
          20000000,
          18000000,
          19000000,
          36500000,
          15000000,
          17500000,
          14000000,
          21000000,
          15600000,
          19000000,
          16500000,
          19000000,
          16500000,
          3000000,
          15000000,
          14300000,
          18500000,
          19000000,
          19000000,
          12000000,
          20000000,
          13500000,
          14000000,
          10800000,
          2350000,
          8500000,
          1650000,
          10000000,
          2800000,
          2600000,
          2350000,
          2350000,
          2000000,
          5000000,
          3500000,
          4500000,
          4000000,
          10800000,
          10000000,
          10800000,
          9000000,
          8500000,
          6000000,
          5500000,
          7000000,
          6000000,
          3700000,
          3100000,
          4500000,
          1500000,
          3000000,
          4900000,
          3500000,
          3000000,
          7020000,
          60000000,
          3500000,
          7000000,
          7000000,
          4500000,
          5990000,
          4400000,
          2500000,
          1600000,
          6500000,
          2800000,
          4500000,
          1800000,
          8500000,
          8500000,
          1700000,
          7000000,
          5600000,
          13500000,
          8500000,
          6000000,
          7200000,
          6500000,
          8400000,
          8500000,
          4000000,
          1700000,
          6000000,
          1600000,
          2100000,
          1700000,
          1500000,
          1200000,
          1650000,
          8500000,
          3200000,
          3790000,
          4200000,
          2900000,
          5000000,
          2100000,
          3200000,
          3000000,
          2300000,
          5900000,
          5500000,
          3500000,
          1700000,
          1850000,
          2300000,
          3800000,
          4500000,
          5200000,
          2200000,
          2200000,
          3800000,
          1800000,
          2850000,
          2500000,
          3500000,
          2000000,
          3000000,
          1800000,
          1600000,
          1600000,
          1500000,
          3000000,
          1490000,
          3500000,
          1750000,
          4600000,
          1800000,
          1900000,
          1000000,
          1000000,
          5000000,
          2200000,
          67000000,
          8500000,
          11500000,
          52500000,
          12000000,
          10700000,
          9000000,
          100000000,
          6200000,
          12500000,
          13000000,
          4200000,
          36000000,
          2300000,
          8100000,
          10000000,
          62500000,
          65000000,
          20000000,
          57500000,
          30000000,
          30000000,
          30000000,
          6900000,
          3600000,
          13500000,
          9200000,
          2500000,
          17000000,
          9030000,
          9300000,
          6500000,
          3300000,
          2400000,
          15000000,
          7000000,
          4200000,
          5800000,
          4800000,
          7500000,
          3000000,
          4300000,
          2600000,
          7000000,
          6000000,
          6700000,
          9500000,
          17000000,
          14000000,
          11600000,
          12000000,
          7500000,
          9800000,
          12000000,
          12500000,
          16500000,
          12000000,
          7200000,
          15000000,
          10000000,
          11000000,
          24700000,
          24900000,
          3600000,
          1700000,
          11000000,
          75000000,
          24800000,
          24900000,
          24900000,
          25900000,
          11700000,
          13500000,
          5500000,
          30000000,
          16000000,
          30000000,
          41000000,
          3800000,
          68900000,
          1800000,
          1500000,
          12500000,
          1600000,
          2400000,
          7000000,
          3100000,
          14500000,
          61500000,
          27500000,
          25500000,
          25000000,
          18500000,
          39700000,
          6800000,
          6540000,
          22000000,
          25500000,
          17000000,
          27500000,
          73700000,
          52300000,
          16000000,
          15000000,
          25500000,
          10000000,
          5000000,
          20000000,
          16000000,
          5500000,
          7000000,
          4100000,
          24000000,
          12500000,
          3900000,
          14500000,
          20000000,
          24500000,
          20900000,
          43100000,
          40000000,
          20000000,
          6700000,
          16000000,
          8000000,
          25000000,
          25000000,
          37500000,
          25000000,
          23000000,
          17500000,
          44000000,
          15000000,
          42500000,
          5000000,
          38000000,
          19000000,
          43500000,
          19500000,
          14200000,
          14200000,
          13500000,
          19000000,
          7000000,
          5800000,
          8000000,
          18800000,
          6000000,
          2200000,
          6500000,
          23500000,
          16000000,
          20000000,
          5500000,
          13500000,
          22500000,
          3800000,
          4600000,
          17500000,
          5500000,
          22500000,
          12500000,
          19000000,
          15500000,
          13500000,
          21000000,
          35000000,
          25000000,
          29000000,
          80000000,
          20500000,
          52500000,
          37500000,
          7500000,
          32500000,
          24500000,
          65000000,
          27500000,
          115000000,
          8000000,
          75100000,
          7800000,
          15000000,
          27500000,
          25000000,
          26000000,
          23500000,
          4200000,
          10000000,
          18500000,
          20000000,
          18000000,
          19000000,
          36500000,
          15000000,
          17500000,
          14000000,
          21000000,
          15600000,
          19000000,
          16500000,
          19000000,
          16500000,
          3000000,
          15000000,
          14300000,
          18500000,
          19000000,
          19000000,
          8000000,
          16100000,
          6800000,
          6800000,
          9000000,
          18000000,
          27500000,
          13500000,
          14000000,
          9000000,
          16000000,
          11000000,
          5500000,
          43500000,
          180000000,
          80000000,
          37500000,
          60000000,
          71000000,
          18500000,
          70000000,
          85000000,
          190000000,
          135000000,
          35000000,
          65000000,
          27500000,
          45000000,
          100000000,
          47000000,
          27500000,
          70000000,
          36500000,
          65000000,
          35000000,
          56000000,
          110000000,
          24000000,
          102500000,
          100000000,
          45000000,
          33500000,
          62500000,
          47500000,
          14700000,
          18000000,
          22500000,
          22000000,
          22200000,
          22500000,
          7500000,
          30000000,
          6500000,
          35000000,
          17500000,
          60000000,
          40000000,
          22500000,
          28500000,
          29000000,
          15500000,
          26000000,
          16500000,
          55000000,
          12500000,
          17500000,
          11500000,
          18500000
         ],
         "y0": " ",
         "yaxis": "y"
        }
       ],
       "layout": {
        "boxmode": "group",
        "legend": {
         "tracegroupgap": 0
        },
        "margin": {
         "t": 60
        },
        "template": {
         "data": {
          "bar": [
           {
            "error_x": {
             "color": "#2a3f5f"
            },
            "error_y": {
             "color": "#2a3f5f"
            },
            "marker": {
             "line": {
              "color": "#E5ECF6",
              "width": 0.5
             }
            },
            "type": "bar"
           }
          ],
          "barpolar": [
           {
            "marker": {
             "line": {
              "color": "#E5ECF6",
              "width": 0.5
             }
            },
            "type": "barpolar"
           }
          ],
          "carpet": [
           {
            "aaxis": {
             "endlinecolor": "#2a3f5f",
             "gridcolor": "white",
             "linecolor": "white",
             "minorgridcolor": "white",
             "startlinecolor": "#2a3f5f"
            },
            "baxis": {
             "endlinecolor": "#2a3f5f",
             "gridcolor": "white",
             "linecolor": "white",
             "minorgridcolor": "white",
             "startlinecolor": "#2a3f5f"
            },
            "type": "carpet"
           }
          ],
          "choropleth": [
           {
            "colorbar": {
             "outlinewidth": 0,
             "ticks": ""
            },
            "type": "choropleth"
           }
          ],
          "contour": [
           {
            "colorbar": {
             "outlinewidth": 0,
             "ticks": ""
            },
            "colorscale": [
             [
              0,
              "#0d0887"
             ],
             [
              0.1111111111111111,
              "#46039f"
             ],
             [
              0.2222222222222222,
              "#7201a8"
             ],
             [
              0.3333333333333333,
              "#9c179e"
             ],
             [
              0.4444444444444444,
              "#bd3786"
             ],
             [
              0.5555555555555556,
              "#d8576b"
             ],
             [
              0.6666666666666666,
              "#ed7953"
             ],
             [
              0.7777777777777778,
              "#fb9f3a"
             ],
             [
              0.8888888888888888,
              "#fdca26"
             ],
             [
              1,
              "#f0f921"
             ]
            ],
            "type": "contour"
           }
          ],
          "contourcarpet": [
           {
            "colorbar": {
             "outlinewidth": 0,
             "ticks": ""
            },
            "type": "contourcarpet"
           }
          ],
          "heatmap": [
           {
            "colorbar": {
             "outlinewidth": 0,
             "ticks": ""
            },
            "colorscale": [
             [
              0,
              "#0d0887"
             ],
             [
              0.1111111111111111,
              "#46039f"
             ],
             [
              0.2222222222222222,
              "#7201a8"
             ],
             [
              0.3333333333333333,
              "#9c179e"
             ],
             [
              0.4444444444444444,
              "#bd3786"
             ],
             [
              0.5555555555555556,
              "#d8576b"
             ],
             [
              0.6666666666666666,
              "#ed7953"
             ],
             [
              0.7777777777777778,
              "#fb9f3a"
             ],
             [
              0.8888888888888888,
              "#fdca26"
             ],
             [
              1,
              "#f0f921"
             ]
            ],
            "type": "heatmap"
           }
          ],
          "heatmapgl": [
           {
            "colorbar": {
             "outlinewidth": 0,
             "ticks": ""
            },
            "colorscale": [
             [
              0,
              "#0d0887"
             ],
             [
              0.1111111111111111,
              "#46039f"
             ],
             [
              0.2222222222222222,
              "#7201a8"
             ],
             [
              0.3333333333333333,
              "#9c179e"
             ],
             [
              0.4444444444444444,
              "#bd3786"
             ],
             [
              0.5555555555555556,
              "#d8576b"
             ],
             [
              0.6666666666666666,
              "#ed7953"
             ],
             [
              0.7777777777777778,
              "#fb9f3a"
             ],
             [
              0.8888888888888888,
              "#fdca26"
             ],
             [
              1,
              "#f0f921"
             ]
            ],
            "type": "heatmapgl"
           }
          ],
          "histogram": [
           {
            "marker": {
             "colorbar": {
              "outlinewidth": 0,
              "ticks": ""
             }
            },
            "type": "histogram"
           }
          ],
          "histogram2d": [
           {
            "colorbar": {
             "outlinewidth": 0,
             "ticks": ""
            },
            "colorscale": [
             [
              0,
              "#0d0887"
             ],
             [
              0.1111111111111111,
              "#46039f"
             ],
             [
              0.2222222222222222,
              "#7201a8"
             ],
             [
              0.3333333333333333,
              "#9c179e"
             ],
             [
              0.4444444444444444,
              "#bd3786"
             ],
             [
              0.5555555555555556,
              "#d8576b"
             ],
             [
              0.6666666666666666,
              "#ed7953"
             ],
             [
              0.7777777777777778,
              "#fb9f3a"
             ],
             [
              0.8888888888888888,
              "#fdca26"
             ],
             [
              1,
              "#f0f921"
             ]
            ],
            "type": "histogram2d"
           }
          ],
          "histogram2dcontour": [
           {
            "colorbar": {
             "outlinewidth": 0,
             "ticks": ""
            },
            "colorscale": [
             [
              0,
              "#0d0887"
             ],
             [
              0.1111111111111111,
              "#46039f"
             ],
             [
              0.2222222222222222,
              "#7201a8"
             ],
             [
              0.3333333333333333,
              "#9c179e"
             ],
             [
              0.4444444444444444,
              "#bd3786"
             ],
             [
              0.5555555555555556,
              "#d8576b"
             ],
             [
              0.6666666666666666,
              "#ed7953"
             ],
             [
              0.7777777777777778,
              "#fb9f3a"
             ],
             [
              0.8888888888888888,
              "#fdca26"
             ],
             [
              1,
              "#f0f921"
             ]
            ],
            "type": "histogram2dcontour"
           }
          ],
          "mesh3d": [
           {
            "colorbar": {
             "outlinewidth": 0,
             "ticks": ""
            },
            "type": "mesh3d"
           }
          ],
          "parcoords": [
           {
            "line": {
             "colorbar": {
              "outlinewidth": 0,
              "ticks": ""
             }
            },
            "type": "parcoords"
           }
          ],
          "pie": [
           {
            "automargin": true,
            "type": "pie"
           }
          ],
          "scatter": [
           {
            "marker": {
             "colorbar": {
              "outlinewidth": 0,
              "ticks": ""
             }
            },
            "type": "scatter"
           }
          ],
          "scatter3d": [
           {
            "line": {
             "colorbar": {
              "outlinewidth": 0,
              "ticks": ""
             }
            },
            "marker": {
             "colorbar": {
              "outlinewidth": 0,
              "ticks": ""
             }
            },
            "type": "scatter3d"
           }
          ],
          "scattercarpet": [
           {
            "marker": {
             "colorbar": {
              "outlinewidth": 0,
              "ticks": ""
             }
            },
            "type": "scattercarpet"
           }
          ],
          "scattergeo": [
           {
            "marker": {
             "colorbar": {
              "outlinewidth": 0,
              "ticks": ""
             }
            },
            "type": "scattergeo"
           }
          ],
          "scattergl": [
           {
            "marker": {
             "colorbar": {
              "outlinewidth": 0,
              "ticks": ""
             }
            },
            "type": "scattergl"
           }
          ],
          "scattermapbox": [
           {
            "marker": {
             "colorbar": {
              "outlinewidth": 0,
              "ticks": ""
             }
            },
            "type": "scattermapbox"
           }
          ],
          "scatterpolar": [
           {
            "marker": {
             "colorbar": {
              "outlinewidth": 0,
              "ticks": ""
             }
            },
            "type": "scatterpolar"
           }
          ],
          "scatterpolargl": [
           {
            "marker": {
             "colorbar": {
              "outlinewidth": 0,
              "ticks": ""
             }
            },
            "type": "scatterpolargl"
           }
          ],
          "scatterternary": [
           {
            "marker": {
             "colorbar": {
              "outlinewidth": 0,
              "ticks": ""
             }
            },
            "type": "scatterternary"
           }
          ],
          "surface": [
           {
            "colorbar": {
             "outlinewidth": 0,
             "ticks": ""
            },
            "colorscale": [
             [
              0,
              "#0d0887"
             ],
             [
              0.1111111111111111,
              "#46039f"
             ],
             [
              0.2222222222222222,
              "#7201a8"
             ],
             [
              0.3333333333333333,
              "#9c179e"
             ],
             [
              0.4444444444444444,
              "#bd3786"
             ],
             [
              0.5555555555555556,
              "#d8576b"
             ],
             [
              0.6666666666666666,
              "#ed7953"
             ],
             [
              0.7777777777777778,
              "#fb9f3a"
             ],
             [
              0.8888888888888888,
              "#fdca26"
             ],
             [
              1,
              "#f0f921"
             ]
            ],
            "type": "surface"
           }
          ],
          "table": [
           {
            "cells": {
             "fill": {
              "color": "#EBF0F8"
             },
             "line": {
              "color": "white"
             }
            },
            "header": {
             "fill": {
              "color": "#C8D4E3"
             },
             "line": {
              "color": "white"
             }
            },
            "type": "table"
           }
          ]
         },
         "layout": {
          "annotationdefaults": {
           "arrowcolor": "#2a3f5f",
           "arrowhead": 0,
           "arrowwidth": 1
          },
          "autotypenumbers": "strict",
          "coloraxis": {
           "colorbar": {
            "outlinewidth": 0,
            "ticks": ""
           }
          },
          "colorscale": {
           "diverging": [
            [
             0,
             "#8e0152"
            ],
            [
             0.1,
             "#c51b7d"
            ],
            [
             0.2,
             "#de77ae"
            ],
            [
             0.3,
             "#f1b6da"
            ],
            [
             0.4,
             "#fde0ef"
            ],
            [
             0.5,
             "#f7f7f7"
            ],
            [
             0.6,
             "#e6f5d0"
            ],
            [
             0.7,
             "#b8e186"
            ],
            [
             0.8,
             "#7fbc41"
            ],
            [
             0.9,
             "#4d9221"
            ],
            [
             1,
             "#276419"
            ]
           ],
           "sequential": [
            [
             0,
             "#0d0887"
            ],
            [
             0.1111111111111111,
             "#46039f"
            ],
            [
             0.2222222222222222,
             "#7201a8"
            ],
            [
             0.3333333333333333,
             "#9c179e"
            ],
            [
             0.4444444444444444,
             "#bd3786"
            ],
            [
             0.5555555555555556,
             "#d8576b"
            ],
            [
             0.6666666666666666,
             "#ed7953"
            ],
            [
             0.7777777777777778,
             "#fb9f3a"
            ],
            [
             0.8888888888888888,
             "#fdca26"
            ],
            [
             1,
             "#f0f921"
            ]
           ],
           "sequentialminus": [
            [
             0,
             "#0d0887"
            ],
            [
             0.1111111111111111,
             "#46039f"
            ],
            [
             0.2222222222222222,
             "#7201a8"
            ],
            [
             0.3333333333333333,
             "#9c179e"
            ],
            [
             0.4444444444444444,
             "#bd3786"
            ],
            [
             0.5555555555555556,
             "#d8576b"
            ],
            [
             0.6666666666666666,
             "#ed7953"
            ],
            [
             0.7777777777777778,
             "#fb9f3a"
            ],
            [
             0.8888888888888888,
             "#fdca26"
            ],
            [
             1,
             "#f0f921"
            ]
           ]
          },
          "colorway": [
           "#636efa",
           "#EF553B",
           "#00cc96",
           "#ab63fa",
           "#FFA15A",
           "#19d3f3",
           "#FF6692",
           "#B6E880",
           "#FF97FF",
           "#FECB52"
          ],
          "font": {
           "color": "#2a3f5f"
          },
          "geo": {
           "bgcolor": "white",
           "lakecolor": "white",
           "landcolor": "#E5ECF6",
           "showlakes": true,
           "showland": true,
           "subunitcolor": "white"
          },
          "hoverlabel": {
           "align": "left"
          },
          "hovermode": "closest",
          "mapbox": {
           "style": "light"
          },
          "paper_bgcolor": "white",
          "plot_bgcolor": "#E5ECF6",
          "polar": {
           "angularaxis": {
            "gridcolor": "white",
            "linecolor": "white",
            "ticks": ""
           },
           "bgcolor": "#E5ECF6",
           "radialaxis": {
            "gridcolor": "white",
            "linecolor": "white",
            "ticks": ""
           }
          },
          "scene": {
           "xaxis": {
            "backgroundcolor": "#E5ECF6",
            "gridcolor": "white",
            "gridwidth": 2,
            "linecolor": "white",
            "showbackground": true,
            "ticks": "",
            "zerolinecolor": "white"
           },
           "yaxis": {
            "backgroundcolor": "#E5ECF6",
            "gridcolor": "white",
            "gridwidth": 2,
            "linecolor": "white",
            "showbackground": true,
            "ticks": "",
            "zerolinecolor": "white"
           },
           "zaxis": {
            "backgroundcolor": "#E5ECF6",
            "gridcolor": "white",
            "gridwidth": 2,
            "linecolor": "white",
            "showbackground": true,
            "ticks": "",
            "zerolinecolor": "white"
           }
          },
          "shapedefaults": {
           "line": {
            "color": "#2a3f5f"
           }
          },
          "ternary": {
           "aaxis": {
            "gridcolor": "white",
            "linecolor": "white",
            "ticks": ""
           },
           "baxis": {
            "gridcolor": "white",
            "linecolor": "white",
            "ticks": ""
           },
           "bgcolor": "#E5ECF6",
           "caxis": {
            "gridcolor": "white",
            "linecolor": "white",
            "ticks": ""
           }
          },
          "title": {
           "x": 0.05
          },
          "xaxis": {
           "automargin": true,
           "gridcolor": "white",
           "linecolor": "white",
           "ticks": "",
           "title": {
            "standoff": 15
           },
           "zerolinecolor": "white",
           "zerolinewidth": 2
          },
          "yaxis": {
           "automargin": true,
           "gridcolor": "white",
           "linecolor": "white",
           "ticks": "",
           "title": {
            "standoff": 15
           },
           "zerolinecolor": "white",
           "zerolinewidth": 2
          }
         }
        },
        "xaxis": {
         "anchor": "y",
         "domain": [
          0,
          1
         ]
        },
        "yaxis": {
         "anchor": "x",
         "domain": [
          0,
          1
         ],
         "title": {
          "text": "Price"
         }
        }
       }
      }
     },
     "metadata": {}
    }
   ],
   "source": [
    "fig = px.box(df2,y='Price')\n",
    "fig.show()"
   ]
  },
  {
   "cell_type": "code",
   "execution_count": 37,
   "metadata": {},
   "outputs": [
    {
     "output_type": "display_data",
     "data": {
      "application/vnd.plotly.v1+json": {
       "config": {
        "plotlyServerURL": "https://plot.ly"
       },
       "data": [
        {
         "alignmentgroup": "True",
         "hovertemplate": "Area=%{y}<extra></extra>",
         "legendgroup": "",
         "marker": {
          "color": "#636efa"
         },
         "name": "",
         "notched": false,
         "offsetgroup": "",
         "orientation": "v",
         "showlegend": false,
         "type": "box",
         "x0": " ",
         "xaxis": "x",
         "y": [
          750,
          950,
          600,
          650,
          1300,
          1350,
          650,
          985,
          1300,
          1100,
          870,
          630,
          660,
          660,
          550,
          1100,
          1150,
          650,
          850,
          900,
          430.556,
          900,
          914.9315,
          1100,
          800,
          500,
          2160,
          900,
          1000,
          900,
          2925,
          900,
          1600,
          1143,
          1150,
          1500,
          850,
          8000,
          890,
          1100,
          850,
          1350,
          1387,
          1050,
          1500,
          1200,
          700,
          1700,
          1550,
          1400,
          1900,
          2160,
          1700,
          1850,
          1800,
          1620,
          1800,
          1540,
          1600,
          1400,
          2300,
          1560,
          1500,
          1540,
          1050,
          1800,
          400,
          1150,
          1525,
          1500,
          2880,
          2700,
          1400,
          1800,
          1400,
          1000,
          8000,
          1000,
          1700,
          1600,
          1350,
          1700,
          1400,
          1450,
          1350,
          1700,
          1600,
          1350,
          1500,
          750,
          850,
          1575,
          1675,
          1350,
          900,
          1800,
          900,
          900,
          900,
          800,
          1100,
          810,
          1500,
          900,
          825,
          900,
          875,
          1350,
          750,
          900,
          1350,
          900,
          1800,
          900,
          450,
          900,
          500,
          450,
          500,
          444,
          400,
          729,
          4050,
          2400,
          450,
          405,
          666,
          1000,
          1360,
          1550,
          850,
          2170,
          720,
          850,
          950,
          2300,
          1300,
          1100,
          1030,
          750,
          720,
          800,
          350,
          980,
          1600,
          1450,
          445,
          380,
          680,
          1600,
          630,
          1500,
          550,
          2500,
          2800,
          300,
          800,
          1295,
          700,
          350,
          450,
          2200,
          2300,
          1150,
          800,
          850,
          720,
          4688,
          750,
          3901,
          950,
          1000,
          850,
          2400,
          1350,
          540,
          1387,
          540,
          976,
          1050,
          2700,
          1500,
          2900,
          5025,
          1000,
          1135,
          2306,
          850,
          1200,
          1700,
          1800,
          1100,
          22050,
          1550,
          1600,
          700,
          4500,
          1800,
          6000,
          4300,
          1700,
          2500,
          4500,
          2450,
          4800,
          1600,
          3500,
          2100,
          4200,
          1500,
          8150,
          2200,
          3500,
          2070,
          3500,
          2000,
          2800,
          2550,
          4500,
          1400,
          2800,
          2700,
          4500,
          7200,
          3500,
          2200,
          2200,
          3500,
          1440,
          3150,
          900,
          3690,
          1200,
          4500,
          2799,
          1350,
          1200,
          2177,
          1500,
          1600,
          4500,
          2150,
          2107,
          1150,
          1240,
          1000,
          4500,
          1150,
          2000,
          4500,
          3000,
          1425,
          440,
          1017,
          650,
          950,
          810,
          750,
          990,
          800,
          675,
          558,
          445,
          1350,
          850,
          846,
          1300,
          900,
          1050,
          850,
          1650,
          1150,
          495.1394,
          1053,
          540,
          747,
          720,
          376.7365,
          1125,
          713,
          360,
          900,
          713,
          504,
          850,
          2430,
          2475,
          2970,
          2250,
          1500,
          1512,
          400,
          2160,
          630,
          720,
          675,
          700,
          675,
          720,
          850,
          990,
          420,
          450,
          1000,
          900,
          800,
          720,
          450,
          675,
          1700,
          550,
          387,
          450,
          900,
          500,
          441,
          800,
          450,
          1000,
          715,
          600,
          540,
          810,
          900,
          1000,
          950,
          1000,
          540,
          540,
          1000,
          500,
          540,
          780,
          450,
          360,
          900,
          495,
          1200,
          1000,
          620,
          680,
          805,
          729,
          540,
          360,
          550,
          1001,
          450,
          550,
          550,
          675,
          585,
          810,
          765,
          4688,
          3901,
          800,
          900,
          1680,
          900,
          2000,
          2000,
          1900,
          1530,
          900,
          950,
          1800,
          1500,
          1800,
          1800,
          2306,
          850,
          900,
          1800,
          1782,
          900,
          405,
          1500,
          2000,
          650,
          1100,
          1075,
          1450,
          1200,
          600,
          1000,
          1600,
          1750,
          1300,
          550,
          2200,
          1100,
          1700,
          1100,
          1000,
          1350,
          1184,
          2000,
          3500,
          900,
          4688,
          750,
          3901,
          950,
          1000,
          850,
          2400,
          1350,
          540,
          1387,
          540,
          976,
          1050,
          2700,
          1500,
          2900,
          5025,
          1000,
          1135,
          2306,
          850,
          1200,
          1700,
          1800,
          1100,
          22050,
          1550,
          1600,
          700,
          1750,
          2210,
          760,
          400,
          380,
          904.1676,
          900,
          810,
          900,
          1650,
          1000,
          852,
          700,
          990,
          450,
          1000,
          1700,
          1350,
          2100,
          2600,
          3000,
          1450,
          2050,
          3000,
          1800,
          900,
          1500,
          1500,
          1800,
          1674,
          2025,
          1300,
          990,
          2100,
          2250,
          1500,
          2700,
          1700,
          1700,
          2050,
          1800,
          1500,
          2000,
          1500,
          24300,
          2475,
          1500,
          2100,
          1800,
          1100,
          2035,
          1100,
          1550,
          700,
          540,
          810,
          3250,
          1600,
          4000,
          5500,
          900,
          972,
          4150,
          2250,
          1650,
          2610,
          600,
          1700,
          2250,
          880,
          4200,
          1450,
          2200,
          1800,
          780,
          405,
          900,
          807.2925,
          2700,
          1100,
          585,
          2152.78,
          960,
          1800,
          1100,
          900,
          1620,
          378,
          800,
          1350,
          850,
          1580,
          820,
          594,
          14220,
          800,
          1500,
          1000,
          1500,
          1700,
          1750,
          2700,
          3405,
          1500,
          2105,
          2500,
          2090,
          2525,
          2500,
          2100,
          2022,
          2650,
          1850,
          2100,
          1700,
          2105,
          1250,
          2552,
          3112,
          2125,
          2065,
          3405,
          3050,
          2300,
          1455,
          3400,
          3100,
          1400,
          2126,
          1815,
          1700,
          1600,
          1400,
          1400,
          2700,
          1100,
          1200,
          1400,
          1500,
          1320,
          1300,
          1150,
          1440,
          1400,
          450,
          1300,
          1200,
          1300,
          1400,
          1400,
          1800,
          1300,
          1150,
          1500,
          1150,
          450,
          1350,
          445,
          1200,
          1100,
          700,
          500,
          540,
          450,
          800,
          700,
          750,
          750,
          1600,
          1000,
          1600,
          900,
          1700,
          1100,
          1000,
          1000,
          1100,
          765,
          900,
          600,
          360,
          725,
          900,
          750,
          700,
          950,
          1600,
          900,
          1500,
          500,
          1035,
          825,
          1300,
          765,
          580,
          1750,
          850,
          800,
          405,
          1350,
          1350,
          450,
          1300,
          1050,
          1675,
          1250,
          1080,
          1170,
          1250,
          1500,
          1350,
          855,
          540,
          1044.0983,
          405,
          500,
          450,
          405,
          405,
          450,
          1100,
          600,
          770,
          810,
          710,
          950,
          450,
          500,
          600,
          420,
          900,
          945,
          565,
          450,
          430,
          550,
          810,
          720,
          820,
          459,
          450,
          900,
          360,
          559.7228,
          350,
          365,
          390,
          350,
          500,
          350,
          379,
          445,
          452.0838,
          350,
          437,
          495,
          900,
          350,
          585,
          4900,
          2077.4327,
          990,
          425,
          3000,
          850,
          750,
          2600,
          800,
          550,
          700,
          2316,
          900,
          900,
          1500,
          650,
          2000,
          500,
          1125,
          1300,
          2500,
          2200,
          1290,
          2250,
          1350,
          1400,
          1700,
          900,
          400,
          900,
          1000,
          405,
          1700,
          800,
          1076.39,
          750,
          460,
          370,
          1800,
          1080,
          350,
          500,
          900,
          800,
          350,
          430.556,
          500,
          1450,
          800,
          1000,
          1000,
          1600,
          1450,
          1450,
          1150,
          780,
          1300,
          1350,
          1200,
          1460,
          1460,
          1100,
          1500,
          1050,
          1350,
          1500,
          976,
          540,
          450,
          900,
          2500,
          979.5149,
          945,
          976,
          1531,
          1000,
          750,
          900,
          1512,
          1500,
          2907,
          2210,
          750,
          2518.7526,
          588,
          540,
          1100,
          550,
          750,
          1260,
          675,
          810,
          3150,
          2000,
          1775,
          1135,
          1252,
          2000,
          530,
          1332,
          1017,
          1775,
          987,
          1912,
          5236,
          2805,
          1500,
          1280,
          1775,
          675,
          576,
          1206,
          1143,
          345,
          720,
          468,
          1600,
          950,
          535,
          1200,
          1501,
          1135,
          1200,
          2200,
          2800,
          1646,
          900,
          1250,
          900,
          1590,
          990,
          2282,
          1260,
          1457,
          1400,
          2175,
          1450,
          2800,
          861.112,
          2282,
          1753,
          2659,
          1550,
          1470,
          702,
          1138,
          1800,
          600,
          1250,
          600,
          1600,
          1100,
          450,
          855,
          1291.668,
          1300,
          1350,
          900,
          850,
          1650,
          650,
          630,
          1250,
          1800,
          1500,
          1100,
          1400,
          1300,
          1100,
          1600,
          2572,
          2100,
          1620,
          2500,
          2250,
          2445,
          2250,
          800,
          1450,
          1440,
          5220,
          1800,
          4455,
          807.2925,
          3500,
          1000,
          900,
          1800,
          17010,
          2340,
          1350,
          464,
          954,
          1155,
          1600,
          1400,
          1400,
          2700,
          1100,
          1200,
          1400,
          1500,
          1320,
          1300,
          1150,
          1440,
          1400,
          450,
          1300,
          1200,
          1300,
          1400,
          1400,
          800,
          1150,
          900,
          1070,
          1050,
          1000,
          1550,
          1300,
          810,
          900,
          1200,
          1000,
          720,
          1800,
          6000,
          1800,
          2000,
          2066,
          2050,
          1100,
          4500,
          4500,
          6500,
          4350,
          1750,
          3600,
          1200,
          1500,
          2250,
          1800,
          1600,
          2800,
          1700,
          2400,
          1980,
          2100,
          5400,
          1250,
          2300,
          2700,
          1450,
          1600,
          2600,
          1700,
          1116,
          1070,
          1200,
          1200,
          1200,
          1450,
          1000,
          2430,
          945,
          1650,
          1350,
          2625,
          1800,
          1440,
          1900,
          1800,
          1200,
          1800,
          1200,
          4118,
          1050,
          875,
          990,
          11050
         ],
         "y0": " ",
         "yaxis": "y"
        }
       ],
       "layout": {
        "boxmode": "group",
        "legend": {
         "tracegroupgap": 0
        },
        "margin": {
         "t": 60
        },
        "template": {
         "data": {
          "bar": [
           {
            "error_x": {
             "color": "#2a3f5f"
            },
            "error_y": {
             "color": "#2a3f5f"
            },
            "marker": {
             "line": {
              "color": "#E5ECF6",
              "width": 0.5
             }
            },
            "type": "bar"
           }
          ],
          "barpolar": [
           {
            "marker": {
             "line": {
              "color": "#E5ECF6",
              "width": 0.5
             }
            },
            "type": "barpolar"
           }
          ],
          "carpet": [
           {
            "aaxis": {
             "endlinecolor": "#2a3f5f",
             "gridcolor": "white",
             "linecolor": "white",
             "minorgridcolor": "white",
             "startlinecolor": "#2a3f5f"
            },
            "baxis": {
             "endlinecolor": "#2a3f5f",
             "gridcolor": "white",
             "linecolor": "white",
             "minorgridcolor": "white",
             "startlinecolor": "#2a3f5f"
            },
            "type": "carpet"
           }
          ],
          "choropleth": [
           {
            "colorbar": {
             "outlinewidth": 0,
             "ticks": ""
            },
            "type": "choropleth"
           }
          ],
          "contour": [
           {
            "colorbar": {
             "outlinewidth": 0,
             "ticks": ""
            },
            "colorscale": [
             [
              0,
              "#0d0887"
             ],
             [
              0.1111111111111111,
              "#46039f"
             ],
             [
              0.2222222222222222,
              "#7201a8"
             ],
             [
              0.3333333333333333,
              "#9c179e"
             ],
             [
              0.4444444444444444,
              "#bd3786"
             ],
             [
              0.5555555555555556,
              "#d8576b"
             ],
             [
              0.6666666666666666,
              "#ed7953"
             ],
             [
              0.7777777777777778,
              "#fb9f3a"
             ],
             [
              0.8888888888888888,
              "#fdca26"
             ],
             [
              1,
              "#f0f921"
             ]
            ],
            "type": "contour"
           }
          ],
          "contourcarpet": [
           {
            "colorbar": {
             "outlinewidth": 0,
             "ticks": ""
            },
            "type": "contourcarpet"
           }
          ],
          "heatmap": [
           {
            "colorbar": {
             "outlinewidth": 0,
             "ticks": ""
            },
            "colorscale": [
             [
              0,
              "#0d0887"
             ],
             [
              0.1111111111111111,
              "#46039f"
             ],
             [
              0.2222222222222222,
              "#7201a8"
             ],
             [
              0.3333333333333333,
              "#9c179e"
             ],
             [
              0.4444444444444444,
              "#bd3786"
             ],
             [
              0.5555555555555556,
              "#d8576b"
             ],
             [
              0.6666666666666666,
              "#ed7953"
             ],
             [
              0.7777777777777778,
              "#fb9f3a"
             ],
             [
              0.8888888888888888,
              "#fdca26"
             ],
             [
              1,
              "#f0f921"
             ]
            ],
            "type": "heatmap"
           }
          ],
          "heatmapgl": [
           {
            "colorbar": {
             "outlinewidth": 0,
             "ticks": ""
            },
            "colorscale": [
             [
              0,
              "#0d0887"
             ],
             [
              0.1111111111111111,
              "#46039f"
             ],
             [
              0.2222222222222222,
              "#7201a8"
             ],
             [
              0.3333333333333333,
              "#9c179e"
             ],
             [
              0.4444444444444444,
              "#bd3786"
             ],
             [
              0.5555555555555556,
              "#d8576b"
             ],
             [
              0.6666666666666666,
              "#ed7953"
             ],
             [
              0.7777777777777778,
              "#fb9f3a"
             ],
             [
              0.8888888888888888,
              "#fdca26"
             ],
             [
              1,
              "#f0f921"
             ]
            ],
            "type": "heatmapgl"
           }
          ],
          "histogram": [
           {
            "marker": {
             "colorbar": {
              "outlinewidth": 0,
              "ticks": ""
             }
            },
            "type": "histogram"
           }
          ],
          "histogram2d": [
           {
            "colorbar": {
             "outlinewidth": 0,
             "ticks": ""
            },
            "colorscale": [
             [
              0,
              "#0d0887"
             ],
             [
              0.1111111111111111,
              "#46039f"
             ],
             [
              0.2222222222222222,
              "#7201a8"
             ],
             [
              0.3333333333333333,
              "#9c179e"
             ],
             [
              0.4444444444444444,
              "#bd3786"
             ],
             [
              0.5555555555555556,
              "#d8576b"
             ],
             [
              0.6666666666666666,
              "#ed7953"
             ],
             [
              0.7777777777777778,
              "#fb9f3a"
             ],
             [
              0.8888888888888888,
              "#fdca26"
             ],
             [
              1,
              "#f0f921"
             ]
            ],
            "type": "histogram2d"
           }
          ],
          "histogram2dcontour": [
           {
            "colorbar": {
             "outlinewidth": 0,
             "ticks": ""
            },
            "colorscale": [
             [
              0,
              "#0d0887"
             ],
             [
              0.1111111111111111,
              "#46039f"
             ],
             [
              0.2222222222222222,
              "#7201a8"
             ],
             [
              0.3333333333333333,
              "#9c179e"
             ],
             [
              0.4444444444444444,
              "#bd3786"
             ],
             [
              0.5555555555555556,
              "#d8576b"
             ],
             [
              0.6666666666666666,
              "#ed7953"
             ],
             [
              0.7777777777777778,
              "#fb9f3a"
             ],
             [
              0.8888888888888888,
              "#fdca26"
             ],
             [
              1,
              "#f0f921"
             ]
            ],
            "type": "histogram2dcontour"
           }
          ],
          "mesh3d": [
           {
            "colorbar": {
             "outlinewidth": 0,
             "ticks": ""
            },
            "type": "mesh3d"
           }
          ],
          "parcoords": [
           {
            "line": {
             "colorbar": {
              "outlinewidth": 0,
              "ticks": ""
             }
            },
            "type": "parcoords"
           }
          ],
          "pie": [
           {
            "automargin": true,
            "type": "pie"
           }
          ],
          "scatter": [
           {
            "marker": {
             "colorbar": {
              "outlinewidth": 0,
              "ticks": ""
             }
            },
            "type": "scatter"
           }
          ],
          "scatter3d": [
           {
            "line": {
             "colorbar": {
              "outlinewidth": 0,
              "ticks": ""
             }
            },
            "marker": {
             "colorbar": {
              "outlinewidth": 0,
              "ticks": ""
             }
            },
            "type": "scatter3d"
           }
          ],
          "scattercarpet": [
           {
            "marker": {
             "colorbar": {
              "outlinewidth": 0,
              "ticks": ""
             }
            },
            "type": "scattercarpet"
           }
          ],
          "scattergeo": [
           {
            "marker": {
             "colorbar": {
              "outlinewidth": 0,
              "ticks": ""
             }
            },
            "type": "scattergeo"
           }
          ],
          "scattergl": [
           {
            "marker": {
             "colorbar": {
              "outlinewidth": 0,
              "ticks": ""
             }
            },
            "type": "scattergl"
           }
          ],
          "scattermapbox": [
           {
            "marker": {
             "colorbar": {
              "outlinewidth": 0,
              "ticks": ""
             }
            },
            "type": "scattermapbox"
           }
          ],
          "scatterpolar": [
           {
            "marker": {
             "colorbar": {
              "outlinewidth": 0,
              "ticks": ""
             }
            },
            "type": "scatterpolar"
           }
          ],
          "scatterpolargl": [
           {
            "marker": {
             "colorbar": {
              "outlinewidth": 0,
              "ticks": ""
             }
            },
            "type": "scatterpolargl"
           }
          ],
          "scatterternary": [
           {
            "marker": {
             "colorbar": {
              "outlinewidth": 0,
              "ticks": ""
             }
            },
            "type": "scatterternary"
           }
          ],
          "surface": [
           {
            "colorbar": {
             "outlinewidth": 0,
             "ticks": ""
            },
            "colorscale": [
             [
              0,
              "#0d0887"
             ],
             [
              0.1111111111111111,
              "#46039f"
             ],
             [
              0.2222222222222222,
              "#7201a8"
             ],
             [
              0.3333333333333333,
              "#9c179e"
             ],
             [
              0.4444444444444444,
              "#bd3786"
             ],
             [
              0.5555555555555556,
              "#d8576b"
             ],
             [
              0.6666666666666666,
              "#ed7953"
             ],
             [
              0.7777777777777778,
              "#fb9f3a"
             ],
             [
              0.8888888888888888,
              "#fdca26"
             ],
             [
              1,
              "#f0f921"
             ]
            ],
            "type": "surface"
           }
          ],
          "table": [
           {
            "cells": {
             "fill": {
              "color": "#EBF0F8"
             },
             "line": {
              "color": "white"
             }
            },
            "header": {
             "fill": {
              "color": "#C8D4E3"
             },
             "line": {
              "color": "white"
             }
            },
            "type": "table"
           }
          ]
         },
         "layout": {
          "annotationdefaults": {
           "arrowcolor": "#2a3f5f",
           "arrowhead": 0,
           "arrowwidth": 1
          },
          "autotypenumbers": "strict",
          "coloraxis": {
           "colorbar": {
            "outlinewidth": 0,
            "ticks": ""
           }
          },
          "colorscale": {
           "diverging": [
            [
             0,
             "#8e0152"
            ],
            [
             0.1,
             "#c51b7d"
            ],
            [
             0.2,
             "#de77ae"
            ],
            [
             0.3,
             "#f1b6da"
            ],
            [
             0.4,
             "#fde0ef"
            ],
            [
             0.5,
             "#f7f7f7"
            ],
            [
             0.6,
             "#e6f5d0"
            ],
            [
             0.7,
             "#b8e186"
            ],
            [
             0.8,
             "#7fbc41"
            ],
            [
             0.9,
             "#4d9221"
            ],
            [
             1,
             "#276419"
            ]
           ],
           "sequential": [
            [
             0,
             "#0d0887"
            ],
            [
             0.1111111111111111,
             "#46039f"
            ],
            [
             0.2222222222222222,
             "#7201a8"
            ],
            [
             0.3333333333333333,
             "#9c179e"
            ],
            [
             0.4444444444444444,
             "#bd3786"
            ],
            [
             0.5555555555555556,
             "#d8576b"
            ],
            [
             0.6666666666666666,
             "#ed7953"
            ],
            [
             0.7777777777777778,
             "#fb9f3a"
            ],
            [
             0.8888888888888888,
             "#fdca26"
            ],
            [
             1,
             "#f0f921"
            ]
           ],
           "sequentialminus": [
            [
             0,
             "#0d0887"
            ],
            [
             0.1111111111111111,
             "#46039f"
            ],
            [
             0.2222222222222222,
             "#7201a8"
            ],
            [
             0.3333333333333333,
             "#9c179e"
            ],
            [
             0.4444444444444444,
             "#bd3786"
            ],
            [
             0.5555555555555556,
             "#d8576b"
            ],
            [
             0.6666666666666666,
             "#ed7953"
            ],
            [
             0.7777777777777778,
             "#fb9f3a"
            ],
            [
             0.8888888888888888,
             "#fdca26"
            ],
            [
             1,
             "#f0f921"
            ]
           ]
          },
          "colorway": [
           "#636efa",
           "#EF553B",
           "#00cc96",
           "#ab63fa",
           "#FFA15A",
           "#19d3f3",
           "#FF6692",
           "#B6E880",
           "#FF97FF",
           "#FECB52"
          ],
          "font": {
           "color": "#2a3f5f"
          },
          "geo": {
           "bgcolor": "white",
           "lakecolor": "white",
           "landcolor": "#E5ECF6",
           "showlakes": true,
           "showland": true,
           "subunitcolor": "white"
          },
          "hoverlabel": {
           "align": "left"
          },
          "hovermode": "closest",
          "mapbox": {
           "style": "light"
          },
          "paper_bgcolor": "white",
          "plot_bgcolor": "#E5ECF6",
          "polar": {
           "angularaxis": {
            "gridcolor": "white",
            "linecolor": "white",
            "ticks": ""
           },
           "bgcolor": "#E5ECF6",
           "radialaxis": {
            "gridcolor": "white",
            "linecolor": "white",
            "ticks": ""
           }
          },
          "scene": {
           "xaxis": {
            "backgroundcolor": "#E5ECF6",
            "gridcolor": "white",
            "gridwidth": 2,
            "linecolor": "white",
            "showbackground": true,
            "ticks": "",
            "zerolinecolor": "white"
           },
           "yaxis": {
            "backgroundcolor": "#E5ECF6",
            "gridcolor": "white",
            "gridwidth": 2,
            "linecolor": "white",
            "showbackground": true,
            "ticks": "",
            "zerolinecolor": "white"
           },
           "zaxis": {
            "backgroundcolor": "#E5ECF6",
            "gridcolor": "white",
            "gridwidth": 2,
            "linecolor": "white",
            "showbackground": true,
            "ticks": "",
            "zerolinecolor": "white"
           }
          },
          "shapedefaults": {
           "line": {
            "color": "#2a3f5f"
           }
          },
          "ternary": {
           "aaxis": {
            "gridcolor": "white",
            "linecolor": "white",
            "ticks": ""
           },
           "baxis": {
            "gridcolor": "white",
            "linecolor": "white",
            "ticks": ""
           },
           "bgcolor": "#E5ECF6",
           "caxis": {
            "gridcolor": "white",
            "linecolor": "white",
            "ticks": ""
           }
          },
          "title": {
           "x": 0.05
          },
          "xaxis": {
           "automargin": true,
           "gridcolor": "white",
           "linecolor": "white",
           "ticks": "",
           "title": {
            "standoff": 15
           },
           "zerolinecolor": "white",
           "zerolinewidth": 2
          },
          "yaxis": {
           "automargin": true,
           "gridcolor": "white",
           "linecolor": "white",
           "ticks": "",
           "title": {
            "standoff": 15
           },
           "zerolinecolor": "white",
           "zerolinewidth": 2
          }
         }
        },
        "xaxis": {
         "anchor": "y",
         "domain": [
          0,
          1
         ]
        },
        "yaxis": {
         "anchor": "x",
         "domain": [
          0,
          1
         ],
         "title": {
          "text": "Area"
         }
        }
       }
      }
     },
     "metadata": {}
    }
   ],
   "source": [
    "fig = px.box(df2,y='Area')\n",
    "fig.show()"
   ]
  },
  {
   "cell_type": "code",
   "execution_count": 38,
   "metadata": {},
   "outputs": [
    {
     "output_type": "display_data",
     "data": {
      "application/vnd.plotly.v1+json": {
       "config": {
        "plotlyServerURL": "https://plot.ly"
       },
       "data": [
        {
         "hovertemplate": "Area in Sqft=%{x}<br>Price=%{y}<extra></extra>",
         "legendgroup": "",
         "marker": {
          "color": "indianred",
          "opacity": 0.8,
          "symbol": "circle"
         },
         "mode": "markers",
         "name": "",
         "orientation": "v",
         "showlegend": false,
         "type": "scatter",
         "x": [
          750,
          950,
          600,
          650,
          1300,
          1350,
          650,
          985,
          1300,
          1100,
          870,
          630,
          660,
          660,
          550,
          1100,
          1150,
          650,
          850,
          900,
          430.556,
          900,
          914.9315,
          1100,
          800,
          500,
          2160,
          900,
          1000,
          900,
          2925,
          900,
          1600,
          1143,
          1150,
          1500,
          850,
          8000,
          890,
          1100,
          850,
          1350,
          1387,
          1050,
          1500,
          1200,
          700,
          1700,
          1550,
          1400,
          1900,
          2160,
          1700,
          1850,
          1800,
          1620,
          1800,
          1540,
          1600,
          1400,
          2300,
          1560,
          1500,
          1540,
          1050,
          1800,
          400,
          1150,
          1525,
          1500,
          2880,
          2700,
          1400,
          1800,
          1400,
          1000,
          8000,
          1000,
          1700,
          1600,
          1350,
          1700,
          1400,
          1450,
          1350,
          1700,
          1600,
          1350,
          1500,
          750,
          850,
          1575,
          1675,
          1350,
          900,
          1800,
          900,
          900,
          900,
          800,
          1100,
          810,
          1500,
          900,
          825,
          900,
          875,
          1350,
          750,
          900,
          1350,
          900,
          1800,
          900,
          450,
          900,
          500,
          450,
          500,
          444,
          400,
          729,
          4050,
          2400,
          450,
          405,
          666,
          1000,
          1360,
          1550,
          850,
          2170,
          720,
          850,
          950,
          2300,
          1300,
          1100,
          1030,
          750,
          720,
          800,
          350,
          980,
          1600,
          1450,
          445,
          380,
          680,
          1600,
          630,
          1500,
          550,
          2500,
          2800,
          300,
          800,
          1295,
          700,
          350,
          450,
          2200,
          2300,
          1150,
          800,
          850,
          720,
          4688,
          750,
          3901,
          950,
          1000,
          850,
          2400,
          1350,
          540,
          1387,
          540,
          976,
          1050,
          2700,
          1500,
          2900,
          5025,
          1000,
          1135,
          2306,
          850,
          1200,
          1700,
          1800,
          1100,
          22050,
          1550,
          1600,
          700,
          4500,
          1800,
          6000,
          4300,
          1700,
          2500,
          4500,
          2450,
          4800,
          1600,
          3500,
          2100,
          4200,
          1500,
          8150,
          2200,
          3500,
          2070,
          3500,
          2000,
          2800,
          2550,
          4500,
          1400,
          2800,
          2700,
          4500,
          7200,
          3500,
          2200,
          2200,
          3500,
          1440,
          3150,
          900,
          3690,
          1200,
          4500,
          2799,
          1350,
          1200,
          2177,
          1500,
          1600,
          4500,
          2150,
          2107,
          1150,
          1240,
          1000,
          4500,
          1150,
          2000,
          4500,
          3000,
          1425,
          440,
          1017,
          650,
          950,
          810,
          750,
          990,
          800,
          675,
          558,
          445,
          1350,
          850,
          846,
          1300,
          900,
          1050,
          850,
          1650,
          1150,
          495.1394,
          1053,
          540,
          747,
          720,
          376.7365,
          1125,
          713,
          360,
          900,
          713,
          504,
          850,
          2430,
          2475,
          2970,
          2250,
          1500,
          1512,
          400,
          2160,
          630,
          720,
          675,
          700,
          675,
          720,
          850,
          990,
          420,
          450,
          1000,
          900,
          800,
          720,
          450,
          675,
          1700,
          550,
          387,
          450,
          900,
          500,
          441,
          800,
          450,
          1000,
          715,
          600,
          540,
          810,
          900,
          1000,
          950,
          1000,
          540,
          540,
          1000,
          500,
          540,
          780,
          450,
          360,
          900,
          495,
          1200,
          1000,
          620,
          680,
          805,
          729,
          540,
          360,
          550,
          1001,
          450,
          550,
          550,
          675,
          585,
          810,
          765,
          4688,
          3901,
          800,
          900,
          1680,
          900,
          2000,
          2000,
          1900,
          1530,
          900,
          950,
          1800,
          1500,
          1800,
          1800,
          2306,
          850,
          900,
          1800,
          1782,
          900,
          405,
          1500,
          2000,
          650,
          1100,
          1075,
          1450,
          1200,
          600,
          1000,
          1600,
          1750,
          1300,
          550,
          2200,
          1100,
          1700,
          1100,
          1000,
          1350,
          1184,
          2000,
          3500,
          900,
          4688,
          750,
          3901,
          950,
          1000,
          850,
          2400,
          1350,
          540,
          1387,
          540,
          976,
          1050,
          2700,
          1500,
          2900,
          5025,
          1000,
          1135,
          2306,
          850,
          1200,
          1700,
          1800,
          1100,
          22050,
          1550,
          1600,
          700,
          1750,
          2210,
          760,
          400,
          380,
          904.1676,
          900,
          810,
          900,
          1650,
          1000,
          852,
          700,
          990,
          450,
          1000,
          1700,
          1350,
          2100,
          2600,
          3000,
          1450,
          2050,
          3000,
          1800,
          900,
          1500,
          1500,
          1800,
          1674,
          2025,
          1300,
          990,
          2100,
          2250,
          1500,
          2700,
          1700,
          1700,
          2050,
          1800,
          1500,
          2000,
          1500,
          24300,
          2475,
          1500,
          2100,
          1800,
          1100,
          2035,
          1100,
          1550,
          700,
          540,
          810,
          3250,
          1600,
          4000,
          5500,
          900,
          972,
          4150,
          2250,
          1650,
          2610,
          600,
          1700,
          2250,
          880,
          4200,
          1450,
          2200,
          1800,
          780,
          405,
          900,
          807.2925,
          2700,
          1100,
          585,
          2152.78,
          960,
          1800,
          1100,
          900,
          1620,
          378,
          800,
          1350,
          850,
          1580,
          820,
          594,
          14220,
          800,
          1500,
          1000,
          1500,
          1700,
          1750,
          2700,
          3405,
          1500,
          2105,
          2500,
          2090,
          2525,
          2500,
          2100,
          2022,
          2650,
          1850,
          2100,
          1700,
          2105,
          1250,
          2552,
          3112,
          2125,
          2065,
          3405,
          3050,
          2300,
          1455,
          3400,
          3100,
          1400,
          2126,
          1815,
          1700,
          1600,
          1400,
          1400,
          2700,
          1100,
          1200,
          1400,
          1500,
          1320,
          1300,
          1150,
          1440,
          1400,
          450,
          1300,
          1200,
          1300,
          1400,
          1400,
          1800,
          1300,
          1150,
          1500,
          1150,
          450,
          1350,
          445,
          1200,
          1100,
          700,
          500,
          540,
          450,
          800,
          700,
          750,
          750,
          1600,
          1000,
          1600,
          900,
          1700,
          1100,
          1000,
          1000,
          1100,
          765,
          900,
          600,
          360,
          725,
          900,
          750,
          700,
          950,
          1600,
          900,
          1500,
          500,
          1035,
          825,
          1300,
          765,
          580,
          1750,
          850,
          800,
          405,
          1350,
          1350,
          450,
          1300,
          1050,
          1675,
          1250,
          1080,
          1170,
          1250,
          1500,
          1350,
          855,
          540,
          1044.0983,
          405,
          500,
          450,
          405,
          405,
          450,
          1100,
          600,
          770,
          810,
          710,
          950,
          450,
          500,
          600,
          420,
          900,
          945,
          565,
          450,
          430,
          550,
          810,
          720,
          820,
          459,
          450,
          900,
          360,
          559.7228,
          350,
          365,
          390,
          350,
          500,
          350,
          379,
          445,
          452.0838,
          350,
          437,
          495,
          900,
          350,
          585,
          4900,
          2077.4327,
          990,
          425,
          3000,
          850,
          750,
          2600,
          800,
          550,
          700,
          2316,
          900,
          900,
          1500,
          650,
          2000,
          500,
          1125,
          1300,
          2500,
          2200,
          1290,
          2250,
          1350,
          1400,
          1700,
          900,
          400,
          900,
          1000,
          405,
          1700,
          800,
          1076.39,
          750,
          460,
          370,
          1800,
          1080,
          350,
          500,
          900,
          800,
          350,
          430.556,
          500,
          1450,
          800,
          1000,
          1000,
          1600,
          1450,
          1450,
          1150,
          780,
          1300,
          1350,
          1200,
          1460,
          1460,
          1100,
          1500,
          1050,
          1350,
          1500,
          976,
          540,
          450,
          900,
          2500,
          979.5149,
          945,
          976,
          1531,
          1000,
          750,
          900,
          1512,
          1500,
          2907,
          2210,
          750,
          2518.7526,
          588,
          540,
          1100,
          550,
          750,
          1260,
          675,
          810,
          3150,
          2000,
          1775,
          1135,
          1252,
          2000,
          530,
          1332,
          1017,
          1775,
          987,
          1912,
          5236,
          2805,
          1500,
          1280,
          1775,
          675,
          576,
          1206,
          1143,
          345,
          720,
          468,
          1600,
          950,
          535,
          1200,
          1501,
          1135,
          1200,
          2200,
          2800,
          1646,
          900,
          1250,
          900,
          1590,
          990,
          2282,
          1260,
          1457,
          1400,
          2175,
          1450,
          2800,
          861.112,
          2282,
          1753,
          2659,
          1550,
          1470,
          702,
          1138,
          1800,
          600,
          1250,
          600,
          1600,
          1100,
          450,
          855,
          1291.668,
          1300,
          1350,
          900,
          850,
          1650,
          650,
          630,
          1250,
          1800,
          1500,
          1100,
          1400,
          1300,
          1100,
          1600,
          2572,
          2100,
          1620,
          2500,
          2250,
          2445,
          2250,
          800,
          1450,
          1440,
          5220,
          1800,
          4455,
          807.2925,
          3500,
          1000,
          900,
          1800,
          17010,
          2340,
          1350,
          464,
          954,
          1155,
          1600,
          1400,
          1400,
          2700,
          1100,
          1200,
          1400,
          1500,
          1320,
          1300,
          1150,
          1440,
          1400,
          450,
          1300,
          1200,
          1300,
          1400,
          1400,
          800,
          1150,
          900,
          1070,
          1050,
          1000,
          1550,
          1300,
          810,
          900,
          1200,
          1000,
          720,
          1800,
          6000,
          1800,
          2000,
          2066,
          2050,
          1100,
          4500,
          4500,
          6500,
          4350,
          1750,
          3600,
          1200,
          1500,
          2250,
          1800,
          1600,
          2800,
          1700,
          2400,
          1980,
          2100,
          5400,
          1250,
          2300,
          2700,
          1450,
          1600,
          2600,
          1700,
          1116,
          1070,
          1200,
          1200,
          1200,
          1450,
          1000,
          2430,
          945,
          1650,
          1350,
          2625,
          1800,
          1440,
          1900,
          1800,
          1200,
          1800,
          1200,
          4118,
          1050,
          875,
          990,
          11050
         ],
         "xaxis": "x",
         "y": [
          5000000,
          15500000,
          4200000,
          6200000,
          15500000,
          10000000,
          4000000,
          6800000,
          15000000,
          6200000,
          7700000,
          5500000,
          5000000,
          4700000,
          4500000,
          17000000,
          25000000,
          6000000,
          11000000,
          4500000,
          5300000,
          10500000,
          12000000,
          7000000,
          7000000,
          3400000,
          21000000,
          13000000,
          22000000,
          15800000,
          57500000,
          10000000,
          30000000,
          22000000,
          24000000,
          31500000,
          14600000,
          240000000,
          8300000,
          22500000,
          1900000,
          5130000,
          5890000,
          3700000,
          17400000,
          15500000,
          2400000,
          17200000,
          14200000,
          13500000,
          30000000,
          21000000,
          20500000,
          24000000,
          16500000,
          14900000,
          19200000,
          14500000,
          15600000,
          11400000,
          31500000,
          15800000,
          16000000,
          14500000,
          10500000,
          14800000,
          1850000,
          6800000,
          14200000,
          40000000,
          46000000,
          55000000,
          24500000,
          24500000,
          32500000,
          20000000,
          240000000,
          20000000,
          19000000,
          26000000,
          21000000,
          27500000,
          32500000,
          45000000,
          21000000,
          28000000,
          29500000,
          12500000,
          26000000,
          11500000,
          14600000,
          25500000,
          31000000,
          22000000,
          13400000,
          35000000,
          11000000,
          6300000,
          12500000,
          14500000,
          22500000,
          15500000,
          26000000,
          15800000,
          15000000,
          13000000,
          15000000,
          25000000,
          16500000,
          10300000,
          26000000,
          11000000,
          28500000,
          11000000,
          3600000,
          4000000,
          1650000,
          2000000,
          2000000,
          2000000,
          2000000,
          2600000,
          5100000,
          6000000,
          4000000,
          6200000,
          3500000,
          7600000,
          13500000,
          12500000,
          6500000,
          22000000,
          6000000,
          7300000,
          7600000,
          20000000,
          15000000,
          6200000,
          6200000,
          5000000,
          4700000,
          5500000,
          2000000,
          7300000,
          13000000,
          11500000,
          2800000,
          2200000,
          4400000,
          13500000,
          4100000,
          12000000,
          3500000,
          15000000,
          17500000,
          1900000,
          5500000,
          10000000,
          4700000,
          2400000,
          3800000,
          23000000,
          24500000,
          10000000,
          5500000,
          7000000,
          6500000,
          135000000,
          5000000,
          93000000,
          4370000,
          4620000,
          1900000,
          70000000,
          5130000,
          3000000,
          5890000,
          3300000,
          24900000,
          3700000,
          60000000,
          17400000,
          51000000,
          170000000,
          5510000,
          25000000,
          57000000,
          2940000,
          15500000,
          17200000,
          55000000,
          15000000,
          51000000,
          13000000,
          30000000,
          2400000,
          60000000,
          65000000,
          220000000,
          60000000,
          38500000,
          50000000,
          75000000,
          70000000,
          85000000,
          40000000,
          90000000,
          56000000,
          135500000,
          60000000,
          170000000,
          50000000,
          58000000,
          37500000,
          45000000,
          70000000,
          29500000,
          60000000,
          70000000,
          50000000,
          75000000,
          52500000,
          55000000,
          120000000,
          70000000,
          47500000,
          40000000,
          85000000,
          26000000,
          35000000,
          20000000,
          79000000,
          17000000,
          47500000,
          43000000,
          26000000,
          25000000,
          51000000,
          40000000,
          22500000,
          70000000,
          45000000,
          51100000,
          25500000,
          26500000,
          15000000,
          55000000,
          26000000,
          38000000,
          72500000,
          65000000,
          9300000,
          2700000,
          6500000,
          5800000,
          5500000,
          6000000,
          4500000,
          4100000,
          3800000,
          3300000,
          2900000,
          2000000,
          11300000,
          4500000,
          3300000,
          11500000,
          6000000,
          9000000,
          4500000,
          14000000,
          7300000,
          1900000,
          7000000,
          2700000,
          6500000,
          4000000,
          3000000,
          5000000,
          6000000,
          2500000,
          6500000,
          8000000,
          2700000,
          5700000,
          25000000,
          70000000,
          26500000,
          18500000,
          30000000,
          22000000,
          9000000,
          65000000,
          22500000,
          22000000,
          18500000,
          16000000,
          16000000,
          9000000,
          4500000,
          4000000,
          2600000,
          3500000,
          7500000,
          7000000,
          4500000,
          5500000,
          2700000,
          2400000,
          11500000,
          3600000,
          1700000,
          2500000,
          6600000,
          3700000,
          3500000,
          5400000,
          2550000,
          12500000,
          5600000,
          7000000,
          3500000,
          9000000,
          6000000,
          6000000,
          4370000,
          4620000,
          3000000,
          3300000,
          5510000,
          3200000,
          2600000,
          4000000,
          1850000,
          1700000,
          2800000,
          2150000,
          6800000,
          6200000,
          3100000,
          3400000,
          4000000,
          4800000,
          2500000,
          2000000,
          1900000,
          5800000,
          2900000,
          2000000,
          2600000,
          2900000,
          3200000,
          5400000,
          3800000,
          135000000,
          93000000,
          8000000,
          9500000,
          20000000,
          7400000,
          37500000,
          15000000,
          55300000,
          26500000,
          10400000,
          8000000,
          27000000,
          19500000,
          50000000,
          21100000,
          57000000,
          5900000,
          12000000,
          24000000,
          15000000,
          1500000,
          3950000,
          12500000,
          31000000,
          7400000,
          15500000,
          12000000,
          23500000,
          25000000,
          7000000,
          17500000,
          25000000,
          29000000,
          21900000,
          7500000,
          23500000,
          24000000,
          31000000,
          16500000,
          5000000,
          24000000,
          17000000,
          40000000,
          22500000,
          20000000,
          135000000,
          5000000,
          93000000,
          4370000,
          4620000,
          1900000,
          70000000,
          5130000,
          3000000,
          5890000,
          3300000,
          24900000,
          3700000,
          60000000,
          17400000,
          51000000,
          170000000,
          5510000,
          25000000,
          57000000,
          2940000,
          15500000,
          17200000,
          55000000,
          15000000,
          51000000,
          13000000,
          30000000,
          2400000,
          29000000,
          41000000,
          6000000,
          2500000,
          2200000,
          21500000,
          15000000,
          28900000,
          6200000,
          14000000,
          7500000,
          2670000,
          2500000,
          4000000,
          3500000,
          5000000,
          29500000,
          19000000,
          25500000,
          75000000,
          75000000,
          34000000,
          47500000,
          75000000,
          23000000,
          24000000,
          21500000,
          28500000,
          12500000,
          45000000,
          30500000,
          22500000,
          28000000,
          25000000,
          33700000,
          27000000,
          43500000,
          29000000,
          30000000,
          52100000,
          32500000,
          20500000,
          25000000,
          30000000,
          51000000,
          31000000,
          37500000,
          55000000,
          87500000,
          16300000,
          65000000,
          25000000,
          38000000,
          15000000,
          3000000,
          8500000,
          55000000,
          22500000,
          72500000,
          160000000,
          12500000,
          17000000,
          82500000,
          55000000,
          35000000,
          42500000,
          4700000,
          52500000,
          80000000,
          11000000,
          74000000,
          37500000,
          52500000,
          26500000,
          8770000,
          4500000,
          8500000,
          8600000,
          42500000,
          13100000,
          7000000,
          30000000,
          13000000,
          23100000,
          16000000,
          12500000,
          24500000,
          3200000,
          6300000,
          15000000,
          5700000,
          21000000,
          7500000,
          6500000,
          27500000,
          12000000,
          18000000,
          10700000,
          16200000,
          16500000,
          14900000,
          27500000,
          70000000,
          35500000,
          42100000,
          42500000,
          44000000,
          43200000,
          52500000,
          34300000,
          38000000,
          52500000,
          37500000,
          37000000,
          40000000,
          36200000,
          29000000,
          42500000,
          60000000,
          36500000,
          42500000,
          71500000,
          65000000,
          58000000,
          27500000,
          70000000,
          65000000,
          28600000,
          39000000,
          32500000,
          34000000,
          20000000,
          18000000,
          19000000,
          36500000,
          15000000,
          17500000,
          14000000,
          21000000,
          15600000,
          19000000,
          16500000,
          19000000,
          16500000,
          3000000,
          15000000,
          14300000,
          18500000,
          19000000,
          19000000,
          12000000,
          20000000,
          13500000,
          14000000,
          10800000,
          2350000,
          8500000,
          1650000,
          10000000,
          2800000,
          2600000,
          2350000,
          2350000,
          2000000,
          5000000,
          3500000,
          4500000,
          4000000,
          10800000,
          10000000,
          10800000,
          9000000,
          8500000,
          6000000,
          5500000,
          7000000,
          6000000,
          3700000,
          3100000,
          4500000,
          1500000,
          3000000,
          4900000,
          3500000,
          3000000,
          7020000,
          60000000,
          3500000,
          7000000,
          7000000,
          4500000,
          5990000,
          4400000,
          2500000,
          1600000,
          6500000,
          2800000,
          4500000,
          1800000,
          8500000,
          8500000,
          1700000,
          7000000,
          5600000,
          13500000,
          8500000,
          6000000,
          7200000,
          6500000,
          8400000,
          8500000,
          4000000,
          1700000,
          6000000,
          1600000,
          2100000,
          1700000,
          1500000,
          1200000,
          1650000,
          8500000,
          3200000,
          3790000,
          4200000,
          2900000,
          5000000,
          2100000,
          3200000,
          3000000,
          2300000,
          5900000,
          5500000,
          3500000,
          1700000,
          1850000,
          2300000,
          3800000,
          4500000,
          5200000,
          2200000,
          2200000,
          3800000,
          1800000,
          2850000,
          2500000,
          3500000,
          2000000,
          3000000,
          1800000,
          1600000,
          1600000,
          1500000,
          3000000,
          1490000,
          3500000,
          1750000,
          4600000,
          1800000,
          1900000,
          1000000,
          1000000,
          5000000,
          2200000,
          67000000,
          8500000,
          11500000,
          52500000,
          12000000,
          10700000,
          9000000,
          100000000,
          6200000,
          12500000,
          13000000,
          4200000,
          36000000,
          2300000,
          8100000,
          10000000,
          62500000,
          65000000,
          20000000,
          57500000,
          30000000,
          30000000,
          30000000,
          6900000,
          3600000,
          13500000,
          9200000,
          2500000,
          17000000,
          9030000,
          9300000,
          6500000,
          3300000,
          2400000,
          15000000,
          7000000,
          4200000,
          5800000,
          4800000,
          7500000,
          3000000,
          4300000,
          2600000,
          7000000,
          6000000,
          6700000,
          9500000,
          17000000,
          14000000,
          11600000,
          12000000,
          7500000,
          9800000,
          12000000,
          12500000,
          16500000,
          12000000,
          7200000,
          15000000,
          10000000,
          11000000,
          24700000,
          24900000,
          3600000,
          1700000,
          11000000,
          75000000,
          24800000,
          24900000,
          24900000,
          25900000,
          11700000,
          13500000,
          5500000,
          30000000,
          16000000,
          30000000,
          41000000,
          3800000,
          68900000,
          1800000,
          1500000,
          12500000,
          1600000,
          2400000,
          7000000,
          3100000,
          14500000,
          61500000,
          27500000,
          25500000,
          25000000,
          18500000,
          39700000,
          6800000,
          6540000,
          22000000,
          25500000,
          17000000,
          27500000,
          73700000,
          52300000,
          16000000,
          15000000,
          25500000,
          10000000,
          5000000,
          20000000,
          16000000,
          5500000,
          7000000,
          4100000,
          24000000,
          12500000,
          3900000,
          14500000,
          20000000,
          24500000,
          20900000,
          43100000,
          40000000,
          20000000,
          6700000,
          16000000,
          8000000,
          25000000,
          25000000,
          37500000,
          25000000,
          23000000,
          17500000,
          44000000,
          15000000,
          42500000,
          5000000,
          38000000,
          19000000,
          43500000,
          19500000,
          14200000,
          14200000,
          13500000,
          19000000,
          7000000,
          5800000,
          8000000,
          18800000,
          6000000,
          2200000,
          6500000,
          23500000,
          16000000,
          20000000,
          5500000,
          13500000,
          22500000,
          3800000,
          4600000,
          17500000,
          5500000,
          22500000,
          12500000,
          19000000,
          15500000,
          13500000,
          21000000,
          35000000,
          25000000,
          29000000,
          80000000,
          20500000,
          52500000,
          37500000,
          7500000,
          32500000,
          24500000,
          65000000,
          27500000,
          115000000,
          8000000,
          75100000,
          7800000,
          15000000,
          27500000,
          25000000,
          26000000,
          23500000,
          4200000,
          10000000,
          18500000,
          20000000,
          18000000,
          19000000,
          36500000,
          15000000,
          17500000,
          14000000,
          21000000,
          15600000,
          19000000,
          16500000,
          19000000,
          16500000,
          3000000,
          15000000,
          14300000,
          18500000,
          19000000,
          19000000,
          8000000,
          16100000,
          6800000,
          6800000,
          9000000,
          18000000,
          27500000,
          13500000,
          14000000,
          9000000,
          16000000,
          11000000,
          5500000,
          43500000,
          180000000,
          80000000,
          37500000,
          60000000,
          71000000,
          18500000,
          70000000,
          85000000,
          190000000,
          135000000,
          35000000,
          65000000,
          27500000,
          45000000,
          100000000,
          47000000,
          27500000,
          70000000,
          36500000,
          65000000,
          35000000,
          56000000,
          110000000,
          24000000,
          102500000,
          100000000,
          45000000,
          33500000,
          62500000,
          47500000,
          14700000,
          18000000,
          22500000,
          22000000,
          22200000,
          22500000,
          7500000,
          30000000,
          6500000,
          35000000,
          17500000,
          60000000,
          40000000,
          22500000,
          28500000,
          29000000,
          15500000,
          26000000,
          16500000,
          55000000,
          12500000,
          17500000,
          11500000,
          18500000
         ],
         "yaxis": "y"
        }
       ],
       "layout": {
        "bargap": 0.3,
        "bargroupgap": 0,
        "barmode": "group",
        "height": 420,
        "legend": {
         "tracegroupgap": 0
        },
        "template": {
         "data": {
          "bar": [
           {
            "error_x": {
             "color": "#2a3f5f"
            },
            "error_y": {
             "color": "#2a3f5f"
            },
            "marker": {
             "line": {
              "color": "#E5ECF6",
              "width": 0.5
             }
            },
            "type": "bar"
           }
          ],
          "barpolar": [
           {
            "marker": {
             "line": {
              "color": "#E5ECF6",
              "width": 0.5
             }
            },
            "type": "barpolar"
           }
          ],
          "carpet": [
           {
            "aaxis": {
             "endlinecolor": "#2a3f5f",
             "gridcolor": "white",
             "linecolor": "white",
             "minorgridcolor": "white",
             "startlinecolor": "#2a3f5f"
            },
            "baxis": {
             "endlinecolor": "#2a3f5f",
             "gridcolor": "white",
             "linecolor": "white",
             "minorgridcolor": "white",
             "startlinecolor": "#2a3f5f"
            },
            "type": "carpet"
           }
          ],
          "choropleth": [
           {
            "colorbar": {
             "outlinewidth": 0,
             "ticks": ""
            },
            "type": "choropleth"
           }
          ],
          "contour": [
           {
            "colorbar": {
             "outlinewidth": 0,
             "ticks": ""
            },
            "colorscale": [
             [
              0,
              "#0d0887"
             ],
             [
              0.1111111111111111,
              "#46039f"
             ],
             [
              0.2222222222222222,
              "#7201a8"
             ],
             [
              0.3333333333333333,
              "#9c179e"
             ],
             [
              0.4444444444444444,
              "#bd3786"
             ],
             [
              0.5555555555555556,
              "#d8576b"
             ],
             [
              0.6666666666666666,
              "#ed7953"
             ],
             [
              0.7777777777777778,
              "#fb9f3a"
             ],
             [
              0.8888888888888888,
              "#fdca26"
             ],
             [
              1,
              "#f0f921"
             ]
            ],
            "type": "contour"
           }
          ],
          "contourcarpet": [
           {
            "colorbar": {
             "outlinewidth": 0,
             "ticks": ""
            },
            "type": "contourcarpet"
           }
          ],
          "heatmap": [
           {
            "colorbar": {
             "outlinewidth": 0,
             "ticks": ""
            },
            "colorscale": [
             [
              0,
              "#0d0887"
             ],
             [
              0.1111111111111111,
              "#46039f"
             ],
             [
              0.2222222222222222,
              "#7201a8"
             ],
             [
              0.3333333333333333,
              "#9c179e"
             ],
             [
              0.4444444444444444,
              "#bd3786"
             ],
             [
              0.5555555555555556,
              "#d8576b"
             ],
             [
              0.6666666666666666,
              "#ed7953"
             ],
             [
              0.7777777777777778,
              "#fb9f3a"
             ],
             [
              0.8888888888888888,
              "#fdca26"
             ],
             [
              1,
              "#f0f921"
             ]
            ],
            "type": "heatmap"
           }
          ],
          "heatmapgl": [
           {
            "colorbar": {
             "outlinewidth": 0,
             "ticks": ""
            },
            "colorscale": [
             [
              0,
              "#0d0887"
             ],
             [
              0.1111111111111111,
              "#46039f"
             ],
             [
              0.2222222222222222,
              "#7201a8"
             ],
             [
              0.3333333333333333,
              "#9c179e"
             ],
             [
              0.4444444444444444,
              "#bd3786"
             ],
             [
              0.5555555555555556,
              "#d8576b"
             ],
             [
              0.6666666666666666,
              "#ed7953"
             ],
             [
              0.7777777777777778,
              "#fb9f3a"
             ],
             [
              0.8888888888888888,
              "#fdca26"
             ],
             [
              1,
              "#f0f921"
             ]
            ],
            "type": "heatmapgl"
           }
          ],
          "histogram": [
           {
            "marker": {
             "colorbar": {
              "outlinewidth": 0,
              "ticks": ""
             }
            },
            "type": "histogram"
           }
          ],
          "histogram2d": [
           {
            "colorbar": {
             "outlinewidth": 0,
             "ticks": ""
            },
            "colorscale": [
             [
              0,
              "#0d0887"
             ],
             [
              0.1111111111111111,
              "#46039f"
             ],
             [
              0.2222222222222222,
              "#7201a8"
             ],
             [
              0.3333333333333333,
              "#9c179e"
             ],
             [
              0.4444444444444444,
              "#bd3786"
             ],
             [
              0.5555555555555556,
              "#d8576b"
             ],
             [
              0.6666666666666666,
              "#ed7953"
             ],
             [
              0.7777777777777778,
              "#fb9f3a"
             ],
             [
              0.8888888888888888,
              "#fdca26"
             ],
             [
              1,
              "#f0f921"
             ]
            ],
            "type": "histogram2d"
           }
          ],
          "histogram2dcontour": [
           {
            "colorbar": {
             "outlinewidth": 0,
             "ticks": ""
            },
            "colorscale": [
             [
              0,
              "#0d0887"
             ],
             [
              0.1111111111111111,
              "#46039f"
             ],
             [
              0.2222222222222222,
              "#7201a8"
             ],
             [
              0.3333333333333333,
              "#9c179e"
             ],
             [
              0.4444444444444444,
              "#bd3786"
             ],
             [
              0.5555555555555556,
              "#d8576b"
             ],
             [
              0.6666666666666666,
              "#ed7953"
             ],
             [
              0.7777777777777778,
              "#fb9f3a"
             ],
             [
              0.8888888888888888,
              "#fdca26"
             ],
             [
              1,
              "#f0f921"
             ]
            ],
            "type": "histogram2dcontour"
           }
          ],
          "mesh3d": [
           {
            "colorbar": {
             "outlinewidth": 0,
             "ticks": ""
            },
            "type": "mesh3d"
           }
          ],
          "parcoords": [
           {
            "line": {
             "colorbar": {
              "outlinewidth": 0,
              "ticks": ""
             }
            },
            "type": "parcoords"
           }
          ],
          "pie": [
           {
            "automargin": true,
            "type": "pie"
           }
          ],
          "scatter": [
           {
            "marker": {
             "colorbar": {
              "outlinewidth": 0,
              "ticks": ""
             }
            },
            "type": "scatter"
           }
          ],
          "scatter3d": [
           {
            "line": {
             "colorbar": {
              "outlinewidth": 0,
              "ticks": ""
             }
            },
            "marker": {
             "colorbar": {
              "outlinewidth": 0,
              "ticks": ""
             }
            },
            "type": "scatter3d"
           }
          ],
          "scattercarpet": [
           {
            "marker": {
             "colorbar": {
              "outlinewidth": 0,
              "ticks": ""
             }
            },
            "type": "scattercarpet"
           }
          ],
          "scattergeo": [
           {
            "marker": {
             "colorbar": {
              "outlinewidth": 0,
              "ticks": ""
             }
            },
            "type": "scattergeo"
           }
          ],
          "scattergl": [
           {
            "marker": {
             "colorbar": {
              "outlinewidth": 0,
              "ticks": ""
             }
            },
            "type": "scattergl"
           }
          ],
          "scattermapbox": [
           {
            "marker": {
             "colorbar": {
              "outlinewidth": 0,
              "ticks": ""
             }
            },
            "type": "scattermapbox"
           }
          ],
          "scatterpolar": [
           {
            "marker": {
             "colorbar": {
              "outlinewidth": 0,
              "ticks": ""
             }
            },
            "type": "scatterpolar"
           }
          ],
          "scatterpolargl": [
           {
            "marker": {
             "colorbar": {
              "outlinewidth": 0,
              "ticks": ""
             }
            },
            "type": "scatterpolargl"
           }
          ],
          "scatterternary": [
           {
            "marker": {
             "colorbar": {
              "outlinewidth": 0,
              "ticks": ""
             }
            },
            "type": "scatterternary"
           }
          ],
          "surface": [
           {
            "colorbar": {
             "outlinewidth": 0,
             "ticks": ""
            },
            "colorscale": [
             [
              0,
              "#0d0887"
             ],
             [
              0.1111111111111111,
              "#46039f"
             ],
             [
              0.2222222222222222,
              "#7201a8"
             ],
             [
              0.3333333333333333,
              "#9c179e"
             ],
             [
              0.4444444444444444,
              "#bd3786"
             ],
             [
              0.5555555555555556,
              "#d8576b"
             ],
             [
              0.6666666666666666,
              "#ed7953"
             ],
             [
              0.7777777777777778,
              "#fb9f3a"
             ],
             [
              0.8888888888888888,
              "#fdca26"
             ],
             [
              1,
              "#f0f921"
             ]
            ],
            "type": "surface"
           }
          ],
          "table": [
           {
            "cells": {
             "fill": {
              "color": "#EBF0F8"
             },
             "line": {
              "color": "white"
             }
            },
            "header": {
             "fill": {
              "color": "#C8D4E3"
             },
             "line": {
              "color": "white"
             }
            },
            "type": "table"
           }
          ]
         },
         "layout": {
          "annotationdefaults": {
           "arrowcolor": "#2a3f5f",
           "arrowhead": 0,
           "arrowwidth": 1
          },
          "autotypenumbers": "strict",
          "coloraxis": {
           "colorbar": {
            "outlinewidth": 0,
            "ticks": ""
           }
          },
          "colorscale": {
           "diverging": [
            [
             0,
             "#8e0152"
            ],
            [
             0.1,
             "#c51b7d"
            ],
            [
             0.2,
             "#de77ae"
            ],
            [
             0.3,
             "#f1b6da"
            ],
            [
             0.4,
             "#fde0ef"
            ],
            [
             0.5,
             "#f7f7f7"
            ],
            [
             0.6,
             "#e6f5d0"
            ],
            [
             0.7,
             "#b8e186"
            ],
            [
             0.8,
             "#7fbc41"
            ],
            [
             0.9,
             "#4d9221"
            ],
            [
             1,
             "#276419"
            ]
           ],
           "sequential": [
            [
             0,
             "#0d0887"
            ],
            [
             0.1111111111111111,
             "#46039f"
            ],
            [
             0.2222222222222222,
             "#7201a8"
            ],
            [
             0.3333333333333333,
             "#9c179e"
            ],
            [
             0.4444444444444444,
             "#bd3786"
            ],
            [
             0.5555555555555556,
             "#d8576b"
            ],
            [
             0.6666666666666666,
             "#ed7953"
            ],
            [
             0.7777777777777778,
             "#fb9f3a"
            ],
            [
             0.8888888888888888,
             "#fdca26"
            ],
            [
             1,
             "#f0f921"
            ]
           ],
           "sequentialminus": [
            [
             0,
             "#0d0887"
            ],
            [
             0.1111111111111111,
             "#46039f"
            ],
            [
             0.2222222222222222,
             "#7201a8"
            ],
            [
             0.3333333333333333,
             "#9c179e"
            ],
            [
             0.4444444444444444,
             "#bd3786"
            ],
            [
             0.5555555555555556,
             "#d8576b"
            ],
            [
             0.6666666666666666,
             "#ed7953"
            ],
            [
             0.7777777777777778,
             "#fb9f3a"
            ],
            [
             0.8888888888888888,
             "#fdca26"
            ],
            [
             1,
             "#f0f921"
            ]
           ]
          },
          "colorway": [
           "#636efa",
           "#EF553B",
           "#00cc96",
           "#ab63fa",
           "#FFA15A",
           "#19d3f3",
           "#FF6692",
           "#B6E880",
           "#FF97FF",
           "#FECB52"
          ],
          "font": {
           "color": "#2a3f5f"
          },
          "geo": {
           "bgcolor": "white",
           "lakecolor": "white",
           "landcolor": "#E5ECF6",
           "showlakes": true,
           "showland": true,
           "subunitcolor": "white"
          },
          "hoverlabel": {
           "align": "left"
          },
          "hovermode": "closest",
          "mapbox": {
           "style": "light"
          },
          "paper_bgcolor": "white",
          "plot_bgcolor": "#E5ECF6",
          "polar": {
           "angularaxis": {
            "gridcolor": "white",
            "linecolor": "white",
            "ticks": ""
           },
           "bgcolor": "#E5ECF6",
           "radialaxis": {
            "gridcolor": "white",
            "linecolor": "white",
            "ticks": ""
           }
          },
          "scene": {
           "xaxis": {
            "backgroundcolor": "#E5ECF6",
            "gridcolor": "white",
            "gridwidth": 2,
            "linecolor": "white",
            "showbackground": true,
            "ticks": "",
            "zerolinecolor": "white"
           },
           "yaxis": {
            "backgroundcolor": "#E5ECF6",
            "gridcolor": "white",
            "gridwidth": 2,
            "linecolor": "white",
            "showbackground": true,
            "ticks": "",
            "zerolinecolor": "white"
           },
           "zaxis": {
            "backgroundcolor": "#E5ECF6",
            "gridcolor": "white",
            "gridwidth": 2,
            "linecolor": "white",
            "showbackground": true,
            "ticks": "",
            "zerolinecolor": "white"
           }
          },
          "shapedefaults": {
           "line": {
            "color": "#2a3f5f"
           }
          },
          "ternary": {
           "aaxis": {
            "gridcolor": "white",
            "linecolor": "white",
            "ticks": ""
           },
           "baxis": {
            "gridcolor": "white",
            "linecolor": "white",
            "ticks": ""
           },
           "bgcolor": "#E5ECF6",
           "caxis": {
            "gridcolor": "white",
            "linecolor": "white",
            "ticks": ""
           }
          },
          "title": {
           "x": 0.05
          },
          "xaxis": {
           "automargin": true,
           "gridcolor": "white",
           "linecolor": "white",
           "ticks": "",
           "title": {
            "standoff": 15
           },
           "zerolinecolor": "white",
           "zerolinewidth": 2
          },
          "yaxis": {
           "automargin": true,
           "gridcolor": "white",
           "linecolor": "white",
           "ticks": "",
           "title": {
            "standoff": 15
           },
           "zerolinecolor": "white",
           "zerolinewidth": 2
          }
         }
        },
        "title": {
         "text": "Area vs Price"
        },
        "width": 1080,
        "xaxis": {
         "anchor": "y",
         "domain": [
          0,
          1
         ],
         "title": {
          "text": "Area in Sqft"
         }
        },
        "yaxis": {
         "anchor": "x",
         "domain": [
          0,
          1
         ],
         "title": {
          "text": "Price"
         }
        }
       }
      }
     },
     "metadata": {}
    }
   ],
   "source": [
    "fig = px.scatter(df2,x='Area',y='Price',\n",
    "                    title='Area vs Price',\n",
    "                    opacity=0.8,\n",
    "                    color_discrete_sequence=['indianred'],\n",
    "                    labels={'Area':'Area in Sqft', 'Price':'Price'})\n",
    "fig.update_layout(barmode='group', bargap=0.30,bargroupgap=0.0,height=420,width=1080)\n",
    "fig.show()"
   ]
  },
  {
   "source": [
    "### According to business domain i got clearance that these are not outliers"
   ],
   "cell_type": "markdown",
   "metadata": {}
  },
  {
   "source": [
    "## Feature Engineering"
   ],
   "cell_type": "markdown",
   "metadata": {}
  },
  {
   "cell_type": "code",
   "execution_count": 39,
   "metadata": {},
   "outputs": [],
   "source": [
    "df_final = df2"
   ]
  },
  {
   "cell_type": "code",
   "execution_count": 40,
   "metadata": {},
   "outputs": [
    {
     "output_type": "execute_result",
     "data": {
      "text/plain": [
       "     Area  BHK  Bathroom      Furnishing  \\\n",
       "1   750.0    2       2.0  Semi-Furnished   \n",
       "2   950.0    2       2.0       Furnished   \n",
       "3   600.0    2       2.0  Semi-Furnished   \n",
       "4   650.0    2       2.0  Semi-Furnished   \n",
       "5  1300.0    4       3.0  Semi-Furnished   \n",
       "\n",
       "                                            Locality  Parking         Status  \\\n",
       "1             J R Designers Floors, Rohini Sector 24      1.0  Ready_to_move   \n",
       "2                Citizen Apartment, Rohini Sector 13      1.0  Ready_to_move   \n",
       "3                                   Rohini Sector 24      1.0  Ready_to_move   \n",
       "4  Rohini Sector 24 carpet area 650 sqft status R...      1.0  Ready_to_move   \n",
       "5                                   Rohini Sector 24      1.0  Ready_to_move   \n",
       "\n",
       "    Transaction           Type     Price  \n",
       "1  New_Property      Apartment   5000000  \n",
       "2        Resale      Apartment  15500000  \n",
       "3        Resale  Builder_Floor   4200000  \n",
       "4  New_Property  Builder_Floor   6200000  \n",
       "5  New_Property  Builder_Floor  15500000  "
      ],
      "text/html": "<div>\n<style scoped>\n    .dataframe tbody tr th:only-of-type {\n        vertical-align: middle;\n    }\n\n    .dataframe tbody tr th {\n        vertical-align: top;\n    }\n\n    .dataframe thead th {\n        text-align: right;\n    }\n</style>\n<table border=\"1\" class=\"dataframe\">\n  <thead>\n    <tr style=\"text-align: right;\">\n      <th></th>\n      <th>Area</th>\n      <th>BHK</th>\n      <th>Bathroom</th>\n      <th>Furnishing</th>\n      <th>Locality</th>\n      <th>Parking</th>\n      <th>Status</th>\n      <th>Transaction</th>\n      <th>Type</th>\n      <th>Price</th>\n    </tr>\n  </thead>\n  <tbody>\n    <tr>\n      <th>1</th>\n      <td>750.0</td>\n      <td>2</td>\n      <td>2.0</td>\n      <td>Semi-Furnished</td>\n      <td>J R Designers Floors, Rohini Sector 24</td>\n      <td>1.0</td>\n      <td>Ready_to_move</td>\n      <td>New_Property</td>\n      <td>Apartment</td>\n      <td>5000000</td>\n    </tr>\n    <tr>\n      <th>2</th>\n      <td>950.0</td>\n      <td>2</td>\n      <td>2.0</td>\n      <td>Furnished</td>\n      <td>Citizen Apartment, Rohini Sector 13</td>\n      <td>1.0</td>\n      <td>Ready_to_move</td>\n      <td>Resale</td>\n      <td>Apartment</td>\n      <td>15500000</td>\n    </tr>\n    <tr>\n      <th>3</th>\n      <td>600.0</td>\n      <td>2</td>\n      <td>2.0</td>\n      <td>Semi-Furnished</td>\n      <td>Rohini Sector 24</td>\n      <td>1.0</td>\n      <td>Ready_to_move</td>\n      <td>Resale</td>\n      <td>Builder_Floor</td>\n      <td>4200000</td>\n    </tr>\n    <tr>\n      <th>4</th>\n      <td>650.0</td>\n      <td>2</td>\n      <td>2.0</td>\n      <td>Semi-Furnished</td>\n      <td>Rohini Sector 24 carpet area 650 sqft status R...</td>\n      <td>1.0</td>\n      <td>Ready_to_move</td>\n      <td>New_Property</td>\n      <td>Builder_Floor</td>\n      <td>6200000</td>\n    </tr>\n    <tr>\n      <th>5</th>\n      <td>1300.0</td>\n      <td>4</td>\n      <td>3.0</td>\n      <td>Semi-Furnished</td>\n      <td>Rohini Sector 24</td>\n      <td>1.0</td>\n      <td>Ready_to_move</td>\n      <td>New_Property</td>\n      <td>Builder_Floor</td>\n      <td>15500000</td>\n    </tr>\n  </tbody>\n</table>\n</div>"
     },
     "metadata": {},
     "execution_count": 40
    }
   ],
   "source": [
    "df_final.head(5)"
   ]
  },
  {
   "cell_type": "code",
   "execution_count": 41,
   "metadata": {},
   "outputs": [],
   "source": [
    "# Checking which of the Localities doesnt occured more than 2 times\n",
    "\n",
    "df_loc = df_final.Locality.value_counts()\n",
    "loc_lessthan2 = df_loc[df_loc==1]"
   ]
  },
  {
   "cell_type": "code",
   "execution_count": 42,
   "metadata": {},
   "outputs": [],
   "source": [
    "# Changing the localities name as Other For who are less occuring\n",
    "\n",
    "df_final.Locality = df_final.Locality.apply(lambda x: 'other' if x in loc_lessthan2 else x)"
   ]
  },
  {
   "cell_type": "code",
   "execution_count": 43,
   "metadata": {},
   "outputs": [
    {
     "output_type": "execute_result",
     "data": {
      "text/plain": [
       "     Area  BHK  Bathroom      Furnishing  \\\n",
       "1   750.0    2       2.0  Semi-Furnished   \n",
       "2   950.0    2       2.0       Furnished   \n",
       "3   600.0    2       2.0  Semi-Furnished   \n",
       "4   650.0    2       2.0  Semi-Furnished   \n",
       "5  1300.0    4       3.0  Semi-Furnished   \n",
       "\n",
       "                                 Locality  Parking         Status  \\\n",
       "1  J R Designers Floors, Rohini Sector 24      1.0  Ready_to_move   \n",
       "2                                   other      1.0  Ready_to_move   \n",
       "3                        Rohini Sector 24      1.0  Ready_to_move   \n",
       "4                                   other      1.0  Ready_to_move   \n",
       "5                        Rohini Sector 24      1.0  Ready_to_move   \n",
       "\n",
       "    Transaction           Type     Price  \n",
       "1  New_Property      Apartment   5000000  \n",
       "2        Resale      Apartment  15500000  \n",
       "3        Resale  Builder_Floor   4200000  \n",
       "4  New_Property  Builder_Floor   6200000  \n",
       "5  New_Property  Builder_Floor  15500000  "
      ],
      "text/html": "<div>\n<style scoped>\n    .dataframe tbody tr th:only-of-type {\n        vertical-align: middle;\n    }\n\n    .dataframe tbody tr th {\n        vertical-align: top;\n    }\n\n    .dataframe thead th {\n        text-align: right;\n    }\n</style>\n<table border=\"1\" class=\"dataframe\">\n  <thead>\n    <tr style=\"text-align: right;\">\n      <th></th>\n      <th>Area</th>\n      <th>BHK</th>\n      <th>Bathroom</th>\n      <th>Furnishing</th>\n      <th>Locality</th>\n      <th>Parking</th>\n      <th>Status</th>\n      <th>Transaction</th>\n      <th>Type</th>\n      <th>Price</th>\n    </tr>\n  </thead>\n  <tbody>\n    <tr>\n      <th>1</th>\n      <td>750.0</td>\n      <td>2</td>\n      <td>2.0</td>\n      <td>Semi-Furnished</td>\n      <td>J R Designers Floors, Rohini Sector 24</td>\n      <td>1.0</td>\n      <td>Ready_to_move</td>\n      <td>New_Property</td>\n      <td>Apartment</td>\n      <td>5000000</td>\n    </tr>\n    <tr>\n      <th>2</th>\n      <td>950.0</td>\n      <td>2</td>\n      <td>2.0</td>\n      <td>Furnished</td>\n      <td>other</td>\n      <td>1.0</td>\n      <td>Ready_to_move</td>\n      <td>Resale</td>\n      <td>Apartment</td>\n      <td>15500000</td>\n    </tr>\n    <tr>\n      <th>3</th>\n      <td>600.0</td>\n      <td>2</td>\n      <td>2.0</td>\n      <td>Semi-Furnished</td>\n      <td>Rohini Sector 24</td>\n      <td>1.0</td>\n      <td>Ready_to_move</td>\n      <td>Resale</td>\n      <td>Builder_Floor</td>\n      <td>4200000</td>\n    </tr>\n    <tr>\n      <th>4</th>\n      <td>650.0</td>\n      <td>2</td>\n      <td>2.0</td>\n      <td>Semi-Furnished</td>\n      <td>other</td>\n      <td>1.0</td>\n      <td>Ready_to_move</td>\n      <td>New_Property</td>\n      <td>Builder_Floor</td>\n      <td>6200000</td>\n    </tr>\n    <tr>\n      <th>5</th>\n      <td>1300.0</td>\n      <td>4</td>\n      <td>3.0</td>\n      <td>Semi-Furnished</td>\n      <td>Rohini Sector 24</td>\n      <td>1.0</td>\n      <td>Ready_to_move</td>\n      <td>New_Property</td>\n      <td>Builder_Floor</td>\n      <td>15500000</td>\n    </tr>\n  </tbody>\n</table>\n</div>"
     },
     "metadata": {},
     "execution_count": 43
    }
   ],
   "source": [
    "df_final.head()"
   ]
  },
  {
   "source": [
    "### Encoding the categorical columns because they may have some correlation with Price"
   ],
   "cell_type": "markdown",
   "metadata": {}
  },
  {
   "cell_type": "code",
   "execution_count": 44,
   "metadata": {},
   "outputs": [
    {
     "output_type": "execute_result",
     "data": {
      "text/plain": [
       "Area           float64\n",
       "BHK              int64\n",
       "Bathroom       float64\n",
       "Furnishing      object\n",
       "Locality        object\n",
       "Parking        float64\n",
       "Status          object\n",
       "Transaction     object\n",
       "Type            object\n",
       "Price            int64\n",
       "dtype: object"
      ]
     },
     "metadata": {},
     "execution_count": 44
    }
   ],
   "source": [
    "df_final.dtypes"
   ]
  },
  {
   "cell_type": "code",
   "execution_count": 45,
   "metadata": {},
   "outputs": [],
   "source": [
    "col =[]\n",
    "for column in df_final.columns: \n",
    "    if df_final[column].dtype == 'object':\n",
    "        col.append(column)\n",
    "        "
   ]
  },
  {
   "cell_type": "code",
   "execution_count": 46,
   "metadata": {},
   "outputs": [
    {
     "output_type": "execute_result",
     "data": {
      "text/plain": [
       "['Furnishing', 'Locality', 'Status', 'Transaction', 'Type']"
      ]
     },
     "metadata": {},
     "execution_count": 46
    }
   ],
   "source": [
    "col"
   ]
  },
  {
   "cell_type": "code",
   "execution_count": 48,
   "metadata": {},
   "outputs": [],
   "source": [
    "for cols in df_final[['Furnishing', 'Locality', 'Status', 'Transaction', 'Type']]:\n",
    "    encho = pd.get_dummies(df_final[cols])\n",
    "    df_final = pd.concat([df_final,encho],axis='columns')"
   ]
  },
  {
   "cell_type": "code",
   "execution_count": 51,
   "metadata": {},
   "outputs": [],
   "source": [
    "df_final_en = df_final"
   ]
  },
  {
   "cell_type": "code",
   "execution_count": 52,
   "metadata": {},
   "outputs": [],
   "source": [
    "df_final_en.drop(columns=['Furnishing','Locality','Status','Transaction','Type'],inplace=True)"
   ]
  },
  {
   "cell_type": "code",
   "execution_count": 53,
   "metadata": {},
   "outputs": [
    {
     "output_type": "execute_result",
     "data": {
      "text/plain": [
       "     Area  BHK  Bathroom  Parking     Price  Furnished  Semi-Furnished  \\\n",
       "1   750.0    2       2.0      1.0   5000000          0               1   \n",
       "2   950.0    2       2.0      1.0  15500000          1               0   \n",
       "3   600.0    2       2.0      1.0   4200000          0               1   \n",
       "4   650.0    2       2.0      1.0   6200000          0               1   \n",
       "5  1300.0    4       3.0      1.0  15500000          0               1   \n",
       "\n",
       "   Unfurnished  APL Builder Floor, Greater Kailash 1  \\\n",
       "1            0                                     0   \n",
       "2            0                                     0   \n",
       "3            0                                     0   \n",
       "4            0                                     0   \n",
       "5            0                                     0   \n",
       "\n",
       "   Abul Fazal Enclave Part 1, Okhla  ...  Virat Residency, Dwarka Mor  \\\n",
       "1                                 0  ...                            0   \n",
       "2                                 0  ...                            0   \n",
       "3                                 0  ...                            0   \n",
       "4                                 0  ...                            0   \n",
       "5                                 0  ...                            0   \n",
       "\n",
       "   Yamuna Apartment, Alaknanda  Yamuna Vihar, Shahdara  other  Almost_ready  \\\n",
       "1                            0                       0      0             0   \n",
       "2                            0                       0      1             0   \n",
       "3                            0                       0      0             0   \n",
       "4                            0                       0      1             0   \n",
       "5                            0                       0      0             0   \n",
       "\n",
       "   Ready_to_move  New_Property  Resale  Apartment  Builder_Floor  \n",
       "1              1             1       0          1              0  \n",
       "2              1             0       1          1              0  \n",
       "3              1             0       1          0              1  \n",
       "4              1             1       0          0              1  \n",
       "5              1             1       0          0              1  \n",
       "\n",
       "[5 rows x 157 columns]"
      ],
      "text/html": "<div>\n<style scoped>\n    .dataframe tbody tr th:only-of-type {\n        vertical-align: middle;\n    }\n\n    .dataframe tbody tr th {\n        vertical-align: top;\n    }\n\n    .dataframe thead th {\n        text-align: right;\n    }\n</style>\n<table border=\"1\" class=\"dataframe\">\n  <thead>\n    <tr style=\"text-align: right;\">\n      <th></th>\n      <th>Area</th>\n      <th>BHK</th>\n      <th>Bathroom</th>\n      <th>Parking</th>\n      <th>Price</th>\n      <th>Furnished</th>\n      <th>Semi-Furnished</th>\n      <th>Unfurnished</th>\n      <th>APL Builder Floor, Greater Kailash 1</th>\n      <th>Abul Fazal Enclave Part 1, Okhla</th>\n      <th>...</th>\n      <th>Virat Residency, Dwarka Mor</th>\n      <th>Yamuna Apartment, Alaknanda</th>\n      <th>Yamuna Vihar, Shahdara</th>\n      <th>other</th>\n      <th>Almost_ready</th>\n      <th>Ready_to_move</th>\n      <th>New_Property</th>\n      <th>Resale</th>\n      <th>Apartment</th>\n      <th>Builder_Floor</th>\n    </tr>\n  </thead>\n  <tbody>\n    <tr>\n      <th>1</th>\n      <td>750.0</td>\n      <td>2</td>\n      <td>2.0</td>\n      <td>1.0</td>\n      <td>5000000</td>\n      <td>0</td>\n      <td>1</td>\n      <td>0</td>\n      <td>0</td>\n      <td>0</td>\n      <td>...</td>\n      <td>0</td>\n      <td>0</td>\n      <td>0</td>\n      <td>0</td>\n      <td>0</td>\n      <td>1</td>\n      <td>1</td>\n      <td>0</td>\n      <td>1</td>\n      <td>0</td>\n    </tr>\n    <tr>\n      <th>2</th>\n      <td>950.0</td>\n      <td>2</td>\n      <td>2.0</td>\n      <td>1.0</td>\n      <td>15500000</td>\n      <td>1</td>\n      <td>0</td>\n      <td>0</td>\n      <td>0</td>\n      <td>0</td>\n      <td>...</td>\n      <td>0</td>\n      <td>0</td>\n      <td>0</td>\n      <td>1</td>\n      <td>0</td>\n      <td>1</td>\n      <td>0</td>\n      <td>1</td>\n      <td>1</td>\n      <td>0</td>\n    </tr>\n    <tr>\n      <th>3</th>\n      <td>600.0</td>\n      <td>2</td>\n      <td>2.0</td>\n      <td>1.0</td>\n      <td>4200000</td>\n      <td>0</td>\n      <td>1</td>\n      <td>0</td>\n      <td>0</td>\n      <td>0</td>\n      <td>...</td>\n      <td>0</td>\n      <td>0</td>\n      <td>0</td>\n      <td>0</td>\n      <td>0</td>\n      <td>1</td>\n      <td>0</td>\n      <td>1</td>\n      <td>0</td>\n      <td>1</td>\n    </tr>\n    <tr>\n      <th>4</th>\n      <td>650.0</td>\n      <td>2</td>\n      <td>2.0</td>\n      <td>1.0</td>\n      <td>6200000</td>\n      <td>0</td>\n      <td>1</td>\n      <td>0</td>\n      <td>0</td>\n      <td>0</td>\n      <td>...</td>\n      <td>0</td>\n      <td>0</td>\n      <td>0</td>\n      <td>1</td>\n      <td>0</td>\n      <td>1</td>\n      <td>1</td>\n      <td>0</td>\n      <td>0</td>\n      <td>1</td>\n    </tr>\n    <tr>\n      <th>5</th>\n      <td>1300.0</td>\n      <td>4</td>\n      <td>3.0</td>\n      <td>1.0</td>\n      <td>15500000</td>\n      <td>0</td>\n      <td>1</td>\n      <td>0</td>\n      <td>0</td>\n      <td>0</td>\n      <td>...</td>\n      <td>0</td>\n      <td>0</td>\n      <td>0</td>\n      <td>0</td>\n      <td>0</td>\n      <td>1</td>\n      <td>1</td>\n      <td>0</td>\n      <td>0</td>\n      <td>1</td>\n    </tr>\n  </tbody>\n</table>\n<p>5 rows × 157 columns</p>\n</div>"
     },
     "metadata": {},
     "execution_count": 53
    }
   ],
   "source": [
    "df_final_en.head()"
   ]
  },
  {
   "cell_type": "code",
   "execution_count": 54,
   "metadata": {},
   "outputs": [
    {
     "output_type": "execute_result",
     "data": {
      "text/plain": [
       "                   Area       BHK  Bathroom   Parking     Price  Furnished  \\\n",
       "Area           1.000000  0.467155  0.521879  0.019436  0.557266  -0.053864   \n",
       "BHK            0.467155  1.000000  0.816768 -0.055509  0.607505   0.046844   \n",
       "Bathroom       0.521879  0.816768  1.000000 -0.003248  0.727241  -0.038220   \n",
       "Parking        0.019436 -0.055509 -0.003248  1.000000  0.056035  -0.032120   \n",
       "Price          0.557266  0.607505  0.727241  0.056035  1.000000  -0.061194   \n",
       "...                 ...       ...       ...       ...       ...        ...   \n",
       "Ready_to_move -0.171653 -0.123871 -0.137773  0.014637 -0.192979  -0.013002   \n",
       "New_Property   0.123594  0.166840  0.199662 -0.041758  0.217395  -0.126483   \n",
       "Resale        -0.123594 -0.166840 -0.199662  0.041758 -0.217395   0.126483   \n",
       "Apartment     -0.102466 -0.129672 -0.132910  0.049894 -0.111469   0.031492   \n",
       "Builder_Floor  0.102466  0.129672  0.132910 -0.049894  0.111469  -0.031492   \n",
       "\n",
       "               Semi-Furnished  Unfurnished  \\\n",
       "Area                 0.074275    -0.039808   \n",
       "BHK                  0.089935    -0.133195   \n",
       "Bathroom             0.109420    -0.089839   \n",
       "Parking             -0.077468     0.108489   \n",
       "Price                0.064496    -0.023629   \n",
       "...                       ...          ...   \n",
       "Ready_to_move        0.068115    -0.064109   \n",
       "New_Property         0.166249    -0.084612   \n",
       "Resale              -0.166249     0.084612   \n",
       "Apartment           -0.105104     0.090254   \n",
       "Builder_Floor        0.105104    -0.090254   \n",
       "\n",
       "               APL Builder Floor, Greater Kailash 1  \\\n",
       "Area                                       0.030613   \n",
       "BHK                                        0.057133   \n",
       "Bathroom                                   0.016960   \n",
       "Parking                                   -0.010355   \n",
       "Price                                      0.061371   \n",
       "...                                             ...   \n",
       "Ready_to_move                              0.012094   \n",
       "New_Property                               0.055891   \n",
       "Resale                                    -0.055891   \n",
       "Apartment                                 -0.041132   \n",
       "Builder_Floor                              0.041132   \n",
       "\n",
       "               Abul Fazal Enclave Part 1, Okhla  ...  \\\n",
       "Area                                  -0.017056  ...   \n",
       "BHK                                   -0.014766  ...   \n",
       "Bathroom                              -0.046412  ...   \n",
       "Parking                               -0.010355  ...   \n",
       "Price                                 -0.028556  ...   \n",
       "...                                         ...  ...   \n",
       "Ready_to_move                          0.012094  ...   \n",
       "New_Property                           0.009443  ...   \n",
       "Resale                                -0.009443  ...   \n",
       "Apartment                             -0.041132  ...   \n",
       "Builder_Floor                          0.041132  ...   \n",
       "\n",
       "               Virat Residency, Dwarka Mor  Yamuna Apartment, Alaknanda  \\\n",
       "Area                             -0.017655                    -0.006463   \n",
       "BHK                               0.011274                    -0.038732   \n",
       "Bathroom                         -0.030987                    -0.025288   \n",
       "Parking                          -0.012688                    -0.010355   \n",
       "Price                            -0.036362                    -0.012609   \n",
       "...                                    ...                          ...   \n",
       "Ready_to_move                     0.014820                     0.012094   \n",
       "New_Property                      0.068488                    -0.037005   \n",
       "Resale                           -0.068488                     0.037005   \n",
       "Apartment                         0.061616                     0.050283   \n",
       "Builder_Floor                    -0.061616                    -0.050283   \n",
       "\n",
       "               Yamuna Vihar, Shahdara     other  Almost_ready  Ready_to_move  \\\n",
       "Area                        -0.041035 -0.054333      0.171653      -0.171653   \n",
       "BHK                          0.032923 -0.051883      0.123871      -0.123871   \n",
       "Bathroom                    -0.072347 -0.084376      0.137773      -0.137773   \n",
       "Parking                     -0.027772 -0.008427     -0.014637       0.014637   \n",
       "Price                       -0.034625 -0.065501      0.192979      -0.192979   \n",
       "...                               ...       ...           ...            ...   \n",
       "Ready_to_move                0.043276  0.092867     -1.000000       1.000000   \n",
       "New_Property                -0.079231 -0.134606      0.250430      -0.250430   \n",
       "Resale                       0.079231  0.134606     -0.250430       0.250430   \n",
       "Apartment                   -0.094847  0.117494      0.085220      -0.085220   \n",
       "Builder_Floor                0.094847 -0.117494     -0.085220       0.085220   \n",
       "\n",
       "               New_Property    Resale  Apartment  Builder_Floor  \n",
       "Area               0.123594 -0.123594  -0.102466       0.102466  \n",
       "BHK                0.166840 -0.166840  -0.129672       0.129672  \n",
       "Bathroom           0.199662 -0.199662  -0.132910       0.132910  \n",
       "Parking           -0.041758  0.041758   0.049894      -0.049894  \n",
       "Price              0.217395 -0.217395  -0.111469       0.111469  \n",
       "...                     ...       ...        ...            ...  \n",
       "Ready_to_move     -0.250430  0.250430  -0.085220       0.085220  \n",
       "New_Property       1.000000 -1.000000  -0.193560       0.193560  \n",
       "Resale            -1.000000  1.000000   0.193560      -0.193560  \n",
       "Apartment         -0.193560  0.193560   1.000000      -1.000000  \n",
       "Builder_Floor      0.193560 -0.193560  -1.000000       1.000000  \n",
       "\n",
       "[157 rows x 157 columns]"
      ],
      "text/html": "<div>\n<style scoped>\n    .dataframe tbody tr th:only-of-type {\n        vertical-align: middle;\n    }\n\n    .dataframe tbody tr th {\n        vertical-align: top;\n    }\n\n    .dataframe thead th {\n        text-align: right;\n    }\n</style>\n<table border=\"1\" class=\"dataframe\">\n  <thead>\n    <tr style=\"text-align: right;\">\n      <th></th>\n      <th>Area</th>\n      <th>BHK</th>\n      <th>Bathroom</th>\n      <th>Parking</th>\n      <th>Price</th>\n      <th>Furnished</th>\n      <th>Semi-Furnished</th>\n      <th>Unfurnished</th>\n      <th>APL Builder Floor, Greater Kailash 1</th>\n      <th>Abul Fazal Enclave Part 1, Okhla</th>\n      <th>...</th>\n      <th>Virat Residency, Dwarka Mor</th>\n      <th>Yamuna Apartment, Alaknanda</th>\n      <th>Yamuna Vihar, Shahdara</th>\n      <th>other</th>\n      <th>Almost_ready</th>\n      <th>Ready_to_move</th>\n      <th>New_Property</th>\n      <th>Resale</th>\n      <th>Apartment</th>\n      <th>Builder_Floor</th>\n    </tr>\n  </thead>\n  <tbody>\n    <tr>\n      <th>Area</th>\n      <td>1.000000</td>\n      <td>0.467155</td>\n      <td>0.521879</td>\n      <td>0.019436</td>\n      <td>0.557266</td>\n      <td>-0.053864</td>\n      <td>0.074275</td>\n      <td>-0.039808</td>\n      <td>0.030613</td>\n      <td>-0.017056</td>\n      <td>...</td>\n      <td>-0.017655</td>\n      <td>-0.006463</td>\n      <td>-0.041035</td>\n      <td>-0.054333</td>\n      <td>0.171653</td>\n      <td>-0.171653</td>\n      <td>0.123594</td>\n      <td>-0.123594</td>\n      <td>-0.102466</td>\n      <td>0.102466</td>\n    </tr>\n    <tr>\n      <th>BHK</th>\n      <td>0.467155</td>\n      <td>1.000000</td>\n      <td>0.816768</td>\n      <td>-0.055509</td>\n      <td>0.607505</td>\n      <td>0.046844</td>\n      <td>0.089935</td>\n      <td>-0.133195</td>\n      <td>0.057133</td>\n      <td>-0.014766</td>\n      <td>...</td>\n      <td>0.011274</td>\n      <td>-0.038732</td>\n      <td>0.032923</td>\n      <td>-0.051883</td>\n      <td>0.123871</td>\n      <td>-0.123871</td>\n      <td>0.166840</td>\n      <td>-0.166840</td>\n      <td>-0.129672</td>\n      <td>0.129672</td>\n    </tr>\n    <tr>\n      <th>Bathroom</th>\n      <td>0.521879</td>\n      <td>0.816768</td>\n      <td>1.000000</td>\n      <td>-0.003248</td>\n      <td>0.727241</td>\n      <td>-0.038220</td>\n      <td>0.109420</td>\n      <td>-0.089839</td>\n      <td>0.016960</td>\n      <td>-0.046412</td>\n      <td>...</td>\n      <td>-0.030987</td>\n      <td>-0.025288</td>\n      <td>-0.072347</td>\n      <td>-0.084376</td>\n      <td>0.137773</td>\n      <td>-0.137773</td>\n      <td>0.199662</td>\n      <td>-0.199662</td>\n      <td>-0.132910</td>\n      <td>0.132910</td>\n    </tr>\n    <tr>\n      <th>Parking</th>\n      <td>0.019436</td>\n      <td>-0.055509</td>\n      <td>-0.003248</td>\n      <td>1.000000</td>\n      <td>0.056035</td>\n      <td>-0.032120</td>\n      <td>-0.077468</td>\n      <td>0.108489</td>\n      <td>-0.010355</td>\n      <td>-0.010355</td>\n      <td>...</td>\n      <td>-0.012688</td>\n      <td>-0.010355</td>\n      <td>-0.027772</td>\n      <td>-0.008427</td>\n      <td>-0.014637</td>\n      <td>0.014637</td>\n      <td>-0.041758</td>\n      <td>0.041758</td>\n      <td>0.049894</td>\n      <td>-0.049894</td>\n    </tr>\n    <tr>\n      <th>Price</th>\n      <td>0.557266</td>\n      <td>0.607505</td>\n      <td>0.727241</td>\n      <td>0.056035</td>\n      <td>1.000000</td>\n      <td>-0.061194</td>\n      <td>0.064496</td>\n      <td>-0.023629</td>\n      <td>0.061371</td>\n      <td>-0.028556</td>\n      <td>...</td>\n      <td>-0.036362</td>\n      <td>-0.012609</td>\n      <td>-0.034625</td>\n      <td>-0.065501</td>\n      <td>0.192979</td>\n      <td>-0.192979</td>\n      <td>0.217395</td>\n      <td>-0.217395</td>\n      <td>-0.111469</td>\n      <td>0.111469</td>\n    </tr>\n    <tr>\n      <th>...</th>\n      <td>...</td>\n      <td>...</td>\n      <td>...</td>\n      <td>...</td>\n      <td>...</td>\n      <td>...</td>\n      <td>...</td>\n      <td>...</td>\n      <td>...</td>\n      <td>...</td>\n      <td>...</td>\n      <td>...</td>\n      <td>...</td>\n      <td>...</td>\n      <td>...</td>\n      <td>...</td>\n      <td>...</td>\n      <td>...</td>\n      <td>...</td>\n      <td>...</td>\n      <td>...</td>\n    </tr>\n    <tr>\n      <th>Ready_to_move</th>\n      <td>-0.171653</td>\n      <td>-0.123871</td>\n      <td>-0.137773</td>\n      <td>0.014637</td>\n      <td>-0.192979</td>\n      <td>-0.013002</td>\n      <td>0.068115</td>\n      <td>-0.064109</td>\n      <td>0.012094</td>\n      <td>0.012094</td>\n      <td>...</td>\n      <td>0.014820</td>\n      <td>0.012094</td>\n      <td>0.043276</td>\n      <td>0.092867</td>\n      <td>-1.000000</td>\n      <td>1.000000</td>\n      <td>-0.250430</td>\n      <td>0.250430</td>\n      <td>-0.085220</td>\n      <td>0.085220</td>\n    </tr>\n    <tr>\n      <th>New_Property</th>\n      <td>0.123594</td>\n      <td>0.166840</td>\n      <td>0.199662</td>\n      <td>-0.041758</td>\n      <td>0.217395</td>\n      <td>-0.126483</td>\n      <td>0.166249</td>\n      <td>-0.084612</td>\n      <td>0.055891</td>\n      <td>0.009443</td>\n      <td>...</td>\n      <td>0.068488</td>\n      <td>-0.037005</td>\n      <td>-0.079231</td>\n      <td>-0.134606</td>\n      <td>0.250430</td>\n      <td>-0.250430</td>\n      <td>1.000000</td>\n      <td>-1.000000</td>\n      <td>-0.193560</td>\n      <td>0.193560</td>\n    </tr>\n    <tr>\n      <th>Resale</th>\n      <td>-0.123594</td>\n      <td>-0.166840</td>\n      <td>-0.199662</td>\n      <td>0.041758</td>\n      <td>-0.217395</td>\n      <td>0.126483</td>\n      <td>-0.166249</td>\n      <td>0.084612</td>\n      <td>-0.055891</td>\n      <td>-0.009443</td>\n      <td>...</td>\n      <td>-0.068488</td>\n      <td>0.037005</td>\n      <td>0.079231</td>\n      <td>0.134606</td>\n      <td>-0.250430</td>\n      <td>0.250430</td>\n      <td>-1.000000</td>\n      <td>1.000000</td>\n      <td>0.193560</td>\n      <td>-0.193560</td>\n    </tr>\n    <tr>\n      <th>Apartment</th>\n      <td>-0.102466</td>\n      <td>-0.129672</td>\n      <td>-0.132910</td>\n      <td>0.049894</td>\n      <td>-0.111469</td>\n      <td>0.031492</td>\n      <td>-0.105104</td>\n      <td>0.090254</td>\n      <td>-0.041132</td>\n      <td>-0.041132</td>\n      <td>...</td>\n      <td>0.061616</td>\n      <td>0.050283</td>\n      <td>-0.094847</td>\n      <td>0.117494</td>\n      <td>0.085220</td>\n      <td>-0.085220</td>\n      <td>-0.193560</td>\n      <td>0.193560</td>\n      <td>1.000000</td>\n      <td>-1.000000</td>\n    </tr>\n    <tr>\n      <th>Builder_Floor</th>\n      <td>0.102466</td>\n      <td>0.129672</td>\n      <td>0.132910</td>\n      <td>-0.049894</td>\n      <td>0.111469</td>\n      <td>-0.031492</td>\n      <td>0.105104</td>\n      <td>-0.090254</td>\n      <td>0.041132</td>\n      <td>0.041132</td>\n      <td>...</td>\n      <td>-0.061616</td>\n      <td>-0.050283</td>\n      <td>0.094847</td>\n      <td>-0.117494</td>\n      <td>-0.085220</td>\n      <td>0.085220</td>\n      <td>0.193560</td>\n      <td>-0.193560</td>\n      <td>-1.000000</td>\n      <td>1.000000</td>\n    </tr>\n  </tbody>\n</table>\n<p>157 rows × 157 columns</p>\n</div>"
     },
     "metadata": {},
     "execution_count": 54
    }
   ],
   "source": [
    "df_final_en.corr()"
   ]
  },
  {
   "cell_type": "code",
   "execution_count": 55,
   "metadata": {},
   "outputs": [
    {
     "output_type": "execute_result",
     "data": {
      "text/plain": [
       "(969, 157)"
      ]
     },
     "metadata": {},
     "execution_count": 55
    }
   ],
   "source": [
    "df_final_en.shape"
   ]
  },
  {
   "source": [
    "## Feature Selection and Scaling\n",
    " \n",
    " (Scaling requied for models which involve Distance,Gradient  eg)\n"
   ],
   "cell_type": "markdown",
   "metadata": {}
  },
  {
   "cell_type": "code",
   "execution_count": 56,
   "metadata": {},
   "outputs": [],
   "source": [
    "from sklearn.model_selection import train_test_split\n",
    "from sklearn import preprocessing\n",
    "from sklearn.preprocessing import StandardScaler\n",
    "from sklearn.preprocessing import MinMaxScaler"
   ]
  },
  {
   "cell_type": "code",
   "execution_count": 57,
   "metadata": {},
   "outputs": [],
   "source": [
    "x = df_final_en.drop(columns=['Price'])\n",
    "y = df_final_en['Price']"
   ]
  },
  {
   "source": [
    "scale = StandardScaler()\n",
    "x = scale.fit_transform(x)"
   ],
   "cell_type": "code",
   "metadata": {},
   "execution_count": 58,
   "outputs": []
  },
  {
   "source": [
    "x_train,x_test,y_train,y_test = train_test_split(x,y,test_size=0.25,random_state=42)"
   ],
   "cell_type": "code",
   "metadata": {},
   "execution_count": 59,
   "outputs": []
  },
  {
   "cell_type": "code",
   "execution_count": 60,
   "metadata": {},
   "outputs": [
    {
     "output_type": "stream",
     "name": "stdout",
     "text": [
      "(726, 156)\n(726,)\n"
     ]
    }
   ],
   "source": [
    "print(x_train.shape)\n",
    "print(y_train.shape)"
   ]
  },
  {
   "source": [
    "# Model Training\n",
    "\n",
    "As i know that my dataset has many outlier so I will try to select such model which are less sensitive towards outliers."
   ],
   "cell_type": "markdown",
   "metadata": {}
  },
  {
   "cell_type": "code",
   "execution_count": 61,
   "metadata": {},
   "outputs": [],
   "source": [
    "from sklearn.model_selection import cross_val_score"
   ]
  },
  {
   "cell_type": "code",
   "execution_count": 62,
   "metadata": {},
   "outputs": [
    {
     "output_type": "stream",
     "name": "stdout",
     "text": [
      "The training Data accuracy: 0.9996438391423799\nThe test Data accuracy: 0.6233423725857472\n"
     ]
    }
   ],
   "source": [
    "from sklearn.tree  import DecisionTreeRegressor\n",
    "decision=DecisionTreeRegressor()\n",
    "#start = time()\n",
    "dtr = decision.fit(x_train, y_train)\n",
    "#end=time()\n",
    "#train_time_dec=end-start\n",
    "print('The training Data accuracy:',dtr.score(x_train,y_train))\n",
    "print('The test Data accuracy:',dtr.score(x_test,y_test))"
   ]
  },
  {
   "source": [
    "The above model is overfitting so i will use ensemble models"
   ],
   "cell_type": "markdown",
   "metadata": {}
  },
  {
   "source": [
    "### 1. Random FOrest Regressor (base model)"
   ],
   "cell_type": "markdown",
   "metadata": {}
  },
  {
   "source": [
    "from sklearn.ensemble import RandomForestRegressor\n"
   ],
   "cell_type": "code",
   "metadata": {},
   "execution_count": 63,
   "outputs": []
  },
  {
   "cell_type": "code",
   "execution_count": 64,
   "metadata": {},
   "outputs": [
    {
     "output_type": "execute_result",
     "data": {
      "text/plain": [
       "RandomForestRegressor()"
      ]
     },
     "metadata": {},
     "execution_count": 64
    }
   ],
   "source": [
    "rand = RandomForestRegressor()\n",
    "rand.fit(x_train,y_train)"
   ]
  },
  {
   "cell_type": "code",
   "execution_count": 65,
   "metadata": {},
   "outputs": [
    {
     "output_type": "stream",
     "name": "stdout",
     "text": [
      "The training Data accuracy: 0.9649636168976166\nThe test Data accuracy: 0.8285415476922479\n"
     ]
    }
   ],
   "source": [
    "print('The training Data accuracy:',rand.score(x_train,y_train))\n",
    "print('The test Data accuracy:',rand.score(x_test,y_test))"
   ]
  },
  {
   "cell_type": "code",
   "execution_count": 66,
   "metadata": {},
   "outputs": [
    {
     "output_type": "stream",
     "name": "stdout",
     "text": [
      "[0.80044442 0.8063876  0.88771923 0.8099328  0.71551016]\n"
     ]
    }
   ],
   "source": [
    "# StratifiedKFold (best)\n",
    "from sklearn.model_selection import StratifiedKFold\n",
    "skfold=StratifiedKFold(n_splits=5)\n",
    "rand1 = RandomForestRegressor()\n",
    "scores=cross_val_score(rand1,x,y,cv=skfold)\n",
    "print(scores)"
   ]
  },
  {
   "source": [
    "## 2. XGBoost (base model boosting)"
   ],
   "cell_type": "markdown",
   "metadata": {}
  },
  {
   "cell_type": "code",
   "execution_count": 67,
   "metadata": {},
   "outputs": [],
   "source": [
    "import xgboost as xgb\n",
    "from xgboost.sklearn import XGBRegressor"
   ]
  },
  {
   "cell_type": "code",
   "execution_count": 91,
   "metadata": {},
   "outputs": [],
   "source": [
    "xg = XGBRegressor(n_estimators=1000, max_depth=7, eta=0.1, subsample=0.7, colsample_bytree=0.8)\n"
   ]
  },
  {
   "cell_type": "code",
   "execution_count": 92,
   "metadata": {},
   "outputs": [
    {
     "output_type": "execute_result",
     "data": {
      "text/plain": [
       "XGBRegressor(base_score=0.5, booster='gbtree', colsample_bylevel=1,\n",
       "             colsample_bynode=1, colsample_bytree=0.8, eta=0.1, gamma=0,\n",
       "             gpu_id=-1, importance_type='gain', interaction_constraints='',\n",
       "             learning_rate=0.100000001, max_delta_step=0, max_depth=7,\n",
       "             min_child_weight=1, missing=nan, monotone_constraints='()',\n",
       "             n_estimators=1000, n_jobs=8, num_parallel_tree=1, random_state=0,\n",
       "             reg_alpha=0, reg_lambda=1, scale_pos_weight=1, subsample=0.7,\n",
       "             tree_method='exact', validate_parameters=1, verbosity=None)"
      ]
     },
     "metadata": {},
     "execution_count": 92
    }
   ],
   "source": [
    "xg.fit(x_train,y_train)"
   ]
  },
  {
   "cell_type": "code",
   "execution_count": 93,
   "metadata": {},
   "outputs": [
    {
     "output_type": "stream",
     "name": "stdout",
     "text": [
      "The training Data accuracy: 0.9994779616620486\nThe test Data accuracy: 0.8872360235840229\n"
     ]
    }
   ],
   "source": [
    "print('The training Data accuracy:',xg.score(x_train,y_train))\n",
    "print('The test Data accuracy:',xg.score(x_test,y_test))"
   ]
  },
  {
   "source": [
    "### Hyperparameter Tunning (XGBOOST Regressor)"
   ],
   "cell_type": "markdown",
   "metadata": {}
  },
  {
   "cell_type": "code",
   "execution_count": 96,
   "metadata": {},
   "outputs": [],
   "source": [
    "from sklearn.model_selection import GridSearchCV\n",
    "def hyperParameterTuning(x_train, y_train):\n",
    "    param_tuning = {\n",
    "        'learning_rate': [0.01, 0.1],\n",
    "        'max_depth': [3, 5, 7, 10],\n",
    "        'min_child_weight': [1, 3, 5],\n",
    "        'subsample': [0.5, 0.7],\n",
    "        'colsample_bytree': [0.5, 0.7],\n",
    "        'n_estimators' : [100, 200, 500],\n",
    "        'objective': ['reg:squarederror']\n",
    "    }\n",
    "\n",
    "    xgb_model = XGBRegressor()\n",
    "\n",
    "    gsearch = GridSearchCV(estimator = xgb_model,\n",
    "                           param_grid = param_tuning,                        \n",
    "                           #scoring = 'neg_mean_absolute_error', #MAE\n",
    "                           #scoring = 'neg_mean_squared_error',  #MSE\n",
    "                           cv = 5,\n",
    "                           n_jobs = -1,\n",
    "                           verbose = 1)\n",
    "\n",
    "    gsearch.fit(x_train,y_train)\n",
    "\n",
    "    return gsearch.best_params_"
   ]
  },
  {
   "cell_type": "code",
   "execution_count": 97,
   "metadata": {},
   "outputs": [
    {
     "output_type": "stream",
     "name": "stdout",
     "text": [
      "Fitting 5 folds for each of 288 candidates, totalling 1440 fits\n",
      "[Parallel(n_jobs=-1)]: Using backend LokyBackend with 8 concurrent workers.\n",
      "[Parallel(n_jobs=-1)]: Done  34 tasks      | elapsed:   12.2s\n",
      "[Parallel(n_jobs=-1)]: Done 184 tasks      | elapsed:   55.4s\n",
      "[Parallel(n_jobs=-1)]: Done 434 tasks      | elapsed:  2.6min\n",
      "[Parallel(n_jobs=-1)]: Done 784 tasks      | elapsed:  4.9min\n",
      "[Parallel(n_jobs=-1)]: Done 1234 tasks      | elapsed:  8.3min\n",
      "[Parallel(n_jobs=-1)]: Done 1440 out of 1440 | elapsed: 10.2min finished\n"
     ]
    },
    {
     "output_type": "execute_result",
     "data": {
      "text/plain": [
       "{'colsample_bytree': 0.5,\n",
       " 'learning_rate': 0.1,\n",
       " 'max_depth': 3,\n",
       " 'min_child_weight': 1,\n",
       " 'n_estimators': 500,\n",
       " 'objective': 'reg:squarederror',\n",
       " 'subsample': 0.7}"
      ]
     },
     "metadata": {},
     "execution_count": 97
    }
   ],
   "source": [
    "hyperParameterTuning(x_train, y_train)"
   ]
  },
  {
   "cell_type": "code",
   "execution_count": 98,
   "metadata": {},
   "outputs": [],
   "source": [
    "xgb_model = XGBRegressor(\n",
    "        objective = 'reg:squarederror',\n",
    "        colsample_bytree = 0.5,\n",
    "        learning_rate = 0.1,\n",
    "        max_depth = 3,\n",
    "        min_child_weight = 1,\n",
    "        n_estimators = 500,\n",
    "        subsample = 0.7)"
   ]
  },
  {
   "cell_type": "code",
   "execution_count": 99,
   "metadata": {},
   "outputs": [
    {
     "output_type": "execute_result",
     "data": {
      "text/plain": [
       "XGBRegressor(base_score=0.5, booster='gbtree', colsample_bylevel=1,\n",
       "             colsample_bynode=1, colsample_bytree=0.5, gamma=0, gpu_id=-1,\n",
       "             importance_type='gain', interaction_constraints='',\n",
       "             learning_rate=0.1, max_delta_step=0, max_depth=3,\n",
       "             min_child_weight=1, missing=nan, monotone_constraints='()',\n",
       "             n_estimators=500, n_jobs=8, num_parallel_tree=1, random_state=0,\n",
       "             reg_alpha=0, reg_lambda=1, scale_pos_weight=1, subsample=0.7,\n",
       "             tree_method='exact', validate_parameters=1, verbosity=None)"
      ]
     },
     "metadata": {},
     "execution_count": 99
    }
   ],
   "source": [
    "xgb_model.fit(x_train, y_train)"
   ]
  },
  {
   "cell_type": "code",
   "execution_count": 100,
   "metadata": {},
   "outputs": [
    {
     "output_type": "stream",
     "name": "stdout",
     "text": [
      "The training Data accuracy: 0.9730599333983871\nThe test Data accuracy: 0.8783015285330915\n"
     ]
    }
   ],
   "source": [
    "print('The training Data accuracy:',xgb_model.score(x_train,y_train))\n",
    "print('The test Data accuracy:',xgb_model.score(x_test,y_test))"
   ]
  },
  {
   "source": [
    "### Cross Validations kfold / stratifiedKFold\n",
    "\n",
    " As i am stating my model accuracy to the stakeholders then i can not just say a accuracy then i used cross-Validations method to get range of accuracy"
   ],
   "cell_type": "markdown",
   "metadata": {}
  },
  {
   "source": [
    "# KFold method\n",
    "from sklearn.model_selection import KFold\n",
    "xg=XGBRegressor()\n",
    "kfold_validation=KFold(10)\n",
    "\n",
    "\n",
    "#from sklearn.model_selection import cross_val_score\n",
    "results=cross_val_score(xg,x,y,cv=kfold_validation)\n",
    "print(results)\n",
    "print(np.mean(results))"
   ],
   "cell_type": "markdown",
   "metadata": {}
  },
  {
   "cell_type": "code",
   "execution_count": 72,
   "metadata": {},
   "outputs": [
    {
     "output_type": "stream",
     "name": "stdout",
     "text": [
      "[0.79461074 0.86147479 0.93244435 0.74651577 0.78138733]\n"
     ]
    }
   ],
   "source": [
    "# StratifiedKFold (best)\n",
    "from sklearn.model_selection import StratifiedKFold\n",
    "skfold=StratifiedKFold(n_splits=5)\n",
    "xg1=XGBRegressor()\n",
    "scores=cross_val_score(xg1,x,y,cv=skfold)\n",
    "print(scores)"
   ]
  },
  {
   "cell_type": "code",
   "execution_count": 76,
   "metadata": {},
   "outputs": [
    {
     "output_type": "execute_result",
     "data": {
      "text/plain": [
       "array([0.81706452, 0.79180822, 0.79077121, 0.81941426, 0.8622063 ,\n",
       "       0.86851217, 0.8254654 , 0.75792921, 0.89543342, 0.72002339])"
      ]
     },
     "metadata": {},
     "execution_count": 76
    }
   ],
   "source": [
    "from sklearn.model_selection import ShuffleSplit\n",
    "xg2=XGBRegressor()\n",
    "ssplit=ShuffleSplit(n_splits=10,test_size=0.30)\n",
    "results=cross_val_score(xg2,x,y,cv=ssplit)\n",
    "results"
   ]
  },
  {
   "source": [
    "### 3. Tried Ridge and lasso (l1 and l2 regularisation)"
   ],
   "cell_type": "markdown",
   "metadata": {}
  },
  {
   "cell_type": "code",
   "execution_count": 77,
   "metadata": {},
   "outputs": [
    {
     "output_type": "execute_result",
     "data": {
      "text/plain": [
       "Ridge()"
      ]
     },
     "metadata": {},
     "execution_count": 77
    }
   ],
   "source": [
    "from sklearn.linear_model import Ridge\n",
    "rd = Ridge()\n",
    "rd.fit(x_train,y_train)"
   ]
  },
  {
   "cell_type": "code",
   "execution_count": 78,
   "metadata": {},
   "outputs": [
    {
     "output_type": "stream",
     "name": "stdout",
     "text": [
      "The training Data accuracy: 0.8154257682204588\nThe test Data accuracy: 0.7751895744863864\n"
     ]
    }
   ],
   "source": [
    "print('The training Data accuracy:',rd.score(x_train,y_train))\n",
    "print('The test Data accuracy:',rd.score(x_test,y_test))"
   ]
  },
  {
   "cell_type": "code",
   "execution_count": 79,
   "metadata": {},
   "outputs": [
    {
     "output_type": "execute_result",
     "data": {
      "text/plain": [
       "Lasso()"
      ]
     },
     "metadata": {},
     "execution_count": 79
    }
   ],
   "source": [
    "from sklearn.linear_model import Lasso\n",
    "ls = Lasso()\n",
    "ls.fit(x_train,y_train)"
   ]
  },
  {
   "cell_type": "code",
   "execution_count": 80,
   "metadata": {},
   "outputs": [
    {
     "output_type": "stream",
     "name": "stdout",
     "text": [
      "The training Data accuracy: 0.815427029517917\nThe test Data accuracy: 0.7753097665687607\n"
     ]
    }
   ],
   "source": [
    "print('The training Data accuracy:',ls.score(x_train,y_train))\n",
    "print('The test Data accuracy:',ls.score(x_test,y_test))"
   ]
  },
  {
   "source": [
    "### 4. LightGBM"
   ],
   "cell_type": "markdown",
   "metadata": {}
  },
  {
   "cell_type": "code",
   "execution_count": 81,
   "metadata": {},
   "outputs": [],
   "source": [
    "import lightgbm as lgb"
   ]
  },
  {
   "cell_type": "code",
   "execution_count": 380,
   "metadata": {},
   "outputs": [],
   "source": [
    "#df = df.rename(columns = lambda x:re.sub('[^A-Za-z0-9_]+', '', x))"
   ]
  },
  {
   "cell_type": "code",
   "execution_count": 82,
   "metadata": {},
   "outputs": [
    {
     "output_type": "execute_result",
     "data": {
      "text/plain": [
       "LGBMRegressor()"
      ]
     },
     "metadata": {},
     "execution_count": 82
    }
   ],
   "source": [
    "clf = lgb.LGBMRegressor()\n",
    "clf.fit(x_train, y_train)"
   ]
  },
  {
   "cell_type": "code",
   "execution_count": 83,
   "metadata": {},
   "outputs": [
    {
     "output_type": "stream",
     "name": "stdout",
     "text": [
      "The training Data accuracy: 0.8410087282818203\nThe test Data accuracy: 0.7596629465824446\n"
     ]
    }
   ],
   "source": [
    "print('The training Data accuracy:',clf.score(x_train,y_train))\n",
    "print('The test Data accuracy:',clf.score(x_test,y_test))"
   ]
  },
  {
   "cell_type": "code",
   "execution_count": 84,
   "metadata": {},
   "outputs": [
    {
     "output_type": "stream",
     "name": "stdout",
     "text": [
      "[0.75960267 0.76737394 0.77709935 0.74966052 0.59413762]\n"
     ]
    }
   ],
   "source": [
    "# StratifiedKFold (best)\n",
    "from sklearn.model_selection import StratifiedKFold\n",
    "skfold=StratifiedKFold(n_splits=5)\n",
    "clf1 = lgb.LGBMRegressor()\n",
    "scores=cross_val_score(clf1,x,y,cv=skfold)\n",
    "print(scores)"
   ]
  },
  {
   "source": [
    "### 5. Adaboost\n"
   ],
   "cell_type": "markdown",
   "metadata": {}
  },
  {
   "cell_type": "code",
   "execution_count": 85,
   "metadata": {},
   "outputs": [],
   "source": [
    "from sklearn.ensemble import AdaBoostRegressor"
   ]
  },
  {
   "cell_type": "code",
   "execution_count": 86,
   "metadata": {},
   "outputs": [
    {
     "output_type": "stream",
     "name": "stdout",
     "text": [
      "The training Data accuracy: 0.8116543176559504\n",
      "The test Data accuracy: 0.7700300579146491\n"
     ]
    }
   ],
   "source": [
    "#n_estimators: It controls the number of weak learners.\n",
    "#learning_rate:Controls the contribution of weak learners in the final combination. There is a trade-off between learning_rate and n_estimators.\n",
    "#base_estimators: It helps to specify different ML algorithm. By default sklearn uses decision tree\n",
    "adaboost_regressor = AdaBoostRegressor(n_estimators=1500, learning_rate = 0.001, loss='exponential')\n",
    "ada_model = adaboost_regressor.fit(x_train, y_train)\n",
    "prediction_test_ada = ada_model.predict(x_test)\n",
    "\n",
    "\n",
    "print('The training Data accuracy:',ada_model.score(x_train,y_train))\n",
    "print('The test Data accuracy:',ada_model.score(x_test,y_test))"
   ]
  },
  {
   "source": [
    "### 6. GradientBoostingRegressor"
   ],
   "cell_type": "markdown",
   "metadata": {}
  },
  {
   "cell_type": "code",
   "execution_count": 87,
   "metadata": {},
   "outputs": [],
   "source": [
    "from sklearn.ensemble import GradientBoostingRegressor\n",
    "\n",
    "###start = time()\n",
    "est=GradientBoostingRegressor(n_estimators=400, max_depth=5, loss='ls',min_samples_split=2,learning_rate=0.1).fit(x_train, y_train)\n",
    "#end=time()\n",
    "#train_time_g=end-start\n",
    "gradient=est.score(x_test,y_test)"
   ]
  },
  {
   "cell_type": "code",
   "execution_count": 88,
   "metadata": {},
   "outputs": [
    {
     "output_type": "stream",
     "name": "stdout",
     "text": [
      "The training Data accuracy: 0.9907997716824845\nThe test Data accuracy: 0.8517535766973363\n"
     ]
    }
   ],
   "source": [
    "print('The training Data accuracy:',est.score(x_train,y_train))\n",
    "print('The test Data accuracy:',est.score(x_test,y_test))"
   ]
  },
  {
   "cell_type": "code",
   "execution_count": 89,
   "metadata": {},
   "outputs": [
    {
     "output_type": "stream",
     "name": "stdout",
     "text": [
      "[0.83727051 0.80731342 0.90953988 0.81991652 0.78058482]\n"
     ]
    }
   ],
   "source": [
    "# StratifiedKFold (best)\n",
    "from sklearn.model_selection import StratifiedKFold\n",
    "skfold=StratifiedKFold(n_splits=5)\n",
    "est1=GradientBoostingRegressor()\n",
    "scores=cross_val_score(est1,x,y,cv=skfold)\n",
    "print(scores)"
   ]
  },
  {
   "cell_type": "code",
   "execution_count": 104,
   "metadata": {},
   "outputs": [
    {
     "output_type": "execute_result",
     "data": {
      "text/plain": [
       "               Model     Score\n",
       "5                XGB  0.887236\n",
       "0  Gradient Boosting  0.851754\n",
       "6      Random Forest  0.828542\n",
       "3   lasso Regression  0.775310\n",
       "4   Ridge Regression  0.775190\n",
       "1           AdaBoost  0.770030\n",
       "2           lightGBM  0.759663\n",
       "7      Decision Tree  0.623342"
      ],
      "text/html": "<div>\n<style scoped>\n    .dataframe tbody tr th:only-of-type {\n        vertical-align: middle;\n    }\n\n    .dataframe tbody tr th {\n        vertical-align: top;\n    }\n\n    .dataframe thead th {\n        text-align: right;\n    }\n</style>\n<table border=\"1\" class=\"dataframe\">\n  <thead>\n    <tr style=\"text-align: right;\">\n      <th></th>\n      <th>Model</th>\n      <th>Score</th>\n    </tr>\n  </thead>\n  <tbody>\n    <tr>\n      <th>5</th>\n      <td>XGB</td>\n      <td>0.887236</td>\n    </tr>\n    <tr>\n      <th>0</th>\n      <td>Gradient Boosting</td>\n      <td>0.851754</td>\n    </tr>\n    <tr>\n      <th>6</th>\n      <td>Random Forest</td>\n      <td>0.828542</td>\n    </tr>\n    <tr>\n      <th>3</th>\n      <td>lasso Regression</td>\n      <td>0.775310</td>\n    </tr>\n    <tr>\n      <th>4</th>\n      <td>Ridge Regression</td>\n      <td>0.775190</td>\n    </tr>\n    <tr>\n      <th>1</th>\n      <td>AdaBoost</td>\n      <td>0.770030</td>\n    </tr>\n    <tr>\n      <th>2</th>\n      <td>lightGBM</td>\n      <td>0.759663</td>\n    </tr>\n    <tr>\n      <th>7</th>\n      <td>Decision Tree</td>\n      <td>0.623342</td>\n    </tr>\n  </tbody>\n</table>\n</div>"
     },
     "metadata": {},
     "execution_count": 104
    }
   ],
   "source": [
    "# Comparing Models on the basis of Model's Accuracy Score of different models\n",
    "models_cross = pd.DataFrame({\n",
    "    'Model': ['Gradient Boosting','AdaBoost','lightGBM','lasso Regression','Ridge Regression','XGB','Random Forest','Decision Tree'],\n",
    "    'Score': [est.score(x_test,y_test),ada_model.score(x_test,y_test),clf.score(x_test,y_test),ls.score(x_test,y_test),rd.score(x_test,y_test)\n",
    "    ,xg.score(x_test,y_test),rand.score(x_test,y_test),dtr.score(x_test,y_test)]})\n",
    "\n",
    "models_cross.sort_values(by='Score', ascending=False)"
   ]
  },
  {
   "source": [
    "## According to all ensemble models **XGBOOST** is best fitting model for our required Use Case\n",
    "\n",
    "### For Further MOdel Productions and predictions i will use *XGBOOST* "
   ],
   "cell_type": "markdown",
   "metadata": {}
  },
  {
   "source": [
    "### My Results:\n",
    "\n",
    "I will Present my findings to the stakeholders and i will say that I got a working model for this use case having accuracy: <br> \n",
    "**Model accuracy ranging from 93% to 85%**"
   ],
   "cell_type": "markdown",
   "metadata": {}
  },
  {
   "source": [
    "Performance Matrix for Regression models: \n",
    "MSE,RMSE,R2"
   ],
   "cell_type": "markdown",
   "metadata": {}
  },
  {
   "cell_type": "code",
   "execution_count": null,
   "metadata": {},
   "outputs": [],
   "source": []
  }
 ]
}